{
 "cells": [
  {
   "cell_type": "code",
   "execution_count": 1,
   "metadata": {
    "collapsed": true
   },
   "outputs": [],
   "source": [
    "import pandas as pd"
   ]
  },
  {
   "cell_type": "code",
   "execution_count": 2,
   "metadata": {
    "collapsed": true
   },
   "outputs": [],
   "source": [
    "import numpy as np"
   ]
  },
  {
   "cell_type": "code",
   "execution_count": 176,
   "metadata": {
    "collapsed": false
   },
   "outputs": [],
   "source": [
    "%matplotlib inline\n",
    "import matplotlib.pylab as plt\n",
    "import seaborn as sns"
   ]
  },
  {
   "cell_type": "code",
   "execution_count": 4,
   "metadata": {
    "collapsed": false
   },
   "outputs": [
    {
     "data": {
      "text/html": [
       "<style>body {\n",
       "    margin: 0;\n",
       "    font-family: Helvetica;\n",
       "}\n",
       "table.dataframe {\n",
       "    border-collapse: collapse;\n",
       "    border: none;\n",
       "}\n",
       "table.dataframe tr {\n",
       "    border: none;\n",
       "}\n",
       "table.dataframe td, table.dataframe th {\n",
       "    margin: 0;\n",
       "    border: 1px solid white;\n",
       "    padding-left: 0.25em;\n",
       "    padding-right: 0.25em;\n",
       "}\n",
       "table.dataframe th:not(:empty) {\n",
       "    background-color: #fec;\n",
       "    text-align: left;\n",
       "    font-weight: normal;\n",
       "}\n",
       "table.dataframe tr:nth-child(2) th:empty {\n",
       "    border-left: none;\n",
       "    border-right: 1px dashed #888;\n",
       "}\n",
       "table.dataframe td {\n",
       "    border: 2px solid #ccf;\n",
       "    background-color: #f4f4ff;\n",
       "}\n",
       "h3 {\n",
       "    color: white;\n",
       "    background-color: black;\n",
       "    padding: 0.5em;\n",
       "}\n",
       "</style>"
      ],
      "text/plain": [
       "<IPython.core.display.HTML object>"
      ]
     },
     "execution_count": 4,
     "metadata": {},
     "output_type": "execute_result"
    }
   ],
   "source": [
    "from IPython.core.display import HTML\n",
    "css = open('other/style-table.css').read() + open('other/style-notebook.css').read()\n",
    "HTML('<style>{}</style>'.format(css))"
   ]
  },
  {
   "cell_type": "markdown",
   "metadata": {},
   "source": [
    "# What Needs To Be Done in Wrangling"
   ]
  },
  {
   "cell_type": "markdown",
   "metadata": {},
   "source": [
    "1. [X] Import datasets\n",
    "2. [X] Remove un-needed columns (for visual simplification)\n",
    "3. [X] Remove character '$' so that forced objects can be converted to numeric\n",
    "  1. [X] Convert forced objects to numeric (where appropriate)\n",
    "4. [ ] To Be Done before datasets can be combined\n",
    "  1. [ ] SF's EmployeeName column needs to be split into two columns to match NYC's ds.\n",
    "  2. [ ] NYC's 'Agency Name' need to remove reference to Bouroughs or i.e. #X\n",
    "  3. [ ] LA's 'Department Title' need to remove i.e. (CD X)\n",
    "  4. [ ] I would like to combine the titles between datasets as much as I possibly can.\n",
    "5. [ ] Create combined dataset\n",
    "6. [ ] Perform analysis on seperate and combined datasets"
   ]
  },
  {
   "cell_type": "markdown",
   "metadata": {},
   "source": [
    "# What Needs To Be Done in Data Visualization"
   ]
  },
  {
   "cell_type": "markdown",
   "metadata": {},
   "source": [
    "* [ ] Describe each dataset\n",
    "* [ ] Compare Male and Female salaries\n",
    "* [ ] Compare Male and Female salaries taking length of service into consideration"
   ]
  },
  {
   "cell_type": "markdown",
   "metadata": {},
   "source": [
    "# Here we compare the fields between the three datasets\n",
    "![Field Compairson](FieldComparison.png)"
   ]
  },
  {
   "cell_type": "code",
   "execution_count": null,
   "metadata": {
    "collapsed": true
   },
   "outputs": [],
   "source": []
  },
  {
   "cell_type": "code",
   "execution_count": 5,
   "metadata": {
    "collapsed": false
   },
   "outputs": [],
   "source": [
    "# Load Los Angelos salaries dataset from Kaggle\n",
    "la = pd.read_csv('data/city-payroll-data/data.csv', usecols=[0,1,2,4,5,6,7,15,21,23,24,25,32], dtype={4: object, 24: object})"
   ]
  },
  {
   "cell_type": "code",
   "execution_count": 106,
   "metadata": {
    "collapsed": false
   },
   "outputs": [],
   "source": [
    "# Load San Francisco salaries dataset from Kaggle\n",
    "sf = pd.read_csv('data/sf-salaries/Salaries.csv', usecols=[0,1,2,3,4,5,6,7,9,11,12], dtype={3: object, 4: object, 5: object, 6: object, 12: object}, na_values=['Not Provided', 'Not provided', 'not provided'])"
   ]
  },
  {
   "cell_type": "code",
   "execution_count": 107,
   "metadata": {
    "collapsed": false
   },
   "outputs": [],
   "source": [
    "# This is to be utilized later so that I could learn how to import SQLite tables.\n",
    "# sf_sql = pd.read_sql_table('Salaries','data/sf-salaries/database.sqlite')"
   ]
  },
  {
   "cell_type": "code",
   "execution_count": 108,
   "metadata": {
    "collapsed": false
   },
   "outputs": [],
   "source": [
    "# Load New York City salaries dataset from OpenData\n",
    "nyc = pd.read_csv('data/nyc/Citywide_Payroll_Data__Fiscal_Year_.csv', dtype={7: object})"
   ]
  },
  {
   "cell_type": "code",
   "execution_count": 109,
   "metadata": {
    "collapsed": false,
    "scrolled": false
   },
   "outputs": [
    {
     "data": {
      "text/html": [
       "<div>\n",
       "<table border=\"1\" class=\"dataframe\">\n",
       "  <thead>\n",
       "    <tr style=\"text-align: right;\">\n",
       "      <th></th>\n",
       "      <th>Row ID</th>\n",
       "      <th>Year</th>\n",
       "      <th>Department Title</th>\n",
       "      <th>Record Number</th>\n",
       "      <th>Job Class Title</th>\n",
       "      <th>Employment Type</th>\n",
       "      <th>Hourly or Event Rate</th>\n",
       "      <th>Total Payments</th>\n",
       "      <th>Overtime Pay</th>\n",
       "      <th>Other Pay (Payroll Explorer)</th>\n",
       "      <th>MOU</th>\n",
       "      <th>MOU Title</th>\n",
       "      <th>Average Benefit Cost</th>\n",
       "    </tr>\n",
       "  </thead>\n",
       "  <tbody>\n",
       "    <tr>\n",
       "      <th>0</th>\n",
       "      <td>111391</td>\n",
       "      <td>2014</td>\n",
       "      <td>Water And Power (DWP)</td>\n",
       "      <td>1412316577</td>\n",
       "      <td>Commercial Service Representative</td>\n",
       "      <td>Full Time</td>\n",
       "      <td>NaN</td>\n",
       "      <td>74584.48</td>\n",
       "      <td>369.12</td>\n",
       "      <td>13904.79</td>\n",
       "      <td>NaN</td>\n",
       "      <td>NaN</td>\n",
       "      <td>18124.69</td>\n",
       "    </tr>\n",
       "    <tr>\n",
       "      <th>1</th>\n",
       "      <td>31732</td>\n",
       "      <td>2013</td>\n",
       "      <td>Police (LAPD)</td>\n",
       "      <td>432728338</td>\n",
       "      <td>Police Officer I</td>\n",
       "      <td>Full Time</td>\n",
       "      <td>25.12</td>\n",
       "      <td>51207.45</td>\n",
       "      <td>11.13</td>\n",
       "      <td>1689.27</td>\n",
       "      <td>24</td>\n",
       "      <td>POLICE OFFICERS UNIT</td>\n",
       "      <td>12740.52</td>\n",
       "    </tr>\n",
       "    <tr>\n",
       "      <th>2</th>\n",
       "      <td>27697</td>\n",
       "      <td>2013</td>\n",
       "      <td>Police (LAPD)</td>\n",
       "      <td>97182506</td>\n",
       "      <td>Police Officer II</td>\n",
       "      <td>Full Time</td>\n",
       "      <td>42.77</td>\n",
       "      <td>89029.61</td>\n",
       "      <td>482.29</td>\n",
       "      <td>3637.91</td>\n",
       "      <td>24</td>\n",
       "      <td>POLICE OFFICERS UNIT</td>\n",
       "      <td>12740.52</td>\n",
       "    </tr>\n",
       "    <tr>\n",
       "      <th>3</th>\n",
       "      <td>14136</td>\n",
       "      <td>2013</td>\n",
       "      <td>Harbor (Port of LA)</td>\n",
       "      <td>950136941</td>\n",
       "      <td>Senior Security Officer</td>\n",
       "      <td>Full Time</td>\n",
       "      <td>28.75</td>\n",
       "      <td>71936.24</td>\n",
       "      <td>11504.72</td>\n",
       "      <td>2770.72</td>\n",
       "      <td>12</td>\n",
       "      <td>SUPV BLUE COLLAR</td>\n",
       "      <td>11126.88</td>\n",
       "    </tr>\n",
       "    <tr>\n",
       "      <th>4</th>\n",
       "      <td>91896</td>\n",
       "      <td>2014</td>\n",
       "      <td>Public Works - Sanitation</td>\n",
       "      <td>3230003445</td>\n",
       "      <td>Senior Clerk Typist</td>\n",
       "      <td>Full Time</td>\n",
       "      <td>30.92</td>\n",
       "      <td>64583.37</td>\n",
       "      <td>417.37</td>\n",
       "      <td>4774.25</td>\n",
       "      <td>03</td>\n",
       "      <td>CLERICAL UNIT</td>\n",
       "      <td>11421.48</td>\n",
       "    </tr>\n",
       "  </tbody>\n",
       "</table>\n",
       "</div>"
      ],
      "text/plain": [
       "   Row ID  Year           Department Title Record Number  \\\n",
       "0  111391  2014      Water And Power (DWP)    1412316577   \n",
       "1   31732  2013              Police (LAPD)     432728338   \n",
       "2   27697  2013              Police (LAPD)      97182506   \n",
       "3   14136  2013        Harbor (Port of LA)     950136941   \n",
       "4   91896  2014  Public Works - Sanitation    3230003445   \n",
       "\n",
       "                     Job Class Title Employment Type  Hourly or Event Rate  \\\n",
       "0  Commercial Service Representative       Full Time                   NaN   \n",
       "1                   Police Officer I       Full Time                 25.12   \n",
       "2                  Police Officer II       Full Time                 42.77   \n",
       "3            Senior Security Officer       Full Time                 28.75   \n",
       "4                Senior Clerk Typist       Full Time                 30.92   \n",
       "\n",
       "   Total Payments  Overtime Pay  Other Pay (Payroll Explorer)  MOU  \\\n",
       "0        74584.48        369.12                      13904.79  NaN   \n",
       "1        51207.45         11.13                       1689.27   24   \n",
       "2        89029.61        482.29                       3637.91   24   \n",
       "3        71936.24      11504.72                       2770.72   12   \n",
       "4        64583.37        417.37                       4774.25   03   \n",
       "\n",
       "              MOU Title  Average Benefit Cost  \n",
       "0                   NaN              18124.69  \n",
       "1  POLICE OFFICERS UNIT              12740.52  \n",
       "2  POLICE OFFICERS UNIT              12740.52  \n",
       "3      SUPV BLUE COLLAR              11126.88  \n",
       "4         CLERICAL UNIT              11421.48  "
      ]
     },
     "execution_count": 109,
     "metadata": {},
     "output_type": "execute_result"
    }
   ],
   "source": [
    "la.head()"
   ]
  },
  {
   "cell_type": "code",
   "execution_count": 110,
   "metadata": {
    "collapsed": false
   },
   "outputs": [],
   "source": [
    "# Removing columns which I do not intend to use for this analysis\n",
    "# la.drop(la.columns[[3, 8, 9, 10, 11, 12, 13, 14, 16, 26, 27, 28, 29, 30, 31, 33, 34]], axis=1)"
   ]
  },
  {
   "cell_type": "code",
   "execution_count": 111,
   "metadata": {
    "collapsed": false
   },
   "outputs": [
    {
     "ename": "AttributeError",
     "evalue": "Can only use .str accessor with string values, which use np.object_ dtype in pandas",
     "output_type": "error",
     "traceback": [
      "\u001b[0;31m---------------------------------------------------------------------------\u001b[0m",
      "\u001b[0;31mAttributeError\u001b[0m                            Traceback (most recent call last)",
      "\u001b[0;32m<ipython-input-111-fdc231b984b0>\u001b[0m in \u001b[0;36m<module>\u001b[0;34m()\u001b[0m\n\u001b[1;32m      1\u001b[0m \u001b[1;31m# Removing the $ character so that the type can be converted to numeric for further statistical anaslysis\u001b[0m\u001b[1;33m\u001b[0m\u001b[1;33m\u001b[0m\u001b[0m\n\u001b[0;32m----> 2\u001b[0;31m \u001b[0mla\u001b[0m\u001b[1;33m[\u001b[0m\u001b[1;34m'Hourly or Event Rate'\u001b[0m\u001b[1;33m]\u001b[0m \u001b[1;33m=\u001b[0m \u001b[0mla\u001b[0m\u001b[1;33m[\u001b[0m\u001b[1;34m'Hourly or Event Rate'\u001b[0m\u001b[1;33m]\u001b[0m\u001b[1;33m.\u001b[0m\u001b[0mstr\u001b[0m\u001b[1;33m.\u001b[0m\u001b[0mlstrip\u001b[0m\u001b[1;33m(\u001b[0m\u001b[1;34m'$'\u001b[0m\u001b[1;33m)\u001b[0m\u001b[1;33m\u001b[0m\u001b[0m\n\u001b[0m\u001b[1;32m      3\u001b[0m \u001b[0mla\u001b[0m\u001b[1;33m[\u001b[0m\u001b[1;34m'Total Payments'\u001b[0m\u001b[1;33m]\u001b[0m \u001b[1;33m=\u001b[0m \u001b[0mla\u001b[0m\u001b[1;33m[\u001b[0m\u001b[1;34m'Total Payments'\u001b[0m\u001b[1;33m]\u001b[0m\u001b[1;33m.\u001b[0m\u001b[0mstr\u001b[0m\u001b[1;33m.\u001b[0m\u001b[0mlstrip\u001b[0m\u001b[1;33m(\u001b[0m\u001b[1;34m'$'\u001b[0m\u001b[1;33m)\u001b[0m\u001b[1;33m\u001b[0m\u001b[0m\n\u001b[1;32m      4\u001b[0m \u001b[0mla\u001b[0m\u001b[1;33m[\u001b[0m\u001b[1;34m'Overtime Pay'\u001b[0m\u001b[1;33m]\u001b[0m \u001b[1;33m=\u001b[0m \u001b[0mla\u001b[0m\u001b[1;33m[\u001b[0m\u001b[1;34m'Overtime Pay'\u001b[0m\u001b[1;33m]\u001b[0m\u001b[1;33m.\u001b[0m\u001b[0mstr\u001b[0m\u001b[1;33m.\u001b[0m\u001b[0mlstrip\u001b[0m\u001b[1;33m(\u001b[0m\u001b[1;34m'$'\u001b[0m\u001b[1;33m)\u001b[0m\u001b[1;33m\u001b[0m\u001b[0m\n\u001b[1;32m      5\u001b[0m \u001b[0mla\u001b[0m\u001b[1;33m[\u001b[0m\u001b[1;34m'Other Pay (Payroll Explorer)'\u001b[0m\u001b[1;33m]\u001b[0m \u001b[1;33m=\u001b[0m \u001b[0mla\u001b[0m\u001b[1;33m[\u001b[0m\u001b[1;34m'Other Pay (Payroll Explorer)'\u001b[0m\u001b[1;33m]\u001b[0m\u001b[1;33m.\u001b[0m\u001b[0mstr\u001b[0m\u001b[1;33m.\u001b[0m\u001b[0mlstrip\u001b[0m\u001b[1;33m(\u001b[0m\u001b[1;34m'$'\u001b[0m\u001b[1;33m)\u001b[0m\u001b[1;33m\u001b[0m\u001b[0m\n",
      "\u001b[0;32mC:\\Program Files\\Anaconda3\\lib\\site-packages\\pandas\\core\\generic.py\u001b[0m in \u001b[0;36m__getattr__\u001b[0;34m(self, name)\u001b[0m\n\u001b[1;32m   2738\u001b[0m         if (name in self._internal_names_set or name in self._metadata or\n\u001b[1;32m   2739\u001b[0m                 name in self._accessors):\n\u001b[0;32m-> 2740\u001b[0;31m             \u001b[1;32mreturn\u001b[0m \u001b[0mobject\u001b[0m\u001b[1;33m.\u001b[0m\u001b[0m__getattribute__\u001b[0m\u001b[1;33m(\u001b[0m\u001b[0mself\u001b[0m\u001b[1;33m,\u001b[0m \u001b[0mname\u001b[0m\u001b[1;33m)\u001b[0m\u001b[1;33m\u001b[0m\u001b[0m\n\u001b[0m\u001b[1;32m   2741\u001b[0m         \u001b[1;32melse\u001b[0m\u001b[1;33m:\u001b[0m\u001b[1;33m\u001b[0m\u001b[0m\n\u001b[1;32m   2742\u001b[0m             \u001b[1;32mif\u001b[0m \u001b[0mname\u001b[0m \u001b[1;32min\u001b[0m \u001b[0mself\u001b[0m\u001b[1;33m.\u001b[0m\u001b[0m_info_axis\u001b[0m\u001b[1;33m:\u001b[0m\u001b[1;33m\u001b[0m\u001b[0m\n",
      "\u001b[0;32mC:\\Program Files\\Anaconda3\\lib\\site-packages\\pandas\\core\\base.py\u001b[0m in \u001b[0;36m__get__\u001b[0;34m(self, instance, owner)\u001b[0m\n\u001b[1;32m    239\u001b[0m             \u001b[1;31m# this ensures that Series.str.<method> is well defined\u001b[0m\u001b[1;33m\u001b[0m\u001b[1;33m\u001b[0m\u001b[0m\n\u001b[1;32m    240\u001b[0m             \u001b[1;32mreturn\u001b[0m \u001b[0mself\u001b[0m\u001b[1;33m.\u001b[0m\u001b[0maccessor_cls\u001b[0m\u001b[1;33m\u001b[0m\u001b[0m\n\u001b[0;32m--> 241\u001b[0;31m         \u001b[1;32mreturn\u001b[0m \u001b[0mself\u001b[0m\u001b[1;33m.\u001b[0m\u001b[0mconstruct_accessor\u001b[0m\u001b[1;33m(\u001b[0m\u001b[0minstance\u001b[0m\u001b[1;33m)\u001b[0m\u001b[1;33m\u001b[0m\u001b[0m\n\u001b[0m\u001b[1;32m    242\u001b[0m \u001b[1;33m\u001b[0m\u001b[0m\n\u001b[1;32m    243\u001b[0m     \u001b[1;32mdef\u001b[0m \u001b[0m__set__\u001b[0m\u001b[1;33m(\u001b[0m\u001b[0mself\u001b[0m\u001b[1;33m,\u001b[0m \u001b[0minstance\u001b[0m\u001b[1;33m,\u001b[0m \u001b[0mvalue\u001b[0m\u001b[1;33m)\u001b[0m\u001b[1;33m:\u001b[0m\u001b[1;33m\u001b[0m\u001b[0m\n",
      "\u001b[0;32mC:\\Program Files\\Anaconda3\\lib\\site-packages\\pandas\\core\\strings.py\u001b[0m in \u001b[0;36m_make_str_accessor\u001b[0;34m(self)\u001b[0m\n\u001b[1;32m   1839\u001b[0m             \u001b[1;31m# (instead of test for object dtype), but that isn't practical for\u001b[0m\u001b[1;33m\u001b[0m\u001b[1;33m\u001b[0m\u001b[0m\n\u001b[1;32m   1840\u001b[0m             \u001b[1;31m# performance reasons until we have a str dtype (GH 9343)\u001b[0m\u001b[1;33m\u001b[0m\u001b[1;33m\u001b[0m\u001b[0m\n\u001b[0;32m-> 1841\u001b[0;31m             raise AttributeError(\"Can only use .str accessor with string \"\n\u001b[0m\u001b[1;32m   1842\u001b[0m                                  \u001b[1;34m\"values, which use np.object_ dtype in \"\u001b[0m\u001b[1;33m\u001b[0m\u001b[0m\n\u001b[1;32m   1843\u001b[0m                                  \"pandas\")\n",
      "\u001b[0;31mAttributeError\u001b[0m: Can only use .str accessor with string values, which use np.object_ dtype in pandas"
     ]
    }
   ],
   "source": [
    "# Removing the $ character so that the type can be converted to numeric for further statistical anaslysis\n",
    "la['Hourly or Event Rate'] = la['Hourly or Event Rate'].str.lstrip('$')\n",
    "la['Total Payments'] = la['Total Payments'].str.lstrip('$')\n",
    "la['Overtime Pay'] = la['Overtime Pay'].str.lstrip('$')\n",
    "la['Other Pay (Payroll Explorer)'] = la['Other Pay (Payroll Explorer)'].str.lstrip('$')\n",
    "la['Average Benefit Cost'] = la['Average Benefit Cost'].str.lstrip('$')"
   ]
  },
  {
   "cell_type": "code",
   "execution_count": null,
   "metadata": {
    "collapsed": false
   },
   "outputs": [],
   "source": [
    "# Converting datatypes to numeric for statistical analysis\n",
    "la['Total Payments'] = pd.to_numeric(la['Total Payments'])\n",
    "la['Hourly or Event Rate'] = pd.to_numeric(la['Hourly or Event Rate'])\n",
    "la['Total Payments'] = pd.to_numeric(la['Total Payments'])\n",
    "la['Overtime Pay'] = pd.to_numeric(la['Overtime Pay'])\n",
    "la['Other Pay (Payroll Explorer)'] = pd.to_numeric(la['Other Pay (Payroll Explorer)'])\n",
    "la['Average Benefit Cost'] = pd.to_numeric(la['Average Benefit Cost'])"
   ]
  },
  {
   "cell_type": "code",
   "execution_count": null,
   "metadata": {
    "collapsed": false
   },
   "outputs": [],
   "source": [
    "la.dtypes"
   ]
  },
  {
   "cell_type": "code",
   "execution_count": 112,
   "metadata": {
    "collapsed": false
   },
   "outputs": [
    {
     "data": {
      "text/html": [
       "<div>\n",
       "<table border=\"1\" class=\"dataframe\">\n",
       "  <thead>\n",
       "    <tr style=\"text-align: right;\">\n",
       "      <th></th>\n",
       "      <th>Row ID</th>\n",
       "      <th>Year</th>\n",
       "      <th>Hourly or Event Rate</th>\n",
       "      <th>Total Payments</th>\n",
       "      <th>Overtime Pay</th>\n",
       "      <th>Other Pay (Payroll Explorer)</th>\n",
       "      <th>Average Benefit Cost</th>\n",
       "    </tr>\n",
       "  </thead>\n",
       "  <tbody>\n",
       "    <tr>\n",
       "      <th>count</th>\n",
       "      <td>285008.000000</td>\n",
       "      <td>285008.000000</td>\n",
       "      <td>263987.000000</td>\n",
       "      <td>285008.000000</td>\n",
       "      <td>284574.000000</td>\n",
       "      <td>285008.000000</td>\n",
       "      <td>285008.000000</td>\n",
       "    </tr>\n",
       "    <tr>\n",
       "      <th>mean</th>\n",
       "      <td>142544.329759</td>\n",
       "      <td>2014.786701</td>\n",
       "      <td>38.891489</td>\n",
       "      <td>63014.632040</td>\n",
       "      <td>6387.454101</td>\n",
       "      <td>4983.182752</td>\n",
       "      <td>11290.999867</td>\n",
       "    </tr>\n",
       "    <tr>\n",
       "      <th>std</th>\n",
       "      <td>82330.135857</td>\n",
       "      <td>1.161369</td>\n",
       "      <td>32.924956</td>\n",
       "      <td>48666.570776</td>\n",
       "      <td>14670.314425</td>\n",
       "      <td>8719.631894</td>\n",
       "      <td>5708.016753</td>\n",
       "    </tr>\n",
       "    <tr>\n",
       "      <th>min</th>\n",
       "      <td>1.000000</td>\n",
       "      <td>2013.000000</td>\n",
       "      <td>0.000000</td>\n",
       "      <td>-30728.270000</td>\n",
       "      <td>-1019.490000</td>\n",
       "      <td>-30878.270000</td>\n",
       "      <td>0.000000</td>\n",
       "    </tr>\n",
       "    <tr>\n",
       "      <th>25%</th>\n",
       "      <td>71252.750000</td>\n",
       "      <td>2014.000000</td>\n",
       "      <td>26.480000</td>\n",
       "      <td>22930.745000</td>\n",
       "      <td>0.000000</td>\n",
       "      <td>389.027500</td>\n",
       "      <td>11126.880000</td>\n",
       "    </tr>\n",
       "    <tr>\n",
       "      <th>50%</th>\n",
       "      <td>142504.500000</td>\n",
       "      <td>2015.000000</td>\n",
       "      <td>37.310000</td>\n",
       "      <td>54959.080000</td>\n",
       "      <td>331.085000</td>\n",
       "      <td>2418.435000</td>\n",
       "      <td>11894.130000</td>\n",
       "    </tr>\n",
       "    <tr>\n",
       "      <th>75%</th>\n",
       "      <td>213756.250000</td>\n",
       "      <td>2016.000000</td>\n",
       "      <td>47.630000</td>\n",
       "      <td>95981.917500</td>\n",
       "      <td>5860.485000</td>\n",
       "      <td>6145.220000</td>\n",
       "      <td>14073.960000</td>\n",
       "    </tr>\n",
       "    <tr>\n",
       "      <th>max</th>\n",
       "      <td>285208.000000</td>\n",
       "      <td>2016.000000</td>\n",
       "      <td>900.000000</td>\n",
       "      <td>500930.740000</td>\n",
       "      <td>311315.620000</td>\n",
       "      <td>435621.770000</td>\n",
       "      <td>19392.620000</td>\n",
       "    </tr>\n",
       "  </tbody>\n",
       "</table>\n",
       "</div>"
      ],
      "text/plain": [
       "              Row ID           Year  Hourly or Event Rate  Total Payments  \\\n",
       "count  285008.000000  285008.000000         263987.000000   285008.000000   \n",
       "mean   142544.329759    2014.786701             38.891489    63014.632040   \n",
       "std     82330.135857       1.161369             32.924956    48666.570776   \n",
       "min         1.000000    2013.000000              0.000000   -30728.270000   \n",
       "25%     71252.750000    2014.000000             26.480000    22930.745000   \n",
       "50%    142504.500000    2015.000000             37.310000    54959.080000   \n",
       "75%    213756.250000    2016.000000             47.630000    95981.917500   \n",
       "max    285208.000000    2016.000000            900.000000   500930.740000   \n",
       "\n",
       "        Overtime Pay  Other Pay (Payroll Explorer)  Average Benefit Cost  \n",
       "count  284574.000000                 285008.000000         285008.000000  \n",
       "mean     6387.454101                   4983.182752          11290.999867  \n",
       "std     14670.314425                   8719.631894           5708.016753  \n",
       "min     -1019.490000                 -30878.270000              0.000000  \n",
       "25%         0.000000                    389.027500          11126.880000  \n",
       "50%       331.085000                   2418.435000          11894.130000  \n",
       "75%      5860.485000                   6145.220000          14073.960000  \n",
       "max    311315.620000                 435621.770000          19392.620000  "
      ]
     },
     "execution_count": 112,
     "metadata": {},
     "output_type": "execute_result"
    }
   ],
   "source": [
    "la.describe()"
   ]
  },
  {
   "cell_type": "markdown",
   "metadata": {
    "collapsed": true
   },
   "source": [
    "## Start with San Francisco salaries dataset"
   ]
  },
  {
   "cell_type": "code",
   "execution_count": 113,
   "metadata": {
    "collapsed": false
   },
   "outputs": [
    {
     "data": {
      "text/html": [
       "<div>\n",
       "<table border=\"1\" class=\"dataframe\">\n",
       "  <thead>\n",
       "    <tr style=\"text-align: right;\">\n",
       "      <th></th>\n",
       "      <th>Id</th>\n",
       "      <th>EmployeeName</th>\n",
       "      <th>JobTitle</th>\n",
       "      <th>BasePay</th>\n",
       "      <th>OvertimePay</th>\n",
       "      <th>OtherPay</th>\n",
       "      <th>Benefits</th>\n",
       "      <th>TotalPay</th>\n",
       "      <th>Year</th>\n",
       "      <th>Agency</th>\n",
       "      <th>Status</th>\n",
       "    </tr>\n",
       "  </thead>\n",
       "  <tbody>\n",
       "    <tr>\n",
       "      <th>0</th>\n",
       "      <td>1</td>\n",
       "      <td>NATHANIEL FORD</td>\n",
       "      <td>GENERAL MANAGER-METROPOLITAN TRANSIT AUTHORITY</td>\n",
       "      <td>167411.18</td>\n",
       "      <td>0.0</td>\n",
       "      <td>400184.25</td>\n",
       "      <td>NaN</td>\n",
       "      <td>567595.43</td>\n",
       "      <td>2011</td>\n",
       "      <td>San Francisco</td>\n",
       "      <td>NaN</td>\n",
       "    </tr>\n",
       "    <tr>\n",
       "      <th>1</th>\n",
       "      <td>2</td>\n",
       "      <td>GARY JIMENEZ</td>\n",
       "      <td>CAPTAIN III (POLICE DEPARTMENT)</td>\n",
       "      <td>155966.02</td>\n",
       "      <td>245131.88</td>\n",
       "      <td>137811.38</td>\n",
       "      <td>NaN</td>\n",
       "      <td>538909.28</td>\n",
       "      <td>2011</td>\n",
       "      <td>San Francisco</td>\n",
       "      <td>NaN</td>\n",
       "    </tr>\n",
       "    <tr>\n",
       "      <th>2</th>\n",
       "      <td>3</td>\n",
       "      <td>ALBERT PARDINI</td>\n",
       "      <td>CAPTAIN III (POLICE DEPARTMENT)</td>\n",
       "      <td>212739.13</td>\n",
       "      <td>106088.18</td>\n",
       "      <td>16452.6</td>\n",
       "      <td>NaN</td>\n",
       "      <td>335279.91</td>\n",
       "      <td>2011</td>\n",
       "      <td>San Francisco</td>\n",
       "      <td>NaN</td>\n",
       "    </tr>\n",
       "    <tr>\n",
       "      <th>3</th>\n",
       "      <td>4</td>\n",
       "      <td>CHRISTOPHER CHONG</td>\n",
       "      <td>WIRE ROPE CABLE MAINTENANCE MECHANIC</td>\n",
       "      <td>77916.0</td>\n",
       "      <td>56120.71</td>\n",
       "      <td>198306.9</td>\n",
       "      <td>NaN</td>\n",
       "      <td>332343.61</td>\n",
       "      <td>2011</td>\n",
       "      <td>San Francisco</td>\n",
       "      <td>NaN</td>\n",
       "    </tr>\n",
       "    <tr>\n",
       "      <th>4</th>\n",
       "      <td>5</td>\n",
       "      <td>PATRICK GARDNER</td>\n",
       "      <td>DEPUTY CHIEF OF DEPARTMENT,(FIRE DEPARTMENT)</td>\n",
       "      <td>134401.6</td>\n",
       "      <td>9737.0</td>\n",
       "      <td>182234.59</td>\n",
       "      <td>NaN</td>\n",
       "      <td>326373.19</td>\n",
       "      <td>2011</td>\n",
       "      <td>San Francisco</td>\n",
       "      <td>NaN</td>\n",
       "    </tr>\n",
       "  </tbody>\n",
       "</table>\n",
       "</div>"
      ],
      "text/plain": [
       "   Id       EmployeeName                                        JobTitle  \\\n",
       "0   1     NATHANIEL FORD  GENERAL MANAGER-METROPOLITAN TRANSIT AUTHORITY   \n",
       "1   2       GARY JIMENEZ                 CAPTAIN III (POLICE DEPARTMENT)   \n",
       "2   3     ALBERT PARDINI                 CAPTAIN III (POLICE DEPARTMENT)   \n",
       "3   4  CHRISTOPHER CHONG            WIRE ROPE CABLE MAINTENANCE MECHANIC   \n",
       "4   5    PATRICK GARDNER    DEPUTY CHIEF OF DEPARTMENT,(FIRE DEPARTMENT)   \n",
       "\n",
       "     BasePay OvertimePay   OtherPay Benefits   TotalPay  Year         Agency  \\\n",
       "0  167411.18         0.0  400184.25      NaN  567595.43  2011  San Francisco   \n",
       "1  155966.02   245131.88  137811.38      NaN  538909.28  2011  San Francisco   \n",
       "2  212739.13   106088.18    16452.6      NaN  335279.91  2011  San Francisco   \n",
       "3    77916.0    56120.71   198306.9      NaN  332343.61  2011  San Francisco   \n",
       "4   134401.6      9737.0  182234.59      NaN  326373.19  2011  San Francisco   \n",
       "\n",
       "  Status  \n",
       "0    NaN  \n",
       "1    NaN  \n",
       "2    NaN  \n",
       "3    NaN  \n",
       "4    NaN  "
      ]
     },
     "execution_count": 113,
     "metadata": {},
     "output_type": "execute_result"
    }
   ],
   "source": [
    "sf.head()"
   ]
  },
  {
   "cell_type": "code",
   "execution_count": 114,
   "metadata": {
    "collapsed": false
   },
   "outputs": [],
   "source": [
    "# Converting datatypes to numeric for statistical analysis\n",
    "sf['BasePay'] = pd.to_numeric(sf['BasePay'])\n",
    "sf['OvertimePay'] = pd.to_numeric(sf['OvertimePay'])\n",
    "sf['OtherPay'] = pd.to_numeric(sf['OtherPay'])\n",
    "sf['Benefits'] = pd.to_numeric(sf['Benefits'])"
   ]
  },
  {
   "cell_type": "code",
   "execution_count": 115,
   "metadata": {
    "collapsed": false
   },
   "outputs": [
    {
     "data": {
      "text/plain": [
       "Id                int64\n",
       "EmployeeName     object\n",
       "JobTitle         object\n",
       "BasePay         float64\n",
       "OvertimePay     float64\n",
       "OtherPay        float64\n",
       "Benefits        float64\n",
       "TotalPay        float64\n",
       "Year              int64\n",
       "Agency           object\n",
       "Status           object\n",
       "dtype: object"
      ]
     },
     "execution_count": 115,
     "metadata": {},
     "output_type": "execute_result"
    }
   ],
   "source": [
    "sf.dtypes"
   ]
  },
  {
   "cell_type": "code",
   "execution_count": 116,
   "metadata": {
    "collapsed": false
   },
   "outputs": [
    {
     "data": {
      "text/html": [
       "<div>\n",
       "<table border=\"1\" class=\"dataframe\">\n",
       "  <thead>\n",
       "    <tr style=\"text-align: right;\">\n",
       "      <th></th>\n",
       "      <th>Id</th>\n",
       "      <th>BasePay</th>\n",
       "      <th>OvertimePay</th>\n",
       "      <th>OtherPay</th>\n",
       "      <th>Benefits</th>\n",
       "      <th>TotalPay</th>\n",
       "      <th>Year</th>\n",
       "    </tr>\n",
       "  </thead>\n",
       "  <tbody>\n",
       "    <tr>\n",
       "      <th>count</th>\n",
       "      <td>148654.000000</td>\n",
       "      <td>148045.000000</td>\n",
       "      <td>148650.000000</td>\n",
       "      <td>148650.000000</td>\n",
       "      <td>112491.000000</td>\n",
       "      <td>148654.000000</td>\n",
       "      <td>148654.000000</td>\n",
       "    </tr>\n",
       "    <tr>\n",
       "      <th>mean</th>\n",
       "      <td>74327.500000</td>\n",
       "      <td>66325.448840</td>\n",
       "      <td>5066.059886</td>\n",
       "      <td>3648.767297</td>\n",
       "      <td>25007.893151</td>\n",
       "      <td>74768.321972</td>\n",
       "      <td>2012.522643</td>\n",
       "    </tr>\n",
       "    <tr>\n",
       "      <th>std</th>\n",
       "      <td>42912.857795</td>\n",
       "      <td>42764.635495</td>\n",
       "      <td>11454.380559</td>\n",
       "      <td>8056.601866</td>\n",
       "      <td>15402.215858</td>\n",
       "      <td>50517.005274</td>\n",
       "      <td>1.117538</td>\n",
       "    </tr>\n",
       "    <tr>\n",
       "      <th>min</th>\n",
       "      <td>1.000000</td>\n",
       "      <td>-166.010000</td>\n",
       "      <td>-0.010000</td>\n",
       "      <td>-7058.590000</td>\n",
       "      <td>-33.890000</td>\n",
       "      <td>-618.130000</td>\n",
       "      <td>2011.000000</td>\n",
       "    </tr>\n",
       "    <tr>\n",
       "      <th>25%</th>\n",
       "      <td>37164.250000</td>\n",
       "      <td>33588.200000</td>\n",
       "      <td>0.000000</td>\n",
       "      <td>0.000000</td>\n",
       "      <td>11535.395000</td>\n",
       "      <td>36168.995000</td>\n",
       "      <td>2012.000000</td>\n",
       "    </tr>\n",
       "    <tr>\n",
       "      <th>50%</th>\n",
       "      <td>74327.500000</td>\n",
       "      <td>65007.450000</td>\n",
       "      <td>0.000000</td>\n",
       "      <td>811.270000</td>\n",
       "      <td>28628.620000</td>\n",
       "      <td>71426.610000</td>\n",
       "      <td>2013.000000</td>\n",
       "    </tr>\n",
       "    <tr>\n",
       "      <th>75%</th>\n",
       "      <td>111490.750000</td>\n",
       "      <td>94691.050000</td>\n",
       "      <td>4658.175000</td>\n",
       "      <td>4236.065000</td>\n",
       "      <td>35566.855000</td>\n",
       "      <td>105839.135000</td>\n",
       "      <td>2014.000000</td>\n",
       "    </tr>\n",
       "    <tr>\n",
       "      <th>max</th>\n",
       "      <td>148654.000000</td>\n",
       "      <td>319275.010000</td>\n",
       "      <td>245131.880000</td>\n",
       "      <td>400184.250000</td>\n",
       "      <td>96570.660000</td>\n",
       "      <td>567595.430000</td>\n",
       "      <td>2014.000000</td>\n",
       "    </tr>\n",
       "  </tbody>\n",
       "</table>\n",
       "</div>"
      ],
      "text/plain": [
       "                  Id        BasePay    OvertimePay       OtherPay  \\\n",
       "count  148654.000000  148045.000000  148650.000000  148650.000000   \n",
       "mean    74327.500000   66325.448840    5066.059886    3648.767297   \n",
       "std     42912.857795   42764.635495   11454.380559    8056.601866   \n",
       "min         1.000000    -166.010000      -0.010000   -7058.590000   \n",
       "25%     37164.250000   33588.200000       0.000000       0.000000   \n",
       "50%     74327.500000   65007.450000       0.000000     811.270000   \n",
       "75%    111490.750000   94691.050000    4658.175000    4236.065000   \n",
       "max    148654.000000  319275.010000  245131.880000  400184.250000   \n",
       "\n",
       "            Benefits       TotalPay           Year  \n",
       "count  112491.000000  148654.000000  148654.000000  \n",
       "mean    25007.893151   74768.321972    2012.522643  \n",
       "std     15402.215858   50517.005274       1.117538  \n",
       "min       -33.890000    -618.130000    2011.000000  \n",
       "25%     11535.395000   36168.995000    2012.000000  \n",
       "50%     28628.620000   71426.610000    2013.000000  \n",
       "75%     35566.855000  105839.135000    2014.000000  \n",
       "max     96570.660000  567595.430000    2014.000000  "
      ]
     },
     "execution_count": 116,
     "metadata": {},
     "output_type": "execute_result"
    }
   ],
   "source": [
    "sf.describe()"
   ]
  },
  {
   "cell_type": "markdown",
   "metadata": {
    "collapsed": true
   },
   "source": [
    "# Staring with New York City salaries dataset"
   ]
  },
  {
   "cell_type": "code",
   "execution_count": 117,
   "metadata": {
    "collapsed": false
   },
   "outputs": [
    {
     "data": {
      "text/html": [
       "<div>\n",
       "<table border=\"1\" class=\"dataframe\">\n",
       "  <thead>\n",
       "    <tr style=\"text-align: right;\">\n",
       "      <th></th>\n",
       "      <th>Fiscal Year</th>\n",
       "      <th>Payroll Number</th>\n",
       "      <th>Agency Name</th>\n",
       "      <th>Last Name</th>\n",
       "      <th>First Name</th>\n",
       "      <th>Mid Init</th>\n",
       "      <th>Agency Start Date</th>\n",
       "      <th>Work Location Borough</th>\n",
       "      <th>Title Description</th>\n",
       "      <th>Leave Status as of July 31</th>\n",
       "      <th>Base Salary</th>\n",
       "      <th>Pay Basis</th>\n",
       "      <th>Regular Hours</th>\n",
       "      <th>Regular Gross Paid</th>\n",
       "      <th>OT Hours</th>\n",
       "      <th>Total OT Paid</th>\n",
       "      <th>Total Other Pay</th>\n",
       "    </tr>\n",
       "  </thead>\n",
       "  <tbody>\n",
       "    <tr>\n",
       "      <th>0</th>\n",
       "      <td>2014</td>\n",
       "      <td>2.0</td>\n",
       "      <td>OFFICE OF THE MAYOR</td>\n",
       "      <td>MULLEN</td>\n",
       "      <td>ALFRED</td>\n",
       "      <td>J</td>\n",
       "      <td>03/20/1972</td>\n",
       "      <td>NaN</td>\n",
       "      <td>CALENDAR ASSISTANT                            ...</td>\n",
       "      <td>ON SEPARATION LEAVE</td>\n",
       "      <td>$83325.00</td>\n",
       "      <td>per Annum</td>\n",
       "      <td>1825.0</td>\n",
       "      <td>$83096.78</td>\n",
       "      <td>0.0</td>\n",
       "      <td>$228.03</td>\n",
       "      <td>$0.00</td>\n",
       "    </tr>\n",
       "    <tr>\n",
       "      <th>1</th>\n",
       "      <td>2014</td>\n",
       "      <td>2.0</td>\n",
       "      <td>OFFICE OF THE MAYOR</td>\n",
       "      <td>GARRETT</td>\n",
       "      <td>CORNELIUS</td>\n",
       "      <td>S</td>\n",
       "      <td>09/25/1976</td>\n",
       "      <td>NaN</td>\n",
       "      <td>FISCAL RESPONSIBILITY OFFICER                 ...</td>\n",
       "      <td>ON SEPARATION LEAVE</td>\n",
       "      <td>$70985.00</td>\n",
       "      <td>per Annum</td>\n",
       "      <td>1825.0</td>\n",
       "      <td>$70790.46</td>\n",
       "      <td>10.5</td>\n",
       "      <td>$845.07</td>\n",
       "      <td>$0.00</td>\n",
       "    </tr>\n",
       "    <tr>\n",
       "      <th>2</th>\n",
       "      <td>2014</td>\n",
       "      <td>2.0</td>\n",
       "      <td>OFFICE OF THE MAYOR</td>\n",
       "      <td>LEONARD</td>\n",
       "      <td>DIANE</td>\n",
       "      <td>M</td>\n",
       "      <td>11/22/1977</td>\n",
       "      <td>NaN</td>\n",
       "      <td>EXECUTIVE ASSISTANT-MIDTOWN ENFORCEMENT       ...</td>\n",
       "      <td>ACTIVE</td>\n",
       "      <td>$40.51</td>\n",
       "      <td>per Hour</td>\n",
       "      <td>1573.0</td>\n",
       "      <td>$63165.38</td>\n",
       "      <td>0.0</td>\n",
       "      <td>$0.00</td>\n",
       "      <td>$0.00</td>\n",
       "    </tr>\n",
       "    <tr>\n",
       "      <th>3</th>\n",
       "      <td>2014</td>\n",
       "      <td>2.0</td>\n",
       "      <td>OFFICE OF THE MAYOR</td>\n",
       "      <td>ROSS</td>\n",
       "      <td>JEAN</td>\n",
       "      <td>A</td>\n",
       "      <td>07/01/1978</td>\n",
       "      <td>NaN</td>\n",
       "      <td>ADMINISTRATIVE MANAGER                        ...</td>\n",
       "      <td>ACTIVE</td>\n",
       "      <td>$125715.00</td>\n",
       "      <td>per Annum</td>\n",
       "      <td>1825.0</td>\n",
       "      <td>$125370.69</td>\n",
       "      <td>0.0</td>\n",
       "      <td>$0.00</td>\n",
       "      <td>$0.00</td>\n",
       "    </tr>\n",
       "    <tr>\n",
       "      <th>4</th>\n",
       "      <td>2014</td>\n",
       "      <td>2.0</td>\n",
       "      <td>OFFICE OF THE MAYOR</td>\n",
       "      <td>WEINSTOCK</td>\n",
       "      <td>SUSAN</td>\n",
       "      <td>NaN</td>\n",
       "      <td>07/01/1978</td>\n",
       "      <td>NaN</td>\n",
       "      <td>ADMINISTRATIVE PRINTING SERVICES MANAGER      ...</td>\n",
       "      <td>ACTIVE</td>\n",
       "      <td>$84500.00</td>\n",
       "      <td>per Annum</td>\n",
       "      <td>1825.0</td>\n",
       "      <td>$84268.60</td>\n",
       "      <td>0.0</td>\n",
       "      <td>$0.00</td>\n",
       "      <td>$0.00</td>\n",
       "    </tr>\n",
       "  </tbody>\n",
       "</table>\n",
       "</div>"
      ],
      "text/plain": [
       "   Fiscal Year  Payroll Number                     Agency Name  Last Name  \\\n",
       "0         2014             2.0  OFFICE OF THE MAYOR                MULLEN   \n",
       "1         2014             2.0  OFFICE OF THE MAYOR               GARRETT   \n",
       "2         2014             2.0  OFFICE OF THE MAYOR               LEONARD   \n",
       "3         2014             2.0  OFFICE OF THE MAYOR                  ROSS   \n",
       "4         2014             2.0  OFFICE OF THE MAYOR             WEINSTOCK   \n",
       "\n",
       "  First Name Mid Init Agency Start Date Work Location Borough  \\\n",
       "0     ALFRED        J        03/20/1972                   NaN   \n",
       "1  CORNELIUS        S        09/25/1976                   NaN   \n",
       "2      DIANE        M        11/22/1977                   NaN   \n",
       "3       JEAN        A        07/01/1978                   NaN   \n",
       "4      SUSAN      NaN        07/01/1978                   NaN   \n",
       "\n",
       "                                   Title Description  \\\n",
       "0  CALENDAR ASSISTANT                            ...   \n",
       "1  FISCAL RESPONSIBILITY OFFICER                 ...   \n",
       "2  EXECUTIVE ASSISTANT-MIDTOWN ENFORCEMENT       ...   \n",
       "3  ADMINISTRATIVE MANAGER                        ...   \n",
       "4  ADMINISTRATIVE PRINTING SERVICES MANAGER      ...   \n",
       "\n",
       "  Leave Status as of July 31 Base Salary   Pay Basis  Regular Hours  \\\n",
       "0        ON SEPARATION LEAVE   $83325.00   per Annum         1825.0   \n",
       "1        ON SEPARATION LEAVE   $70985.00   per Annum         1825.0   \n",
       "2                     ACTIVE      $40.51    per Hour         1573.0   \n",
       "3                     ACTIVE  $125715.00   per Annum         1825.0   \n",
       "4                     ACTIVE   $84500.00   per Annum         1825.0   \n",
       "\n",
       "  Regular Gross Paid  OT Hours Total OT Paid Total Other Pay  \n",
       "0          $83096.78       0.0       $228.03           $0.00  \n",
       "1          $70790.46      10.5       $845.07           $0.00  \n",
       "2          $63165.38       0.0         $0.00           $0.00  \n",
       "3         $125370.69       0.0         $0.00           $0.00  \n",
       "4          $84268.60       0.0         $0.00           $0.00  "
      ]
     },
     "execution_count": 117,
     "metadata": {},
     "output_type": "execute_result"
    }
   ],
   "source": [
    "nyc.head()"
   ]
  },
  {
   "cell_type": "code",
   "execution_count": 118,
   "metadata": {
    "collapsed": false
   },
   "outputs": [],
   "source": [
    "# Removing columns I do not intend to use\n",
    "nyc = nyc.drop(nyc.columns[[1,7,10]], axis=1)"
   ]
  },
  {
   "cell_type": "code",
   "execution_count": 119,
   "metadata": {
    "collapsed": false
   },
   "outputs": [
    {
     "data": {
      "text/html": [
       "<div>\n",
       "<table border=\"1\" class=\"dataframe\">\n",
       "  <thead>\n",
       "    <tr style=\"text-align: right;\">\n",
       "      <th></th>\n",
       "      <th>Fiscal Year</th>\n",
       "      <th>Agency Name</th>\n",
       "      <th>Last Name</th>\n",
       "      <th>First Name</th>\n",
       "      <th>Mid Init</th>\n",
       "      <th>Agency Start Date</th>\n",
       "      <th>Title Description</th>\n",
       "      <th>Leave Status as of July 31</th>\n",
       "      <th>Pay Basis</th>\n",
       "      <th>Regular Hours</th>\n",
       "      <th>Regular Gross Paid</th>\n",
       "      <th>OT Hours</th>\n",
       "      <th>Total OT Paid</th>\n",
       "      <th>Total Other Pay</th>\n",
       "    </tr>\n",
       "  </thead>\n",
       "  <tbody>\n",
       "    <tr>\n",
       "      <th>0</th>\n",
       "      <td>2014</td>\n",
       "      <td>OFFICE OF THE MAYOR</td>\n",
       "      <td>MULLEN</td>\n",
       "      <td>ALFRED</td>\n",
       "      <td>J</td>\n",
       "      <td>03/20/1972</td>\n",
       "      <td>CALENDAR ASSISTANT                            ...</td>\n",
       "      <td>ON SEPARATION LEAVE</td>\n",
       "      <td>per Annum</td>\n",
       "      <td>1825.0</td>\n",
       "      <td>$83096.78</td>\n",
       "      <td>0.0</td>\n",
       "      <td>$228.03</td>\n",
       "      <td>$0.00</td>\n",
       "    </tr>\n",
       "    <tr>\n",
       "      <th>1</th>\n",
       "      <td>2014</td>\n",
       "      <td>OFFICE OF THE MAYOR</td>\n",
       "      <td>GARRETT</td>\n",
       "      <td>CORNELIUS</td>\n",
       "      <td>S</td>\n",
       "      <td>09/25/1976</td>\n",
       "      <td>FISCAL RESPONSIBILITY OFFICER                 ...</td>\n",
       "      <td>ON SEPARATION LEAVE</td>\n",
       "      <td>per Annum</td>\n",
       "      <td>1825.0</td>\n",
       "      <td>$70790.46</td>\n",
       "      <td>10.5</td>\n",
       "      <td>$845.07</td>\n",
       "      <td>$0.00</td>\n",
       "    </tr>\n",
       "    <tr>\n",
       "      <th>2</th>\n",
       "      <td>2014</td>\n",
       "      <td>OFFICE OF THE MAYOR</td>\n",
       "      <td>LEONARD</td>\n",
       "      <td>DIANE</td>\n",
       "      <td>M</td>\n",
       "      <td>11/22/1977</td>\n",
       "      <td>EXECUTIVE ASSISTANT-MIDTOWN ENFORCEMENT       ...</td>\n",
       "      <td>ACTIVE</td>\n",
       "      <td>per Hour</td>\n",
       "      <td>1573.0</td>\n",
       "      <td>$63165.38</td>\n",
       "      <td>0.0</td>\n",
       "      <td>$0.00</td>\n",
       "      <td>$0.00</td>\n",
       "    </tr>\n",
       "    <tr>\n",
       "      <th>3</th>\n",
       "      <td>2014</td>\n",
       "      <td>OFFICE OF THE MAYOR</td>\n",
       "      <td>ROSS</td>\n",
       "      <td>JEAN</td>\n",
       "      <td>A</td>\n",
       "      <td>07/01/1978</td>\n",
       "      <td>ADMINISTRATIVE MANAGER                        ...</td>\n",
       "      <td>ACTIVE</td>\n",
       "      <td>per Annum</td>\n",
       "      <td>1825.0</td>\n",
       "      <td>$125370.69</td>\n",
       "      <td>0.0</td>\n",
       "      <td>$0.00</td>\n",
       "      <td>$0.00</td>\n",
       "    </tr>\n",
       "    <tr>\n",
       "      <th>4</th>\n",
       "      <td>2014</td>\n",
       "      <td>OFFICE OF THE MAYOR</td>\n",
       "      <td>WEINSTOCK</td>\n",
       "      <td>SUSAN</td>\n",
       "      <td>NaN</td>\n",
       "      <td>07/01/1978</td>\n",
       "      <td>ADMINISTRATIVE PRINTING SERVICES MANAGER      ...</td>\n",
       "      <td>ACTIVE</td>\n",
       "      <td>per Annum</td>\n",
       "      <td>1825.0</td>\n",
       "      <td>$84268.60</td>\n",
       "      <td>0.0</td>\n",
       "      <td>$0.00</td>\n",
       "      <td>$0.00</td>\n",
       "    </tr>\n",
       "  </tbody>\n",
       "</table>\n",
       "</div>"
      ],
      "text/plain": [
       "   Fiscal Year                     Agency Name  Last Name First Name Mid Init  \\\n",
       "0         2014  OFFICE OF THE MAYOR                MULLEN     ALFRED        J   \n",
       "1         2014  OFFICE OF THE MAYOR               GARRETT  CORNELIUS        S   \n",
       "2         2014  OFFICE OF THE MAYOR               LEONARD      DIANE        M   \n",
       "3         2014  OFFICE OF THE MAYOR                  ROSS       JEAN        A   \n",
       "4         2014  OFFICE OF THE MAYOR             WEINSTOCK      SUSAN      NaN   \n",
       "\n",
       "  Agency Start Date                                  Title Description  \\\n",
       "0        03/20/1972  CALENDAR ASSISTANT                            ...   \n",
       "1        09/25/1976  FISCAL RESPONSIBILITY OFFICER                 ...   \n",
       "2        11/22/1977  EXECUTIVE ASSISTANT-MIDTOWN ENFORCEMENT       ...   \n",
       "3        07/01/1978  ADMINISTRATIVE MANAGER                        ...   \n",
       "4        07/01/1978  ADMINISTRATIVE PRINTING SERVICES MANAGER      ...   \n",
       "\n",
       "  Leave Status as of July 31   Pay Basis  Regular Hours Regular Gross Paid  \\\n",
       "0        ON SEPARATION LEAVE   per Annum         1825.0          $83096.78   \n",
       "1        ON SEPARATION LEAVE   per Annum         1825.0          $70790.46   \n",
       "2                     ACTIVE    per Hour         1573.0          $63165.38   \n",
       "3                     ACTIVE   per Annum         1825.0         $125370.69   \n",
       "4                     ACTIVE   per Annum         1825.0          $84268.60   \n",
       "\n",
       "   OT Hours Total OT Paid Total Other Pay  \n",
       "0       0.0       $228.03           $0.00  \n",
       "1      10.5       $845.07           $0.00  \n",
       "2       0.0         $0.00           $0.00  \n",
       "3       0.0         $0.00           $0.00  \n",
       "4       0.0         $0.00           $0.00  "
      ]
     },
     "execution_count": 119,
     "metadata": {},
     "output_type": "execute_result"
    }
   ],
   "source": [
    "nyc.head()"
   ]
  },
  {
   "cell_type": "code",
   "execution_count": 120,
   "metadata": {
    "collapsed": true
   },
   "outputs": [],
   "source": [
    "nyc['Regular Gross Paid'] = nyc['Regular Gross Paid'].str.lstrip('$')\n",
    "nyc['Total OT Paid'] = nyc['Total OT Paid'].str.lstrip('$')\n",
    "nyc['Total Other Pay'] = nyc['Total Other Pay'].str.lstrip('$')"
   ]
  },
  {
   "cell_type": "code",
   "execution_count": 121,
   "metadata": {
    "collapsed": true
   },
   "outputs": [],
   "source": [
    "nyc['Regular Gross Paid'] = pd.to_numeric(nyc['Regular Gross Paid'])\n",
    "nyc['Total OT Paid'] = pd.to_numeric(nyc['Total OT Paid'])\n",
    "nyc['Total Other Pay'] = pd.to_numeric(nyc['Total Other Pay'])"
   ]
  },
  {
   "cell_type": "code",
   "execution_count": 122,
   "metadata": {
    "collapsed": false
   },
   "outputs": [
    {
     "data": {
      "text/plain": [
       "Fiscal Year                     int64\n",
       "Agency Name                    object\n",
       "Last Name                      object\n",
       "First Name                     object\n",
       "Mid Init                       object\n",
       "Agency Start Date              object\n",
       "Title Description              object\n",
       "Leave Status as of July 31     object\n",
       "Pay Basis                      object\n",
       "Regular Hours                 float64\n",
       "Regular Gross Paid            float64\n",
       "OT Hours                      float64\n",
       "Total OT Paid                 float64\n",
       "Total Other Pay               float64\n",
       "dtype: object"
      ]
     },
     "execution_count": 122,
     "metadata": {},
     "output_type": "execute_result"
    }
   ],
   "source": [
    "nyc.dtypes"
   ]
  },
  {
   "cell_type": "code",
   "execution_count": 123,
   "metadata": {
    "collapsed": false
   },
   "outputs": [
    {
     "data": {
      "text/html": [
       "<div>\n",
       "<table border=\"1\" class=\"dataframe\">\n",
       "  <thead>\n",
       "    <tr style=\"text-align: right;\">\n",
       "      <th></th>\n",
       "      <th>Fiscal Year</th>\n",
       "      <th>Regular Hours</th>\n",
       "      <th>Regular Gross Paid</th>\n",
       "      <th>OT Hours</th>\n",
       "      <th>Total OT Paid</th>\n",
       "      <th>Total Other Pay</th>\n",
       "    </tr>\n",
       "  </thead>\n",
       "  <tbody>\n",
       "    <tr>\n",
       "      <th>count</th>\n",
       "      <td>1.691487e+06</td>\n",
       "      <td>1.691486e+06</td>\n",
       "      <td>1.691486e+06</td>\n",
       "      <td>1.691486e+06</td>\n",
       "      <td>1.691486e+06</td>\n",
       "      <td>1.691486e+06</td>\n",
       "    </tr>\n",
       "    <tr>\n",
       "      <th>mean</th>\n",
       "      <td>2.015021e+03</td>\n",
       "      <td>7.022911e+02</td>\n",
       "      <td>3.996266e+04</td>\n",
       "      <td>6.443838e+01</td>\n",
       "      <td>3.440764e+03</td>\n",
       "      <td>2.302203e+03</td>\n",
       "    </tr>\n",
       "    <tr>\n",
       "      <th>std</th>\n",
       "      <td>7.892326e-01</td>\n",
       "      <td>9.041001e+02</td>\n",
       "      <td>3.665592e+04</td>\n",
       "      <td>1.519441e+02</td>\n",
       "      <td>8.886150e+03</td>\n",
       "      <td>5.083747e+03</td>\n",
       "    </tr>\n",
       "    <tr>\n",
       "      <th>min</th>\n",
       "      <td>2.014000e+03</td>\n",
       "      <td>-7.304300e+02</td>\n",
       "      <td>-2.986219e+04</td>\n",
       "      <td>-8.000000e+00</td>\n",
       "      <td>-2.382685e+04</td>\n",
       "      <td>-2.815950e+05</td>\n",
       "    </tr>\n",
       "    <tr>\n",
       "      <th>25%</th>\n",
       "      <td>2.014000e+03</td>\n",
       "      <td>0.000000e+00</td>\n",
       "      <td>3.651787e+03</td>\n",
       "      <td>0.000000e+00</td>\n",
       "      <td>0.000000e+00</td>\n",
       "      <td>0.000000e+00</td>\n",
       "    </tr>\n",
       "    <tr>\n",
       "      <th>50%</th>\n",
       "      <td>2.015000e+03</td>\n",
       "      <td>0.000000e+00</td>\n",
       "      <td>3.518840e+04</td>\n",
       "      <td>0.000000e+00</td>\n",
       "      <td>0.000000e+00</td>\n",
       "      <td>8.200000e-01</td>\n",
       "    </tr>\n",
       "    <tr>\n",
       "      <th>75%</th>\n",
       "      <td>2.016000e+03</td>\n",
       "      <td>1.825000e+03</td>\n",
       "      <td>7.172129e+04</td>\n",
       "      <td>8.000000e+00</td>\n",
       "      <td>4.109350e+02</td>\n",
       "      <td>1.686587e+03</td>\n",
       "    </tr>\n",
       "    <tr>\n",
       "      <th>max</th>\n",
       "      <td>2.016000e+03</td>\n",
       "      <td>4.171430e+03</td>\n",
       "      <td>6.723089e+05</td>\n",
       "      <td>3.347500e+03</td>\n",
       "      <td>2.286338e+05</td>\n",
       "      <td>1.003558e+05</td>\n",
       "    </tr>\n",
       "  </tbody>\n",
       "</table>\n",
       "</div>"
      ],
      "text/plain": [
       "        Fiscal Year  Regular Hours  Regular Gross Paid      OT Hours  \\\n",
       "count  1.691487e+06   1.691486e+06        1.691486e+06  1.691486e+06   \n",
       "mean   2.015021e+03   7.022911e+02        3.996266e+04  6.443838e+01   \n",
       "std    7.892326e-01   9.041001e+02        3.665592e+04  1.519441e+02   \n",
       "min    2.014000e+03  -7.304300e+02       -2.986219e+04 -8.000000e+00   \n",
       "25%    2.014000e+03   0.000000e+00        3.651787e+03  0.000000e+00   \n",
       "50%    2.015000e+03   0.000000e+00        3.518840e+04  0.000000e+00   \n",
       "75%    2.016000e+03   1.825000e+03        7.172129e+04  8.000000e+00   \n",
       "max    2.016000e+03   4.171430e+03        6.723089e+05  3.347500e+03   \n",
       "\n",
       "       Total OT Paid  Total Other Pay  \n",
       "count   1.691486e+06     1.691486e+06  \n",
       "mean    3.440764e+03     2.302203e+03  \n",
       "std     8.886150e+03     5.083747e+03  \n",
       "min    -2.382685e+04    -2.815950e+05  \n",
       "25%     0.000000e+00     0.000000e+00  \n",
       "50%     0.000000e+00     8.200000e-01  \n",
       "75%     4.109350e+02     1.686587e+03  \n",
       "max     2.286338e+05     1.003558e+05  "
      ]
     },
     "execution_count": 123,
     "metadata": {},
     "output_type": "execute_result"
    }
   ],
   "source": [
    "nyc.describe()"
   ]
  },
  {
   "cell_type": "markdown",
   "metadata": {},
   "source": [
    "# Begin comparison between datasets"
   ]
  },
  {
   "cell_type": "markdown",
   "metadata": {},
   "source": [
    "## We first look at the size of all datasets"
   ]
  },
  {
   "cell_type": "code",
   "execution_count": 124,
   "metadata": {
    "collapsed": false
   },
   "outputs": [
    {
     "data": {
      "text/plain": [
       "148654"
      ]
     },
     "execution_count": 124,
     "metadata": {},
     "output_type": "execute_result"
    }
   ],
   "source": [
    "len(sf)"
   ]
  },
  {
   "cell_type": "code",
   "execution_count": 125,
   "metadata": {
    "collapsed": false
   },
   "outputs": [
    {
     "data": {
      "text/plain": [
       "285008"
      ]
     },
     "execution_count": 125,
     "metadata": {},
     "output_type": "execute_result"
    }
   ],
   "source": [
    "len(la)"
   ]
  },
  {
   "cell_type": "code",
   "execution_count": 126,
   "metadata": {
    "collapsed": false
   },
   "outputs": [
    {
     "data": {
      "text/plain": [
       "1691487"
      ]
     },
     "execution_count": 126,
     "metadata": {},
     "output_type": "execute_result"
    }
   ],
   "source": [
    "len(nyc)"
   ]
  },
  {
   "cell_type": "markdown",
   "metadata": {},
   "source": [
    "## Secondly we compare the years which are represented in the datasets"
   ]
  },
  {
   "cell_type": "code",
   "execution_count": 127,
   "metadata": {
    "collapsed": false
   },
   "outputs": [
    {
     "data": {
      "text/plain": [
       "<matplotlib.axes._subplots.AxesSubplot at 0x254e4d8d780>"
      ]
     },
     "execution_count": 127,
     "metadata": {},
     "output_type": "execute_result"
    },
    {
     "data": {
      "image/png": "[encoded data removed]",
      "text/plain": [
       "<matplotlib.figure.Figure at 0x254e4d89eb8>"
      ]
     },
     "metadata": {},
     "output_type": "display_data"
    }
   ],
   "source": [
    "sf.groupby('Year').size().plot(kind='bar')"
   ]
  },
  {
   "cell_type": "code",
   "execution_count": 128,
   "metadata": {
    "collapsed": false
   },
   "outputs": [
    {
     "data": {
      "text/plain": [
       "<matplotlib.axes._subplots.AxesSubplot at 0x2540ca09b70>"
      ]
     },
     "execution_count": 128,
     "metadata": {},
     "output_type": "execute_result"
    },
    {
     "data": {
      "image/png": "[encoded data removed]",
      "text/plain": [
       "<matplotlib.figure.Figure at 0x254e4d99828>"
      ]
     },
     "metadata": {},
     "output_type": "display_data"
    }
   ],
   "source": [
    "la.groupby('Year').size().plot(kind='bar')"
   ]
  },
  {
   "cell_type": "code",
   "execution_count": 129,
   "metadata": {
    "collapsed": false
   },
   "outputs": [
    {
     "data": {
      "text/plain": [
       "<matplotlib.axes._subplots.AxesSubplot at 0x2540ca4eb00>"
      ]
     },
     "execution_count": 129,
     "metadata": {},
     "output_type": "execute_result"
    },
    {
     "data": {
      "image/png": "[encoded data removed]",
      "text/plain": [
       "<matplotlib.figure.Figure at 0x2540ca605c0>"
      ]
     },
     "metadata": {},
     "output_type": "display_data"
    }
   ],
   "source": [
    "nyc.groupby('Fiscal Year').size().plot(kind='bar')"
   ]
  },
  {
   "cell_type": "code",
   "execution_count": null,
   "metadata": {
    "collapsed": true
   },
   "outputs": [],
   "source": []
  },
  {
   "cell_type": "markdown",
   "metadata": {
    "collapsed": true
   },
   "source": [
    "## Comapring Departments and Job Titles"
   ]
  },
  {
   "cell_type": "code",
   "execution_count": 132,
   "metadata": {
    "collapsed": false
   },
   "outputs": [
    {
     "data": {
      "text/plain": [
       "Department Title\n",
       "Harbor (Port of LA)           5604\n",
       "Library                       7296\n",
       "General Services              7661\n",
       "Transportation (LADOT)        9701\n",
       "Public Works - Sanitation    14740\n",
       "Airports (LAWA)              18060\n",
       "Fire (LAFD)                  18134\n",
       "Recreation And Parks         35344\n",
       "Water And Power (DWP)        53545\n",
       "Police (LAPD)                66057\n",
       "dtype: int64"
      ]
     },
     "execution_count": 132,
     "metadata": {},
     "output_type": "execute_result"
    }
   ],
   "source": [
    "la.groupby('Department Title').size().sort_values().tail(10)"
   ]
  },
  {
   "cell_type": "code",
   "execution_count": 133,
   "metadata": {
    "collapsed": false
   },
   "outputs": [
    {
     "data": {
      "text/plain": [
       "JobTitle\n",
       "Patient Care Assistant          1945\n",
       "Recreation Leader               1971\n",
       "Firefighter                     2359\n",
       "TRANSIT OPERATOR                2388\n",
       "Custodian                       2418\n",
       "Police Officer 3                2421\n",
       "Public Svc Aide-Public Works    2518\n",
       "Registered Nurse                3736\n",
       "Special Nurse                   4389\n",
       "Transit Operator                7036\n",
       "dtype: int64"
      ]
     },
     "execution_count": 133,
     "metadata": {},
     "output_type": "execute_result"
    }
   ],
   "source": [
    "sf.groupby('JobTitle').size().sort_values().tail(10)"
   ]
  },
  {
   "cell_type": "code",
   "execution_count": 134,
   "metadata": {
    "collapsed": false
   },
   "outputs": [
    {
     "data": {
      "text/plain": [
       "Agency Name\n",
       "FIRE DEPARTMENT                    53869\n",
       "DEPT OF PARKS & RECREATION         54941\n",
       "Police Department                  55619\n",
       "POLICE DEPARTMENT                  59974\n",
       "DEPT OF ED HRLY SUPPORT STAFF      74787\n",
       "DEPT OF ED PARA PROFESSIONALS      92388\n",
       "BOARD OF ELECTION POLL WORKERS     95357\n",
       "POLICE DEPARTMENT                 124422\n",
       "DEPT OF ED PER SESSION TEACHER    244375\n",
       "DEPT OF ED PEDAGOGICAL            318709\n",
       "dtype: int64"
      ]
     },
     "execution_count": 134,
     "metadata": {},
     "output_type": "execute_result"
    }
   ],
   "source": [
    "nyc.groupby('Agency Name').size().sort_values().tail(10)"
   ]
  },
  {
   "cell_type": "code",
   "execution_count": null,
   "metadata": {
    "collapsed": true
   },
   "outputs": [],
   "source": []
  },
  {
   "cell_type": "code",
   "execution_count": 179,
   "metadata": {
    "collapsed": false
   },
   "outputs": [
    {
     "data": {
      "text/plain": [
       "Row ID                            int64\n",
       "Year                              int64\n",
       "Department Title                 object\n",
       "Record Number                    object\n",
       "Job Class Title                  object\n",
       "Employment Type                  object\n",
       "Hourly or Event Rate            float64\n",
       "Total Payments                  float64\n",
       "Overtime Pay                    float64\n",
       "Other Pay (Payroll Explorer)    float64\n",
       "MOU                              object\n",
       "MOU Title                        object\n",
       "Average Benefit Cost            float64\n",
       "dtype: object"
      ]
     },
     "execution_count": 179,
     "metadata": {},
     "output_type": "execute_result"
    }
   ],
   "source": [
    "la.dtypes"
   ]
  },
  {
   "cell_type": "code",
   "execution_count": 188,
   "metadata": {
    "collapsed": false
   },
   "outputs": [
    {
     "data": {
      "text/plain": [
       "<matplotlib.axes._subplots.AxesSubplot at 0x2551ebd2ef0>"
      ]
     },
     "execution_count": 188,
     "metadata": {},
     "output_type": "execute_result"
    },
    {
     "data": {
      "image/png": "[encoded data removed]",
      "text/plain": [
       "<matplotlib.figure.Figure at 0x2551ebd2128>"
      ]
     },
     "metadata": {},
     "output_type": "display_data"
    }
   ],
   "source": [
    "plt.figure(figsize = (12,6))\n",
    "plt.title(\"Histogram of Total Salary\")\n",
    "sns.distplot(la['Total Payments'], color = 'darkblue')"
   ]
  },
  {
   "cell_type": "code",
   "execution_count": null,
   "metadata": {
    "collapsed": true
   },
   "outputs": [],
   "source": []
  },
  {
   "cell_type": "code",
   "execution_count": null,
   "metadata": {
    "collapsed": true
   },
   "outputs": [],
   "source": []
  },
  {
   "cell_type": "code",
   "execution_count": null,
   "metadata": {
    "collapsed": true
   },
   "outputs": [],
   "source": []
  },
  {
   "cell_type": "code",
   "execution_count": null,
   "metadata": {
    "collapsed": true
   },
   "outputs": [],
   "source": []
  },
  {
   "cell_type": "code",
   "execution_count": null,
   "metadata": {
    "collapsed": true
   },
   "outputs": [],
   "source": []
  },
  {
   "cell_type": "code",
   "execution_count": null,
   "metadata": {
    "collapsed": true
   },
   "outputs": [],
   "source": []
  },
  {
   "cell_type": "code",
   "execution_count": null,
   "metadata": {
    "collapsed": true
   },
   "outputs": [],
   "source": []
  },
  {
   "cell_type": "code",
   "execution_count": null,
   "metadata": {
    "collapsed": true
   },
   "outputs": [],
   "source": []
  },
  {
   "cell_type": "code",
   "execution_count": null,
   "metadata": {
    "collapsed": true
   },
   "outputs": [],
   "source": []
  },
  {
   "cell_type": "code",
   "execution_count": null,
   "metadata": {
    "collapsed": true
   },
   "outputs": [],
   "source": []
  },
  {
   "cell_type": "markdown",
   "metadata": {},
   "source": [
    "# -- TO DO : CLEAN UP NAMES (START) --"
   ]
  },
  {
   "cell_type": "code",
   "execution_count": 137,
   "metadata": {
    "collapsed": false
   },
   "outputs": [
    {
     "data": {
      "text/plain": [
       "0       NATHANIEL FORD\n",
       "1         GARY JIMENEZ\n",
       "2       ALBERT PARDINI\n",
       "3    CHRISTOPHER CHONG\n",
       "4      PATRICK GARDNER\n",
       "Name: EmployeeName, dtype: object"
      ]
     },
     "execution_count": 137,
     "metadata": {},
     "output_type": "execute_result"
    }
   ],
   "source": [
    "# We need to split the names into two columns\n",
    "sf.EmployeeName.head()"
   ]
  },
  {
   "cell_type": "code",
   "execution_count": 171,
   "metadata": {
    "collapsed": false
   },
   "outputs": [
    {
     "data": {
      "text/html": [
       "<div>\n",
       "<table border=\"1\" class=\"dataframe\">\n",
       "  <thead>\n",
       "    <tr style=\"text-align: right;\">\n",
       "      <th></th>\n",
       "      <th>0</th>\n",
       "      <th>1</th>\n",
       "      <th>2</th>\n",
       "      <th>3</th>\n",
       "      <th>4</th>\n",
       "      <th>5</th>\n",
       "    </tr>\n",
       "  </thead>\n",
       "  <tbody>\n",
       "    <tr>\n",
       "      <th>97527</th>\n",
       "      <td>Grace</td>\n",
       "      <td>De</td>\n",
       "      <td>La</td>\n",
       "      <td>Cruz</td>\n",
       "      <td></td>\n",
       "      <td>Alano</td>\n",
       "    </tr>\n",
       "    <tr>\n",
       "      <th>90015</th>\n",
       "      <td>Vidalia</td>\n",
       "      <td>Irene</td>\n",
       "      <td></td>\n",
       "      <td>Cordon</td>\n",
       "      <td>De</td>\n",
       "      <td>Galvez</td>\n",
       "    </tr>\n",
       "    <tr>\n",
       "      <th>142550</th>\n",
       "      <td>Dina</td>\n",
       "      <td>C</td>\n",
       "      <td>Smith,</td>\n",
       "      <td>Msw,</td>\n",
       "      <td>Catc</td>\n",
       "      <td>Iv</td>\n",
       "    </tr>\n",
       "    <tr>\n",
       "      <th>108183</th>\n",
       "      <td>Cesar</td>\n",
       "      <td>L</td>\n",
       "      <td>De</td>\n",
       "      <td>La</td>\n",
       "      <td>Parra</td>\n",
       "      <td>Jr</td>\n",
       "    </tr>\n",
       "    <tr>\n",
       "      <th>140213</th>\n",
       "      <td>Cesar</td>\n",
       "      <td>L</td>\n",
       "      <td>De</td>\n",
       "      <td>La</td>\n",
       "      <td>Parra</td>\n",
       "      <td>Jr</td>\n",
       "    </tr>\n",
       "  </tbody>\n",
       "</table>\n",
       "</div>"
      ],
      "text/plain": [
       "              0      1       2       3      4       5\n",
       "97527     Grace     De      La    Cruz          Alano\n",
       "90015   Vidalia  Irene          Cordon     De  Galvez\n",
       "142550     Dina      C  Smith,    Msw,   Catc      Iv\n",
       "108183    Cesar      L      De      La  Parra      Jr\n",
       "140213    Cesar      L      De      La  Parra      Jr"
      ]
     },
     "execution_count": 171,
     "metadata": {},
     "output_type": "execute_result"
    }
   ],
   "source": [
    "#sf.EmployeeName = \n",
    "# Here we see that some names are rather long and will need further processing to fit into two columns.\n",
    "sf_names = sf.EmployeeName.str.split(' ', expand=True).sort_values(by=5)\n",
    "\n",
    "# .iloc[rows,columns]\n",
    "sf_names.iloc[0:5,0:6]"
   ]
  },
  {
   "cell_type": "markdown",
   "metadata": {
    "collapsed": true
   },
   "source": [
    "# -- TO DO : CLEAN UP NAMES (END) --"
   ]
  },
  {
   "cell_type": "code",
   "execution_count": null,
   "metadata": {
    "collapsed": true
   },
   "outputs": [],
   "source": []
  },
  {
   "cell_type": "code",
   "execution_count": null,
   "metadata": {
    "collapsed": true
   },
   "outputs": [],
   "source": []
  },
  {
   "cell_type": "code",
   "execution_count": null,
   "metadata": {
    "collapsed": true
   },
   "outputs": [],
   "source": []
  },
  {
   "cell_type": "code",
   "execution_count": null,
   "metadata": {
    "collapsed": true
   },
   "outputs": [],
   "source": []
  },
  {
   "cell_type": "code",
   "execution_count": null,
   "metadata": {
    "collapsed": true
   },
   "outputs": [],
   "source": []
  },
  {
   "cell_type": "code",
   "execution_count": null,
   "metadata": {
    "collapsed": true
   },
   "outputs": [],
   "source": []
  },
  {
   "cell_type": "code",
   "execution_count": null,
   "metadata": {
    "collapsed": true
   },
   "outputs": [],
   "source": []
  },
  {
   "cell_type": "code",
   "execution_count": null,
   "metadata": {
    "collapsed": true
   },
   "outputs": [],
   "source": []
  },
  {
   "cell_type": "code",
   "execution_count": null,
   "metadata": {
    "collapsed": true
   },
   "outputs": [],
   "source": []
  }
 ],
 "metadata": {
  "kernelspec": {
   "display_name": "Python [default]",
   "language": "python",
   "name": "python3"
  },
  "language_info": {
   "codemirror_mode": {
    "name": "ipython",
    "version": 3
   },
   "file_extension": ".py",
   "mimetype": "text/x-python",
   "name": "python",
   "nbconvert_exporter": "python",
   "pygments_lexer": "ipython3",
   "version": "3.6.0"
  }
 },
 "nbformat": 4,
 "nbformat_minor": 2
}
