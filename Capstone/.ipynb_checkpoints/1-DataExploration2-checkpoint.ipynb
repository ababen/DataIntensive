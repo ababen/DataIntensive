{
 "cells": [
  {
   "cell_type": "code",
   "execution_count": 102,
   "metadata": {
    "collapsed": true
   },
   "outputs": [],
   "source": [
    "import pandas as pd"
   ]
  },
  {
   "cell_type": "code",
   "execution_count": 103,
   "metadata": {
    "collapsed": true
   },
   "outputs": [],
   "source": [
    "import numpy as np"
   ]
  },
  {
   "cell_type": "code",
   "execution_count": 104,
   "metadata": {
    "collapsed": true
   },
   "outputs": [],
   "source": [
    "import matplotlib.pylab as plt"
   ]
  },
  {
   "cell_type": "code",
   "execution_count": 105,
   "metadata": {
    "collapsed": false
   },
   "outputs": [
    {
     "data": {
      "text/html": [
       "<style>body {\n",
       "    margin: 0;\n",
       "    font-family: Helvetica;\n",
       "}\n",
       "table.dataframe {\n",
       "    border-collapse: collapse;\n",
       "    border: none;\n",
       "}\n",
       "table.dataframe tr {\n",
       "    border: none;\n",
       "}\n",
       "table.dataframe td, table.dataframe th {\n",
       "    margin: 0;\n",
       "    border: 1px solid white;\n",
       "    padding-left: 0.25em;\n",
       "    padding-right: 0.25em;\n",
       "}\n",
       "table.dataframe th:not(:empty) {\n",
       "    background-color: #fec;\n",
       "    text-align: left;\n",
       "    font-weight: normal;\n",
       "}\n",
       "table.dataframe tr:nth-child(2) th:empty {\n",
       "    border-left: none;\n",
       "    border-right: 1px dashed #888;\n",
       "}\n",
       "table.dataframe td {\n",
       "    border: 2px solid #ccf;\n",
       "    background-color: #f4f4ff;\n",
       "}\n",
       "h3 {\n",
       "    color: white;\n",
       "    background-color: black;\n",
       "    padding: 0.5em;\n",
       "}\n",
       "</style>"
      ],
      "text/plain": [
       "<IPython.core.display.HTML object>"
      ]
     },
     "execution_count": 105,
     "metadata": {},
     "output_type": "execute_result"
    }
   ],
   "source": [
    "from IPython.core.display import HTML\n",
    "css = open('other/style-table.css').read() + open('other/style-notebook.css').read()\n",
    "HTML('<style>{}</style>'.format(css))"
   ]
  },
  {
   "cell_type": "markdown",
   "metadata": {},
   "source": [
    "# What Needs To Be Done in Wrangling"
   ]
  },
  {
   "cell_type": "markdown",
   "metadata": {},
   "source": [
    "1. [x] Import datasets\n",
    "2. [ ] Remove un-needed columns (for visual simplification)\n",
    "3. [ ] Remove character '$' so that forced objects can be converted to numeric\n",
    "  1. [ ] Convert forced objects to numeric (where appropriate)\n",
    "5. [ ] Create combined dataset\n",
    "6. [ ] Perform analysis on seperate and combined datasets"
   ]
  },
  {
   "cell_type": "markdown",
   "metadata": {},
   "source": [
    "# What Needs To Be Done in Data Visualization"
   ]
  },
  {
   "cell_type": "markdown",
   "metadata": {},
   "source": [
    "* [ ] Describe each dataset"
   ]
  },
  {
   "cell_type": "markdown",
   "metadata": {},
   "source": [
    "# Here we compare the fields between the three datasets\n",
    "![Field Compairson](FieldComparison.png)"
   ]
  },
  {
   "cell_type": "code",
   "execution_count": null,
   "metadata": {
    "collapsed": true
   },
   "outputs": [],
   "source": []
  },
  {
   "cell_type": "code",
   "execution_count": 106,
   "metadata": {
    "collapsed": false
   },
   "outputs": [],
   "source": [
    "# Load Los Angelos salaries dataset from Kaggle\n",
    "la = pd.read_csv('data/city-payroll-data/data.csv', usecols=[0,1,2,4,5,6,7,15,21,23,24,25,32], dtype={4: object, 24: object})"
   ]
  },
  {
   "cell_type": "code",
   "execution_count": 107,
   "metadata": {
    "collapsed": false
   },
   "outputs": [],
   "source": [
    "# Load San Francisco salaries dataset from Kaggle\n",
    "sf = pd.read_csv('data/sf-salaries/Salaries.csv', usecols=[0,1,2,3,4,5,6,7,9,11,12], dtype={3: object, 4: object, 5: object, 6: object, 12: object})"
   ]
  },
  {
   "cell_type": "code",
   "execution_count": 108,
   "metadata": {
    "collapsed": false
   },
   "outputs": [],
   "source": [
    "# Load New York City salaries dataset from OpenData\n",
    "nyc = pd.read_csv('data/nyc/Citywide_Payroll_Data__Fiscal_Year_.csv', dtype={7: object})"
   ]
  },
  {
   "cell_type": "code",
   "execution_count": 109,
   "metadata": {
    "collapsed": false,
    "scrolled": false
   },
   "outputs": [
    {
     "data": {
      "text/html": [
       "<div>\n",
       "<table border=\"1\" class=\"dataframe\">\n",
       "  <thead>\n",
       "    <tr style=\"text-align: right;\">\n",
       "      <th></th>\n",
       "      <th>Row ID</th>\n",
       "      <th>Year</th>\n",
       "      <th>Department Title</th>\n",
       "      <th>Record Number</th>\n",
       "      <th>Job Class Title</th>\n",
       "      <th>Employment Type</th>\n",
       "      <th>Hourly or Event Rate</th>\n",
       "      <th>Total Payments</th>\n",
       "      <th>Overtime Pay</th>\n",
       "      <th>Other Pay (Payroll Explorer)</th>\n",
       "      <th>MOU</th>\n",
       "      <th>MOU Title</th>\n",
       "      <th>Average Benefit Cost</th>\n",
       "    </tr>\n",
       "  </thead>\n",
       "  <tbody>\n",
       "    <tr>\n",
       "      <th>0</th>\n",
       "      <td>111391</td>\n",
       "      <td>2014</td>\n",
       "      <td>Water And Power (DWP)</td>\n",
       "      <td>1412316577</td>\n",
       "      <td>Commercial Service Representative</td>\n",
       "      <td>Full Time</td>\n",
       "      <td>NaN</td>\n",
       "      <td>$74584.48</td>\n",
       "      <td>$369.12</td>\n",
       "      <td>$13904.79</td>\n",
       "      <td>NaN</td>\n",
       "      <td>NaN</td>\n",
       "      <td>$18124.69</td>\n",
       "    </tr>\n",
       "    <tr>\n",
       "      <th>1</th>\n",
       "      <td>31732</td>\n",
       "      <td>2013</td>\n",
       "      <td>Police (LAPD)</td>\n",
       "      <td>432728338</td>\n",
       "      <td>Police Officer I</td>\n",
       "      <td>Full Time</td>\n",
       "      <td>$25.12</td>\n",
       "      <td>$51207.45</td>\n",
       "      <td>$11.13</td>\n",
       "      <td>$1689.27</td>\n",
       "      <td>24</td>\n",
       "      <td>POLICE OFFICERS UNIT</td>\n",
       "      <td>$12740.52</td>\n",
       "    </tr>\n",
       "    <tr>\n",
       "      <th>2</th>\n",
       "      <td>27697</td>\n",
       "      <td>2013</td>\n",
       "      <td>Police (LAPD)</td>\n",
       "      <td>97182506</td>\n",
       "      <td>Police Officer II</td>\n",
       "      <td>Full Time</td>\n",
       "      <td>$42.77</td>\n",
       "      <td>$89029.61</td>\n",
       "      <td>$482.29</td>\n",
       "      <td>$3637.91</td>\n",
       "      <td>24</td>\n",
       "      <td>POLICE OFFICERS UNIT</td>\n",
       "      <td>$12740.52</td>\n",
       "    </tr>\n",
       "    <tr>\n",
       "      <th>3</th>\n",
       "      <td>14136</td>\n",
       "      <td>2013</td>\n",
       "      <td>Harbor (Port of LA)</td>\n",
       "      <td>950136941</td>\n",
       "      <td>Senior Security Officer</td>\n",
       "      <td>Full Time</td>\n",
       "      <td>$28.75</td>\n",
       "      <td>$71936.24</td>\n",
       "      <td>$11504.72</td>\n",
       "      <td>$2770.72</td>\n",
       "      <td>12</td>\n",
       "      <td>SUPV BLUE COLLAR</td>\n",
       "      <td>$11126.88</td>\n",
       "    </tr>\n",
       "    <tr>\n",
       "      <th>4</th>\n",
       "      <td>91896</td>\n",
       "      <td>2014</td>\n",
       "      <td>Public Works - Sanitation</td>\n",
       "      <td>3230003445</td>\n",
       "      <td>Senior Clerk Typist</td>\n",
       "      <td>Full Time</td>\n",
       "      <td>$30.92</td>\n",
       "      <td>$64583.37</td>\n",
       "      <td>$417.37</td>\n",
       "      <td>$4774.25</td>\n",
       "      <td>03</td>\n",
       "      <td>CLERICAL UNIT</td>\n",
       "      <td>$11421.48</td>\n",
       "    </tr>\n",
       "  </tbody>\n",
       "</table>\n",
       "</div>"
      ],
      "text/plain": [
       "   Row ID  Year           Department Title Record Number  \\\n",
       "0  111391  2014      Water And Power (DWP)    1412316577   \n",
       "1   31732  2013              Police (LAPD)     432728338   \n",
       "2   27697  2013              Police (LAPD)      97182506   \n",
       "3   14136  2013        Harbor (Port of LA)     950136941   \n",
       "4   91896  2014  Public Works - Sanitation    3230003445   \n",
       "\n",
       "                     Job Class Title Employment Type Hourly or Event Rate  \\\n",
       "0  Commercial Service Representative       Full Time                  NaN   \n",
       "1                   Police Officer I       Full Time               $25.12   \n",
       "2                  Police Officer II       Full Time               $42.77   \n",
       "3            Senior Security Officer       Full Time               $28.75   \n",
       "4                Senior Clerk Typist       Full Time               $30.92   \n",
       "\n",
       "  Total Payments Overtime Pay Other Pay (Payroll Explorer)  MOU  \\\n",
       "0      $74584.48      $369.12                    $13904.79  NaN   \n",
       "1      $51207.45       $11.13                     $1689.27   24   \n",
       "2      $89029.61      $482.29                     $3637.91   24   \n",
       "3      $71936.24    $11504.72                     $2770.72   12   \n",
       "4      $64583.37      $417.37                     $4774.25   03   \n",
       "\n",
       "              MOU Title Average Benefit Cost  \n",
       "0                   NaN            $18124.69  \n",
       "1  POLICE OFFICERS UNIT            $12740.52  \n",
       "2  POLICE OFFICERS UNIT            $12740.52  \n",
       "3      SUPV BLUE COLLAR            $11126.88  \n",
       "4         CLERICAL UNIT            $11421.48  "
      ]
     },
     "execution_count": 109,
     "metadata": {},
     "output_type": "execute_result"
    }
   ],
   "source": [
    "la.head()"
   ]
  },
  {
   "cell_type": "code",
   "execution_count": 110,
   "metadata": {
    "collapsed": false
   },
   "outputs": [],
   "source": [
    "# Removing columns which I do not intend to use for this analysis\n",
    "# la.drop(la.columns[[3, 8, 9, 10, 11, 12, 13, 14, 16, 26, 27, 28, 29, 30, 31, 33, 34]], axis=1)"
   ]
  },
  {
   "cell_type": "code",
   "execution_count": 111,
   "metadata": {
    "collapsed": false
   },
   "outputs": [],
   "source": [
    "# Removing the $ character so that the type can be converted to numeric for further statistical anaslysis\n",
    "la['Hourly or Event Rate'] = la['Hourly or Event Rate'].str.lstrip('$')\n",
    "la['Total Payments'] = la['Total Payments'].str.lstrip('$')\n",
    "la['Overtime Pay'] = la['Overtime Pay'].str.lstrip('$')\n",
    "la['Other Pay (Payroll Explorer)'] = la['Other Pay (Payroll Explorer)'].str.lstrip('$')\n",
    "la['Average Benefit Cost'] = la['Average Benefit Cost'].str.lstrip('$')"
   ]
  },
  {
   "cell_type": "code",
   "execution_count": 112,
   "metadata": {
    "collapsed": false
   },
   "outputs": [],
   "source": [
    "# Converting datatypes to numeric for statistical analysis\n",
    "la['Total Payments'] = pd.to_numeric(la['Total Payments'])\n",
    "la['Hourly or Event Rate'] = pd.to_numeric(la['Hourly or Event Rate'])\n",
    "la['Total Payments'] = pd.to_numeric(la['Total Payments'])\n",
    "la['Overtime Pay'] = pd.to_numeric(la['Overtime Pay'])\n",
    "la['Other Pay (Payroll Explorer)'] = pd.to_numeric(la['Other Pay (Payroll Explorer)'])\n",
    "la['Average Benefit Cost'] = pd.to_numeric(la['Average Benefit Cost'])"
   ]
  },
  {
   "cell_type": "code",
   "execution_count": 113,
   "metadata": {
    "collapsed": false
   },
   "outputs": [
    {
     "data": {
      "text/plain": [
       "Row ID                            int64\n",
       "Year                              int64\n",
       "Department Title                 object\n",
       "Record Number                    object\n",
       "Job Class Title                  object\n",
       "Employment Type                  object\n",
       "Hourly or Event Rate            float64\n",
       "Total Payments                  float64\n",
       "Overtime Pay                    float64\n",
       "Other Pay (Payroll Explorer)    float64\n",
       "MOU                              object\n",
       "MOU Title                        object\n",
       "Average Benefit Cost            float64\n",
       "dtype: object"
      ]
     },
     "execution_count": 113,
     "metadata": {},
     "output_type": "execute_result"
    }
   ],
   "source": [
    "la.dtypes"
   ]
  },
  {
   "cell_type": "code",
   "execution_count": 114,
   "metadata": {
    "collapsed": false
   },
   "outputs": [
    {
     "data": {
      "text/html": [
       "<div>\n",
       "<table border=\"1\" class=\"dataframe\">\n",
       "  <thead>\n",
       "    <tr style=\"text-align: right;\">\n",
       "      <th></th>\n",
       "      <th>Row ID</th>\n",
       "      <th>Year</th>\n",
       "      <th>Hourly or Event Rate</th>\n",
       "      <th>Total Payments</th>\n",
       "      <th>Overtime Pay</th>\n",
       "      <th>Other Pay (Payroll Explorer)</th>\n",
       "      <th>Average Benefit Cost</th>\n",
       "    </tr>\n",
       "  </thead>\n",
       "  <tbody>\n",
       "    <tr>\n",
       "      <th>count</th>\n",
       "      <td>285008.000000</td>\n",
       "      <td>285008.000000</td>\n",
       "      <td>263987.000000</td>\n",
       "      <td>285008.000000</td>\n",
       "      <td>284574.000000</td>\n",
       "      <td>285008.000000</td>\n",
       "      <td>285008.000000</td>\n",
       "    </tr>\n",
       "    <tr>\n",
       "      <th>mean</th>\n",
       "      <td>142544.329759</td>\n",
       "      <td>2014.786701</td>\n",
       "      <td>38.891489</td>\n",
       "      <td>63014.632040</td>\n",
       "      <td>6387.454101</td>\n",
       "      <td>4983.182752</td>\n",
       "      <td>11290.999867</td>\n",
       "    </tr>\n",
       "    <tr>\n",
       "      <th>std</th>\n",
       "      <td>82330.135857</td>\n",
       "      <td>1.161369</td>\n",
       "      <td>32.924956</td>\n",
       "      <td>48666.570776</td>\n",
       "      <td>14670.314425</td>\n",
       "      <td>8719.631894</td>\n",
       "      <td>5708.016753</td>\n",
       "    </tr>\n",
       "    <tr>\n",
       "      <th>min</th>\n",
       "      <td>1.000000</td>\n",
       "      <td>2013.000000</td>\n",
       "      <td>0.000000</td>\n",
       "      <td>-30728.270000</td>\n",
       "      <td>-1019.490000</td>\n",
       "      <td>-30878.270000</td>\n",
       "      <td>0.000000</td>\n",
       "    </tr>\n",
       "    <tr>\n",
       "      <th>25%</th>\n",
       "      <td>71252.750000</td>\n",
       "      <td>2014.000000</td>\n",
       "      <td>26.480000</td>\n",
       "      <td>22930.745000</td>\n",
       "      <td>0.000000</td>\n",
       "      <td>389.027500</td>\n",
       "      <td>11126.880000</td>\n",
       "    </tr>\n",
       "    <tr>\n",
       "      <th>50%</th>\n",
       "      <td>142504.500000</td>\n",
       "      <td>2015.000000</td>\n",
       "      <td>37.310000</td>\n",
       "      <td>54959.080000</td>\n",
       "      <td>331.085000</td>\n",
       "      <td>2418.435000</td>\n",
       "      <td>11894.130000</td>\n",
       "    </tr>\n",
       "    <tr>\n",
       "      <th>75%</th>\n",
       "      <td>213756.250000</td>\n",
       "      <td>2016.000000</td>\n",
       "      <td>47.630000</td>\n",
       "      <td>95981.917500</td>\n",
       "      <td>5860.485000</td>\n",
       "      <td>6145.220000</td>\n",
       "      <td>14073.960000</td>\n",
       "    </tr>\n",
       "    <tr>\n",
       "      <th>max</th>\n",
       "      <td>285208.000000</td>\n",
       "      <td>2016.000000</td>\n",
       "      <td>900.000000</td>\n",
       "      <td>500930.740000</td>\n",
       "      <td>311315.620000</td>\n",
       "      <td>435621.770000</td>\n",
       "      <td>19392.620000</td>\n",
       "    </tr>\n",
       "  </tbody>\n",
       "</table>\n",
       "</div>"
      ],
      "text/plain": [
       "              Row ID           Year  Hourly or Event Rate  Total Payments  \\\n",
       "count  285008.000000  285008.000000         263987.000000   285008.000000   \n",
       "mean   142544.329759    2014.786701             38.891489    63014.632040   \n",
       "std     82330.135857       1.161369             32.924956    48666.570776   \n",
       "min         1.000000    2013.000000              0.000000   -30728.270000   \n",
       "25%     71252.750000    2014.000000             26.480000    22930.745000   \n",
       "50%    142504.500000    2015.000000             37.310000    54959.080000   \n",
       "75%    213756.250000    2016.000000             47.630000    95981.917500   \n",
       "max    285208.000000    2016.000000            900.000000   500930.740000   \n",
       "\n",
       "        Overtime Pay  Other Pay (Payroll Explorer)  Average Benefit Cost  \n",
       "count  284574.000000                 285008.000000         285008.000000  \n",
       "mean     6387.454101                   4983.182752          11290.999867  \n",
       "std     14670.314425                   8719.631894           5708.016753  \n",
       "min     -1019.490000                 -30878.270000              0.000000  \n",
       "25%         0.000000                    389.027500          11126.880000  \n",
       "50%       331.085000                   2418.435000          11894.130000  \n",
       "75%      5860.485000                   6145.220000          14073.960000  \n",
       "max    311315.620000                 435621.770000          19392.620000  "
      ]
     },
     "execution_count": 114,
     "metadata": {},
     "output_type": "execute_result"
    }
   ],
   "source": [
    "la.describe()"
   ]
  },
  {
   "cell_type": "markdown",
   "metadata": {
    "collapsed": true
   },
   "source": [
    "## Start with San Francisco salaries dataset"
   ]
  },
  {
   "cell_type": "code",
   "execution_count": 115,
   "metadata": {
    "collapsed": false
   },
   "outputs": [
    {
     "data": {
      "text/html": [
       "<div>\n",
       "<table border=\"1\" class=\"dataframe\">\n",
       "  <thead>\n",
       "    <tr style=\"text-align: right;\">\n",
       "      <th></th>\n",
       "      <th>Id</th>\n",
       "      <th>EmployeeName</th>\n",
       "      <th>JobTitle</th>\n",
       "      <th>BasePay</th>\n",
       "      <th>OvertimePay</th>\n",
       "      <th>OtherPay</th>\n",
       "      <th>Benefits</th>\n",
       "      <th>TotalPay</th>\n",
       "      <th>Year</th>\n",
       "      <th>Agency</th>\n",
       "      <th>Status</th>\n",
       "    </tr>\n",
       "  </thead>\n",
       "  <tbody>\n",
       "    <tr>\n",
       "      <th>0</th>\n",
       "      <td>1</td>\n",
       "      <td>NATHANIEL FORD</td>\n",
       "      <td>GENERAL MANAGER-METROPOLITAN TRANSIT AUTHORITY</td>\n",
       "      <td>167411.18</td>\n",
       "      <td>0.0</td>\n",
       "      <td>400184.25</td>\n",
       "      <td>NaN</td>\n",
       "      <td>567595.43</td>\n",
       "      <td>2011</td>\n",
       "      <td>San Francisco</td>\n",
       "      <td>NaN</td>\n",
       "    </tr>\n",
       "    <tr>\n",
       "      <th>1</th>\n",
       "      <td>2</td>\n",
       "      <td>GARY JIMENEZ</td>\n",
       "      <td>CAPTAIN III (POLICE DEPARTMENT)</td>\n",
       "      <td>155966.02</td>\n",
       "      <td>245131.88</td>\n",
       "      <td>137811.38</td>\n",
       "      <td>NaN</td>\n",
       "      <td>538909.28</td>\n",
       "      <td>2011</td>\n",
       "      <td>San Francisco</td>\n",
       "      <td>NaN</td>\n",
       "    </tr>\n",
       "    <tr>\n",
       "      <th>2</th>\n",
       "      <td>3</td>\n",
       "      <td>ALBERT PARDINI</td>\n",
       "      <td>CAPTAIN III (POLICE DEPARTMENT)</td>\n",
       "      <td>212739.13</td>\n",
       "      <td>106088.18</td>\n",
       "      <td>16452.6</td>\n",
       "      <td>NaN</td>\n",
       "      <td>335279.91</td>\n",
       "      <td>2011</td>\n",
       "      <td>San Francisco</td>\n",
       "      <td>NaN</td>\n",
       "    </tr>\n",
       "    <tr>\n",
       "      <th>3</th>\n",
       "      <td>4</td>\n",
       "      <td>CHRISTOPHER CHONG</td>\n",
       "      <td>WIRE ROPE CABLE MAINTENANCE MECHANIC</td>\n",
       "      <td>77916.0</td>\n",
       "      <td>56120.71</td>\n",
       "      <td>198306.9</td>\n",
       "      <td>NaN</td>\n",
       "      <td>332343.61</td>\n",
       "      <td>2011</td>\n",
       "      <td>San Francisco</td>\n",
       "      <td>NaN</td>\n",
       "    </tr>\n",
       "    <tr>\n",
       "      <th>4</th>\n",
       "      <td>5</td>\n",
       "      <td>PATRICK GARDNER</td>\n",
       "      <td>DEPUTY CHIEF OF DEPARTMENT,(FIRE DEPARTMENT)</td>\n",
       "      <td>134401.6</td>\n",
       "      <td>9737.0</td>\n",
       "      <td>182234.59</td>\n",
       "      <td>NaN</td>\n",
       "      <td>326373.19</td>\n",
       "      <td>2011</td>\n",
       "      <td>San Francisco</td>\n",
       "      <td>NaN</td>\n",
       "    </tr>\n",
       "  </tbody>\n",
       "</table>\n",
       "</div>"
      ],
      "text/plain": [
       "   Id       EmployeeName                                        JobTitle  \\\n",
       "0   1     NATHANIEL FORD  GENERAL MANAGER-METROPOLITAN TRANSIT AUTHORITY   \n",
       "1   2       GARY JIMENEZ                 CAPTAIN III (POLICE DEPARTMENT)   \n",
       "2   3     ALBERT PARDINI                 CAPTAIN III (POLICE DEPARTMENT)   \n",
       "3   4  CHRISTOPHER CHONG            WIRE ROPE CABLE MAINTENANCE MECHANIC   \n",
       "4   5    PATRICK GARDNER    DEPUTY CHIEF OF DEPARTMENT,(FIRE DEPARTMENT)   \n",
       "\n",
       "     BasePay OvertimePay   OtherPay Benefits   TotalPay  Year         Agency  \\\n",
       "0  167411.18         0.0  400184.25      NaN  567595.43  2011  San Francisco   \n",
       "1  155966.02   245131.88  137811.38      NaN  538909.28  2011  San Francisco   \n",
       "2  212739.13   106088.18    16452.6      NaN  335279.91  2011  San Francisco   \n",
       "3    77916.0    56120.71   198306.9      NaN  332343.61  2011  San Francisco   \n",
       "4   134401.6      9737.0  182234.59      NaN  326373.19  2011  San Francisco   \n",
       "\n",
       "  Status  \n",
       "0    NaN  \n",
       "1    NaN  \n",
       "2    NaN  \n",
       "3    NaN  \n",
       "4    NaN  "
      ]
     },
     "execution_count": 115,
     "metadata": {},
     "output_type": "execute_result"
    }
   ],
   "source": [
    "sf.head()"
   ]
  },
  {
   "cell_type": "code",
   "execution_count": 116,
   "metadata": {
    "collapsed": false
   },
   "outputs": [
    {
     "data": {
      "text/plain": [
       "Id                int64\n",
       "EmployeeName     object\n",
       "JobTitle         object\n",
       "BasePay          object\n",
       "OvertimePay      object\n",
       "OtherPay         object\n",
       "Benefits         object\n",
       "TotalPay        float64\n",
       "Year              int64\n",
       "Agency           object\n",
       "Status           object\n",
       "dtype: object"
      ]
     },
     "execution_count": 116,
     "metadata": {},
     "output_type": "execute_result"
    }
   ],
   "source": [
    "sf.dtypes"
   ]
  },
  {
   "cell_type": "code",
   "execution_count": 117,
   "metadata": {
    "collapsed": false
   },
   "outputs": [
    {
     "data": {
      "text/html": [
       "<div>\n",
       "<table border=\"1\" class=\"dataframe\">\n",
       "  <thead>\n",
       "    <tr style=\"text-align: right;\">\n",
       "      <th></th>\n",
       "      <th>Id</th>\n",
       "      <th>TotalPay</th>\n",
       "      <th>Year</th>\n",
       "    </tr>\n",
       "  </thead>\n",
       "  <tbody>\n",
       "    <tr>\n",
       "      <th>count</th>\n",
       "      <td>148654.000000</td>\n",
       "      <td>148654.000000</td>\n",
       "      <td>148654.000000</td>\n",
       "    </tr>\n",
       "    <tr>\n",
       "      <th>mean</th>\n",
       "      <td>74327.500000</td>\n",
       "      <td>74768.321972</td>\n",
       "      <td>2012.522643</td>\n",
       "    </tr>\n",
       "    <tr>\n",
       "      <th>std</th>\n",
       "      <td>42912.857795</td>\n",
       "      <td>50517.005274</td>\n",
       "      <td>1.117538</td>\n",
       "    </tr>\n",
       "    <tr>\n",
       "      <th>min</th>\n",
       "      <td>1.000000</td>\n",
       "      <td>-618.130000</td>\n",
       "      <td>2011.000000</td>\n",
       "    </tr>\n",
       "    <tr>\n",
       "      <th>25%</th>\n",
       "      <td>37164.250000</td>\n",
       "      <td>36168.995000</td>\n",
       "      <td>2012.000000</td>\n",
       "    </tr>\n",
       "    <tr>\n",
       "      <th>50%</th>\n",
       "      <td>74327.500000</td>\n",
       "      <td>71426.610000</td>\n",
       "      <td>2013.000000</td>\n",
       "    </tr>\n",
       "    <tr>\n",
       "      <th>75%</th>\n",
       "      <td>111490.750000</td>\n",
       "      <td>105839.135000</td>\n",
       "      <td>2014.000000</td>\n",
       "    </tr>\n",
       "    <tr>\n",
       "      <th>max</th>\n",
       "      <td>148654.000000</td>\n",
       "      <td>567595.430000</td>\n",
       "      <td>2014.000000</td>\n",
       "    </tr>\n",
       "  </tbody>\n",
       "</table>\n",
       "</div>"
      ],
      "text/plain": [
       "                  Id       TotalPay           Year\n",
       "count  148654.000000  148654.000000  148654.000000\n",
       "mean    74327.500000   74768.321972    2012.522643\n",
       "std     42912.857795   50517.005274       1.117538\n",
       "min         1.000000    -618.130000    2011.000000\n",
       "25%     37164.250000   36168.995000    2012.000000\n",
       "50%     74327.500000   71426.610000    2013.000000\n",
       "75%    111490.750000  105839.135000    2014.000000\n",
       "max    148654.000000  567595.430000    2014.000000"
      ]
     },
     "execution_count": 117,
     "metadata": {},
     "output_type": "execute_result"
    }
   ],
   "source": [
    "sf.describe()"
   ]
  },
  {
   "cell_type": "markdown",
   "metadata": {
    "collapsed": true
   },
   "source": [
    "# Staring with New York City salaries dataset"
   ]
  },
  {
   "cell_type": "code",
   "execution_count": 118,
   "metadata": {
    "collapsed": false
   },
   "outputs": [
    {
     "data": {
      "text/html": [
       "<div>\n",
       "<table border=\"1\" class=\"dataframe\">\n",
       "  <thead>\n",
       "    <tr style=\"text-align: right;\">\n",
       "      <th></th>\n",
       "      <th>Fiscal Year</th>\n",
       "      <th>Payroll Number</th>\n",
       "      <th>Agency Name</th>\n",
       "      <th>Last Name</th>\n",
       "      <th>First Name</th>\n",
       "      <th>Mid Init</th>\n",
       "      <th>Agency Start Date</th>\n",
       "      <th>Work Location Borough</th>\n",
       "      <th>Title Description</th>\n",
       "      <th>Leave Status as of July 31</th>\n",
       "      <th>Base Salary</th>\n",
       "      <th>Pay Basis</th>\n",
       "      <th>Regular Hours</th>\n",
       "      <th>Regular Gross Paid</th>\n",
       "      <th>OT Hours</th>\n",
       "      <th>Total OT Paid</th>\n",
       "      <th>Total Other Pay</th>\n",
       "    </tr>\n",
       "  </thead>\n",
       "  <tbody>\n",
       "    <tr>\n",
       "      <th>0</th>\n",
       "      <td>2014</td>\n",
       "      <td>2.0</td>\n",
       "      <td>OFFICE OF THE MAYOR</td>\n",
       "      <td>MULLEN</td>\n",
       "      <td>ALFRED</td>\n",
       "      <td>J</td>\n",
       "      <td>03/20/1972</td>\n",
       "      <td>NaN</td>\n",
       "      <td>CALENDAR ASSISTANT                            ...</td>\n",
       "      <td>ON SEPARATION LEAVE</td>\n",
       "      <td>$83325.00</td>\n",
       "      <td>per Annum</td>\n",
       "      <td>1825.0</td>\n",
       "      <td>$83096.78</td>\n",
       "      <td>0.0</td>\n",
       "      <td>$228.03</td>\n",
       "      <td>$0.00</td>\n",
       "    </tr>\n",
       "    <tr>\n",
       "      <th>1</th>\n",
       "      <td>2014</td>\n",
       "      <td>2.0</td>\n",
       "      <td>OFFICE OF THE MAYOR</td>\n",
       "      <td>GARRETT</td>\n",
       "      <td>CORNELIUS</td>\n",
       "      <td>S</td>\n",
       "      <td>09/25/1976</td>\n",
       "      <td>NaN</td>\n",
       "      <td>FISCAL RESPONSIBILITY OFFICER                 ...</td>\n",
       "      <td>ON SEPARATION LEAVE</td>\n",
       "      <td>$70985.00</td>\n",
       "      <td>per Annum</td>\n",
       "      <td>1825.0</td>\n",
       "      <td>$70790.46</td>\n",
       "      <td>10.5</td>\n",
       "      <td>$845.07</td>\n",
       "      <td>$0.00</td>\n",
       "    </tr>\n",
       "    <tr>\n",
       "      <th>2</th>\n",
       "      <td>2014</td>\n",
       "      <td>2.0</td>\n",
       "      <td>OFFICE OF THE MAYOR</td>\n",
       "      <td>LEONARD</td>\n",
       "      <td>DIANE</td>\n",
       "      <td>M</td>\n",
       "      <td>11/22/1977</td>\n",
       "      <td>NaN</td>\n",
       "      <td>EXECUTIVE ASSISTANT-MIDTOWN ENFORCEMENT       ...</td>\n",
       "      <td>ACTIVE</td>\n",
       "      <td>$40.51</td>\n",
       "      <td>per Hour</td>\n",
       "      <td>1573.0</td>\n",
       "      <td>$63165.38</td>\n",
       "      <td>0.0</td>\n",
       "      <td>$0.00</td>\n",
       "      <td>$0.00</td>\n",
       "    </tr>\n",
       "    <tr>\n",
       "      <th>3</th>\n",
       "      <td>2014</td>\n",
       "      <td>2.0</td>\n",
       "      <td>OFFICE OF THE MAYOR</td>\n",
       "      <td>ROSS</td>\n",
       "      <td>JEAN</td>\n",
       "      <td>A</td>\n",
       "      <td>07/01/1978</td>\n",
       "      <td>NaN</td>\n",
       "      <td>ADMINISTRATIVE MANAGER                        ...</td>\n",
       "      <td>ACTIVE</td>\n",
       "      <td>$125715.00</td>\n",
       "      <td>per Annum</td>\n",
       "      <td>1825.0</td>\n",
       "      <td>$125370.69</td>\n",
       "      <td>0.0</td>\n",
       "      <td>$0.00</td>\n",
       "      <td>$0.00</td>\n",
       "    </tr>\n",
       "    <tr>\n",
       "      <th>4</th>\n",
       "      <td>2014</td>\n",
       "      <td>2.0</td>\n",
       "      <td>OFFICE OF THE MAYOR</td>\n",
       "      <td>WEINSTOCK</td>\n",
       "      <td>SUSAN</td>\n",
       "      <td>NaN</td>\n",
       "      <td>07/01/1978</td>\n",
       "      <td>NaN</td>\n",
       "      <td>ADMINISTRATIVE PRINTING SERVICES MANAGER      ...</td>\n",
       "      <td>ACTIVE</td>\n",
       "      <td>$84500.00</td>\n",
       "      <td>per Annum</td>\n",
       "      <td>1825.0</td>\n",
       "      <td>$84268.60</td>\n",
       "      <td>0.0</td>\n",
       "      <td>$0.00</td>\n",
       "      <td>$0.00</td>\n",
       "    </tr>\n",
       "  </tbody>\n",
       "</table>\n",
       "</div>"
      ],
      "text/plain": [
       "   Fiscal Year  Payroll Number                     Agency Name  Last Name  \\\n",
       "0         2014             2.0  OFFICE OF THE MAYOR                MULLEN   \n",
       "1         2014             2.0  OFFICE OF THE MAYOR               GARRETT   \n",
       "2         2014             2.0  OFFICE OF THE MAYOR               LEONARD   \n",
       "3         2014             2.0  OFFICE OF THE MAYOR                  ROSS   \n",
       "4         2014             2.0  OFFICE OF THE MAYOR             WEINSTOCK   \n",
       "\n",
       "  First Name Mid Init Agency Start Date Work Location Borough  \\\n",
       "0     ALFRED        J        03/20/1972                   NaN   \n",
       "1  CORNELIUS        S        09/25/1976                   NaN   \n",
       "2      DIANE        M        11/22/1977                   NaN   \n",
       "3       JEAN        A        07/01/1978                   NaN   \n",
       "4      SUSAN      NaN        07/01/1978                   NaN   \n",
       "\n",
       "                                   Title Description  \\\n",
       "0  CALENDAR ASSISTANT                            ...   \n",
       "1  FISCAL RESPONSIBILITY OFFICER                 ...   \n",
       "2  EXECUTIVE ASSISTANT-MIDTOWN ENFORCEMENT       ...   \n",
       "3  ADMINISTRATIVE MANAGER                        ...   \n",
       "4  ADMINISTRATIVE PRINTING SERVICES MANAGER      ...   \n",
       "\n",
       "  Leave Status as of July 31 Base Salary   Pay Basis  Regular Hours  \\\n",
       "0        ON SEPARATION LEAVE   $83325.00   per Annum         1825.0   \n",
       "1        ON SEPARATION LEAVE   $70985.00   per Annum         1825.0   \n",
       "2                     ACTIVE      $40.51    per Hour         1573.0   \n",
       "3                     ACTIVE  $125715.00   per Annum         1825.0   \n",
       "4                     ACTIVE   $84500.00   per Annum         1825.0   \n",
       "\n",
       "  Regular Gross Paid  OT Hours Total OT Paid Total Other Pay  \n",
       "0          $83096.78       0.0       $228.03           $0.00  \n",
       "1          $70790.46      10.5       $845.07           $0.00  \n",
       "2          $63165.38       0.0         $0.00           $0.00  \n",
       "3         $125370.69       0.0         $0.00           $0.00  \n",
       "4          $84268.60       0.0         $0.00           $0.00  "
      ]
     },
     "execution_count": 118,
     "metadata": {},
     "output_type": "execute_result"
    }
   ],
   "source": [
    "nyc.head()"
   ]
  },
  {
   "cell_type": "code",
   "execution_count": 119,
   "metadata": {
    "collapsed": false
   },
   "outputs": [],
   "source": [
    "# Removing columns I do not intend to use\n",
    "nyc = nyc.drop(nyc.columns[[1,7,10]], axis=1)"
   ]
  },
  {
   "cell_type": "code",
   "execution_count": 120,
   "metadata": {
    "collapsed": false
   },
   "outputs": [
    {
     "data": {
      "text/html": [
       "<div>\n",
       "<table border=\"1\" class=\"dataframe\">\n",
       "  <thead>\n",
       "    <tr style=\"text-align: right;\">\n",
       "      <th></th>\n",
       "      <th>Fiscal Year</th>\n",
       "      <th>Agency Name</th>\n",
       "      <th>Last Name</th>\n",
       "      <th>First Name</th>\n",
       "      <th>Mid Init</th>\n",
       "      <th>Agency Start Date</th>\n",
       "      <th>Title Description</th>\n",
       "      <th>Leave Status as of July 31</th>\n",
       "      <th>Pay Basis</th>\n",
       "      <th>Regular Hours</th>\n",
       "      <th>Regular Gross Paid</th>\n",
       "      <th>OT Hours</th>\n",
       "      <th>Total OT Paid</th>\n",
       "      <th>Total Other Pay</th>\n",
       "    </tr>\n",
       "  </thead>\n",
       "  <tbody>\n",
       "    <tr>\n",
       "      <th>0</th>\n",
       "      <td>2014</td>\n",
       "      <td>OFFICE OF THE MAYOR</td>\n",
       "      <td>MULLEN</td>\n",
       "      <td>ALFRED</td>\n",
       "      <td>J</td>\n",
       "      <td>03/20/1972</td>\n",
       "      <td>CALENDAR ASSISTANT                            ...</td>\n",
       "      <td>ON SEPARATION LEAVE</td>\n",
       "      <td>per Annum</td>\n",
       "      <td>1825.0</td>\n",
       "      <td>$83096.78</td>\n",
       "      <td>0.0</td>\n",
       "      <td>$228.03</td>\n",
       "      <td>$0.00</td>\n",
       "    </tr>\n",
       "    <tr>\n",
       "      <th>1</th>\n",
       "      <td>2014</td>\n",
       "      <td>OFFICE OF THE MAYOR</td>\n",
       "      <td>GARRETT</td>\n",
       "      <td>CORNELIUS</td>\n",
       "      <td>S</td>\n",
       "      <td>09/25/1976</td>\n",
       "      <td>FISCAL RESPONSIBILITY OFFICER                 ...</td>\n",
       "      <td>ON SEPARATION LEAVE</td>\n",
       "      <td>per Annum</td>\n",
       "      <td>1825.0</td>\n",
       "      <td>$70790.46</td>\n",
       "      <td>10.5</td>\n",
       "      <td>$845.07</td>\n",
       "      <td>$0.00</td>\n",
       "    </tr>\n",
       "    <tr>\n",
       "      <th>2</th>\n",
       "      <td>2014</td>\n",
       "      <td>OFFICE OF THE MAYOR</td>\n",
       "      <td>LEONARD</td>\n",
       "      <td>DIANE</td>\n",
       "      <td>M</td>\n",
       "      <td>11/22/1977</td>\n",
       "      <td>EXECUTIVE ASSISTANT-MIDTOWN ENFORCEMENT       ...</td>\n",
       "      <td>ACTIVE</td>\n",
       "      <td>per Hour</td>\n",
       "      <td>1573.0</td>\n",
       "      <td>$63165.38</td>\n",
       "      <td>0.0</td>\n",
       "      <td>$0.00</td>\n",
       "      <td>$0.00</td>\n",
       "    </tr>\n",
       "    <tr>\n",
       "      <th>3</th>\n",
       "      <td>2014</td>\n",
       "      <td>OFFICE OF THE MAYOR</td>\n",
       "      <td>ROSS</td>\n",
       "      <td>JEAN</td>\n",
       "      <td>A</td>\n",
       "      <td>07/01/1978</td>\n",
       "      <td>ADMINISTRATIVE MANAGER                        ...</td>\n",
       "      <td>ACTIVE</td>\n",
       "      <td>per Annum</td>\n",
       "      <td>1825.0</td>\n",
       "      <td>$125370.69</td>\n",
       "      <td>0.0</td>\n",
       "      <td>$0.00</td>\n",
       "      <td>$0.00</td>\n",
       "    </tr>\n",
       "    <tr>\n",
       "      <th>4</th>\n",
       "      <td>2014</td>\n",
       "      <td>OFFICE OF THE MAYOR</td>\n",
       "      <td>WEINSTOCK</td>\n",
       "      <td>SUSAN</td>\n",
       "      <td>NaN</td>\n",
       "      <td>07/01/1978</td>\n",
       "      <td>ADMINISTRATIVE PRINTING SERVICES MANAGER      ...</td>\n",
       "      <td>ACTIVE</td>\n",
       "      <td>per Annum</td>\n",
       "      <td>1825.0</td>\n",
       "      <td>$84268.60</td>\n",
       "      <td>0.0</td>\n",
       "      <td>$0.00</td>\n",
       "      <td>$0.00</td>\n",
       "    </tr>\n",
       "  </tbody>\n",
       "</table>\n",
       "</div>"
      ],
      "text/plain": [
       "   Fiscal Year                     Agency Name  Last Name First Name Mid Init  \\\n",
       "0         2014  OFFICE OF THE MAYOR                MULLEN     ALFRED        J   \n",
       "1         2014  OFFICE OF THE MAYOR               GARRETT  CORNELIUS        S   \n",
       "2         2014  OFFICE OF THE MAYOR               LEONARD      DIANE        M   \n",
       "3         2014  OFFICE OF THE MAYOR                  ROSS       JEAN        A   \n",
       "4         2014  OFFICE OF THE MAYOR             WEINSTOCK      SUSAN      NaN   \n",
       "\n",
       "  Agency Start Date                                  Title Description  \\\n",
       "0        03/20/1972  CALENDAR ASSISTANT                            ...   \n",
       "1        09/25/1976  FISCAL RESPONSIBILITY OFFICER                 ...   \n",
       "2        11/22/1977  EXECUTIVE ASSISTANT-MIDTOWN ENFORCEMENT       ...   \n",
       "3        07/01/1978  ADMINISTRATIVE MANAGER                        ...   \n",
       "4        07/01/1978  ADMINISTRATIVE PRINTING SERVICES MANAGER      ...   \n",
       "\n",
       "  Leave Status as of July 31   Pay Basis  Regular Hours Regular Gross Paid  \\\n",
       "0        ON SEPARATION LEAVE   per Annum         1825.0          $83096.78   \n",
       "1        ON SEPARATION LEAVE   per Annum         1825.0          $70790.46   \n",
       "2                     ACTIVE    per Hour         1573.0          $63165.38   \n",
       "3                     ACTIVE   per Annum         1825.0         $125370.69   \n",
       "4                     ACTIVE   per Annum         1825.0          $84268.60   \n",
       "\n",
       "   OT Hours Total OT Paid Total Other Pay  \n",
       "0       0.0       $228.03           $0.00  \n",
       "1      10.5       $845.07           $0.00  \n",
       "2       0.0         $0.00           $0.00  \n",
       "3       0.0         $0.00           $0.00  \n",
       "4       0.0         $0.00           $0.00  "
      ]
     },
     "execution_count": 120,
     "metadata": {},
     "output_type": "execute_result"
    }
   ],
   "source": [
    "nyc.head()"
   ]
  },
  {
   "cell_type": "code",
   "execution_count": 121,
   "metadata": {
    "collapsed": true
   },
   "outputs": [],
   "source": [
    "nyc['Regular Gross Paid'] = nyc['Regular Gross Paid'].str.lstrip('$')\n",
    "nyc['Total OT Paid'] = nyc['Total OT Paid'].str.lstrip('$')\n",
    "nyc['Total Other Pay'] = nyc['Total Other Pay'].str.lstrip('$')"
   ]
  },
  {
   "cell_type": "code",
   "execution_count": 122,
   "metadata": {
    "collapsed": true
   },
   "outputs": [],
   "source": [
    "nyc['Regular Gross Paid'] = pd.to_numeric(nyc['Regular Gross Paid'])\n",
    "nyc['Total OT Paid'] = pd.to_numeric(nyc['Total OT Paid'])\n",
    "nyc['Total Other Pay'] = pd.to_numeric(nyc['Total Other Pay'])"
   ]
  },
  {
   "cell_type": "code",
   "execution_count": 123,
   "metadata": {
    "collapsed": false
   },
   "outputs": [
    {
     "data": {
      "text/plain": [
       "Fiscal Year                     int64\n",
       "Agency Name                    object\n",
       "Last Name                      object\n",
       "First Name                     object\n",
       "Mid Init                       object\n",
       "Agency Start Date              object\n",
       "Title Description              object\n",
       "Leave Status as of July 31     object\n",
       "Pay Basis                      object\n",
       "Regular Hours                 float64\n",
       "Regular Gross Paid            float64\n",
       "OT Hours                      float64\n",
       "Total OT Paid                 float64\n",
       "Total Other Pay               float64\n",
       "dtype: object"
      ]
     },
     "execution_count": 123,
     "metadata": {},
     "output_type": "execute_result"
    }
   ],
   "source": [
    "nyc.dtypes"
   ]
  },
  {
   "cell_type": "code",
   "execution_count": 124,
   "metadata": {
    "collapsed": false
   },
   "outputs": [
    {
     "data": {
      "text/html": [
       "<div>\n",
       "<table border=\"1\" class=\"dataframe\">\n",
       "  <thead>\n",
       "    <tr style=\"text-align: right;\">\n",
       "      <th></th>\n",
       "      <th>Fiscal Year</th>\n",
       "      <th>Regular Hours</th>\n",
       "      <th>Regular Gross Paid</th>\n",
       "      <th>OT Hours</th>\n",
       "      <th>Total OT Paid</th>\n",
       "      <th>Total Other Pay</th>\n",
       "    </tr>\n",
       "  </thead>\n",
       "  <tbody>\n",
       "    <tr>\n",
       "      <th>count</th>\n",
       "      <td>1.691487e+06</td>\n",
       "      <td>1.691486e+06</td>\n",
       "      <td>1.691486e+06</td>\n",
       "      <td>1.691486e+06</td>\n",
       "      <td>1.691486e+06</td>\n",
       "      <td>1.691486e+06</td>\n",
       "    </tr>\n",
       "    <tr>\n",
       "      <th>mean</th>\n",
       "      <td>2.015021e+03</td>\n",
       "      <td>7.022911e+02</td>\n",
       "      <td>3.996266e+04</td>\n",
       "      <td>6.443838e+01</td>\n",
       "      <td>3.440764e+03</td>\n",
       "      <td>2.302203e+03</td>\n",
       "    </tr>\n",
       "    <tr>\n",
       "      <th>std</th>\n",
       "      <td>7.892326e-01</td>\n",
       "      <td>9.041001e+02</td>\n",
       "      <td>3.665592e+04</td>\n",
       "      <td>1.519441e+02</td>\n",
       "      <td>8.886150e+03</td>\n",
       "      <td>5.083747e+03</td>\n",
       "    </tr>\n",
       "    <tr>\n",
       "      <th>min</th>\n",
       "      <td>2.014000e+03</td>\n",
       "      <td>-7.304300e+02</td>\n",
       "      <td>-2.986219e+04</td>\n",
       "      <td>-8.000000e+00</td>\n",
       "      <td>-2.382685e+04</td>\n",
       "      <td>-2.815950e+05</td>\n",
       "    </tr>\n",
       "    <tr>\n",
       "      <th>25%</th>\n",
       "      <td>2.014000e+03</td>\n",
       "      <td>0.000000e+00</td>\n",
       "      <td>3.651787e+03</td>\n",
       "      <td>0.000000e+00</td>\n",
       "      <td>0.000000e+00</td>\n",
       "      <td>0.000000e+00</td>\n",
       "    </tr>\n",
       "    <tr>\n",
       "      <th>50%</th>\n",
       "      <td>2.015000e+03</td>\n",
       "      <td>0.000000e+00</td>\n",
       "      <td>3.518840e+04</td>\n",
       "      <td>0.000000e+00</td>\n",
       "      <td>0.000000e+00</td>\n",
       "      <td>8.200000e-01</td>\n",
       "    </tr>\n",
       "    <tr>\n",
       "      <th>75%</th>\n",
       "      <td>2.016000e+03</td>\n",
       "      <td>1.825000e+03</td>\n",
       "      <td>7.172129e+04</td>\n",
       "      <td>8.000000e+00</td>\n",
       "      <td>4.109350e+02</td>\n",
       "      <td>1.686587e+03</td>\n",
       "    </tr>\n",
       "    <tr>\n",
       "      <th>max</th>\n",
       "      <td>2.016000e+03</td>\n",
       "      <td>4.171430e+03</td>\n",
       "      <td>6.723089e+05</td>\n",
       "      <td>3.347500e+03</td>\n",
       "      <td>2.286338e+05</td>\n",
       "      <td>1.003558e+05</td>\n",
       "    </tr>\n",
       "  </tbody>\n",
       "</table>\n",
       "</div>"
      ],
      "text/plain": [
       "        Fiscal Year  Regular Hours  Regular Gross Paid      OT Hours  \\\n",
       "count  1.691487e+06   1.691486e+06        1.691486e+06  1.691486e+06   \n",
       "mean   2.015021e+03   7.022911e+02        3.996266e+04  6.443838e+01   \n",
       "std    7.892326e-01   9.041001e+02        3.665592e+04  1.519441e+02   \n",
       "min    2.014000e+03  -7.304300e+02       -2.986219e+04 -8.000000e+00   \n",
       "25%    2.014000e+03   0.000000e+00        3.651787e+03  0.000000e+00   \n",
       "50%    2.015000e+03   0.000000e+00        3.518840e+04  0.000000e+00   \n",
       "75%    2.016000e+03   1.825000e+03        7.172129e+04  8.000000e+00   \n",
       "max    2.016000e+03   4.171430e+03        6.723089e+05  3.347500e+03   \n",
       "\n",
       "       Total OT Paid  Total Other Pay  \n",
       "count   1.691486e+06     1.691486e+06  \n",
       "mean    3.440764e+03     2.302203e+03  \n",
       "std     8.886150e+03     5.083747e+03  \n",
       "min    -2.382685e+04    -2.815950e+05  \n",
       "25%     0.000000e+00     0.000000e+00  \n",
       "50%     0.000000e+00     8.200000e-01  \n",
       "75%     4.109350e+02     1.686587e+03  \n",
       "max     2.286338e+05     1.003558e+05  "
      ]
     },
     "execution_count": 124,
     "metadata": {},
     "output_type": "execute_result"
    }
   ],
   "source": [
    "nyc.describe()"
   ]
  },
  {
   "cell_type": "markdown",
   "metadata": {},
   "source": [
    "# Begin comparison between datasets"
   ]
  },
  {
   "cell_type": "code",
   "execution_count": 125,
   "metadata": {
    "collapsed": false
   },
   "outputs": [
    {
     "data": {
      "text/plain": [
       "Year\n",
       "2011    36159\n",
       "2012    36766\n",
       "2013    37606\n",
       "2014    38123\n",
       "dtype: int64"
      ]
     },
     "execution_count": 125,
     "metadata": {},
     "output_type": "execute_result"
    }
   ],
   "source": [
    "sf.groupby('Year').size()"
   ]
  },
  {
   "cell_type": "code",
   "execution_count": 126,
   "metadata": {
    "collapsed": false
   },
   "outputs": [
    {
     "data": {
      "text/plain": [
       "Year\n",
       "2013     57379\n",
       "2014     56948\n",
       "2015     59767\n",
       "2016    110914\n",
       "dtype: int64"
      ]
     },
     "execution_count": 126,
     "metadata": {},
     "output_type": "execute_result"
    }
   ],
   "source": [
    "la.groupby('Year').size()"
   ]
  },
  {
   "cell_type": "code",
   "execution_count": 127,
   "metadata": {
    "collapsed": false
   },
   "outputs": [
    {
     "data": {
      "text/plain": [
       "Fiscal Year\n",
       "2014    509525\n",
       "2015    637144\n",
       "2016    544818\n",
       "dtype: int64"
      ]
     },
     "execution_count": 127,
     "metadata": {},
     "output_type": "execute_result"
    }
   ],
   "source": [
    "nyc.groupby('Fiscal Year').size()"
   ]
  },
  {
   "cell_type": "code",
   "execution_count": null,
   "metadata": {
    "collapsed": true
   },
   "outputs": [],
   "source": []
  },
  {
   "cell_type": "code",
   "execution_count": 128,
   "metadata": {
    "collapsed": false
   },
   "outputs": [
    {
     "data": {
      "text/plain": [
       "Fiscal Year      0             2014\n",
       "                 1             2014\n",
       "                 2             2014\n",
       "                 3             2014\n",
       "                 4             2014\n",
       "                 5             2014\n",
       "                 6             2014\n",
       "                 7             2014\n",
       "                 8             2014\n",
       "                 9             2014\n",
       "                 10            2014\n",
       "                 11            2014\n",
       "                 12            2014\n",
       "                 13            2014\n",
       "                 14            2014\n",
       "                 15            2014\n",
       "                 16            2014\n",
       "                 17            2014\n",
       "                 18            2014\n",
       "                 19            2014\n",
       "                 20            2014\n",
       "                 21            2014\n",
       "                 22            2014\n",
       "                 23            2014\n",
       "                 24            2014\n",
       "                 25            2014\n",
       "                 26            2014\n",
       "                 27            2014\n",
       "                 28            2014\n",
       "                 29            2014\n",
       "                             ...   \n",
       "Total Other Pay  1691457    5532.89\n",
       "                 1691458    1627.39\n",
       "                 1691459       1000\n",
       "                 1691460     566.52\n",
       "                 1691461     852.01\n",
       "                 1691462    1921.88\n",
       "                 1691463       1000\n",
       "                 1691464    1286.81\n",
       "                 1691465       1000\n",
       "                 1691466    1495.78\n",
       "                 1691467    2492.54\n",
       "                 1691468     496.77\n",
       "                 1691469     965.24\n",
       "                 1691470    3147.59\n",
       "                 1691471    1539.05\n",
       "                 1691472    1495.78\n",
       "                 1691473    1495.78\n",
       "                 1691474     2660.8\n",
       "                 1691475    1876.15\n",
       "                 1691476    2581.48\n",
       "                 1691477    1525.51\n",
       "                 1691478     235.43\n",
       "                 1691479    2608.08\n",
       "                 1691480    2757.46\n",
       "                 1691481     479.46\n",
       "                 1691482    1518.47\n",
       "                 1691483     2506.7\n",
       "                 1691484       1000\n",
       "                 1691485       2250\n",
       "                 1691486          0\n",
       "dtype: object"
      ]
     },
     "execution_count": 128,
     "metadata": {},
     "output_type": "execute_result"
    }
   ],
   "source": [
    "nyc.unstack('Fiscal Year')"
   ]
  },
  {
   "cell_type": "code",
   "execution_count": 129,
   "metadata": {
    "collapsed": false
   },
   "outputs": [
    {
     "data": {
      "text/plain": [
       "Agency Name\n",
       "DISTRICTING COMMISSION                 3\n",
       "BRONX COMMUNITY BOARD #3               6\n",
       "BRONX COMMUNITY BOARD #6               7\n",
       "BRONX COMMUNITY BOARD #1               7\n",
       "BROOKLYN COMMUNITY BOARD #9            8\n",
       "MANHATTAN COMMUNITY BOARD #9           9\n",
       "QUEENS COMMUNITY BOARD #14             9\n",
       "BROOKLYN COMMUNITY BOARD #3            9\n",
       "BROOKLYN COMMUNITY BOARD #14           9\n",
       "BROOKLYN COMMUNITY BOARD #10           9\n",
       "BRONX COMMUNITY BOARD #9               9\n",
       "BRONX COMMUNITY BOARD #8               9\n",
       "BRONX COMMUNITY BOARD #5               9\n",
       "BRONX COMMUNITY BOARD #2               9\n",
       "BROOKLYN COMMUNITY BOARD #11           9\n",
       "STATEN ISLAND COMMUNITY BD #3          9\n",
       "MANHATTAN COMMUNITY BOARD #7           9\n",
       "BROOKLYN COMMUNITY BOARD #6           10\n",
       "BROOKLYN COMMUNITY BOARD #16          10\n",
       "BROOKLYN COMMUNITY BOARD #7           10\n",
       "QUEENS COMMUNITY BOARD #13            10\n",
       "BROOKLYN COMMUNITY BOARD #12          10\n",
       "BROOKLYN COMMUNITY BOARD #2           10\n",
       "BROOKLYN COMMUNITY BOARD #18          10\n",
       "QUEENS COMMUNITY BOARD #11            10\n",
       "STATEN ISLAND COMMUNITY BD #1         10\n",
       "MANHATTAN COMMUNITY BOARD #12         10\n",
       "QUEENS COMMUNITY BOARD #4             10\n",
       "MANHATTAN COMMUNITY BOARD #11         10\n",
       "MANHATTAN COMMUNITY BOARD #10         10\n",
       "                                   ...  \n",
       "LAW DEPARTMENT                      5590\n",
       "DEPARTMENT OF FINANCE               6706\n",
       "DEPT OF CITYWIDE ADMIN SVCS         7358\n",
       "HOUSING PRESERVATION & DVLPMNT      7367\n",
       "DEPT. OF HOMELESS SERVICES          7638\n",
       "COMMUNITY COLLEGE (BRONX)           8464\n",
       "COMMUNITY COLLEGE (QUEENSBORO)      9754\n",
       "COMMUNITY COLLEGE (LAGUARDIA)      11835\n",
       "COMMUNITY COLLEGE (KINGSBORO)      13000\n",
       "COMMUNITY COLLEGE (MANHATTAN)      14717\n",
       "DEPARTMENT OF TRANSPORTATION       16916\n",
       "DEPT OF ENVIRONMENT PROTECTION     20010\n",
       "ADMIN FOR CHILDREN'S SVCS          21232\n",
       "DEPT OF HEALTH/MENTAL HYGIENE      21434\n",
       "DEPARTMENT OF CORRECTION           36626\n",
       "NYC HOUSING AUTHORITY              42384\n",
       "DEPT OF ED PER DIEM TEACHERS       43349\n",
       "DEPARTMENT OF SANITATION           43600\n",
       "DEPARTMENT OF EDUCATION ADMIN      45051\n",
       "HRA/DEPT OF SOCIAL SERVICES        46302\n",
       "FIRE DEPARTMENT                    53869\n",
       "DEPT OF PARKS & RECREATION         54941\n",
       "Police Department                  55619\n",
       "POLICE DEPARTMENT                  59974\n",
       "DEPT OF ED HRLY SUPPORT STAFF      74787\n",
       "DEPT OF ED PARA PROFESSIONALS      92388\n",
       "BOARD OF ELECTION POLL WORKERS     95357\n",
       "POLICE DEPARTMENT                 124422\n",
       "DEPT OF ED PER SESSION TEACHER    244375\n",
       "DEPT OF ED PEDAGOGICAL            318709\n",
       "dtype: int64"
      ]
     },
     "execution_count": 129,
     "metadata": {},
     "output_type": "execute_result"
    }
   ],
   "source": [
    "nyc.groupby('Agency Name').size().sort_values()"
   ]
  },
  {
   "cell_type": "code",
   "execution_count": null,
   "metadata": {
    "collapsed": true
   },
   "outputs": [],
   "source": []
  },
  {
   "cell_type": "code",
   "execution_count": null,
   "metadata": {
    "collapsed": true
   },
   "outputs": [],
   "source": []
  },
  {
   "cell_type": "code",
   "execution_count": null,
   "metadata": {
    "collapsed": true
   },
   "outputs": [],
   "source": []
  },
  {
   "cell_type": "code",
   "execution_count": null,
   "metadata": {
    "collapsed": true
   },
   "outputs": [],
   "source": []
  },
  {
   "cell_type": "code",
   "execution_count": null,
   "metadata": {
    "collapsed": true
   },
   "outputs": [],
   "source": []
  },
  {
   "cell_type": "code",
   "execution_count": 130,
   "metadata": {
    "collapsed": false
   },
   "outputs": [
    {
     "data": {
      "text/plain": [
       "Department Title\n",
       "Aging                                                             238\n",
       "Airports (LAWA)                                                 18060\n",
       "Animal Services                                                  1753\n",
       "Building and Safety                                              4729\n",
       "City Administrative Officer (CAO)                                 640\n",
       "City Attorney                                                    4542\n",
       "City Clerk                                                       2342\n",
       "City Employees Retirement System (LACERS)                         752\n",
       "City Ethics Commission                                            141\n",
       "City Planning                                                    1272\n",
       "City Planning And Development (DCP)                               329\n",
       "Controller                                                        815\n",
       "Council District 01 (CD 1)                                        123\n",
       "Council District 02 (CD 2)                                        123\n",
       "Council District 03 (CD 3)                                        109\n",
       "Council District 04 (CD 4)                                        151\n",
       "Council District 05 (CD 5)                                        132\n",
       "Council District 06 (CD 6)                                        123\n",
       "Council District 07 (CD 7)                                        118\n",
       "Council District 08 (CD 8)                                        119\n",
       "Council District 09 (CD 9)                                        110\n",
       "Council District 10 (CD 10)                                       117\n",
       "Council District 11 (CD 11)                                       122\n",
       "Council District 12 (CD 12)                                       113\n",
       "Council District 13 (CD 13)                                       107\n",
       "Council District 14 (CD 14)                                       138\n",
       "Council District 15 (CD 15)                                       113\n",
       "Cultural Affairs                                                  816\n",
       "Disability                                                         84\n",
       "Economic And Workforce Development Department (EWDD)              896\n",
       "El Pueblo De Los Angeles Historical Monument Authority            177\n",
       "Emergency Management                                              202\n",
       "Employee Relations Board                                           37\n",
       "Fire (LAFD)                                                     18134\n",
       "General Services                                                 7661\n",
       "Harbor (Port of LA)                                              5604\n",
       "Housing And Community Investment Department                      3255\n",
       "Information Technology Agency                                    2492\n",
       "Library                                                          7296\n",
       "Los Angeles Convention Center                                     485\n",
       "Los Angeles Department of Convention and Tourism Development       56\n",
       "Mayor                                                             982\n",
       "Neighborhood Empowerment (DONE)                                   215\n",
       "Office of Finance                                                1870\n",
       "Office of the Chief Legislative Analyst (CLA)                     249\n",
       "Pension (LAFPP)                                                   637\n",
       "Personnel                                                        3794\n",
       "Police (LAPD)                                                   66057\n",
       "Public Works - Board of Public Works                              456\n",
       "Public Works - Contract Administration                           1485\n",
       "Public Works - Engineering                                       3863\n",
       "Public Works - Sanitation                                       14740\n",
       "Public Works - Street Lighting                                   1139\n",
       "Public Works - Street Services                                   4509\n",
       "Recreation And Parks                                            35344\n",
       "Transportation (LADOT)                                           9701\n",
       "Water And Power (DWP)                                           53545\n",
       "Zoo                                                              1796\n",
       "dtype: int64"
      ]
     },
     "execution_count": 130,
     "metadata": {},
     "output_type": "execute_result"
    }
   ],
   "source": [
    "la.groupby('Department Title').size()"
   ]
  },
  {
   "cell_type": "code",
   "execution_count": 131,
   "metadata": {
    "collapsed": false
   },
   "outputs": [
    {
     "data": {
      "text/plain": [
       "Agency\n",
       "San Francisco    148654\n",
       "dtype: int64"
      ]
     },
     "execution_count": 131,
     "metadata": {},
     "output_type": "execute_result"
    }
   ],
   "source": [
    "sf.groupby('Agency').size()"
   ]
  },
  {
   "cell_type": "code",
   "execution_count": 132,
   "metadata": {
    "collapsed": false
   },
   "outputs": [
    {
     "data": {
      "text/plain": [
       "Agency Name\n",
       "ADMIN FOR CHILDREN'S SVCS         21232\n",
       "ADMIN TRIALS AND HEARINGS          2068\n",
       "BOARD OF CORRECTION                  43\n",
       "BOARD OF CORRECTIONS                 17\n",
       "BOARD OF ELECTION                  3480\n",
       "BOARD OF ELECTION POLL WORKERS    95357\n",
       "BOROUGH PRESIDENT-BRONX             190\n",
       "BOROUGH PRESIDENT-BROOKLYN          268\n",
       "BOROUGH PRESIDENT-QUEENS            220\n",
       "BOROUGH PRESIDENT-STATEN IS         182\n",
       "BRONX COMMUNITY BOARD #1              7\n",
       "BRONX COMMUNITY BOARD #10            18\n",
       "BRONX COMMUNITY BOARD #11            15\n",
       "BRONX COMMUNITY BOARD #12            11\n",
       "BRONX COMMUNITY BOARD #2              9\n",
       "BRONX COMMUNITY BOARD #3              6\n",
       "BRONX COMMUNITY BOARD #4             10\n",
       "BRONX COMMUNITY BOARD #5              9\n",
       "BRONX COMMUNITY BOARD #6              7\n",
       "BRONX COMMUNITY BOARD #7             11\n",
       "BRONX COMMUNITY BOARD #8              9\n",
       "BRONX COMMUNITY BOARD #9              9\n",
       "BRONX DISTRICT ATTORNEY            2112\n",
       "BROOKLYN COMMUNITY BOARD #1          10\n",
       "BROOKLYN COMMUNITY BOARD #10          9\n",
       "BROOKLYN COMMUNITY BOARD #11          9\n",
       "BROOKLYN COMMUNITY BOARD #12         10\n",
       "BROOKLYN COMMUNITY BOARD #13         11\n",
       "BROOKLYN COMMUNITY BOARD #14          9\n",
       "BROOKLYN COMMUNITY BOARD #15         11\n",
       "                                  ...  \n",
       "PUBLIC ADMINISTRATOR-KINGS           43\n",
       "PUBLIC ADMINISTRATOR-NEW YORK        35\n",
       "PUBLIC ADMINISTRATOR-QUEENS          25\n",
       "PUBLIC ADMINISTRATOR-RICHMOND        16\n",
       "PUBLIC ADVOCATE                     208\n",
       "PUBLIC SERVICE CORPS               1367\n",
       "Police Department                 55619\n",
       "QUEENS COMMUNITY BOARD #1            14\n",
       "QUEENS COMMUNITY BOARD #10           12\n",
       "QUEENS COMMUNITY BOARD #11           10\n",
       "QUEENS COMMUNITY BOARD #12           11\n",
       "QUEENS COMMUNITY BOARD #13           10\n",
       "QUEENS COMMUNITY BOARD #14            9\n",
       "QUEENS COMMUNITY BOARD #2            12\n",
       "QUEENS COMMUNITY BOARD #3            13\n",
       "QUEENS COMMUNITY BOARD #4            10\n",
       "QUEENS COMMUNITY BOARD #5            12\n",
       "QUEENS COMMUNITY BOARD #6            13\n",
       "QUEENS COMMUNITY BOARD #7            13\n",
       "QUEENS COMMUNITY BOARD #8            18\n",
       "QUEENS COMMUNITY BOARD #9            11\n",
       "Queens DA                           660\n",
       "Richmond DA                         112\n",
       "STATEN ISLAND COMMUNITY BD #1        10\n",
       "STATEN ISLAND COMMUNITY BD #2        13\n",
       "STATEN ISLAND COMMUNITY BD #3         9\n",
       "Spec Narcs-DA                       251\n",
       "TAX COMMISSION                      170\n",
       "TAXI & LIMOUSINE COMMISSION        2289\n",
       "TEACHERS RETIREMENT SYSTEM         1281\n",
       "dtype: int64"
      ]
     },
     "execution_count": 132,
     "metadata": {},
     "output_type": "execute_result"
    }
   ],
   "source": [
    "nyc.groupby('Agency Name').size()"
   ]
  },
  {
   "cell_type": "code",
   "execution_count": null,
   "metadata": {
    "collapsed": true
   },
   "outputs": [],
   "source": []
  },
  {
   "cell_type": "code",
   "execution_count": null,
   "metadata": {
    "collapsed": true
   },
   "outputs": [],
   "source": []
  },
  {
   "cell_type": "code",
   "execution_count": null,
   "metadata": {
    "collapsed": true
   },
   "outputs": [],
   "source": []
  },
  {
   "cell_type": "code",
   "execution_count": null,
   "metadata": {
    "collapsed": true
   },
   "outputs": [],
   "source": []
  },
  {
   "cell_type": "code",
   "execution_count": null,
   "metadata": {
    "collapsed": true
   },
   "outputs": [],
   "source": []
  },
  {
   "cell_type": "code",
   "execution_count": null,
   "metadata": {
    "collapsed": true
   },
   "outputs": [],
   "source": []
  },
  {
   "cell_type": "code",
   "execution_count": null,
   "metadata": {
    "collapsed": true
   },
   "outputs": [],
   "source": []
  },
  {
   "cell_type": "code",
   "execution_count": null,
   "metadata": {
    "collapsed": true
   },
   "outputs": [],
   "source": []
  },
  {
   "cell_type": "code",
   "execution_count": null,
   "metadata": {
    "collapsed": true
   },
   "outputs": [],
   "source": []
  },
  {
   "cell_type": "code",
   "execution_count": null,
   "metadata": {
    "collapsed": true
   },
   "outputs": [],
   "source": []
  },
  {
   "cell_type": "code",
   "execution_count": null,
   "metadata": {
    "collapsed": true
   },
   "outputs": [],
   "source": []
  },
  {
   "cell_type": "code",
   "execution_count": null,
   "metadata": {
    "collapsed": true
   },
   "outputs": [],
   "source": []
  },
  {
   "cell_type": "code",
   "execution_count": null,
   "metadata": {
    "collapsed": true
   },
   "outputs": [],
   "source": []
  },
  {
   "cell_type": "code",
   "execution_count": null,
   "metadata": {
    "collapsed": true
   },
   "outputs": [],
   "source": []
  },
  {
   "cell_type": "code",
   "execution_count": null,
   "metadata": {
    "collapsed": true
   },
   "outputs": [],
   "source": []
  },
  {
   "cell_type": "code",
   "execution_count": null,
   "metadata": {
    "collapsed": true
   },
   "outputs": [],
   "source": []
  },
  {
   "cell_type": "code",
   "execution_count": null,
   "metadata": {
    "collapsed": true
   },
   "outputs": [],
   "source": []
  },
  {
   "cell_type": "code",
   "execution_count": null,
   "metadata": {
    "collapsed": true
   },
   "outputs": [],
   "source": []
  },
  {
   "cell_type": "code",
   "execution_count": null,
   "metadata": {
    "collapsed": true
   },
   "outputs": [],
   "source": []
  },
  {
   "cell_type": "code",
   "execution_count": null,
   "metadata": {
    "collapsed": true
   },
   "outputs": [],
   "source": []
  },
  {
   "cell_type": "code",
   "execution_count": null,
   "metadata": {
    "collapsed": true
   },
   "outputs": [],
   "source": []
  },
  {
   "cell_type": "code",
   "execution_count": null,
   "metadata": {
    "collapsed": true
   },
   "outputs": [],
   "source": []
  },
  {
   "cell_type": "code",
   "execution_count": null,
   "metadata": {
    "collapsed": true
   },
   "outputs": [],
   "source": []
  },
  {
   "cell_type": "code",
   "execution_count": null,
   "metadata": {
    "collapsed": true
   },
   "outputs": [],
   "source": []
  },
  {
   "cell_type": "code",
   "execution_count": null,
   "metadata": {
    "collapsed": true
   },
   "outputs": [],
   "source": []
  },
  {
   "cell_type": "code",
   "execution_count": null,
   "metadata": {
    "collapsed": true
   },
   "outputs": [],
   "source": []
  }
 ],
 "metadata": {
  "kernelspec": {
   "display_name": "Python 3",
   "language": "python",
   "name": "python3"
  },
  "language_info": {
   "codemirror_mode": {
    "name": "ipython",
    "version": 3
   },
   "file_extension": ".py",
   "mimetype": "text/x-python",
   "name": "python",
   "nbconvert_exporter": "python",
   "pygments_lexer": "ipython3",
   "version": "3.6.0"
  }
 },
 "nbformat": 4,
 "nbformat_minor": 2
}
