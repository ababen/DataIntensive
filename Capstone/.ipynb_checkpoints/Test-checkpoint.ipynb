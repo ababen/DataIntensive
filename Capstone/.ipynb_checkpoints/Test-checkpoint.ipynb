{
 "cells": [
  {
   "cell_type": "code",
   "execution_count": 1,
   "metadata": {
    "collapsed": true
   },
   "outputs": [],
   "source": [
    "import pandas as pd\n",
    "import numpy as np"
   ]
  },
  {
   "cell_type": "code",
   "execution_count": 2,
   "metadata": {
    "collapsed": true
   },
   "outputs": [],
   "source": [
    "get_ipython().magic('matplotlib inline')\n",
    "import matplotlib.pylab as plt\n",
    "import seaborn as sns\n",
    "#import ggplot as gg\n",
    "from ggplot import *\n",
    "import bokeh as bkh"
   ]
  },
  {
   "cell_type": "code",
   "execution_count": 188,
   "metadata": {
    "collapsed": false
   },
   "outputs": [],
   "source": [
    "# dataset from https://www.kaggle.com/kaggle/sf-salaries\n",
    "sf = pd.read_csv('data/sf-salaries/Salaries.csv', usecols=[0,1,2,3,4,5,6,7,9,11,12], dtype={3: object, 4: object, 5: object, 6: object, 12: object}, na_values=['Not Provided', 'Not provided', 'not provided'])"
   ]
  },
  {
   "cell_type": "code",
   "execution_count": 22,
   "metadata": {
    "collapsed": false
   },
   "outputs": [
    {
     "data": {
      "text/html": [
       "<div>\n",
       "<table border=\"1\" class=\"dataframe\">\n",
       "  <thead>\n",
       "    <tr style=\"text-align: right;\">\n",
       "      <th></th>\n",
       "      <th>Id</th>\n",
       "      <th>EmployeeName</th>\n",
       "      <th>JobTitle</th>\n",
       "      <th>BasePay</th>\n",
       "      <th>OvertimePay</th>\n",
       "      <th>OtherPay</th>\n",
       "      <th>Benefits</th>\n",
       "      <th>TotalPay</th>\n",
       "      <th>Year</th>\n",
       "      <th>Agency</th>\n",
       "      <th>Status</th>\n",
       "    </tr>\n",
       "  </thead>\n",
       "  <tbody>\n",
       "    <tr>\n",
       "      <th>0</th>\n",
       "      <td>1</td>\n",
       "      <td>NATHANIEL FORD</td>\n",
       "      <td>GENERAL MANAGER-METROPOLITAN TRANSIT AUTHORITY</td>\n",
       "      <td>167411.18</td>\n",
       "      <td>0.00</td>\n",
       "      <td>400184.25</td>\n",
       "      <td>NaN</td>\n",
       "      <td>567595.43</td>\n",
       "      <td>2011</td>\n",
       "      <td>San Francisco</td>\n",
       "      <td>NaN</td>\n",
       "    </tr>\n",
       "    <tr>\n",
       "      <th>1</th>\n",
       "      <td>2</td>\n",
       "      <td>GARY JIMENEZ</td>\n",
       "      <td>CAPTAIN III (POLICE DEPARTMENT)</td>\n",
       "      <td>155966.02</td>\n",
       "      <td>245131.88</td>\n",
       "      <td>137811.38</td>\n",
       "      <td>NaN</td>\n",
       "      <td>538909.28</td>\n",
       "      <td>2011</td>\n",
       "      <td>San Francisco</td>\n",
       "      <td>NaN</td>\n",
       "    </tr>\n",
       "    <tr>\n",
       "      <th>2</th>\n",
       "      <td>3</td>\n",
       "      <td>ALBERT PARDINI</td>\n",
       "      <td>CAPTAIN III (POLICE DEPARTMENT)</td>\n",
       "      <td>212739.13</td>\n",
       "      <td>106088.18</td>\n",
       "      <td>16452.60</td>\n",
       "      <td>NaN</td>\n",
       "      <td>335279.91</td>\n",
       "      <td>2011</td>\n",
       "      <td>San Francisco</td>\n",
       "      <td>NaN</td>\n",
       "    </tr>\n",
       "    <tr>\n",
       "      <th>3</th>\n",
       "      <td>4</td>\n",
       "      <td>CHRISTOPHER CHONG</td>\n",
       "      <td>WIRE ROPE CABLE MAINTENANCE MECHANIC</td>\n",
       "      <td>77916.00</td>\n",
       "      <td>56120.71</td>\n",
       "      <td>198306.90</td>\n",
       "      <td>NaN</td>\n",
       "      <td>332343.61</td>\n",
       "      <td>2011</td>\n",
       "      <td>San Francisco</td>\n",
       "      <td>NaN</td>\n",
       "    </tr>\n",
       "    <tr>\n",
       "      <th>4</th>\n",
       "      <td>5</td>\n",
       "      <td>PATRICK GARDNER</td>\n",
       "      <td>DEPUTY CHIEF OF DEPARTMENT,(FIRE DEPARTMENT)</td>\n",
       "      <td>134401.60</td>\n",
       "      <td>9737.00</td>\n",
       "      <td>182234.59</td>\n",
       "      <td>NaN</td>\n",
       "      <td>326373.19</td>\n",
       "      <td>2011</td>\n",
       "      <td>San Francisco</td>\n",
       "      <td>NaN</td>\n",
       "    </tr>\n",
       "  </tbody>\n",
       "</table>\n",
       "</div>"
      ],
      "text/plain": [
       "   Id       EmployeeName                                        JobTitle  \\\n",
       "0   1     NATHANIEL FORD  GENERAL MANAGER-METROPOLITAN TRANSIT AUTHORITY   \n",
       "1   2       GARY JIMENEZ                 CAPTAIN III (POLICE DEPARTMENT)   \n",
       "2   3     ALBERT PARDINI                 CAPTAIN III (POLICE DEPARTMENT)   \n",
       "3   4  CHRISTOPHER CHONG            WIRE ROPE CABLE MAINTENANCE MECHANIC   \n",
       "4   5    PATRICK GARDNER    DEPUTY CHIEF OF DEPARTMENT,(FIRE DEPARTMENT)   \n",
       "\n",
       "     BasePay  OvertimePay   OtherPay  Benefits   TotalPay  Year  \\\n",
       "0  167411.18         0.00  400184.25       NaN  567595.43  2011   \n",
       "1  155966.02    245131.88  137811.38       NaN  538909.28  2011   \n",
       "2  212739.13    106088.18   16452.60       NaN  335279.91  2011   \n",
       "3   77916.00     56120.71  198306.90       NaN  332343.61  2011   \n",
       "4  134401.60      9737.00  182234.59       NaN  326373.19  2011   \n",
       "\n",
       "          Agency Status  \n",
       "0  San Francisco    NaN  \n",
       "1  San Francisco    NaN  \n",
       "2  San Francisco    NaN  \n",
       "3  San Francisco    NaN  \n",
       "4  San Francisco    NaN  "
      ]
     },
     "execution_count": 22,
     "metadata": {},
     "output_type": "execute_result"
    }
   ],
   "source": [
    "# Defination of the columns:\n",
    "\n",
    "# Numeric :\n",
    "# 1. BasePay, OvertimePay, OtherPay, Benefits, TotalPay\n",
    "\n",
    "# Categorical:\n",
    "# 1. Id, EmployeeName, JobTitle, Agency, Status\n",
    "\n",
    "sf.head()"
   ]
  },
  {
   "cell_type": "code",
   "execution_count": 23,
   "metadata": {
    "collapsed": true
   },
   "outputs": [],
   "source": [
    "sf['BasePay'] = pd.to_numeric(sf['BasePay'])\n",
    "sf['OvertimePay'] = pd.to_numeric(sf['OvertimePay'])\n",
    "sf['OtherPay'] = pd.to_numeric(sf['OtherPay'])\n",
    "sf['Benefits'] = pd.to_numeric(sf['Benefits'])"
   ]
  },
  {
   "cell_type": "code",
   "execution_count": 24,
   "metadata": {
    "collapsed": false
   },
   "outputs": [
    {
     "data": {
      "text/plain": [
       "Id                int64\n",
       "EmployeeName     object\n",
       "JobTitle         object\n",
       "BasePay         float64\n",
       "OvertimePay     float64\n",
       "OtherPay        float64\n",
       "Benefits        float64\n",
       "TotalPay        float64\n",
       "Year              int64\n",
       "Agency           object\n",
       "Status           object\n",
       "dtype: object"
      ]
     },
     "execution_count": 24,
     "metadata": {},
     "output_type": "execute_result"
    }
   ],
   "source": [
    "sf.dtypes"
   ]
  },
  {
   "cell_type": "code",
   "execution_count": 117,
   "metadata": {
    "collapsed": false
   },
   "outputs": [
    {
     "ename": "ValueError",
     "evalue": "labels ['Agency'] not contained in axis",
     "output_type": "error",
     "traceback": [
      "\u001b[0;31m---------------------------------------------------------------------------\u001b[0m",
      "\u001b[0;31mValueError\u001b[0m                                Traceback (most recent call last)",
      "\u001b[0;32m<ipython-input-117-030d4f3074e8>\u001b[0m in \u001b[0;36m<module>\u001b[0;34m()\u001b[0m\n\u001b[0;32m----> 1\u001b[0;31m \u001b[0msf\u001b[0m\u001b[1;33m.\u001b[0m\u001b[0mdrop\u001b[0m\u001b[1;33m(\u001b[0m\u001b[1;33m[\u001b[0m\u001b[1;34m'Agency'\u001b[0m\u001b[1;33m]\u001b[0m\u001b[1;33m,\u001b[0m \u001b[0maxis\u001b[0m\u001b[1;33m=\u001b[0m\u001b[1;36m1\u001b[0m\u001b[1;33m,\u001b[0m \u001b[0minplace\u001b[0m\u001b[1;33m=\u001b[0m\u001b[1;32mTrue\u001b[0m\u001b[1;33m)\u001b[0m\u001b[1;33m\u001b[0m\u001b[0m\n\u001b[0m",
      "\u001b[0;32mC:\\Program Files\\Anaconda3\\lib\\site-packages\\pandas\\core\\generic.py\u001b[0m in \u001b[0;36mdrop\u001b[0;34m(self, labels, axis, level, inplace, errors)\u001b[0m\n\u001b[1;32m   1905\u001b[0m                 \u001b[0mnew_axis\u001b[0m \u001b[1;33m=\u001b[0m \u001b[0maxis\u001b[0m\u001b[1;33m.\u001b[0m\u001b[0mdrop\u001b[0m\u001b[1;33m(\u001b[0m\u001b[0mlabels\u001b[0m\u001b[1;33m,\u001b[0m \u001b[0mlevel\u001b[0m\u001b[1;33m=\u001b[0m\u001b[0mlevel\u001b[0m\u001b[1;33m,\u001b[0m \u001b[0merrors\u001b[0m\u001b[1;33m=\u001b[0m\u001b[0merrors\u001b[0m\u001b[1;33m)\u001b[0m\u001b[1;33m\u001b[0m\u001b[0m\n\u001b[1;32m   1906\u001b[0m             \u001b[1;32melse\u001b[0m\u001b[1;33m:\u001b[0m\u001b[1;33m\u001b[0m\u001b[0m\n\u001b[0;32m-> 1907\u001b[0;31m                 \u001b[0mnew_axis\u001b[0m \u001b[1;33m=\u001b[0m \u001b[0maxis\u001b[0m\u001b[1;33m.\u001b[0m\u001b[0mdrop\u001b[0m\u001b[1;33m(\u001b[0m\u001b[0mlabels\u001b[0m\u001b[1;33m,\u001b[0m \u001b[0merrors\u001b[0m\u001b[1;33m=\u001b[0m\u001b[0merrors\u001b[0m\u001b[1;33m)\u001b[0m\u001b[1;33m\u001b[0m\u001b[0m\n\u001b[0m\u001b[1;32m   1908\u001b[0m             \u001b[0mdropped\u001b[0m \u001b[1;33m=\u001b[0m \u001b[0mself\u001b[0m\u001b[1;33m.\u001b[0m\u001b[0mreindex\u001b[0m\u001b[1;33m(\u001b[0m\u001b[1;33m**\u001b[0m\u001b[1;33m{\u001b[0m\u001b[0maxis_name\u001b[0m\u001b[1;33m:\u001b[0m \u001b[0mnew_axis\u001b[0m\u001b[1;33m}\u001b[0m\u001b[1;33m)\u001b[0m\u001b[1;33m\u001b[0m\u001b[0m\n\u001b[1;32m   1909\u001b[0m             \u001b[1;32mtry\u001b[0m\u001b[1;33m:\u001b[0m\u001b[1;33m\u001b[0m\u001b[0m\n",
      "\u001b[0;32mC:\\Program Files\\Anaconda3\\lib\\site-packages\\pandas\\indexes\\base.py\u001b[0m in \u001b[0;36mdrop\u001b[0;34m(self, labels, errors)\u001b[0m\n\u001b[1;32m   3260\u001b[0m             \u001b[1;32mif\u001b[0m \u001b[0merrors\u001b[0m \u001b[1;33m!=\u001b[0m \u001b[1;34m'ignore'\u001b[0m\u001b[1;33m:\u001b[0m\u001b[1;33m\u001b[0m\u001b[0m\n\u001b[1;32m   3261\u001b[0m                 raise ValueError('labels %s not contained in axis' %\n\u001b[0;32m-> 3262\u001b[0;31m                                  labels[mask])\n\u001b[0m\u001b[1;32m   3263\u001b[0m             \u001b[0mindexer\u001b[0m \u001b[1;33m=\u001b[0m \u001b[0mindexer\u001b[0m\u001b[1;33m[\u001b[0m\u001b[1;33m~\u001b[0m\u001b[0mmask\u001b[0m\u001b[1;33m]\u001b[0m\u001b[1;33m\u001b[0m\u001b[0m\n\u001b[1;32m   3264\u001b[0m         \u001b[1;32mreturn\u001b[0m \u001b[0mself\u001b[0m\u001b[1;33m.\u001b[0m\u001b[0mdelete\u001b[0m\u001b[1;33m(\u001b[0m\u001b[0mindexer\u001b[0m\u001b[1;33m)\u001b[0m\u001b[1;33m\u001b[0m\u001b[0m\n",
      "\u001b[0;31mValueError\u001b[0m: labels ['Agency'] not contained in axis"
     ]
    }
   ],
   "source": [
    "sf.drop(['Agency'], axis=1, inplace=True)"
   ]
  },
  {
   "cell_type": "code",
   "execution_count": 45,
   "metadata": {
    "collapsed": false
   },
   "outputs": [
    {
     "data": {
      "text/html": [
       "<div>\n",
       "<table border=\"1\" class=\"dataframe\">\n",
       "  <thead>\n",
       "    <tr style=\"text-align: right;\">\n",
       "      <th></th>\n",
       "      <th>Id</th>\n",
       "      <th>BasePay</th>\n",
       "      <th>OvertimePay</th>\n",
       "      <th>OtherPay</th>\n",
       "      <th>Benefits</th>\n",
       "      <th>TotalPay</th>\n",
       "      <th>Year</th>\n",
       "    </tr>\n",
       "  </thead>\n",
       "  <tbody>\n",
       "    <tr>\n",
       "      <th>count</th>\n",
       "      <td>148654.000000</td>\n",
       "      <td>148045.000000</td>\n",
       "      <td>148650.000000</td>\n",
       "      <td>148650.000000</td>\n",
       "      <td>112491.000000</td>\n",
       "      <td>148654.000000</td>\n",
       "      <td>148654.000000</td>\n",
       "    </tr>\n",
       "    <tr>\n",
       "      <th>mean</th>\n",
       "      <td>74327.500000</td>\n",
       "      <td>66325.448840</td>\n",
       "      <td>5066.059886</td>\n",
       "      <td>3648.767297</td>\n",
       "      <td>25007.893151</td>\n",
       "      <td>74768.321972</td>\n",
       "      <td>2012.522643</td>\n",
       "    </tr>\n",
       "    <tr>\n",
       "      <th>std</th>\n",
       "      <td>42912.857795</td>\n",
       "      <td>42764.635495</td>\n",
       "      <td>11454.380559</td>\n",
       "      <td>8056.601866</td>\n",
       "      <td>15402.215858</td>\n",
       "      <td>50517.005274</td>\n",
       "      <td>1.117538</td>\n",
       "    </tr>\n",
       "    <tr>\n",
       "      <th>min</th>\n",
       "      <td>1.000000</td>\n",
       "      <td>-166.010000</td>\n",
       "      <td>-0.010000</td>\n",
       "      <td>-7058.590000</td>\n",
       "      <td>-33.890000</td>\n",
       "      <td>-618.130000</td>\n",
       "      <td>2011.000000</td>\n",
       "    </tr>\n",
       "    <tr>\n",
       "      <th>25%</th>\n",
       "      <td>37164.250000</td>\n",
       "      <td>33588.200000</td>\n",
       "      <td>0.000000</td>\n",
       "      <td>0.000000</td>\n",
       "      <td>11535.395000</td>\n",
       "      <td>36168.995000</td>\n",
       "      <td>2012.000000</td>\n",
       "    </tr>\n",
       "    <tr>\n",
       "      <th>50%</th>\n",
       "      <td>74327.500000</td>\n",
       "      <td>65007.450000</td>\n",
       "      <td>0.000000</td>\n",
       "      <td>811.270000</td>\n",
       "      <td>28628.620000</td>\n",
       "      <td>71426.610000</td>\n",
       "      <td>2013.000000</td>\n",
       "    </tr>\n",
       "    <tr>\n",
       "      <th>75%</th>\n",
       "      <td>111490.750000</td>\n",
       "      <td>94691.050000</td>\n",
       "      <td>4658.175000</td>\n",
       "      <td>4236.065000</td>\n",
       "      <td>35566.855000</td>\n",
       "      <td>105839.135000</td>\n",
       "      <td>2014.000000</td>\n",
       "    </tr>\n",
       "    <tr>\n",
       "      <th>max</th>\n",
       "      <td>148654.000000</td>\n",
       "      <td>319275.010000</td>\n",
       "      <td>245131.880000</td>\n",
       "      <td>400184.250000</td>\n",
       "      <td>96570.660000</td>\n",
       "      <td>567595.430000</td>\n",
       "      <td>2014.000000</td>\n",
       "    </tr>\n",
       "  </tbody>\n",
       "</table>\n",
       "</div>"
      ],
      "text/plain": [
       "                  Id        BasePay    OvertimePay       OtherPay  \\\n",
       "count  148654.000000  148045.000000  148650.000000  148650.000000   \n",
       "mean    74327.500000   66325.448840    5066.059886    3648.767297   \n",
       "std     42912.857795   42764.635495   11454.380559    8056.601866   \n",
       "min         1.000000    -166.010000      -0.010000   -7058.590000   \n",
       "25%     37164.250000   33588.200000       0.000000       0.000000   \n",
       "50%     74327.500000   65007.450000       0.000000     811.270000   \n",
       "75%    111490.750000   94691.050000    4658.175000    4236.065000   \n",
       "max    148654.000000  319275.010000  245131.880000  400184.250000   \n",
       "\n",
       "            Benefits       TotalPay           Year  \n",
       "count  112491.000000  148654.000000  148654.000000  \n",
       "mean    25007.893151   74768.321972    2012.522643  \n",
       "std     15402.215858   50517.005274       1.117538  \n",
       "min       -33.890000    -618.130000    2011.000000  \n",
       "25%     11535.395000   36168.995000    2012.000000  \n",
       "50%     28628.620000   71426.610000    2013.000000  \n",
       "75%     35566.855000  105839.135000    2014.000000  \n",
       "max     96570.660000  567595.430000    2014.000000  "
      ]
     },
     "execution_count": 45,
     "metadata": {},
     "output_type": "execute_result"
    }
   ],
   "source": [
    "sf.describe()\n",
    "# We see that there is some cleaning to do:\n",
    "# 1. Remove negative salaries\n",
    "# 2. There is some data with null values based on count values"
   ]
  },
  {
   "cell_type": "code",
   "execution_count": 50,
   "metadata": {
    "collapsed": false
   },
   "outputs": [
    {
     "name": "stdout",
     "output_type": "stream",
     "text": [
      "Min: 2011\n",
      "Max: 2014\n"
     ]
    }
   ],
   "source": [
    "# Min and max in the dataset\n",
    "print('Min:', sf.Year.min())\n",
    "print('Max:', sf.Year.max())"
   ]
  },
  {
   "cell_type": "code",
   "execution_count": 142,
   "metadata": {
    "collapsed": false
   },
   "outputs": [
    {
     "data": {
      "text/html": [
       "<div>\n",
       "<table border=\"1\" class=\"dataframe\">\n",
       "  <thead>\n",
       "    <tr style=\"text-align: right;\">\n",
       "      <th>Year</th>\n",
       "      <th>2014</th>\n",
       "    </tr>\n",
       "    <tr>\n",
       "      <th>Status</th>\n",
       "      <th></th>\n",
       "    </tr>\n",
       "  </thead>\n",
       "  <tbody>\n",
       "    <tr>\n",
       "      <th>FT</th>\n",
       "      <td>22334.0</td>\n",
       "    </tr>\n",
       "    <tr>\n",
       "      <th>PT</th>\n",
       "      <td>15785.0</td>\n",
       "    </tr>\n",
       "  </tbody>\n",
       "</table>\n",
       "</div>"
      ],
      "text/plain": [
       "Year       2014\n",
       "Status         \n",
       "FT      22334.0\n",
       "PT      15785.0"
      ]
     },
     "execution_count": 142,
     "metadata": {},
     "output_type": "execute_result"
    }
   ],
   "source": [
    "sf_status = sf.groupby(['Year', 'Status']).size()\n",
    "sf_status.unstack('Year')"
   ]
  },
  {
   "cell_type": "code",
   "execution_count": 150,
   "metadata": {
    "collapsed": false
   },
   "outputs": [
    {
     "name": "stdout",
     "output_type": "stream",
     "text": [
      "2011 36159\n",
      "2012 36766\n",
      "2013 37606\n"
     ]
    }
   ],
   "source": [
    "# Count records per year with a loop\n",
    "for y in range(min(sf.Year), max(sf.Year)):\n",
    "    print(y, (sf.Year == y).sum())"
   ]
  },
  {
   "cell_type": "code",
   "execution_count": 96,
   "metadata": {
    "collapsed": false
   },
   "outputs": [
    {
     "data": {
      "text/html": [
       "<div>\n",
       "<table border=\"1\" class=\"dataframe\">\n",
       "  <thead>\n",
       "    <tr style=\"text-align: right;\">\n",
       "      <th></th>\n",
       "      <th>TotalPay</th>\n",
       "    </tr>\n",
       "    <tr>\n",
       "      <th>Year</th>\n",
       "      <th></th>\n",
       "    </tr>\n",
       "  </thead>\n",
       "  <tbody>\n",
       "    <tr>\n",
       "      <th>2011</th>\n",
       "      <td>71744.103871</td>\n",
       "    </tr>\n",
       "    <tr>\n",
       "      <th>2012</th>\n",
       "      <td>74113.262265</td>\n",
       "    </tr>\n",
       "    <tr>\n",
       "      <th>2013</th>\n",
       "      <td>77611.443142</td>\n",
       "    </tr>\n",
       "    <tr>\n",
       "      <th>2014</th>\n",
       "      <td>75463.918140</td>\n",
       "    </tr>\n",
       "  </tbody>\n",
       "</table>\n",
       "</div>"
      ],
      "text/plain": [
       "          TotalPay\n",
       "Year              \n",
       "2011  71744.103871\n",
       "2012  74113.262265\n",
       "2013  77611.443142\n",
       "2014  75463.918140"
      ]
     },
     "execution_count": 96,
     "metadata": {},
     "output_type": "execute_result"
    }
   ],
   "source": [
    "# Average Paid by year\n",
    "sf[['Year', 'TotalPay']].groupby('Year').mean()"
   ]
  },
  {
   "cell_type": "code",
   "execution_count": 116,
   "metadata": {
    "collapsed": false
   },
   "outputs": [
    {
     "name": "stdout",
     "output_type": "stream",
     "text": [
      "          TotalPay\n",
      "Year              \n",
      "2011  2.594195e+09\n",
      "2012  2.724848e+09\n",
      "2013  2.918656e+09\n",
      "2014  2.876911e+09\n",
      "(This is in trillion)\n"
     ]
    }
   ],
   "source": [
    "print(sf[['Year', 'TotalPay']].groupby('Year').sum()/1)\n",
    "print('(This is in trillion)')"
   ]
  },
  {
   "cell_type": "code",
   "execution_count": 111,
   "metadata": {
    "collapsed": false
   },
   "outputs": [
    {
     "name": "stdout",
     "output_type": "stream",
     "text": [
      "Total Paid in four years:\n"
     ]
    },
    {
     "data": {
      "text/plain": [
       "11114610134.380001"
      ]
     },
     "execution_count": 111,
     "metadata": {},
     "output_type": "execute_result"
    }
   ],
   "source": [
    "#Total paid to San Francisco city employees in year 2011 - 2014\n",
    "print('Total Paid in four years:')\n",
    "sf.TotalPay.sum()"
   ]
  },
  {
   "cell_type": "code",
   "execution_count": 132,
   "metadata": {
    "collapsed": false
   },
   "outputs": [
    {
     "ename": "ValueError",
     "evalue": "Lengths must match to compare",
     "output_type": "error",
     "traceback": [
      "\u001b[0;31m---------------------------------------------------------------------------\u001b[0m",
      "\u001b[0;31mValueError\u001b[0m                                Traceback (most recent call last)",
      "\u001b[0;32m<ipython-input-132-e3e1c6baba6f>\u001b[0m in \u001b[0;36m<module>\u001b[0;34m()\u001b[0m\n\u001b[0;32m----> 1\u001b[0;31m \u001b[0msf\u001b[0m\u001b[1;33m(\u001b[0m\u001b[0msf\u001b[0m\u001b[1;33m.\u001b[0m\u001b[0mJobTitle\u001b[0m \u001b[1;33m==\u001b[0m \u001b[0msf\u001b[0m\u001b[1;33m.\u001b[0m\u001b[0mJobTitle\u001b[0m\u001b[1;33m.\u001b[0m\u001b[0munique\u001b[0m\u001b[1;33m(\u001b[0m\u001b[1;33m)\u001b[0m\u001b[1;33m)\u001b[0m\u001b[1;33m\u001b[0m\u001b[0m\n\u001b[0m",
      "\u001b[0;32mC:\\Program Files\\Anaconda3\\lib\\site-packages\\pandas\\core\\ops.py\u001b[0m in \u001b[0;36mwrapper\u001b[0;34m(self, other, axis)\u001b[0m\n\u001b[1;32m    820\u001b[0m             if (not lib.isscalar(lib.item_from_zerodim(other)) and\n\u001b[1;32m    821\u001b[0m                     len(self) != len(other)):\n\u001b[0;32m--> 822\u001b[0;31m                 \u001b[1;32mraise\u001b[0m \u001b[0mValueError\u001b[0m\u001b[1;33m(\u001b[0m\u001b[1;34m'Lengths must match to compare'\u001b[0m\u001b[1;33m)\u001b[0m\u001b[1;33m\u001b[0m\u001b[0m\n\u001b[0m\u001b[1;32m    823\u001b[0m \u001b[1;33m\u001b[0m\u001b[0m\n\u001b[1;32m    824\u001b[0m             \u001b[1;32mif\u001b[0m \u001b[0misinstance\u001b[0m\u001b[1;33m(\u001b[0m\u001b[0mother\u001b[0m\u001b[1;33m,\u001b[0m \u001b[0mABCPeriodIndex\u001b[0m\u001b[1;33m)\u001b[0m\u001b[1;33m:\u001b[0m\u001b[1;33m\u001b[0m\u001b[0m\n",
      "\u001b[0;31mValueError\u001b[0m: Lengths must match to compare"
     ]
    }
   ],
   "source": [
    "sf(sf.JobTitle == )"
   ]
  },
  {
   "cell_type": "code",
   "execution_count": 157,
   "metadata": {
    "collapsed": false
   },
   "outputs": [
    {
     "data": {
      "text/plain": [
       "Id      0           1\n",
       "        1           2\n",
       "        2           3\n",
       "        3           4\n",
       "        4           5\n",
       "        5           6\n",
       "        6           7\n",
       "        7           8\n",
       "        8           9\n",
       "        9          10\n",
       "        10         11\n",
       "        11         12\n",
       "        12         13\n",
       "        13         14\n",
       "        14         15\n",
       "        15         16\n",
       "        16         17\n",
       "        17         18\n",
       "        18         19\n",
       "        19         20\n",
       "        20         21\n",
       "        21         22\n",
       "        22         23\n",
       "        23         24\n",
       "        24         25\n",
       "        25         26\n",
       "        26         27\n",
       "        27         28\n",
       "        28         29\n",
       "        29         30\n",
       "                 ... \n",
       "Status  148624     PT\n",
       "        148625     PT\n",
       "        148626     PT\n",
       "        148627     PT\n",
       "        148628     PT\n",
       "        148629     PT\n",
       "        148630     PT\n",
       "        148631     PT\n",
       "        148632     PT\n",
       "        148633     PT\n",
       "        148634     PT\n",
       "        148635     PT\n",
       "        148636     PT\n",
       "        148637     PT\n",
       "        148638     PT\n",
       "        148639     PT\n",
       "        148640     PT\n",
       "        148641     PT\n",
       "        148642     PT\n",
       "        148643     PT\n",
       "        148644     PT\n",
       "        148645     PT\n",
       "        148646    NaN\n",
       "        148647     PT\n",
       "        148648     PT\n",
       "        148649     PT\n",
       "        148650    NaN\n",
       "        148651    NaN\n",
       "        148652    NaN\n",
       "        148653     PT\n",
       "dtype: object"
      ]
     },
     "execution_count": 157,
     "metadata": {},
     "output_type": "execute_result"
    }
   ],
   "source": [
    "sf.unstack('Status')"
   ]
  },
  {
   "cell_type": "code",
   "execution_count": 58,
   "metadata": {
    "collapsed": false
   },
   "outputs": [
    {
     "data": {
      "image/png": "[encoded data removed]",
      "text/plain": [
       "<matplotlib.figure.Figure at 0x250d1097208>"
      ]
     },
     "metadata": {},
     "output_type": "display_data"
    }
   ],
   "source": [
    "TotalPay = sns.FacetGrid(sf, col=\"Year\", col_wrap=2, size=5, dropna=True)\n",
    "TotalPay.map(sns.kdeplot, 'TotalPay', shade=True);"
   ]
  },
  {
   "cell_type": "code",
   "execution_count": 69,
   "metadata": {
    "collapsed": false
   },
   "outputs": [
    {
     "data": {
      "image/png": "[encoded data removed]",
      "text/plain": [
       "<matplotlib.figure.Figure at 0x250d2671048>"
      ]
     },
     "metadata": {},
     "output_type": "display_data"
    }
   ],
   "source": [
    "PayByYear = sns.FacetGrid(sf, col=\"Year\", size=10, aspect=.5)\n",
    "PayByYear = PayByYear.map(sns.boxplot, \"TotalPay\")\n",
    "\n",
    "# If this tells us anything, is that there are some extreme outliers."
   ]
  },
  {
   "cell_type": "code",
   "execution_count": 71,
   "metadata": {
    "collapsed": false
   },
   "outputs": [
    {
     "name": "stderr",
     "output_type": "stream",
     "text": [
      "C:\\Program Files\\Anaconda3\\lib\\site-packages\\ipykernel\\__main__.py:1: FutureWarning: sort(columns=....) is deprecated, use sort_values(by=.....)\n",
      "  if __name__ == '__main__':\n"
     ]
    },
    {
     "data": {
      "text/html": [
       "<div>\n",
       "<table border=\"1\" class=\"dataframe\">\n",
       "  <thead>\n",
       "    <tr style=\"text-align: right;\">\n",
       "      <th></th>\n",
       "      <th>Id</th>\n",
       "      <th>EmployeeName</th>\n",
       "      <th>JobTitle</th>\n",
       "      <th>BasePay</th>\n",
       "      <th>OvertimePay</th>\n",
       "      <th>OtherPay</th>\n",
       "      <th>Benefits</th>\n",
       "      <th>TotalPay</th>\n",
       "      <th>Year</th>\n",
       "      <th>Status</th>\n",
       "    </tr>\n",
       "  </thead>\n",
       "  <tbody>\n",
       "    <tr>\n",
       "      <th>0</th>\n",
       "      <td>1</td>\n",
       "      <td>NATHANIEL FORD</td>\n",
       "      <td>GENERAL MANAGER-METROPOLITAN TRANSIT AUTHORITY</td>\n",
       "      <td>167411.18</td>\n",
       "      <td>0.00</td>\n",
       "      <td>400184.25</td>\n",
       "      <td>NaN</td>\n",
       "      <td>567595.43</td>\n",
       "      <td>2011</td>\n",
       "      <td>NaN</td>\n",
       "    </tr>\n",
       "    <tr>\n",
       "      <th>1</th>\n",
       "      <td>2</td>\n",
       "      <td>GARY JIMENEZ</td>\n",
       "      <td>CAPTAIN III (POLICE DEPARTMENT)</td>\n",
       "      <td>155966.02</td>\n",
       "      <td>245131.88</td>\n",
       "      <td>137811.38</td>\n",
       "      <td>NaN</td>\n",
       "      <td>538909.28</td>\n",
       "      <td>2011</td>\n",
       "      <td>NaN</td>\n",
       "    </tr>\n",
       "    <tr>\n",
       "      <th>110531</th>\n",
       "      <td>110532</td>\n",
       "      <td>David Shinn</td>\n",
       "      <td>Deputy Chief 3</td>\n",
       "      <td>129150.01</td>\n",
       "      <td>0.00</td>\n",
       "      <td>342802.63</td>\n",
       "      <td>38780.04</td>\n",
       "      <td>471952.64</td>\n",
       "      <td>2014</td>\n",
       "      <td>PT</td>\n",
       "    </tr>\n",
       "    <tr>\n",
       "      <th>110532</th>\n",
       "      <td>110533</td>\n",
       "      <td>Amy P Hart</td>\n",
       "      <td>Asst Med Examiner</td>\n",
       "      <td>318835.49</td>\n",
       "      <td>10712.95</td>\n",
       "      <td>60563.54</td>\n",
       "      <td>89540.23</td>\n",
       "      <td>390111.98</td>\n",
       "      <td>2014</td>\n",
       "      <td>FT</td>\n",
       "    </tr>\n",
       "    <tr>\n",
       "      <th>36159</th>\n",
       "      <td>36160</td>\n",
       "      <td>Gary Altenberg</td>\n",
       "      <td>Lieutenant, Fire Suppression</td>\n",
       "      <td>128808.87</td>\n",
       "      <td>220909.48</td>\n",
       "      <td>13126.31</td>\n",
       "      <td>44430.12</td>\n",
       "      <td>362844.66</td>\n",
       "      <td>2012</td>\n",
       "      <td>NaN</td>\n",
       "    </tr>\n",
       "    <tr>\n",
       "      <th>36167</th>\n",
       "      <td>36168</td>\n",
       "      <td>John Goldberg</td>\n",
       "      <td>Captain 3</td>\n",
       "      <td>104404.00</td>\n",
       "      <td>0.00</td>\n",
       "      <td>245999.41</td>\n",
       "      <td>24287.23</td>\n",
       "      <td>350403.41</td>\n",
       "      <td>2012</td>\n",
       "      <td>NaN</td>\n",
       "    </tr>\n",
       "    <tr>\n",
       "      <th>72927</th>\n",
       "      <td>72928</td>\n",
       "      <td>Samson  Lai</td>\n",
       "      <td>Battalion Chief, Fire Suppress</td>\n",
       "      <td>186236.42</td>\n",
       "      <td>131217.63</td>\n",
       "      <td>29648.27</td>\n",
       "      <td>57064.95</td>\n",
       "      <td>347102.32</td>\n",
       "      <td>2013</td>\n",
       "      <td>NaN</td>\n",
       "    </tr>\n",
       "    <tr>\n",
       "      <th>110536</th>\n",
       "      <td>110537</td>\n",
       "      <td>Ellen G Moffatt</td>\n",
       "      <td>Asst Med Examiner</td>\n",
       "      <td>270222.04</td>\n",
       "      <td>6009.22</td>\n",
       "      <td>67956.20</td>\n",
       "      <td>71580.48</td>\n",
       "      <td>344187.46</td>\n",
       "      <td>2014</td>\n",
       "      <td>FT</td>\n",
       "    </tr>\n",
       "    <tr>\n",
       "      <th>110533</th>\n",
       "      <td>110534</td>\n",
       "      <td>William J Coaker Jr.</td>\n",
       "      <td>Chief Investment Officer</td>\n",
       "      <td>257340.00</td>\n",
       "      <td>0.00</td>\n",
       "      <td>82313.70</td>\n",
       "      <td>96570.66</td>\n",
       "      <td>339653.70</td>\n",
       "      <td>2014</td>\n",
       "      <td>PT</td>\n",
       "    </tr>\n",
       "    <tr>\n",
       "      <th>72925</th>\n",
       "      <td>72926</td>\n",
       "      <td>Gregory P Suhr</td>\n",
       "      <td>Chief of Police</td>\n",
       "      <td>319275.01</td>\n",
       "      <td>0.00</td>\n",
       "      <td>20007.06</td>\n",
       "      <td>86533.21</td>\n",
       "      <td>339282.07</td>\n",
       "      <td>2013</td>\n",
       "      <td>NaN</td>\n",
       "    </tr>\n",
       "    <tr>\n",
       "      <th>36163</th>\n",
       "      <td>36164</td>\n",
       "      <td>Frederick Binkley</td>\n",
       "      <td>EMT/Paramedic/Firefighter</td>\n",
       "      <td>126863.19</td>\n",
       "      <td>192424.49</td>\n",
       "      <td>17917.18</td>\n",
       "      <td>44438.25</td>\n",
       "      <td>337204.86</td>\n",
       "      <td>2012</td>\n",
       "      <td>NaN</td>\n",
       "    </tr>\n",
       "    <tr>\n",
       "      <th>72926</th>\n",
       "      <td>72927</td>\n",
       "      <td>Joanne M Hayes-White</td>\n",
       "      <td>Chief, Fire Department</td>\n",
       "      <td>313686.01</td>\n",
       "      <td>0.00</td>\n",
       "      <td>23236.00</td>\n",
       "      <td>85431.39</td>\n",
       "      <td>336922.01</td>\n",
       "      <td>2013</td>\n",
       "      <td>NaN</td>\n",
       "    </tr>\n",
       "    <tr>\n",
       "      <th>36161</th>\n",
       "      <td>36162</td>\n",
       "      <td>Khoa Trinh</td>\n",
       "      <td>Electronic Maintenance Tech</td>\n",
       "      <td>111921.00</td>\n",
       "      <td>146415.32</td>\n",
       "      <td>78057.41</td>\n",
       "      <td>53102.29</td>\n",
       "      <td>336393.73</td>\n",
       "      <td>2012</td>\n",
       "      <td>NaN</td>\n",
       "    </tr>\n",
       "    <tr>\n",
       "      <th>72928</th>\n",
       "      <td>72929</td>\n",
       "      <td>Ellen G Moffatt</td>\n",
       "      <td>Asst Med Examiner</td>\n",
       "      <td>272855.51</td>\n",
       "      <td>23727.91</td>\n",
       "      <td>38954.54</td>\n",
       "      <td>66198.92</td>\n",
       "      <td>335537.96</td>\n",
       "      <td>2013</td>\n",
       "      <td>NaN</td>\n",
       "    </tr>\n",
       "    <tr>\n",
       "      <th>110539</th>\n",
       "      <td>110540</td>\n",
       "      <td>Samson Lai</td>\n",
       "      <td>Battalion Chief, Fire Suppress</td>\n",
       "      <td>179464.14</td>\n",
       "      <td>128685.99</td>\n",
       "      <td>27334.83</td>\n",
       "      <td>59876.90</td>\n",
       "      <td>335484.96</td>\n",
       "      <td>2014</td>\n",
       "      <td>FT</td>\n",
       "    </tr>\n",
       "    <tr>\n",
       "      <th>2</th>\n",
       "      <td>3</td>\n",
       "      <td>ALBERT PARDINI</td>\n",
       "      <td>CAPTAIN III (POLICE DEPARTMENT)</td>\n",
       "      <td>212739.13</td>\n",
       "      <td>106088.18</td>\n",
       "      <td>16452.60</td>\n",
       "      <td>NaN</td>\n",
       "      <td>335279.91</td>\n",
       "      <td>2011</td>\n",
       "      <td>NaN</td>\n",
       "    </tr>\n",
       "    <tr>\n",
       "      <th>72930</th>\n",
       "      <td>72931</td>\n",
       "      <td>David L Franklin</td>\n",
       "      <td>Asst Chf of Dept (Fire Dept)</td>\n",
       "      <td>215265.60</td>\n",
       "      <td>87985.24</td>\n",
       "      <td>30637.48</td>\n",
       "      <td>62890.36</td>\n",
       "      <td>333888.32</td>\n",
       "      <td>2013</td>\n",
       "      <td>NaN</td>\n",
       "    </tr>\n",
       "    <tr>\n",
       "      <th>3</th>\n",
       "      <td>4</td>\n",
       "      <td>CHRISTOPHER CHONG</td>\n",
       "      <td>WIRE ROPE CABLE MAINTENANCE MECHANIC</td>\n",
       "      <td>77916.00</td>\n",
       "      <td>56120.71</td>\n",
       "      <td>198306.90</td>\n",
       "      <td>NaN</td>\n",
       "      <td>332343.61</td>\n",
       "      <td>2011</td>\n",
       "      <td>NaN</td>\n",
       "    </tr>\n",
       "    <tr>\n",
       "      <th>110540</th>\n",
       "      <td>110541</td>\n",
       "      <td>David L Franklin</td>\n",
       "      <td>Asst Chf of Dept (Fire Dept)</td>\n",
       "      <td>201566.88</td>\n",
       "      <td>97907.38</td>\n",
       "      <td>29916.28</td>\n",
       "      <td>64599.59</td>\n",
       "      <td>329390.54</td>\n",
       "      <td>2014</td>\n",
       "      <td>FT</td>\n",
       "    </tr>\n",
       "    <tr>\n",
       "      <th>36173</th>\n",
       "      <td>36174</td>\n",
       "      <td>Mark Kearney</td>\n",
       "      <td>Assistant Deputy Chief 2</td>\n",
       "      <td>124573.50</td>\n",
       "      <td>22599.60</td>\n",
       "      <td>180516.68</td>\n",
       "      <td>32381.00</td>\n",
       "      <td>327689.78</td>\n",
       "      <td>2012</td>\n",
       "      <td>NaN</td>\n",
       "    </tr>\n",
       "    <tr>\n",
       "      <th>110534</th>\n",
       "      <td>110535</td>\n",
       "      <td>Gregory P Suhr</td>\n",
       "      <td>Chief of Police</td>\n",
       "      <td>307450.04</td>\n",
       "      <td>0.00</td>\n",
       "      <td>19266.72</td>\n",
       "      <td>91302.46</td>\n",
       "      <td>326716.76</td>\n",
       "      <td>2014</td>\n",
       "      <td>FT</td>\n",
       "    </tr>\n",
       "    <tr>\n",
       "      <th>72946</th>\n",
       "      <td>72947</td>\n",
       "      <td>Michael J Morris</td>\n",
       "      <td>Assistant Deputy Chief 2</td>\n",
       "      <td>124054.00</td>\n",
       "      <td>0.00</td>\n",
       "      <td>202322.37</td>\n",
       "      <td>35929.84</td>\n",
       "      <td>326376.37</td>\n",
       "      <td>2013</td>\n",
       "      <td>NaN</td>\n",
       "    </tr>\n",
       "    <tr>\n",
       "      <th>4</th>\n",
       "      <td>5</td>\n",
       "      <td>PATRICK GARDNER</td>\n",
       "      <td>DEPUTY CHIEF OF DEPARTMENT,(FIRE DEPARTMENT)</td>\n",
       "      <td>134401.60</td>\n",
       "      <td>9737.00</td>\n",
       "      <td>182234.59</td>\n",
       "      <td>NaN</td>\n",
       "      <td>326373.19</td>\n",
       "      <td>2011</td>\n",
       "      <td>NaN</td>\n",
       "    </tr>\n",
       "    <tr>\n",
       "      <th>110535</th>\n",
       "      <td>110536</td>\n",
       "      <td>Joanne M Hayes-White</td>\n",
       "      <td>Chief, Fire Department</td>\n",
       "      <td>302068.00</td>\n",
       "      <td>0.00</td>\n",
       "      <td>24165.44</td>\n",
       "      <td>91201.66</td>\n",
       "      <td>326233.44</td>\n",
       "      <td>2014</td>\n",
       "      <td>FT</td>\n",
       "    </tr>\n",
       "    <tr>\n",
       "      <th>72934</th>\n",
       "      <td>72935</td>\n",
       "      <td>Thomas A Siragusa</td>\n",
       "      <td>Asst Chf of Dept (Fire Dept)</td>\n",
       "      <td>215265.60</td>\n",
       "      <td>88028.54</td>\n",
       "      <td>21526.49</td>\n",
       "      <td>61288.58</td>\n",
       "      <td>324820.63</td>\n",
       "      <td>2013</td>\n",
       "      <td>NaN</td>\n",
       "    </tr>\n",
       "    <tr>\n",
       "      <th>72936</th>\n",
       "      <td>72937</td>\n",
       "      <td>Yifang  Qian</td>\n",
       "      <td>Senior Physician Specialist</td>\n",
       "      <td>203710.00</td>\n",
       "      <td>0.00</td>\n",
       "      <td>119176.84</td>\n",
       "      <td>58810.96</td>\n",
       "      <td>322886.84</td>\n",
       "      <td>2013</td>\n",
       "      <td>NaN</td>\n",
       "    </tr>\n",
       "    <tr>\n",
       "      <th>110543</th>\n",
       "      <td>110544</td>\n",
       "      <td>Richard L Corriea</td>\n",
       "      <td>Commander 3</td>\n",
       "      <td>184734.01</td>\n",
       "      <td>0.00</td>\n",
       "      <td>137409.09</td>\n",
       "      <td>51940.39</td>\n",
       "      <td>322143.10</td>\n",
       "      <td>2014</td>\n",
       "      <td>PT</td>\n",
       "    </tr>\n",
       "    <tr>\n",
       "      <th>36169</th>\n",
       "      <td>36170</td>\n",
       "      <td>Brendan Ward</td>\n",
       "      <td>Battlion Chief, Fire Suppressi</td>\n",
       "      <td>174822.47</td>\n",
       "      <td>118215.58</td>\n",
       "      <td>28845.78</td>\n",
       "      <td>49648.09</td>\n",
       "      <td>321883.83</td>\n",
       "      <td>2012</td>\n",
       "      <td>NaN</td>\n",
       "    </tr>\n",
       "    <tr>\n",
       "      <th>36160</th>\n",
       "      <td>36161</td>\n",
       "      <td>Gregory Suhr</td>\n",
       "      <td>Chief of Police</td>\n",
       "      <td>302578.00</td>\n",
       "      <td>0.00</td>\n",
       "      <td>18974.11</td>\n",
       "      <td>69810.19</td>\n",
       "      <td>321552.11</td>\n",
       "      <td>2012</td>\n",
       "      <td>NaN</td>\n",
       "    </tr>\n",
       "    <tr>\n",
       "      <th>72943</th>\n",
       "      <td>72944</td>\n",
       "      <td>Gary L Altenberg</td>\n",
       "      <td>Lieutenant, Fire Suppression</td>\n",
       "      <td>135903.02</td>\n",
       "      <td>163477.81</td>\n",
       "      <td>20994.96</td>\n",
       "      <td>46030.76</td>\n",
       "      <td>320375.79</td>\n",
       "      <td>2013</td>\n",
       "      <td>NaN</td>\n",
       "    </tr>\n",
       "    <tr>\n",
       "      <th>...</th>\n",
       "      <td>...</td>\n",
       "      <td>...</td>\n",
       "      <td>...</td>\n",
       "      <td>...</td>\n",
       "      <td>...</td>\n",
       "      <td>...</td>\n",
       "      <td>...</td>\n",
       "      <td>...</td>\n",
       "      <td>...</td>\n",
       "      <td>...</td>\n",
       "    </tr>\n",
       "    <tr>\n",
       "      <th>106764</th>\n",
       "      <td>106765</td>\n",
       "      <td>Francisco  Guardado</td>\n",
       "      <td>Parking Control Officer</td>\n",
       "      <td>NaN</td>\n",
       "      <td>0.00</td>\n",
       "      <td>0.00</td>\n",
       "      <td>7959.18</td>\n",
       "      <td>0.00</td>\n",
       "      <td>2013</td>\n",
       "      <td>NaN</td>\n",
       "    </tr>\n",
       "    <tr>\n",
       "      <th>106763</th>\n",
       "      <td>106764</td>\n",
       "      <td>Stephen D Smith</td>\n",
       "      <td>Deputy Sheriff</td>\n",
       "      <td>NaN</td>\n",
       "      <td>0.00</td>\n",
       "      <td>0.00</td>\n",
       "      <td>7959.18</td>\n",
       "      <td>0.00</td>\n",
       "      <td>2013</td>\n",
       "      <td>NaN</td>\n",
       "    </tr>\n",
       "    <tr>\n",
       "      <th>106762</th>\n",
       "      <td>106763</td>\n",
       "      <td>Brianna J Calabrese</td>\n",
       "      <td>Recreation Director</td>\n",
       "      <td>NaN</td>\n",
       "      <td>0.00</td>\n",
       "      <td>0.00</td>\n",
       "      <td>7959.18</td>\n",
       "      <td>0.00</td>\n",
       "      <td>2013</td>\n",
       "      <td>NaN</td>\n",
       "    </tr>\n",
       "    <tr>\n",
       "      <th>106761</th>\n",
       "      <td>106762</td>\n",
       "      <td>Winnie  Yu</td>\n",
       "      <td>Commissioner 16.700c, No Pay</td>\n",
       "      <td>NaN</td>\n",
       "      <td>0.00</td>\n",
       "      <td>0.00</td>\n",
       "      <td>7959.18</td>\n",
       "      <td>0.00</td>\n",
       "      <td>2013</td>\n",
       "      <td>NaN</td>\n",
       "    </tr>\n",
       "    <tr>\n",
       "      <th>106760</th>\n",
       "      <td>106761</td>\n",
       "      <td>Karen S Tan</td>\n",
       "      <td>Personnel Clerk</td>\n",
       "      <td>NaN</td>\n",
       "      <td>0.00</td>\n",
       "      <td>0.00</td>\n",
       "      <td>7959.18</td>\n",
       "      <td>0.00</td>\n",
       "      <td>2013</td>\n",
       "      <td>NaN</td>\n",
       "    </tr>\n",
       "    <tr>\n",
       "      <th>106759</th>\n",
       "      <td>106760</td>\n",
       "      <td>Andreas F Siem</td>\n",
       "      <td>Swimming Instr/Pool Lifeguard</td>\n",
       "      <td>NaN</td>\n",
       "      <td>0.00</td>\n",
       "      <td>0.00</td>\n",
       "      <td>7959.18</td>\n",
       "      <td>0.00</td>\n",
       "      <td>2013</td>\n",
       "      <td>NaN</td>\n",
       "    </tr>\n",
       "    <tr>\n",
       "      <th>106758</th>\n",
       "      <td>106759</td>\n",
       "      <td>Wayne E Barry</td>\n",
       "      <td>Recreation Director</td>\n",
       "      <td>NaN</td>\n",
       "      <td>0.00</td>\n",
       "      <td>0.00</td>\n",
       "      <td>7959.18</td>\n",
       "      <td>0.00</td>\n",
       "      <td>2013</td>\n",
       "      <td>NaN</td>\n",
       "    </tr>\n",
       "    <tr>\n",
       "      <th>106757</th>\n",
       "      <td>106758</td>\n",
       "      <td>Michael D Duldulao</td>\n",
       "      <td>Sr Statnry Eng, Wtr Treat Plnt</td>\n",
       "      <td>NaN</td>\n",
       "      <td>0.00</td>\n",
       "      <td>0.00</td>\n",
       "      <td>7959.18</td>\n",
       "      <td>0.00</td>\n",
       "      <td>2013</td>\n",
       "      <td>NaN</td>\n",
       "    </tr>\n",
       "    <tr>\n",
       "      <th>106774</th>\n",
       "      <td>106775</td>\n",
       "      <td>Monica J Moy</td>\n",
       "      <td>Senior Administrative Analyst</td>\n",
       "      <td>NaN</td>\n",
       "      <td>0.00</td>\n",
       "      <td>0.00</td>\n",
       "      <td>7959.18</td>\n",
       "      <td>0.00</td>\n",
       "      <td>2013</td>\n",
       "      <td>NaN</td>\n",
       "    </tr>\n",
       "    <tr>\n",
       "      <th>106776</th>\n",
       "      <td>106777</td>\n",
       "      <td>Thomas U Lindsey</td>\n",
       "      <td>Sign Worker</td>\n",
       "      <td>NaN</td>\n",
       "      <td>0.00</td>\n",
       "      <td>0.00</td>\n",
       "      <td>7959.18</td>\n",
       "      <td>0.00</td>\n",
       "      <td>2013</td>\n",
       "      <td>NaN</td>\n",
       "    </tr>\n",
       "    <tr>\n",
       "      <th>106795</th>\n",
       "      <td>106796</td>\n",
       "      <td>Tri H Truong</td>\n",
       "      <td>Deputy Sheriff</td>\n",
       "      <td>NaN</td>\n",
       "      <td>0.00</td>\n",
       "      <td>0.00</td>\n",
       "      <td>7959.18</td>\n",
       "      <td>0.00</td>\n",
       "      <td>2013</td>\n",
       "      <td>NaN</td>\n",
       "    </tr>\n",
       "    <tr>\n",
       "      <th>106777</th>\n",
       "      <td>106778</td>\n",
       "      <td>Allen M Posey</td>\n",
       "      <td>Firefighter</td>\n",
       "      <td>NaN</td>\n",
       "      <td>0.00</td>\n",
       "      <td>0.00</td>\n",
       "      <td>7959.18</td>\n",
       "      <td>0.00</td>\n",
       "      <td>2013</td>\n",
       "      <td>NaN</td>\n",
       "    </tr>\n",
       "    <tr>\n",
       "      <th>106794</th>\n",
       "      <td>106795</td>\n",
       "      <td>Melinda K Htow</td>\n",
       "      <td>Inventory Clerk</td>\n",
       "      <td>NaN</td>\n",
       "      <td>0.00</td>\n",
       "      <td>0.00</td>\n",
       "      <td>7959.18</td>\n",
       "      <td>0.00</td>\n",
       "      <td>2013</td>\n",
       "      <td>NaN</td>\n",
       "    </tr>\n",
       "    <tr>\n",
       "      <th>106793</th>\n",
       "      <td>106794</td>\n",
       "      <td>Wendy  Paskin-Jordan</td>\n",
       "      <td>Commissioner 16.700c, No Pay</td>\n",
       "      <td>NaN</td>\n",
       "      <td>0.00</td>\n",
       "      <td>0.00</td>\n",
       "      <td>7959.18</td>\n",
       "      <td>0.00</td>\n",
       "      <td>2013</td>\n",
       "      <td>NaN</td>\n",
       "    </tr>\n",
       "    <tr>\n",
       "      <th>106792</th>\n",
       "      <td>106793</td>\n",
       "      <td>Frances  Smith</td>\n",
       "      <td>Transit Operator</td>\n",
       "      <td>NaN</td>\n",
       "      <td>0.00</td>\n",
       "      <td>0.00</td>\n",
       "      <td>7959.18</td>\n",
       "      <td>0.00</td>\n",
       "      <td>2013</td>\n",
       "      <td>NaN</td>\n",
       "    </tr>\n",
       "    <tr>\n",
       "      <th>106791</th>\n",
       "      <td>106792</td>\n",
       "      <td>Deborah L Lloyd</td>\n",
       "      <td>Physical Therapist</td>\n",
       "      <td>NaN</td>\n",
       "      <td>0.00</td>\n",
       "      <td>0.00</td>\n",
       "      <td>7959.18</td>\n",
       "      <td>0.00</td>\n",
       "      <td>2013</td>\n",
       "      <td>NaN</td>\n",
       "    </tr>\n",
       "    <tr>\n",
       "      <th>106790</th>\n",
       "      <td>106791</td>\n",
       "      <td>James J Phelan</td>\n",
       "      <td>Track Maintenance Worker</td>\n",
       "      <td>NaN</td>\n",
       "      <td>0.00</td>\n",
       "      <td>0.00</td>\n",
       "      <td>7959.18</td>\n",
       "      <td>0.00</td>\n",
       "      <td>2013</td>\n",
       "      <td>NaN</td>\n",
       "    </tr>\n",
       "    <tr>\n",
       "      <th>106789</th>\n",
       "      <td>106790</td>\n",
       "      <td>Dominic  Mangini</td>\n",
       "      <td>General Laborer</td>\n",
       "      <td>NaN</td>\n",
       "      <td>0.00</td>\n",
       "      <td>0.00</td>\n",
       "      <td>7959.18</td>\n",
       "      <td>0.00</td>\n",
       "      <td>2013</td>\n",
       "      <td>NaN</td>\n",
       "    </tr>\n",
       "    <tr>\n",
       "      <th>106788</th>\n",
       "      <td>106789</td>\n",
       "      <td>Joanne L Shaw</td>\n",
       "      <td>Water QualityTech I/II</td>\n",
       "      <td>NaN</td>\n",
       "      <td>0.00</td>\n",
       "      <td>0.00</td>\n",
       "      <td>7959.18</td>\n",
       "      <td>0.00</td>\n",
       "      <td>2013</td>\n",
       "      <td>NaN</td>\n",
       "    </tr>\n",
       "    <tr>\n",
       "      <th>106787</th>\n",
       "      <td>106788</td>\n",
       "      <td>Hannibal  Lowry</td>\n",
       "      <td>Health Program Coordinator 3</td>\n",
       "      <td>NaN</td>\n",
       "      <td>0.00</td>\n",
       "      <td>0.00</td>\n",
       "      <td>7959.18</td>\n",
       "      <td>0.00</td>\n",
       "      <td>2013</td>\n",
       "      <td>NaN</td>\n",
       "    </tr>\n",
       "    <tr>\n",
       "      <th>106786</th>\n",
       "      <td>106787</td>\n",
       "      <td>Joann  Seabury</td>\n",
       "      <td>Transit Operator</td>\n",
       "      <td>NaN</td>\n",
       "      <td>0.00</td>\n",
       "      <td>0.00</td>\n",
       "      <td>7959.18</td>\n",
       "      <td>0.00</td>\n",
       "      <td>2013</td>\n",
       "      <td>NaN</td>\n",
       "    </tr>\n",
       "    <tr>\n",
       "      <th>106785</th>\n",
       "      <td>106786</td>\n",
       "      <td>Trina L Thorsen</td>\n",
       "      <td>Deputy Sheriff</td>\n",
       "      <td>NaN</td>\n",
       "      <td>0.00</td>\n",
       "      <td>0.00</td>\n",
       "      <td>7959.18</td>\n",
       "      <td>0.00</td>\n",
       "      <td>2013</td>\n",
       "      <td>NaN</td>\n",
       "    </tr>\n",
       "    <tr>\n",
       "      <th>106784</th>\n",
       "      <td>106785</td>\n",
       "      <td>Lauren C Slingsby</td>\n",
       "      <td>Asst Engr</td>\n",
       "      <td>NaN</td>\n",
       "      <td>0.00</td>\n",
       "      <td>0.00</td>\n",
       "      <td>7959.18</td>\n",
       "      <td>0.00</td>\n",
       "      <td>2013</td>\n",
       "      <td>NaN</td>\n",
       "    </tr>\n",
       "    <tr>\n",
       "      <th>106783</th>\n",
       "      <td>106784</td>\n",
       "      <td>Robert S McCutcheon</td>\n",
       "      <td>General Laborer</td>\n",
       "      <td>NaN</td>\n",
       "      <td>0.00</td>\n",
       "      <td>0.00</td>\n",
       "      <td>7959.18</td>\n",
       "      <td>0.00</td>\n",
       "      <td>2013</td>\n",
       "      <td>NaN</td>\n",
       "    </tr>\n",
       "    <tr>\n",
       "      <th>106782</th>\n",
       "      <td>106783</td>\n",
       "      <td>Connie  Ranchez</td>\n",
       "      <td>Security Guard</td>\n",
       "      <td>NaN</td>\n",
       "      <td>0.00</td>\n",
       "      <td>0.00</td>\n",
       "      <td>7959.18</td>\n",
       "      <td>0.00</td>\n",
       "      <td>2013</td>\n",
       "      <td>NaN</td>\n",
       "    </tr>\n",
       "    <tr>\n",
       "      <th>106781</th>\n",
       "      <td>106782</td>\n",
       "      <td>Su-Wen  McManus</td>\n",
       "      <td>Secretary 2</td>\n",
       "      <td>NaN</td>\n",
       "      <td>0.00</td>\n",
       "      <td>0.00</td>\n",
       "      <td>7959.18</td>\n",
       "      <td>0.00</td>\n",
       "      <td>2013</td>\n",
       "      <td>NaN</td>\n",
       "    </tr>\n",
       "    <tr>\n",
       "      <th>106780</th>\n",
       "      <td>106781</td>\n",
       "      <td>Kimberly F Johnson</td>\n",
       "      <td>Transit Operator</td>\n",
       "      <td>NaN</td>\n",
       "      <td>0.00</td>\n",
       "      <td>0.00</td>\n",
       "      <td>7959.18</td>\n",
       "      <td>0.00</td>\n",
       "      <td>2013</td>\n",
       "      <td>NaN</td>\n",
       "    </tr>\n",
       "    <tr>\n",
       "      <th>106779</th>\n",
       "      <td>106780</td>\n",
       "      <td>Jack L Brodnax Jr</td>\n",
       "      <td>Junior Management Assistant</td>\n",
       "      <td>NaN</td>\n",
       "      <td>0.00</td>\n",
       "      <td>0.00</td>\n",
       "      <td>7959.18</td>\n",
       "      <td>0.00</td>\n",
       "      <td>2013</td>\n",
       "      <td>NaN</td>\n",
       "    </tr>\n",
       "    <tr>\n",
       "      <th>106778</th>\n",
       "      <td>106779</td>\n",
       "      <td>Ronald R Orge</td>\n",
       "      <td>Parking Control Officer</td>\n",
       "      <td>NaN</td>\n",
       "      <td>0.00</td>\n",
       "      <td>0.00</td>\n",
       "      <td>7959.18</td>\n",
       "      <td>0.00</td>\n",
       "      <td>2013</td>\n",
       "      <td>NaN</td>\n",
       "    </tr>\n",
       "    <tr>\n",
       "      <th>148653</th>\n",
       "      <td>148654</td>\n",
       "      <td>Joe Lopez</td>\n",
       "      <td>Counselor, Log Cabin Ranch</td>\n",
       "      <td>0.00</td>\n",
       "      <td>0.00</td>\n",
       "      <td>-618.13</td>\n",
       "      <td>0.00</td>\n",
       "      <td>-618.13</td>\n",
       "      <td>2014</td>\n",
       "      <td>PT</td>\n",
       "    </tr>\n",
       "  </tbody>\n",
       "</table>\n",
       "<p>148654 rows × 10 columns</p>\n",
       "</div>"
      ],
      "text/plain": [
       "            Id          EmployeeName  \\\n",
       "0            1        NATHANIEL FORD   \n",
       "1            2          GARY JIMENEZ   \n",
       "110531  110532           David Shinn   \n",
       "110532  110533            Amy P Hart   \n",
       "36159    36160        Gary Altenberg   \n",
       "36167    36168         John Goldberg   \n",
       "72927    72928           Samson  Lai   \n",
       "110536  110537       Ellen G Moffatt   \n",
       "110533  110534  William J Coaker Jr.   \n",
       "72925    72926        Gregory P Suhr   \n",
       "36163    36164     Frederick Binkley   \n",
       "72926    72927  Joanne M Hayes-White   \n",
       "36161    36162            Khoa Trinh   \n",
       "72928    72929       Ellen G Moffatt   \n",
       "110539  110540            Samson Lai   \n",
       "2            3        ALBERT PARDINI   \n",
       "72930    72931      David L Franklin   \n",
       "3            4     CHRISTOPHER CHONG   \n",
       "110540  110541      David L Franklin   \n",
       "36173    36174          Mark Kearney   \n",
       "110534  110535        Gregory P Suhr   \n",
       "72946    72947      Michael J Morris   \n",
       "4            5       PATRICK GARDNER   \n",
       "110535  110536  Joanne M Hayes-White   \n",
       "72934    72935     Thomas A Siragusa   \n",
       "72936    72937          Yifang  Qian   \n",
       "110543  110544     Richard L Corriea   \n",
       "36169    36170          Brendan Ward   \n",
       "36160    36161          Gregory Suhr   \n",
       "72943    72944      Gary L Altenberg   \n",
       "...        ...                   ...   \n",
       "106764  106765   Francisco  Guardado   \n",
       "106763  106764       Stephen D Smith   \n",
       "106762  106763   Brianna J Calabrese   \n",
       "106761  106762            Winnie  Yu   \n",
       "106760  106761           Karen S Tan   \n",
       "106759  106760        Andreas F Siem   \n",
       "106758  106759         Wayne E Barry   \n",
       "106757  106758    Michael D Duldulao   \n",
       "106774  106775          Monica J Moy   \n",
       "106776  106777      Thomas U Lindsey   \n",
       "106795  106796          Tri H Truong   \n",
       "106777  106778         Allen M Posey   \n",
       "106794  106795        Melinda K Htow   \n",
       "106793  106794  Wendy  Paskin-Jordan   \n",
       "106792  106793        Frances  Smith   \n",
       "106791  106792       Deborah L Lloyd   \n",
       "106790  106791        James J Phelan   \n",
       "106789  106790      Dominic  Mangini   \n",
       "106788  106789         Joanne L Shaw   \n",
       "106787  106788       Hannibal  Lowry   \n",
       "106786  106787        Joann  Seabury   \n",
       "106785  106786       Trina L Thorsen   \n",
       "106784  106785     Lauren C Slingsby   \n",
       "106783  106784   Robert S McCutcheon   \n",
       "106782  106783       Connie  Ranchez   \n",
       "106781  106782       Su-Wen  McManus   \n",
       "106780  106781    Kimberly F Johnson   \n",
       "106779  106780     Jack L Brodnax Jr   \n",
       "106778  106779         Ronald R Orge   \n",
       "148653  148654             Joe Lopez   \n",
       "\n",
       "                                              JobTitle    BasePay  \\\n",
       "0       GENERAL MANAGER-METROPOLITAN TRANSIT AUTHORITY  167411.18   \n",
       "1                      CAPTAIN III (POLICE DEPARTMENT)  155966.02   \n",
       "110531                                  Deputy Chief 3  129150.01   \n",
       "110532                               Asst Med Examiner  318835.49   \n",
       "36159                     Lieutenant, Fire Suppression  128808.87   \n",
       "36167                                        Captain 3  104404.00   \n",
       "72927                   Battalion Chief, Fire Suppress  186236.42   \n",
       "110536                               Asst Med Examiner  270222.04   \n",
       "110533                        Chief Investment Officer  257340.00   \n",
       "72925                                  Chief of Police  319275.01   \n",
       "36163                        EMT/Paramedic/Firefighter  126863.19   \n",
       "72926                           Chief, Fire Department  313686.01   \n",
       "36161                      Electronic Maintenance Tech  111921.00   \n",
       "72928                                Asst Med Examiner  272855.51   \n",
       "110539                  Battalion Chief, Fire Suppress  179464.14   \n",
       "2                      CAPTAIN III (POLICE DEPARTMENT)  212739.13   \n",
       "72930                     Asst Chf of Dept (Fire Dept)  215265.60   \n",
       "3                 WIRE ROPE CABLE MAINTENANCE MECHANIC   77916.00   \n",
       "110540                    Asst Chf of Dept (Fire Dept)  201566.88   \n",
       "36173                         Assistant Deputy Chief 2  124573.50   \n",
       "110534                                 Chief of Police  307450.04   \n",
       "72946                         Assistant Deputy Chief 2  124054.00   \n",
       "4         DEPUTY CHIEF OF DEPARTMENT,(FIRE DEPARTMENT)  134401.60   \n",
       "110535                          Chief, Fire Department  302068.00   \n",
       "72934                     Asst Chf of Dept (Fire Dept)  215265.60   \n",
       "72936                      Senior Physician Specialist  203710.00   \n",
       "110543                                     Commander 3  184734.01   \n",
       "36169                   Battlion Chief, Fire Suppressi  174822.47   \n",
       "36160                                  Chief of Police  302578.00   \n",
       "72943                     Lieutenant, Fire Suppression  135903.02   \n",
       "...                                                ...        ...   \n",
       "106764                         Parking Control Officer        NaN   \n",
       "106763                                  Deputy Sheriff        NaN   \n",
       "106762                             Recreation Director        NaN   \n",
       "106761                    Commissioner 16.700c, No Pay        NaN   \n",
       "106760                                 Personnel Clerk        NaN   \n",
       "106759                   Swimming Instr/Pool Lifeguard        NaN   \n",
       "106758                             Recreation Director        NaN   \n",
       "106757                  Sr Statnry Eng, Wtr Treat Plnt        NaN   \n",
       "106774                   Senior Administrative Analyst        NaN   \n",
       "106776                                     Sign Worker        NaN   \n",
       "106795                                  Deputy Sheriff        NaN   \n",
       "106777                                     Firefighter        NaN   \n",
       "106794                                 Inventory Clerk        NaN   \n",
       "106793                    Commissioner 16.700c, No Pay        NaN   \n",
       "106792                                Transit Operator        NaN   \n",
       "106791                              Physical Therapist        NaN   \n",
       "106790                        Track Maintenance Worker        NaN   \n",
       "106789                                 General Laborer        NaN   \n",
       "106788                          Water QualityTech I/II        NaN   \n",
       "106787                    Health Program Coordinator 3        NaN   \n",
       "106786                                Transit Operator        NaN   \n",
       "106785                                  Deputy Sheriff        NaN   \n",
       "106784                                       Asst Engr        NaN   \n",
       "106783                                 General Laborer        NaN   \n",
       "106782                                  Security Guard        NaN   \n",
       "106781                                     Secretary 2        NaN   \n",
       "106780                                Transit Operator        NaN   \n",
       "106779                     Junior Management Assistant        NaN   \n",
       "106778                         Parking Control Officer        NaN   \n",
       "148653                      Counselor, Log Cabin Ranch       0.00   \n",
       "\n",
       "        OvertimePay   OtherPay  Benefits   TotalPay  Year Status  \n",
       "0              0.00  400184.25       NaN  567595.43  2011    NaN  \n",
       "1         245131.88  137811.38       NaN  538909.28  2011    NaN  \n",
       "110531         0.00  342802.63  38780.04  471952.64  2014     PT  \n",
       "110532     10712.95   60563.54  89540.23  390111.98  2014     FT  \n",
       "36159     220909.48   13126.31  44430.12  362844.66  2012    NaN  \n",
       "36167          0.00  245999.41  24287.23  350403.41  2012    NaN  \n",
       "72927     131217.63   29648.27  57064.95  347102.32  2013    NaN  \n",
       "110536      6009.22   67956.20  71580.48  344187.46  2014     FT  \n",
       "110533         0.00   82313.70  96570.66  339653.70  2014     PT  \n",
       "72925          0.00   20007.06  86533.21  339282.07  2013    NaN  \n",
       "36163     192424.49   17917.18  44438.25  337204.86  2012    NaN  \n",
       "72926          0.00   23236.00  85431.39  336922.01  2013    NaN  \n",
       "36161     146415.32   78057.41  53102.29  336393.73  2012    NaN  \n",
       "72928      23727.91   38954.54  66198.92  335537.96  2013    NaN  \n",
       "110539    128685.99   27334.83  59876.90  335484.96  2014     FT  \n",
       "2         106088.18   16452.60       NaN  335279.91  2011    NaN  \n",
       "72930      87985.24   30637.48  62890.36  333888.32  2013    NaN  \n",
       "3          56120.71  198306.90       NaN  332343.61  2011    NaN  \n",
       "110540     97907.38   29916.28  64599.59  329390.54  2014     FT  \n",
       "36173      22599.60  180516.68  32381.00  327689.78  2012    NaN  \n",
       "110534         0.00   19266.72  91302.46  326716.76  2014     FT  \n",
       "72946          0.00  202322.37  35929.84  326376.37  2013    NaN  \n",
       "4           9737.00  182234.59       NaN  326373.19  2011    NaN  \n",
       "110535         0.00   24165.44  91201.66  326233.44  2014     FT  \n",
       "72934      88028.54   21526.49  61288.58  324820.63  2013    NaN  \n",
       "72936          0.00  119176.84  58810.96  322886.84  2013    NaN  \n",
       "110543         0.00  137409.09  51940.39  322143.10  2014     PT  \n",
       "36169     118215.58   28845.78  49648.09  321883.83  2012    NaN  \n",
       "36160          0.00   18974.11  69810.19  321552.11  2012    NaN  \n",
       "72943     163477.81   20994.96  46030.76  320375.79  2013    NaN  \n",
       "...             ...        ...       ...        ...   ...    ...  \n",
       "106764         0.00       0.00   7959.18       0.00  2013    NaN  \n",
       "106763         0.00       0.00   7959.18       0.00  2013    NaN  \n",
       "106762         0.00       0.00   7959.18       0.00  2013    NaN  \n",
       "106761         0.00       0.00   7959.18       0.00  2013    NaN  \n",
       "106760         0.00       0.00   7959.18       0.00  2013    NaN  \n",
       "106759         0.00       0.00   7959.18       0.00  2013    NaN  \n",
       "106758         0.00       0.00   7959.18       0.00  2013    NaN  \n",
       "106757         0.00       0.00   7959.18       0.00  2013    NaN  \n",
       "106774         0.00       0.00   7959.18       0.00  2013    NaN  \n",
       "106776         0.00       0.00   7959.18       0.00  2013    NaN  \n",
       "106795         0.00       0.00   7959.18       0.00  2013    NaN  \n",
       "106777         0.00       0.00   7959.18       0.00  2013    NaN  \n",
       "106794         0.00       0.00   7959.18       0.00  2013    NaN  \n",
       "106793         0.00       0.00   7959.18       0.00  2013    NaN  \n",
       "106792         0.00       0.00   7959.18       0.00  2013    NaN  \n",
       "106791         0.00       0.00   7959.18       0.00  2013    NaN  \n",
       "106790         0.00       0.00   7959.18       0.00  2013    NaN  \n",
       "106789         0.00       0.00   7959.18       0.00  2013    NaN  \n",
       "106788         0.00       0.00   7959.18       0.00  2013    NaN  \n",
       "106787         0.00       0.00   7959.18       0.00  2013    NaN  \n",
       "106786         0.00       0.00   7959.18       0.00  2013    NaN  \n",
       "106785         0.00       0.00   7959.18       0.00  2013    NaN  \n",
       "106784         0.00       0.00   7959.18       0.00  2013    NaN  \n",
       "106783         0.00       0.00   7959.18       0.00  2013    NaN  \n",
       "106782         0.00       0.00   7959.18       0.00  2013    NaN  \n",
       "106781         0.00       0.00   7959.18       0.00  2013    NaN  \n",
       "106780         0.00       0.00   7959.18       0.00  2013    NaN  \n",
       "106779         0.00       0.00   7959.18       0.00  2013    NaN  \n",
       "106778         0.00       0.00   7959.18       0.00  2013    NaN  \n",
       "148653         0.00    -618.13      0.00    -618.13  2014     PT  \n",
       "\n",
       "[148654 rows x 10 columns]"
      ]
     },
     "execution_count": 71,
     "metadata": {},
     "output_type": "execute_result"
    }
   ],
   "source": [
    "sf.sort('TotalPay', ascending=False)"
   ]
  },
  {
   "cell_type": "code",
   "execution_count": null,
   "metadata": {
    "collapsed": true
   },
   "outputs": [],
   "source": [
    "# Look how skewed is the entire pay scale"
   ]
  },
  {
   "cell_type": "code",
   "execution_count": 73,
   "metadata": {
    "collapsed": false
   },
   "outputs": [
    {
     "data": {
      "text/plain": [
       "61"
      ]
     },
     "execution_count": 73,
     "metadata": {},
     "output_type": "execute_result"
    }
   ],
   "source": [
    "len(sf[sf.TotalPay > 300000])"
   ]
  },
  {
   "cell_type": "code",
   "execution_count": 76,
   "metadata": {
    "collapsed": false
   },
   "outputs": [
    {
     "data": {
      "text/plain": [
       "10162"
      ]
     },
     "execution_count": 76,
     "metadata": {},
     "output_type": "execute_result"
    }
   ],
   "source": [
    "len(sf[sf.TotalPay < 4000])"
   ]
  },
  {
   "cell_type": "code",
   "execution_count": 77,
   "metadata": {
    "collapsed": true
   },
   "outputs": [],
   "source": [
    "# Look how skewed is the entire pay scale"
   ]
  },
  {
   "cell_type": "code",
   "execution_count": null,
   "metadata": {
    "collapsed": true
   },
   "outputs": [],
   "source": [
    ">>> pal = dict(Lunch=\"seagreen\", Dinner=\"gray\")\n",
    ">>> g = sns.FacetGrid(tips, col=\"sex\", hue=\"time\", palette=pal,\n",
    "...                   hue_order=[\"Dinner\", \"Lunch\"])\n",
    ">>> g = (g.map(plt.scatter, \"total_bill\", \"tip\", **kws)\n",
    "...      .add_legend())"
   ]
  },
  {
   "cell_type": "code",
   "execution_count": 92,
   "metadata": {
    "collapsed": false
   },
   "outputs": [
    {
     "name": "stdout",
     "output_type": "stream",
     "text": [
      "Top 20 most employed\n",
      "JobTitle\n",
      "General Laborer                 1033\n",
      "Sergeant 3                      1047\n",
      "Porter                          1095\n",
      "Attorney (Civil/Criminal)       1126\n",
      "Police Officer 2                1141\n",
      "REGISTERED NURSE                1219\n",
      "Public Service Trainee          1328\n",
      "SPECIAL NURSE                   1402\n",
      "Police Officer                  1476\n",
      "Deputy Sheriff                  1933\n",
      "Patient Care Assistant          1945\n",
      "Recreation Leader               1971\n",
      "Firefighter                     2359\n",
      "TRANSIT OPERATOR                2388\n",
      "Custodian                       2418\n",
      "Police Officer 3                2421\n",
      "Public Svc Aide-Public Works    2518\n",
      "Registered Nurse                3736\n",
      "Special Nurse                   4389\n",
      "Transit Operator                7036\n",
      "dtype: int64\n"
     ]
    }
   ],
   "source": [
    "JobTitle_Bot20 = sf.groupby('JobTitle').size().sort_values().tail(20)\n",
    "print('Top 20 most employed')\n",
    "print(JobTitle_Bot20)"
   ]
  },
  {
   "cell_type": "code",
   "execution_count": 163,
   "metadata": {
    "collapsed": false
   },
   "outputs": [
    {
     "data": {
      "text/html": [
       "<div>\n",
       "<table border=\"1\" class=\"dataframe\">\n",
       "  <thead>\n",
       "    <tr style=\"text-align: right;\">\n",
       "      <th></th>\n",
       "      <th>Id</th>\n",
       "      <th>BasePay</th>\n",
       "      <th>OvertimePay</th>\n",
       "      <th>OtherPay</th>\n",
       "      <th>Benefits</th>\n",
       "      <th>TotalPay</th>\n",
       "      <th>Year</th>\n",
       "    </tr>\n",
       "  </thead>\n",
       "  <tbody>\n",
       "    <tr>\n",
       "      <th>count</th>\n",
       "      <td>1476.000000</td>\n",
       "      <td>1469.000000</td>\n",
       "      <td>1476.000000</td>\n",
       "      <td>1476.000000</td>\n",
       "      <td>1476.000000</td>\n",
       "      <td>1476.000000</td>\n",
       "      <td>1476.000000</td>\n",
       "    </tr>\n",
       "    <tr>\n",
       "      <th>mean</th>\n",
       "      <td>90371.747290</td>\n",
       "      <td>83140.709292</td>\n",
       "      <td>8813.859580</td>\n",
       "      <td>4721.386728</td>\n",
       "      <td>27809.735969</td>\n",
       "      <td>96281.656843</td>\n",
       "      <td>2013.091463</td>\n",
       "    </tr>\n",
       "    <tr>\n",
       "      <th>std</th>\n",
       "      <td>31865.820582</td>\n",
       "      <td>34376.063566</td>\n",
       "      <td>10451.110605</td>\n",
       "      <td>6638.179530</td>\n",
       "      <td>10777.015168</td>\n",
       "      <td>44380.259171</td>\n",
       "      <td>0.807025</td>\n",
       "    </tr>\n",
       "    <tr>\n",
       "      <th>min</th>\n",
       "      <td>37635.000000</td>\n",
       "      <td>0.000000</td>\n",
       "      <td>0.000000</td>\n",
       "      <td>0.000000</td>\n",
       "      <td>0.000000</td>\n",
       "      <td>0.000000</td>\n",
       "      <td>2012.000000</td>\n",
       "    </tr>\n",
       "    <tr>\n",
       "      <th>25%</th>\n",
       "      <td>66286.500000</td>\n",
       "      <td>55689.950000</td>\n",
       "      <td>294.625000</td>\n",
       "      <td>831.757500</td>\n",
       "      <td>18530.770000</td>\n",
       "      <td>60195.015000</td>\n",
       "      <td>2012.000000</td>\n",
       "    </tr>\n",
       "    <tr>\n",
       "      <th>50%</th>\n",
       "      <td>85949.000000</td>\n",
       "      <td>92615.140000</td>\n",
       "      <td>5872.690000</td>\n",
       "      <td>3536.485000</td>\n",
       "      <td>32702.125000</td>\n",
       "      <td>108335.565000</td>\n",
       "      <td>2013.000000</td>\n",
       "    </tr>\n",
       "    <tr>\n",
       "      <th>75%</th>\n",
       "      <td>118774.750000</td>\n",
       "      <td>110535.040000</td>\n",
       "      <td>12856.225000</td>\n",
       "      <td>6650.267500</td>\n",
       "      <td>35355.245000</td>\n",
       "      <td>129212.365000</td>\n",
       "      <td>2014.000000</td>\n",
       "    </tr>\n",
       "    <tr>\n",
       "      <th>max</th>\n",
       "      <td>148410.000000</td>\n",
       "      <td>118571.030000</td>\n",
       "      <td>81953.600000</td>\n",
       "      <td>124034.010000</td>\n",
       "      <td>54740.340000</td>\n",
       "      <td>243855.390000</td>\n",
       "      <td>2014.000000</td>\n",
       "    </tr>\n",
       "  </tbody>\n",
       "</table>\n",
       "</div>"
      ],
      "text/plain": [
       "                  Id        BasePay   OvertimePay       OtherPay  \\\n",
       "count    1476.000000    1469.000000   1476.000000    1476.000000   \n",
       "mean    90371.747290   83140.709292   8813.859580    4721.386728   \n",
       "std     31865.820582   34376.063566  10451.110605    6638.179530   \n",
       "min     37635.000000       0.000000      0.000000       0.000000   \n",
       "25%     66286.500000   55689.950000    294.625000     831.757500   \n",
       "50%     85949.000000   92615.140000   5872.690000    3536.485000   \n",
       "75%    118774.750000  110535.040000  12856.225000    6650.267500   \n",
       "max    148410.000000  118571.030000  81953.600000  124034.010000   \n",
       "\n",
       "           Benefits       TotalPay         Year  \n",
       "count   1476.000000    1476.000000  1476.000000  \n",
       "mean   27809.735969   96281.656843  2013.091463  \n",
       "std    10777.015168   44380.259171     0.807025  \n",
       "min        0.000000       0.000000  2012.000000  \n",
       "25%    18530.770000   60195.015000  2012.000000  \n",
       "50%    32702.125000  108335.565000  2013.000000  \n",
       "75%    35355.245000  129212.365000  2014.000000  \n",
       "max    54740.340000  243855.390000  2014.000000  "
      ]
     },
     "execution_count": 163,
     "metadata": {},
     "output_type": "execute_result"
    }
   ],
   "source": [
    "# Lets look at certain JobTitles on their own\n",
    "sf[sf.JobTitle == 'Police Officer'].describe()"
   ]
  },
  {
   "cell_type": "code",
   "execution_count": 164,
   "metadata": {
    "collapsed": false
   },
   "outputs": [
    {
     "data": {
      "text/html": [
       "<div>\n",
       "<table border=\"1\" class=\"dataframe\">\n",
       "  <thead>\n",
       "    <tr style=\"text-align: right;\">\n",
       "      <th></th>\n",
       "      <th>Id</th>\n",
       "      <th>BasePay</th>\n",
       "      <th>OvertimePay</th>\n",
       "      <th>OtherPay</th>\n",
       "      <th>Benefits</th>\n",
       "      <th>TotalPay</th>\n",
       "      <th>Year</th>\n",
       "    </tr>\n",
       "  </thead>\n",
       "  <tbody>\n",
       "    <tr>\n",
       "      <th>count</th>\n",
       "      <td>155.000000</td>\n",
       "      <td>155.000000</td>\n",
       "      <td>155.000000</td>\n",
       "      <td>155.000000</td>\n",
       "      <td>155.000000</td>\n",
       "      <td>155.000000</td>\n",
       "      <td>155.0</td>\n",
       "    </tr>\n",
       "    <tr>\n",
       "      <th>mean</th>\n",
       "      <td>138179.567742</td>\n",
       "      <td>34078.537097</td>\n",
       "      <td>906.820065</td>\n",
       "      <td>1609.213032</td>\n",
       "      <td>13023.905742</td>\n",
       "      <td>36594.570194</td>\n",
       "      <td>2014.0</td>\n",
       "    </tr>\n",
       "    <tr>\n",
       "      <th>std</th>\n",
       "      <td>5848.170172</td>\n",
       "      <td>22403.408461</td>\n",
       "      <td>3023.208258</td>\n",
       "      <td>6829.890409</td>\n",
       "      <td>8207.119671</td>\n",
       "      <td>26867.456339</td>\n",
       "      <td>0.0</td>\n",
       "    </tr>\n",
       "    <tr>\n",
       "      <th>min</th>\n",
       "      <td>117943.000000</td>\n",
       "      <td>0.000000</td>\n",
       "      <td>0.000000</td>\n",
       "      <td>0.000000</td>\n",
       "      <td>0.000000</td>\n",
       "      <td>242.660000</td>\n",
       "      <td>2014.0</td>\n",
       "    </tr>\n",
       "    <tr>\n",
       "      <th>25%</th>\n",
       "      <td>137329.500000</td>\n",
       "      <td>18594.000000</td>\n",
       "      <td>0.000000</td>\n",
       "      <td>0.000000</td>\n",
       "      <td>7464.700000</td>\n",
       "      <td>18594.000000</td>\n",
       "      <td>2014.0</td>\n",
       "    </tr>\n",
       "    <tr>\n",
       "      <th>50%</th>\n",
       "      <td>139618.000000</td>\n",
       "      <td>27891.000000</td>\n",
       "      <td>0.000000</td>\n",
       "      <td>0.000000</td>\n",
       "      <td>10348.950000</td>\n",
       "      <td>27905.530000</td>\n",
       "      <td>2014.0</td>\n",
       "    </tr>\n",
       "    <tr>\n",
       "      <th>75%</th>\n",
       "      <td>140966.500000</td>\n",
       "      <td>46175.100000</td>\n",
       "      <td>0.000000</td>\n",
       "      <td>14.530000</td>\n",
       "      <td>18450.580000</td>\n",
       "      <td>46175.100000</td>\n",
       "      <td>2014.0</td>\n",
       "    </tr>\n",
       "    <tr>\n",
       "      <th>max</th>\n",
       "      <td>148410.000000</td>\n",
       "      <td>102074.650000</td>\n",
       "      <td>23118.300000</td>\n",
       "      <td>68881.600000</td>\n",
       "      <td>34007.900000</td>\n",
       "      <td>127063.690000</td>\n",
       "      <td>2014.0</td>\n",
       "    </tr>\n",
       "  </tbody>\n",
       "</table>\n",
       "</div>"
      ],
      "text/plain": [
       "                  Id        BasePay   OvertimePay      OtherPay      Benefits  \\\n",
       "count     155.000000     155.000000    155.000000    155.000000    155.000000   \n",
       "mean   138179.567742   34078.537097    906.820065   1609.213032  13023.905742   \n",
       "std      5848.170172   22403.408461   3023.208258   6829.890409   8207.119671   \n",
       "min    117943.000000       0.000000      0.000000      0.000000      0.000000   \n",
       "25%    137329.500000   18594.000000      0.000000      0.000000   7464.700000   \n",
       "50%    139618.000000   27891.000000      0.000000      0.000000  10348.950000   \n",
       "75%    140966.500000   46175.100000      0.000000     14.530000  18450.580000   \n",
       "max    148410.000000  102074.650000  23118.300000  68881.600000  34007.900000   \n",
       "\n",
       "            TotalPay    Year  \n",
       "count     155.000000   155.0  \n",
       "mean    36594.570194  2014.0  \n",
       "std     26867.456339     0.0  \n",
       "min       242.660000  2014.0  \n",
       "25%     18594.000000  2014.0  \n",
       "50%     27905.530000  2014.0  \n",
       "75%     46175.100000  2014.0  \n",
       "max    127063.690000  2014.0  "
      ]
     },
     "execution_count": 164,
     "metadata": {},
     "output_type": "execute_result"
    }
   ],
   "source": [
    "# Here we see that we only have Part-Time Police Officers in 2014\n",
    "# Obviously Part-Time PO's make less money then FT\n",
    "sf[(sf.JobTitle == 'Police Officer') & (sf.Status == 'PT')].describe()"
   ]
  },
  {
   "cell_type": "code",
   "execution_count": 93,
   "metadata": {
    "collapsed": false
   },
   "outputs": [
    {
     "name": "stdout",
     "output_type": "stream",
     "text": [
      "Top 20 uinque jobs\n",
      "JobTitle\n",
      "ZOO CURATOR                                    1\n",
      "COURT AD RESOLUTION COORDINATOR                1\n",
      "INSTITUTIONAL POLICE LIEUTENANT                1\n",
      "PUBLIC SAFETY COMMUNICATIONS TECHNICIAN        1\n",
      "PUBLIC DEFENDER                                1\n",
      "Sr Sprv Prob Ofc, Juv Prob                     1\n",
      "TRIAL DELAY REDUCTION COORDINATOR              1\n",
      "PRINCIPAL RECREATION SUPERVISOR                1\n",
      "TREE TOPPER SUPERVISOR II                      1\n",
      "TREASURER                                      1\n",
      "PRINCIPAL MUSEUM PREPARATOR                    1\n",
      "PRINCIPAL INVESTIGATOR, TAX COLLECTOR          1\n",
      "CONSERVATORSHIP/CASE MGNT SUPV                 1\n",
      "CONFIDENTIAL SECRETARY TO DISTRICT ATTORNEY    1\n",
      "POWERHOUSE ELECTRICIAN SUPERVISOR II           1\n",
      "POWER PLANT SUPERVISOR I                       1\n",
      "POWER HOUSE ELECTRICIAN SUPERVISOR I           1\n",
      "POWER GENERATION TECHNICIAN I                  1\n",
      "CONFIDENTIAL SECRETARY CITY ATTORNEY           1\n",
      "PORT DIRECTOR                                  1\n",
      "dtype: int64\n"
     ]
    }
   ],
   "source": [
    "JobTitle_Top20 = sf.groupby('JobTitle').size().sort_values().head(20)\n",
    "print('Top 20 uinque jobs')\n",
    "print(JobTitle_Top20)"
   ]
  },
  {
   "cell_type": "code",
   "execution_count": 187,
   "metadata": {
    "collapsed": false
   },
   "outputs": [
    {
     "data": {
      "text/html": [
       "<div>\n",
       "<table border=\"1\" class=\"dataframe\">\n",
       "  <thead>\n",
       "    <tr style=\"text-align: right;\">\n",
       "      <th></th>\n",
       "      <th>Id</th>\n",
       "      <th>EmployeeName</th>\n",
       "      <th>JobTitle</th>\n",
       "      <th>BasePay</th>\n",
       "      <th>OvertimePay</th>\n",
       "      <th>OtherPay</th>\n",
       "      <th>Benefits</th>\n",
       "      <th>TotalPay</th>\n",
       "      <th>Year</th>\n",
       "      <th>Status</th>\n",
       "    </tr>\n",
       "  </thead>\n",
       "  <tbody>\n",
       "  </tbody>\n",
       "</table>\n",
       "</div>"
      ],
      "text/plain": [
       "Empty DataFrame\n",
       "Columns: [Id, EmployeeName, JobTitle, BasePay, OvertimePay, OtherPay, Benefits, TotalPay, Year, Status]\n",
       "Index: []"
      ]
     },
     "execution_count": 187,
     "metadata": {},
     "output_type": "execute_result"
    }
   ],
   "source": [
    "sf1 = sf.copy()\n",
    "sf1.EmployeeName\n",
    "a = sf1.duplicated(subset='EmployeeName')\n",
    "sf1[(sf1.EmployeeName == a)]\n",
    "\n",
    "# sf[(sf.JobTitle == 'Police Officer') & (sf.Status == 'PT')].describe()\n",
    "#sf1 = sf1.set_index('EmployeeName').sort_index()\n",
    "#sf1.duplicated(subset='EmployeeName')\n",
    "#sf1.loc['EmployeeName':'EmployeeName']"
   ]
  },
  {
   "cell_type": "code",
   "execution_count": null,
   "metadata": {
    "collapsed": true
   },
   "outputs": [],
   "source": []
  },
  {
   "cell_type": "code",
   "execution_count": 94,
   "metadata": {
    "collapsed": true
   },
   "outputs": [],
   "source": [
    "# https://www.kaggle.com/dmitriy19/d/kaggle/sf-salaries/explore-sf-salary-data-quick-eda"
   ]
  },
  {
   "cell_type": "code",
   "execution_count": null,
   "metadata": {
    "collapsed": true
   },
   "outputs": [],
   "source": []
  },
  {
   "cell_type": "code",
   "execution_count": null,
   "metadata": {
    "collapsed": true
   },
   "outputs": [],
   "source": [
    "# Are there any duplicate names in the dataset?"
   ]
  },
  {
   "cell_type": "code",
   "execution_count": null,
   "metadata": {
    "collapsed": true
   },
   "outputs": [],
   "source": []
  },
  {
   "cell_type": "code",
   "execution_count": null,
   "metadata": {
    "collapsed": true
   },
   "outputs": [],
   "source": [
    "# Which employee has been employed three years?"
   ]
  },
  {
   "cell_type": "code",
   "execution_count": null,
   "metadata": {
    "collapsed": true
   },
   "outputs": [],
   "source": []
  },
  {
   "cell_type": "code",
   "execution_count": null,
   "metadata": {
    "collapsed": true
   },
   "outputs": [],
   "source": [
    "# What is the correlation between titles and salaries?"
   ]
  },
  {
   "cell_type": "code",
   "execution_count": null,
   "metadata": {
    "collapsed": true
   },
   "outputs": [],
   "source": []
  },
  {
   "cell_type": "code",
   "execution_count": null,
   "metadata": {
    "collapsed": true
   },
   "outputs": [],
   "source": [
    "# How have salaries changed between the years?"
   ]
  },
  {
   "cell_type": "code",
   "execution_count": 148,
   "metadata": {
    "collapsed": false
   },
   "outputs": [
    {
     "name": "stdout",
     "output_type": "stream",
     "text": [
      "2011 36159\n",
      "2012 36766\n",
      "2013 37606\n"
     ]
    }
   ],
   "source": []
  },
  {
   "cell_type": "code",
   "execution_count": null,
   "metadata": {
    "collapsed": true
   },
   "outputs": [],
   "source": [
    "# Can you make a bar plot or a histogram?"
   ]
  },
  {
   "cell_type": "code",
   "execution_count": null,
   "metadata": {
    "collapsed": true
   },
   "outputs": [],
   "source": []
  },
  {
   "cell_type": "code",
   "execution_count": null,
   "metadata": {
    "collapsed": true
   },
   "outputs": [],
   "source": [
    "# Can you compare two related quantities?"
   ]
  },
  {
   "cell_type": "code",
   "execution_count": null,
   "metadata": {
    "collapsed": true
   },
   "outputs": [],
   "source": []
  },
  {
   "cell_type": "code",
   "execution_count": null,
   "metadata": {
    "collapsed": true
   },
   "outputs": [],
   "source": [
    "# Can you make a scatterplot?"
   ]
  },
  {
   "cell_type": "code",
   "execution_count": null,
   "metadata": {
    "collapsed": true
   },
   "outputs": [],
   "source": []
  },
  {
   "cell_type": "code",
   "execution_count": null,
   "metadata": {
    "collapsed": true
   },
   "outputs": [],
   "source": [
    "# Can you make a time-series plot?"
   ]
  },
  {
   "cell_type": "code",
   "execution_count": null,
   "metadata": {
    "collapsed": true
   },
   "outputs": [],
   "source": []
  },
  {
   "cell_type": "code",
   "execution_count": null,
   "metadata": {
    "collapsed": true
   },
   "outputs": [],
   "source": [
    "# How have salaries changed over time between different groups of people?"
   ]
  },
  {
   "cell_type": "code",
   "execution_count": null,
   "metadata": {
    "collapsed": true
   },
   "outputs": [],
   "source": []
  },
  {
   "cell_type": "code",
   "execution_count": null,
   "metadata": {
    "collapsed": true
   },
   "outputs": [],
   "source": [
    "# How are base pay, overtime pay and benefits allocated between different groups?"
   ]
  },
  {
   "cell_type": "code",
   "execution_count": null,
   "metadata": {
    "collapsed": true
   },
   "outputs": [],
   "source": []
  },
  {
   "cell_type": "code",
   "execution_count": 158,
   "metadata": {
    "collapsed": true
   },
   "outputs": [],
   "source": [
    "# Can we split the dataset between males and females?"
   ]
  },
  {
   "cell_type": "code",
   "execution_count": null,
   "metadata": {
    "collapsed": true
   },
   "outputs": [],
   "source": []
  },
  {
   "cell_type": "code",
   "execution_count": null,
   "metadata": {
    "collapsed": true
   },
   "outputs": [],
   "source": [
    "# Is there any evidene of pay discrimination based on gender in this dataset?"
   ]
  },
  {
   "cell_type": "code",
   "execution_count": null,
   "metadata": {
    "collapsed": true
   },
   "outputs": [],
   "source": []
  },
  {
   "cell_type": "code",
   "execution_count": null,
   "metadata": {
    "collapsed": true
   },
   "outputs": [],
   "source": [
    "# How is budget allocated based on different groups and responsibilities?"
   ]
  },
  {
   "cell_type": "code",
   "execution_count": null,
   "metadata": {
    "collapsed": true
   },
   "outputs": [],
   "source": []
  },
  {
   "cell_type": "code",
   "execution_count": null,
   "metadata": {
    "collapsed": true
   },
   "outputs": [],
   "source": []
  },
  {
   "cell_type": "code",
   "execution_count": null,
   "metadata": {
    "collapsed": true
   },
   "outputs": [],
   "source": []
  },
  {
   "cell_type": "code",
   "execution_count": null,
   "metadata": {
    "collapsed": true
   },
   "outputs": [],
   "source": []
  },
  {
   "cell_type": "code",
   "execution_count": null,
   "metadata": {
    "collapsed": true
   },
   "outputs": [],
   "source": []
  },
  {
   "cell_type": "code",
   "execution_count": null,
   "metadata": {
    "collapsed": true
   },
   "outputs": [],
   "source": []
  },
  {
   "cell_type": "code",
   "execution_count": null,
   "metadata": {
    "collapsed": true
   },
   "outputs": [],
   "source": []
  },
  {
   "cell_type": "code",
   "execution_count": null,
   "metadata": {
    "collapsed": true
   },
   "outputs": [],
   "source": []
  },
  {
   "cell_type": "code",
   "execution_count": null,
   "metadata": {
    "collapsed": true
   },
   "outputs": [],
   "source": []
  },
  {
   "cell_type": "code",
   "execution_count": null,
   "metadata": {
    "collapsed": true
   },
   "outputs": [],
   "source": []
  },
  {
   "cell_type": "code",
   "execution_count": null,
   "metadata": {
    "collapsed": true
   },
   "outputs": [],
   "source": []
  },
  {
   "cell_type": "code",
   "execution_count": null,
   "metadata": {
    "collapsed": true
   },
   "outputs": [],
   "source": []
  },
  {
   "cell_type": "code",
   "execution_count": null,
   "metadata": {
    "collapsed": true
   },
   "outputs": [],
   "source": []
  },
  {
   "cell_type": "code",
   "execution_count": null,
   "metadata": {
    "collapsed": true
   },
   "outputs": [],
   "source": []
  },
  {
   "cell_type": "code",
   "execution_count": null,
   "metadata": {
    "collapsed": true
   },
   "outputs": [],
   "source": []
  },
  {
   "cell_type": "code",
   "execution_count": null,
   "metadata": {
    "collapsed": true
   },
   "outputs": [],
   "source": []
  },
  {
   "cell_type": "code",
   "execution_count": null,
   "metadata": {
    "collapsed": true
   },
   "outputs": [],
   "source": []
  },
  {
   "cell_type": "code",
   "execution_count": null,
   "metadata": {
    "collapsed": true
   },
   "outputs": [],
   "source": []
  },
  {
   "cell_type": "code",
   "execution_count": null,
   "metadata": {
    "collapsed": true
   },
   "outputs": [],
   "source": []
  },
  {
   "cell_type": "code",
   "execution_count": null,
   "metadata": {
    "collapsed": true
   },
   "outputs": [],
   "source": []
  },
  {
   "cell_type": "code",
   "execution_count": null,
   "metadata": {
    "collapsed": true
   },
   "outputs": [],
   "source": []
  },
  {
   "cell_type": "code",
   "execution_count": null,
   "metadata": {
    "collapsed": true
   },
   "outputs": [],
   "source": []
  },
  {
   "cell_type": "code",
   "execution_count": null,
   "metadata": {
    "collapsed": true
   },
   "outputs": [],
   "source": []
  },
  {
   "cell_type": "code",
   "execution_count": null,
   "metadata": {
    "collapsed": true
   },
   "outputs": [],
   "source": []
  },
  {
   "cell_type": "code",
   "execution_count": null,
   "metadata": {
    "collapsed": true
   },
   "outputs": [],
   "source": []
  },
  {
   "cell_type": "code",
   "execution_count": null,
   "metadata": {
    "collapsed": true
   },
   "outputs": [],
   "source": []
  },
  {
   "cell_type": "code",
   "execution_count": null,
   "metadata": {
    "collapsed": true
   },
   "outputs": [],
   "source": []
  },
  {
   "cell_type": "code",
   "execution_count": null,
   "metadata": {
    "collapsed": true
   },
   "outputs": [],
   "source": []
  },
  {
   "cell_type": "code",
   "execution_count": null,
   "metadata": {
    "collapsed": true
   },
   "outputs": [],
   "source": []
  },
  {
   "cell_type": "code",
   "execution_count": null,
   "metadata": {
    "collapsed": true
   },
   "outputs": [],
   "source": []
  },
  {
   "cell_type": "code",
   "execution_count": null,
   "metadata": {
    "collapsed": true
   },
   "outputs": [],
   "source": []
  },
  {
   "cell_type": "code",
   "execution_count": null,
   "metadata": {
    "collapsed": true
   },
   "outputs": [],
   "source": []
  }
 ],
 "metadata": {
  "kernelspec": {
   "display_name": "Python [default]",
   "language": "python",
   "name": "python3"
  },
  "language_info": {
   "codemirror_mode": {
    "name": "ipython",
    "version": 3
   },
   "file_extension": ".py",
   "mimetype": "text/x-python",
   "name": "python",
   "nbconvert_exporter": "python",
   "pygments_lexer": "ipython3",
   "version": "3.6.0"
  }
 },
 "nbformat": 4,
 "nbformat_minor": 2
}
