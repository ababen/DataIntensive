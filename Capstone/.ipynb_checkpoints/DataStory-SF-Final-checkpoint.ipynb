{
 "cells": [
  {
   "cell_type": "markdown",
   "metadata": {},
   "source": [
    "http://pbpython.com/simple-graphing-pandas.html\n",
    "\n",
    "https://pandas.pydata.org/pandas-docs/stable/advanced.html\n",
    "\n",
    "http://seaborn.pydata.org/generated/seaborn.barplot.html"
   ]
  },
  {
   "cell_type": "code",
   "execution_count": 123,
   "metadata": {
    "collapsed": true
   },
   "outputs": [],
   "source": [
    "%matplotlib inline"
   ]
  },
  {
   "cell_type": "code",
   "execution_count": 124,
   "metadata": {
    "collapsed": true
   },
   "outputs": [],
   "source": [
    "import pandas as pd\n",
    "import numpy as np\n",
    "import locale\n",
    "idx = pd.IndexSlice"
   ]
  },
  {
   "cell_type": "code",
   "execution_count": 125,
   "metadata": {
    "collapsed": true
   },
   "outputs": [],
   "source": [
    "#get_ipython().magic('matplotlib inline')\n",
    "\n",
    "import matplotlib.pylab as plt\n",
    "import seaborn as sns\n",
    "from ggplot import *\n",
    "\n",
    "# import bokeh as bkh\n",
    "# from bokeh.layouts import row\n",
    "# from bokeh.plotting import figure, show, output_file"
   ]
  },
  {
   "cell_type": "code",
   "execution_count": 126,
   "metadata": {},
   "outputs": [
    {
     "name": "stdout",
     "output_type": "stream",
     "text": [
      "Wall time: 532 ms\n"
     ]
    }
   ],
   "source": [
    "%%time\n",
    "# dataset from https://www.kaggle.com/kaggle/sf-salaries\n",
    "# sf2014\n",
    "sf = pd.read_csv('data/sf-salaries/Salaries.csv', usecols=[0,1,2,3,4,5,6,7,9,11,12], dtype={3: object, 4: object, 5: object, 6: object, 12: object}, na_values=['Not Provided', 'Not provided', 'not provided'])"
   ]
  },
  {
   "cell_type": "markdown",
   "metadata": {},
   "source": [
    "Submission Requirements: \n",
    "    \n",
    "Submit links to a Github repository containing a Jupyter notebook. The notebook should contain:\n",
    "\n",
    "* The questions you asked\n",
    "* The trends you investigated\n",
    "* The resulting visualizations and conclusions."
   ]
  },
  {
   "cell_type": "markdown",
   "metadata": {},
   "source": [
    "\n",
    "## Defination of the columns:\n",
    "\n",
    "### Numeric (needs conversion to numeric):\n",
    "##### 1. BasePay, OvertimePay, OtherPay, Benefits, TotalPay\n",
    "\n",
    "### Categorical:\n",
    "##### 1. Id, EmployeeName, JobTitle, Agency, Status\n"
   ]
  },
  {
   "cell_type": "markdown",
   "metadata": {},
   "source": [
    "## Starting Analysis"
   ]
  },
  {
   "cell_type": "markdown",
   "metadata": {},
   "source": [
    "* Agency - Represents a region in the larger datasets.\n",
    "* BasePay - The base rate of pay for a job or activity, excluding additional payments such as overtime or bonuses.\n",
    "* Benefits - Employees pension plan, free health insurance, and other benefits.\n",
    "* EmployeeName - Full Name (we can try to use this to analyze gender discrimination)\n",
    "* Id - Original order of employees from sf2014 dataset, field does not exist in sf 2015\n",
    "* JobTitle - Employee position held. (There seem to be differences in naming between datasets.)\n",
    "* Notes - Empty\n",
    "* OtherPay - Not sure but I would imagine Bonuses or other 'special' benefits. Could include personal flights on public aircrafts.\n",
    "* OvertimePay - Time paid at California's's 1.5x base pay for over time.\n",
    "* Status - Classification as FT (Full Time) or PT (Part Time) employee. Only tracked after 2013.\n",
    "* TotalPay - BasePay + OvertimePay + OtherPay\n",
    "* Year - Payroll year"
   ]
  },
  {
   "cell_type": "code",
   "execution_count": 127,
   "metadata": {},
   "outputs": [
    {
     "data": {
      "text/html": [
       "<div>\n",
       "<style>\n",
       "    .dataframe thead tr:only-child th {\n",
       "        text-align: right;\n",
       "    }\n",
       "\n",
       "    .dataframe thead th {\n",
       "        text-align: left;\n",
       "    }\n",
       "\n",
       "    .dataframe tbody tr th {\n",
       "        vertical-align: top;\n",
       "    }\n",
       "</style>\n",
       "<table border=\"1\" class=\"dataframe\">\n",
       "  <thead>\n",
       "    <tr style=\"text-align: right;\">\n",
       "      <th></th>\n",
       "      <th>Id</th>\n",
       "      <th>EmployeeName</th>\n",
       "      <th>JobTitle</th>\n",
       "      <th>BasePay</th>\n",
       "      <th>OvertimePay</th>\n",
       "      <th>OtherPay</th>\n",
       "      <th>Benefits</th>\n",
       "      <th>TotalPay</th>\n",
       "      <th>Year</th>\n",
       "      <th>Agency</th>\n",
       "      <th>Status</th>\n",
       "    </tr>\n",
       "  </thead>\n",
       "  <tbody>\n",
       "    <tr>\n",
       "      <th>0</th>\n",
       "      <td>1</td>\n",
       "      <td>NATHANIEL FORD</td>\n",
       "      <td>GENERAL MANAGER-METROPOLITAN TRANSIT AUTHORITY</td>\n",
       "      <td>167411.18</td>\n",
       "      <td>0.0</td>\n",
       "      <td>400184.25</td>\n",
       "      <td>NaN</td>\n",
       "      <td>567595.43</td>\n",
       "      <td>2011</td>\n",
       "      <td>San Francisco</td>\n",
       "      <td>NaN</td>\n",
       "    </tr>\n",
       "    <tr>\n",
       "      <th>1</th>\n",
       "      <td>2</td>\n",
       "      <td>GARY JIMENEZ</td>\n",
       "      <td>CAPTAIN III (POLICE DEPARTMENT)</td>\n",
       "      <td>155966.02</td>\n",
       "      <td>245131.88</td>\n",
       "      <td>137811.38</td>\n",
       "      <td>NaN</td>\n",
       "      <td>538909.28</td>\n",
       "      <td>2011</td>\n",
       "      <td>San Francisco</td>\n",
       "      <td>NaN</td>\n",
       "    </tr>\n",
       "    <tr>\n",
       "      <th>2</th>\n",
       "      <td>3</td>\n",
       "      <td>ALBERT PARDINI</td>\n",
       "      <td>CAPTAIN III (POLICE DEPARTMENT)</td>\n",
       "      <td>212739.13</td>\n",
       "      <td>106088.18</td>\n",
       "      <td>16452.6</td>\n",
       "      <td>NaN</td>\n",
       "      <td>335279.91</td>\n",
       "      <td>2011</td>\n",
       "      <td>San Francisco</td>\n",
       "      <td>NaN</td>\n",
       "    </tr>\n",
       "    <tr>\n",
       "      <th>3</th>\n",
       "      <td>4</td>\n",
       "      <td>CHRISTOPHER CHONG</td>\n",
       "      <td>WIRE ROPE CABLE MAINTENANCE MECHANIC</td>\n",
       "      <td>77916.0</td>\n",
       "      <td>56120.71</td>\n",
       "      <td>198306.9</td>\n",
       "      <td>NaN</td>\n",
       "      <td>332343.61</td>\n",
       "      <td>2011</td>\n",
       "      <td>San Francisco</td>\n",
       "      <td>NaN</td>\n",
       "    </tr>\n",
       "    <tr>\n",
       "      <th>4</th>\n",
       "      <td>5</td>\n",
       "      <td>PATRICK GARDNER</td>\n",
       "      <td>DEPUTY CHIEF OF DEPARTMENT,(FIRE DEPARTMENT)</td>\n",
       "      <td>134401.6</td>\n",
       "      <td>9737.0</td>\n",
       "      <td>182234.59</td>\n",
       "      <td>NaN</td>\n",
       "      <td>326373.19</td>\n",
       "      <td>2011</td>\n",
       "      <td>San Francisco</td>\n",
       "      <td>NaN</td>\n",
       "    </tr>\n",
       "  </tbody>\n",
       "</table>\n",
       "</div>"
      ],
      "text/plain": [
       "   Id       EmployeeName                                        JobTitle  \\\n",
       "0   1     NATHANIEL FORD  GENERAL MANAGER-METROPOLITAN TRANSIT AUTHORITY   \n",
       "1   2       GARY JIMENEZ                 CAPTAIN III (POLICE DEPARTMENT)   \n",
       "2   3     ALBERT PARDINI                 CAPTAIN III (POLICE DEPARTMENT)   \n",
       "3   4  CHRISTOPHER CHONG            WIRE ROPE CABLE MAINTENANCE MECHANIC   \n",
       "4   5    PATRICK GARDNER    DEPUTY CHIEF OF DEPARTMENT,(FIRE DEPARTMENT)   \n",
       "\n",
       "     BasePay OvertimePay   OtherPay Benefits   TotalPay  Year         Agency  \\\n",
       "0  167411.18         0.0  400184.25      NaN  567595.43  2011  San Francisco   \n",
       "1  155966.02   245131.88  137811.38      NaN  538909.28  2011  San Francisco   \n",
       "2  212739.13   106088.18    16452.6      NaN  335279.91  2011  San Francisco   \n",
       "3    77916.0    56120.71   198306.9      NaN  332343.61  2011  San Francisco   \n",
       "4   134401.6      9737.0  182234.59      NaN  326373.19  2011  San Francisco   \n",
       "\n",
       "  Status  \n",
       "0    NaN  \n",
       "1    NaN  \n",
       "2    NaN  \n",
       "3    NaN  \n",
       "4    NaN  "
      ]
     },
     "execution_count": 127,
     "metadata": {},
     "output_type": "execute_result"
    }
   ],
   "source": [
    "sf.head()"
   ]
  },
  {
   "cell_type": "code",
   "execution_count": 128,
   "metadata": {},
   "outputs": [
    {
     "data": {
      "text/plain": [
       "Id                   0\n",
       "EmployeeName         6\n",
       "JobTitle             4\n",
       "BasePay            609\n",
       "OvertimePay          4\n",
       "OtherPay             4\n",
       "Benefits         36163\n",
       "TotalPay             0\n",
       "Year                 0\n",
       "Agency               0\n",
       "Status          110535\n",
       "dtype: int64"
      ]
     },
     "execution_count": 128,
     "metadata": {},
     "output_type": "execute_result"
    }
   ],
   "source": [
    "sf.isnull().sum()"
   ]
  },
  {
   "cell_type": "code",
   "execution_count": 129,
   "metadata": {},
   "outputs": [
    {
     "data": {
      "text/plain": [
       "array(['San Francisco'], dtype=object)"
      ]
     },
     "execution_count": 129,
     "metadata": {},
     "output_type": "execute_result"
    }
   ],
   "source": [
    "sf.Agency.unique()"
   ]
  },
  {
   "cell_type": "markdown",
   "metadata": {},
   "source": [
    "Since the Agency field only contains one unique value, I will remove the field. Notices field is null."
   ]
  },
  {
   "cell_type": "code",
   "execution_count": 130,
   "metadata": {
    "collapsed": true
   },
   "outputs": [],
   "source": [
    "# del sf['Notes']\n",
    "\n",
    "# Here is another way of dropping a field.\n",
    "\n",
    "sf.drop(['Agency'], axis=1, inplace=True)"
   ]
  },
  {
   "cell_type": "markdown",
   "metadata": {},
   "source": [
    "Here I am going to do basic data standardization and cleaning so that it is easier to work with this dataset."
   ]
  },
  {
   "cell_type": "code",
   "execution_count": 131,
   "metadata": {
    "collapsed": true
   },
   "outputs": [],
   "source": [
    "# I am also going to delete any observation where JobTitle is 'Not provided' so that the field can be indexed\n",
    "sf = sf[sf.JobTitle.notnull()]\n",
    "\n",
    "# Filling in 'Benefits' if NaN, fill with 0\n",
    "sf['Benefits'].fillna(0, inplace=True)\n",
    "\n",
    "# Replace NaN status with \"Unknown\", since we don't know if its FT or PT work, easier categorization later.\n",
    "# sf['Status'].fillna(\"Unknown\", inplace=True)\n",
    "\n",
    "# Convert all JobTitle to upper-case character so there is no differentiation in data.\n",
    "sf['JobTitle'] = sf.JobTitle.str.upper()\n",
    "\n",
    "# Convert all EmployeeName to upper-case character so there is no differentiation in data. \n",
    "# Note: I noticed in pivots duplicate entries if the letter is not standardized.\n",
    "sf['EmployeeName'] = sf.EmployeeName.str.upper()"
   ]
  },
  {
   "cell_type": "code",
   "execution_count": 132,
   "metadata": {},
   "outputs": [
    {
     "data": {
      "text/plain": [
       "Id                   0\n",
       "EmployeeName         2\n",
       "JobTitle             0\n",
       "BasePay            605\n",
       "OvertimePay          0\n",
       "OtherPay             0\n",
       "Benefits             0\n",
       "TotalPay             0\n",
       "Year                 0\n",
       "Status          110531\n",
       "dtype: int64"
      ]
     },
     "execution_count": 132,
     "metadata": {},
     "output_type": "execute_result"
    }
   ],
   "source": [
    "# Much cleaner now\n",
    "sf.isnull().sum()"
   ]
  },
  {
   "cell_type": "markdown",
   "metadata": {},
   "source": [
    "NOTE: From reading on the website (where I pulled the dataset) I already saw that there records with zero BasePay, but instead amounts appear in OtherPay and TotalPay, thus 605 null BasePay records does not suprise me."
   ]
  },
  {
   "cell_type": "code",
   "execution_count": 133,
   "metadata": {},
   "outputs": [
    {
     "data": {
      "text/plain": [
       "Id                int64\n",
       "EmployeeName     object\n",
       "JobTitle         object\n",
       "BasePay          object\n",
       "OvertimePay      object\n",
       "OtherPay         object\n",
       "Benefits         object\n",
       "TotalPay        float64\n",
       "Year              int64\n",
       "Status           object\n",
       "dtype: object"
      ]
     },
     "execution_count": 133,
     "metadata": {},
     "output_type": "execute_result"
    }
   ],
   "source": [
    "sf.dtypes"
   ]
  },
  {
   "cell_type": "markdown",
   "metadata": {},
   "source": [
    "Now we need to convert BasePay, OvertimePay, OtherPay, Benefits to a numeric field."
   ]
  },
  {
   "cell_type": "code",
   "execution_count": 134,
   "metadata": {
    "collapsed": true
   },
   "outputs": [],
   "source": [
    "sf.BasePay = sf.BasePay.str.lstrip('$')\n",
    "sf.OtherPay = sf.OtherPay.str.lstrip('$')\n",
    "sf.OvertimePay = sf.OvertimePay.str.lstrip('$')\n",
    "# sf.TotalPay = sf.TotalPay.str.lstrip('$')\n",
    "sf.Benefits = sf.Benefits.str.lstrip('$')"
   ]
  },
  {
   "cell_type": "code",
   "execution_count": 135,
   "metadata": {
    "collapsed": true
   },
   "outputs": [],
   "source": [
    "sf.BasePay = sf.BasePay.str.replace(',','')\n",
    "sf.OtherPay = sf.OtherPay.str.replace(',','')\n",
    "sf.OvertimePay = sf.OvertimePay.str.replace(',','')\n",
    "# sf.TotalPay = sf.TotalPay.str.replace(',','')\n",
    "sf.Benefits = sf.Benefits.str.replace(',','')"
   ]
  },
  {
   "cell_type": "code",
   "execution_count": 136,
   "metadata": {
    "collapsed": true
   },
   "outputs": [],
   "source": [
    "sf.BasePay = pd.to_numeric(sf.BasePay)\n",
    "sf.OvertimePay = pd.to_numeric(sf['OvertimePay'])\n",
    "sf.OtherPay = pd.to_numeric(sf['OtherPay'])\n",
    "sf.Benefits = pd.to_numeric(sf['Benefits'])\n",
    "sf.TotalPay = pd.to_numeric(sf['TotalPay'])"
   ]
  },
  {
   "cell_type": "code",
   "execution_count": 137,
   "metadata": {
    "collapsed": true
   },
   "outputs": [],
   "source": [
    "# sf['BasePay'] = pd.to_numeric(sf['BasePay'])\n",
    "# sf['OvertimePay'] = pd.to_numeric(sf['OvertimePay'])\n",
    "# sf['OtherPay'] = pd.to_numeric(sf['OtherPay'])\n",
    "# sf['Benefits'] = pd.to_numeric(sf['Benefits'])\n",
    "# sf['TotalPay'] = pd.to_numeric(sf['TotalPay'])"
   ]
  },
  {
   "cell_type": "code",
   "execution_count": 138,
   "metadata": {},
   "outputs": [
    {
     "data": {
      "text/plain": [
       "Id                int64\n",
       "EmployeeName     object\n",
       "JobTitle         object\n",
       "BasePay         float64\n",
       "OvertimePay     float64\n",
       "OtherPay        float64\n",
       "Benefits        float64\n",
       "TotalPay        float64\n",
       "Year              int64\n",
       "Status           object\n",
       "dtype: object"
      ]
     },
     "execution_count": 138,
     "metadata": {},
     "output_type": "execute_result"
    }
   ],
   "source": [
    "sf.dtypes"
   ]
  },
  {
   "cell_type": "markdown",
   "metadata": {},
   "source": [
    "Above we can see that the we properly converted the fields to numeric. Now we can do calculations on numeric fields."
   ]
  },
  {
   "cell_type": "code",
   "execution_count": 139,
   "metadata": {},
   "outputs": [
    {
     "data": {
      "text/html": [
       "<div>\n",
       "<style>\n",
       "    .dataframe thead tr:only-child th {\n",
       "        text-align: right;\n",
       "    }\n",
       "\n",
       "    .dataframe thead th {\n",
       "        text-align: left;\n",
       "    }\n",
       "\n",
       "    .dataframe tbody tr th {\n",
       "        vertical-align: top;\n",
       "    }\n",
       "</style>\n",
       "<table border=\"1\" class=\"dataframe\">\n",
       "  <thead>\n",
       "    <tr style=\"text-align: right;\">\n",
       "      <th></th>\n",
       "      <th>Id</th>\n",
       "      <th>BasePay</th>\n",
       "      <th>OvertimePay</th>\n",
       "      <th>OtherPay</th>\n",
       "      <th>Benefits</th>\n",
       "      <th>TotalPay</th>\n",
       "      <th>Year</th>\n",
       "    </tr>\n",
       "  </thead>\n",
       "  <tbody>\n",
       "    <tr>\n",
       "      <th>count</th>\n",
       "      <td>148650.000000</td>\n",
       "      <td>148045.000000</td>\n",
       "      <td>148650.000000</td>\n",
       "      <td>148650.000000</td>\n",
       "      <td>112491.000000</td>\n",
       "      <td>148650.000000</td>\n",
       "      <td>148650.000000</td>\n",
       "    </tr>\n",
       "    <tr>\n",
       "      <th>mean</th>\n",
       "      <td>74325.500047</td>\n",
       "      <td>66325.448841</td>\n",
       "      <td>5066.059886</td>\n",
       "      <td>3648.767297</td>\n",
       "      <td>25007.893151</td>\n",
       "      <td>74770.333901</td>\n",
       "      <td>2012.522603</td>\n",
       "    </tr>\n",
       "    <tr>\n",
       "      <th>std</th>\n",
       "      <td>42911.703176</td>\n",
       "      <td>42764.635495</td>\n",
       "      <td>11454.380559</td>\n",
       "      <td>8056.601866</td>\n",
       "      <td>15402.215858</td>\n",
       "      <td>50516.196009</td>\n",
       "      <td>1.117526</td>\n",
       "    </tr>\n",
       "    <tr>\n",
       "      <th>min</th>\n",
       "      <td>1.000000</td>\n",
       "      <td>-166.010000</td>\n",
       "      <td>-0.010000</td>\n",
       "      <td>-7058.590000</td>\n",
       "      <td>-33.890000</td>\n",
       "      <td>-618.130000</td>\n",
       "      <td>2011.000000</td>\n",
       "    </tr>\n",
       "    <tr>\n",
       "      <th>25%</th>\n",
       "      <td>37163.250000</td>\n",
       "      <td>33588.200000</td>\n",
       "      <td>0.000000</td>\n",
       "      <td>0.000000</td>\n",
       "      <td>11535.395000</td>\n",
       "      <td>36169.955000</td>\n",
       "      <td>2012.000000</td>\n",
       "    </tr>\n",
       "    <tr>\n",
       "      <th>50%</th>\n",
       "      <td>74325.500000</td>\n",
       "      <td>65007.450000</td>\n",
       "      <td>0.000000</td>\n",
       "      <td>811.270000</td>\n",
       "      <td>28628.620000</td>\n",
       "      <td>71427.240000</td>\n",
       "      <td>2013.000000</td>\n",
       "    </tr>\n",
       "    <tr>\n",
       "      <th>75%</th>\n",
       "      <td>111487.750000</td>\n",
       "      <td>94691.050000</td>\n",
       "      <td>4658.175000</td>\n",
       "      <td>4236.065000</td>\n",
       "      <td>35566.855000</td>\n",
       "      <td>105842.960000</td>\n",
       "      <td>2014.000000</td>\n",
       "    </tr>\n",
       "    <tr>\n",
       "      <th>max</th>\n",
       "      <td>148654.000000</td>\n",
       "      <td>319275.010000</td>\n",
       "      <td>245131.880000</td>\n",
       "      <td>400184.250000</td>\n",
       "      <td>96570.660000</td>\n",
       "      <td>567595.430000</td>\n",
       "      <td>2014.000000</td>\n",
       "    </tr>\n",
       "  </tbody>\n",
       "</table>\n",
       "</div>"
      ],
      "text/plain": [
       "                  Id        BasePay    OvertimePay       OtherPay  \\\n",
       "count  148650.000000  148045.000000  148650.000000  148650.000000   \n",
       "mean    74325.500047   66325.448841    5066.059886    3648.767297   \n",
       "std     42911.703176   42764.635495   11454.380559    8056.601866   \n",
       "min         1.000000    -166.010000      -0.010000   -7058.590000   \n",
       "25%     37163.250000   33588.200000       0.000000       0.000000   \n",
       "50%     74325.500000   65007.450000       0.000000     811.270000   \n",
       "75%    111487.750000   94691.050000    4658.175000    4236.065000   \n",
       "max    148654.000000  319275.010000  245131.880000  400184.250000   \n",
       "\n",
       "            Benefits       TotalPay           Year  \n",
       "count  112491.000000  148650.000000  148650.000000  \n",
       "mean    25007.893151   74770.333901    2012.522603  \n",
       "std     15402.215858   50516.196009       1.117526  \n",
       "min       -33.890000    -618.130000    2011.000000  \n",
       "25%     11535.395000   36169.955000    2012.000000  \n",
       "50%     28628.620000   71427.240000    2013.000000  \n",
       "75%     35566.855000  105842.960000    2014.000000  \n",
       "max     96570.660000  567595.430000    2014.000000  "
      ]
     },
     "execution_count": 139,
     "metadata": {},
     "output_type": "execute_result"
    }
   ],
   "source": [
    "sf.describe()"
   ]
  },
  {
   "cell_type": "code",
   "execution_count": 141,
   "metadata": {
    "collapsed": true
   },
   "outputs": [],
   "source": [
    "# sf = sf[sf.BasePay > 0]\n",
    "# sf = sf[sf.OvertimePay > 0]\n",
    "# sf = sf[sf.OtherPay > 0]\n",
    "# sf = sf[sf.TotalPay > 0]"
   ]
  },
  {
   "cell_type": "markdown",
   "metadata": {},
   "source": [
    "We see that there is some cleaning to do:\n",
    "1. Remove negative salaries\n",
    "2. There is some data with null values based on count values"
   ]
  },
  {
   "cell_type": "markdown",
   "metadata": {},
   "source": [
    "## Years Available in the Dataset"
   ]
  },
  {
   "cell_type": "code",
   "execution_count": 142,
   "metadata": {},
   "outputs": [
    {
     "name": "stdout",
     "output_type": "stream",
     "text": [
      "Min: 2011\n",
      "Max: 2014\n"
     ]
    }
   ],
   "source": [
    "# Min and max in the dataset\n",
    "print('Min:', sf.Year.min())\n",
    "print('Max:', sf.Year.max())"
   ]
  },
  {
   "cell_type": "markdown",
   "metadata": {},
   "source": [
    "## Employees per Year"
   ]
  },
  {
   "cell_type": "code",
   "execution_count": 143,
   "metadata": {},
   "outputs": [
    {
     "name": "stdout",
     "output_type": "stream",
     "text": [
      "2011 15730\n",
      "2012 15983\n",
      "2013 16018\n",
      "2014 16580\n"
     ]
    }
   ],
   "source": [
    "# Count records per year with a loop\n",
    "for y in range(min(sf.Year), max(sf.Year)+1):\n",
    "    print(y, (sf.Year == y).sum())"
   ]
  },
  {
   "cell_type": "code",
   "execution_count": 144,
   "metadata": {},
   "outputs": [
    {
     "data": {
      "text/html": [
       "<div>\n",
       "<style>\n",
       "    .dataframe thead tr:only-child th {\n",
       "        text-align: right;\n",
       "    }\n",
       "\n",
       "    .dataframe thead th {\n",
       "        text-align: left;\n",
       "    }\n",
       "\n",
       "    .dataframe tbody tr th {\n",
       "        vertical-align: top;\n",
       "    }\n",
       "</style>\n",
       "<table border=\"1\" class=\"dataframe\">\n",
       "  <thead>\n",
       "    <tr style=\"text-align: right;\">\n",
       "      <th></th>\n",
       "      <th>Id</th>\n",
       "      <th>EmployeeName</th>\n",
       "      <th>JobTitle</th>\n",
       "      <th>BasePay</th>\n",
       "      <th>OvertimePay</th>\n",
       "      <th>OtherPay</th>\n",
       "      <th>Benefits</th>\n",
       "      <th>TotalPay</th>\n",
       "      <th>Year</th>\n",
       "      <th>Status</th>\n",
       "    </tr>\n",
       "  </thead>\n",
       "  <tbody>\n",
       "    <tr>\n",
       "      <th>1</th>\n",
       "      <td>2</td>\n",
       "      <td>GARY JIMENEZ</td>\n",
       "      <td>CAPTAIN III (POLICE DEPARTMENT)</td>\n",
       "      <td>155966.02</td>\n",
       "      <td>245131.88</td>\n",
       "      <td>137811.38</td>\n",
       "      <td>NaN</td>\n",
       "      <td>538909.28</td>\n",
       "      <td>2011</td>\n",
       "      <td>NaN</td>\n",
       "    </tr>\n",
       "    <tr>\n",
       "      <th>2</th>\n",
       "      <td>3</td>\n",
       "      <td>ALBERT PARDINI</td>\n",
       "      <td>CAPTAIN III (POLICE DEPARTMENT)</td>\n",
       "      <td>212739.13</td>\n",
       "      <td>106088.18</td>\n",
       "      <td>16452.60</td>\n",
       "      <td>NaN</td>\n",
       "      <td>335279.91</td>\n",
       "      <td>2011</td>\n",
       "      <td>NaN</td>\n",
       "    </tr>\n",
       "    <tr>\n",
       "      <th>3</th>\n",
       "      <td>4</td>\n",
       "      <td>CHRISTOPHER CHONG</td>\n",
       "      <td>WIRE ROPE CABLE MAINTENANCE MECHANIC</td>\n",
       "      <td>77916.00</td>\n",
       "      <td>56120.71</td>\n",
       "      <td>198306.90</td>\n",
       "      <td>NaN</td>\n",
       "      <td>332343.61</td>\n",
       "      <td>2011</td>\n",
       "      <td>NaN</td>\n",
       "    </tr>\n",
       "    <tr>\n",
       "      <th>4</th>\n",
       "      <td>5</td>\n",
       "      <td>PATRICK GARDNER</td>\n",
       "      <td>DEPUTY CHIEF OF DEPARTMENT,(FIRE DEPARTMENT)</td>\n",
       "      <td>134401.60</td>\n",
       "      <td>9737.00</td>\n",
       "      <td>182234.59</td>\n",
       "      <td>NaN</td>\n",
       "      <td>326373.19</td>\n",
       "      <td>2011</td>\n",
       "      <td>NaN</td>\n",
       "    </tr>\n",
       "    <tr>\n",
       "      <th>5</th>\n",
       "      <td>6</td>\n",
       "      <td>DAVID SULLIVAN</td>\n",
       "      <td>ASSISTANT DEPUTY CHIEF II</td>\n",
       "      <td>118602.00</td>\n",
       "      <td>8601.00</td>\n",
       "      <td>189082.74</td>\n",
       "      <td>NaN</td>\n",
       "      <td>316285.74</td>\n",
       "      <td>2011</td>\n",
       "      <td>NaN</td>\n",
       "    </tr>\n",
       "  </tbody>\n",
       "</table>\n",
       "</div>"
      ],
      "text/plain": [
       "   Id       EmployeeName                                      JobTitle  \\\n",
       "1   2       GARY JIMENEZ               CAPTAIN III (POLICE DEPARTMENT)   \n",
       "2   3     ALBERT PARDINI               CAPTAIN III (POLICE DEPARTMENT)   \n",
       "3   4  CHRISTOPHER CHONG          WIRE ROPE CABLE MAINTENANCE MECHANIC   \n",
       "4   5    PATRICK GARDNER  DEPUTY CHIEF OF DEPARTMENT,(FIRE DEPARTMENT)   \n",
       "5   6     DAVID SULLIVAN                     ASSISTANT DEPUTY CHIEF II   \n",
       "\n",
       "     BasePay  OvertimePay   OtherPay  Benefits   TotalPay  Year Status  \n",
       "1  155966.02    245131.88  137811.38       NaN  538909.28  2011    NaN  \n",
       "2  212739.13    106088.18   16452.60       NaN  335279.91  2011    NaN  \n",
       "3   77916.00     56120.71  198306.90       NaN  332343.61  2011    NaN  \n",
       "4  134401.60      9737.00  182234.59       NaN  326373.19  2011    NaN  \n",
       "5  118602.00      8601.00  189082.74       NaN  316285.74  2011    NaN  "
      ]
     },
     "execution_count": 144,
     "metadata": {},
     "output_type": "execute_result"
    }
   ],
   "source": [
    "sf.head()"
   ]
  },
  {
   "cell_type": "code",
   "execution_count": 145,
   "metadata": {},
   "outputs": [
    {
     "data": {
      "image/png": "[encoded data removed]",
      "text/plain": [
       "<matplotlib.figure.Figure at 0x1e8651aa3c8>"
      ]
     },
     "metadata": {},
     "output_type": "display_data"
    },
    {
     "data": {
      "text/plain": [
       "<ggplot: (131102518013)>"
      ]
     },
     "execution_count": 145,
     "metadata": {},
     "output_type": "execute_result"
    }
   ],
   "source": [
    "ggplot(aes(x='Year', y='TotalPay'), data=sf) +\\\n",
    "    geom_bar(fill='lightblue') +\\\n",
    "    ggtitle(\"Total Paid by Year\")"
   ]
  },
  {
   "cell_type": "markdown",
   "metadata": {},
   "source": [
    "The salaries seems to have risen only slightly throughout the four years."
   ]
  },
  {
   "cell_type": "code",
   "execution_count": 201,
   "metadata": {},
   "outputs": [
    {
     "ename": "TypeError",
     "evalue": "'numpy.ndarray' object is not callable",
     "output_type": "error",
     "traceback": [
      "\u001b[1;31m---------------------------------------------------------------------------\u001b[0m",
      "\u001b[1;31mTypeError\u001b[0m                                 Traceback (most recent call last)",
      "\u001b[1;32m<ipython-input-201-1e621b7b8b55>\u001b[0m in \u001b[0;36m<module>\u001b[1;34m()\u001b[0m\n\u001b[0;32m     10\u001b[0m \u001b[1;31m#sf_yr = sns.barplot(data = sf_yr, x = 'Year', y = 'TotalPay')\u001b[0m\u001b[1;33m\u001b[0m\u001b[1;33m\u001b[0m\u001b[0m\n\u001b[0;32m     11\u001b[0m \u001b[1;33m\u001b[0m\u001b[0m\n\u001b[1;32m---> 12\u001b[1;33m \u001b[0mggplot\u001b[0m\u001b[1;33m(\u001b[0m\u001b[0maes\u001b[0m\u001b[1;33m(\u001b[0m\u001b[1;33m)\u001b[0m\u001b[1;33m,\u001b[0m \u001b[0mdata\u001b[0m\u001b[1;33m=\u001b[0m\u001b[0msf_yr\u001b[0m\u001b[1;33m)\u001b[0m \u001b[1;33m+\u001b[0m    \u001b[0mgeom_boxplot\u001b[0m\u001b[1;33m(\u001b[0m\u001b[1;33m)\u001b[0m\u001b[1;33m\u001b[0m\u001b[0m\n\u001b[0m",
      "\u001b[1;32mC:\\ProgramData\\Anaconda3\\lib\\site-packages\\ggplot\\ggplot.py\u001b[0m in \u001b[0;36m__init__\u001b[1;34m(self, aesthetics, data)\u001b[0m\n\u001b[0;32m     53\u001b[0m         \u001b[0mself\u001b[0m\u001b[1;33m.\u001b[0m\u001b[0m_aes\u001b[0m \u001b[1;33m=\u001b[0m \u001b[0maesthetics\u001b[0m\u001b[1;33m\u001b[0m\u001b[0m\n\u001b[0;32m     54\u001b[0m         \u001b[0mself\u001b[0m\u001b[1;33m.\u001b[0m\u001b[0mdata\u001b[0m \u001b[1;33m=\u001b[0m \u001b[0mdata\u001b[0m\u001b[1;33m.\u001b[0m\u001b[0mcopy\u001b[0m\u001b[1;33m(\u001b[0m\u001b[1;33m)\u001b[0m\u001b[1;33m\u001b[0m\u001b[0m\n\u001b[1;32m---> 55\u001b[1;33m         \u001b[0mself\u001b[0m\u001b[1;33m.\u001b[0m\u001b[0m_handle_index\u001b[0m\u001b[1;33m(\u001b[0m\u001b[1;33m)\u001b[0m\u001b[1;33m\u001b[0m\u001b[0m\n\u001b[0m\u001b[0;32m     56\u001b[0m         \u001b[0mself\u001b[0m\u001b[1;33m.\u001b[0m\u001b[0mdata\u001b[0m \u001b[1;33m=\u001b[0m \u001b[0mself\u001b[0m\u001b[1;33m.\u001b[0m\u001b[0m_aes\u001b[0m\u001b[1;33m.\u001b[0m\u001b[0m_evaluate_expressions\u001b[0m\u001b[1;33m(\u001b[0m\u001b[0mself\u001b[0m\u001b[1;33m.\u001b[0m\u001b[0mdata\u001b[0m\u001b[1;33m)\u001b[0m\u001b[1;33m\u001b[0m\u001b[0m\n\u001b[0;32m     57\u001b[0m         \u001b[0mself\u001b[0m\u001b[1;33m.\u001b[0m\u001b[0mdata\u001b[0m \u001b[1;33m=\u001b[0m \u001b[0mself\u001b[0m\u001b[1;33m.\u001b[0m\u001b[0m_aes\u001b[0m\u001b[1;33m.\u001b[0m\u001b[0mhandle_identity_values\u001b[0m\u001b[1;33m(\u001b[0m\u001b[0mself\u001b[0m\u001b[1;33m.\u001b[0m\u001b[0mdata\u001b[0m\u001b[1;33m)\u001b[0m\u001b[1;33m\u001b[0m\u001b[0m\n",
      "\u001b[1;32mC:\\ProgramData\\Anaconda3\\lib\\site-packages\\ggplot\\ggplot.py\u001b[0m in \u001b[0;36m_handle_index\u001b[1;34m(self)\u001b[0m\n\u001b[0;32m    132\u001b[0m \u001b[1;33m\u001b[0m\u001b[0m\n\u001b[0;32m    133\u001b[0m     \u001b[1;32mdef\u001b[0m \u001b[0m_handle_index\u001b[0m\u001b[1;33m(\u001b[0m\u001b[0mself\u001b[0m\u001b[1;33m)\u001b[0m\u001b[1;33m:\u001b[0m\u001b[1;33m\u001b[0m\u001b[0m\n\u001b[1;32m--> 134\u001b[1;33m         \u001b[1;32mif\u001b[0m \u001b[1;34m'__index__'\u001b[0m \u001b[1;32min\u001b[0m \u001b[0mself\u001b[0m\u001b[1;33m.\u001b[0m\u001b[0m_aes\u001b[0m\u001b[1;33m.\u001b[0m\u001b[0mvalues\u001b[0m\u001b[1;33m(\u001b[0m\u001b[1;33m)\u001b[0m\u001b[1;33m:\u001b[0m\u001b[1;33m\u001b[0m\u001b[0m\n\u001b[0m\u001b[0;32m    135\u001b[0m             \u001b[0mself\u001b[0m\u001b[1;33m.\u001b[0m\u001b[0mdata\u001b[0m\u001b[1;33m[\u001b[0m\u001b[1;34m'__index__'\u001b[0m\u001b[1;33m]\u001b[0m \u001b[1;33m=\u001b[0m \u001b[0mself\u001b[0m\u001b[1;33m.\u001b[0m\u001b[0mdata\u001b[0m\u001b[1;33m.\u001b[0m\u001b[0mindex\u001b[0m\u001b[1;33m\u001b[0m\u001b[0m\n\u001b[0;32m    136\u001b[0m \u001b[1;33m\u001b[0m\u001b[0m\n",
      "\u001b[1;31mTypeError\u001b[0m: 'numpy.ndarray' object is not callable"
     ]
    }
   ],
   "source": [
    "# Average Paid by year\n",
    "sf_yr = sf\n",
    "sf_yr = sf_yr[['Year', \"TotalPay\"]].groupby('Year').median()\n",
    "#sf_yr = sf_yr[['Year', \"TotalPay\"]].groupby('Year').mean()\n",
    "sf_yr = sf_yr.unstack().head()\n",
    "#viz1 = sns.boxplot(x = \"Year\", y=\"TotalPay\", data = sf)\n",
    "#viz1 = sns.plt.title('Average Total Paid by Year')\n",
    "#viz1\n",
    "#sf_yr.plot(kind='bar')\n",
    "#sf_yr = sns.barplot(data = sf_yr, x = 'Year', y = 'TotalPay')\n",
    "\n",
    "ggplot(aes(), data=sf_yr) +\\\n",
    "    geom_boxplot()"
   ]
  },
  {
   "cell_type": "markdown",
   "metadata": {},
   "source": [
    "Salaries have not changed much over the years."
   ]
  },
  {
   "cell_type": "code",
   "execution_count": 35,
   "metadata": {},
   "outputs": [
    {
     "data": {
      "text/plain": [
       "<matplotlib.axes._subplots.AxesSubplot at 0x1e863c31a58>"
      ]
     },
     "execution_count": 35,
     "metadata": {},
     "output_type": "execute_result"
    },
    {
     "data": {
      "image/png": "[encoded data removed]",
      "text/plain": [
       "<matplotlib.figure.Figure at 0x1e864fcd278>"
      ]
     },
     "metadata": {},
     "output_type": "display_data"
    }
   ],
   "source": [
    "viz2 = sf['JobTitle'].value_counts().head(10)\n",
    "viz2.plot(title = \"Top 10 Jobs by # of People Employed\", kind = 'bar')"
   ]
  },
  {
   "cell_type": "code",
   "execution_count": 56,
   "metadata": {},
   "outputs": [
    {
     "ename": "AttributeError",
     "evalue": "'list' object has no attribute 'plot'",
     "output_type": "error",
     "traceback": [
      "\u001b[1;31m---------------------------------------------------------------------------\u001b[0m",
      "\u001b[1;31mAttributeError\u001b[0m                            Traceback (most recent call last)",
      "\u001b[1;32m<ipython-input-56-726acc64f565>\u001b[0m in \u001b[0;36m<module>\u001b[1;34m()\u001b[0m\n\u001b[0;32m      3\u001b[0m \u001b[0mviz3\u001b[0m \u001b[1;33m=\u001b[0m \u001b[0msns\u001b[0m\u001b[1;33m.\u001b[0m\u001b[0mbarplot\u001b[0m\u001b[1;33m(\u001b[0m\u001b[0mdata\u001b[0m \u001b[1;33m=\u001b[0m \u001b[0mviz3\u001b[0m\u001b[1;33m,\u001b[0m \u001b[0mx\u001b[0m \u001b[1;33m=\u001b[0m \u001b[1;34m'JobTitle'\u001b[0m\u001b[1;33m,\u001b[0m \u001b[0my\u001b[0m \u001b[1;33m=\u001b[0m \u001b[1;34m'TotalPay'\u001b[0m\u001b[1;33m,\u001b[0m \u001b[0mpalette\u001b[0m\u001b[1;33m=\u001b[0m\u001b[1;34m\"Blues_d\"\u001b[0m\u001b[1;33m)\u001b[0m\u001b[1;33m\u001b[0m\u001b[0m\n\u001b[0;32m      4\u001b[0m \u001b[0mviz3\u001b[0m \u001b[1;33m=\u001b[0m \u001b[0mviz3\u001b[0m\u001b[1;33m.\u001b[0m\u001b[0mset_xticklabels\u001b[0m\u001b[1;33m(\u001b[0m\u001b[0mlabels\u001b[0m\u001b[1;33m=\u001b[0m\u001b[0msf\u001b[0m\u001b[1;33m[\u001b[0m\u001b[1;34m'JobTitle'\u001b[0m\u001b[1;33m]\u001b[0m\u001b[1;33m,\u001b[0m \u001b[0mrotation\u001b[0m\u001b[1;33m=\u001b[0m\u001b[1;36m30\u001b[0m\u001b[1;33m)\u001b[0m\u001b[1;33m\u001b[0m\u001b[0m\n\u001b[1;32m----> 5\u001b[1;33m \u001b[0mviz3\u001b[0m\u001b[1;33m.\u001b[0m\u001b[0mplot\u001b[0m\u001b[1;33m(\u001b[0m\u001b[0mtitle\u001b[0m \u001b[1;33m=\u001b[0m \u001b[1;34m\"Top 10 Jobs by # of People Employed\"\u001b[0m\u001b[1;33m)\u001b[0m\u001b[1;33m\u001b[0m\u001b[0m\n\u001b[0m",
      "\u001b[1;31mAttributeError\u001b[0m: 'list' object has no attribute 'plot'"
     ]
    },
    {
     "data": {
      "image/png": "[encoded data removed]",
      "text/plain": [
       "<matplotlib.figure.Figure at 0x1e861ac4828>"
      ]
     },
     "metadata": {},
     "output_type": "display_data"
    }
   ],
   "source": [
    "# sf[['Year', \"TotalPay\"]].groupby('Year').mean()\n",
    "viz3 = sf[['JobTitle', 'TotalPay']].head()\n",
    "viz3 = sns.barplot(data = viz3, x = 'JobTitle', y = 'TotalPay', palette=\"Blues_d\")\n",
    "viz3 = viz3.set_xticklabels(labels=sf['JobTitle'], rotation=30)\n",
    "viz3.plot(title = \"Top 10 Jobs by # of People Employed\")"
   ]
  },
  {
   "cell_type": "code",
   "execution_count": 91,
   "metadata": {
    "collapsed": true
   },
   "outputs": [],
   "source": [
    "# Create a new column called 'Department'\n",
    "sf['Department'] = ''"
   ]
  },
  {
   "cell_type": "markdown",
   "metadata": {},
   "source": [
    "When looking at the 'JobTitles' it is clear that employees can be grouped easily into certain departments such as below:"
   ]
  },
  {
   "cell_type": "code",
   "execution_count": 92,
   "metadata": {
    "collapsed": true
   },
   "outputs": [],
   "source": [
    "sf.loc[sf.JobTitle.str.contains('POLICE'), 'Department'] = \"POLICE\"\n",
    "sf.loc[sf.JobTitle.str.contains(\"FIRE\"), 'Department'] = \"FIRE\"\n",
    "sf.loc[sf.JobTitle.str.contains(\"MEDICAL\"), 'Department'] = \"MEDICAL\"\n",
    "sf.loc[sf.JobTitle.str.contains(\"NURSE\"), 'Department'] = \"MEDICAL\"\n",
    "sf.loc[sf.JobTitle.str.contains(\"TRANSIT\"), 'Department'] = \"TRANSIT\"\n",
    "sf.loc[sf.JobTitle.str.contains(\"AIRPORT\"), 'Department'] = \"AIRPORT\"\n",
    "sf.loc[sf.JobTitle.str.contains(\"WATER\"), 'Department'] = \"WATER\"\n",
    "sf.loc[sf.Department == '', 'Department'] = 'OTHER'"
   ]
  },
  {
   "cell_type": "code",
   "execution_count": 143,
   "metadata": {},
   "outputs": [
    {
     "data": {
      "text/html": [
       "<div>\n",
       "<style>\n",
       "    .dataframe thead tr:only-child th {\n",
       "        text-align: right;\n",
       "    }\n",
       "\n",
       "    .dataframe thead th {\n",
       "        text-align: left;\n",
       "    }\n",
       "\n",
       "    .dataframe tbody tr th {\n",
       "        vertical-align: top;\n",
       "    }\n",
       "</style>\n",
       "<table border=\"1\" class=\"dataframe\">\n",
       "  <thead>\n",
       "    <tr>\n",
       "      <th></th>\n",
       "      <th>sum</th>\n",
       "      <th>mean</th>\n",
       "      <th>len</th>\n",
       "    </tr>\n",
       "    <tr>\n",
       "      <th></th>\n",
       "      <th>TotalPay</th>\n",
       "      <th>TotalPay</th>\n",
       "      <th>TotalPay</th>\n",
       "    </tr>\n",
       "    <tr>\n",
       "      <th>Department</th>\n",
       "      <th></th>\n",
       "      <th></th>\n",
       "      <th></th>\n",
       "    </tr>\n",
       "  </thead>\n",
       "  <tbody>\n",
       "    <tr>\n",
       "      <th>AIRPORT</th>\n",
       "      <td>$49.75 MM</td>\n",
       "      <td>$86,214.97</td>\n",
       "      <td>577</td>\n",
       "    </tr>\n",
       "    <tr>\n",
       "      <th>FIRE</th>\n",
       "      <td>$845.95 MM</td>\n",
       "      <td>$158,270.02</td>\n",
       "      <td>5345</td>\n",
       "    </tr>\n",
       "    <tr>\n",
       "      <th>MEDICAL</th>\n",
       "      <td>$681.67 MM</td>\n",
       "      <td>$98,407.36</td>\n",
       "      <td>6927</td>\n",
       "    </tr>\n",
       "    <tr>\n",
       "      <th>OTHER</th>\n",
       "      <td>$2,725.98 MM</td>\n",
       "      <td>$82,763.34</td>\n",
       "      <td>32937</td>\n",
       "    </tr>\n",
       "    <tr>\n",
       "      <th>POLICE</th>\n",
       "      <td>$931.94 MM</td>\n",
       "      <td>$130,341.83</td>\n",
       "      <td>7150</td>\n",
       "    </tr>\n",
       "    <tr>\n",
       "      <th>TRANSIT</th>\n",
       "      <td>$829.02 MM</td>\n",
       "      <td>$75,427.52</td>\n",
       "      <td>10991</td>\n",
       "    </tr>\n",
       "    <tr>\n",
       "      <th>WATER</th>\n",
       "      <td>$34.62 MM</td>\n",
       "      <td>$90,166.50</td>\n",
       "      <td>384</td>\n",
       "    </tr>\n",
       "  </tbody>\n",
       "</table>\n",
       "</div>"
      ],
      "text/plain": [
       "                     sum         mean      len\n",
       "                TotalPay     TotalPay TotalPay\n",
       "Department                                    \n",
       "AIRPORT        $49.75 MM   $86,214.97      577\n",
       "FIRE          $845.95 MM  $158,270.02     5345\n",
       "MEDICAL       $681.67 MM   $98,407.36     6927\n",
       "OTHER       $2,725.98 MM   $82,763.34    32937\n",
       "POLICE        $931.94 MM  $130,341.83     7150\n",
       "TRANSIT       $829.02 MM   $75,427.52    10991\n",
       "WATER          $34.62 MM   $90,166.50      384"
      ]
     },
     "execution_count": 143,
     "metadata": {},
     "output_type": "execute_result"
    }
   ],
   "source": [
    "# Applying $ (currency) for formatting and attractive presentation\n",
    "\n",
    "ByDepartment = pd.pivot_table(sf, index=['Department'], values=[\"TotalPay\"], aggfunc=[np.sum, np.mean, len], fill_value=0)\n",
    "ByDepartment.iloc[:,0] = ['${:,.2f} MM'.format(x) for x in ByDepartment.iloc[:,0]/1000000]\n",
    "ByDepartment.iloc[:,1] = ['${:,.2f}'.format(x) for x in ByDepartment.iloc[:,1]]\n",
    "ByDepartment"
   ]
  },
  {
   "cell_type": "markdown",
   "metadata": {},
   "source": [
    "In the above table we can see the total, mean and count of Total Paid per Department"
   ]
  },
  {
   "cell_type": "markdown",
   "metadata": {},
   "source": [
    "# Average Salary by Department"
   ]
  },
  {
   "cell_type": "code",
   "execution_count": 94,
   "metadata": {},
   "outputs": [
    {
     "data": {
      "text/plain": [
       "<matplotlib.axes._subplots.AxesSubplot at 0x222cb8c8518>"
      ]
     },
     "execution_count": 94,
     "metadata": {},
     "output_type": "execute_result"
    },
    {
     "data": {
      "image/png": "[encoded data removed]",
      "text/plain": [
       "<matplotlib.figure.Figure at 0x222ceb0f978>"
      ]
     },
     "metadata": {},
     "output_type": "display_data"
    }
   ],
   "source": [
    "sns.barplot(x = \"Department\", y = \"TotalPay\", data = sf)"
   ]
  },
  {
   "cell_type": "markdown",
   "metadata": {},
   "source": [
    "# Distribution of Salary by Department"
   ]
  },
  {
   "cell_type": "code",
   "execution_count": 95,
   "metadata": {},
   "outputs": [
    {
     "data": {
      "image/png": "[encoded data removed]",
      "text/plain": [
       "<matplotlib.figure.Figure at 0x222cb91eda0>"
      ]
     },
     "metadata": {},
     "output_type": "display_data"
    }
   ],
   "source": [
    "plot_jg = sns.FacetGrid(sf, col=\"Department\", col_wrap=3, size=5.5, dropna=True)\n",
    "plot_jg = plot_jg.map(sns.kdeplot, 'TotalPay', shade=True)"
   ]
  },
  {
   "cell_type": "markdown",
   "metadata": {},
   "source": [
    "# Salaries by Year"
   ]
  },
  {
   "cell_type": "code",
   "execution_count": 96,
   "metadata": {},
   "outputs": [
    {
     "data": {
      "text/plain": [
       "<matplotlib.axes._subplots.AxesSubplot at 0x222c318b668>"
      ]
     },
     "execution_count": 96,
     "metadata": {},
     "output_type": "execute_result"
    },
    {
     "data": {
      "image/png": "[encoded data removed]",
      "text/plain": [
       "<matplotlib.figure.Figure at 0x222c33a7eb8>"
      ]
     },
     "metadata": {},
     "output_type": "display_data"
    }
   ],
   "source": [
    "sns.boxplot(x=\"Year\", y=\"TotalPay\", data=sf)"
   ]
  },
  {
   "cell_type": "markdown",
   "metadata": {},
   "source": [
    "Above we see that the salaries have not changed between the years."
   ]
  },
  {
   "cell_type": "markdown",
   "metadata": {},
   "source": [
    "# Gender Pay Gap"
   ]
  },
  {
   "cell_type": "code",
   "execution_count": 97,
   "metadata": {
    "collapsed": true
   },
   "outputs": [],
   "source": [
    "# from https://pypi.python.org/pypi/gender-guesser\n",
    "import gender_guesser.detector as gender"
   ]
  },
  {
   "cell_type": "code",
   "execution_count": 98,
   "metadata": {
    "collapsed": true
   },
   "outputs": [],
   "source": [
    "d = gender.Detector(case_sensitive=False)"
   ]
  },
  {
   "cell_type": "code",
   "execution_count": 99,
   "metadata": {
    "collapsed": true
   },
   "outputs": [],
   "source": [
    "sf['FirstName'] = sf.EmployeeName.str.split(' ').str.get(0)\n",
    "sf['FirstName']= sf.FirstName.str.lower()\n",
    "sf.FirstName.fillna(method=\"backfill\", inplace=True)"
   ]
  },
  {
   "cell_type": "code",
   "execution_count": 100,
   "metadata": {
    "collapsed": true
   },
   "outputs": [],
   "source": [
    "gender = []\n",
    "names = []\n",
    "\n",
    "for i in range(0, len(sf.FirstName)):\n",
    "    names.append(sf.FirstName.iloc[i])\n",
    "    gender.append(d.get_gender(sf.FirstName.iloc[i]))"
   ]
  },
  {
   "cell_type": "code",
   "execution_count": 102,
   "metadata": {},
   "outputs": [
    {
     "data": {
      "text/html": [
       "<div>\n",
       "<style>\n",
       "    .dataframe thead tr:only-child th {\n",
       "        text-align: right;\n",
       "    }\n",
       "\n",
       "    .dataframe thead th {\n",
       "        text-align: left;\n",
       "    }\n",
       "\n",
       "    .dataframe tbody tr th {\n",
       "        vertical-align: top;\n",
       "    }\n",
       "</style>\n",
       "<table border=\"1\" class=\"dataframe\">\n",
       "  <thead>\n",
       "    <tr style=\"text-align: right;\">\n",
       "      <th></th>\n",
       "      <th>Id</th>\n",
       "      <th>EmployeeName</th>\n",
       "      <th>JobTitle</th>\n",
       "      <th>BasePay</th>\n",
       "      <th>OvertimePay</th>\n",
       "      <th>OtherPay</th>\n",
       "      <th>Benefits</th>\n",
       "      <th>TotalPay</th>\n",
       "      <th>Year</th>\n",
       "      <th>Status</th>\n",
       "      <th>Department</th>\n",
       "      <th>FirstName</th>\n",
       "      <th>Gender</th>\n",
       "    </tr>\n",
       "  </thead>\n",
       "  <tbody>\n",
       "    <tr>\n",
       "      <th>0</th>\n",
       "      <td>2</td>\n",
       "      <td>GARY JIMENEZ</td>\n",
       "      <td>CAPTAIN III (POLICE DEPARTMENT)</td>\n",
       "      <td>155966.02</td>\n",
       "      <td>245131.88</td>\n",
       "      <td>137811.38</td>\n",
       "      <td>NaN</td>\n",
       "      <td>538909.28</td>\n",
       "      <td>2011</td>\n",
       "      <td>NaN</td>\n",
       "      <td>POLICE</td>\n",
       "      <td>gary</td>\n",
       "      <td>male</td>\n",
       "    </tr>\n",
       "    <tr>\n",
       "      <th>1</th>\n",
       "      <td>3</td>\n",
       "      <td>ALBERT PARDINI</td>\n",
       "      <td>CAPTAIN III (POLICE DEPARTMENT)</td>\n",
       "      <td>212739.13</td>\n",
       "      <td>106088.18</td>\n",
       "      <td>16452.60</td>\n",
       "      <td>NaN</td>\n",
       "      <td>335279.91</td>\n",
       "      <td>2011</td>\n",
       "      <td>NaN</td>\n",
       "      <td>POLICE</td>\n",
       "      <td>albert</td>\n",
       "      <td>male</td>\n",
       "    </tr>\n",
       "    <tr>\n",
       "      <th>2</th>\n",
       "      <td>4</td>\n",
       "      <td>CHRISTOPHER CHONG</td>\n",
       "      <td>WIRE ROPE CABLE MAINTENANCE MECHANIC</td>\n",
       "      <td>77916.00</td>\n",
       "      <td>56120.71</td>\n",
       "      <td>198306.90</td>\n",
       "      <td>NaN</td>\n",
       "      <td>332343.61</td>\n",
       "      <td>2011</td>\n",
       "      <td>NaN</td>\n",
       "      <td>OTHER</td>\n",
       "      <td>christopher</td>\n",
       "      <td>male</td>\n",
       "    </tr>\n",
       "    <tr>\n",
       "      <th>3</th>\n",
       "      <td>5</td>\n",
       "      <td>PATRICK GARDNER</td>\n",
       "      <td>DEPUTY CHIEF OF DEPARTMENT,(FIRE DEPARTMENT)</td>\n",
       "      <td>134401.60</td>\n",
       "      <td>9737.00</td>\n",
       "      <td>182234.59</td>\n",
       "      <td>NaN</td>\n",
       "      <td>326373.19</td>\n",
       "      <td>2011</td>\n",
       "      <td>NaN</td>\n",
       "      <td>FIRE</td>\n",
       "      <td>patrick</td>\n",
       "      <td>male</td>\n",
       "    </tr>\n",
       "    <tr>\n",
       "      <th>4</th>\n",
       "      <td>6</td>\n",
       "      <td>DAVID SULLIVAN</td>\n",
       "      <td>ASSISTANT DEPUTY CHIEF II</td>\n",
       "      <td>118602.00</td>\n",
       "      <td>8601.00</td>\n",
       "      <td>189082.74</td>\n",
       "      <td>NaN</td>\n",
       "      <td>316285.74</td>\n",
       "      <td>2011</td>\n",
       "      <td>NaN</td>\n",
       "      <td>OTHER</td>\n",
       "      <td>david</td>\n",
       "      <td>male</td>\n",
       "    </tr>\n",
       "    <tr>\n",
       "      <th>5</th>\n",
       "      <td>7</td>\n",
       "      <td>ALSON LEE</td>\n",
       "      <td>BATTALION CHIEF, (FIRE DEPARTMENT)</td>\n",
       "      <td>92492.01</td>\n",
       "      <td>89062.90</td>\n",
       "      <td>134426.14</td>\n",
       "      <td>NaN</td>\n",
       "      <td>315981.05</td>\n",
       "      <td>2011</td>\n",
       "      <td>NaN</td>\n",
       "      <td>FIRE</td>\n",
       "      <td>alson</td>\n",
       "      <td>unknown</td>\n",
       "    </tr>\n",
       "    <tr>\n",
       "      <th>6</th>\n",
       "      <td>9</td>\n",
       "      <td>MICHAEL MORRIS</td>\n",
       "      <td>BATTALION CHIEF, (FIRE DEPARTMENT)</td>\n",
       "      <td>176932.64</td>\n",
       "      <td>86362.68</td>\n",
       "      <td>40132.23</td>\n",
       "      <td>NaN</td>\n",
       "      <td>303427.55</td>\n",
       "      <td>2011</td>\n",
       "      <td>NaN</td>\n",
       "      <td>FIRE</td>\n",
       "      <td>michael</td>\n",
       "      <td>male</td>\n",
       "    </tr>\n",
       "    <tr>\n",
       "      <th>7</th>\n",
       "      <td>11</td>\n",
       "      <td>ARTHUR KENNEY</td>\n",
       "      <td>ASSISTANT CHIEF OF DEPARTMENT, (FIRE DEPARTMENT)</td>\n",
       "      <td>194999.39</td>\n",
       "      <td>71344.88</td>\n",
       "      <td>33149.90</td>\n",
       "      <td>NaN</td>\n",
       "      <td>299494.17</td>\n",
       "      <td>2011</td>\n",
       "      <td>NaN</td>\n",
       "      <td>FIRE</td>\n",
       "      <td>arthur</td>\n",
       "      <td>male</td>\n",
       "    </tr>\n",
       "    <tr>\n",
       "      <th>8</th>\n",
       "      <td>12</td>\n",
       "      <td>PATRICIA JACKSON</td>\n",
       "      <td>CAPTAIN III (POLICE DEPARTMENT)</td>\n",
       "      <td>99722.00</td>\n",
       "      <td>87082.62</td>\n",
       "      <td>110804.30</td>\n",
       "      <td>NaN</td>\n",
       "      <td>297608.92</td>\n",
       "      <td>2011</td>\n",
       "      <td>NaN</td>\n",
       "      <td>POLICE</td>\n",
       "      <td>patricia</td>\n",
       "      <td>female</td>\n",
       "    </tr>\n",
       "    <tr>\n",
       "      <th>9</th>\n",
       "      <td>15</td>\n",
       "      <td>DAVID FRANKLIN</td>\n",
       "      <td>BATTALION CHIEF, (FIRE DEPARTMENT)</td>\n",
       "      <td>174872.64</td>\n",
       "      <td>74050.30</td>\n",
       "      <td>37424.11</td>\n",
       "      <td>NaN</td>\n",
       "      <td>286347.05</td>\n",
       "      <td>2011</td>\n",
       "      <td>NaN</td>\n",
       "      <td>FIRE</td>\n",
       "      <td>david</td>\n",
       "      <td>male</td>\n",
       "    </tr>\n",
       "  </tbody>\n",
       "</table>\n",
       "</div>"
      ],
      "text/plain": [
       "   Id       EmployeeName                                          JobTitle  \\\n",
       "0   2       GARY JIMENEZ                   CAPTAIN III (POLICE DEPARTMENT)   \n",
       "1   3     ALBERT PARDINI                   CAPTAIN III (POLICE DEPARTMENT)   \n",
       "2   4  CHRISTOPHER CHONG              WIRE ROPE CABLE MAINTENANCE MECHANIC   \n",
       "3   5    PATRICK GARDNER      DEPUTY CHIEF OF DEPARTMENT,(FIRE DEPARTMENT)   \n",
       "4   6     DAVID SULLIVAN                         ASSISTANT DEPUTY CHIEF II   \n",
       "5   7          ALSON LEE                BATTALION CHIEF, (FIRE DEPARTMENT)   \n",
       "6   9     MICHAEL MORRIS                BATTALION CHIEF, (FIRE DEPARTMENT)   \n",
       "7  11      ARTHUR KENNEY  ASSISTANT CHIEF OF DEPARTMENT, (FIRE DEPARTMENT)   \n",
       "8  12   PATRICIA JACKSON                   CAPTAIN III (POLICE DEPARTMENT)   \n",
       "9  15     DAVID FRANKLIN                BATTALION CHIEF, (FIRE DEPARTMENT)   \n",
       "\n",
       "     BasePay  OvertimePay   OtherPay  Benefits   TotalPay  Year Status  \\\n",
       "0  155966.02    245131.88  137811.38       NaN  538909.28  2011    NaN   \n",
       "1  212739.13    106088.18   16452.60       NaN  335279.91  2011    NaN   \n",
       "2   77916.00     56120.71  198306.90       NaN  332343.61  2011    NaN   \n",
       "3  134401.60      9737.00  182234.59       NaN  326373.19  2011    NaN   \n",
       "4  118602.00      8601.00  189082.74       NaN  316285.74  2011    NaN   \n",
       "5   92492.01     89062.90  134426.14       NaN  315981.05  2011    NaN   \n",
       "6  176932.64     86362.68   40132.23       NaN  303427.55  2011    NaN   \n",
       "7  194999.39     71344.88   33149.90       NaN  299494.17  2011    NaN   \n",
       "8   99722.00     87082.62  110804.30       NaN  297608.92  2011    NaN   \n",
       "9  174872.64     74050.30   37424.11       NaN  286347.05  2011    NaN   \n",
       "\n",
       "  Department    FirstName   Gender  \n",
       "0     POLICE         gary     male  \n",
       "1     POLICE       albert     male  \n",
       "2      OTHER  christopher     male  \n",
       "3       FIRE      patrick     male  \n",
       "4      OTHER        david     male  \n",
       "5       FIRE        alson  unknown  \n",
       "6       FIRE      michael     male  \n",
       "7       FIRE       arthur     male  \n",
       "8     POLICE     patricia   female  \n",
       "9       FIRE        david     male  "
      ]
     },
     "execution_count": 102,
     "metadata": {},
     "output_type": "execute_result"
    }
   ],
   "source": [
    "# Create gender dataset\n",
    "\n",
    "dict_gender = dict(zip(names, gender))\n",
    "df_gender = pd.DataFrame()\n",
    "df_gender['FirstName'] = dict_gender.keys()\n",
    "df_gender['Gender'] = dict_gender.values()\n",
    "sf_gender = pd.merge(sf, df_gender, how='left')\n",
    "sf_gender.head(10)"
   ]
  },
  {
   "cell_type": "code",
   "execution_count": 144,
   "metadata": {},
   "outputs": [
    {
     "data": {
      "text/html": [
       "<div>\n",
       "<style>\n",
       "    .dataframe thead tr:only-child th {\n",
       "        text-align: right;\n",
       "    }\n",
       "\n",
       "    .dataframe thead th {\n",
       "        text-align: left;\n",
       "    }\n",
       "\n",
       "    .dataframe tbody tr th {\n",
       "        vertical-align: top;\n",
       "    }\n",
       "</style>\n",
       "<table border=\"1\" class=\"dataframe\">\n",
       "  <thead>\n",
       "    <tr style=\"text-align: right;\">\n",
       "      <th></th>\n",
       "      <th>Id</th>\n",
       "      <th>EmployeeName</th>\n",
       "      <th>JobTitle</th>\n",
       "      <th>BasePay</th>\n",
       "      <th>OvertimePay</th>\n",
       "      <th>OtherPay</th>\n",
       "      <th>Benefits</th>\n",
       "      <th>TotalPay</th>\n",
       "      <th>Year</th>\n",
       "      <th>Status</th>\n",
       "      <th>Department</th>\n",
       "      <th>FirstName</th>\n",
       "      <th>Gender</th>\n",
       "    </tr>\n",
       "  </thead>\n",
       "  <tbody>\n",
       "    <tr>\n",
       "      <th>0</th>\n",
       "      <td>2</td>\n",
       "      <td>GARY JIMENEZ</td>\n",
       "      <td>CAPTAIN III (POLICE DEPARTMENT)</td>\n",
       "      <td>155966.02</td>\n",
       "      <td>245131.88</td>\n",
       "      <td>137811.38</td>\n",
       "      <td>NaN</td>\n",
       "      <td>538909.28</td>\n",
       "      <td>2011</td>\n",
       "      <td>NaN</td>\n",
       "      <td>POLICE</td>\n",
       "      <td>gary</td>\n",
       "      <td>male</td>\n",
       "    </tr>\n",
       "    <tr>\n",
       "      <th>1</th>\n",
       "      <td>3</td>\n",
       "      <td>ALBERT PARDINI</td>\n",
       "      <td>CAPTAIN III (POLICE DEPARTMENT)</td>\n",
       "      <td>212739.13</td>\n",
       "      <td>106088.18</td>\n",
       "      <td>16452.60</td>\n",
       "      <td>NaN</td>\n",
       "      <td>335279.91</td>\n",
       "      <td>2011</td>\n",
       "      <td>NaN</td>\n",
       "      <td>POLICE</td>\n",
       "      <td>albert</td>\n",
       "      <td>male</td>\n",
       "    </tr>\n",
       "    <tr>\n",
       "      <th>2</th>\n",
       "      <td>4</td>\n",
       "      <td>CHRISTOPHER CHONG</td>\n",
       "      <td>WIRE ROPE CABLE MAINTENANCE MECHANIC</td>\n",
       "      <td>77916.00</td>\n",
       "      <td>56120.71</td>\n",
       "      <td>198306.90</td>\n",
       "      <td>NaN</td>\n",
       "      <td>332343.61</td>\n",
       "      <td>2011</td>\n",
       "      <td>NaN</td>\n",
       "      <td>OTHER</td>\n",
       "      <td>christopher</td>\n",
       "      <td>male</td>\n",
       "    </tr>\n",
       "    <tr>\n",
       "      <th>3</th>\n",
       "      <td>5</td>\n",
       "      <td>PATRICK GARDNER</td>\n",
       "      <td>DEPUTY CHIEF OF DEPARTMENT,(FIRE DEPARTMENT)</td>\n",
       "      <td>134401.60</td>\n",
       "      <td>9737.00</td>\n",
       "      <td>182234.59</td>\n",
       "      <td>NaN</td>\n",
       "      <td>326373.19</td>\n",
       "      <td>2011</td>\n",
       "      <td>NaN</td>\n",
       "      <td>FIRE</td>\n",
       "      <td>patrick</td>\n",
       "      <td>male</td>\n",
       "    </tr>\n",
       "    <tr>\n",
       "      <th>4</th>\n",
       "      <td>6</td>\n",
       "      <td>DAVID SULLIVAN</td>\n",
       "      <td>ASSISTANT DEPUTY CHIEF II</td>\n",
       "      <td>118602.00</td>\n",
       "      <td>8601.00</td>\n",
       "      <td>189082.74</td>\n",
       "      <td>NaN</td>\n",
       "      <td>316285.74</td>\n",
       "      <td>2011</td>\n",
       "      <td>NaN</td>\n",
       "      <td>OTHER</td>\n",
       "      <td>david</td>\n",
       "      <td>male</td>\n",
       "    </tr>\n",
       "    <tr>\n",
       "      <th>5</th>\n",
       "      <td>7</td>\n",
       "      <td>ALSON LEE</td>\n",
       "      <td>BATTALION CHIEF, (FIRE DEPARTMENT)</td>\n",
       "      <td>92492.01</td>\n",
       "      <td>89062.90</td>\n",
       "      <td>134426.14</td>\n",
       "      <td>NaN</td>\n",
       "      <td>315981.05</td>\n",
       "      <td>2011</td>\n",
       "      <td>NaN</td>\n",
       "      <td>FIRE</td>\n",
       "      <td>alson</td>\n",
       "      <td>unknown</td>\n",
       "    </tr>\n",
       "    <tr>\n",
       "      <th>6</th>\n",
       "      <td>9</td>\n",
       "      <td>MICHAEL MORRIS</td>\n",
       "      <td>BATTALION CHIEF, (FIRE DEPARTMENT)</td>\n",
       "      <td>176932.64</td>\n",
       "      <td>86362.68</td>\n",
       "      <td>40132.23</td>\n",
       "      <td>NaN</td>\n",
       "      <td>303427.55</td>\n",
       "      <td>2011</td>\n",
       "      <td>NaN</td>\n",
       "      <td>FIRE</td>\n",
       "      <td>michael</td>\n",
       "      <td>male</td>\n",
       "    </tr>\n",
       "    <tr>\n",
       "      <th>7</th>\n",
       "      <td>11</td>\n",
       "      <td>ARTHUR KENNEY</td>\n",
       "      <td>ASSISTANT CHIEF OF DEPARTMENT, (FIRE DEPARTMENT)</td>\n",
       "      <td>194999.39</td>\n",
       "      <td>71344.88</td>\n",
       "      <td>33149.90</td>\n",
       "      <td>NaN</td>\n",
       "      <td>299494.17</td>\n",
       "      <td>2011</td>\n",
       "      <td>NaN</td>\n",
       "      <td>FIRE</td>\n",
       "      <td>arthur</td>\n",
       "      <td>male</td>\n",
       "    </tr>\n",
       "    <tr>\n",
       "      <th>8</th>\n",
       "      <td>12</td>\n",
       "      <td>PATRICIA JACKSON</td>\n",
       "      <td>CAPTAIN III (POLICE DEPARTMENT)</td>\n",
       "      <td>99722.00</td>\n",
       "      <td>87082.62</td>\n",
       "      <td>110804.30</td>\n",
       "      <td>NaN</td>\n",
       "      <td>297608.92</td>\n",
       "      <td>2011</td>\n",
       "      <td>NaN</td>\n",
       "      <td>POLICE</td>\n",
       "      <td>patricia</td>\n",
       "      <td>female</td>\n",
       "    </tr>\n",
       "    <tr>\n",
       "      <th>9</th>\n",
       "      <td>15</td>\n",
       "      <td>DAVID FRANKLIN</td>\n",
       "      <td>BATTALION CHIEF, (FIRE DEPARTMENT)</td>\n",
       "      <td>174872.64</td>\n",
       "      <td>74050.30</td>\n",
       "      <td>37424.11</td>\n",
       "      <td>NaN</td>\n",
       "      <td>286347.05</td>\n",
       "      <td>2011</td>\n",
       "      <td>NaN</td>\n",
       "      <td>FIRE</td>\n",
       "      <td>david</td>\n",
       "      <td>male</td>\n",
       "    </tr>\n",
       "  </tbody>\n",
       "</table>\n",
       "</div>"
      ],
      "text/plain": [
       "   Id       EmployeeName                                          JobTitle  \\\n",
       "0   2       GARY JIMENEZ                   CAPTAIN III (POLICE DEPARTMENT)   \n",
       "1   3     ALBERT PARDINI                   CAPTAIN III (POLICE DEPARTMENT)   \n",
       "2   4  CHRISTOPHER CHONG              WIRE ROPE CABLE MAINTENANCE MECHANIC   \n",
       "3   5    PATRICK GARDNER      DEPUTY CHIEF OF DEPARTMENT,(FIRE DEPARTMENT)   \n",
       "4   6     DAVID SULLIVAN                         ASSISTANT DEPUTY CHIEF II   \n",
       "5   7          ALSON LEE                BATTALION CHIEF, (FIRE DEPARTMENT)   \n",
       "6   9     MICHAEL MORRIS                BATTALION CHIEF, (FIRE DEPARTMENT)   \n",
       "7  11      ARTHUR KENNEY  ASSISTANT CHIEF OF DEPARTMENT, (FIRE DEPARTMENT)   \n",
       "8  12   PATRICIA JACKSON                   CAPTAIN III (POLICE DEPARTMENT)   \n",
       "9  15     DAVID FRANKLIN                BATTALION CHIEF, (FIRE DEPARTMENT)   \n",
       "\n",
       "     BasePay  OvertimePay   OtherPay  Benefits   TotalPay  Year Status  \\\n",
       "0  155966.02    245131.88  137811.38       NaN  538909.28  2011    NaN   \n",
       "1  212739.13    106088.18   16452.60       NaN  335279.91  2011    NaN   \n",
       "2   77916.00     56120.71  198306.90       NaN  332343.61  2011    NaN   \n",
       "3  134401.60      9737.00  182234.59       NaN  326373.19  2011    NaN   \n",
       "4  118602.00      8601.00  189082.74       NaN  316285.74  2011    NaN   \n",
       "5   92492.01     89062.90  134426.14       NaN  315981.05  2011    NaN   \n",
       "6  176932.64     86362.68   40132.23       NaN  303427.55  2011    NaN   \n",
       "7  194999.39     71344.88   33149.90       NaN  299494.17  2011    NaN   \n",
       "8   99722.00     87082.62  110804.30       NaN  297608.92  2011    NaN   \n",
       "9  174872.64     74050.30   37424.11       NaN  286347.05  2011    NaN   \n",
       "\n",
       "  Department    FirstName   Gender  \n",
       "0     POLICE         gary     male  \n",
       "1     POLICE       albert     male  \n",
       "2      OTHER  christopher     male  \n",
       "3       FIRE      patrick     male  \n",
       "4      OTHER        david     male  \n",
       "5       FIRE        alson  unknown  \n",
       "6       FIRE      michael     male  \n",
       "7       FIRE       arthur     male  \n",
       "8     POLICE     patricia   female  \n",
       "9       FIRE        david     male  "
      ]
     },
     "execution_count": 144,
     "metadata": {},
     "output_type": "execute_result"
    }
   ],
   "source": [
    "# Clean up the genders to fall into categories\n",
    "\n",
    "sf_gender.loc[sf_gender['Gender'] == 'andy', 'Gender'] = 'unknown'\n",
    "sf_gender.loc[sf_gender['Gender'] == 'mostly_female', 'Gender'] = 'female'\n",
    "sf_gender.loc[sf_gender['Gender'] == 'mostly_male', 'Gender'] = 'male'\n",
    "sf_gender.head(10)"
   ]
  },
  {
   "cell_type": "code",
   "execution_count": 146,
   "metadata": {},
   "outputs": [
    {
     "data": {
      "text/html": [
       "<div>\n",
       "<style>\n",
       "    .dataframe thead tr:only-child th {\n",
       "        text-align: right;\n",
       "    }\n",
       "\n",
       "    .dataframe thead th {\n",
       "        text-align: left;\n",
       "    }\n",
       "\n",
       "    .dataframe tbody tr th {\n",
       "        vertical-align: top;\n",
       "    }\n",
       "</style>\n",
       "<table border=\"1\" class=\"dataframe\">\n",
       "  <thead>\n",
       "    <tr style=\"text-align: right;\">\n",
       "      <th></th>\n",
       "      <th></th>\n",
       "      <th></th>\n",
       "      <th>Id</th>\n",
       "      <th>EmployeeName</th>\n",
       "      <th>JobTitle</th>\n",
       "      <th>BasePay</th>\n",
       "      <th>OvertimePay</th>\n",
       "      <th>OtherPay</th>\n",
       "      <th>Benefits</th>\n",
       "      <th>TotalPay</th>\n",
       "      <th>Status</th>\n",
       "      <th>FirstName</th>\n",
       "    </tr>\n",
       "    <tr>\n",
       "      <th>Year</th>\n",
       "      <th>Department</th>\n",
       "      <th>Gender</th>\n",
       "      <th></th>\n",
       "      <th></th>\n",
       "      <th></th>\n",
       "      <th></th>\n",
       "      <th></th>\n",
       "      <th></th>\n",
       "      <th></th>\n",
       "      <th></th>\n",
       "      <th></th>\n",
       "      <th></th>\n",
       "    </tr>\n",
       "  </thead>\n",
       "  <tbody>\n",
       "    <tr>\n",
       "      <th rowspan=\"5\" valign=\"top\">2011</th>\n",
       "      <th rowspan=\"5\" valign=\"top\">AIRPORT</th>\n",
       "      <th>female</th>\n",
       "      <td>7437</td>\n",
       "      <td>DIAN STAVREV</td>\n",
       "      <td>AIRPORT ELECTRICIAN</td>\n",
       "      <td>95275.80</td>\n",
       "      <td>11686.26</td>\n",
       "      <td>3910.31</td>\n",
       "      <td>NaN</td>\n",
       "      <td>110872.37</td>\n",
       "      <td>NaN</td>\n",
       "      <td>dian</td>\n",
       "    </tr>\n",
       "    <tr>\n",
       "      <th>female</th>\n",
       "      <td>7683</td>\n",
       "      <td>MARGARETE CABATU</td>\n",
       "      <td>SENIOR AIRPORT COMMUNICATIONS DISPATCHER</td>\n",
       "      <td>79987.82</td>\n",
       "      <td>23073.50</td>\n",
       "      <td>6116.48</td>\n",
       "      <td>NaN</td>\n",
       "      <td>109177.80</td>\n",
       "      <td>NaN</td>\n",
       "      <td>margarete</td>\n",
       "    </tr>\n",
       "    <tr>\n",
       "      <th>female</th>\n",
       "      <td>9041</td>\n",
       "      <td>BRANDI BENAS</td>\n",
       "      <td>AIRPORT COMMUNICATIONS OPERATOR</td>\n",
       "      <td>73255.90</td>\n",
       "      <td>23634.46</td>\n",
       "      <td>5619.12</td>\n",
       "      <td>NaN</td>\n",
       "      <td>102509.48</td>\n",
       "      <td>NaN</td>\n",
       "      <td>brandi</td>\n",
       "    </tr>\n",
       "    <tr>\n",
       "      <th>female</th>\n",
       "      <td>9273</td>\n",
       "      <td>EVA POLLITT</td>\n",
       "      <td>AIRPORT COMMUNICATIONS OPERATOR</td>\n",
       "      <td>73008.21</td>\n",
       "      <td>23981.23</td>\n",
       "      <td>4372.03</td>\n",
       "      <td>NaN</td>\n",
       "      <td>101361.47</td>\n",
       "      <td>NaN</td>\n",
       "      <td>eva</td>\n",
       "    </tr>\n",
       "    <tr>\n",
       "      <th>female</th>\n",
       "      <td>9795</td>\n",
       "      <td>SHANNON WILSON</td>\n",
       "      <td>AIRPORT OPERATIONS SUPERVISOR</td>\n",
       "      <td>90360.49</td>\n",
       "      <td>6996.45</td>\n",
       "      <td>1058.52</td>\n",
       "      <td>NaN</td>\n",
       "      <td>98415.46</td>\n",
       "      <td>NaN</td>\n",
       "      <td>shannon</td>\n",
       "    </tr>\n",
       "  </tbody>\n",
       "</table>\n",
       "</div>"
      ],
      "text/plain": [
       "                          Id      EmployeeName  \\\n",
       "Year Department Gender                           \n",
       "2011 AIRPORT    female  7437      DIAN STAVREV   \n",
       "                female  7683  MARGARETE CABATU   \n",
       "                female  9041      BRANDI BENAS   \n",
       "                female  9273       EVA POLLITT   \n",
       "                female  9795    SHANNON WILSON   \n",
       "\n",
       "                                                        JobTitle   BasePay  \\\n",
       "Year Department Gender                                                       \n",
       "2011 AIRPORT    female                       AIRPORT ELECTRICIAN  95275.80   \n",
       "                female  SENIOR AIRPORT COMMUNICATIONS DISPATCHER  79987.82   \n",
       "                female           AIRPORT COMMUNICATIONS OPERATOR  73255.90   \n",
       "                female           AIRPORT COMMUNICATIONS OPERATOR  73008.21   \n",
       "                female             AIRPORT OPERATIONS SUPERVISOR  90360.49   \n",
       "\n",
       "                        OvertimePay  OtherPay  Benefits   TotalPay Status  \\\n",
       "Year Department Gender                                                      \n",
       "2011 AIRPORT    female     11686.26   3910.31       NaN  110872.37    NaN   \n",
       "                female     23073.50   6116.48       NaN  109177.80    NaN   \n",
       "                female     23634.46   5619.12       NaN  102509.48    NaN   \n",
       "                female     23981.23   4372.03       NaN  101361.47    NaN   \n",
       "                female      6996.45   1058.52       NaN   98415.46    NaN   \n",
       "\n",
       "                        FirstName  \n",
       "Year Department Gender             \n",
       "2011 AIRPORT    female       dian  \n",
       "                female  margarete  \n",
       "                female     brandi  \n",
       "                female        eva  \n",
       "                female    shannon  "
      ]
     },
     "execution_count": 146,
     "metadata": {},
     "output_type": "execute_result"
    }
   ],
   "source": [
    "# Create index for further analysis.\n",
    "\n",
    "sf_gender.set_index(['Year', 'Department', 'Gender']).sort_index().head()"
   ]
  },
  {
   "cell_type": "markdown",
   "metadata": {},
   "source": [
    "# Count by Gender and Department"
   ]
  },
  {
   "cell_type": "code",
   "execution_count": 105,
   "metadata": {},
   "outputs": [
    {
     "data": {
      "text/html": [
       "<div>\n",
       "<style>\n",
       "    .dataframe thead tr:only-child th {\n",
       "        text-align: right;\n",
       "    }\n",
       "\n",
       "    .dataframe thead th {\n",
       "        text-align: left;\n",
       "    }\n",
       "\n",
       "    .dataframe tbody tr th {\n",
       "        vertical-align: top;\n",
       "    }\n",
       "</style>\n",
       "<table border=\"1\" class=\"dataframe\">\n",
       "  <thead>\n",
       "    <tr style=\"text-align: right;\">\n",
       "      <th>Department</th>\n",
       "      <th>AIRPORT</th>\n",
       "      <th>FIRE</th>\n",
       "      <th>MEDICAL</th>\n",
       "      <th>OTHER</th>\n",
       "      <th>POLICE</th>\n",
       "      <th>TRANSIT</th>\n",
       "      <th>WATER</th>\n",
       "    </tr>\n",
       "    <tr>\n",
       "      <th>Gender</th>\n",
       "      <th></th>\n",
       "      <th></th>\n",
       "      <th></th>\n",
       "      <th></th>\n",
       "      <th></th>\n",
       "      <th></th>\n",
       "      <th></th>\n",
       "    </tr>\n",
       "  </thead>\n",
       "  <tbody>\n",
       "    <tr>\n",
       "      <th>female</th>\n",
       "      <td>173</td>\n",
       "      <td>786</td>\n",
       "      <td>4332</td>\n",
       "      <td>8499</td>\n",
       "      <td>1108</td>\n",
       "      <td>1868</td>\n",
       "      <td>51</td>\n",
       "    </tr>\n",
       "    <tr>\n",
       "      <th>male</th>\n",
       "      <td>350</td>\n",
       "      <td>4294</td>\n",
       "      <td>1383</td>\n",
       "      <td>19714</td>\n",
       "      <td>5637</td>\n",
       "      <td>7286</td>\n",
       "      <td>294</td>\n",
       "    </tr>\n",
       "    <tr>\n",
       "      <th>unknown</th>\n",
       "      <td>54</td>\n",
       "      <td>265</td>\n",
       "      <td>1212</td>\n",
       "      <td>4724</td>\n",
       "      <td>405</td>\n",
       "      <td>1837</td>\n",
       "      <td>39</td>\n",
       "    </tr>\n",
       "  </tbody>\n",
       "</table>\n",
       "</div>"
      ],
      "text/plain": [
       "Department  AIRPORT  FIRE  MEDICAL  OTHER  POLICE  TRANSIT  WATER\n",
       "Gender                                                           \n",
       "female          173   786     4332   8499    1108     1868     51\n",
       "male            350  4294     1383  19714    5637     7286    294\n",
       "unknown          54   265     1212   4724     405     1837     39"
      ]
     },
     "execution_count": 105,
     "metadata": {},
     "output_type": "execute_result"
    }
   ],
   "source": [
    "dept_gender = sf_gender.groupby(['Gender', 'Department']).size().unstack()\n",
    "dept_gender"
   ]
  },
  {
   "cell_type": "markdown",
   "metadata": {},
   "source": [
    "Here we can see that there are significantly less female's on the job except in the MEDICAL profession."
   ]
  },
  {
   "cell_type": "code",
   "execution_count": 147,
   "metadata": {},
   "outputs": [
    {
     "data": {
      "text/plain": [
       "Gender\n",
       "female     87498.705639\n",
       "male       90199.490470\n",
       "unknown    86591.196502\n",
       "Diff           1.016004\n",
       "dtype: float64"
      ]
     },
     "execution_count": 147,
     "metadata": {},
     "output_type": "execute_result"
    }
   ],
   "source": [
    "a = sf_gender[['JobTitle', 'Gender', 'TotalPay']]\n",
    "a = a.set_index(['Gender', 'JobTitle'], append=True)\n",
    "a = a.unstack('Gender')\n",
    "b = a.TotalPay.median(level=1)\n",
    "b['Diff'] = b.female / b.male\n",
    "b = b[b.Diff.notnull()]\n",
    "b.mean()"
   ]
  },
  {
   "cell_type": "markdown",
   "metadata": {},
   "source": [
    "Above we can see that the difference of median salaries is 1%"
   ]
  },
  {
   "cell_type": "code",
   "execution_count": 148,
   "metadata": {},
   "outputs": [
    {
     "data": {
      "text/plain": [
       "Gender\n",
       "female     85832.550795\n",
       "male       88834.021501\n",
       "unknown    85119.118760\n",
       "Diff           0.995724\n",
       "dtype: float64"
      ]
     },
     "execution_count": 148,
     "metadata": {},
     "output_type": "execute_result"
    }
   ],
   "source": [
    "a = sf_gender[['JobTitle', 'Gender', 'TotalPay']]\n",
    "a = a.set_index(['Gender', 'JobTitle'], append=True)\n",
    "a = a.unstack('Gender')\n",
    "b = a.TotalPay.mean(level=1)\n",
    "b['Diff'] = b.female / b.male\n",
    "b = b[b.Diff.notnull()]\n",
    "b.mean()"
   ]
  },
  {
   "cell_type": "markdown",
   "metadata": {},
   "source": [
    "Above we can see that the difference of mean salaries is less than 1%"
   ]
  },
  {
   "cell_type": "markdown",
   "metadata": {},
   "source": [
    "# Mean pay by Department and Gender Barplot"
   ]
  },
  {
   "cell_type": "code",
   "execution_count": 149,
   "metadata": {},
   "outputs": [
    {
     "data": {
      "text/plain": [
       "<matplotlib.axes._subplots.AxesSubplot at 0x222c41cfa20>"
      ]
     },
     "execution_count": 149,
     "metadata": {},
     "output_type": "execute_result"
    },
    {
     "data": {
      "image/png": "[encoded data removed]",
      "text/plain": [
       "<matplotlib.figure.Figure at 0x222c56f0ba8>"
      ]
     },
     "metadata": {},
     "output_type": "display_data"
    }
   ],
   "source": [
    "sns.barplot(data=sf_gender, x='Department', y='TotalPay', hue='Gender')"
   ]
  },
  {
   "cell_type": "markdown",
   "metadata": {},
   "source": [
    "There are certain profession that men do seem to earn more than woman, however, if you look at the mean and median of all differences the difference does not seem to be significant."
   ]
  },
  {
   "cell_type": "code",
   "execution_count": 112,
   "metadata": {},
   "outputs": [
    {
     "data": {
      "image/png": "[encoded data removed]",
      "text/plain": [
       "<matplotlib.figure.Figure at 0x222ccbc4cf8>"
      ]
     },
     "metadata": {},
     "output_type": "display_data"
    }
   ],
   "source": [
    "plot_gen = sns.FacetGrid(sf_gender, col=\"Gender\", col_wrap=3, size=5.5, dropna=True)\n",
    "plot_gen = plot_gen.map(sns.barplot, 'Department', 'TotalPay')"
   ]
  },
  {
   "cell_type": "code",
   "execution_count": null,
   "metadata": {
    "collapsed": true
   },
   "outputs": [],
   "source": [
    "# How have salaries changed over time between different groups of people?"
   ]
  },
  {
   "cell_type": "code",
   "execution_count": null,
   "metadata": {
    "collapsed": true
   },
   "outputs": [],
   "source": [
    "# How are base pay, overtime pay and benefits allocated between different groups?"
   ]
  },
  {
   "cell_type": "code",
   "execution_count": null,
   "metadata": {
    "collapsed": true
   },
   "outputs": [],
   "source": [
    "# Is there any evidene of pay discrimination based on gender in this dataset?"
   ]
  },
  {
   "cell_type": "markdown",
   "metadata": {},
   "source": [
    "# !!! I AM STRUGGLING SELECTING THE FIRST COLUMN HERE. !!!"
   ]
  },
  {
   "cell_type": "code",
   "execution_count": 140,
   "metadata": {},
   "outputs": [
    {
     "data": {
      "text/html": [
       "<div>\n",
       "<style>\n",
       "    .dataframe thead tr:only-child th {\n",
       "        text-align: right;\n",
       "    }\n",
       "\n",
       "    .dataframe thead th {\n",
       "        text-align: left;\n",
       "    }\n",
       "\n",
       "    .dataframe tbody tr th {\n",
       "        vertical-align: top;\n",
       "    }\n",
       "</style>\n",
       "<table border=\"1\" class=\"dataframe\">\n",
       "  <thead>\n",
       "    <tr style=\"text-align: right;\">\n",
       "      <th>Gender</th>\n",
       "      <th>female</th>\n",
       "      <th>male</th>\n",
       "      <th>Diff</th>\n",
       "    </tr>\n",
       "    <tr>\n",
       "      <th>Department</th>\n",
       "      <th></th>\n",
       "      <th></th>\n",
       "      <th></th>\n",
       "    </tr>\n",
       "  </thead>\n",
       "  <tbody>\n",
       "    <tr>\n",
       "      <th>AIRPORT</th>\n",
       "      <td>78908.031676</td>\n",
       "      <td>89321.222486</td>\n",
       "      <td>0.883419</td>\n",
       "    </tr>\n",
       "    <tr>\n",
       "      <th>FIRE</th>\n",
       "      <td>150011.716743</td>\n",
       "      <td>159751.367089</td>\n",
       "      <td>0.939032</td>\n",
       "    </tr>\n",
       "    <tr>\n",
       "      <th>MEDICAL</th>\n",
       "      <td>97633.275226</td>\n",
       "      <td>98714.565177</td>\n",
       "      <td>0.989046</td>\n",
       "    </tr>\n",
       "    <tr>\n",
       "      <th>OTHER</th>\n",
       "      <td>73218.804126</td>\n",
       "      <td>90245.954559</td>\n",
       "      <td>0.811325</td>\n",
       "    </tr>\n",
       "    <tr>\n",
       "      <th>POLICE</th>\n",
       "      <td>118534.132310</td>\n",
       "      <td>132977.259684</td>\n",
       "      <td>0.891386</td>\n",
       "    </tr>\n",
       "    <tr>\n",
       "      <th>TRANSIT</th>\n",
       "      <td>64349.281162</td>\n",
       "      <td>79178.455913</td>\n",
       "      <td>0.812712</td>\n",
       "    </tr>\n",
       "    <tr>\n",
       "      <th>WATER</th>\n",
       "      <td>77708.459216</td>\n",
       "      <td>93011.041837</td>\n",
       "      <td>0.835476</td>\n",
       "    </tr>\n",
       "  </tbody>\n",
       "</table>\n",
       "</div>"
      ],
      "text/plain": [
       "Gender             female           male      Diff\n",
       "Department                                        \n",
       "AIRPORT      78908.031676   89321.222486  0.883419\n",
       "FIRE        150011.716743  159751.367089  0.939032\n",
       "MEDICAL      97633.275226   98714.565177  0.989046\n",
       "OTHER        73218.804126   90245.954559  0.811325\n",
       "POLICE      118534.132310  132977.259684  0.891386\n",
       "TRANSIT      64349.281162   79178.455913  0.812712\n",
       "WATER        77708.459216   93011.041837  0.835476"
      ]
     },
     "execution_count": 140,
     "metadata": {},
     "output_type": "execute_result"
    }
   ],
   "source": [
    "c = sf_gender[['Department', 'Gender', 'TotalPay']]\n",
    "c = c[c.Gender != 'unknown']\n",
    "c = c.set_index(['Gender', 'Department'], append=True)\n",
    "c = c.unstack('Gender')\n",
    "c = c.TotalPay.mean(level=1)\n",
    "c['Diff'] = c.female / c.male\n",
    "c = c[c.Diff.notnull()]\n",
    "#c = sns.barplot(data = c, x = 'Department', y = 'TotalPay')\n",
    "c"
   ]
  },
  {
   "cell_type": "code",
   "execution_count": 56,
   "metadata": {
    "collapsed": true
   },
   "outputs": [],
   "source": [
    "# How is budget allocated based on different groups and responsibilities?"
   ]
  },
  {
   "cell_type": "markdown",
   "metadata": {},
   "source": [
    "## Questions to Explore"
   ]
  },
  {
   "cell_type": "code",
   "execution_count": 33,
   "metadata": {
    "collapsed": true
   },
   "outputs": [],
   "source": [
    "# Are there any duplicate names in the dataset?"
   ]
  },
  {
   "cell_type": "code",
   "execution_count": 34,
   "metadata": {
    "collapsed": true
   },
   "outputs": [],
   "source": [
    "# Which employee has been employed three years?"
   ]
  },
  {
   "cell_type": "code",
   "execution_count": 35,
   "metadata": {
    "collapsed": true
   },
   "outputs": [],
   "source": [
    "# What is the correlation between titles and salaries?"
   ]
  }
 ],
 "metadata": {
  "kernelspec": {
   "display_name": "Python 3",
   "language": "python",
   "name": "python3"
  },
  "language_info": {
   "codemirror_mode": {
    "name": "ipython",
    "version": 3
   },
   "file_extension": ".py",
   "mimetype": "text/x-python",
   "name": "python",
   "nbconvert_exporter": "python",
   "pygments_lexer": "ipython3",
   "version": "3.6.1"
  }
 },
 "nbformat": 4,
 "nbformat_minor": 2
}
