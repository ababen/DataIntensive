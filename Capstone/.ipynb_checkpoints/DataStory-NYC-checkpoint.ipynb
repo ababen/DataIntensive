{
 "cells": [
  {
   "cell_type": "code",
   "execution_count": 51,
   "metadata": {
    "collapsed": true
   },
   "outputs": [],
   "source": [
    "import pandas as pd"
   ]
  },
  {
   "cell_type": "code",
   "execution_count": 52,
   "metadata": {
    "collapsed": true
   },
   "outputs": [],
   "source": [
    "import numpy as np"
   ]
  },
  {
   "cell_type": "code",
   "execution_count": 53,
   "metadata": {
    "collapsed": false
   },
   "outputs": [
    {
     "ename": "ModuleNotFoundError",
     "evalue": "No module named 'ggplot'",
     "output_type": "error",
     "traceback": [
      "\u001b[0;31m---------------------------------------------------------------------------\u001b[0m",
      "\u001b[0;31mModuleNotFoundError\u001b[0m                       Traceback (most recent call last)",
      "\u001b[0;32m<ipython-input-53-e828cb885f12>\u001b[0m in \u001b[0;36m<module>\u001b[0;34m()\u001b[0m\n\u001b[1;32m      3\u001b[0m \u001b[1;32mimport\u001b[0m \u001b[0mseaborn\u001b[0m \u001b[1;32mas\u001b[0m \u001b[0msns\u001b[0m\u001b[1;33m\u001b[0m\u001b[0m\n\u001b[1;32m      4\u001b[0m \u001b[1;31m#import ggplot as gg\u001b[0m\u001b[1;33m\u001b[0m\u001b[1;33m\u001b[0m\u001b[0m\n\u001b[0;32m----> 5\u001b[0;31m \u001b[1;32mfrom\u001b[0m \u001b[0mggplot\u001b[0m \u001b[1;32mimport\u001b[0m \u001b[1;33m*\u001b[0m\u001b[1;33m\u001b[0m\u001b[0m\n\u001b[0m\u001b[1;32m      6\u001b[0m \u001b[1;32mimport\u001b[0m \u001b[0mbokeh\u001b[0m \u001b[1;32mas\u001b[0m \u001b[0mbkh\u001b[0m\u001b[1;33m\u001b[0m\u001b[0m\n",
      "\u001b[0;31mModuleNotFoundError\u001b[0m: No module named 'ggplot'"
     ]
    }
   ],
   "source": [
    "%matplotlib inline\n",
    "import matplotlib.pylab as plt\n",
    "import seaborn as sns\n",
    "#import ggplot as gg\n",
    "from ggplot import *\n",
    "import bokeh as bkh"
   ]
  },
  {
   "cell_type": "code",
   "execution_count": 54,
   "metadata": {
    "collapsed": false
   },
   "outputs": [
    {
     "data": {
      "text/html": [
       "<style>body {\n",
       "    margin: 0;\n",
       "    font-family: Helvetica;\n",
       "}\n",
       "table.dataframe {\n",
       "    border-collapse: collapse;\n",
       "    border: none;\n",
       "}\n",
       "table.dataframe tr {\n",
       "    border: none;\n",
       "}\n",
       "table.dataframe td, table.dataframe th {\n",
       "    margin: 0;\n",
       "    border: 1px solid white;\n",
       "    padding-left: 0.25em;\n",
       "    padding-right: 0.25em;\n",
       "}\n",
       "table.dataframe th:not(:empty) {\n",
       "    background-color: #fec;\n",
       "    text-align: left;\n",
       "    font-weight: normal;\n",
       "}\n",
       "table.dataframe tr:nth-child(2) th:empty {\n",
       "    border-left: none;\n",
       "    border-right: 1px dashed #888;\n",
       "}\n",
       "table.dataframe td {\n",
       "    border: 2px solid #ccf;\n",
       "    background-color: #f4f4ff;\n",
       "}\n",
       "h3 {\n",
       "    color: white;\n",
       "    background-color: black;\n",
       "    padding: 0.5em;\n",
       "}\n",
       "</style>"
      ],
      "text/plain": [
       "<IPython.core.display.HTML object>"
      ]
     },
     "execution_count": 54,
     "metadata": {},
     "output_type": "execute_result"
    }
   ],
   "source": [
    "from IPython.core.display import HTML\n",
    "css = open('other/style-table.css').read() + open('other/style-notebook.css').read()\n",
    "HTML('<style>{}</style>'.format(css))"
   ]
  },
  {
   "cell_type": "markdown",
   "metadata": {},
   "source": [
    "# Assignment\n",
    "\n",
    "How does one go about creating a data story? You have some pointers from the material you've just gone through, but they’re probably a bit on the abstract side when you’re just getting started. Also, storytelling is an art, so you have to get your imagination going. Here are some pointers to get those creative juices flowing. In the following sections we will work step-by-step to create your first Data Story\n",
    "\n",
    "1. Pick a dataset - ideally the dataset for your Capstone. If for some reason you want to do this on a different data set, you can find one on Mode Analytics or Google's public data sets directory, or pick another one you like from elsewhere.\n",
    "2. Get going by asking the following questions and looking for the answers with some code and plots:\n",
    "  1. Can you count something interesting?\n",
    "  2. Can you find some trends (high, low, increase, decrease, anomalies)?\n",
    "  3. Can you make a bar plot or a histogram?\n",
    "  4. Can you compare two related quantities?\n",
    "  5. Can you make a scatterplot?\n",
    "  6. Can you make a time-series plot?\n",
    "3. Having made these plots, what are some insights you get from them? Do you see any correlations? Is there a hypothesis you would like to investigate further? What other questions do they lead you to ask?\n",
    "4. By now you’ve asked a bunch of questions, and found some neat insights. Is there an interesting narrative, a way of presenting the insights using text and plots from the above, that tells a compelling story? As you work out this story, what are some other trends/relationships you think will make it more complete?\n",
    "\n",
    "Submission Requirements: Submit links to a Github repository containing a Jupyter notebook. The notebook should contain:\n",
    "1. The questions you asked\n",
    "2. The trends you investigated\n",
    "3. The resulting visualizations and conclusions.\n",
    "\n",
    "In case the data set is too large to commit to Github, please include a link to the data set inside the Jupyter notebook"
   ]
  },
  {
   "cell_type": "code",
   "execution_count": null,
   "metadata": {
    "collapsed": true
   },
   "outputs": [],
   "source": []
  },
  {
   "cell_type": "code",
   "execution_count": 55,
   "metadata": {
    "collapsed": false
   },
   "outputs": [],
   "source": [
    "# Load New York City salaries dataset from OpenData\n",
    "nyc = pd.read_csv('data/nyc/Citywide_Payroll_Data__Fiscal_Year_.csv', dtype={7: object})"
   ]
  },
  {
   "cell_type": "markdown",
   "metadata": {
    "collapsed": true
   },
   "source": [
    "# Staring with New York City salaries dataset"
   ]
  },
  {
   "cell_type": "code",
   "execution_count": 56,
   "metadata": {
    "collapsed": false
   },
   "outputs": [],
   "source": [
    "# Removing columns I do not intend to use\n",
    "nyc = nyc.drop(nyc.columns[[1,7,10]], axis=1)"
   ]
  },
  {
   "cell_type": "code",
   "execution_count": 57,
   "metadata": {
    "collapsed": false
   },
   "outputs": [
    {
     "data": {
      "text/html": [
       "<div>\n",
       "<table border=\"1\" class=\"dataframe\">\n",
       "  <thead>\n",
       "    <tr style=\"text-align: right;\">\n",
       "      <th></th>\n",
       "      <th>Fiscal Year</th>\n",
       "      <th>Agency Name</th>\n",
       "      <th>Last Name</th>\n",
       "      <th>First Name</th>\n",
       "      <th>Mid Init</th>\n",
       "      <th>Agency Start Date</th>\n",
       "      <th>Title Description</th>\n",
       "      <th>Leave Status as of July 31</th>\n",
       "      <th>Pay Basis</th>\n",
       "      <th>Regular Hours</th>\n",
       "      <th>Regular Gross Paid</th>\n",
       "      <th>OT Hours</th>\n",
       "      <th>Total OT Paid</th>\n",
       "      <th>Total Other Pay</th>\n",
       "    </tr>\n",
       "  </thead>\n",
       "  <tbody>\n",
       "    <tr>\n",
       "      <th>0</th>\n",
       "      <td>2014</td>\n",
       "      <td>OFFICE OF THE MAYOR</td>\n",
       "      <td>MULLEN</td>\n",
       "      <td>ALFRED</td>\n",
       "      <td>J</td>\n",
       "      <td>03/20/1972</td>\n",
       "      <td>CALENDAR ASSISTANT                            ...</td>\n",
       "      <td>ON SEPARATION LEAVE</td>\n",
       "      <td>per Annum</td>\n",
       "      <td>1825.0</td>\n",
       "      <td>$83096.78</td>\n",
       "      <td>0.0</td>\n",
       "      <td>$228.03</td>\n",
       "      <td>$0.00</td>\n",
       "    </tr>\n",
       "    <tr>\n",
       "      <th>1</th>\n",
       "      <td>2014</td>\n",
       "      <td>OFFICE OF THE MAYOR</td>\n",
       "      <td>GARRETT</td>\n",
       "      <td>CORNELIUS</td>\n",
       "      <td>S</td>\n",
       "      <td>09/25/1976</td>\n",
       "      <td>FISCAL RESPONSIBILITY OFFICER                 ...</td>\n",
       "      <td>ON SEPARATION LEAVE</td>\n",
       "      <td>per Annum</td>\n",
       "      <td>1825.0</td>\n",
       "      <td>$70790.46</td>\n",
       "      <td>10.5</td>\n",
       "      <td>$845.07</td>\n",
       "      <td>$0.00</td>\n",
       "    </tr>\n",
       "    <tr>\n",
       "      <th>2</th>\n",
       "      <td>2014</td>\n",
       "      <td>OFFICE OF THE MAYOR</td>\n",
       "      <td>LEONARD</td>\n",
       "      <td>DIANE</td>\n",
       "      <td>M</td>\n",
       "      <td>11/22/1977</td>\n",
       "      <td>EXECUTIVE ASSISTANT-MIDTOWN ENFORCEMENT       ...</td>\n",
       "      <td>ACTIVE</td>\n",
       "      <td>per Hour</td>\n",
       "      <td>1573.0</td>\n",
       "      <td>$63165.38</td>\n",
       "      <td>0.0</td>\n",
       "      <td>$0.00</td>\n",
       "      <td>$0.00</td>\n",
       "    </tr>\n",
       "    <tr>\n",
       "      <th>3</th>\n",
       "      <td>2014</td>\n",
       "      <td>OFFICE OF THE MAYOR</td>\n",
       "      <td>ROSS</td>\n",
       "      <td>JEAN</td>\n",
       "      <td>A</td>\n",
       "      <td>07/01/1978</td>\n",
       "      <td>ADMINISTRATIVE MANAGER                        ...</td>\n",
       "      <td>ACTIVE</td>\n",
       "      <td>per Annum</td>\n",
       "      <td>1825.0</td>\n",
       "      <td>$125370.69</td>\n",
       "      <td>0.0</td>\n",
       "      <td>$0.00</td>\n",
       "      <td>$0.00</td>\n",
       "    </tr>\n",
       "    <tr>\n",
       "      <th>4</th>\n",
       "      <td>2014</td>\n",
       "      <td>OFFICE OF THE MAYOR</td>\n",
       "      <td>WEINSTOCK</td>\n",
       "      <td>SUSAN</td>\n",
       "      <td>NaN</td>\n",
       "      <td>07/01/1978</td>\n",
       "      <td>ADMINISTRATIVE PRINTING SERVICES MANAGER      ...</td>\n",
       "      <td>ACTIVE</td>\n",
       "      <td>per Annum</td>\n",
       "      <td>1825.0</td>\n",
       "      <td>$84268.60</td>\n",
       "      <td>0.0</td>\n",
       "      <td>$0.00</td>\n",
       "      <td>$0.00</td>\n",
       "    </tr>\n",
       "  </tbody>\n",
       "</table>\n",
       "</div>"
      ],
      "text/plain": [
       "   Fiscal Year                     Agency Name  Last Name First Name Mid Init  \\\n",
       "0         2014  OFFICE OF THE MAYOR                MULLEN     ALFRED        J   \n",
       "1         2014  OFFICE OF THE MAYOR               GARRETT  CORNELIUS        S   \n",
       "2         2014  OFFICE OF THE MAYOR               LEONARD      DIANE        M   \n",
       "3         2014  OFFICE OF THE MAYOR                  ROSS       JEAN        A   \n",
       "4         2014  OFFICE OF THE MAYOR             WEINSTOCK      SUSAN      NaN   \n",
       "\n",
       "  Agency Start Date                                  Title Description  \\\n",
       "0        03/20/1972  CALENDAR ASSISTANT                            ...   \n",
       "1        09/25/1976  FISCAL RESPONSIBILITY OFFICER                 ...   \n",
       "2        11/22/1977  EXECUTIVE ASSISTANT-MIDTOWN ENFORCEMENT       ...   \n",
       "3        07/01/1978  ADMINISTRATIVE MANAGER                        ...   \n",
       "4        07/01/1978  ADMINISTRATIVE PRINTING SERVICES MANAGER      ...   \n",
       "\n",
       "  Leave Status as of July 31   Pay Basis  Regular Hours Regular Gross Paid  \\\n",
       "0        ON SEPARATION LEAVE   per Annum         1825.0          $83096.78   \n",
       "1        ON SEPARATION LEAVE   per Annum         1825.0          $70790.46   \n",
       "2                     ACTIVE    per Hour         1573.0          $63165.38   \n",
       "3                     ACTIVE   per Annum         1825.0         $125370.69   \n",
       "4                     ACTIVE   per Annum         1825.0          $84268.60   \n",
       "\n",
       "   OT Hours Total OT Paid Total Other Pay  \n",
       "0       0.0       $228.03           $0.00  \n",
       "1      10.5       $845.07           $0.00  \n",
       "2       0.0         $0.00           $0.00  \n",
       "3       0.0         $0.00           $0.00  \n",
       "4       0.0         $0.00           $0.00  "
      ]
     },
     "execution_count": 57,
     "metadata": {},
     "output_type": "execute_result"
    }
   ],
   "source": [
    "nyc.head()"
   ]
  },
  {
   "cell_type": "code",
   "execution_count": 62,
   "metadata": {
    "collapsed": false
   },
   "outputs": [],
   "source": [
    "# Removing spaces in column names.\n",
    "nyc.rename(columns=lambda x: x.replace(\" \", \"_\"), inplace=True)"
   ]
  },
  {
   "cell_type": "code",
   "execution_count": 64,
   "metadata": {
    "collapsed": false
   },
   "outputs": [],
   "source": [
    "nyc['Regular_Gross_Paid'] = nyc['Regular_Gross_Paid'].str.lstrip('$')\n",
    "nyc['Total_OT_Paid'] = nyc['Total_OT_Paid'].str.lstrip('$')\n",
    "nyc['Total_Other_Pay'] = nyc['Total_Other_Pay'].str.lstrip('$')"
   ]
  },
  {
   "cell_type": "code",
   "execution_count": 65,
   "metadata": {
    "collapsed": true
   },
   "outputs": [],
   "source": [
    "nyc['Regular_Gross_Paid'] = pd.to_numeric(nyc['Regular_Gross_Paid'])\n",
    "nyc['Total_OT_Paid'] = pd.to_numeric(nyc['Total_OT_Paid'])\n",
    "nyc['Total_Other_Pay'] = pd.to_numeric(nyc['Total_Other_Pay'])"
   ]
  },
  {
   "cell_type": "code",
   "execution_count": 66,
   "metadata": {
    "collapsed": false
   },
   "outputs": [
    {
     "data": {
      "text/plain": [
       "Fiscal_Year                     int64\n",
       "Agency_Name                    object\n",
       "Last_Name                      object\n",
       "First_Name                     object\n",
       "Mid_Init                       object\n",
       "Agency_Start_Date              object\n",
       "Title_Description              object\n",
       "Leave_Status_as_of_July_31     object\n",
       "Pay_Basis                      object\n",
       "Regular_Hours                 float64\n",
       "Regular_Gross_Paid            float64\n",
       "OT_Hours                      float64\n",
       "Total_OT_Paid                 float64\n",
       "Total_Other_Pay               float64\n",
       "dtype: object"
      ]
     },
     "execution_count": 66,
     "metadata": {},
     "output_type": "execute_result"
    }
   ],
   "source": [
    "nyc.dtypes"
   ]
  },
  {
   "cell_type": "code",
   "execution_count": 67,
   "metadata": {
    "collapsed": false
   },
   "outputs": [
    {
     "data": {
      "text/html": [
       "<div>\n",
       "<table border=\"1\" class=\"dataframe\">\n",
       "  <thead>\n",
       "    <tr style=\"text-align: right;\">\n",
       "      <th></th>\n",
       "      <th>Fiscal_Year</th>\n",
       "      <th>Regular_Hours</th>\n",
       "      <th>Regular_Gross_Paid</th>\n",
       "      <th>OT_Hours</th>\n",
       "      <th>Total_OT_Paid</th>\n",
       "      <th>Total_Other_Pay</th>\n",
       "    </tr>\n",
       "  </thead>\n",
       "  <tbody>\n",
       "    <tr>\n",
       "      <th>count</th>\n",
       "      <td>1.691487e+06</td>\n",
       "      <td>1.691486e+06</td>\n",
       "      <td>1.691486e+06</td>\n",
       "      <td>1.691486e+06</td>\n",
       "      <td>1.691486e+06</td>\n",
       "      <td>1.691486e+06</td>\n",
       "    </tr>\n",
       "    <tr>\n",
       "      <th>mean</th>\n",
       "      <td>2.015021e+03</td>\n",
       "      <td>7.022911e+02</td>\n",
       "      <td>3.996266e+04</td>\n",
       "      <td>6.443838e+01</td>\n",
       "      <td>3.440764e+03</td>\n",
       "      <td>2.302203e+03</td>\n",
       "    </tr>\n",
       "    <tr>\n",
       "      <th>std</th>\n",
       "      <td>7.892326e-01</td>\n",
       "      <td>9.041001e+02</td>\n",
       "      <td>3.665592e+04</td>\n",
       "      <td>1.519441e+02</td>\n",
       "      <td>8.886150e+03</td>\n",
       "      <td>5.083747e+03</td>\n",
       "    </tr>\n",
       "    <tr>\n",
       "      <th>min</th>\n",
       "      <td>2.014000e+03</td>\n",
       "      <td>-7.304300e+02</td>\n",
       "      <td>-2.986219e+04</td>\n",
       "      <td>-8.000000e+00</td>\n",
       "      <td>-2.382685e+04</td>\n",
       "      <td>-2.815950e+05</td>\n",
       "    </tr>\n",
       "    <tr>\n",
       "      <th>25%</th>\n",
       "      <td>2.014000e+03</td>\n",
       "      <td>0.000000e+00</td>\n",
       "      <td>3.651787e+03</td>\n",
       "      <td>0.000000e+00</td>\n",
       "      <td>0.000000e+00</td>\n",
       "      <td>0.000000e+00</td>\n",
       "    </tr>\n",
       "    <tr>\n",
       "      <th>50%</th>\n",
       "      <td>2.015000e+03</td>\n",
       "      <td>0.000000e+00</td>\n",
       "      <td>3.518840e+04</td>\n",
       "      <td>0.000000e+00</td>\n",
       "      <td>0.000000e+00</td>\n",
       "      <td>8.200000e-01</td>\n",
       "    </tr>\n",
       "    <tr>\n",
       "      <th>75%</th>\n",
       "      <td>2.016000e+03</td>\n",
       "      <td>1.825000e+03</td>\n",
       "      <td>7.172129e+04</td>\n",
       "      <td>8.000000e+00</td>\n",
       "      <td>4.109350e+02</td>\n",
       "      <td>1.686587e+03</td>\n",
       "    </tr>\n",
       "    <tr>\n",
       "      <th>max</th>\n",
       "      <td>2.016000e+03</td>\n",
       "      <td>4.171430e+03</td>\n",
       "      <td>6.723089e+05</td>\n",
       "      <td>3.347500e+03</td>\n",
       "      <td>2.286338e+05</td>\n",
       "      <td>1.003558e+05</td>\n",
       "    </tr>\n",
       "  </tbody>\n",
       "</table>\n",
       "</div>"
      ],
      "text/plain": [
       "        Fiscal_Year  Regular_Hours  Regular_Gross_Paid      OT_Hours  \\\n",
       "count  1.691487e+06   1.691486e+06        1.691486e+06  1.691486e+06   \n",
       "mean   2.015021e+03   7.022911e+02        3.996266e+04  6.443838e+01   \n",
       "std    7.892326e-01   9.041001e+02        3.665592e+04  1.519441e+02   \n",
       "min    2.014000e+03  -7.304300e+02       -2.986219e+04 -8.000000e+00   \n",
       "25%    2.014000e+03   0.000000e+00        3.651787e+03  0.000000e+00   \n",
       "50%    2.015000e+03   0.000000e+00        3.518840e+04  0.000000e+00   \n",
       "75%    2.016000e+03   1.825000e+03        7.172129e+04  8.000000e+00   \n",
       "max    2.016000e+03   4.171430e+03        6.723089e+05  3.347500e+03   \n",
       "\n",
       "       Total_OT_Paid  Total_Other_Pay  \n",
       "count   1.691486e+06     1.691486e+06  \n",
       "mean    3.440764e+03     2.302203e+03  \n",
       "std     8.886150e+03     5.083747e+03  \n",
       "min    -2.382685e+04    -2.815950e+05  \n",
       "25%     0.000000e+00     0.000000e+00  \n",
       "50%     0.000000e+00     8.200000e-01  \n",
       "75%     4.109350e+02     1.686587e+03  \n",
       "max     2.286338e+05     1.003558e+05  "
      ]
     },
     "execution_count": 67,
     "metadata": {},
     "output_type": "execute_result"
    }
   ],
   "source": [
    "nyc.describe()"
   ]
  },
  {
   "cell_type": "markdown",
   "metadata": {},
   "source": [
    "# Begin comparison between datasets"
   ]
  },
  {
   "cell_type": "markdown",
   "metadata": {},
   "source": [
    "## We first look at the size of all datasets"
   ]
  },
  {
   "cell_type": "code",
   "execution_count": 68,
   "metadata": {
    "collapsed": false
   },
   "outputs": [
    {
     "data": {
      "text/plain": [
       "1691487"
      ]
     },
     "execution_count": 68,
     "metadata": {},
     "output_type": "execute_result"
    }
   ],
   "source": [
    "len(nyc)"
   ]
  },
  {
   "cell_type": "markdown",
   "metadata": {},
   "source": [
    "## Secondly we compare the years which are represented in the datasets"
   ]
  },
  {
   "cell_type": "code",
   "execution_count": 70,
   "metadata": {
    "collapsed": false
   },
   "outputs": [
    {
     "data": {
      "text/plain": [
       "<matplotlib.axes._subplots.AxesSubplot at 0x153f0044e10>"
      ]
     },
     "execution_count": 70,
     "metadata": {},
     "output_type": "execute_result"
    },
    {
     "data": {
      "image/png": "[encoded data removed]",
      "text/plain": [
       "<matplotlib.figure.Figure at 0x153cfb259b0>"
      ]
     },
     "metadata": {},
     "output_type": "display_data"
    }
   ],
   "source": [
    "nyc.groupby('Fiscal_Year').size().plot(kind='bar')"
   ]
  },
  {
   "cell_type": "markdown",
   "metadata": {},
   "source": [
    "## Split the dataset by year"
   ]
  },
  {
   "cell_type": "code",
   "execution_count": 71,
   "metadata": {
    "collapsed": false
   },
   "outputs": [],
   "source": [
    "nyc14 = nyc[nyc['Fiscal_Year'] == 2014]\n",
    "nyc15 = nyc[nyc['Fiscal_Year'] == 2015]\n",
    "nyc16 = nyc[nyc['Fiscal_Year'] == 2016]"
   ]
  },
  {
   "cell_type": "code",
   "execution_count": 73,
   "metadata": {
    "collapsed": false
   },
   "outputs": [
    {
     "data": {
      "text/html": [
       "<div>\n",
       "<table border=\"1\" class=\"dataframe\">\n",
       "  <thead>\n",
       "    <tr style=\"text-align: right;\">\n",
       "      <th></th>\n",
       "      <th>Fiscal_Year</th>\n",
       "      <th>Agency_Name</th>\n",
       "      <th>Last_Name</th>\n",
       "      <th>First_Name</th>\n",
       "      <th>Mid_Init</th>\n",
       "      <th>Agency_Start_Date</th>\n",
       "      <th>Title_Description</th>\n",
       "      <th>Leave_Status_as_of_July_31</th>\n",
       "      <th>Pay_Basis</th>\n",
       "      <th>Regular_Hours</th>\n",
       "      <th>Regular_Gross_Paid</th>\n",
       "      <th>OT_Hours</th>\n",
       "      <th>Total_OT_Paid</th>\n",
       "      <th>Total_Other_Pay</th>\n",
       "    </tr>\n",
       "  </thead>\n",
       "  <tbody>\n",
       "    <tr>\n",
       "      <th>1052443</th>\n",
       "      <td>2015</td>\n",
       "      <td>DISTRICT ATTORNEY-MANHATTAN</td>\n",
       "      <td>NaN</td>\n",
       "      <td>NaN</td>\n",
       "      <td>NaN</td>\n",
       "      <td>12/06/1993</td>\n",
       "      <td>SUPERVISING RACKETS INVESTIGATOR</td>\n",
       "      <td>ACTIVE</td>\n",
       "      <td>per Annum</td>\n",
       "      <td>2085.72</td>\n",
       "      <td>91028.86</td>\n",
       "      <td>6.50</td>\n",
       "      <td>433.23</td>\n",
       "      <td>1535.79</td>\n",
       "    </tr>\n",
       "    <tr>\n",
       "      <th>1052966</th>\n",
       "      <td>2015</td>\n",
       "      <td>DISTRICT ATTORNEY-MANHATTAN</td>\n",
       "      <td>NaN</td>\n",
       "      <td>NaN</td>\n",
       "      <td>NaN</td>\n",
       "      <td>07/19/2010</td>\n",
       "      <td>SENIOR RACKETS INVESTIGATOR</td>\n",
       "      <td>ACTIVE</td>\n",
       "      <td>per Annum</td>\n",
       "      <td>2085.72</td>\n",
       "      <td>54069.64</td>\n",
       "      <td>92.00</td>\n",
       "      <td>3430.14</td>\n",
       "      <td>8.80</td>\n",
       "    </tr>\n",
       "    <tr>\n",
       "      <th>1053066</th>\n",
       "      <td>2015</td>\n",
       "      <td>DISTRICT ATTORNEY-MANHATTAN</td>\n",
       "      <td>NaN</td>\n",
       "      <td>NaN</td>\n",
       "      <td>NaN</td>\n",
       "      <td>06/17/2013</td>\n",
       "      <td>RACKETS INVESTIGATOR</td>\n",
       "      <td>ACTIVE</td>\n",
       "      <td>per Annum</td>\n",
       "      <td>2062.15</td>\n",
       "      <td>44629.09</td>\n",
       "      <td>200.25</td>\n",
       "      <td>6284.13</td>\n",
       "      <td>906.31</td>\n",
       "    </tr>\n",
       "    <tr>\n",
       "      <th>1053516</th>\n",
       "      <td>2015</td>\n",
       "      <td>DISTRICT ATTORNEY-MANHATTAN</td>\n",
       "      <td>WADE</td>\n",
       "      <td>CHARLES</td>\n",
       "      <td>P</td>\n",
       "      <td>11/20/1979</td>\n",
       "      <td>PRINCIPAL ADMINISTRATIVE ASSOCIATE</td>\n",
       "      <td>ACTIVE</td>\n",
       "      <td>per Annum</td>\n",
       "      <td>1825.00</td>\n",
       "      <td>70755.51</td>\n",
       "      <td>0.00</td>\n",
       "      <td>0.00</td>\n",
       "      <td>4885.84</td>\n",
       "    </tr>\n",
       "    <tr>\n",
       "      <th>1053991</th>\n",
       "      <td>2015</td>\n",
       "      <td>ADMIN FOR CHILDREN'S SVCS</td>\n",
       "      <td>BAKARE</td>\n",
       "      <td>AJOKE</td>\n",
       "      <td>M</td>\n",
       "      <td>04/04/2005</td>\n",
       "      <td>PRINCIPAL ADMINISTRATIVE ASSOCIATE</td>\n",
       "      <td>ACTIVE</td>\n",
       "      <td>per Annum</td>\n",
       "      <td>1825.00</td>\n",
       "      <td>42083.44</td>\n",
       "      <td>0.00</td>\n",
       "      <td>0.00</td>\n",
       "      <td>3312.57</td>\n",
       "    </tr>\n",
       "  </tbody>\n",
       "</table>\n",
       "</div>"
      ],
      "text/plain": [
       "         Fiscal_Year                     Agency_Name Last_Name First_Name  \\\n",
       "1052443         2015  DISTRICT ATTORNEY-MANHATTAN          NaN        NaN   \n",
       "1052966         2015  DISTRICT ATTORNEY-MANHATTAN          NaN        NaN   \n",
       "1053066         2015  DISTRICT ATTORNEY-MANHATTAN          NaN        NaN   \n",
       "1053516         2015  DISTRICT ATTORNEY-MANHATTAN         WADE    CHARLES   \n",
       "1053991         2015  ADMIN FOR CHILDREN'S SVCS         BAKARE      AJOKE   \n",
       "\n",
       "        Mid_Init Agency_Start_Date                       Title_Description  \\\n",
       "1052443      NaN        12/06/1993  SUPERVISING RACKETS INVESTIGATOR         \n",
       "1052966      NaN        07/19/2010     SENIOR RACKETS INVESTIGATOR           \n",
       "1053066      NaN        06/17/2013     RACKETS INVESTIGATOR                  \n",
       "1053516        P        11/20/1979  PRINCIPAL ADMINISTRATIVE ASSOCIATE       \n",
       "1053991        M        04/04/2005  PRINCIPAL ADMINISTRATIVE ASSOCIATE       \n",
       "\n",
       "        Leave_Status_as_of_July_31   Pay_Basis  Regular_Hours  \\\n",
       "1052443                     ACTIVE   per Annum        2085.72   \n",
       "1052966                     ACTIVE   per Annum        2085.72   \n",
       "1053066                     ACTIVE   per Annum        2062.15   \n",
       "1053516                     ACTIVE   per Annum        1825.00   \n",
       "1053991                     ACTIVE   per Annum        1825.00   \n",
       "\n",
       "         Regular_Gross_Paid  OT_Hours  Total_OT_Paid  Total_Other_Pay  \n",
       "1052443            91028.86      6.50         433.23          1535.79  \n",
       "1052966            54069.64     92.00        3430.14             8.80  \n",
       "1053066            44629.09    200.25        6284.13           906.31  \n",
       "1053516            70755.51      0.00           0.00          4885.84  \n",
       "1053991            42083.44      0.00           0.00          3312.57  "
      ]
     },
     "execution_count": 73,
     "metadata": {},
     "output_type": "execute_result"
    }
   ],
   "source": [
    "nyc15.head()"
   ]
  },
  {
   "cell_type": "code",
   "execution_count": null,
   "metadata": {
    "collapsed": true
   },
   "outputs": [],
   "source": []
  },
  {
   "cell_type": "markdown",
   "metadata": {
    "collapsed": true
   },
   "source": [
    "## Comapring Departments and Job Titles"
   ]
  },
  {
   "cell_type": "code",
   "execution_count": 74,
   "metadata": {
    "collapsed": false
   },
   "outputs": [
    {
     "data": {
      "text/plain": [
       "Agency_Name\n",
       "HRA/DEPT OF SOCIAL SERVICES        16500\n",
       "DEPT OF ED PER DIEM TEACHERS       17376\n",
       "FIRE DEPARTMENT                    17380\n",
       "DEPT OF PARKS & RECREATION         24535\n",
       "DEPT OF ED HRLY SUPPORT STAFF      28083\n",
       "DEPT OF ED PARA PROFESSIONALS      32261\n",
       "BOARD OF ELECTION POLL WORKERS     32790\n",
       "DEPT OF ED PER SESSION TEACHER     93342\n",
       "DEPT OF ED PEDAGOGICAL            111857\n",
       "POLICE DEPARTMENT                 118528\n",
       "dtype: int64"
      ]
     },
     "execution_count": 74,
     "metadata": {},
     "output_type": "execute_result"
    }
   ],
   "source": [
    "nyc15.groupby('Agency_Name').size().sort_values().tail(10)"
   ]
  },
  {
   "cell_type": "code",
   "execution_count": 75,
   "metadata": {
    "collapsed": false
   },
   "outputs": [
    {
     "name": "stderr",
     "output_type": "stream",
     "text": [
      "C:\\ProgramData\\Anaconda3\\lib\\site-packages\\statsmodels\\nonparametric\\kdetools.py:20: VisibleDeprecationWarning: using a non-integer number instead of an integer will result in an error in the future\n",
      "  y = X[:m/2+1] + np.r_[0,X[m/2+1:],0]*1j\n"
     ]
    },
    {
     "data": {
      "text/plain": [
       "<matplotlib.axes._subplots.AxesSubplot at 0x153b0289f28>"
      ]
     },
     "execution_count": 75,
     "metadata": {},
     "output_type": "execute_result"
    },
    {
     "data": {
      "image/png": "[encoded data removed]",
      "text/plain": [
       "<matplotlib.figure.Figure at 0x153b0289908>"
      ]
     },
     "metadata": {},
     "output_type": "display_data"
    }
   ],
   "source": [
    "plt.figure(figsize = (12,6))\n",
    "plt.title(\"Histogram of Total Salary\")\n",
    "sns.distplot(nyc15['Regular_Gross_Paid'], color = 'darkblue')"
   ]
  },
  {
   "cell_type": "code",
   "execution_count": 76,
   "metadata": {
    "collapsed": false
   },
   "outputs": [
    {
     "data": {
      "text/plain": [
       "<matplotlib.axes._subplots.AxesSubplot at 0x153adf5a710>"
      ]
     },
     "execution_count": 76,
     "metadata": {},
     "output_type": "execute_result"
    },
    {
     "data": {
      "image/png": "[encoded data removed]",
      "text/plain": [
       "<matplotlib.figure.Figure at 0x153af98fa20>"
      ]
     },
     "metadata": {},
     "output_type": "display_data"
    }
   ],
   "source": [
    "nyc15.groupby('Leave_Status_as_of_July_31').size().plot(kind='bar')"
   ]
  },
  {
   "cell_type": "markdown",
   "metadata": {
    "collapsed": true
   },
   "source": [
    "http://matplotlib.org/gallery.html"
   ]
  },
  {
   "cell_type": "markdown",
   "metadata": {
    "collapsed": true
   },
   "source": [
    "How many employees per 'Agency Name'?"
   ]
  },
  {
   "cell_type": "code",
   "execution_count": 77,
   "metadata": {
    "collapsed": false
   },
   "outputs": [
    {
     "data": {
      "text/plain": [
       "Agency_Name\n",
       "DEPARTMENT OF JUVENILE JUSTICE         1\n",
       "BROOKLYN COMMUNITY BOARD #9            2\n",
       "BRONX COMMUNITY BOARD #6               2\n",
       "BRONX COMMUNITY BOARD #3               2\n",
       "BRONX COMMUNITY BOARD #1               2\n",
       "MANHATTAN COMMUNITY BOARD #4           3\n",
       "BROOKLYN COMMUNITY BOARD #13           3\n",
       "BROOKLYN COMMUNITY BOARD #14           3\n",
       "BROOKLYN COMMUNITY BOARD #15           3\n",
       "BROOKLYN COMMUNITY BOARD #16           3\n",
       "BROOKLYN COMMUNITY BOARD #18           3\n",
       "STATEN ISLAND COMMUNITY BD #1          3\n",
       "BROOKLYN COMMUNITY BOARD #11           3\n",
       "MANHATTAN COMMUNITY BOARD #12          3\n",
       "MANHATTAN COMMUNITY BOARD #11          3\n",
       "BROOKLYN COMMUNITY BOARD #6            3\n",
       "BROOKLYN COMMUNITY BOARD #7            3\n",
       "MANHATTAN COMMUNITY BOARD #10          3\n",
       "DISTRICTING COMMISSION                 3\n",
       "QUEENS COMMUNITY BOARD #9              3\n",
       "BROOKLYN COMMUNITY BOARD #2            3\n",
       "BROOKLYN COMMUNITY BOARD #3            3\n",
       "BROOKLYN COMMUNITY BOARD #10           3\n",
       "BRONX COMMUNITY BOARD #9               3\n",
       "QUEENS COMMUNITY BOARD #14             3\n",
       "QUEENS COMMUNITY BOARD #13             3\n",
       "QUEENS COMMUNITY BOARD #11             3\n",
       "QUEENS COMMUNITY BOARD #1              3\n",
       "BROOKLYN COMMUNITY BOARD #1            3\n",
       "MANHATTAN COMMUNITY BOARD #9           3\n",
       "                                   ...  \n",
       "Manhattan DA                        1622\n",
       "LAW DEPARTMENT                      1760\n",
       "COMMUNITY COLLEGE (HOSTOS)          1783\n",
       "DEPARTMENT OF FINANCE               2069\n",
       "HOUSING PRESERVATION & DVLPMNT      2225\n",
       "DEPT OF CITYWIDE ADMIN SVCS         2274\n",
       "DEPT. OF HOMELESS SERVICES          2275\n",
       "COMMUNITY COLLEGE (BRONX)           2789\n",
       "COMMUNITY COLLEGE (QUEENSBORO)      3250\n",
       "COMMUNITY COLLEGE (LAGUARDIA)       3813\n",
       "COMMUNITY COLLEGE (KINGSBORO)       4344\n",
       "COMMUNITY COLLEGE (MANHATTAN)       4622\n",
       "DEPARTMENT OF TRANSPORTATION        5213\n",
       "DEPT OF ENVIRONMENT PROTECTION      6392\n",
       "DEPT OF HEALTH/MENTAL HYGIENE       6398\n",
       "ADMIN FOR CHILDREN'S SVCS           6627\n",
       "DEPARTMENT OF CORRECTION           11135\n",
       "DEPARTMENT OF SANITATION           13509\n",
       "NYC HOUSING AUTHORITY              13627\n",
       "DEPT OF ED PER DIEM TEACHERS       13689\n",
       "DEPARTMENT OF EDUCATION ADMIN      13905\n",
       "HRA/DEPT OF SOCIAL SERVICES        14765\n",
       "DEPT OF PARKS & RECREATION         15120\n",
       "FIRE DEPARTMENT                    16555\n",
       "DEPT OF ED HRLY SUPPORT STAFF      23056\n",
       "DEPT OF ED PARA PROFESSIONALS      27556\n",
       "BOARD OF ELECTION POLL WORKERS     33241\n",
       "Police Department                  55619\n",
       "DEPT OF ED PER SESSION TEACHER     76334\n",
       "DEPT OF ED PEDAGOGICAL            100589\n",
       "dtype: int64"
      ]
     },
     "execution_count": 77,
     "metadata": {},
     "output_type": "execute_result"
    }
   ],
   "source": [
    "nyc14.groupby('Agency_Name').size().sort_values()"
   ]
  },
  {
   "cell_type": "markdown",
   "metadata": {
    "collapsed": true
   },
   "source": [
    "Are there any duplicate names in the dataset?"
   ]
  },
  {
   "cell_type": "code",
   "execution_count": null,
   "metadata": {
    "collapsed": true
   },
   "outputs": [],
   "source": []
  },
  {
   "cell_type": "markdown",
   "metadata": {},
   "source": [
    "What is the averge length of employement?"
   ]
  },
  {
   "cell_type": "code",
   "execution_count": null,
   "metadata": {
    "collapsed": false
   },
   "outputs": [],
   "source": [
    "nyc.Agency_Start_Date.mean()"
   ]
  },
  {
   "cell_type": "markdown",
   "metadata": {},
   "source": [
    " Which employee has been employed the longest?"
   ]
  },
  {
   "cell_type": "code",
   "execution_count": null,
   "metadata": {
    "collapsed": true
   },
   "outputs": [],
   "source": [
    "nyc.Agen"
   ]
  },
  {
   "cell_type": "markdown",
   "metadata": {},
   "source": [
    "What is the correlation between titles and salaries?"
   ]
  },
  {
   "cell_type": "code",
   "execution_count": null,
   "metadata": {
    "collapsed": true
   },
   "outputs": [],
   "source": []
  },
  {
   "cell_type": "markdown",
   "metadata": {},
   "source": [
    "What are the average hours worked?"
   ]
  },
  {
   "cell_type": "code",
   "execution_count": null,
   "metadata": {
    "collapsed": true
   },
   "outputs": [],
   "source": []
  },
  {
   "cell_type": "markdown",
   "metadata": {},
   "source": [
    "What is the avergae OT time worked?"
   ]
  },
  {
   "cell_type": "code",
   "execution_count": null,
   "metadata": {
    "collapsed": true
   },
   "outputs": [],
   "source": []
  },
  {
   "cell_type": "markdown",
   "metadata": {},
   "source": [
    "What is the total OT paid?"
   ]
  },
  {
   "cell_type": "code",
   "execution_count": null,
   "metadata": {
    "collapsed": true
   },
   "outputs": [],
   "source": []
  },
  {
   "cell_type": "markdown",
   "metadata": {},
   "source": [
    "How have salaries changed between the years?"
   ]
  },
  {
   "cell_type": "code",
   "execution_count": null,
   "metadata": {
    "collapsed": true
   },
   "outputs": [],
   "source": []
  },
  {
   "cell_type": "markdown",
   "metadata": {},
   "source": [
    "How have hours worked changed between the years?"
   ]
  },
  {
   "cell_type": "code",
   "execution_count": null,
   "metadata": {
    "collapsed": true
   },
   "outputs": [],
   "source": []
  },
  {
   "cell_type": "markdown",
   "metadata": {},
   "source": [
    "Can we split the dataset between males and females?"
   ]
  },
  {
   "cell_type": "code",
   "execution_count": null,
   "metadata": {
    "collapsed": true
   },
   "outputs": [],
   "source": [
    "# Try to use https://www.gender-api.com"
   ]
  },
  {
   "cell_type": "markdown",
   "metadata": {},
   "source": [
    "Can you make a bar plot or a histogram?"
   ]
  },
  {
   "cell_type": "code",
   "execution_count": null,
   "metadata": {
    "collapsed": true
   },
   "outputs": [],
   "source": []
  },
  {
   "cell_type": "markdown",
   "metadata": {},
   "source": [
    "Can you compare two related quantities?"
   ]
  },
  {
   "cell_type": "code",
   "execution_count": null,
   "metadata": {
    "collapsed": true
   },
   "outputs": [],
   "source": []
  },
  {
   "cell_type": "markdown",
   "metadata": {},
   "source": [
    "Can you make a scatterplot?"
   ]
  },
  {
   "cell_type": "code",
   "execution_count": null,
   "metadata": {
    "collapsed": true
   },
   "outputs": [],
   "source": []
  },
  {
   "cell_type": "markdown",
   "metadata": {},
   "source": [
    "Can you make a time-series plot?"
   ]
  },
  {
   "cell_type": "code",
   "execution_count": null,
   "metadata": {
    "collapsed": true
   },
   "outputs": [],
   "source": []
  },
  {
   "cell_type": "markdown",
   "metadata": {},
   "source": [
    "### Having made these plots, what are some insights you get from them? Do you see any correlations? Is there a hypothesis you would like to investigate further? What other questions do they lead you to ask?"
   ]
  },
  {
   "cell_type": "code",
   "execution_count": null,
   "metadata": {
    "collapsed": true
   },
   "outputs": [],
   "source": []
  },
  {
   "cell_type": "markdown",
   "metadata": {},
   "source": [
    "### By now you’ve asked a bunch of questions, and found some neat insights. Is there an interesting narrative, a way of presenting the insights using text and plots from the above, that tells a compelling story? As you work out this story, what are some other trends/relationships you think will make it more complete?"
   ]
  },
  {
   "cell_type": "code",
   "execution_count": null,
   "metadata": {
    "collapsed": true
   },
   "outputs": [],
   "source": []
  },
  {
   "cell_type": "code",
   "execution_count": null,
   "metadata": {
    "collapsed": true
   },
   "outputs": [],
   "source": []
  },
  {
   "cell_type": "code",
   "execution_count": null,
   "metadata": {
    "collapsed": true
   },
   "outputs": [],
   "source": []
  }
 ],
 "metadata": {
  "kernelspec": {
   "display_name": "Python 3",
   "language": "python",
   "name": "python3"
  },
  "language_info": {
   "codemirror_mode": {
    "name": "ipython",
    "version": 3
   },
   "file_extension": ".py",
   "mimetype": "text/x-python",
   "name": "python",
   "nbconvert_exporter": "python",
   "pygments_lexer": "ipython3",
   "version": "3.6.0"
  }
 },
 "nbformat": 4,
 "nbformat_minor": 2
}
