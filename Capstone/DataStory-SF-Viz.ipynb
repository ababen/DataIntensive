{
 "cells": [
  {
   "cell_type": "code",
   "execution_count": 1,
   "metadata": {
    "collapsed": true,
    "deletable": true,
    "editable": true
   },
   "outputs": [],
   "source": [
    "import pandas as pd\n",
    "import numpy as np"
   ]
  },
  {
   "cell_type": "code",
   "execution_count": 2,
   "metadata": {
    "collapsed": false,
    "deletable": true,
    "editable": true
   },
   "outputs": [],
   "source": [
    "# pd.set_option('precision',2)\n",
    "\n",
    "import pandas as pd\n",
    "import locale\n",
    "\n",
    "# locale.setlocale( locale.LC_ALL, 'English_United States.1252')\n",
    "# locale._override_localeconv = {'n_sign_posn':1}"
   ]
  },
  {
   "cell_type": "code",
   "execution_count": 60,
   "metadata": {
    "collapsed": false,
    "deletable": true,
    "editable": true
   },
   "outputs": [],
   "source": [
    "get_ipython().magic('matplotlib inline')\n",
    "import matplotlib.pylab as plt\n",
    "import seaborn as sns\n",
    "# import ggplot as gg\n",
    "# from ggplot import *\n",
    "import bokeh as bkh\n",
    "from bokeh.layouts import row\n",
    "from bokeh.plotting import figure, show, output_file"
   ]
  },
  {
   "cell_type": "code",
   "execution_count": 4,
   "metadata": {
    "collapsed": false,
    "deletable": true,
    "editable": true
   },
   "outputs": [],
   "source": [
    "# dataset from https://www.kaggle.com/kaggle/sf-salaries\n",
    "# sf2014\n",
    "sf = pd.read_csv('data/sf-salaries/Salaries.csv', usecols=[0,1,2,3,4,5,6,7,9,11,12], dtype={3: object, 4: object, 5: object, 6: object, 12: object}, na_values=['Not Provided', 'Not provided', 'not provided'])\n",
    "\n",
    "# dataset from http://transparentcalifornia.com/salaries/2015/san-francisco/\n",
    "# sf2015 = pd.read_csv('data/sf-salaries/san-francisco-2015.csv')\n",
    "\n",
    "#### na_values=['Not Provided', 'Not provided', 'not provided']"
   ]
  },
  {
   "cell_type": "code",
   "execution_count": 5,
   "metadata": {
    "collapsed": false,
    "deletable": true,
    "editable": true
   },
   "outputs": [],
   "source": [
    "# Combine the 2011-2014 dataset with 2015\n",
    "# sf = pd.concat([sf2014, sf2015], ignore_index=True)"
   ]
  },
  {
   "cell_type": "markdown",
   "metadata": {
    "deletable": true,
    "editable": true
   },
   "source": [
    "\n",
    "## Defination of the columns:\n",
    "\n",
    "### Numeric (needs conversion to numeric):\n",
    "##### 1. BasePay, OvertimePay, OtherPay, Benefits, TotalPay\n",
    "\n",
    "### Categorical:\n",
    "##### 1. Id, EmployeeName, JobTitle, Agency, Status\n"
   ]
  },
  {
   "cell_type": "code",
   "execution_count": 6,
   "metadata": {
    "collapsed": false,
    "deletable": true,
    "editable": true
   },
   "outputs": [],
   "source": [
    "# sf2014.head()\n",
    "\n",
    "### MENTOR ### Notice that the *sf 2011-2014\" doesnt not have $ in TotalPay"
   ]
  },
  {
   "cell_type": "code",
   "execution_count": 7,
   "metadata": {
    "collapsed": false,
    "deletable": true,
    "editable": true,
    "scrolled": true
   },
   "outputs": [],
   "source": [
    "# sf2015.head()\n",
    "\n",
    "### MENTOR ### Notice that the *sf 2015\" doesnt not have $ in TotalPay"
   ]
  },
  {
   "cell_type": "markdown",
   "metadata": {
    "deletable": true,
    "editable": true
   },
   "source": [
    "## Starting Analysis"
   ]
  },
  {
   "cell_type": "markdown",
   "metadata": {
    "deletable": true,
    "editable": true
   },
   "source": [
    "* Agency - Represents a region in the larger datasets.\n",
    "* BasePay - The base rate of pay for a job or activity, excluding additional payments such as overtime or bonuses.\n",
    "* Benefits - Employees pension plan, free health insurance, and other benefits.\n",
    "* EmployeeName - Full Name (we can try to use this to analyze gender discrimination)\n",
    "* Id - Original order of employees from sf2014 dataset, field does not exist in sf 2015\n",
    "* JobTitle - Employee position held. (There seem to be differences in naming between datasets.)\n",
    "* Notes - Empty\n",
    "* OtherPay - Not sure but I would imagine Bonuses or other 'special' benefits. Could include personal flights on public aircrafts.\n",
    "* OvertimePay - Time paid at California's's 1.5x base pay for over time.\n",
    "* Status - Classification as FT (Full Time) or PT (Part Time) employee. Only tracked after 2013.\n",
    "* TotalPay - BasePay + OvertimePay + OtherPay\n",
    "* Year - Payroll year"
   ]
  },
  {
   "cell_type": "code",
   "execution_count": 235,
   "metadata": {
    "collapsed": false,
    "deletable": true,
    "editable": true
   },
   "outputs": [
    {
     "data": {
      "text/html": [
       "<div>\n",
       "<table border=\"1\" class=\"dataframe\">\n",
       "  <thead>\n",
       "    <tr style=\"text-align: right;\">\n",
       "      <th></th>\n",
       "      <th>Id</th>\n",
       "      <th>EmployeeName</th>\n",
       "      <th>JobTitle</th>\n",
       "      <th>BasePay</th>\n",
       "      <th>OvertimePay</th>\n",
       "      <th>OtherPay</th>\n",
       "      <th>Benefits</th>\n",
       "      <th>TotalPay</th>\n",
       "      <th>Year</th>\n",
       "      <th>Status</th>\n",
       "      <th>Department</th>\n",
       "      <th>FirstName</th>\n",
       "    </tr>\n",
       "  </thead>\n",
       "  <tbody>\n",
       "    <tr>\n",
       "      <th>1</th>\n",
       "      <td>2</td>\n",
       "      <td>GARY JIMENEZ</td>\n",
       "      <td>CAPTAIN III (POLICE DEPARTMENT)</td>\n",
       "      <td>155966.02</td>\n",
       "      <td>245131.88</td>\n",
       "      <td>137811.38</td>\n",
       "      <td>NaN</td>\n",
       "      <td>538909.28</td>\n",
       "      <td>2011</td>\n",
       "      <td>Unknown</td>\n",
       "      <td>POLICE</td>\n",
       "      <td>GARY</td>\n",
       "    </tr>\n",
       "    <tr>\n",
       "      <th>2</th>\n",
       "      <td>3</td>\n",
       "      <td>ALBERT PARDINI</td>\n",
       "      <td>CAPTAIN III (POLICE DEPARTMENT)</td>\n",
       "      <td>212739.13</td>\n",
       "      <td>106088.18</td>\n",
       "      <td>16452.60</td>\n",
       "      <td>NaN</td>\n",
       "      <td>335279.91</td>\n",
       "      <td>2011</td>\n",
       "      <td>Unknown</td>\n",
       "      <td>POLICE</td>\n",
       "      <td>ALBERT</td>\n",
       "    </tr>\n",
       "    <tr>\n",
       "      <th>3</th>\n",
       "      <td>4</td>\n",
       "      <td>CHRISTOPHER CHONG</td>\n",
       "      <td>WIRE ROPE CABLE MAINTENANCE MECHANIC</td>\n",
       "      <td>77916.00</td>\n",
       "      <td>56120.71</td>\n",
       "      <td>198306.90</td>\n",
       "      <td>NaN</td>\n",
       "      <td>332343.61</td>\n",
       "      <td>2011</td>\n",
       "      <td>Unknown</td>\n",
       "      <td></td>\n",
       "      <td>CHRISTOPHER</td>\n",
       "    </tr>\n",
       "    <tr>\n",
       "      <th>4</th>\n",
       "      <td>5</td>\n",
       "      <td>PATRICK GARDNER</td>\n",
       "      <td>DEPUTY CHIEF OF DEPARTMENT,(FIRE DEPARTMENT)</td>\n",
       "      <td>134401.60</td>\n",
       "      <td>9737.00</td>\n",
       "      <td>182234.59</td>\n",
       "      <td>NaN</td>\n",
       "      <td>326373.19</td>\n",
       "      <td>2011</td>\n",
       "      <td>Unknown</td>\n",
       "      <td>FIRE</td>\n",
       "      <td>PATRICK</td>\n",
       "    </tr>\n",
       "    <tr>\n",
       "      <th>5</th>\n",
       "      <td>6</td>\n",
       "      <td>DAVID SULLIVAN</td>\n",
       "      <td>ASSISTANT DEPUTY CHIEF II</td>\n",
       "      <td>118602.00</td>\n",
       "      <td>8601.00</td>\n",
       "      <td>189082.74</td>\n",
       "      <td>NaN</td>\n",
       "      <td>316285.74</td>\n",
       "      <td>2011</td>\n",
       "      <td>Unknown</td>\n",
       "      <td></td>\n",
       "      <td>DAVID</td>\n",
       "    </tr>\n",
       "  </tbody>\n",
       "</table>\n",
       "</div>"
      ],
      "text/plain": [
       "   Id       EmployeeName                                      JobTitle  \\\n",
       "1   2       GARY JIMENEZ               CAPTAIN III (POLICE DEPARTMENT)   \n",
       "2   3     ALBERT PARDINI               CAPTAIN III (POLICE DEPARTMENT)   \n",
       "3   4  CHRISTOPHER CHONG          WIRE ROPE CABLE MAINTENANCE MECHANIC   \n",
       "4   5    PATRICK GARDNER  DEPUTY CHIEF OF DEPARTMENT,(FIRE DEPARTMENT)   \n",
       "5   6     DAVID SULLIVAN                     ASSISTANT DEPUTY CHIEF II   \n",
       "\n",
       "     BasePay  OvertimePay   OtherPay  Benefits   TotalPay  Year   Status  \\\n",
       "1  155966.02    245131.88  137811.38       NaN  538909.28  2011  Unknown   \n",
       "2  212739.13    106088.18   16452.60       NaN  335279.91  2011  Unknown   \n",
       "3   77916.00     56120.71  198306.90       NaN  332343.61  2011  Unknown   \n",
       "4  134401.60      9737.00  182234.59       NaN  326373.19  2011  Unknown   \n",
       "5  118602.00      8601.00  189082.74       NaN  316285.74  2011  Unknown   \n",
       "\n",
       "  Department    FirstName  \n",
       "1     POLICE         GARY  \n",
       "2     POLICE       ALBERT  \n",
       "3             CHRISTOPHER  \n",
       "4       FIRE      PATRICK  \n",
       "5                   DAVID  "
      ]
     },
     "execution_count": 235,
     "metadata": {},
     "output_type": "execute_result"
    }
   ],
   "source": [
    "sf.head()"
   ]
  },
  {
   "cell_type": "code",
   "execution_count": 8,
   "metadata": {
    "collapsed": false,
    "deletable": true,
    "editable": true
   },
   "outputs": [
    {
     "data": {
      "text/plain": [
       "Id                   0\n",
       "EmployeeName         6\n",
       "JobTitle             4\n",
       "BasePay            609\n",
       "OvertimePay          4\n",
       "OtherPay             4\n",
       "Benefits         36163\n",
       "TotalPay             0\n",
       "Year                 0\n",
       "Agency               0\n",
       "Status          110535\n",
       "dtype: int64"
      ]
     },
     "execution_count": 8,
     "metadata": {},
     "output_type": "execute_result"
    }
   ],
   "source": [
    "sf.isnull().sum()"
   ]
  },
  {
   "cell_type": "code",
   "execution_count": 9,
   "metadata": {
    "collapsed": false,
    "deletable": true,
    "editable": true
   },
   "outputs": [
    {
     "data": {
      "text/plain": [
       "array(['San Francisco'], dtype=object)"
      ]
     },
     "execution_count": 9,
     "metadata": {},
     "output_type": "execute_result"
    }
   ],
   "source": [
    "sf.Agency.unique()"
   ]
  },
  {
   "cell_type": "markdown",
   "metadata": {
    "deletable": true,
    "editable": true
   },
   "source": [
    "Since the Agency field only contains one unique value, I will remove the field. Notices field is null."
   ]
  },
  {
   "cell_type": "code",
   "execution_count": 10,
   "metadata": {
    "collapsed": false,
    "deletable": true,
    "editable": true
   },
   "outputs": [],
   "source": [
    "# del sf['Notes']\n",
    "\n",
    "# Here is another way of dropping a field.\n",
    "\n",
    "sf.drop(['Agency'], axis=1, inplace=True)"
   ]
  },
  {
   "cell_type": "markdown",
   "metadata": {
    "deletable": true,
    "editable": true
   },
   "source": [
    "Here I am going to do basic data standardization and cleaning so that it is easier to work with this dataset."
   ]
  },
  {
   "cell_type": "code",
   "execution_count": 11,
   "metadata": {
    "collapsed": true,
    "deletable": true,
    "editable": true
   },
   "outputs": [],
   "source": [
    "# I am also going to delete any observation where JobTitle is 'Not provided' so that the field can be indexed\n",
    "sf = sf[sf.JobTitle.notnull()]\n",
    "\n",
    "# Filling in 'Benefits' if NaN, fill with 0\n",
    "sf['Benefits'].fillna(0, inplace=True)\n",
    "\n",
    "# Replace NaN status with \"Unknown\", since we don't know if its FT or PT work, easier categorization later.\n",
    "# sf['Status'].fillna(\"Unknown\", inplace=True)\n",
    "\n",
    "# Convert all JobTitle to upper-case character so there is no differentiation in data.\n",
    "sf['JobTitle'] = sf.JobTitle.str.upper()\n",
    "\n",
    "# Convert all EmployeeName to upper-case character so there is no differentiation in data. \n",
    "# Note: I noticed in pivots duplicate entries if the letter is not standardized.\n",
    "sf['EmployeeName'] = sf.EmployeeName.str.upper()"
   ]
  },
  {
   "cell_type": "code",
   "execution_count": 33,
   "metadata": {
    "collapsed": false,
    "deletable": true,
    "editable": true
   },
   "outputs": [
    {
     "data": {
      "text/plain": [
       "Id                0\n",
       "EmployeeName      2\n",
       "JobTitle          0\n",
       "BasePay         605\n",
       "OvertimePay       0\n",
       "OtherPay          0\n",
       "Benefits          0\n",
       "TotalPay          0\n",
       "Year              0\n",
       "Status            0\n",
       "dtype: int64"
      ]
     },
     "execution_count": 33,
     "metadata": {},
     "output_type": "execute_result"
    }
   ],
   "source": [
    "# Much cleaner now\n",
    "sf.isnull().sum()"
   ]
  },
  {
   "cell_type": "markdown",
   "metadata": {
    "deletable": true,
    "editable": true
   },
   "source": [
    "NOTE: From reading on the website (where I pulled the dataset) I already saw that there records with zero BasePay, but instead amounts appear in OtherPay and TotalPay, thus 605 null BasePay records does not suprise me."
   ]
  },
  {
   "cell_type": "code",
   "execution_count": null,
   "metadata": {
    "collapsed": true,
    "deletable": true,
    "editable": true
   },
   "outputs": [],
   "source": []
  },
  {
   "cell_type": "code",
   "execution_count": 16,
   "metadata": {
    "collapsed": false,
    "deletable": true,
    "editable": true
   },
   "outputs": [
    {
     "data": {
      "text/plain": [
       "Id                int64\n",
       "EmployeeName     object\n",
       "JobTitle         object\n",
       "BasePay          object\n",
       "OvertimePay      object\n",
       "OtherPay         object\n",
       "Benefits         object\n",
       "TotalPay        float64\n",
       "Year              int64\n",
       "Status           object\n",
       "dtype: object"
      ]
     },
     "execution_count": 16,
     "metadata": {},
     "output_type": "execute_result"
    }
   ],
   "source": [
    "sf.dtypes"
   ]
  },
  {
   "cell_type": "markdown",
   "metadata": {
    "deletable": true,
    "editable": true
   },
   "source": [
    "Now we need to convert BasePay, OvertimePay, OtherPay, Benefits to a numeric field."
   ]
  },
  {
   "cell_type": "code",
   "execution_count": 14,
   "metadata": {
    "collapsed": false,
    "deletable": true,
    "editable": true
   },
   "outputs": [],
   "source": [
    "sf.BasePay = sf.BasePay.str.lstrip('$')\n",
    "sf.OtherPay = sf.OtherPay.str.lstrip('$')\n",
    "sf.OvertimePay = sf.OvertimePay.str.lstrip('$')\n",
    "# sf.TotalPay = sf.TotalPay.str.lstrip('$')\n",
    "sf.Benefits = sf.Benefits.str.lstrip('$')"
   ]
  },
  {
   "cell_type": "code",
   "execution_count": 15,
   "metadata": {
    "collapsed": false,
    "deletable": true,
    "editable": true
   },
   "outputs": [],
   "source": [
    "sf.BasePay = sf.BasePay.str.replace(',','')\n",
    "sf.OtherPay = sf.OtherPay.str.replace(',','')\n",
    "sf.OvertimePay = sf.OvertimePay.str.replace(',','')\n",
    "# sf.TotalPay = sf.TotalPay.str.replace(',','')\n",
    "sf.Benefits = sf.Benefits.str.replace(',','')"
   ]
  },
  {
   "cell_type": "code",
   "execution_count": 17,
   "metadata": {
    "collapsed": false,
    "deletable": true,
    "editable": true
   },
   "outputs": [],
   "source": [
    "sf.BasePay = pd.to_numeric(sf.BasePay)\n",
    "sf.OvertimePay = pd.to_numeric(sf['OvertimePay'])\n",
    "sf.OtherPay = pd.to_numeric(sf['OtherPay'])\n",
    "sf.Benefits = pd.to_numeric(sf['Benefits'])\n",
    "sf.TotalPay = pd.to_numeric(sf['TotalPay'])\n",
    "\n",
    "\n",
    "\n",
    "# sf['BasePay'] = pd.to_numeric(sf['BasePay'])\n",
    "# sf['OvertimePay'] = pd.to_numeric(sf['OvertimePay'])\n",
    "# sf['OtherPay'] = pd.to_numeric(sf['OtherPay'])\n",
    "# sf['Benefits'] = pd.to_numeric(sf['Benefits'])\n",
    "# sf['TotalPay'] = pd.to_numeric(sf['TotalPay'])"
   ]
  },
  {
   "cell_type": "code",
   "execution_count": null,
   "metadata": {
    "collapsed": false,
    "deletable": true,
    "editable": true
   },
   "outputs": [],
   "source": []
  },
  {
   "cell_type": "code",
   "execution_count": 20,
   "metadata": {
    "collapsed": false,
    "deletable": true,
    "editable": true
   },
   "outputs": [
    {
     "data": {
      "text/plain": [
       "Id                int64\n",
       "EmployeeName     object\n",
       "JobTitle         object\n",
       "BasePay         float64\n",
       "OvertimePay     float64\n",
       "OtherPay        float64\n",
       "Benefits        float64\n",
       "TotalPay        float64\n",
       "Year              int64\n",
       "Status           object\n",
       "dtype: object"
      ]
     },
     "execution_count": 20,
     "metadata": {},
     "output_type": "execute_result"
    }
   ],
   "source": [
    "sf.dtypes"
   ]
  },
  {
   "cell_type": "markdown",
   "metadata": {
    "deletable": true,
    "editable": true
   },
   "source": [
    "Above we can see that the we properly converted the fields to numeric. Now we can do calculations on numeric fields."
   ]
  },
  {
   "cell_type": "code",
   "execution_count": 21,
   "metadata": {
    "collapsed": false,
    "deletable": true,
    "editable": true
   },
   "outputs": [
    {
     "data": {
      "text/html": [
       "<div>\n",
       "<table border=\"1\" class=\"dataframe\">\n",
       "  <thead>\n",
       "    <tr style=\"text-align: right;\">\n",
       "      <th></th>\n",
       "      <th>Id</th>\n",
       "      <th>BasePay</th>\n",
       "      <th>OvertimePay</th>\n",
       "      <th>OtherPay</th>\n",
       "      <th>Benefits</th>\n",
       "      <th>TotalPay</th>\n",
       "      <th>Year</th>\n",
       "    </tr>\n",
       "  </thead>\n",
       "  <tbody>\n",
       "    <tr>\n",
       "      <th>count</th>\n",
       "      <td>148650.000000</td>\n",
       "      <td>148045.000000</td>\n",
       "      <td>148650.000000</td>\n",
       "      <td>148650.000000</td>\n",
       "      <td>112491.000000</td>\n",
       "      <td>148650.000000</td>\n",
       "      <td>148650.000000</td>\n",
       "    </tr>\n",
       "    <tr>\n",
       "      <th>mean</th>\n",
       "      <td>74325.500047</td>\n",
       "      <td>66325.448841</td>\n",
       "      <td>5066.059886</td>\n",
       "      <td>3648.767297</td>\n",
       "      <td>25007.893151</td>\n",
       "      <td>74770.333901</td>\n",
       "      <td>2012.522603</td>\n",
       "    </tr>\n",
       "    <tr>\n",
       "      <th>std</th>\n",
       "      <td>42911.703176</td>\n",
       "      <td>42764.635495</td>\n",
       "      <td>11454.380559</td>\n",
       "      <td>8056.601866</td>\n",
       "      <td>15402.215858</td>\n",
       "      <td>50516.196009</td>\n",
       "      <td>1.117526</td>\n",
       "    </tr>\n",
       "    <tr>\n",
       "      <th>min</th>\n",
       "      <td>1.000000</td>\n",
       "      <td>-166.010000</td>\n",
       "      <td>-0.010000</td>\n",
       "      <td>-7058.590000</td>\n",
       "      <td>-33.890000</td>\n",
       "      <td>-618.130000</td>\n",
       "      <td>2011.000000</td>\n",
       "    </tr>\n",
       "    <tr>\n",
       "      <th>25%</th>\n",
       "      <td>37163.250000</td>\n",
       "      <td>33588.200000</td>\n",
       "      <td>0.000000</td>\n",
       "      <td>0.000000</td>\n",
       "      <td>11535.395000</td>\n",
       "      <td>36169.955000</td>\n",
       "      <td>2012.000000</td>\n",
       "    </tr>\n",
       "    <tr>\n",
       "      <th>50%</th>\n",
       "      <td>74325.500000</td>\n",
       "      <td>65007.450000</td>\n",
       "      <td>0.000000</td>\n",
       "      <td>811.270000</td>\n",
       "      <td>28628.620000</td>\n",
       "      <td>71427.240000</td>\n",
       "      <td>2013.000000</td>\n",
       "    </tr>\n",
       "    <tr>\n",
       "      <th>75%</th>\n",
       "      <td>111487.750000</td>\n",
       "      <td>94691.050000</td>\n",
       "      <td>4658.175000</td>\n",
       "      <td>4236.065000</td>\n",
       "      <td>35566.855000</td>\n",
       "      <td>105842.960000</td>\n",
       "      <td>2014.000000</td>\n",
       "    </tr>\n",
       "    <tr>\n",
       "      <th>max</th>\n",
       "      <td>148654.000000</td>\n",
       "      <td>319275.010000</td>\n",
       "      <td>245131.880000</td>\n",
       "      <td>400184.250000</td>\n",
       "      <td>96570.660000</td>\n",
       "      <td>567595.430000</td>\n",
       "      <td>2014.000000</td>\n",
       "    </tr>\n",
       "  </tbody>\n",
       "</table>\n",
       "</div>"
      ],
      "text/plain": [
       "                  Id        BasePay    OvertimePay       OtherPay  \\\n",
       "count  148650.000000  148045.000000  148650.000000  148650.000000   \n",
       "mean    74325.500047   66325.448841    5066.059886    3648.767297   \n",
       "std     42911.703176   42764.635495   11454.380559    8056.601866   \n",
       "min         1.000000    -166.010000      -0.010000   -7058.590000   \n",
       "25%     37163.250000   33588.200000       0.000000       0.000000   \n",
       "50%     74325.500000   65007.450000       0.000000     811.270000   \n",
       "75%    111487.750000   94691.050000    4658.175000    4236.065000   \n",
       "max    148654.000000  319275.010000  245131.880000  400184.250000   \n",
       "\n",
       "            Benefits       TotalPay           Year  \n",
       "count  112491.000000  148650.000000  148650.000000  \n",
       "mean    25007.893151   74770.333901    2012.522603  \n",
       "std     15402.215858   50516.196009       1.117526  \n",
       "min       -33.890000    -618.130000    2011.000000  \n",
       "25%     11535.395000   36169.955000    2012.000000  \n",
       "50%     28628.620000   71427.240000    2013.000000  \n",
       "75%     35566.855000  105842.960000    2014.000000  \n",
       "max     96570.660000  567595.430000    2014.000000  "
      ]
     },
     "execution_count": 21,
     "metadata": {},
     "output_type": "execute_result"
    }
   ],
   "source": [
    "sf.describe()"
   ]
  },
  {
   "cell_type": "markdown",
   "metadata": {
    "deletable": true,
    "editable": true
   },
   "source": [
    "We see that there is some cleaning to do:\n",
    "1. Remove negative salaries\n",
    "2. There is some data with null values based on count values"
   ]
  },
  {
   "cell_type": "code",
   "execution_count": 26,
   "metadata": {
    "collapsed": false,
    "deletable": true,
    "editable": true
   },
   "outputs": [],
   "source": [
    "sf = sf[sf.BasePay > 0]\n",
    "sf = sf[sf.OvertimePay > 0]\n",
    "sf = sf[sf.OtherPay > 0]\n",
    "sf = sf[sf.TotalPay > 0]"
   ]
  },
  {
   "cell_type": "code",
   "execution_count": 27,
   "metadata": {
    "collapsed": false,
    "deletable": true,
    "editable": true
   },
   "outputs": [
    {
     "data": {
      "text/html": [
       "<div>\n",
       "<table border=\"1\" class=\"dataframe\">\n",
       "  <thead>\n",
       "    <tr style=\"text-align: right;\">\n",
       "      <th></th>\n",
       "      <th>Id</th>\n",
       "      <th>BasePay</th>\n",
       "      <th>OvertimePay</th>\n",
       "      <th>OtherPay</th>\n",
       "      <th>Benefits</th>\n",
       "      <th>TotalPay</th>\n",
       "      <th>Year</th>\n",
       "    </tr>\n",
       "  </thead>\n",
       "  <tbody>\n",
       "    <tr>\n",
       "      <th>count</th>\n",
       "      <td>64311.000000</td>\n",
       "      <td>64311.000000</td>\n",
       "      <td>64311.000000</td>\n",
       "      <td>64311.000000</td>\n",
       "      <td>48581.000000</td>\n",
       "      <td>64311.000000</td>\n",
       "      <td>64311.000000</td>\n",
       "    </tr>\n",
       "    <tr>\n",
       "      <th>mean</th>\n",
       "      <td>69921.234625</td>\n",
       "      <td>77011.308739</td>\n",
       "      <td>11376.903410</td>\n",
       "      <td>6446.812667</td>\n",
       "      <td>30224.939495</td>\n",
       "      <td>94835.024816</td>\n",
       "      <td>2012.520098</td>\n",
       "    </tr>\n",
       "    <tr>\n",
       "      <th>std</th>\n",
       "      <td>42529.354846</td>\n",
       "      <td>33783.047127</td>\n",
       "      <td>15095.864216</td>\n",
       "      <td>9325.977115</td>\n",
       "      <td>10671.875772</td>\n",
       "      <td>46127.006918</td>\n",
       "      <td>1.120009</td>\n",
       "    </tr>\n",
       "    <tr>\n",
       "      <th>min</th>\n",
       "      <td>2.000000</td>\n",
       "      <td>31.360000</td>\n",
       "      <td>0.020000</td>\n",
       "      <td>0.590000</td>\n",
       "      <td>0.000000</td>\n",
       "      <td>192.430000</td>\n",
       "      <td>2011.000000</td>\n",
       "    </tr>\n",
       "    <tr>\n",
       "      <th>25%</th>\n",
       "      <td>36791.000000</td>\n",
       "      <td>55026.010000</td>\n",
       "      <td>2002.895000</td>\n",
       "      <td>1170.135000</td>\n",
       "      <td>26272.140000</td>\n",
       "      <td>62242.995000</td>\n",
       "      <td>2012.000000</td>\n",
       "    </tr>\n",
       "    <tr>\n",
       "      <th>50%</th>\n",
       "      <td>73703.000000</td>\n",
       "      <td>70547.000000</td>\n",
       "      <td>5798.180000</td>\n",
       "      <td>3739.980000</td>\n",
       "      <td>32154.360000</td>\n",
       "      <td>87419.480000</td>\n",
       "      <td>2013.000000</td>\n",
       "    </tr>\n",
       "    <tr>\n",
       "      <th>75%</th>\n",
       "      <td>111568.500000</td>\n",
       "      <td>104050.425000</td>\n",
       "      <td>14660.640000</td>\n",
       "      <td>8636.530000</td>\n",
       "      <td>37040.200000</td>\n",
       "      <td>125704.520000</td>\n",
       "      <td>2014.000000</td>\n",
       "    </tr>\n",
       "    <tr>\n",
       "      <th>max</th>\n",
       "      <td>147690.000000</td>\n",
       "      <td>318835.490000</td>\n",
       "      <td>245131.880000</td>\n",
       "      <td>203735.920000</td>\n",
       "      <td>89540.230000</td>\n",
       "      <td>538909.280000</td>\n",
       "      <td>2014.000000</td>\n",
       "    </tr>\n",
       "  </tbody>\n",
       "</table>\n",
       "</div>"
      ],
      "text/plain": [
       "                  Id        BasePay    OvertimePay       OtherPay  \\\n",
       "count   64311.000000   64311.000000   64311.000000   64311.000000   \n",
       "mean    69921.234625   77011.308739   11376.903410    6446.812667   \n",
       "std     42529.354846   33783.047127   15095.864216    9325.977115   \n",
       "min         2.000000      31.360000       0.020000       0.590000   \n",
       "25%     36791.000000   55026.010000    2002.895000    1170.135000   \n",
       "50%     73703.000000   70547.000000    5798.180000    3739.980000   \n",
       "75%    111568.500000  104050.425000   14660.640000    8636.530000   \n",
       "max    147690.000000  318835.490000  245131.880000  203735.920000   \n",
       "\n",
       "           Benefits       TotalPay          Year  \n",
       "count  48581.000000   64311.000000  64311.000000  \n",
       "mean   30224.939495   94835.024816   2012.520098  \n",
       "std    10671.875772   46127.006918      1.120009  \n",
       "min        0.000000     192.430000   2011.000000  \n",
       "25%    26272.140000   62242.995000   2012.000000  \n",
       "50%    32154.360000   87419.480000   2013.000000  \n",
       "75%    37040.200000  125704.520000   2014.000000  \n",
       "max    89540.230000  538909.280000   2014.000000  "
      ]
     },
     "execution_count": 27,
     "metadata": {},
     "output_type": "execute_result"
    }
   ],
   "source": [
    "sf.describe()"
   ]
  },
  {
   "cell_type": "code",
   "execution_count": 28,
   "metadata": {
    "collapsed": false,
    "deletable": true,
    "editable": true
   },
   "outputs": [
    {
     "name": "stdout",
     "output_type": "stream",
     "text": [
      "Min: 2011\n",
      "Max: 2014\n"
     ]
    }
   ],
   "source": [
    "# Min and max in the dataset\n",
    "print('Min:', sf.Year.min())\n",
    "print('Max:', sf.Year.max())"
   ]
  },
  {
   "cell_type": "markdown",
   "metadata": {
    "deletable": true,
    "editable": true
   },
   "source": [
    "It looks like we only have Status for year 2014"
   ]
  },
  {
   "cell_type": "code",
   "execution_count": 33,
   "metadata": {
    "collapsed": false,
    "deletable": true,
    "editable": true
   },
   "outputs": [
    {
     "data": {
      "text/html": [
       "<div>\n",
       "<table border=\"1\" class=\"dataframe\">\n",
       "  <thead>\n",
       "    <tr style=\"text-align: right;\">\n",
       "      <th>Year</th>\n",
       "      <th>2011</th>\n",
       "      <th>2012</th>\n",
       "      <th>2013</th>\n",
       "      <th>2014</th>\n",
       "    </tr>\n",
       "    <tr>\n",
       "      <th>Status</th>\n",
       "      <th></th>\n",
       "      <th></th>\n",
       "      <th></th>\n",
       "      <th></th>\n",
       "    </tr>\n",
       "  </thead>\n",
       "  <tbody>\n",
       "    <tr>\n",
       "      <th>FT</th>\n",
       "      <td>NaN</td>\n",
       "      <td>NaN</td>\n",
       "      <td>NaN</td>\n",
       "      <td>12166.0</td>\n",
       "    </tr>\n",
       "    <tr>\n",
       "      <th>PT</th>\n",
       "      <td>NaN</td>\n",
       "      <td>NaN</td>\n",
       "      <td>NaN</td>\n",
       "      <td>4414.0</td>\n",
       "    </tr>\n",
       "    <tr>\n",
       "      <th>Unknown</th>\n",
       "      <td>15730.0</td>\n",
       "      <td>15983.0</td>\n",
       "      <td>16018.0</td>\n",
       "      <td>NaN</td>\n",
       "    </tr>\n",
       "  </tbody>\n",
       "</table>\n",
       "</div>"
      ],
      "text/plain": [
       "Year        2011     2012     2013     2014\n",
       "Status                                     \n",
       "FT           NaN      NaN      NaN  12166.0\n",
       "PT           NaN      NaN      NaN   4414.0\n",
       "Unknown  15730.0  15983.0  16018.0      NaN"
      ]
     },
     "execution_count": 33,
     "metadata": {},
     "output_type": "execute_result"
    }
   ],
   "source": [
    "sf.groupby(['Year', 'Status']).size().unstack('Year')"
   ]
  },
  {
   "cell_type": "markdown",
   "metadata": {
    "deletable": true,
    "editable": true
   },
   "source": [
    "It looks like we only have the Status column for year 2014"
   ]
  },
  {
   "cell_type": "code",
   "execution_count": 34,
   "metadata": {
    "collapsed": false,
    "deletable": true,
    "editable": true
   },
   "outputs": [
    {
     "name": "stdout",
     "output_type": "stream",
     "text": [
      "2011 15730\n",
      "2012 15983\n",
      "2013 16018\n",
      "2014 16580\n"
     ]
    }
   ],
   "source": [
    "# Count records per year with a loop\n",
    "for y in range(min(sf.Year), max(sf.Year)+1):\n",
    "    print(y, (sf.Year == y).sum())"
   ]
  },
  {
   "cell_type": "code",
   "execution_count": 35,
   "metadata": {
    "collapsed": false,
    "deletable": true,
    "editable": true
   },
   "outputs": [
    {
     "data": {
      "text/html": [
       "<div>\n",
       "<table border=\"1\" class=\"dataframe\">\n",
       "  <thead>\n",
       "    <tr style=\"text-align: right;\">\n",
       "      <th></th>\n",
       "      <th>TotalPay</th>\n",
       "    </tr>\n",
       "    <tr>\n",
       "      <th>Year</th>\n",
       "      <th></th>\n",
       "    </tr>\n",
       "  </thead>\n",
       "  <tbody>\n",
       "    <tr>\n",
       "      <th>2011</th>\n",
       "      <td>90232.496779</td>\n",
       "    </tr>\n",
       "    <tr>\n",
       "      <th>2012</th>\n",
       "      <td>93837.444956</td>\n",
       "    </tr>\n",
       "    <tr>\n",
       "      <th>2013</th>\n",
       "      <td>99555.432217</td>\n",
       "    </tr>\n",
       "    <tr>\n",
       "      <th>2014</th>\n",
       "      <td>95602.853478</td>\n",
       "    </tr>\n",
       "  </tbody>\n",
       "</table>\n",
       "</div>"
      ],
      "text/plain": [
       "          TotalPay\n",
       "Year              \n",
       "2011  90232.496779\n",
       "2012  93837.444956\n",
       "2013  99555.432217\n",
       "2014  95602.853478"
      ]
     },
     "execution_count": 35,
     "metadata": {},
     "output_type": "execute_result"
    }
   ],
   "source": [
    "### MENTOR ### This used to work prior to data merge.\n",
    "\n",
    "# Average Paid by year\n",
    "sf[['Year', 'TotalPay']].groupby('Year').mean()"
   ]
  },
  {
   "cell_type": "code",
   "execution_count": 36,
   "metadata": {
    "collapsed": false,
    "deletable": true,
    "editable": true
   },
   "outputs": [
    {
     "name": "stdout",
     "output_type": "stream",
     "text": [
      "          TotalPay\n",
      "Year              \n",
      "2011  1.419357e+09\n",
      "2012  1.499804e+09\n",
      "2013  1.594679e+09\n",
      "2014  1.585095e+09\n",
      "(This is in billions)\n"
     ]
    }
   ],
   "source": [
    "print(sf[['Year', 'TotalPay']].groupby('Year').sum())\n",
    "print('(This is in billions)')"
   ]
  },
  {
   "cell_type": "code",
   "execution_count": 37,
   "metadata": {
    "collapsed": false,
    "deletable": true,
    "editable": true
   },
   "outputs": [
    {
     "name": "stdout",
     "output_type": "stream",
     "text": [
      "Total Paid in four years:\n"
     ]
    },
    {
     "data": {
      "text/plain": [
       "6098935280.970019"
      ]
     },
     "execution_count": 37,
     "metadata": {},
     "output_type": "execute_result"
    }
   ],
   "source": [
    "#Total paid to San Francisco city employees in years 2011 - 2014\n",
    "\n",
    "print('Total Paid in four years:')\n",
    "\n",
    "sf['TotalPay'].sum()"
   ]
  },
  {
   "cell_type": "code",
   "execution_count": 38,
   "metadata": {
    "collapsed": false,
    "deletable": true,
    "editable": true
   },
   "outputs": [
    {
     "data": {
      "text/plain": [
       "<matplotlib.axes._subplots.AxesSubplot at 0x275dc6919b0>"
      ]
     },
     "execution_count": 38,
     "metadata": {},
     "output_type": "execute_result"
    },
    {
     "data": {
      "image/png": "[encoded data removed]",
      "text/plain": [
       "<matplotlib.figure.Figure at 0x275e00b2470>"
      ]
     },
     "metadata": {},
     "output_type": "display_data"
    }
   ],
   "source": [
    "JobTitleCount = sf['JobTitle'].value_counts().head(10)\n",
    "JobTitleCount.plot(title = \"Top 10 Jobs by # of People Employed\", kind = 'bar')"
   ]
  },
  {
   "cell_type": "code",
   "execution_count": null,
   "metadata": {
    "collapsed": false,
    "deletable": true,
    "editable": true
   },
   "outputs": [],
   "source": []
  },
  {
   "cell_type": "code",
   "execution_count": 42,
   "metadata": {
    "collapsed": false,
    "deletable": true,
    "editable": true
   },
   "outputs": [
    {
     "data": {
      "image/png": "[encoded data removed]",
      "text/plain": [
       "<matplotlib.figure.Figure at 0x275e0b95358>"
      ]
     },
     "metadata": {},
     "output_type": "display_data"
    }
   ],
   "source": [
    "PayByYear = sns.FacetGrid(sf, size=20)\n",
    "                          \n",
    "                          #size=10, aspect=.5)\n",
    "PayByYear = PayByYear.map(sns.boxplot, \"TotalPay\")\n",
    "\n",
    "# If this tells us anything, is that there are some extreme outliers."
   ]
  },
  {
   "cell_type": "markdown",
   "metadata": {
    "collapsed": false,
    "deletable": true,
    "editable": true
   },
   "source": [
    "We can clearly see that there are some extreme outliers in this dataset.\n",
    "\n",
    "Lets seperate the \"High\" and \"Low\" earners to look at them in greater detail."
   ]
  },
  {
   "cell_type": "code",
   "execution_count": 43,
   "metadata": {
    "collapsed": false,
    "deletable": true,
    "editable": true
   },
   "outputs": [],
   "source": [
    "HighEarners = sf[sf.TotalPay > 300000]\n",
    "LowEarners = sf[sf.TotalPay < 4000]"
   ]
  },
  {
   "cell_type": "code",
   "execution_count": 44,
   "metadata": {
    "collapsed": false,
    "deletable": true,
    "editable": true
   },
   "outputs": [
    {
     "data": {
      "text/html": [
       "<div>\n",
       "<table border=\"1\" class=\"dataframe\">\n",
       "  <thead>\n",
       "    <tr style=\"text-align: right;\">\n",
       "      <th></th>\n",
       "      <th></th>\n",
       "      <th></th>\n",
       "      <th>TotalPay</th>\n",
       "    </tr>\n",
       "    <tr>\n",
       "      <th>JobTitle</th>\n",
       "      <th>EmployeeName</th>\n",
       "      <th>Year</th>\n",
       "      <th></th>\n",
       "    </tr>\n",
       "  </thead>\n",
       "  <tbody>\n",
       "    <tr>\n",
       "      <th>ASSISTANT DEPUTY CHIEF 2</th>\n",
       "      <th>MARK KEARNEY</th>\n",
       "      <th>2012</th>\n",
       "      <td>327689.78</td>\n",
       "    </tr>\n",
       "    <tr>\n",
       "      <th>ASSISTANT DEPUTY CHIEF II</th>\n",
       "      <th>DAVID SULLIVAN</th>\n",
       "      <th>2011</th>\n",
       "      <td>316285.74</td>\n",
       "    </tr>\n",
       "    <tr>\n",
       "      <th rowspan=\"4\" valign=\"top\">ASST CHF OF DEPT (FIRE DEPT)</th>\n",
       "      <th>DAVID FRANKLIN</th>\n",
       "      <th>2012</th>\n",
       "      <td>315728.77</td>\n",
       "    </tr>\n",
       "    <tr>\n",
       "      <th rowspan=\"2\" valign=\"top\">DAVID L FRANKLIN</th>\n",
       "      <th>2013</th>\n",
       "      <td>333888.32</td>\n",
       "    </tr>\n",
       "    <tr>\n",
       "      <th>2014</th>\n",
       "      <td>329390.54</td>\n",
       "    </tr>\n",
       "    <tr>\n",
       "      <th>THOMAS A SIRAGUSA</th>\n",
       "      <th>2013</th>\n",
       "      <td>324820.63</td>\n",
       "    </tr>\n",
       "    <tr>\n",
       "      <th rowspan=\"3\" valign=\"top\">ASST MED EXAMINER</th>\n",
       "      <th>AMY P HART</th>\n",
       "      <th>2014</th>\n",
       "      <td>390111.98</td>\n",
       "    </tr>\n",
       "    <tr>\n",
       "      <th rowspan=\"2\" valign=\"top\">ELLEN G MOFFATT</th>\n",
       "      <th>2013</th>\n",
       "      <td>335537.96</td>\n",
       "    </tr>\n",
       "    <tr>\n",
       "      <th>2014</th>\n",
       "      <td>344187.46</td>\n",
       "    </tr>\n",
       "    <tr>\n",
       "      <th rowspan=\"2\" valign=\"top\">BATTALION CHIEF, (FIRE DEPARTMENT)</th>\n",
       "      <th>ALSON LEE</th>\n",
       "      <th>2011</th>\n",
       "      <td>315981.05</td>\n",
       "    </tr>\n",
       "    <tr>\n",
       "      <th>MICHAEL MORRIS</th>\n",
       "      <th>2011</th>\n",
       "      <td>303427.55</td>\n",
       "    </tr>\n",
       "    <tr>\n",
       "      <th rowspan=\"9\" valign=\"top\">BATTALION CHIEF, FIRE SUPPRESS</th>\n",
       "      <th>BRENDAN A WARD</th>\n",
       "      <th>2013</th>\n",
       "      <td>313142.24</td>\n",
       "    </tr>\n",
       "    <tr>\n",
       "      <th rowspan=\"2\" valign=\"top\">BRYAN W RUBENSTEIN</th>\n",
       "      <th>2013</th>\n",
       "      <td>311000.86</td>\n",
       "    </tr>\n",
       "    <tr>\n",
       "      <th>2014</th>\n",
       "      <td>306117.53</td>\n",
       "    </tr>\n",
       "    <tr>\n",
       "      <th>JOSE L VELO</th>\n",
       "      <th>2014</th>\n",
       "      <td>307099.61</td>\n",
       "    </tr>\n",
       "    <tr>\n",
       "      <th>LORRIE A KALOS</th>\n",
       "      <th>2013</th>\n",
       "      <td>301697.70</td>\n",
       "    </tr>\n",
       "    <tr>\n",
       "      <th>MARK J JOHNSON</th>\n",
       "      <th>2013</th>\n",
       "      <td>311698.29</td>\n",
       "    </tr>\n",
       "    <tr>\n",
       "      <th>MARTY A ROSS</th>\n",
       "      <th>2013</th>\n",
       "      <td>312616.60</td>\n",
       "    </tr>\n",
       "    <tr>\n",
       "      <th>SAMSON  LAI</th>\n",
       "      <th>2013</th>\n",
       "      <td>347102.32</td>\n",
       "    </tr>\n",
       "    <tr>\n",
       "      <th>SAMSON LAI</th>\n",
       "      <th>2014</th>\n",
       "      <td>335484.96</td>\n",
       "    </tr>\n",
       "    <tr>\n",
       "      <th rowspan=\"4\" valign=\"top\">BATTLION CHIEF, FIRE SUPPRESSI</th>\n",
       "      <th>BRENDAN WARD</th>\n",
       "      <th>2012</th>\n",
       "      <td>321883.83</td>\n",
       "    </tr>\n",
       "    <tr>\n",
       "      <th>MARTY ROSS</th>\n",
       "      <th>2012</th>\n",
       "      <td>310968.31</td>\n",
       "    </tr>\n",
       "    <tr>\n",
       "      <th>RUDY CASTELLANOS</th>\n",
       "      <th>2012</th>\n",
       "      <td>316988.26</td>\n",
       "    </tr>\n",
       "    <tr>\n",
       "      <th>SAMSON LAI</th>\n",
       "      <th>2012</th>\n",
       "      <td>316214.00</td>\n",
       "    </tr>\n",
       "    <tr>\n",
       "      <th>CAPTAIN 3</th>\n",
       "      <th>JOHN EHRLICH</th>\n",
       "      <th>2012</th>\n",
       "      <td>303869.82</td>\n",
       "    </tr>\n",
       "    <tr>\n",
       "      <th rowspan=\"2\" valign=\"top\">CAPTAIN III (POLICE DEPARTMENT)</th>\n",
       "      <th>ALBERT PARDINI</th>\n",
       "      <th>2011</th>\n",
       "      <td>335279.91</td>\n",
       "    </tr>\n",
       "    <tr>\n",
       "      <th>GARY JIMENEZ</th>\n",
       "      <th>2011</th>\n",
       "      <td>538909.28</td>\n",
       "    </tr>\n",
       "    <tr>\n",
       "      <th rowspan=\"2\" valign=\"top\">CAPTAIN, FIRE SUPPRESSION</th>\n",
       "      <th>MICHAEL ROLOVICH</th>\n",
       "      <th>2012</th>\n",
       "      <td>302002.06</td>\n",
       "    </tr>\n",
       "    <tr>\n",
       "      <th>PHILIP STEVENS</th>\n",
       "      <th>2012</th>\n",
       "      <td>308669.82</td>\n",
       "    </tr>\n",
       "    <tr>\n",
       "      <th>DEPUTY CHIEF OF DEPARTMENT,(FIRE DEPARTMENT)</th>\n",
       "      <th>PATRICK GARDNER</th>\n",
       "      <th>2011</th>\n",
       "      <td>326373.19</td>\n",
       "    </tr>\n",
       "    <tr>\n",
       "      <th>DEPUTY SHERIFF</th>\n",
       "      <th>WHITNEY P YEE</th>\n",
       "      <th>2013</th>\n",
       "      <td>308434.84</td>\n",
       "    </tr>\n",
       "    <tr>\n",
       "      <th>ELECTRONIC MAINTENANCE TECH</th>\n",
       "      <th>KHOA TRINH</th>\n",
       "      <th>2012</th>\n",
       "      <td>336393.73</td>\n",
       "    </tr>\n",
       "    <tr>\n",
       "      <th>EMT/PARAMEDIC/FIREFIGHTER</th>\n",
       "      <th>FREDERICK BINKLEY</th>\n",
       "      <th>2012</th>\n",
       "      <td>337204.86</td>\n",
       "    </tr>\n",
       "    <tr>\n",
       "      <th rowspan=\"2\" valign=\"top\">LIEUTENANT, FIRE SUPPRESSION</th>\n",
       "      <th>GARY ALTENBERG</th>\n",
       "      <th>2012</th>\n",
       "      <td>362844.66</td>\n",
       "    </tr>\n",
       "    <tr>\n",
       "      <th>GARY L ALTENBERG</th>\n",
       "      <th>2013</th>\n",
       "      <td>320375.79</td>\n",
       "    </tr>\n",
       "    <tr>\n",
       "      <th>WIRE ROPE CABLE MAINTENANCE MECHANIC</th>\n",
       "      <th>CHRISTOPHER CHONG</th>\n",
       "      <th>2011</th>\n",
       "      <td>332343.61</td>\n",
       "    </tr>\n",
       "  </tbody>\n",
       "</table>\n",
       "</div>"
      ],
      "text/plain": [
       "                                                                       TotalPay\n",
       "JobTitle                                     EmployeeName       Year           \n",
       "ASSISTANT DEPUTY CHIEF 2                     MARK KEARNEY       2012  327689.78\n",
       "ASSISTANT DEPUTY CHIEF II                    DAVID SULLIVAN     2011  316285.74\n",
       "ASST CHF OF DEPT (FIRE DEPT)                 DAVID FRANKLIN     2012  315728.77\n",
       "                                             DAVID L FRANKLIN   2013  333888.32\n",
       "                                                                2014  329390.54\n",
       "                                             THOMAS A SIRAGUSA  2013  324820.63\n",
       "ASST MED EXAMINER                            AMY P HART         2014  390111.98\n",
       "                                             ELLEN G MOFFATT    2013  335537.96\n",
       "                                                                2014  344187.46\n",
       "BATTALION CHIEF, (FIRE DEPARTMENT)           ALSON LEE          2011  315981.05\n",
       "                                             MICHAEL MORRIS     2011  303427.55\n",
       "BATTALION CHIEF, FIRE SUPPRESS               BRENDAN A WARD     2013  313142.24\n",
       "                                             BRYAN W RUBENSTEIN 2013  311000.86\n",
       "                                                                2014  306117.53\n",
       "                                             JOSE L VELO        2014  307099.61\n",
       "                                             LORRIE A KALOS     2013  301697.70\n",
       "                                             MARK J JOHNSON     2013  311698.29\n",
       "                                             MARTY A ROSS       2013  312616.60\n",
       "                                             SAMSON  LAI        2013  347102.32\n",
       "                                             SAMSON LAI         2014  335484.96\n",
       "BATTLION CHIEF, FIRE SUPPRESSI               BRENDAN WARD       2012  321883.83\n",
       "                                             MARTY ROSS         2012  310968.31\n",
       "                                             RUDY CASTELLANOS   2012  316988.26\n",
       "                                             SAMSON LAI         2012  316214.00\n",
       "CAPTAIN 3                                    JOHN EHRLICH       2012  303869.82\n",
       "CAPTAIN III (POLICE DEPARTMENT)              ALBERT PARDINI     2011  335279.91\n",
       "                                             GARY JIMENEZ       2011  538909.28\n",
       "CAPTAIN, FIRE SUPPRESSION                    MICHAEL ROLOVICH   2012  302002.06\n",
       "                                             PHILIP STEVENS     2012  308669.82\n",
       "DEPUTY CHIEF OF DEPARTMENT,(FIRE DEPARTMENT) PATRICK GARDNER    2011  326373.19\n",
       "DEPUTY SHERIFF                               WHITNEY P YEE      2013  308434.84\n",
       "ELECTRONIC MAINTENANCE TECH                  KHOA TRINH         2012  336393.73\n",
       "EMT/PARAMEDIC/FIREFIGHTER                    FREDERICK BINKLEY  2012  337204.86\n",
       "LIEUTENANT, FIRE SUPPRESSION                 GARY ALTENBERG     2012  362844.66\n",
       "                                             GARY L ALTENBERG   2013  320375.79\n",
       "WIRE ROPE CABLE MAINTENANCE MECHANIC         CHRISTOPHER CHONG  2011  332343.61"
      ]
     },
     "execution_count": 44,
     "metadata": {},
     "output_type": "execute_result"
    }
   ],
   "source": [
    "pd.pivot_table(HighEarners, index=['JobTitle', 'EmployeeName', 'Year'], values=[\"TotalPay\"])"
   ]
  },
  {
   "cell_type": "markdown",
   "metadata": {
    "deletable": true,
    "editable": true
   },
   "source": [
    "Above we see the 'JobTitles' and 'EmployeeNames' of the \"High Earners\", we additionally learn that many of them hold the position for more than one year.\n",
    "\n",
    "We also see that JobTitles were slightly changed between years, and as a result the same jobs appear seperately, lets create a new field called 'Department' later to hone in and compare departments.\n",
    "\n",
    "There is also the addition of a middle name initial which is creating duplication in data."
   ]
  },
  {
   "cell_type": "code",
   "execution_count": 46,
   "metadata": {
    "collapsed": false,
    "deletable": true,
    "editable": true
   },
   "outputs": [],
   "source": [
    "# Create a new column called 'Department'\n",
    "sf['Department'] = ''"
   ]
  },
  {
   "cell_type": "markdown",
   "metadata": {
    "deletable": true,
    "editable": true
   },
   "source": [
    "When looking at the 'JobTitles' it is clear that employees can be grouped easily into certain departments such as below:"
   ]
  },
  {
   "cell_type": "code",
   "execution_count": 47,
   "metadata": {
    "collapsed": false,
    "deletable": true,
    "editable": true
   },
   "outputs": [],
   "source": [
    "sf.loc[sf.JobTitle.str.contains('POLICE'), 'Department'] = \"POLICE\"\n",
    "sf.loc[sf.JobTitle.str.contains(\"FIRE\"), 'Department'] = \"FIRE\"\n",
    "sf.loc[sf.JobTitle.str.contains(\"MEDICAL\"), 'Department'] = \"MEDICAL\"\n",
    "sf.loc[sf.JobTitle.str.contains(\"NURSE\"), 'Department'] = \"MEDICAL\"\n",
    "sf.loc[sf.JobTitle.str.contains(\"TRANSIT\"), 'Department'] = \"TRANSIT\""
   ]
  },
  {
   "cell_type": "code",
   "execution_count": 48,
   "metadata": {
    "collapsed": false,
    "deletable": true,
    "editable": true
   },
   "outputs": [
    {
     "data": {
      "text/html": [
       "<div>\n",
       "<table border=\"1\" class=\"dataframe\">\n",
       "  <thead>\n",
       "    <tr>\n",
       "      <th></th>\n",
       "      <th>sum</th>\n",
       "      <th>mean</th>\n",
       "      <th>len</th>\n",
       "    </tr>\n",
       "    <tr>\n",
       "      <th></th>\n",
       "      <th>TotalPay</th>\n",
       "      <th>TotalPay</th>\n",
       "      <th>TotalPay</th>\n",
       "    </tr>\n",
       "    <tr>\n",
       "      <th>Department</th>\n",
       "      <th></th>\n",
       "      <th></th>\n",
       "      <th></th>\n",
       "    </tr>\n",
       "  </thead>\n",
       "  <tbody>\n",
       "    <tr>\n",
       "      <th></th>\n",
       "      <td>$2,799.85 MM</td>\n",
       "      <td>$83,010.00</td>\n",
       "      <td>33729</td>\n",
       "    </tr>\n",
       "    <tr>\n",
       "      <th>FIRE</th>\n",
       "      <td>$845.95 MM</td>\n",
       "      <td>$158,270.00</td>\n",
       "      <td>5345</td>\n",
       "    </tr>\n",
       "    <tr>\n",
       "      <th>MEDICAL</th>\n",
       "      <td>$681.67 MM</td>\n",
       "      <td>$98,407.00</td>\n",
       "      <td>6927</td>\n",
       "    </tr>\n",
       "    <tr>\n",
       "      <th>POLICE</th>\n",
       "      <td>$942.44 MM</td>\n",
       "      <td>$128,766.00</td>\n",
       "      <td>7319</td>\n",
       "    </tr>\n",
       "    <tr>\n",
       "      <th>TRANSIT</th>\n",
       "      <td>$829.02 MM</td>\n",
       "      <td>$75,428.00</td>\n",
       "      <td>10991</td>\n",
       "    </tr>\n",
       "  </tbody>\n",
       "</table>\n",
       "</div>"
      ],
      "text/plain": [
       "                     sum         mean      len\n",
       "                TotalPay     TotalPay TotalPay\n",
       "Department                                    \n",
       "            $2,799.85 MM   $83,010.00    33729\n",
       "FIRE          $845.95 MM  $158,270.00     5345\n",
       "MEDICAL       $681.67 MM   $98,407.00     6927\n",
       "POLICE        $942.44 MM  $128,766.00     7319\n",
       "TRANSIT       $829.02 MM   $75,428.00    10991"
      ]
     },
     "execution_count": 48,
     "metadata": {},
     "output_type": "execute_result"
    }
   ],
   "source": [
    "# Applying $ (currency) for formatting and attractive presentation\n",
    "\n",
    "ByDepartment = pd.pivot_table(sf, index=['Department'], values=[\"TotalPay\"], aggfunc=[np.sum, np.mean, len], fill_value=0)\n",
    "ByDepartment.ix[:,0] = ['${:,.2f} MM'.format(x) for x in ByDepartment.ix[:,0]/1000000]\n",
    "ByDepartment.ix[:,1] = ['${:,.2f}'.format(x) for x in ByDepartment.ix[:,1]]\n",
    "ByDepartment"
   ]
  },
  {
   "cell_type": "markdown",
   "metadata": {
    "deletable": true,
    "editable": true
   },
   "source": [
    "In the above table we can see the total, mean and count of Total Paid per Department"
   ]
  },
  {
   "cell_type": "code",
   "execution_count": 1,
   "metadata": {
    "collapsed": false
   },
   "outputs": [
    {
     "ename": "NameError",
     "evalue": "name 'plt' is not defined",
     "output_type": "error",
     "traceback": [
      "\u001b[1;31m---------------------------------------------------------------------------\u001b[0m",
      "\u001b[1;31mNameError\u001b[0m                                 Traceback (most recent call last)",
      "\u001b[1;32m<ipython-input-1-447a25c22497>\u001b[0m in \u001b[0;36m<module>\u001b[1;34m()\u001b[0m\n\u001b[1;32m----> 1\u001b[1;33m \u001b[0mplt\u001b[0m\u001b[1;33m.\u001b[0m\u001b[0mscatter\u001b[0m\u001b[1;33m(\u001b[0m\u001b[1;33m)\u001b[0m\u001b[1;33m\u001b[0m\u001b[0m\n\u001b[0m",
      "\u001b[1;31mNameError\u001b[0m: name 'plt' is not defined"
     ]
    }
   ],
   "source": [
    "plt.scatter()"
   ]
  },
  {
   "cell_type": "code",
   "execution_count": 51,
   "metadata": {
    "collapsed": false,
    "deletable": true,
    "editable": true
   },
   "outputs": [
    {
     "data": {
      "image/png": "[encoded data removed]",
      "text/plain": [
       "<matplotlib.figure.Figure at 0x275e0bb8588>"
      ]
     },
     "metadata": {},
     "output_type": "display_data"
    }
   ],
   "source": [
    "plot_jg = sns.FacetGrid(sf, col=\"Department\", col_wrap=3, size=4.5, dropna=True)\n",
    "plot_jg = plot_jg.map(sns.kdeplot, 'TotalPay', shade=True)"
   ]
  },
  {
   "cell_type": "markdown",
   "metadata": {
    "deletable": true,
    "editable": true
   },
   "source": [
    "In the above grapth we can see that the Police Department employees earn the most money."
   ]
  },
  {
   "cell_type": "code",
   "execution_count": 77,
   "metadata": {
    "collapsed": false,
    "deletable": true,
    "editable": true
   },
   "outputs": [
    {
     "data": {
      "text/plain": [
       "<matplotlib.axes._subplots.AxesSubplot at 0x275e5ac3dd8>"
      ]
     },
     "execution_count": 77,
     "metadata": {},
     "output_type": "execute_result"
    },
    {
     "data": {
      "image/png": "[encoded data removed]",
      "text/plain": [
       "<matplotlib.figure.Figure at 0x275e5ad97b8>"
      ]
     },
     "metadata": {},
     "output_type": "display_data"
    }
   ],
   "source": [
    "sns.boxplot(x=\"Year\", y=\"TotalPay\", data=sf)"
   ]
  },
  {
   "cell_type": "markdown",
   "metadata": {
    "deletable": true,
    "editable": true
   },
   "source": [
    "Above we see that the salaries have not changed between the years."
   ]
  },
  {
   "cell_type": "code",
   "execution_count": 78,
   "metadata": {
    "collapsed": false,
    "deletable": true,
    "editable": true
   },
   "outputs": [
    {
     "data": {
      "text/plain": [
       "<matplotlib.axes._subplots.AxesSubplot at 0x275e5be7f60>"
      ]
     },
     "execution_count": 78,
     "metadata": {},
     "output_type": "execute_result"
    },
    {
     "data": {
      "image/png": "[encoded data removed]",
      "text/plain": [
       "<matplotlib.figure.Figure at 0x275e5af54a8>"
      ]
     },
     "metadata": {},
     "output_type": "display_data"
    }
   ],
   "source": [
    "sns.barplot(x=\"Department\", y=\"TotalPay\", data=sf)"
   ]
  },
  {
   "cell_type": "markdown",
   "metadata": {
    "deletable": true,
    "editable": true
   },
   "source": [
    "### ---------------------------- WORK ZONE --------------------------------"
   ]
  },
  {
   "cell_type": "code",
   "execution_count": 90,
   "metadata": {
    "collapsed": false,
    "deletable": true,
    "editable": true
   },
   "outputs": [],
   "source": [
    "sf['FirstName'] = sf.EmployeeName.str.split(' ').str.get(0)"
   ]
  },
  {
   "cell_type": "code",
   "execution_count": 145,
   "metadata": {
    "collapsed": false,
    "deletable": true,
    "editable": true
   },
   "outputs": [
    {
     "data": {
      "text/plain": [
       "5188"
      ]
     },
     "execution_count": 145,
     "metadata": {},
     "output_type": "execute_result"
    }
   ],
   "source": [
    "# There are 5188 unique names\n",
    "\n",
    "len(sf.FirstName.unique())"
   ]
  },
  {
   "cell_type": "code",
   "execution_count": 177,
   "metadata": {
    "collapsed": true,
    "deletable": true,
    "editable": true
   },
   "outputs": [
    {
     "data": {
      "text/plain": [
       "['GARY',\n",
       " 'ALBERT',\n",
       " 'CHRISTOPHER',\n",
       " 'PATRICK',\n",
       " 'DAVID',\n",
       " 'ALSON',\n",
       " 'MICHAEL',\n",
       " 'ARTHUR',\n",
       " 'PATRICIA',\n",
       " 'RICHARD',\n",
       " 'SEBASTIAN',\n",
       " 'MARTY',\n",
       " 'ELLEN',\n",
       " 'JUDY',\n",
       " 'GEORGE',\n",
       " 'VICTOR',\n",
       " 'JOSEPH',\n",
       " 'JOHN',\n",
       " 'RAYMOND',\n",
       " 'JOSE',\n",
       " 'KHOA',\n",
       " 'JAMES',\n",
       " 'JONES',\n",
       " 'BRENDAN',\n",
       " 'THOMAS',\n",
       " 'BRYAN',\n",
       " 'KEN',\n",
       " 'KIRK',\n",
       " 'DARRYL',\n",
       " 'RAY',\n",
       " 'DOUGLAS',\n",
       " 'AI-KYUNG',\n",
       " 'KENNETH',\n",
       " 'ANNA',\n",
       " 'CHARLES',\n",
       " 'GREGORY',\n",
       " 'ROBERT',\n",
       " 'EDWARD',\n",
       " 'WING',\n",
       " 'LAWRENCE',\n",
       " 'ANTONIO',\n",
       " 'MARK',\n",
       " 'KEVIN',\n",
       " 'BERT',\n",
       " 'EDUARDO',\n",
       " 'LORRIE',\n",
       " 'JONATHAN',\n",
       " 'EVETTE',\n",
       " 'MARY',\n",
       " 'DONNA',\n",
       " 'PETE',\n",
       " 'REX',\n",
       " 'SARAH',\n",
       " 'ERIKA',\n",
       " 'LAUIFI',\n",
       " 'PATRIC',\n",
       " 'SAMSON',\n",
       " 'SCOTT',\n",
       " 'C',\n",
       " 'LISETTE',\n",
       " 'KHAIRUL',\n",
       " 'SHELLEY',\n",
       " 'SEAN',\n",
       " 'TYRONNE',\n",
       " 'SHARON',\n",
       " 'SHANNON',\n",
       " 'GLEN',\n",
       " 'EDMUND',\n",
       " 'WILLIAM',\n",
       " 'ZACHARY',\n",
       " 'LUIS',\n",
       " 'GERALD',\n",
       " 'DONNIE',\n",
       " 'ANTHONY',\n",
       " 'TIM',\n",
       " 'RASMI',\n",
       " 'MATTHEW',\n",
       " 'WHITNEY',\n",
       " 'STEVEN',\n",
       " 'EDGAR',\n",
       " 'L',\n",
       " 'HAROLD',\n",
       " 'KARL',\n",
       " 'OSCAR',\n",
       " 'MARTIEN',\n",
       " 'CARL',\n",
       " 'AMPARO',\n",
       " 'HARRY',\n",
       " 'ALBERTO',\n",
       " 'DWAYNE',\n",
       " 'LEON',\n",
       " 'DONALD',\n",
       " 'NATHAN',\n",
       " 'KIRSTEN',\n",
       " 'DENNIS',\n",
       " 'MARTIN',\n",
       " 'DARCY',\n",
       " 'SAMUEL',\n",
       " 'OLLIE',\n",
       " 'LORI',\n",
       " 'PIERRE',\n",
       " 'ROSELYN',\n",
       " 'TROY',\n",
       " 'EUGENE',\n",
       " 'BRIAN',\n",
       " 'PHILIP',\n",
       " 'TIMOTHY',\n",
       " 'CANTREZ',\n",
       " 'GERARDO',\n",
       " 'NOEL',\n",
       " 'ALAN',\n",
       " 'BARBARA',\n",
       " 'STEPHEN',\n",
       " 'SAM',\n",
       " 'BARRY',\n",
       " 'CLEMENTINO',\n",
       " 'RYAN',\n",
       " 'ARNOLD',\n",
       " 'MIKE',\n",
       " 'ANDREW',\n",
       " 'GLENN',\n",
       " 'TYRONE',\n",
       " 'BROOK',\n",
       " 'CHAD',\n",
       " 'KEITH',\n",
       " 'JESUS',\n",
       " 'FERNANDO',\n",
       " 'NELSON',\n",
       " 'ARNIE',\n",
       " 'MITCHELL',\n",
       " 'FERDINAND',\n",
       " 'NEREE',\n",
       " 'PERRY',\n",
       " 'MELISSA',\n",
       " 'FREDERICK',\n",
       " 'GUY',\n",
       " 'BERGLIOTH',\n",
       " 'GARRET',\n",
       " 'PAUL',\n",
       " 'PABLO',\n",
       " 'DANIEL',\n",
       " 'JIMMIE',\n",
       " 'JOSEPHINE',\n",
       " 'MORGAN',\n",
       " 'JOHNSON',\n",
       " 'BRODERICK',\n",
       " 'CLYDE',\n",
       " 'ALVIN',\n",
       " 'RUDY',\n",
       " 'JEFF',\n",
       " 'JENNIFER',\n",
       " 'ALEC',\n",
       " 'PETER',\n",
       " 'RONALD',\n",
       " 'RICKY',\n",
       " 'AMEN',\n",
       " 'RANDY',\n",
       " 'ERNEST',\n",
       " 'TERENCE',\n",
       " 'VALERIE',\n",
       " 'LAURENCE',\n",
       " 'JASON',\n",
       " 'MIKAIL',\n",
       " 'NICOLETTE',\n",
       " 'JIM',\n",
       " 'DUSTIN',\n",
       " 'KATHLEEN',\n",
       " 'CHARLIE',\n",
       " 'HANS',\n",
       " 'MAMI',\n",
       " 'JALAL',\n",
       " 'ANDY',\n",
       " 'ERIC',\n",
       " 'VINCENT',\n",
       " 'ALEXIS',\n",
       " 'ATTICA',\n",
       " 'EHRHARDT',\n",
       " 'DALE',\n",
       " 'LEONARD',\n",
       " 'SAHIR',\n",
       " 'DENISE',\n",
       " 'ANNETTE',\n",
       " 'CHUTEH',\n",
       " 'RAEMONA',\n",
       " 'JEFFREY',\n",
       " 'ERIBERTO',\n",
       " 'VERNONICA',\n",
       " 'LARRY',\n",
       " 'CARLOS',\n",
       " 'JOSHUA',\n",
       " 'MANUEL',\n",
       " 'DAMON',\n",
       " 'HERBERT',\n",
       " 'DEREK',\n",
       " 'TONEY',\n",
       " 'RUDOLPH',\n",
       " 'GAVIN',\n",
       " 'ANDRE',\n",
       " 'FLOYD',\n",
       " 'NICHOLAS',\n",
       " 'DONALDSON',\n",
       " 'LYN',\n",
       " 'ROSE',\n",
       " 'RAUL',\n",
       " 'NICOL',\n",
       " 'MAGALY',\n",
       " 'JACK',\n",
       " 'JULIO',\n",
       " 'FRANK',\n",
       " 'DERIO',\n",
       " 'ALEXANDER',\n",
       " 'NEIL',\n",
       " 'DENIS',\n",
       " 'DARREN',\n",
       " 'LENETTE',\n",
       " 'MELANY',\n",
       " 'LOURDES',\n",
       " 'DERRICK',\n",
       " 'DWIGHT',\n",
       " 'VERNON',\n",
       " 'ABDUL',\n",
       " 'RAFAEL',\n",
       " 'RUBEN',\n",
       " 'RAYCARDO',\n",
       " 'CHERISH',\n",
       " 'LARS',\n",
       " 'VITANI',\n",
       " 'JORGE',\n",
       " 'RAMON',\n",
       " 'ANESTO',\n",
       " 'JON',\n",
       " 'JANET',\n",
       " 'JULIANO',\n",
       " 'MALCOLM',\n",
       " 'ORLANDO',\n",
       " 'ALEXANDRA',\n",
       " 'STEWART',\n",
       " 'ROHAN',\n",
       " 'GIN',\n",
       " 'HENRY',\n",
       " 'JULIAN',\n",
       " 'ROMELIA',\n",
       " 'MILTON',\n",
       " 'AARON',\n",
       " 'PEI',\n",
       " 'BIENVENIDO',\n",
       " 'CALVIN',\n",
       " 'JESSE',\n",
       " 'WALTER',\n",
       " 'AUGUSTINE',\n",
       " 'SARA',\n",
       " 'CHRISTINE',\n",
       " 'NORMAN',\n",
       " 'LORENZO',\n",
       " 'WAYMEN',\n",
       " 'ERICK',\n",
       " 'ELISABETH',\n",
       " 'GIANRICO',\n",
       " 'EDDY',\n",
       " 'GARRETT',\n",
       " 'JOEL',\n",
       " 'TODD',\n",
       " 'TERRY',\n",
       " 'BRUCE',\n",
       " 'MEIR',\n",
       " 'NIELS',\n",
       " 'ANTENOR',\n",
       " 'DAVEY',\n",
       " 'MARC',\n",
       " 'TWYILA',\n",
       " 'CLIFFORD',\n",
       " 'MARIO',\n",
       " 'SIMON',\n",
       " 'FRANCO',\n",
       " 'KURT',\n",
       " 'ROMEO',\n",
       " 'LISA',\n",
       " 'SANDRA',\n",
       " 'HEINZ',\n",
       " 'CLAUDIA',\n",
       " 'PAMELA',\n",
       " 'MAXWELL',\n",
       " 'SPENCER',\n",
       " 'THERESE',\n",
       " 'ELLIZA',\n",
       " 'MICHELE',\n",
       " 'MANJIT',\n",
       " 'HUE',\n",
       " 'DIEN',\n",
       " 'JERRY',\n",
       " 'JOYCE',\n",
       " 'VAGN',\n",
       " 'MOISA',\n",
       " 'STANLEY',\n",
       " 'ANNE',\n",
       " 'ETHAN',\n",
       " 'CHRISTIAN',\n",
       " 'DEAN',\n",
       " 'BOAZ',\n",
       " 'PREM',\n",
       " 'CLINTON',\n",
       " 'KAEO',\n",
       " 'JEANINE',\n",
       " 'JAMIE',\n",
       " 'TRACY',\n",
       " 'ART',\n",
       " 'ALFREDO',\n",
       " 'GABRIEL',\n",
       " 'PEIYUE',\n",
       " 'CAROL',\n",
       " 'LOUIS',\n",
       " 'DAMEN',\n",
       " 'YUSUFU',\n",
       " 'RANDALL',\n",
       " 'CONRAD',\n",
       " 'BRIEN',\n",
       " 'JESSICA',\n",
       " 'LLOYD',\n",
       " 'YOUNG',\n",
       " 'ROLAND',\n",
       " 'ELYSE',\n",
       " 'AISHA',\n",
       " 'RICARDO',\n",
       " 'BERNARD',\n",
       " 'BRIDGET',\n",
       " 'HOWARD',\n",
       " 'G',\n",
       " 'ANA',\n",
       " 'PING',\n",
       " 'JIA',\n",
       " 'PHYLLIS',\n",
       " 'JAY',\n",
       " 'DESMOND',\n",
       " 'CHASE',\n",
       " 'TYSON',\n",
       " 'NANCY',\n",
       " 'SABRINA',\n",
       " 'VIVIAN',\n",
       " 'ALLEN',\n",
       " 'HOYT',\n",
       " 'DIANE',\n",
       " 'JEAN',\n",
       " 'SOLA',\n",
       " 'LIZA',\n",
       " 'DUANE',\n",
       " 'IP',\n",
       " 'ROGER',\n",
       " 'ERIK',\n",
       " 'LIAM',\n",
       " 'KENWADE',\n",
       " 'JA',\n",
       " 'K',\n",
       " 'MAURA',\n",
       " 'STEPHANIE',\n",
       " 'EILEEN',\n",
       " 'JANEEN',\n",
       " 'KELLY',\n",
       " 'WARREN',\n",
       " 'TOM',\n",
       " 'SHELIA',\n",
       " 'CHEUNG',\n",
       " 'VICENTE',\n",
       " 'SHAYNE',\n",
       " 'SAMMY',\n",
       " 'JOO-HAN',\n",
       " 'ANITA',\n",
       " 'ROWLAND',\n",
       " 'BRIGID',\n",
       " 'NASH',\n",
       " 'BROCK',\n",
       " 'RODRIGO',\n",
       " 'BRANDON',\n",
       " 'HECTOR',\n",
       " 'GRACE',\n",
       " 'MIGUEL',\n",
       " 'VIOLETA',\n",
       " 'NIKKI',\n",
       " 'JODY',\n",
       " 'KAREN',\n",
       " 'DION',\n",
       " 'MARIA',\n",
       " 'TRENIA',\n",
       " 'FRANCIS',\n",
       " 'MICHELLE',\n",
       " 'NELIA',\n",
       " 'EVELYN',\n",
       " 'FRANKLIN',\n",
       " 'CLAUDIO',\n",
       " 'ALEX',\n",
       " 'SUSAN',\n",
       " 'GAIL',\n",
       " 'MARYANNE',\n",
       " 'JULIE',\n",
       " 'DOMINIC',\n",
       " 'DARIUS',\n",
       " 'GAETANO',\n",
       " 'HSINMEI',\n",
       " 'CORNELIUS',\n",
       " 'NEAL',\n",
       " 'BETH',\n",
       " 'SHON',\n",
       " 'RICCI',\n",
       " 'ANTRON',\n",
       " 'DANTE',\n",
       " 'REY',\n",
       " 'YOLANDA',\n",
       " 'THERESA',\n",
       " 'SIULAGI',\n",
       " 'MEGHAN',\n",
       " 'RUTH',\n",
       " 'ARMANDO',\n",
       " 'JIRO',\n",
       " 'LOPE',\n",
       " 'TONII',\n",
       " 'MELCHOR',\n",
       " 'COLLEEN',\n",
       " 'CHRIS',\n",
       " 'RAVINDER',\n",
       " 'STEVE',\n",
       " 'ADRIENNE',\n",
       " 'JEREMY',\n",
       " 'KYLE',\n",
       " 'ARLIN',\n",
       " 'LORGE',\n",
       " 'NARDA',\n",
       " 'J',\n",
       " 'CHANH',\n",
       " 'MARSHELL',\n",
       " 'LEONARDO',\n",
       " 'SALVATORE',\n",
       " 'TINA',\n",
       " 'EDDIE',\n",
       " 'CLIFF',\n",
       " 'ALLYN',\n",
       " 'MARTHA',\n",
       " 'CATHERINE',\n",
       " 'REGINA',\n",
       " 'ANGELA',\n",
       " 'MARGARITA',\n",
       " 'SUK',\n",
       " 'BRETT',\n",
       " 'JOE',\n",
       " 'LUCRETIA',\n",
       " 'LUKE',\n",
       " 'ALEJANDRO',\n",
       " 'MARINA',\n",
       " 'GLORIA',\n",
       " 'RENE',\n",
       " 'CELERINA',\n",
       " 'DORETHA',\n",
       " 'CARMELO',\n",
       " 'MAURICE',\n",
       " 'DINO',\n",
       " 'STEVIE',\n",
       " 'AL',\n",
       " 'HARALD',\n",
       " 'MAUNG',\n",
       " 'JOELLE',\n",
       " 'HUGH',\n",
       " 'JULIA',\n",
       " 'TERESITA',\n",
       " 'PHAT',\n",
       " 'VIEN',\n",
       " 'MIKAEL',\n",
       " 'LANAIR',\n",
       " 'CRISTEO',\n",
       " 'REUBEN',\n",
       " 'SYLVIA',\n",
       " 'RICK',\n",
       " 'ELAINE',\n",
       " 'JORDAN',\n",
       " 'DANIELLE',\n",
       " 'KATHRYN',\n",
       " 'JARED',\n",
       " 'MILANDA',\n",
       " 'ERLINDA',\n",
       " 'BELINDA',\n",
       " 'MARCO',\n",
       " 'NAM',\n",
       " 'DOMENICO',\n",
       " 'MARCUS',\n",
       " 'GREG',\n",
       " 'HENDRYCK',\n",
       " 'JOAN',\n",
       " 'WAYMAN',\n",
       " 'JESSIE',\n",
       " 'MIRIAM',\n",
       " 'CRAIG',\n",
       " 'CLIFTON',\n",
       " 'LAURA',\n",
       " 'PAULINE',\n",
       " 'TAMI',\n",
       " 'HEATH',\n",
       " 'MARIBETH',\n",
       " 'LUISITO',\n",
       " 'TERESA',\n",
       " 'RAJ',\n",
       " 'DAISY',\n",
       " 'STUART',\n",
       " 'KJELL',\n",
       " 'MARISSA',\n",
       " 'SETH',\n",
       " 'SHAWN',\n",
       " 'MATHEW',\n",
       " 'BENSON',\n",
       " 'MINERVA',\n",
       " 'CAROLINE',\n",
       " 'ESTHER',\n",
       " 'CARLEY',\n",
       " 'ROSEMARIE',\n",
       " 'NATASHA',\n",
       " 'CINTIA',\n",
       " 'KERVIN',\n",
       " 'EDGARDO',\n",
       " 'GIDEON',\n",
       " 'PIUS',\n",
       " 'GEOFFREY',\n",
       " 'BRUNO',\n",
       " 'GILLIAN',\n",
       " 'RICARDA',\n",
       " 'KENDRICK',\n",
       " 'NOAH',\n",
       " 'RENOTA',\n",
       " 'MAURO',\n",
       " 'HOLLY',\n",
       " 'MAY',\n",
       " 'PILAR',\n",
       " 'SIDNEY',\n",
       " 'ROBERTO',\n",
       " 'STEPHAN',\n",
       " 'OFELIA',\n",
       " 'VICTORIA',\n",
       " 'LAM',\n",
       " 'ZENAIDA',\n",
       " 'EDWIN',\n",
       " 'ALANNA',\n",
       " 'GENELL',\n",
       " 'BRICE',\n",
       " 'SHOU',\n",
       " 'AMY',\n",
       " 'DAWN',\n",
       " 'ROSIE',\n",
       " 'GEORGIA',\n",
       " 'HEATHER',\n",
       " 'EDDIEBERTO',\n",
       " 'BARRETT',\n",
       " 'CHEE',\n",
       " 'FELIX',\n",
       " 'MOLLY',\n",
       " 'RACHEL',\n",
       " 'SHIRLEY',\n",
       " 'ANGELO',\n",
       " 'KATHERINE',\n",
       " 'ROLLY',\n",
       " 'BRENT',\n",
       " 'AVA',\n",
       " 'VERE',\n",
       " 'JIMMY',\n",
       " 'KIMBERLY',\n",
       " 'KIM',\n",
       " 'CYNTHIA',\n",
       " 'HEIDI',\n",
       " 'WAYNE',\n",
       " 'BRADFORD',\n",
       " 'FELICIA',\n",
       " 'MEGAN',\n",
       " 'HANSJUERG',\n",
       " 'YOON',\n",
       " 'KYRA',\n",
       " 'MARILOU',\n",
       " 'JEFFERY',\n",
       " 'JUSTIN',\n",
       " 'BENNY',\n",
       " 'LOK',\n",
       " 'BRITT',\n",
       " 'GIL',\n",
       " 'SHAUGHN',\n",
       " 'BILL',\n",
       " 'LEWIS',\n",
       " 'FABIAN',\n",
       " 'GLICERIA',\n",
       " 'JOCELYN',\n",
       " 'JESUSA',\n",
       " 'ANSON',\n",
       " 'FLORENCE',\n",
       " 'MARTA',\n",
       " 'RAQUEL',\n",
       " 'LAMAR',\n",
       " 'BLESILDA',\n",
       " 'DEBORAH',\n",
       " 'JOSEY',\n",
       " 'NHON-TUAN',\n",
       " 'TAKAFUMI',\n",
       " 'LAVERNE',\n",
       " 'HONG',\n",
       " 'MERCEDITAS',\n",
       " 'DERMOT',\n",
       " 'GORDON',\n",
       " 'ANKA-YUEN',\n",
       " 'KINNIE',\n",
       " 'NICOLE',\n",
       " 'MAGDALENA',\n",
       " 'DONYALE',\n",
       " 'GARRETH',\n",
       " 'KENNICE',\n",
       " 'WALLACE',\n",
       " 'MARRIALEE',\n",
       " 'ARLINE',\n",
       " 'THACH',\n",
       " 'ELSA',\n",
       " 'CHUCK',\n",
       " 'CRISTINA',\n",
       " 'MARCIAL',\n",
       " 'EMMANUEL',\n",
       " 'IVAN',\n",
       " 'ERICA',\n",
       " 'JAMESON',\n",
       " 'JOSELITO',\n",
       " 'CESAR',\n",
       " 'TADAO',\n",
       " 'RIGOBERTO',\n",
       " 'VILLAMOR',\n",
       " 'MARICELA',\n",
       " 'JUAN',\n",
       " 'ANTON',\n",
       " 'PHILLIP',\n",
       " 'DARRIN',\n",
       " 'OMAR',\n",
       " 'MELVIN',\n",
       " 'LEAH',\n",
       " 'DARRELL',\n",
       " 'BARTHOLOMEW',\n",
       " 'MARIONETTE',\n",
       " 'BENG',\n",
       " 'ELISHA',\n",
       " 'LUCIO',\n",
       " 'TAMMY',\n",
       " 'ROSEMARY',\n",
       " 'KATHY',\n",
       " 'BELEN',\n",
       " 'ADAM',\n",
       " 'KHAE',\n",
       " 'YVONNE',\n",
       " 'LYNN',\n",
       " 'BOBBY',\n",
       " 'LESLIE',\n",
       " 'ALICIA',\n",
       " 'CURTIS',\n",
       " 'EIGIL',\n",
       " 'ALVARO',\n",
       " 'DEBBIE',\n",
       " 'BEN',\n",
       " 'DARYL',\n",
       " 'LEE',\n",
       " 'RONAN',\n",
       " 'SALLY',\n",
       " 'CHUWEI',\n",
       " 'UWEM',\n",
       " 'FITZGERALD',\n",
       " 'JUSTINA',\n",
       " 'EMMON',\n",
       " 'JULIUS',\n",
       " 'KOK',\n",
       " 'NELLY',\n",
       " 'WILFREDO',\n",
       " 'REESE',\n",
       " 'JIHYEON',\n",
       " 'CELSA',\n",
       " 'IAN',\n",
       " 'SHANON',\n",
       " 'ANGEL',\n",
       " 'EVANGELINE',\n",
       " 'ANADELIA',\n",
       " 'LYLE',\n",
       " 'VICENTA',\n",
       " 'ANN',\n",
       " 'ROSARIO',\n",
       " 'RALPH',\n",
       " 'FELICIDAD',\n",
       " 'PASCAL',\n",
       " 'BENJAMIN',\n",
       " 'SOCRATES',\n",
       " 'KRISTIN',\n",
       " 'MERCEDES',\n",
       " 'ROWENA',\n",
       " 'ROSHAWN',\n",
       " 'GODFREY',\n",
       " 'DAMIEN',\n",
       " 'DONNY',\n",
       " 'MONICA',\n",
       " 'MYUNG',\n",
       " 'WAI',\n",
       " 'EDITA',\n",
       " 'MARILYN',\n",
       " 'PUREZA',\n",
       " 'EDEN',\n",
       " 'RUSSELL',\n",
       " 'LENIN',\n",
       " 'CHADWICK',\n",
       " 'CECILIA',\n",
       " 'ANGELINA',\n",
       " 'KRYSTLE',\n",
       " 'ROSELO',\n",
       " 'THEODORE',\n",
       " 'MARCIEL',\n",
       " 'SHANE',\n",
       " 'MARILA',\n",
       " 'BOB',\n",
       " 'TOMIE',\n",
       " 'CHESTER',\n",
       " 'KERBY',\n",
       " 'BENITO',\n",
       " 'RENATO',\n",
       " 'CECILIO',\n",
       " 'BASSEY',\n",
       " 'MILEN',\n",
       " 'JUDITH',\n",
       " 'SERGIO',\n",
       " 'CLINT',\n",
       " 'SHERMAN',\n",
       " 'SALVADOR',\n",
       " 'GRANVILLE',\n",
       " 'CHERISSE',\n",
       " 'ALBERN',\n",
       " 'SONIA',\n",
       " 'RUSSEL',\n",
       " 'MICHIE',\n",
       " 'REXIE',\n",
       " 'NATHANIEL',\n",
       " 'UNA',\n",
       " 'KATHRINE',\n",
       " 'EUGENIO',\n",
       " 'WENDY',\n",
       " 'REBECCA',\n",
       " 'JEREMIAH',\n",
       " 'THORIN',\n",
       " 'JAKE',\n",
       " 'NATALIE',\n",
       " 'JANETTE',\n",
       " 'SOPHAL',\n",
       " 'HERMAN',\n",
       " 'TONY',\n",
       " 'FREEMAN',\n",
       " 'ERMELINA',\n",
       " 'ROD',\n",
       " 'R',\n",
       " 'BEVERLY',\n",
       " 'PARIS',\n",
       " 'ANGUS',\n",
       " 'RUFINA',\n",
       " 'ZHEN',\n",
       " 'GIUSEPPE',\n",
       " 'BELENA',\n",
       " 'H',\n",
       " 'GERARD',\n",
       " 'MARIBEL',\n",
       " 'WILFRED',\n",
       " 'IHEOMA',\n",
       " 'ADRIANO',\n",
       " 'EDBERT',\n",
       " 'MARIFE',\n",
       " 'PURIFICACION',\n",
       " 'EVAN',\n",
       " 'LINDA',\n",
       " 'OCTAVIO-JAME',\n",
       " 'SHUI',\n",
       " 'CONNIE',\n",
       " 'ANDI',\n",
       " 'GIAN',\n",
       " 'YONG',\n",
       " 'FELISA',\n",
       " 'MONTGOMERY',\n",
       " 'SOLITA',\n",
       " 'VIRGINIA',\n",
       " 'ROBYN',\n",
       " 'QIAOLAN',\n",
       " 'HUCKLEBERRY',\n",
       " 'KWAI',\n",
       " 'KRISTA',\n",
       " 'ALLAN',\n",
       " 'BABE',\n",
       " 'ROBIN',\n",
       " 'ALFRED',\n",
       " 'BESILDA',\n",
       " 'SOPHIA',\n",
       " 'ALI',\n",
       " 'AUDREY',\n",
       " 'LIN',\n",
       " 'SAL',\n",
       " 'KENG',\n",
       " 'ALEXA',\n",
       " 'KELVIN',\n",
       " 'FRANCES',\n",
       " 'MARTI',\n",
       " 'GUILLERMO',\n",
       " 'LAVANTE',\n",
       " 'HAEJU',\n",
       " 'MELONEE',\n",
       " 'ELIZABETH',\n",
       " 'ELMEN',\n",
       " 'AILEEN',\n",
       " 'WILLA',\n",
       " 'LEO',\n",
       " 'MAUREEN',\n",
       " 'JACOB',\n",
       " 'JAIME',\n",
       " 'HUBERT',\n",
       " 'EMIL',\n",
       " 'OSMUNDO',\n",
       " 'MARINO',\n",
       " 'COLM',\n",
       " 'IMELDA',\n",
       " 'LONG',\n",
       " 'ANNIE',\n",
       " 'MARCIA',\n",
       " 'ARRAN',\n",
       " 'NOREEN',\n",
       " 'MYRNA',\n",
       " 'KAM',\n",
       " 'DAT',\n",
       " 'NORA',\n",
       " 'HUONG',\n",
       " 'VICKI',\n",
       " 'ARCELI',\n",
       " 'MARIFI',\n",
       " 'ROEL',\n",
       " 'YVETTE',\n",
       " 'ROMULO',\n",
       " 'RONIE',\n",
       " 'CONSUELO',\n",
       " 'CHRISTINA',\n",
       " 'JAYME',\n",
       " 'ESTELA',\n",
       " 'COREY',\n",
       " 'MILAGROS',\n",
       " 'LIZELLE',\n",
       " 'MARIANO',\n",
       " 'DENISHA',\n",
       " 'ALISON',\n",
       " 'MURRAY',\n",
       " 'SOCORRO',\n",
       " 'LANCE',\n",
       " 'HUAN',\n",
       " 'LEONEL',\n",
       " 'DANNY',\n",
       " 'NANCIE',\n",
       " 'FRANCISCO',\n",
       " 'ARIEH',\n",
       " 'ARTURO',\n",
       " 'SABINE',\n",
       " 'DELOS',\n",
       " 'LEROY',\n",
       " 'CAROLINO',\n",
       " 'DARLA',\n",
       " 'IGNATIUS',\n",
       " 'KAY',\n",
       " 'LIANE',\n",
       " 'TAIRA',\n",
       " 'PEDRO',\n",
       " 'LAIN',\n",
       " 'KUNTHEA',\n",
       " 'PRIVADO',\n",
       " 'CULLEN',\n",
       " 'RON',\n",
       " 'MATILDE',\n",
       " 'ERIN',\n",
       " 'CLARENCE',\n",
       " 'ARAM',\n",
       " 'PAGET',\n",
       " 'ELSIE',\n",
       " 'MEE-LOI',\n",
       " 'CAN',\n",
       " 'AMADOR',\n",
       " 'JANICE',\n",
       " 'SEERANEE',\n",
       " 'ARLISA',\n",
       " 'LAUREN',\n",
       " 'BIRHANU',\n",
       " 'KAN',\n",
       " 'MANNY',\n",
       " 'RICA',\n",
       " 'EMELITA',\n",
       " 'CLEOTILDE',\n",
       " 'MA',\n",
       " 'SERAFIN',\n",
       " 'THIP',\n",
       " 'ANTONIETA',\n",
       " 'JASSEN',\n",
       " 'ERNA',\n",
       " 'JAMALA',\n",
       " 'LORRAINE',\n",
       " 'SISINIA',\n",
       " 'WAYLEN',\n",
       " 'KITT',\n",
       " 'FIDELITA',\n",
       " 'PARVEEN',\n",
       " 'TOMMY',\n",
       " 'NELLIE',\n",
       " 'TREVOR',\n",
       " 'SIRINIRUNDOR',\n",
       " 'BELLA',\n",
       " 'NOIME',\n",
       " 'RODNEY',\n",
       " 'REGINALD',\n",
       " 'VAL',\n",
       " 'EDRIC',\n",
       " 'ROLANDO',\n",
       " 'GILBERT',\n",
       " 'DUNCAN',\n",
       " 'HUMBERTO',\n",
       " 'YU-RUO',\n",
       " 'FIDEL',\n",
       " 'SHANTE',\n",
       " 'HONESTO',\n",
       " 'CEZAR',\n",
       " 'TILAFAIGA',\n",
       " 'SHAWNE',\n",
       " 'OSBALDO',\n",
       " 'JEANNE',\n",
       " 'CHIU',\n",
       " 'BRENDA',\n",
       " 'HELEN',\n",
       " 'RUBY',\n",
       " 'SAGIV',\n",
       " 'REYNALDO',\n",
       " 'WINILYN',\n",
       " 'LIE',\n",
       " 'WILMA',\n",
       " 'JOHNATHAN',\n",
       " 'CARMELITA',\n",
       " 'BUD',\n",
       " 'STACY',\n",
       " 'LEONOR',\n",
       " 'SUZANA',\n",
       " 'CHAIGNE',\n",
       " 'YUKIO',\n",
       " 'MOHAMMAD',\n",
       " 'IRENE',\n",
       " 'JENNY',\n",
       " 'KRISTIANE',\n",
       " 'ELMER',\n",
       " 'DAMIAN',\n",
       " 'JANE',\n",
       " 'MARIABENE',\n",
       " 'ROSALYN',\n",
       " 'MARIE',\n",
       " 'KIRT',\n",
       " 'CARLA',\n",
       " 'TRACE',\n",
       " 'GENEVIEVE',\n",
       " 'PRISCILLA',\n",
       " 'CAROLE',\n",
       " 'SANJAY',\n",
       " 'RODERICK',\n",
       " 'FU-KI',\n",
       " 'RONDAA',\n",
       " 'CRISELDA',\n",
       " 'PURITA',\n",
       " 'GAYLORD',\n",
       " 'MACARIA',\n",
       " 'CARY',\n",
       " 'ALARIC',\n",
       " 'RACHAEL',\n",
       " 'KENNY',\n",
       " 'STELLA',\n",
       " 'SANTIAGO',\n",
       " 'DERICK',\n",
       " 'M',\n",
       " 'HING',\n",
       " 'MARIALUZ',\n",
       " 'BEGONIA',\n",
       " 'MOLI',\n",
       " 'WINNETTE',\n",
       " 'TERRENCE',\n",
       " 'ERNESTO',\n",
       " 'HAN',\n",
       " 'NIMFA',\n",
       " 'MYRON',\n",
       " 'WAYLAND',\n",
       " 'CONROY',\n",
       " 'MYRA',\n",
       " 'JEROME',\n",
       " 'OCEAN',\n",
       " 'ANDREA',\n",
       " 'LIANA',\n",
       " 'CHINLI',\n",
       " 'MAHMOOD',\n",
       " 'EDER',\n",
       " 'ALDO',\n",
       " 'MARVIN',\n",
       " 'EDMOND',\n",
       " 'PERCY',\n",
       " 'AVELINO',\n",
       " 'MOSES',\n",
       " 'ELI',\n",
       " 'RENITA',\n",
       " 'FLORA',\n",
       " 'LESTER',\n",
       " 'PANHIA',\n",
       " 'CARMEL',\n",
       " ...]"
      ]
     },
     "execution_count": 177,
     "metadata": {},
     "output_type": "execute_result"
    }
   ],
   "source": [
    "### Learned how to make a list out of a pd.Series\n",
    "\n",
    "sf.FirstName.unique().tolist()"
   ]
  },
  {
   "cell_type": "code",
   "execution_count": 232,
   "metadata": {
    "collapsed": false,
    "deletable": true,
    "editable": true
   },
   "outputs": [],
   "source": [
    "### Below I am trying to get unique names into either a single \n",
    "### dataframe to loop into URL or list of names seperated by \";\""
   ]
  },
  {
   "cell_type": "code",
   "execution_count": 233,
   "metadata": {
    "collapsed": false,
    "deletable": true,
    "editable": true
   },
   "outputs": [],
   "source": [
    "sf_names = sf.groupby('FirstName').size().sort_values(ascending=False)[0:500]\n",
    "sf_names = sf_names.to_frame()\n",
    "### Here I am trying to rename the header so that I can alienate index = 0\n",
    "### sf_names.columns = [\"FirstName\", \"Count\"]"
   ]
  },
  {
   "cell_type": "code",
   "execution_count": 130,
   "metadata": {
    "collapsed": false,
    "deletable": true,
    "editable": true
   },
   "outputs": [],
   "source": [
    "# Here we will utilize the gender-api.com to obtain the sex from the FirstName column\n",
    "\n",
    "import json\n",
    "from urllib.request import urlopen"
   ]
  },
  {
   "cell_type": "code",
   "execution_count": 110,
   "metadata": {
    "collapsed": false,
    "deletable": true,
    "editable": true
   },
   "outputs": [],
   "source": [
    "myKey = \"TAwMTNVKfmMTYLWcbU\""
   ]
  },
  {
   "cell_type": "code",
   "execution_count": 147,
   "metadata": {
    "collapsed": true,
    "deletable": true,
    "editable": true
   },
   "outputs": [],
   "source": [
    "url = \"https://gender-api.com/get?key=\" + myKey + \"&name=SHOU;LOURNA\""
   ]
  },
  {
   "cell_type": "code",
   "execution_count": 148,
   "metadata": {
    "collapsed": true,
    "deletable": true,
    "editable": true
   },
   "outputs": [],
   "source": [
    "response = urlopen(url)"
   ]
  },
  {
   "cell_type": "code",
   "execution_count": 149,
   "metadata": {
    "collapsed": false,
    "deletable": true,
    "editable": true
   },
   "outputs": [],
   "source": [
    "decoded = response.read().decode('utf-8')"
   ]
  },
  {
   "cell_type": "code",
   "execution_count": 150,
   "metadata": {
    "collapsed": false,
    "deletable": true,
    "editable": true
   },
   "outputs": [],
   "source": [
    "data = json.loads(decoded)"
   ]
  },
  {
   "cell_type": "code",
   "execution_count": 157,
   "metadata": {
    "collapsed": false,
    "deletable": true,
    "editable": true
   },
   "outputs": [
    {
     "data": {
      "text/plain": [
       "{'duration': '15ms',\n",
       " 'name': 'shou;lourna',\n",
       " 'result': [{'accuracy': 92,\n",
       "   'gender': 'female',\n",
       "   'name': 'lourna',\n",
       "   'samples': 12},\n",
       "  {'accuracy': 80, 'gender': 'male', 'name': 'shou', 'samples': 203}]}"
      ]
     },
     "execution_count": 157,
     "metadata": {},
     "output_type": "execute_result"
    }
   ],
   "source": [
    "data"
   ]
  },
  {
   "cell_type": "code",
   "execution_count": 153,
   "metadata": {
    "collapsed": true,
    "deletable": true,
    "editable": true
   },
   "outputs": [],
   "source": [
    "import json\n",
    "from pandas.io.json import json_normalize"
   ]
  },
  {
   "cell_type": "code",
   "execution_count": 158,
   "metadata": {
    "collapsed": false,
    "deletable": true,
    "editable": true
   },
   "outputs": [
    {
     "data": {
      "text/html": [
       "<div>\n",
       "<table border=\"1\" class=\"dataframe\">\n",
       "  <thead>\n",
       "    <tr style=\"text-align: right;\">\n",
       "      <th></th>\n",
       "      <th>accuracy</th>\n",
       "      <th>gender</th>\n",
       "      <th>name</th>\n",
       "      <th>samples</th>\n",
       "    </tr>\n",
       "  </thead>\n",
       "  <tbody>\n",
       "    <tr>\n",
       "      <th>0</th>\n",
       "      <td>92</td>\n",
       "      <td>female</td>\n",
       "      <td>lourna</td>\n",
       "      <td>12</td>\n",
       "    </tr>\n",
       "    <tr>\n",
       "      <th>1</th>\n",
       "      <td>80</td>\n",
       "      <td>male</td>\n",
       "      <td>shou</td>\n",
       "      <td>203</td>\n",
       "    </tr>\n",
       "  </tbody>\n",
       "</table>\n",
       "</div>"
      ],
      "text/plain": [
       "   accuracy  gender    name  samples\n",
       "0        92  female  lourna       12\n",
       "1        80    male    shou      203"
      ]
     },
     "execution_count": 158,
     "metadata": {},
     "output_type": "execute_result"
    }
   ],
   "source": [
    "json_normalize(data, 'result')"
   ]
  },
  {
   "cell_type": "code",
   "execution_count": 123,
   "metadata": {
    "collapsed": false,
    "deletable": true,
    "editable": true
   },
   "outputs": [
    {
     "name": "stdout",
     "output_type": "stream",
     "text": [
      "Gender: female\n"
     ]
    }
   ],
   "source": [
    "print( \"Gender: \" + data[\"gender\"]); #Gender: male"
   ]
  },
  {
   "cell_type": "markdown",
   "metadata": {
    "deletable": true,
    "editable": true
   },
   "source": [
    "### -----------------------------------------------------------------------------------------------"
   ]
  },
  {
   "cell_type": "code",
   "execution_count": null,
   "metadata": {
    "collapsed": true,
    "deletable": true,
    "editable": true
   },
   "outputs": [],
   "source": []
  },
  {
   "cell_type": "code",
   "execution_count": 39,
   "metadata": {
    "collapsed": true,
    "deletable": true,
    "editable": true
   },
   "outputs": [],
   "source": [
    "# Can you compare two related quantities?"
   ]
  },
  {
   "cell_type": "code",
   "execution_count": 43,
   "metadata": {
    "collapsed": true,
    "deletable": true,
    "editable": true
   },
   "outputs": [],
   "source": [
    "# Can you make a scatterplot?"
   ]
  },
  {
   "cell_type": "code",
   "execution_count": 44,
   "metadata": {
    "collapsed": true,
    "deletable": true,
    "editable": true
   },
   "outputs": [],
   "source": [
    "# Can you make a time-series plot?"
   ]
  },
  {
   "cell_type": "code",
   "execution_count": 45,
   "metadata": {
    "collapsed": true,
    "deletable": true,
    "editable": true
   },
   "outputs": [],
   "source": [
    "# How have salaries changed over time between different groups of people?"
   ]
  },
  {
   "cell_type": "code",
   "execution_count": 46,
   "metadata": {
    "collapsed": true,
    "deletable": true,
    "editable": true
   },
   "outputs": [],
   "source": [
    "# How are base pay, overtime pay and benefits allocated between different groups?"
   ]
  },
  {
   "cell_type": "code",
   "execution_count": 47,
   "metadata": {
    "collapsed": true,
    "deletable": true,
    "editable": true
   },
   "outputs": [],
   "source": [
    "# Can we split the dataset between males and females?"
   ]
  },
  {
   "cell_type": "code",
   "execution_count": 48,
   "metadata": {
    "collapsed": true,
    "deletable": true,
    "editable": true
   },
   "outputs": [],
   "source": [
    "# Is there any evidene of pay discrimination based on gender in this dataset?"
   ]
  },
  {
   "cell_type": "code",
   "execution_count": 49,
   "metadata": {
    "collapsed": true,
    "deletable": true,
    "editable": true
   },
   "outputs": [],
   "source": [
    "# How is budget allocated based on different groups and responsibilities?"
   ]
  },
  {
   "cell_type": "code",
   "execution_count": 50,
   "metadata": {
    "collapsed": true,
    "deletable": true,
    "editable": true
   },
   "outputs": [],
   "source": [
    "# Any 80/20 principals I can identify?"
   ]
  },
  {
   "cell_type": "code",
   "execution_count": 51,
   "metadata": {
    "collapsed": false,
    "deletable": true,
    "editable": true
   },
   "outputs": [],
   "source": [
    "# Integrate ideas from here:\n",
    "# https://public.tableau.com/profile/lawrence.chernin#!/vizhome/SanFranciscoSalaries/CountsbyTitle"
   ]
  },
  {
   "cell_type": "code",
   "execution_count": null,
   "metadata": {
    "collapsed": true,
    "deletable": true,
    "editable": true
   },
   "outputs": [],
   "source": []
  },
  {
   "cell_type": "markdown",
   "metadata": {
    "deletable": true,
    "editable": true
   },
   "source": [
    "## Questions to Explore"
   ]
  },
  {
   "cell_type": "code",
   "execution_count": 33,
   "metadata": {
    "collapsed": true,
    "deletable": true,
    "editable": true
   },
   "outputs": [],
   "source": [
    "# Are there any duplicate names in the dataset?"
   ]
  },
  {
   "cell_type": "code",
   "execution_count": 34,
   "metadata": {
    "collapsed": true,
    "deletable": true,
    "editable": true
   },
   "outputs": [],
   "source": [
    "# Which employee has been employed three years?"
   ]
  },
  {
   "cell_type": "code",
   "execution_count": 35,
   "metadata": {
    "collapsed": true,
    "deletable": true,
    "editable": true
   },
   "outputs": [],
   "source": [
    "# What is the correlation between titles and salaries?"
   ]
  }
 ],
 "metadata": {
  "kernelspec": {
   "display_name": "Python [default]",
   "language": "python",
   "name": "python3"
  },
  "language_info": {
   "codemirror_mode": {
    "name": "ipython",
    "version": 3
   },
   "file_extension": ".py",
   "mimetype": "text/x-python",
   "name": "python",
   "nbconvert_exporter": "python",
   "pygments_lexer": "ipython3",
   "version": "3.6.1"
  }
 },
 "nbformat": 4,
 "nbformat_minor": 2
}
