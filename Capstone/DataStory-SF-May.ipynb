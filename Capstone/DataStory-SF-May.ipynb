{
 "cells": [
  {
   "cell_type": "code",
   "execution_count": 208,
   "metadata": {
    "collapsed": true
   },
   "outputs": [],
   "source": [
    "import pandas as pd\n",
    "import numpy as np"
   ]
  },
  {
   "cell_type": "code",
   "execution_count": 209,
   "metadata": {
    "collapsed": true
   },
   "outputs": [],
   "source": [
    "# pd.set_option('precision',2)\n",
    "# locale.setlocale( locale.LC_ALL, 'English_United States.1252')\n",
    "# locale._override_localeconv = {'n_sign_posn':1}\n",
    "\n",
    "import pandas as pd\n",
    "import locale"
   ]
  },
  {
   "cell_type": "code",
   "execution_count": 210,
   "metadata": {
    "collapsed": true
   },
   "outputs": [],
   "source": [
    "get_ipython().magic('matplotlib inline')\n",
    "import matplotlib.pylab as plt\n",
    "import seaborn as sns\n",
    "# import ggplot as gg\n",
    "# from ggplot import *\n",
    "import bokeh as bkh\n",
    "from bokeh.layouts import row\n",
    "from bokeh.plotting import figure, show, output_file"
   ]
  },
  {
   "cell_type": "code",
   "execution_count": 211,
   "metadata": {
    "collapsed": true
   },
   "outputs": [],
   "source": [
    "# dataset from https://www.kaggle.com/kaggle/sf-salaries\n",
    "# sf2014\n",
    "sf = pd.read_csv('data/sf-salaries/Salaries.csv', usecols=[0,1,2,3,4,5,6,7,9,11,12], dtype={3: object, 4: object, 5: object, 6: object, 12: object}, na_values=['Not Provided', 'Not provided', 'not provided'])"
   ]
  },
  {
   "cell_type": "markdown",
   "metadata": {},
   "source": [
    "Submission Requirements: \n",
    "    \n",
    "Submit links to a Github repository containing a Jupyter notebook. The notebook should contain:\n",
    "\n",
    "* The questions you asked\n",
    "* The trends you investigated\n",
    "* The resulting visualizations and conclusions."
   ]
  },
  {
   "cell_type": "markdown",
   "metadata": {},
   "source": [
    "\n",
    "## Defination of the columns:\n",
    "\n",
    "### Numeric (needs conversion to numeric):\n",
    "##### 1. BasePay, OvertimePay, OtherPay, Benefits, TotalPay\n",
    "\n",
    "### Categorical:\n",
    "##### 1. Id, EmployeeName, JobTitle, Agency, Status\n"
   ]
  },
  {
   "cell_type": "markdown",
   "metadata": {},
   "source": [
    "## Starting Analysis"
   ]
  },
  {
   "cell_type": "markdown",
   "metadata": {},
   "source": [
    "* Agency - Represents a region in the larger datasets.\n",
    "* BasePay - The base rate of pay for a job or activity, excluding additional payments such as overtime or bonuses.\n",
    "* Benefits - Employees pension plan, free health insurance, and other benefits.\n",
    "* EmployeeName - Full Name (we can try to use this to analyze gender discrimination)\n",
    "* Id - Original order of employees from sf2014 dataset, field does not exist in sf 2015\n",
    "* JobTitle - Employee position held. (There seem to be differences in naming between datasets.)\n",
    "* Notes - Empty\n",
    "* OtherPay - Not sure but I would imagine Bonuses or other 'special' benefits. Could include personal flights on public aircrafts.\n",
    "* OvertimePay - Time paid at California's's 1.5x base pay for over time.\n",
    "* Status - Classification as FT (Full Time) or PT (Part Time) employee. Only tracked after 2013.\n",
    "* TotalPay - BasePay + OvertimePay + OtherPay\n",
    "* Year - Payroll year"
   ]
  },
  {
   "cell_type": "code",
   "execution_count": 212,
   "metadata": {},
   "outputs": [
    {
     "data": {
      "text/html": [
       "<div>\n",
       "<style>\n",
       "    .dataframe thead tr:only-child th {\n",
       "        text-align: right;\n",
       "    }\n",
       "\n",
       "    .dataframe thead th {\n",
       "        text-align: left;\n",
       "    }\n",
       "\n",
       "    .dataframe tbody tr th {\n",
       "        vertical-align: top;\n",
       "    }\n",
       "</style>\n",
       "<table border=\"1\" class=\"dataframe\">\n",
       "  <thead>\n",
       "    <tr style=\"text-align: right;\">\n",
       "      <th></th>\n",
       "      <th>Id</th>\n",
       "      <th>EmployeeName</th>\n",
       "      <th>JobTitle</th>\n",
       "      <th>BasePay</th>\n",
       "      <th>OvertimePay</th>\n",
       "      <th>OtherPay</th>\n",
       "      <th>Benefits</th>\n",
       "      <th>TotalPay</th>\n",
       "      <th>Year</th>\n",
       "      <th>Agency</th>\n",
       "      <th>Status</th>\n",
       "    </tr>\n",
       "  </thead>\n",
       "  <tbody>\n",
       "    <tr>\n",
       "      <th>0</th>\n",
       "      <td>1</td>\n",
       "      <td>NATHANIEL FORD</td>\n",
       "      <td>GENERAL MANAGER-METROPOLITAN TRANSIT AUTHORITY</td>\n",
       "      <td>167411.18</td>\n",
       "      <td>0.0</td>\n",
       "      <td>400184.25</td>\n",
       "      <td>NaN</td>\n",
       "      <td>567595.43</td>\n",
       "      <td>2011</td>\n",
       "      <td>San Francisco</td>\n",
       "      <td>NaN</td>\n",
       "    </tr>\n",
       "    <tr>\n",
       "      <th>1</th>\n",
       "      <td>2</td>\n",
       "      <td>GARY JIMENEZ</td>\n",
       "      <td>CAPTAIN III (POLICE DEPARTMENT)</td>\n",
       "      <td>155966.02</td>\n",
       "      <td>245131.88</td>\n",
       "      <td>137811.38</td>\n",
       "      <td>NaN</td>\n",
       "      <td>538909.28</td>\n",
       "      <td>2011</td>\n",
       "      <td>San Francisco</td>\n",
       "      <td>NaN</td>\n",
       "    </tr>\n",
       "    <tr>\n",
       "      <th>2</th>\n",
       "      <td>3</td>\n",
       "      <td>ALBERT PARDINI</td>\n",
       "      <td>CAPTAIN III (POLICE DEPARTMENT)</td>\n",
       "      <td>212739.13</td>\n",
       "      <td>106088.18</td>\n",
       "      <td>16452.6</td>\n",
       "      <td>NaN</td>\n",
       "      <td>335279.91</td>\n",
       "      <td>2011</td>\n",
       "      <td>San Francisco</td>\n",
       "      <td>NaN</td>\n",
       "    </tr>\n",
       "    <tr>\n",
       "      <th>3</th>\n",
       "      <td>4</td>\n",
       "      <td>CHRISTOPHER CHONG</td>\n",
       "      <td>WIRE ROPE CABLE MAINTENANCE MECHANIC</td>\n",
       "      <td>77916.0</td>\n",
       "      <td>56120.71</td>\n",
       "      <td>198306.9</td>\n",
       "      <td>NaN</td>\n",
       "      <td>332343.61</td>\n",
       "      <td>2011</td>\n",
       "      <td>San Francisco</td>\n",
       "      <td>NaN</td>\n",
       "    </tr>\n",
       "    <tr>\n",
       "      <th>4</th>\n",
       "      <td>5</td>\n",
       "      <td>PATRICK GARDNER</td>\n",
       "      <td>DEPUTY CHIEF OF DEPARTMENT,(FIRE DEPARTMENT)</td>\n",
       "      <td>134401.6</td>\n",
       "      <td>9737.0</td>\n",
       "      <td>182234.59</td>\n",
       "      <td>NaN</td>\n",
       "      <td>326373.19</td>\n",
       "      <td>2011</td>\n",
       "      <td>San Francisco</td>\n",
       "      <td>NaN</td>\n",
       "    </tr>\n",
       "  </tbody>\n",
       "</table>\n",
       "</div>"
      ],
      "text/plain": [
       "   Id       EmployeeName                                        JobTitle  \\\n",
       "0   1     NATHANIEL FORD  GENERAL MANAGER-METROPOLITAN TRANSIT AUTHORITY   \n",
       "1   2       GARY JIMENEZ                 CAPTAIN III (POLICE DEPARTMENT)   \n",
       "2   3     ALBERT PARDINI                 CAPTAIN III (POLICE DEPARTMENT)   \n",
       "3   4  CHRISTOPHER CHONG            WIRE ROPE CABLE MAINTENANCE MECHANIC   \n",
       "4   5    PATRICK GARDNER    DEPUTY CHIEF OF DEPARTMENT,(FIRE DEPARTMENT)   \n",
       "\n",
       "     BasePay OvertimePay   OtherPay Benefits   TotalPay  Year         Agency  \\\n",
       "0  167411.18         0.0  400184.25      NaN  567595.43  2011  San Francisco   \n",
       "1  155966.02   245131.88  137811.38      NaN  538909.28  2011  San Francisco   \n",
       "2  212739.13   106088.18    16452.6      NaN  335279.91  2011  San Francisco   \n",
       "3    77916.0    56120.71   198306.9      NaN  332343.61  2011  San Francisco   \n",
       "4   134401.6      9737.0  182234.59      NaN  326373.19  2011  San Francisco   \n",
       "\n",
       "  Status  \n",
       "0    NaN  \n",
       "1    NaN  \n",
       "2    NaN  \n",
       "3    NaN  \n",
       "4    NaN  "
      ]
     },
     "execution_count": 212,
     "metadata": {},
     "output_type": "execute_result"
    }
   ],
   "source": [
    "sf.head()"
   ]
  },
  {
   "cell_type": "markdown",
   "metadata": {},
   "source": [
    "# Questions\n",
    "\n",
    "* How many employees does San Francisco employ?\n",
    "* What are the job titles of these employees?\n",
    "* How much on average does SF pay?\n",
    "* San Francisco payroll, as well as California, in general have a much higher payroll than other cities of similar size, is there a reason why?"
   ]
  },
  {
   "cell_type": "code",
   "execution_count": 213,
   "metadata": {},
   "outputs": [
    {
     "data": {
      "text/plain": [
       "Id                   0\n",
       "EmployeeName         6\n",
       "JobTitle             4\n",
       "BasePay            609\n",
       "OvertimePay          4\n",
       "OtherPay             4\n",
       "Benefits         36163\n",
       "TotalPay             0\n",
       "Year                 0\n",
       "Agency               0\n",
       "Status          110535\n",
       "dtype: int64"
      ]
     },
     "execution_count": 213,
     "metadata": {},
     "output_type": "execute_result"
    }
   ],
   "source": [
    "sf.isnull().sum()"
   ]
  },
  {
   "cell_type": "code",
   "execution_count": 214,
   "metadata": {},
   "outputs": [
    {
     "data": {
      "text/plain": [
       "array(['San Francisco'], dtype=object)"
      ]
     },
     "execution_count": 214,
     "metadata": {},
     "output_type": "execute_result"
    }
   ],
   "source": [
    "sf.Agency.unique()"
   ]
  },
  {
   "cell_type": "markdown",
   "metadata": {},
   "source": [
    "Since the Agency field only contains one unique value, I will remove the field. Notices field is null."
   ]
  },
  {
   "cell_type": "code",
   "execution_count": 215,
   "metadata": {
    "collapsed": true
   },
   "outputs": [],
   "source": [
    "# del sf['Notes']\n",
    "\n",
    "# Here is another way of dropping a field.\n",
    "\n",
    "sf.drop(['Agency'], axis=1, inplace=True)"
   ]
  },
  {
   "cell_type": "markdown",
   "metadata": {},
   "source": [
    "Here I am going to do basic data standardization and cleaning so that it is easier to work with this dataset."
   ]
  },
  {
   "cell_type": "code",
   "execution_count": 216,
   "metadata": {
    "collapsed": true
   },
   "outputs": [],
   "source": [
    "# I am also going to delete any observation where JobTitle is 'Not provided' so that the field can be indexed\n",
    "sf = sf[sf.JobTitle.notnull()]\n",
    "\n",
    "# Filling in 'Benefits' if NaN, fill with 0\n",
    "sf['Benefits'].fillna(0, inplace=True)\n",
    "\n",
    "# Replace NaN status with \"Unknown\", since we don't know if its FT or PT work, easier categorization later.\n",
    "# sf['Status'].fillna(\"Unknown\", inplace=True)\n",
    "\n",
    "# Convert all JobTitle to upper-case character so there is no differentiation in data.\n",
    "sf['JobTitle'] = sf.JobTitle.str.upper()\n",
    "\n",
    "# Convert all EmployeeName to upper-case character so there is no differentiation in data. \n",
    "# Note: I noticed in pivots duplicate entries if the letter is not standardized.\n",
    "sf['EmployeeName'] = sf.EmployeeName.str.upper()"
   ]
  },
  {
   "cell_type": "code",
   "execution_count": 217,
   "metadata": {},
   "outputs": [
    {
     "data": {
      "text/plain": [
       "Id                   0\n",
       "EmployeeName         2\n",
       "JobTitle             0\n",
       "BasePay            605\n",
       "OvertimePay          0\n",
       "OtherPay             0\n",
       "Benefits             0\n",
       "TotalPay             0\n",
       "Year                 0\n",
       "Status          110531\n",
       "dtype: int64"
      ]
     },
     "execution_count": 217,
     "metadata": {},
     "output_type": "execute_result"
    }
   ],
   "source": [
    "# Much cleaner now\n",
    "sf.isnull().sum()"
   ]
  },
  {
   "cell_type": "markdown",
   "metadata": {},
   "source": [
    "NOTE: From reading on the website (where I pulled the dataset) I already saw that there records with zero BasePay, but instead amounts appear in OtherPay and TotalPay, thus 605 null BasePay records does not suprise me."
   ]
  },
  {
   "cell_type": "code",
   "execution_count": 218,
   "metadata": {},
   "outputs": [
    {
     "data": {
      "text/plain": [
       "Id                int64\n",
       "EmployeeName     object\n",
       "JobTitle         object\n",
       "BasePay          object\n",
       "OvertimePay      object\n",
       "OtherPay         object\n",
       "Benefits         object\n",
       "TotalPay        float64\n",
       "Year              int64\n",
       "Status           object\n",
       "dtype: object"
      ]
     },
     "execution_count": 218,
     "metadata": {},
     "output_type": "execute_result"
    }
   ],
   "source": [
    "sf.dtypes"
   ]
  },
  {
   "cell_type": "markdown",
   "metadata": {},
   "source": [
    "Now we need to convert BasePay, OvertimePay, OtherPay, Benefits to a numeric field."
   ]
  },
  {
   "cell_type": "code",
   "execution_count": 219,
   "metadata": {
    "collapsed": true
   },
   "outputs": [],
   "source": [
    "sf.BasePay = sf.BasePay.str.lstrip('$')\n",
    "sf.OtherPay = sf.OtherPay.str.lstrip('$')\n",
    "sf.OvertimePay = sf.OvertimePay.str.lstrip('$')\n",
    "# sf.TotalPay = sf.TotalPay.str.lstrip('$')\n",
    "sf.Benefits = sf.Benefits.str.lstrip('$')"
   ]
  },
  {
   "cell_type": "code",
   "execution_count": 220,
   "metadata": {
    "collapsed": true
   },
   "outputs": [],
   "source": [
    "sf.BasePay = sf.BasePay.str.replace(',','')\n",
    "sf.OtherPay = sf.OtherPay.str.replace(',','')\n",
    "sf.OvertimePay = sf.OvertimePay.str.replace(',','')\n",
    "# sf.TotalPay = sf.TotalPay.str.replace(',','')\n",
    "sf.Benefits = sf.Benefits.str.replace(',','')"
   ]
  },
  {
   "cell_type": "code",
   "execution_count": 221,
   "metadata": {
    "collapsed": true
   },
   "outputs": [],
   "source": [
    "sf.BasePay = pd.to_numeric(sf.BasePay)\n",
    "sf.OvertimePay = pd.to_numeric(sf['OvertimePay'])\n",
    "sf.OtherPay = pd.to_numeric(sf['OtherPay'])\n",
    "sf.Benefits = pd.to_numeric(sf['Benefits'])\n",
    "sf.TotalPay = pd.to_numeric(sf['TotalPay'])"
   ]
  },
  {
   "cell_type": "code",
   "execution_count": 222,
   "metadata": {
    "collapsed": true
   },
   "outputs": [],
   "source": [
    "# sf['BasePay'] = pd.to_numeric(sf['BasePay'])\n",
    "# sf['OvertimePay'] = pd.to_numeric(sf['OvertimePay'])\n",
    "# sf['OtherPay'] = pd.to_numeric(sf['OtherPay'])\n",
    "# sf['Benefits'] = pd.to_numeric(sf['Benefits'])\n",
    "# sf['TotalPay'] = pd.to_numeric(sf['TotalPay'])"
   ]
  },
  {
   "cell_type": "code",
   "execution_count": 223,
   "metadata": {},
   "outputs": [
    {
     "data": {
      "text/plain": [
       "Id                int64\n",
       "EmployeeName     object\n",
       "JobTitle         object\n",
       "BasePay         float64\n",
       "OvertimePay     float64\n",
       "OtherPay        float64\n",
       "Benefits        float64\n",
       "TotalPay        float64\n",
       "Year              int64\n",
       "Status           object\n",
       "dtype: object"
      ]
     },
     "execution_count": 223,
     "metadata": {},
     "output_type": "execute_result"
    }
   ],
   "source": [
    "sf.dtypes"
   ]
  },
  {
   "cell_type": "markdown",
   "metadata": {},
   "source": [
    "Above we can see that the we properly converted the fields to numeric. Now we can do calculations on numeric fields."
   ]
  },
  {
   "cell_type": "code",
   "execution_count": 224,
   "metadata": {},
   "outputs": [
    {
     "data": {
      "text/html": [
       "<div>\n",
       "<style>\n",
       "    .dataframe thead tr:only-child th {\n",
       "        text-align: right;\n",
       "    }\n",
       "\n",
       "    .dataframe thead th {\n",
       "        text-align: left;\n",
       "    }\n",
       "\n",
       "    .dataframe tbody tr th {\n",
       "        vertical-align: top;\n",
       "    }\n",
       "</style>\n",
       "<table border=\"1\" class=\"dataframe\">\n",
       "  <thead>\n",
       "    <tr style=\"text-align: right;\">\n",
       "      <th></th>\n",
       "      <th>Id</th>\n",
       "      <th>BasePay</th>\n",
       "      <th>OvertimePay</th>\n",
       "      <th>OtherPay</th>\n",
       "      <th>Benefits</th>\n",
       "      <th>TotalPay</th>\n",
       "      <th>Year</th>\n",
       "    </tr>\n",
       "  </thead>\n",
       "  <tbody>\n",
       "    <tr>\n",
       "      <th>count</th>\n",
       "      <td>148650.000000</td>\n",
       "      <td>148045.000000</td>\n",
       "      <td>148650.000000</td>\n",
       "      <td>148650.000000</td>\n",
       "      <td>112491.000000</td>\n",
       "      <td>148650.000000</td>\n",
       "      <td>148650.000000</td>\n",
       "    </tr>\n",
       "    <tr>\n",
       "      <th>mean</th>\n",
       "      <td>74325.500047</td>\n",
       "      <td>66325.448841</td>\n",
       "      <td>5066.059886</td>\n",
       "      <td>3648.767297</td>\n",
       "      <td>25007.893151</td>\n",
       "      <td>74770.333901</td>\n",
       "      <td>2012.522603</td>\n",
       "    </tr>\n",
       "    <tr>\n",
       "      <th>std</th>\n",
       "      <td>42911.703176</td>\n",
       "      <td>42764.635495</td>\n",
       "      <td>11454.380559</td>\n",
       "      <td>8056.601866</td>\n",
       "      <td>15402.215858</td>\n",
       "      <td>50516.196009</td>\n",
       "      <td>1.117526</td>\n",
       "    </tr>\n",
       "    <tr>\n",
       "      <th>min</th>\n",
       "      <td>1.000000</td>\n",
       "      <td>-166.010000</td>\n",
       "      <td>-0.010000</td>\n",
       "      <td>-7058.590000</td>\n",
       "      <td>-33.890000</td>\n",
       "      <td>-618.130000</td>\n",
       "      <td>2011.000000</td>\n",
       "    </tr>\n",
       "    <tr>\n",
       "      <th>25%</th>\n",
       "      <td>37163.250000</td>\n",
       "      <td>33588.200000</td>\n",
       "      <td>0.000000</td>\n",
       "      <td>0.000000</td>\n",
       "      <td>11535.395000</td>\n",
       "      <td>36169.955000</td>\n",
       "      <td>2012.000000</td>\n",
       "    </tr>\n",
       "    <tr>\n",
       "      <th>50%</th>\n",
       "      <td>74325.500000</td>\n",
       "      <td>65007.450000</td>\n",
       "      <td>0.000000</td>\n",
       "      <td>811.270000</td>\n",
       "      <td>28628.620000</td>\n",
       "      <td>71427.240000</td>\n",
       "      <td>2013.000000</td>\n",
       "    </tr>\n",
       "    <tr>\n",
       "      <th>75%</th>\n",
       "      <td>111487.750000</td>\n",
       "      <td>94691.050000</td>\n",
       "      <td>4658.175000</td>\n",
       "      <td>4236.065000</td>\n",
       "      <td>35566.855000</td>\n",
       "      <td>105842.960000</td>\n",
       "      <td>2014.000000</td>\n",
       "    </tr>\n",
       "    <tr>\n",
       "      <th>max</th>\n",
       "      <td>148654.000000</td>\n",
       "      <td>319275.010000</td>\n",
       "      <td>245131.880000</td>\n",
       "      <td>400184.250000</td>\n",
       "      <td>96570.660000</td>\n",
       "      <td>567595.430000</td>\n",
       "      <td>2014.000000</td>\n",
       "    </tr>\n",
       "  </tbody>\n",
       "</table>\n",
       "</div>"
      ],
      "text/plain": [
       "                  Id        BasePay    OvertimePay       OtherPay  \\\n",
       "count  148650.000000  148045.000000  148650.000000  148650.000000   \n",
       "mean    74325.500047   66325.448841    5066.059886    3648.767297   \n",
       "std     42911.703176   42764.635495   11454.380559    8056.601866   \n",
       "min         1.000000    -166.010000      -0.010000   -7058.590000   \n",
       "25%     37163.250000   33588.200000       0.000000       0.000000   \n",
       "50%     74325.500000   65007.450000       0.000000     811.270000   \n",
       "75%    111487.750000   94691.050000    4658.175000    4236.065000   \n",
       "max    148654.000000  319275.010000  245131.880000  400184.250000   \n",
       "\n",
       "            Benefits       TotalPay           Year  \n",
       "count  112491.000000  148650.000000  148650.000000  \n",
       "mean    25007.893151   74770.333901    2012.522603  \n",
       "std     15402.215858   50516.196009       1.117526  \n",
       "min       -33.890000    -618.130000    2011.000000  \n",
       "25%     11535.395000   36169.955000    2012.000000  \n",
       "50%     28628.620000   71427.240000    2013.000000  \n",
       "75%     35566.855000  105842.960000    2014.000000  \n",
       "max     96570.660000  567595.430000    2014.000000  "
      ]
     },
     "execution_count": 224,
     "metadata": {},
     "output_type": "execute_result"
    }
   ],
   "source": [
    "sf.describe()"
   ]
  },
  {
   "cell_type": "markdown",
   "metadata": {},
   "source": [
    "We see that there is some cleaning to do:\n",
    "1. Remove negative salaries\n",
    "2. There is some data with null values based on count values"
   ]
  },
  {
   "cell_type": "code",
   "execution_count": 225,
   "metadata": {
    "collapsed": true
   },
   "outputs": [],
   "source": [
    "sf = sf[sf.BasePay > 0]\n",
    "sf = sf[sf.OvertimePay > 0]\n",
    "sf = sf[sf.OtherPay > 0]\n",
    "sf = sf[sf.TotalPay > 0]"
   ]
  },
  {
   "cell_type": "code",
   "execution_count": 226,
   "metadata": {},
   "outputs": [
    {
     "data": {
      "text/html": [
       "<div>\n",
       "<style>\n",
       "    .dataframe thead tr:only-child th {\n",
       "        text-align: right;\n",
       "    }\n",
       "\n",
       "    .dataframe thead th {\n",
       "        text-align: left;\n",
       "    }\n",
       "\n",
       "    .dataframe tbody tr th {\n",
       "        vertical-align: top;\n",
       "    }\n",
       "</style>\n",
       "<table border=\"1\" class=\"dataframe\">\n",
       "  <thead>\n",
       "    <tr style=\"text-align: right;\">\n",
       "      <th></th>\n",
       "      <th>Id</th>\n",
       "      <th>BasePay</th>\n",
       "      <th>OvertimePay</th>\n",
       "      <th>OtherPay</th>\n",
       "      <th>Benefits</th>\n",
       "      <th>TotalPay</th>\n",
       "      <th>Year</th>\n",
       "    </tr>\n",
       "  </thead>\n",
       "  <tbody>\n",
       "    <tr>\n",
       "      <th>count</th>\n",
       "      <td>64311.000000</td>\n",
       "      <td>64311.000000</td>\n",
       "      <td>64311.000000</td>\n",
       "      <td>64311.000000</td>\n",
       "      <td>48581.000000</td>\n",
       "      <td>64311.000000</td>\n",
       "      <td>64311.000000</td>\n",
       "    </tr>\n",
       "    <tr>\n",
       "      <th>mean</th>\n",
       "      <td>69921.234625</td>\n",
       "      <td>77011.308739</td>\n",
       "      <td>11376.903410</td>\n",
       "      <td>6446.812667</td>\n",
       "      <td>30224.939495</td>\n",
       "      <td>94835.024816</td>\n",
       "      <td>2012.520098</td>\n",
       "    </tr>\n",
       "    <tr>\n",
       "      <th>std</th>\n",
       "      <td>42529.354846</td>\n",
       "      <td>33783.047127</td>\n",
       "      <td>15095.864216</td>\n",
       "      <td>9325.977115</td>\n",
       "      <td>10671.875772</td>\n",
       "      <td>46127.006918</td>\n",
       "      <td>1.120009</td>\n",
       "    </tr>\n",
       "    <tr>\n",
       "      <th>min</th>\n",
       "      <td>2.000000</td>\n",
       "      <td>31.360000</td>\n",
       "      <td>0.020000</td>\n",
       "      <td>0.590000</td>\n",
       "      <td>0.000000</td>\n",
       "      <td>192.430000</td>\n",
       "      <td>2011.000000</td>\n",
       "    </tr>\n",
       "    <tr>\n",
       "      <th>25%</th>\n",
       "      <td>36791.000000</td>\n",
       "      <td>55026.010000</td>\n",
       "      <td>2002.895000</td>\n",
       "      <td>1170.135000</td>\n",
       "      <td>26272.140000</td>\n",
       "      <td>62242.995000</td>\n",
       "      <td>2012.000000</td>\n",
       "    </tr>\n",
       "    <tr>\n",
       "      <th>50%</th>\n",
       "      <td>73703.000000</td>\n",
       "      <td>70547.000000</td>\n",
       "      <td>5798.180000</td>\n",
       "      <td>3739.980000</td>\n",
       "      <td>32154.360000</td>\n",
       "      <td>87419.480000</td>\n",
       "      <td>2013.000000</td>\n",
       "    </tr>\n",
       "    <tr>\n",
       "      <th>75%</th>\n",
       "      <td>111568.500000</td>\n",
       "      <td>104050.425000</td>\n",
       "      <td>14660.640000</td>\n",
       "      <td>8636.530000</td>\n",
       "      <td>37040.200000</td>\n",
       "      <td>125704.520000</td>\n",
       "      <td>2014.000000</td>\n",
       "    </tr>\n",
       "    <tr>\n",
       "      <th>max</th>\n",
       "      <td>147690.000000</td>\n",
       "      <td>318835.490000</td>\n",
       "      <td>245131.880000</td>\n",
       "      <td>203735.920000</td>\n",
       "      <td>89540.230000</td>\n",
       "      <td>538909.280000</td>\n",
       "      <td>2014.000000</td>\n",
       "    </tr>\n",
       "  </tbody>\n",
       "</table>\n",
       "</div>"
      ],
      "text/plain": [
       "                  Id        BasePay    OvertimePay       OtherPay  \\\n",
       "count   64311.000000   64311.000000   64311.000000   64311.000000   \n",
       "mean    69921.234625   77011.308739   11376.903410    6446.812667   \n",
       "std     42529.354846   33783.047127   15095.864216    9325.977115   \n",
       "min         2.000000      31.360000       0.020000       0.590000   \n",
       "25%     36791.000000   55026.010000    2002.895000    1170.135000   \n",
       "50%     73703.000000   70547.000000    5798.180000    3739.980000   \n",
       "75%    111568.500000  104050.425000   14660.640000    8636.530000   \n",
       "max    147690.000000  318835.490000  245131.880000  203735.920000   \n",
       "\n",
       "           Benefits       TotalPay          Year  \n",
       "count  48581.000000   64311.000000  64311.000000  \n",
       "mean   30224.939495   94835.024816   2012.520098  \n",
       "std    10671.875772   46127.006918      1.120009  \n",
       "min        0.000000     192.430000   2011.000000  \n",
       "25%    26272.140000   62242.995000   2012.000000  \n",
       "50%    32154.360000   87419.480000   2013.000000  \n",
       "75%    37040.200000  125704.520000   2014.000000  \n",
       "max    89540.230000  538909.280000   2014.000000  "
      ]
     },
     "execution_count": 226,
     "metadata": {},
     "output_type": "execute_result"
    }
   ],
   "source": [
    "sf.describe()"
   ]
  },
  {
   "cell_type": "code",
   "execution_count": 227,
   "metadata": {},
   "outputs": [
    {
     "name": "stdout",
     "output_type": "stream",
     "text": [
      "Min: 2011\n",
      "Max: 2014\n"
     ]
    }
   ],
   "source": [
    "# Min and max in the dataset\n",
    "print('Min:', sf.Year.min())\n",
    "print('Max:', sf.Year.max())"
   ]
  },
  {
   "cell_type": "code",
   "execution_count": 228,
   "metadata": {},
   "outputs": [
    {
     "name": "stdout",
     "output_type": "stream",
     "text": [
      "2011 15730\n",
      "2012 15983\n",
      "2013 16018\n",
      "2014 16580\n"
     ]
    }
   ],
   "source": [
    "# Count records per year with a loop\n",
    "for y in range(min(sf.Year), max(sf.Year)+1):\n",
    "    print(y, (sf.Year == y).sum())"
   ]
  },
  {
   "cell_type": "code",
   "execution_count": 229,
   "metadata": {},
   "outputs": [
    {
     "data": {
      "text/plain": [
       "<matplotlib.axes._subplots.AxesSubplot at 0x2bda10eeb38>"
      ]
     },
     "execution_count": 229,
     "metadata": {},
     "output_type": "execute_result"
    },
    {
     "data": {
      "image/png": "[encoded data removed]",
      "text/plain": [
       "<matplotlib.figure.Figure at 0x2bda10ee160>"
      ]
     },
     "metadata": {},
     "output_type": "display_data"
    }
   ],
   "source": [
    "# Average Paid by year\n",
    "sf[['Year', \"TotalPay\"]].groupby('Year').mean()\n",
    "sns.barplot(x = \"Year\", y=\"TotalPay\", data = sf)"
   ]
  },
  {
   "cell_type": "code",
   "execution_count": 230,
   "metadata": {},
   "outputs": [
    {
     "name": "stdout",
     "output_type": "stream",
     "text": [
      "Total Paid in four years:\n"
     ]
    },
    {
     "data": {
      "text/plain": [
       "6098935280.970019"
      ]
     },
     "execution_count": 230,
     "metadata": {},
     "output_type": "execute_result"
    }
   ],
   "source": [
    "#Total paid to San Francisco city employees in years 2011 - 2014\n",
    "\n",
    "print('Total Paid in four years:')\n",
    "\n",
    "sf['TotalPay'].sum()"
   ]
  },
  {
   "cell_type": "code",
   "execution_count": 231,
   "metadata": {},
   "outputs": [
    {
     "data": {
      "text/plain": [
       "<matplotlib.axes._subplots.AxesSubplot at 0x2bda114f358>"
      ]
     },
     "execution_count": 231,
     "metadata": {},
     "output_type": "execute_result"
    },
    {
     "data": {
      "image/png": "[encoded data removed]",
      "text/plain": [
       "<matplotlib.figure.Figure at 0x2bda1148be0>"
      ]
     },
     "metadata": {},
     "output_type": "display_data"
    }
   ],
   "source": [
    "JobTitleCount = sf['JobTitle'].value_counts().head(10)\n",
    "JobTitleCount.plot(title = \"Top 10 Jobs by # of People Employed\", kind = 'bar')"
   ]
  },
  {
   "cell_type": "code",
   "execution_count": 232,
   "metadata": {},
   "outputs": [
    {
     "data": {
      "image/png": "[encoded data removed]",
      "text/plain": [
       "<matplotlib.figure.Figure at 0x2bda11919b0>"
      ]
     },
     "metadata": {},
     "output_type": "display_data"
    }
   ],
   "source": [
    "PayByYear = sns.FacetGrid(sf, size=10, aspect=2)\n",
    "PayByYear = PayByYear.map(sns.boxplot, \"TotalPay\")\n",
    "\n",
    "# If this tells us anything, is that there are some extreme outliers."
   ]
  },
  {
   "cell_type": "markdown",
   "metadata": {},
   "source": [
    "We can clearly see that there are some extreme outliers in this dataset.\n",
    "\n",
    "Lets seperate the \"High\" and \"Low\" earners to look at them in greater detail."
   ]
  },
  {
   "cell_type": "markdown",
   "metadata": {},
   "source": [
    "Above we see the 'JobTitles' and 'EmployeeNames' of the \"High Earners\", we additionally learn that many of them hold the position for more than one year.\n",
    "\n",
    "We also see that JobTitles were slightly changed between years, and as a result the same jobs appear seperately, lets create a new field called 'Department' later to hone in and compare departments.\n",
    "\n",
    "There is also the addition of a middle name initial which is creating duplication in data."
   ]
  },
  {
   "cell_type": "code",
   "execution_count": 233,
   "metadata": {
    "collapsed": true
   },
   "outputs": [],
   "source": [
    "# Create a new column called 'Department'\n",
    "sf['Department'] = ''"
   ]
  },
  {
   "cell_type": "markdown",
   "metadata": {},
   "source": [
    "When looking at the 'JobTitles' it is clear that employees can be grouped easily into certain departments such as below:"
   ]
  },
  {
   "cell_type": "code",
   "execution_count": 234,
   "metadata": {
    "collapsed": true
   },
   "outputs": [],
   "source": [
    "sf.loc[sf.JobTitle.str.contains('POLICE'), 'Department'] = \"POLICE\"\n",
    "sf.loc[sf.JobTitle.str.contains(\"FIRE\"), 'Department'] = \"FIRE\"\n",
    "sf.loc[sf.JobTitle.str.contains(\"MEDICAL\"), 'Department'] = \"MEDICAL\"\n",
    "sf.loc[sf.JobTitle.str.contains(\"NURSE\"), 'Department'] = \"MEDICAL\"\n",
    "sf.loc[sf.JobTitle.str.contains(\"TRANSIT\"), 'Department'] = \"TRANSIT\""
   ]
  },
  {
   "cell_type": "code",
   "execution_count": 235,
   "metadata": {},
   "outputs": [
    {
     "name": "stderr",
     "output_type": "stream",
     "text": [
      "C:\\Program Files\\Anaconda3\\lib\\site-packages\\ipykernel\\__main__.py:4: DeprecationWarning: \n",
      ".ix is deprecated. Please use\n",
      ".loc for label based indexing or\n",
      ".iloc for positional indexing\n",
      "\n",
      "See the documentation here:\n",
      "http://pandas.pydata.org/pandas-docs/stable/indexing.html#deprecate_ix\n"
     ]
    },
    {
     "data": {
      "text/html": [
       "<div>\n",
       "<style>\n",
       "    .dataframe thead tr:only-child th {\n",
       "        text-align: right;\n",
       "    }\n",
       "\n",
       "    .dataframe thead th {\n",
       "        text-align: left;\n",
       "    }\n",
       "\n",
       "    .dataframe tbody tr th {\n",
       "        vertical-align: top;\n",
       "    }\n",
       "</style>\n",
       "<table border=\"1\" class=\"dataframe\">\n",
       "  <thead>\n",
       "    <tr>\n",
       "      <th></th>\n",
       "      <th>sum</th>\n",
       "      <th>mean</th>\n",
       "      <th>len</th>\n",
       "    </tr>\n",
       "    <tr>\n",
       "      <th></th>\n",
       "      <th>TotalPay</th>\n",
       "      <th>TotalPay</th>\n",
       "      <th>TotalPay</th>\n",
       "    </tr>\n",
       "    <tr>\n",
       "      <th>Department</th>\n",
       "      <th></th>\n",
       "      <th></th>\n",
       "      <th></th>\n",
       "    </tr>\n",
       "  </thead>\n",
       "  <tbody>\n",
       "    <tr>\n",
       "      <th></th>\n",
       "      <td>$2,799.85 MM</td>\n",
       "      <td>$83,010.20</td>\n",
       "      <td>33729</td>\n",
       "    </tr>\n",
       "    <tr>\n",
       "      <th>FIRE</th>\n",
       "      <td>$845.95 MM</td>\n",
       "      <td>$158,270.02</td>\n",
       "      <td>5345</td>\n",
       "    </tr>\n",
       "    <tr>\n",
       "      <th>MEDICAL</th>\n",
       "      <td>$681.67 MM</td>\n",
       "      <td>$98,407.36</td>\n",
       "      <td>6927</td>\n",
       "    </tr>\n",
       "    <tr>\n",
       "      <th>POLICE</th>\n",
       "      <td>$942.44 MM</td>\n",
       "      <td>$128,766.14</td>\n",
       "      <td>7319</td>\n",
       "    </tr>\n",
       "    <tr>\n",
       "      <th>TRANSIT</th>\n",
       "      <td>$829.02 MM</td>\n",
       "      <td>$75,427.52</td>\n",
       "      <td>10991</td>\n",
       "    </tr>\n",
       "  </tbody>\n",
       "</table>\n",
       "</div>"
      ],
      "text/plain": [
       "                     sum         mean      len\n",
       "                TotalPay     TotalPay TotalPay\n",
       "Department                                    \n",
       "            $2,799.85 MM   $83,010.20    33729\n",
       "FIRE          $845.95 MM  $158,270.02     5345\n",
       "MEDICAL       $681.67 MM   $98,407.36     6927\n",
       "POLICE        $942.44 MM  $128,766.14     7319\n",
       "TRANSIT       $829.02 MM   $75,427.52    10991"
      ]
     },
     "execution_count": 235,
     "metadata": {},
     "output_type": "execute_result"
    }
   ],
   "source": [
    "# Applying $ (currency) for formatting and attractive presentation\n",
    "\n",
    "ByDepartment = pd.pivot_table(sf, index=['Department'], values=[\"TotalPay\"], aggfunc=[np.sum, np.mean, len], fill_value=0)\n",
    "ByDepartment.ix[:,0] = ['${:,.2f} MM'.format(x) for x in ByDepartment.ix[:,0]/1000000]\n",
    "ByDepartment.ix[:,1] = ['${:,.2f}'.format(x) for x in ByDepartment.ix[:,1]]\n",
    "ByDepartment"
   ]
  },
  {
   "cell_type": "markdown",
   "metadata": {},
   "source": [
    "In the above table we can see the total, mean and count of Total Paid per Department"
   ]
  },
  {
   "cell_type": "code",
   "execution_count": 236,
   "metadata": {},
   "outputs": [
    {
     "data": {
      "text/plain": [
       "<matplotlib.axes._subplots.AxesSubplot at 0x2bda122e550>"
      ]
     },
     "execution_count": 236,
     "metadata": {},
     "output_type": "execute_result"
    },
    {
     "data": {
      "image/png": "[encoded data removed]",
      "text/plain": [
       "<matplotlib.figure.Figure at 0x2bd8f23bac8>"
      ]
     },
     "metadata": {},
     "output_type": "display_data"
    }
   ],
   "source": [
    "sns.barplot(x = \"Department\", y = \"TotalPay\", data = sf)"
   ]
  },
  {
   "cell_type": "code",
   "execution_count": 237,
   "metadata": {},
   "outputs": [
    {
     "data": {
      "image/png": "[encoded data removed]",
      "text/plain": [
       "<matplotlib.figure.Figure at 0x2bda481a358>"
      ]
     },
     "metadata": {},
     "output_type": "display_data"
    }
   ],
   "source": [
    "plot_jg = sns.FacetGrid(sf, col=\"Department\", col_wrap=3, size=5.5, dropna=True)\n",
    "plot_jg = plot_jg.map(sns.kdeplot, 'TotalPay', shade=True)"
   ]
  },
  {
   "cell_type": "code",
   "execution_count": 238,
   "metadata": {},
   "outputs": [
    {
     "data": {
      "text/plain": [
       "<matplotlib.axes._subplots.AxesSubplot at 0x2bda3e2a3c8>"
      ]
     },
     "execution_count": 238,
     "metadata": {},
     "output_type": "execute_result"
    },
    {
     "data": {
      "image/png": "[encoded data removed]",
      "text/plain": [
       "<matplotlib.figure.Figure at 0x2bda3e35828>"
      ]
     },
     "metadata": {},
     "output_type": "display_data"
    }
   ],
   "source": [
    "sns.boxplot(x=\"Year\", y=\"TotalPay\", data=sf)"
   ]
  },
  {
   "cell_type": "markdown",
   "metadata": {},
   "source": [
    "Above we see that the salaries have not changed between the years."
   ]
  },
  {
   "cell_type": "markdown",
   "metadata": {},
   "source": [
    "# Difference in earning between genders"
   ]
  },
  {
   "cell_type": "code",
   "execution_count": 239,
   "metadata": {
    "collapsed": true
   },
   "outputs": [],
   "source": [
    "# from https://pypi.python.org/pypi/gender-guesser\n",
    "import gender_guesser.detector as gender"
   ]
  },
  {
   "cell_type": "code",
   "execution_count": 240,
   "metadata": {
    "collapsed": true
   },
   "outputs": [],
   "source": [
    "d = gender.Detector(case_sensitive=False)"
   ]
  },
  {
   "cell_type": "code",
   "execution_count": 241,
   "metadata": {
    "collapsed": true
   },
   "outputs": [],
   "source": [
    "sf['FirstName'] = sf.EmployeeName.str.split(' ').str.get(0)\n",
    "sf['FirstName']= sf.FirstName.str.lower()\n",
    "sf.FirstName.fillna(method=\"backfill\", inplace=True)"
   ]
  },
  {
   "cell_type": "code",
   "execution_count": 242,
   "metadata": {},
   "outputs": [],
   "source": [
    "gender = []\n",
    "names = []\n",
    "\n",
    "for i in range(0, len(sf.FirstName)):\n",
    "    names.append(sf.FirstName.iloc[i])\n",
    "    gender.append(d.get_gender(sf.FirstName.iloc[i]))"
   ]
  },
  {
   "cell_type": "code",
   "execution_count": 243,
   "metadata": {},
   "outputs": [
    {
     "data": {
      "text/html": [
       "<div>\n",
       "<style>\n",
       "    .dataframe thead tr:only-child th {\n",
       "        text-align: right;\n",
       "    }\n",
       "\n",
       "    .dataframe thead th {\n",
       "        text-align: left;\n",
       "    }\n",
       "\n",
       "    .dataframe tbody tr th {\n",
       "        vertical-align: top;\n",
       "    }\n",
       "</style>\n",
       "<table border=\"1\" class=\"dataframe\">\n",
       "  <thead>\n",
       "    <tr style=\"text-align: right;\">\n",
       "      <th></th>\n",
       "      <th>Id</th>\n",
       "      <th>EmployeeName</th>\n",
       "      <th>JobTitle</th>\n",
       "      <th>BasePay</th>\n",
       "      <th>OvertimePay</th>\n",
       "      <th>OtherPay</th>\n",
       "      <th>Benefits</th>\n",
       "      <th>TotalPay</th>\n",
       "      <th>Year</th>\n",
       "      <th>Status</th>\n",
       "      <th>Department</th>\n",
       "      <th>FirstName</th>\n",
       "      <th>Gender</th>\n",
       "    </tr>\n",
       "  </thead>\n",
       "  <tbody>\n",
       "    <tr>\n",
       "      <th>0</th>\n",
       "      <td>2</td>\n",
       "      <td>GARY JIMENEZ</td>\n",
       "      <td>CAPTAIN III (POLICE DEPARTMENT)</td>\n",
       "      <td>155966.02</td>\n",
       "      <td>245131.88</td>\n",
       "      <td>137811.38</td>\n",
       "      <td>NaN</td>\n",
       "      <td>538909.28</td>\n",
       "      <td>2011</td>\n",
       "      <td>NaN</td>\n",
       "      <td>POLICE</td>\n",
       "      <td>gary</td>\n",
       "      <td>male</td>\n",
       "    </tr>\n",
       "    <tr>\n",
       "      <th>1</th>\n",
       "      <td>3</td>\n",
       "      <td>ALBERT PARDINI</td>\n",
       "      <td>CAPTAIN III (POLICE DEPARTMENT)</td>\n",
       "      <td>212739.13</td>\n",
       "      <td>106088.18</td>\n",
       "      <td>16452.60</td>\n",
       "      <td>NaN</td>\n",
       "      <td>335279.91</td>\n",
       "      <td>2011</td>\n",
       "      <td>NaN</td>\n",
       "      <td>POLICE</td>\n",
       "      <td>albert</td>\n",
       "      <td>male</td>\n",
       "    </tr>\n",
       "    <tr>\n",
       "      <th>2</th>\n",
       "      <td>4</td>\n",
       "      <td>CHRISTOPHER CHONG</td>\n",
       "      <td>WIRE ROPE CABLE MAINTENANCE MECHANIC</td>\n",
       "      <td>77916.00</td>\n",
       "      <td>56120.71</td>\n",
       "      <td>198306.90</td>\n",
       "      <td>NaN</td>\n",
       "      <td>332343.61</td>\n",
       "      <td>2011</td>\n",
       "      <td>NaN</td>\n",
       "      <td></td>\n",
       "      <td>christopher</td>\n",
       "      <td>male</td>\n",
       "    </tr>\n",
       "    <tr>\n",
       "      <th>3</th>\n",
       "      <td>5</td>\n",
       "      <td>PATRICK GARDNER</td>\n",
       "      <td>DEPUTY CHIEF OF DEPARTMENT,(FIRE DEPARTMENT)</td>\n",
       "      <td>134401.60</td>\n",
       "      <td>9737.00</td>\n",
       "      <td>182234.59</td>\n",
       "      <td>NaN</td>\n",
       "      <td>326373.19</td>\n",
       "      <td>2011</td>\n",
       "      <td>NaN</td>\n",
       "      <td>FIRE</td>\n",
       "      <td>patrick</td>\n",
       "      <td>male</td>\n",
       "    </tr>\n",
       "    <tr>\n",
       "      <th>4</th>\n",
       "      <td>6</td>\n",
       "      <td>DAVID SULLIVAN</td>\n",
       "      <td>ASSISTANT DEPUTY CHIEF II</td>\n",
       "      <td>118602.00</td>\n",
       "      <td>8601.00</td>\n",
       "      <td>189082.74</td>\n",
       "      <td>NaN</td>\n",
       "      <td>316285.74</td>\n",
       "      <td>2011</td>\n",
       "      <td>NaN</td>\n",
       "      <td></td>\n",
       "      <td>david</td>\n",
       "      <td>male</td>\n",
       "    </tr>\n",
       "    <tr>\n",
       "      <th>5</th>\n",
       "      <td>7</td>\n",
       "      <td>ALSON LEE</td>\n",
       "      <td>BATTALION CHIEF, (FIRE DEPARTMENT)</td>\n",
       "      <td>92492.01</td>\n",
       "      <td>89062.90</td>\n",
       "      <td>134426.14</td>\n",
       "      <td>NaN</td>\n",
       "      <td>315981.05</td>\n",
       "      <td>2011</td>\n",
       "      <td>NaN</td>\n",
       "      <td>FIRE</td>\n",
       "      <td>alson</td>\n",
       "      <td>unknown</td>\n",
       "    </tr>\n",
       "    <tr>\n",
       "      <th>6</th>\n",
       "      <td>9</td>\n",
       "      <td>MICHAEL MORRIS</td>\n",
       "      <td>BATTALION CHIEF, (FIRE DEPARTMENT)</td>\n",
       "      <td>176932.64</td>\n",
       "      <td>86362.68</td>\n",
       "      <td>40132.23</td>\n",
       "      <td>NaN</td>\n",
       "      <td>303427.55</td>\n",
       "      <td>2011</td>\n",
       "      <td>NaN</td>\n",
       "      <td>FIRE</td>\n",
       "      <td>michael</td>\n",
       "      <td>male</td>\n",
       "    </tr>\n",
       "    <tr>\n",
       "      <th>7</th>\n",
       "      <td>11</td>\n",
       "      <td>ARTHUR KENNEY</td>\n",
       "      <td>ASSISTANT CHIEF OF DEPARTMENT, (FIRE DEPARTMENT)</td>\n",
       "      <td>194999.39</td>\n",
       "      <td>71344.88</td>\n",
       "      <td>33149.90</td>\n",
       "      <td>NaN</td>\n",
       "      <td>299494.17</td>\n",
       "      <td>2011</td>\n",
       "      <td>NaN</td>\n",
       "      <td>FIRE</td>\n",
       "      <td>arthur</td>\n",
       "      <td>male</td>\n",
       "    </tr>\n",
       "    <tr>\n",
       "      <th>8</th>\n",
       "      <td>12</td>\n",
       "      <td>PATRICIA JACKSON</td>\n",
       "      <td>CAPTAIN III (POLICE DEPARTMENT)</td>\n",
       "      <td>99722.00</td>\n",
       "      <td>87082.62</td>\n",
       "      <td>110804.30</td>\n",
       "      <td>NaN</td>\n",
       "      <td>297608.92</td>\n",
       "      <td>2011</td>\n",
       "      <td>NaN</td>\n",
       "      <td>POLICE</td>\n",
       "      <td>patricia</td>\n",
       "      <td>female</td>\n",
       "    </tr>\n",
       "    <tr>\n",
       "      <th>9</th>\n",
       "      <td>15</td>\n",
       "      <td>DAVID FRANKLIN</td>\n",
       "      <td>BATTALION CHIEF, (FIRE DEPARTMENT)</td>\n",
       "      <td>174872.64</td>\n",
       "      <td>74050.30</td>\n",
       "      <td>37424.11</td>\n",
       "      <td>NaN</td>\n",
       "      <td>286347.05</td>\n",
       "      <td>2011</td>\n",
       "      <td>NaN</td>\n",
       "      <td>FIRE</td>\n",
       "      <td>david</td>\n",
       "      <td>male</td>\n",
       "    </tr>\n",
       "  </tbody>\n",
       "</table>\n",
       "</div>"
      ],
      "text/plain": [
       "   Id       EmployeeName                                          JobTitle  \\\n",
       "0   2       GARY JIMENEZ                   CAPTAIN III (POLICE DEPARTMENT)   \n",
       "1   3     ALBERT PARDINI                   CAPTAIN III (POLICE DEPARTMENT)   \n",
       "2   4  CHRISTOPHER CHONG              WIRE ROPE CABLE MAINTENANCE MECHANIC   \n",
       "3   5    PATRICK GARDNER      DEPUTY CHIEF OF DEPARTMENT,(FIRE DEPARTMENT)   \n",
       "4   6     DAVID SULLIVAN                         ASSISTANT DEPUTY CHIEF II   \n",
       "5   7          ALSON LEE                BATTALION CHIEF, (FIRE DEPARTMENT)   \n",
       "6   9     MICHAEL MORRIS                BATTALION CHIEF, (FIRE DEPARTMENT)   \n",
       "7  11      ARTHUR KENNEY  ASSISTANT CHIEF OF DEPARTMENT, (FIRE DEPARTMENT)   \n",
       "8  12   PATRICIA JACKSON                   CAPTAIN III (POLICE DEPARTMENT)   \n",
       "9  15     DAVID FRANKLIN                BATTALION CHIEF, (FIRE DEPARTMENT)   \n",
       "\n",
       "     BasePay  OvertimePay   OtherPay  Benefits   TotalPay  Year Status  \\\n",
       "0  155966.02    245131.88  137811.38       NaN  538909.28  2011    NaN   \n",
       "1  212739.13    106088.18   16452.60       NaN  335279.91  2011    NaN   \n",
       "2   77916.00     56120.71  198306.90       NaN  332343.61  2011    NaN   \n",
       "3  134401.60      9737.00  182234.59       NaN  326373.19  2011    NaN   \n",
       "4  118602.00      8601.00  189082.74       NaN  316285.74  2011    NaN   \n",
       "5   92492.01     89062.90  134426.14       NaN  315981.05  2011    NaN   \n",
       "6  176932.64     86362.68   40132.23       NaN  303427.55  2011    NaN   \n",
       "7  194999.39     71344.88   33149.90       NaN  299494.17  2011    NaN   \n",
       "8   99722.00     87082.62  110804.30       NaN  297608.92  2011    NaN   \n",
       "9  174872.64     74050.30   37424.11       NaN  286347.05  2011    NaN   \n",
       "\n",
       "  Department    FirstName   Gender  \n",
       "0     POLICE         gary     male  \n",
       "1     POLICE       albert     male  \n",
       "2             christopher     male  \n",
       "3       FIRE      patrick     male  \n",
       "4                   david     male  \n",
       "5       FIRE        alson  unknown  \n",
       "6       FIRE      michael     male  \n",
       "7       FIRE       arthur     male  \n",
       "8     POLICE     patricia   female  \n",
       "9       FIRE        david     male  "
      ]
     },
     "execution_count": 243,
     "metadata": {},
     "output_type": "execute_result"
    }
   ],
   "source": [
    "# Create gender dataset\n",
    "\n",
    "dict_gender = dict(zip(names, gender))\n",
    "df_gender = pd.DataFrame()\n",
    "df_gender['FirstName'] = dict_gender.keys()\n",
    "df_gender['Gender'] = dict_gender.values()\n",
    "sf_gender = pd.merge(sf, df_gender, how='left')\n",
    "sf_gender.head(10)"
   ]
  },
  {
   "cell_type": "code",
   "execution_count": 265,
   "metadata": {},
   "outputs": [
    {
     "data": {
      "text/html": [
       "<div>\n",
       "<style>\n",
       "    .dataframe thead tr:only-child th {\n",
       "        text-align: right;\n",
       "    }\n",
       "\n",
       "    .dataframe thead th {\n",
       "        text-align: left;\n",
       "    }\n",
       "\n",
       "    .dataframe tbody tr th {\n",
       "        vertical-align: top;\n",
       "    }\n",
       "</style>\n",
       "<table border=\"1\" class=\"dataframe\">\n",
       "  <thead>\n",
       "    <tr style=\"text-align: right;\">\n",
       "      <th></th>\n",
       "      <th>Id</th>\n",
       "      <th>EmployeeName</th>\n",
       "      <th>JobTitle</th>\n",
       "      <th>BasePay</th>\n",
       "      <th>OvertimePay</th>\n",
       "      <th>OtherPay</th>\n",
       "      <th>Benefits</th>\n",
       "      <th>TotalPay</th>\n",
       "      <th>Year</th>\n",
       "      <th>Status</th>\n",
       "      <th>Department</th>\n",
       "      <th>FirstName</th>\n",
       "      <th>Gender</th>\n",
       "    </tr>\n",
       "  </thead>\n",
       "  <tbody>\n",
       "    <tr>\n",
       "      <th>0</th>\n",
       "      <td>2</td>\n",
       "      <td>GARY JIMENEZ</td>\n",
       "      <td>CAPTAIN III (POLICE DEPARTMENT)</td>\n",
       "      <td>155966.02</td>\n",
       "      <td>245131.88</td>\n",
       "      <td>137811.38</td>\n",
       "      <td>NaN</td>\n",
       "      <td>538909.28</td>\n",
       "      <td>2011</td>\n",
       "      <td>NaN</td>\n",
       "      <td>POLICE</td>\n",
       "      <td>gary</td>\n",
       "      <td>male</td>\n",
       "    </tr>\n",
       "    <tr>\n",
       "      <th>1</th>\n",
       "      <td>3</td>\n",
       "      <td>ALBERT PARDINI</td>\n",
       "      <td>CAPTAIN III (POLICE DEPARTMENT)</td>\n",
       "      <td>212739.13</td>\n",
       "      <td>106088.18</td>\n",
       "      <td>16452.60</td>\n",
       "      <td>NaN</td>\n",
       "      <td>335279.91</td>\n",
       "      <td>2011</td>\n",
       "      <td>NaN</td>\n",
       "      <td>POLICE</td>\n",
       "      <td>albert</td>\n",
       "      <td>male</td>\n",
       "    </tr>\n",
       "    <tr>\n",
       "      <th>2</th>\n",
       "      <td>4</td>\n",
       "      <td>CHRISTOPHER CHONG</td>\n",
       "      <td>WIRE ROPE CABLE MAINTENANCE MECHANIC</td>\n",
       "      <td>77916.00</td>\n",
       "      <td>56120.71</td>\n",
       "      <td>198306.90</td>\n",
       "      <td>NaN</td>\n",
       "      <td>332343.61</td>\n",
       "      <td>2011</td>\n",
       "      <td>NaN</td>\n",
       "      <td></td>\n",
       "      <td>christopher</td>\n",
       "      <td>male</td>\n",
       "    </tr>\n",
       "    <tr>\n",
       "      <th>3</th>\n",
       "      <td>5</td>\n",
       "      <td>PATRICK GARDNER</td>\n",
       "      <td>DEPUTY CHIEF OF DEPARTMENT,(FIRE DEPARTMENT)</td>\n",
       "      <td>134401.60</td>\n",
       "      <td>9737.00</td>\n",
       "      <td>182234.59</td>\n",
       "      <td>NaN</td>\n",
       "      <td>326373.19</td>\n",
       "      <td>2011</td>\n",
       "      <td>NaN</td>\n",
       "      <td>FIRE</td>\n",
       "      <td>patrick</td>\n",
       "      <td>male</td>\n",
       "    </tr>\n",
       "    <tr>\n",
       "      <th>4</th>\n",
       "      <td>6</td>\n",
       "      <td>DAVID SULLIVAN</td>\n",
       "      <td>ASSISTANT DEPUTY CHIEF II</td>\n",
       "      <td>118602.00</td>\n",
       "      <td>8601.00</td>\n",
       "      <td>189082.74</td>\n",
       "      <td>NaN</td>\n",
       "      <td>316285.74</td>\n",
       "      <td>2011</td>\n",
       "      <td>NaN</td>\n",
       "      <td></td>\n",
       "      <td>david</td>\n",
       "      <td>male</td>\n",
       "    </tr>\n",
       "    <tr>\n",
       "      <th>5</th>\n",
       "      <td>7</td>\n",
       "      <td>ALSON LEE</td>\n",
       "      <td>BATTALION CHIEF, (FIRE DEPARTMENT)</td>\n",
       "      <td>92492.01</td>\n",
       "      <td>89062.90</td>\n",
       "      <td>134426.14</td>\n",
       "      <td>NaN</td>\n",
       "      <td>315981.05</td>\n",
       "      <td>2011</td>\n",
       "      <td>NaN</td>\n",
       "      <td>FIRE</td>\n",
       "      <td>alson</td>\n",
       "      <td>unknown</td>\n",
       "    </tr>\n",
       "    <tr>\n",
       "      <th>6</th>\n",
       "      <td>9</td>\n",
       "      <td>MICHAEL MORRIS</td>\n",
       "      <td>BATTALION CHIEF, (FIRE DEPARTMENT)</td>\n",
       "      <td>176932.64</td>\n",
       "      <td>86362.68</td>\n",
       "      <td>40132.23</td>\n",
       "      <td>NaN</td>\n",
       "      <td>303427.55</td>\n",
       "      <td>2011</td>\n",
       "      <td>NaN</td>\n",
       "      <td>FIRE</td>\n",
       "      <td>michael</td>\n",
       "      <td>male</td>\n",
       "    </tr>\n",
       "    <tr>\n",
       "      <th>7</th>\n",
       "      <td>11</td>\n",
       "      <td>ARTHUR KENNEY</td>\n",
       "      <td>ASSISTANT CHIEF OF DEPARTMENT, (FIRE DEPARTMENT)</td>\n",
       "      <td>194999.39</td>\n",
       "      <td>71344.88</td>\n",
       "      <td>33149.90</td>\n",
       "      <td>NaN</td>\n",
       "      <td>299494.17</td>\n",
       "      <td>2011</td>\n",
       "      <td>NaN</td>\n",
       "      <td>FIRE</td>\n",
       "      <td>arthur</td>\n",
       "      <td>male</td>\n",
       "    </tr>\n",
       "    <tr>\n",
       "      <th>8</th>\n",
       "      <td>12</td>\n",
       "      <td>PATRICIA JACKSON</td>\n",
       "      <td>CAPTAIN III (POLICE DEPARTMENT)</td>\n",
       "      <td>99722.00</td>\n",
       "      <td>87082.62</td>\n",
       "      <td>110804.30</td>\n",
       "      <td>NaN</td>\n",
       "      <td>297608.92</td>\n",
       "      <td>2011</td>\n",
       "      <td>NaN</td>\n",
       "      <td>POLICE</td>\n",
       "      <td>patricia</td>\n",
       "      <td>female</td>\n",
       "    </tr>\n",
       "    <tr>\n",
       "      <th>9</th>\n",
       "      <td>15</td>\n",
       "      <td>DAVID FRANKLIN</td>\n",
       "      <td>BATTALION CHIEF, (FIRE DEPARTMENT)</td>\n",
       "      <td>174872.64</td>\n",
       "      <td>74050.30</td>\n",
       "      <td>37424.11</td>\n",
       "      <td>NaN</td>\n",
       "      <td>286347.05</td>\n",
       "      <td>2011</td>\n",
       "      <td>NaN</td>\n",
       "      <td>FIRE</td>\n",
       "      <td>david</td>\n",
       "      <td>male</td>\n",
       "    </tr>\n",
       "  </tbody>\n",
       "</table>\n",
       "</div>"
      ],
      "text/plain": [
       "   Id       EmployeeName                                          JobTitle  \\\n",
       "0   2       GARY JIMENEZ                   CAPTAIN III (POLICE DEPARTMENT)   \n",
       "1   3     ALBERT PARDINI                   CAPTAIN III (POLICE DEPARTMENT)   \n",
       "2   4  CHRISTOPHER CHONG              WIRE ROPE CABLE MAINTENANCE MECHANIC   \n",
       "3   5    PATRICK GARDNER      DEPUTY CHIEF OF DEPARTMENT,(FIRE DEPARTMENT)   \n",
       "4   6     DAVID SULLIVAN                         ASSISTANT DEPUTY CHIEF II   \n",
       "5   7          ALSON LEE                BATTALION CHIEF, (FIRE DEPARTMENT)   \n",
       "6   9     MICHAEL MORRIS                BATTALION CHIEF, (FIRE DEPARTMENT)   \n",
       "7  11      ARTHUR KENNEY  ASSISTANT CHIEF OF DEPARTMENT, (FIRE DEPARTMENT)   \n",
       "8  12   PATRICIA JACKSON                   CAPTAIN III (POLICE DEPARTMENT)   \n",
       "9  15     DAVID FRANKLIN                BATTALION CHIEF, (FIRE DEPARTMENT)   \n",
       "\n",
       "     BasePay  OvertimePay   OtherPay  Benefits   TotalPay  Year Status  \\\n",
       "0  155966.02    245131.88  137811.38       NaN  538909.28  2011    NaN   \n",
       "1  212739.13    106088.18   16452.60       NaN  335279.91  2011    NaN   \n",
       "2   77916.00     56120.71  198306.90       NaN  332343.61  2011    NaN   \n",
       "3  134401.60      9737.00  182234.59       NaN  326373.19  2011    NaN   \n",
       "4  118602.00      8601.00  189082.74       NaN  316285.74  2011    NaN   \n",
       "5   92492.01     89062.90  134426.14       NaN  315981.05  2011    NaN   \n",
       "6  176932.64     86362.68   40132.23       NaN  303427.55  2011    NaN   \n",
       "7  194999.39     71344.88   33149.90       NaN  299494.17  2011    NaN   \n",
       "8   99722.00     87082.62  110804.30       NaN  297608.92  2011    NaN   \n",
       "9  174872.64     74050.30   37424.11       NaN  286347.05  2011    NaN   \n",
       "\n",
       "  Department    FirstName   Gender  \n",
       "0     POLICE         gary     male  \n",
       "1     POLICE       albert     male  \n",
       "2             christopher     male  \n",
       "3       FIRE      patrick     male  \n",
       "4                   david     male  \n",
       "5       FIRE        alson  unknown  \n",
       "6       FIRE      michael     male  \n",
       "7       FIRE       arthur     male  \n",
       "8     POLICE     patricia   female  \n",
       "9       FIRE        david     male  "
      ]
     },
     "execution_count": 265,
     "metadata": {},
     "output_type": "execute_result"
    }
   ],
   "source": [
    "# Clean up the genders to fall into categories\n",
    "\n",
    "sf_gender.ix[sf_gender['Gender'] == 'andy', 'Gender'] = 'unknown'\n",
    "sf_gender.ix[sf_gender['Gender'] == 'mostly_female', 'Gender'] = 'female'\n",
    "sf_gender.ix[sf_gender['Gender'] == 'mostly_male', 'Gender'] = 'male'\n",
    "sf_gender.head(10)"
   ]
  },
  {
   "cell_type": "code",
   "execution_count": 253,
   "metadata": {},
   "outputs": [
    {
     "data": {
      "text/html": [
       "<div>\n",
       "<style>\n",
       "    .dataframe thead tr:only-child th {\n",
       "        text-align: right;\n",
       "    }\n",
       "\n",
       "    .dataframe thead th {\n",
       "        text-align: left;\n",
       "    }\n",
       "\n",
       "    .dataframe tbody tr th {\n",
       "        vertical-align: top;\n",
       "    }\n",
       "</style>\n",
       "<table border=\"1\" class=\"dataframe\">\n",
       "  <thead>\n",
       "    <tr style=\"text-align: right;\">\n",
       "      <th>Department</th>\n",
       "      <th></th>\n",
       "      <th>FIRE</th>\n",
       "      <th>MEDICAL</th>\n",
       "      <th>POLICE</th>\n",
       "      <th>TRANSIT</th>\n",
       "    </tr>\n",
       "    <tr>\n",
       "      <th>Gender</th>\n",
       "      <th></th>\n",
       "      <th></th>\n",
       "      <th></th>\n",
       "      <th></th>\n",
       "      <th></th>\n",
       "    </tr>\n",
       "  </thead>\n",
       "  <tbody>\n",
       "    <tr>\n",
       "      <th>female</th>\n",
       "      <td>8667</td>\n",
       "      <td>786</td>\n",
       "      <td>4332</td>\n",
       "      <td>1164</td>\n",
       "      <td>1868</td>\n",
       "    </tr>\n",
       "    <tr>\n",
       "      <th>male</th>\n",
       "      <td>20261</td>\n",
       "      <td>4294</td>\n",
       "      <td>1383</td>\n",
       "      <td>5734</td>\n",
       "      <td>7286</td>\n",
       "    </tr>\n",
       "    <tr>\n",
       "      <th>unknown</th>\n",
       "      <td>4801</td>\n",
       "      <td>265</td>\n",
       "      <td>1212</td>\n",
       "      <td>421</td>\n",
       "      <td>1837</td>\n",
       "    </tr>\n",
       "  </tbody>\n",
       "</table>\n",
       "</div>"
      ],
      "text/plain": [
       "Department         FIRE  MEDICAL  POLICE  TRANSIT\n",
       "Gender                                           \n",
       "female       8667   786     4332    1164     1868\n",
       "male        20261  4294     1383    5734     7286\n",
       "unknown      4801   265     1212     421     1837"
      ]
     },
     "execution_count": 253,
     "metadata": {},
     "output_type": "execute_result"
    }
   ],
   "source": [
    "dept_gender = sf_gender.groupby(['Gender', 'Department']).size().unstack()\n",
    "dept_gender"
   ]
  },
  {
   "cell_type": "markdown",
   "metadata": {},
   "source": [
    "Here we can see that there are significantly less female's on the job except in the MEDICAL profession."
   ]
  },
  {
   "cell_type": "code",
   "execution_count": 39,
   "metadata": {
    "collapsed": true
   },
   "outputs": [],
   "source": [
    "# Can you compare two related quantities?"
   ]
  },
  {
   "cell_type": "code",
   "execution_count": 260,
   "metadata": {},
   "outputs": [
    {
     "data": {
      "text/plain": [
       "<matplotlib.axes._subplots.AxesSubplot at 0x2bd92265f28>"
      ]
     },
     "execution_count": 260,
     "metadata": {},
     "output_type": "execute_result"
    },
    {
     "data": {
      "image/png": "[encoded data removed]",
      "text/plain": [
       "<matplotlib.figure.Figure at 0x2bda1acb780>"
      ]
     },
     "metadata": {},
     "output_type": "display_data"
    }
   ],
   "source": [
    "sns.barplot(data=sf_gender, x='Department', y='TotalPay', hue='Gender')"
   ]
  },
  {
   "cell_type": "code",
   "execution_count": 261,
   "metadata": {},
   "outputs": [
    {
     "data": {
      "text/plain": [
       "<matplotlib.axes._subplots.AxesSubplot at 0x2bd92250240>"
      ]
     },
     "execution_count": 261,
     "metadata": {},
     "output_type": "execute_result"
    },
    {
     "data": {
      "image/png": "[encoded data removed]",
      "text/plain": [
       "<matplotlib.figure.Figure at 0x2bd93455438>"
      ]
     },
     "metadata": {},
     "output_type": "display_data"
    }
   ],
   "source": [
    "sns.barplot(data=sf_gender, x='Department', y='Benefits', hue='Gender')"
   ]
  },
  {
   "cell_type": "code",
   "execution_count": 263,
   "metadata": {},
   "outputs": [
    {
     "data": {
      "text/plain": [
       "<matplotlib.axes._subplots.AxesSubplot at 0x2bd92014828>"
      ]
     },
     "execution_count": 263,
     "metadata": {},
     "output_type": "execute_result"
    },
    {
     "data": {
      "image/png": "[encoded data removed]",
      "text/plain": [
       "<matplotlib.figure.Figure at 0x2bd91eb9208>"
      ]
     },
     "metadata": {},
     "output_type": "display_data"
    }
   ],
   "source": [
    "sns.barplot(data=sf_gender, x='Department', y='OvertimePay', hue='Gender')"
   ]
  },
  {
   "cell_type": "code",
   "execution_count": 264,
   "metadata": {},
   "outputs": [
    {
     "data": {
      "text/plain": [
       "<matplotlib.axes._subplots.AxesSubplot at 0x2bd926a5a90>"
      ]
     },
     "execution_count": 264,
     "metadata": {},
     "output_type": "execute_result"
    },
    {
     "data": {
      "image/png": "[encoded data removed]",
      "text/plain": [
       "<matplotlib.figure.Figure at 0x2bd92249160>"
      ]
     },
     "metadata": {},
     "output_type": "display_data"
    }
   ],
   "source": [
    "sns.barplot(data=sf_gender, x='Department', y='OtherPay', hue='Gender')"
   ]
  },
  {
   "cell_type": "code",
   "execution_count": 284,
   "metadata": {},
   "outputs": [
    {
     "data": {
      "image/png": "[encoded data removed]",
      "text/plain": [
       "<matplotlib.figure.Figure at 0x2bd91c16be0>"
      ]
     },
     "metadata": {},
     "output_type": "display_data"
    }
   ],
   "source": [
    "plot_gen = sns.FacetGrid(sf_gender, col=\"Gender\", col_wrap=3, size=5.5, dropna=True)\n",
    "plot_gen = plot_gen.map(sns.barplot, 'Department', 'TotalPay')"
   ]
  },
  {
   "cell_type": "code",
   "execution_count": 43,
   "metadata": {
    "collapsed": true
   },
   "outputs": [],
   "source": [
    "# Can you make a scatterplot?"
   ]
  },
  {
   "cell_type": "code",
   "execution_count": 44,
   "metadata": {
    "collapsed": true
   },
   "outputs": [],
   "source": [
    "# Can you make a time-series plot?"
   ]
  },
  {
   "cell_type": "code",
   "execution_count": 45,
   "metadata": {
    "collapsed": true
   },
   "outputs": [],
   "source": [
    "# How have salaries changed over time between different groups of people?"
   ]
  },
  {
   "cell_type": "code",
   "execution_count": 46,
   "metadata": {
    "collapsed": true
   },
   "outputs": [],
   "source": [
    "# How are base pay, overtime pay and benefits allocated between different groups?"
   ]
  },
  {
   "cell_type": "code",
   "execution_count": 47,
   "metadata": {
    "collapsed": true
   },
   "outputs": [],
   "source": [
    "# Can we split the dataset between males and females?"
   ]
  },
  {
   "cell_type": "code",
   "execution_count": 48,
   "metadata": {
    "collapsed": true
   },
   "outputs": [],
   "source": [
    "# Is there any evidene of pay discrimination based on gender in this dataset?"
   ]
  },
  {
   "cell_type": "code",
   "execution_count": 255,
   "metadata": {},
   "outputs": [
    {
     "data": {
      "text/html": [
       "<div>\n",
       "<style>\n",
       "    .dataframe thead tr:only-child th {\n",
       "        text-align: right;\n",
       "    }\n",
       "\n",
       "    .dataframe thead th {\n",
       "        text-align: left;\n",
       "    }\n",
       "\n",
       "    .dataframe tbody tr th {\n",
       "        vertical-align: top;\n",
       "    }\n",
       "</style>\n",
       "<table border=\"1\" class=\"dataframe\">\n",
       "  <thead>\n",
       "    <tr>\n",
       "      <th></th>\n",
       "      <th></th>\n",
       "      <th>amax</th>\n",
       "      <th>mean</th>\n",
       "      <th>len</th>\n",
       "    </tr>\n",
       "    <tr>\n",
       "      <th></th>\n",
       "      <th></th>\n",
       "      <th>TotalPay</th>\n",
       "      <th>TotalPay</th>\n",
       "      <th>TotalPay</th>\n",
       "    </tr>\n",
       "    <tr>\n",
       "      <th>Gender</th>\n",
       "      <th>Department</th>\n",
       "      <th></th>\n",
       "      <th></th>\n",
       "      <th></th>\n",
       "    </tr>\n",
       "  </thead>\n",
       "  <tbody>\n",
       "    <tr>\n",
       "      <th rowspan=\"5\" valign=\"top\">female</th>\n",
       "      <th></th>\n",
       "      <td>390111.98</td>\n",
       "      <td>73434.247812</td>\n",
       "      <td>8667</td>\n",
       "    </tr>\n",
       "    <tr>\n",
       "      <th>FIRE</th>\n",
       "      <td>301697.70</td>\n",
       "      <td>150011.716743</td>\n",
       "      <td>786</td>\n",
       "    </tr>\n",
       "    <tr>\n",
       "      <th>MEDICAL</th>\n",
       "      <td>274550.25</td>\n",
       "      <td>97633.275226</td>\n",
       "      <td>4332</td>\n",
       "    </tr>\n",
       "    <tr>\n",
       "      <th>POLICE</th>\n",
       "      <td>297608.92</td>\n",
       "      <td>115792.121976</td>\n",
       "      <td>1164</td>\n",
       "    </tr>\n",
       "    <tr>\n",
       "      <th>TRANSIT</th>\n",
       "      <td>230239.98</td>\n",
       "      <td>64349.281162</td>\n",
       "      <td>1868</td>\n",
       "    </tr>\n",
       "    <tr>\n",
       "      <th rowspan=\"5\" valign=\"top\">male</th>\n",
       "      <th></th>\n",
       "      <td>332343.61</td>\n",
       "      <td>90402.405422</td>\n",
       "      <td>20261</td>\n",
       "    </tr>\n",
       "    <tr>\n",
       "      <th>FIRE</th>\n",
       "      <td>362844.66</td>\n",
       "      <td>159751.367089</td>\n",
       "      <td>4294</td>\n",
       "    </tr>\n",
       "    <tr>\n",
       "      <th>MEDICAL</th>\n",
       "      <td>278569.21</td>\n",
       "      <td>98714.565177</td>\n",
       "      <td>1383</td>\n",
       "    </tr>\n",
       "    <tr>\n",
       "      <th>POLICE</th>\n",
       "      <td>538909.28</td>\n",
       "      <td>131786.902499</td>\n",
       "      <td>5734</td>\n",
       "    </tr>\n",
       "    <tr>\n",
       "      <th>TRANSIT</th>\n",
       "      <td>233464.63</td>\n",
       "      <td>79178.455913</td>\n",
       "      <td>7286</td>\n",
       "    </tr>\n",
       "    <tr>\n",
       "      <th rowspan=\"5\" valign=\"top\">unknown</th>\n",
       "      <th></th>\n",
       "      <td>336393.73</td>\n",
       "      <td>69100.847957</td>\n",
       "      <td>4801</td>\n",
       "    </tr>\n",
       "    <tr>\n",
       "      <th>FIRE</th>\n",
       "      <td>315981.05</td>\n",
       "      <td>158761.069094</td>\n",
       "      <td>265</td>\n",
       "    </tr>\n",
       "    <tr>\n",
       "      <th>MEDICAL</th>\n",
       "      <td>221930.95</td>\n",
       "      <td>100823.603375</td>\n",
       "      <td>1212</td>\n",
       "    </tr>\n",
       "    <tr>\n",
       "      <th>POLICE</th>\n",
       "      <td>224813.84</td>\n",
       "      <td>123494.634014</td>\n",
       "      <td>421</td>\n",
       "    </tr>\n",
       "    <tr>\n",
       "      <th>TRANSIT</th>\n",
       "      <td>223103.44</td>\n",
       "      <td>71815.584594</td>\n",
       "      <td>1837</td>\n",
       "    </tr>\n",
       "  </tbody>\n",
       "</table>\n",
       "</div>"
      ],
      "text/plain": [
       "                         amax           mean      len\n",
       "                     TotalPay       TotalPay TotalPay\n",
       "Gender  Department                                   \n",
       "female              390111.98   73434.247812     8667\n",
       "        FIRE        301697.70  150011.716743      786\n",
       "        MEDICAL     274550.25   97633.275226     4332\n",
       "        POLICE      297608.92  115792.121976     1164\n",
       "        TRANSIT     230239.98   64349.281162     1868\n",
       "male                332343.61   90402.405422    20261\n",
       "        FIRE        362844.66  159751.367089     4294\n",
       "        MEDICAL     278569.21   98714.565177     1383\n",
       "        POLICE      538909.28  131786.902499     5734\n",
       "        TRANSIT     233464.63   79178.455913     7286\n",
       "unknown             336393.73   69100.847957     4801\n",
       "        FIRE        315981.05  158761.069094      265\n",
       "        MEDICAL     221930.95  100823.603375     1212\n",
       "        POLICE      224813.84  123494.634014      421\n",
       "        TRANSIT     223103.44   71815.584594     1837"
      ]
     },
     "execution_count": 255,
     "metadata": {},
     "output_type": "execute_result"
    }
   ],
   "source": [
    "sf_male = sf_gender[sf_gender['Gender'] == 'male']\n",
    "#sf_male.pivot(columns=['Department','TotalPay'])\n",
    "\n",
    "pd.pivot_table(sf_gender, index=['Gender', 'Department'], values=[\"TotalPay\"], aggfunc=[np.max,np.mean, len], fill_value=0)"
   ]
  },
  {
   "cell_type": "code",
   "execution_count": null,
   "metadata": {
    "collapsed": true
   },
   "outputs": [],
   "source": []
  },
  {
   "cell_type": "code",
   "execution_count": 49,
   "metadata": {
    "collapsed": true
   },
   "outputs": [],
   "source": [
    "# How is budget allocated based on different groups and responsibilities?"
   ]
  },
  {
   "cell_type": "code",
   "execution_count": 50,
   "metadata": {
    "collapsed": true
   },
   "outputs": [],
   "source": [
    "# Any 80/20 principals I can identify?"
   ]
  },
  {
   "cell_type": "code",
   "execution_count": 51,
   "metadata": {
    "collapsed": true
   },
   "outputs": [],
   "source": [
    "# Integrate ideas from here:\n",
    "# https://public.tableau.com/profile/lawrence.chernin#!/vizhome/SanFranciscoSalaries/CountsbyTitle"
   ]
  },
  {
   "cell_type": "markdown",
   "metadata": {},
   "source": [
    "## Questions to Explore"
   ]
  },
  {
   "cell_type": "code",
   "execution_count": 33,
   "metadata": {
    "collapsed": true
   },
   "outputs": [],
   "source": [
    "# Are there any duplicate names in the dataset?"
   ]
  },
  {
   "cell_type": "code",
   "execution_count": 34,
   "metadata": {
    "collapsed": true
   },
   "outputs": [],
   "source": [
    "# Which employee has been employed three years?"
   ]
  },
  {
   "cell_type": "code",
   "execution_count": 35,
   "metadata": {
    "collapsed": true
   },
   "outputs": [],
   "source": [
    "# What is the correlation between titles and salaries?"
   ]
  }
 ],
 "metadata": {
  "kernelspec": {
   "display_name": "Python [default]",
   "language": "python",
   "name": "python3"
  },
  "language_info": {
   "codemirror_mode": {
    "name": "ipython",
    "version": 3
   },
   "file_extension": ".py",
   "mimetype": "text/x-python",
   "name": "python",
   "nbconvert_exporter": "python",
   "pygments_lexer": "ipython3",
   "version": "3.6.1"
  }
 },
 "nbformat": 4,
 "nbformat_minor": 2
}
