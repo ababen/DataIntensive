{
 "cells": [
  {
   "cell_type": "code",
   "execution_count": 23,
   "metadata": {
    "collapsed": true,
    "deletable": true,
    "editable": true
   },
   "outputs": [],
   "source": [
    "import pandas as pd\n",
    "import numpy as np"
   ]
  },
  {
   "cell_type": "code",
   "execution_count": 24,
   "metadata": {
    "collapsed": false,
    "deletable": true,
    "editable": true
   },
   "outputs": [],
   "source": [
    "# pd.set_option('precision',2)\n",
    "\n",
    "import pandas as pd\n",
    "import locale\n",
    "\n",
    "# locale.setlocale( locale.LC_ALL, 'English_United States.1252')\n",
    "# locale._override_localeconv = {'n_sign_posn':1}"
   ]
  },
  {
   "cell_type": "code",
   "execution_count": 25,
   "metadata": {
    "collapsed": false,
    "deletable": true,
    "editable": true
   },
   "outputs": [],
   "source": [
    "get_ipython().magic('matplotlib inline')\n",
    "import matplotlib.pylab as plt\n",
    "import seaborn as sns\n",
    "# import ggplot as gg\n",
    "# from ggplot import *\n",
    "import bokeh as bkh"
   ]
  },
  {
   "cell_type": "code",
   "execution_count": 26,
   "metadata": {
    "collapsed": false,
    "deletable": true,
    "editable": true
   },
   "outputs": [],
   "source": [
    "# dataset from https://www.kaggle.com/kaggle/sf-salaries\n",
    "# sf2014\n",
    "sf = pd.read_csv('data/sf-salaries/Salaries.csv', usecols=[0,1,2,3,4,5,6,7,9,11,12], dtype={3: object, 4: object, 5: object, 6: object, 12: object}, na_values=['Not Provided', 'Not provided', 'not provided'])\n",
    "\n",
    "# dataset from http://transparentcalifornia.com/salaries/2015/san-francisco/\n",
    "# sf2015 = pd.read_csv('data/sf-salaries/san-francisco-2015.csv')\n",
    "\n",
    "#### na_values=['Not Provided', 'Not provided', 'not provided']"
   ]
  },
  {
   "cell_type": "code",
   "execution_count": 27,
   "metadata": {
    "collapsed": false,
    "deletable": true,
    "editable": true
   },
   "outputs": [],
   "source": [
    "# Combine the 2011-2014 dataset with 2015\n",
    "# sf = pd.concat([sf2014, sf2015], ignore_index=True)"
   ]
  },
  {
   "cell_type": "markdown",
   "metadata": {
    "deletable": true,
    "editable": true
   },
   "source": [
    "\n",
    "## Defination of the columns:\n",
    "\n",
    "### Numeric (needs conversion to numeric):\n",
    "##### 1. BasePay, OvertimePay, OtherPay, Benefits, TotalPay\n",
    "\n",
    "### Categorical:\n",
    "##### 1. Id, EmployeeName, JobTitle, Agency, Status\n"
   ]
  },
  {
   "cell_type": "code",
   "execution_count": 28,
   "metadata": {
    "collapsed": false,
    "deletable": true,
    "editable": true
   },
   "outputs": [],
   "source": [
    "# sf2014.head()\n",
    "\n",
    "### MENTOR ### Notice that the *sf 2011-2014\" doesnt not have $ in TotalPay"
   ]
  },
  {
   "cell_type": "code",
   "execution_count": 10,
   "metadata": {
    "collapsed": false,
    "deletable": true,
    "editable": true,
    "scrolled": true
   },
   "outputs": [],
   "source": [
    "# sf2015.head()\n",
    "\n",
    "### MENTOR ### Notice that the *sf 2015\" doesnt not have $ in TotalPay"
   ]
  },
  {
   "cell_type": "markdown",
   "metadata": {
    "deletable": true,
    "editable": true
   },
   "source": [
    "## Starting Analysis"
   ]
  },
  {
   "cell_type": "markdown",
   "metadata": {
    "deletable": true,
    "editable": true
   },
   "source": [
    "* Agency - Represents a region in the larger datasets.\n",
    "* BasePay - The base rate of pay for a job or activity, excluding additional payments such as overtime or bonuses.\n",
    "* Benefits - Employees pension plan, free health insurance, and other benefits.\n",
    "* EmployeeName - Full Name (we can try to use this to analyze gender discrimination)\n",
    "* Id - Original order of employees from sf2014 dataset, field does not exist in sf 2015\n",
    "* JobTitle - Employee position held. (There seem to be differences in naming between datasets.)\n",
    "* Notes - Empty\n",
    "* OtherPay - Not sure but I would imagine Bonuses or other 'special' benefits. Could include personal flights on public aircrafts.\n",
    "* OvertimePay - Time paid at California's's 1.5x base pay for over time.\n",
    "* Status - Classification as FT (Full Time) or PT (Part Time) employee. Only tracked after 2013.\n",
    "* TotalPay - BasePay + OvertimePay + OtherPay\n",
    "* Year - Payroll year"
   ]
  },
  {
   "cell_type": "code",
   "execution_count": null,
   "metadata": {
    "collapsed": false,
    "deletable": true,
    "editable": true
   },
   "outputs": [],
   "source": []
  },
  {
   "cell_type": "code",
   "execution_count": 29,
   "metadata": {
    "collapsed": false,
    "deletable": true,
    "editable": true
   },
   "outputs": [
    {
     "data": {
      "text/plain": [
       "Id                   0\n",
       "EmployeeName         6\n",
       "JobTitle             4\n",
       "BasePay            609\n",
       "OvertimePay          4\n",
       "OtherPay             4\n",
       "Benefits         36163\n",
       "TotalPay             0\n",
       "Year                 0\n",
       "Agency               0\n",
       "Status          110535\n",
       "dtype: int64"
      ]
     },
     "execution_count": 29,
     "metadata": {},
     "output_type": "execute_result"
    }
   ],
   "source": [
    "sf.isnull().sum()"
   ]
  },
  {
   "cell_type": "code",
   "execution_count": 30,
   "metadata": {
    "collapsed": false,
    "deletable": true,
    "editable": true
   },
   "outputs": [
    {
     "data": {
      "text/plain": [
       "array(['San Francisco'], dtype=object)"
      ]
     },
     "execution_count": 30,
     "metadata": {},
     "output_type": "execute_result"
    }
   ],
   "source": [
    "sf.Agency.unique()"
   ]
  },
  {
   "cell_type": "markdown",
   "metadata": {
    "deletable": true,
    "editable": true
   },
   "source": [
    "Since the Agency field only contains one unique value, I will remove the field. Notices field is null."
   ]
  },
  {
   "cell_type": "code",
   "execution_count": 31,
   "metadata": {
    "collapsed": false,
    "deletable": true,
    "editable": true
   },
   "outputs": [],
   "source": [
    "# del sf['Notes']\n",
    "\n",
    "# Here is another way of dropping a field.\n",
    "\n",
    "sf.drop(['Agency'], axis=1, inplace=True)"
   ]
  },
  {
   "cell_type": "markdown",
   "metadata": {
    "deletable": true,
    "editable": true
   },
   "source": [
    "Here I am going to do basic data standardization and cleaning so that it is easier to work with this dataset."
   ]
  },
  {
   "cell_type": "code",
   "execution_count": 32,
   "metadata": {
    "collapsed": true,
    "deletable": true,
    "editable": true
   },
   "outputs": [],
   "source": [
    "# I am also going to delete any observation where JobTitle is 'Not provided' so that the field can be indexed\n",
    "sf = sf[sf.JobTitle.notnull()]\n",
    "\n",
    "# Filling in 'Benefits' if NaN, fill with 0\n",
    "sf['Benefits'].fillna(0, inplace=True)\n",
    "\n",
    "# Replace NaN status with \"Unknown\", since we don't know if its FT or PT work, easier categorization later.\n",
    "sf['Status'].fillna(\"Unknown\", inplace=True)\n",
    "\n",
    "# Convert all JobTitle to upper-case character so there is no differentiation in data.\n",
    "sf['JobTitle'] = sf.JobTitle.str.upper()\n",
    "\n",
    "# Convert all EmployeeName to upper-case character so there is no differentiation in data. \n",
    "# Note: I noticed in pivots duplicate entries if the letter is not standardized.\n",
    "sf['EmployeeName'] = sf.EmployeeName.str.upper()"
   ]
  },
  {
   "cell_type": "code",
   "execution_count": 33,
   "metadata": {
    "collapsed": false,
    "deletable": true,
    "editable": true
   },
   "outputs": [
    {
     "data": {
      "text/plain": [
       "Id                0\n",
       "EmployeeName      2\n",
       "JobTitle          0\n",
       "BasePay         605\n",
       "OvertimePay       0\n",
       "OtherPay          0\n",
       "Benefits          0\n",
       "TotalPay          0\n",
       "Year              0\n",
       "Status            0\n",
       "dtype: int64"
      ]
     },
     "execution_count": 33,
     "metadata": {},
     "output_type": "execute_result"
    }
   ],
   "source": [
    "# Much cleaner now\n",
    "sf.isnull().sum()"
   ]
  },
  {
   "cell_type": "markdown",
   "metadata": {
    "deletable": true,
    "editable": true
   },
   "source": [
    "From reading on the website (where I pulled the dataset) I already saw that there records with zero BasePay, but instead amounts appear in OtherPay and TotalPay, thus 605 null BasePay records does not suprise me.\n",
    "\n",
    "For Id column I already know that the sf2015 dataset doesnt have an Id column."
   ]
  },
  {
   "cell_type": "code",
   "execution_count": null,
   "metadata": {
    "collapsed": true,
    "deletable": true,
    "editable": true
   },
   "outputs": [],
   "source": []
  },
  {
   "cell_type": "code",
   "execution_count": 34,
   "metadata": {
    "collapsed": false
   },
   "outputs": [
    {
     "data": {
      "text/plain": [
       "Id                int64\n",
       "EmployeeName     object\n",
       "JobTitle         object\n",
       "BasePay          object\n",
       "OvertimePay      object\n",
       "OtherPay         object\n",
       "Benefits         object\n",
       "TotalPay        float64\n",
       "Year              int64\n",
       "Status           object\n",
       "dtype: object"
      ]
     },
     "execution_count": 34,
     "metadata": {},
     "output_type": "execute_result"
    }
   ],
   "source": [
    "sf.dtypes"
   ]
  },
  {
   "cell_type": "code",
   "execution_count": 36,
   "metadata": {
    "collapsed": false,
    "deletable": true,
    "editable": true
   },
   "outputs": [],
   "source": [
    "sf.BasePay = sf.BasePay.str.lstrip('$')\n",
    "sf.OtherPay = sf.OtherPay.str.lstrip('$')\n",
    "sf.OvertimePay = sf.OvertimePay.str.lstrip('$')\n",
    "# sf.TotalPay = sf.TotalPay.str.lstrip('$')\n",
    "sf.Benefits = sf.Benefits.str.lstrip('$')"
   ]
  },
  {
   "cell_type": "code",
   "execution_count": 38,
   "metadata": {
    "collapsed": false,
    "deletable": true,
    "editable": true
   },
   "outputs": [],
   "source": [
    "sf.BasePay = sf.BasePay.str.replace(',','')\n",
    "sf.OtherPay = sf.OtherPay.str.replace(',','')\n",
    "sf.OvertimePay = sf.OvertimePay.str.replace(',','')\n",
    "# sf.TotalPay = sf.TotalPay.str.replace(',','')\n",
    "sf.Benefits = sf.Benefits.str.replace(',','')"
   ]
  },
  {
   "cell_type": "code",
   "execution_count": 39,
   "metadata": {
    "collapsed": false,
    "deletable": true,
    "editable": true
   },
   "outputs": [],
   "source": [
    "sf.BasePay = pd.to_numeric(sf.BasePay)\n",
    "sf.OvertimePay = pd.to_numeric(sf['OvertimePay'])\n",
    "sf.OtherPay = pd.to_numeric(sf['OtherPay'])\n",
    "sf.Benefits = pd.to_numeric(sf['Benefits'])\n",
    "sf.TotalPay = pd.to_numeric(sf['TotalPay'])\n",
    "\n",
    "\n",
    "\n",
    "# sf['BasePay'] = pd.to_numeric(sf['BasePay'])\n",
    "# sf['OvertimePay'] = pd.to_numeric(sf['OvertimePay'])\n",
    "# sf['OtherPay'] = pd.to_numeric(sf['OtherPay'])\n",
    "# sf['Benefits'] = pd.to_numeric(sf['Benefits'])\n",
    "# sf['TotalPay'] = pd.to_numeric(sf['TotalPay'])"
   ]
  },
  {
   "cell_type": "code",
   "execution_count": null,
   "metadata": {
    "collapsed": false,
    "deletable": true,
    "editable": true
   },
   "outputs": [],
   "source": []
  },
  {
   "cell_type": "code",
   "execution_count": 40,
   "metadata": {
    "collapsed": false,
    "deletable": true,
    "editable": true
   },
   "outputs": [
    {
     "data": {
      "text/plain": [
       "Id                int64\n",
       "EmployeeName     object\n",
       "JobTitle         object\n",
       "BasePay         float64\n",
       "OvertimePay     float64\n",
       "OtherPay        float64\n",
       "Benefits        float64\n",
       "TotalPay        float64\n",
       "Year              int64\n",
       "Status           object\n",
       "dtype: object"
      ]
     },
     "execution_count": 40,
     "metadata": {},
     "output_type": "execute_result"
    }
   ],
   "source": [
    "sf.dtypes"
   ]
  },
  {
   "cell_type": "code",
   "execution_count": 41,
   "metadata": {
    "collapsed": false,
    "deletable": true,
    "editable": true
   },
   "outputs": [
    {
     "data": {
      "text/html": [
       "<div>\n",
       "<table border=\"1\" class=\"dataframe\">\n",
       "  <thead>\n",
       "    <tr style=\"text-align: right;\">\n",
       "      <th></th>\n",
       "      <th>Id</th>\n",
       "      <th>BasePay</th>\n",
       "      <th>OvertimePay</th>\n",
       "      <th>OtherPay</th>\n",
       "      <th>Benefits</th>\n",
       "      <th>TotalPay</th>\n",
       "      <th>Year</th>\n",
       "    </tr>\n",
       "  </thead>\n",
       "  <tbody>\n",
       "    <tr>\n",
       "      <th>count</th>\n",
       "      <td>148650.000000</td>\n",
       "      <td>148045.000000</td>\n",
       "      <td>148650.000000</td>\n",
       "      <td>148650.000000</td>\n",
       "      <td>112491.000000</td>\n",
       "      <td>148650.000000</td>\n",
       "      <td>148650.000000</td>\n",
       "    </tr>\n",
       "    <tr>\n",
       "      <th>mean</th>\n",
       "      <td>74325.500047</td>\n",
       "      <td>66325.448841</td>\n",
       "      <td>5066.059886</td>\n",
       "      <td>3648.767297</td>\n",
       "      <td>25007.893151</td>\n",
       "      <td>74770.333901</td>\n",
       "      <td>2012.522603</td>\n",
       "    </tr>\n",
       "    <tr>\n",
       "      <th>std</th>\n",
       "      <td>42911.703176</td>\n",
       "      <td>42764.635495</td>\n",
       "      <td>11454.380559</td>\n",
       "      <td>8056.601866</td>\n",
       "      <td>15402.215858</td>\n",
       "      <td>50516.196009</td>\n",
       "      <td>1.117526</td>\n",
       "    </tr>\n",
       "    <tr>\n",
       "      <th>min</th>\n",
       "      <td>1.000000</td>\n",
       "      <td>-166.010000</td>\n",
       "      <td>-0.010000</td>\n",
       "      <td>-7058.590000</td>\n",
       "      <td>-33.890000</td>\n",
       "      <td>-618.130000</td>\n",
       "      <td>2011.000000</td>\n",
       "    </tr>\n",
       "    <tr>\n",
       "      <th>25%</th>\n",
       "      <td>37163.250000</td>\n",
       "      <td>33588.200000</td>\n",
       "      <td>0.000000</td>\n",
       "      <td>0.000000</td>\n",
       "      <td>11535.395000</td>\n",
       "      <td>36169.955000</td>\n",
       "      <td>2012.000000</td>\n",
       "    </tr>\n",
       "    <tr>\n",
       "      <th>50%</th>\n",
       "      <td>74325.500000</td>\n",
       "      <td>65007.450000</td>\n",
       "      <td>0.000000</td>\n",
       "      <td>811.270000</td>\n",
       "      <td>28628.620000</td>\n",
       "      <td>71427.240000</td>\n",
       "      <td>2013.000000</td>\n",
       "    </tr>\n",
       "    <tr>\n",
       "      <th>75%</th>\n",
       "      <td>111487.750000</td>\n",
       "      <td>94691.050000</td>\n",
       "      <td>4658.175000</td>\n",
       "      <td>4236.065000</td>\n",
       "      <td>35566.855000</td>\n",
       "      <td>105842.960000</td>\n",
       "      <td>2014.000000</td>\n",
       "    </tr>\n",
       "    <tr>\n",
       "      <th>max</th>\n",
       "      <td>148654.000000</td>\n",
       "      <td>319275.010000</td>\n",
       "      <td>245131.880000</td>\n",
       "      <td>400184.250000</td>\n",
       "      <td>96570.660000</td>\n",
       "      <td>567595.430000</td>\n",
       "      <td>2014.000000</td>\n",
       "    </tr>\n",
       "  </tbody>\n",
       "</table>\n",
       "</div>"
      ],
      "text/plain": [
       "                  Id        BasePay    OvertimePay       OtherPay  \\\n",
       "count  148650.000000  148045.000000  148650.000000  148650.000000   \n",
       "mean    74325.500047   66325.448841    5066.059886    3648.767297   \n",
       "std     42911.703176   42764.635495   11454.380559    8056.601866   \n",
       "min         1.000000    -166.010000      -0.010000   -7058.590000   \n",
       "25%     37163.250000   33588.200000       0.000000       0.000000   \n",
       "50%     74325.500000   65007.450000       0.000000     811.270000   \n",
       "75%    111487.750000   94691.050000    4658.175000    4236.065000   \n",
       "max    148654.000000  319275.010000  245131.880000  400184.250000   \n",
       "\n",
       "            Benefits       TotalPay           Year  \n",
       "count  112491.000000  148650.000000  148650.000000  \n",
       "mean    25007.893151   74770.333901    2012.522603  \n",
       "std     15402.215858   50516.196009       1.117526  \n",
       "min       -33.890000    -618.130000    2011.000000  \n",
       "25%     11535.395000   36169.955000    2012.000000  \n",
       "50%     28628.620000   71427.240000    2013.000000  \n",
       "75%     35566.855000  105842.960000    2014.000000  \n",
       "max     96570.660000  567595.430000    2014.000000  "
      ]
     },
     "execution_count": 41,
     "metadata": {},
     "output_type": "execute_result"
    }
   ],
   "source": [
    "sf.describe()"
   ]
  },
  {
   "cell_type": "markdown",
   "metadata": {
    "deletable": true,
    "editable": true
   },
   "source": [
    "We see that there is some cleaning to do:\n",
    "1. Remove negative salaries\n",
    "2. There is some data with null values based on count values\n",
    "3. TotalPay does not add up"
   ]
  },
  {
   "cell_type": "code",
   "execution_count": 42,
   "metadata": {
    "collapsed": false,
    "deletable": true,
    "editable": true
   },
   "outputs": [
    {
     "name": "stdout",
     "output_type": "stream",
     "text": [
      "Min: 2011\n",
      "Max: 2014\n"
     ]
    }
   ],
   "source": [
    "# Min and max in the dataset\n",
    "print('Min:', sf.Year.min())\n",
    "print('Max:', sf.Year.max())"
   ]
  },
  {
   "cell_type": "markdown",
   "metadata": {
    "deletable": true,
    "editable": true
   },
   "source": [
    "It looks like we only have Status for year 2014"
   ]
  },
  {
   "cell_type": "code",
   "execution_count": 43,
   "metadata": {
    "collapsed": false,
    "deletable": true,
    "editable": true
   },
   "outputs": [
    {
     "data": {
      "text/html": [
       "<div>\n",
       "<table border=\"1\" class=\"dataframe\">\n",
       "  <thead>\n",
       "    <tr style=\"text-align: right;\">\n",
       "      <th>Year</th>\n",
       "      <th>2011</th>\n",
       "      <th>2012</th>\n",
       "      <th>2013</th>\n",
       "      <th>2014</th>\n",
       "    </tr>\n",
       "    <tr>\n",
       "      <th>Status</th>\n",
       "      <th></th>\n",
       "      <th></th>\n",
       "      <th></th>\n",
       "      <th></th>\n",
       "    </tr>\n",
       "  </thead>\n",
       "  <tbody>\n",
       "    <tr>\n",
       "      <th>FT</th>\n",
       "      <td>NaN</td>\n",
       "      <td>NaN</td>\n",
       "      <td>NaN</td>\n",
       "      <td>22334.0</td>\n",
       "    </tr>\n",
       "    <tr>\n",
       "      <th>PT</th>\n",
       "      <td>NaN</td>\n",
       "      <td>NaN</td>\n",
       "      <td>NaN</td>\n",
       "      <td>15785.0</td>\n",
       "    </tr>\n",
       "    <tr>\n",
       "      <th>Unknown</th>\n",
       "      <td>36159.0</td>\n",
       "      <td>36766.0</td>\n",
       "      <td>37606.0</td>\n",
       "      <td>NaN</td>\n",
       "    </tr>\n",
       "  </tbody>\n",
       "</table>\n",
       "</div>"
      ],
      "text/plain": [
       "Year        2011     2012     2013     2014\n",
       "Status                                     \n",
       "FT           NaN      NaN      NaN  22334.0\n",
       "PT           NaN      NaN      NaN  15785.0\n",
       "Unknown  36159.0  36766.0  37606.0      NaN"
      ]
     },
     "execution_count": 43,
     "metadata": {},
     "output_type": "execute_result"
    }
   ],
   "source": [
    "### MENTOR ### notice that the years prior to 2014 do not show up, they used to show up before I merged datasets\n",
    "\n",
    "sf_status = sf.groupby(['Year', 'Status']).size()\n",
    "sf_status.unstack('Year')"
   ]
  },
  {
   "cell_type": "markdown",
   "metadata": {
    "deletable": true,
    "editable": true
   },
   "source": [
    "It looks like we only have Status for year 2014"
   ]
  },
  {
   "cell_type": "code",
   "execution_count": 44,
   "metadata": {
    "collapsed": false,
    "deletable": true,
    "editable": true
   },
   "outputs": [
    {
     "name": "stdout",
     "output_type": "stream",
     "text": [
      "2011 36159\n",
      "2012 36766\n",
      "2013 37606\n",
      "2014 38119\n"
     ]
    }
   ],
   "source": [
    "# Count records per year with a loop\n",
    "for y in range(min(sf.Year), max(sf.Year)+1):\n",
    "    print(y, (sf.Year == y).sum())"
   ]
  },
  {
   "cell_type": "code",
   "execution_count": 45,
   "metadata": {
    "collapsed": false,
    "deletable": true,
    "editable": true
   },
   "outputs": [
    {
     "data": {
      "text/html": [
       "<div>\n",
       "<table border=\"1\" class=\"dataframe\">\n",
       "  <thead>\n",
       "    <tr style=\"text-align: right;\">\n",
       "      <th></th>\n",
       "      <th>TotalPay</th>\n",
       "    </tr>\n",
       "    <tr>\n",
       "      <th>Year</th>\n",
       "      <th></th>\n",
       "    </tr>\n",
       "  </thead>\n",
       "  <tbody>\n",
       "    <tr>\n",
       "      <th>2011</th>\n",
       "      <td>71744.103871</td>\n",
       "    </tr>\n",
       "    <tr>\n",
       "      <th>2012</th>\n",
       "      <td>74113.262265</td>\n",
       "    </tr>\n",
       "    <tr>\n",
       "      <th>2013</th>\n",
       "      <td>77611.443142</td>\n",
       "    </tr>\n",
       "    <tr>\n",
       "      <th>2014</th>\n",
       "      <td>75471.836912</td>\n",
       "    </tr>\n",
       "  </tbody>\n",
       "</table>\n",
       "</div>"
      ],
      "text/plain": [
       "          TotalPay\n",
       "Year              \n",
       "2011  71744.103871\n",
       "2012  74113.262265\n",
       "2013  77611.443142\n",
       "2014  75471.836912"
      ]
     },
     "execution_count": 45,
     "metadata": {},
     "output_type": "execute_result"
    }
   ],
   "source": [
    "### MENTOR ### This used to work prior to data merge.\n",
    "\n",
    "# Average Paid by year\n",
    "sf[['Year', 'TotalPay']].groupby('Year').mean()"
   ]
  },
  {
   "cell_type": "code",
   "execution_count": 46,
   "metadata": {
    "collapsed": false,
    "deletable": true,
    "editable": true
   },
   "outputs": [
    {
     "name": "stdout",
     "output_type": "stream",
     "text": [
      "          TotalPay\n",
      "Year              \n",
      "2011  2.594195e+09\n",
      "2012  2.724848e+09\n",
      "2013  2.918656e+09\n",
      "2014  2.876911e+09\n",
      "(This is in billions)\n"
     ]
    }
   ],
   "source": [
    "print(sf[['Year', 'TotalPay']].groupby('Year').sum())\n",
    "print('(This is in billions)')"
   ]
  },
  {
   "cell_type": "code",
   "execution_count": 47,
   "metadata": {
    "collapsed": false,
    "deletable": true,
    "editable": true
   },
   "outputs": [
    {
     "name": "stdout",
     "output_type": "stream",
     "text": [
      "Total Paid in four years:\n"
     ]
    },
    {
     "data": {
      "text/plain": [
       "11114610134.381538"
      ]
     },
     "execution_count": 47,
     "metadata": {},
     "output_type": "execute_result"
    }
   ],
   "source": [
    "#Total paid to San Francisco city employees in years 2011 - 2014\n",
    "\n",
    "print('Total Paid in four years:')\n",
    "\n",
    "sf['TotalPay'].sum()"
   ]
  },
  {
   "cell_type": "code",
   "execution_count": 48,
   "metadata": {
    "collapsed": false,
    "deletable": true,
    "editable": true
   },
   "outputs": [
    {
     "data": {
      "text/plain": [
       "<matplotlib.axes._subplots.AxesSubplot at 0x11f004c88>"
      ]
     },
     "execution_count": 48,
     "metadata": {},
     "output_type": "execute_result"
    },
    {
     "data": {
      "image/png": "[encoded data removed]",
      "text/plain": [
       "<matplotlib.figure.Figure at 0x11fc3b4a8>"
      ]
     },
     "metadata": {},
     "output_type": "display_data"
    }
   ],
   "source": [
    "JobTitleCount = sf['JobTitle'].value_counts().head(10)\n",
    "JobTitleCount.plot(title = \"Top 10 Jobs by # of People Employed\", kind = 'bar')"
   ]
  },
  {
   "cell_type": "code",
   "execution_count": null,
   "metadata": {
    "collapsed": false,
    "deletable": true,
    "editable": true
   },
   "outputs": [],
   "source": []
  },
  {
   "cell_type": "code",
   "execution_count": 50,
   "metadata": {
    "collapsed": false,
    "deletable": true,
    "editable": true
   },
   "outputs": [
    {
     "data": {
      "image/png": "[encoded data removed]",
      "text/plain": [
       "<matplotlib.figure.Figure at 0x11fec5fd0>"
      ]
     },
     "metadata": {},
     "output_type": "display_data"
    }
   ],
   "source": [
    "PayByYear = sns.FacetGrid(sf, col=\"Year\", size=10, aspect=.5)\n",
    "PayByYear = PayByYear.map(sns.boxplot, \"TotalPay\")\n",
    "\n",
    "# If this tells us anything, is that there are some extreme outliers."
   ]
  },
  {
   "cell_type": "markdown",
   "metadata": {
    "collapsed": false,
    "deletable": true,
    "editable": true
   },
   "source": [
    "We can clearly see that there are some extreme outliers in this dataset.\n",
    "\n",
    "Lets seperate the \"High\" and \"Low\" earners to look at them in greater detail."
   ]
  },
  {
   "cell_type": "code",
   "execution_count": 51,
   "metadata": {
    "collapsed": false,
    "deletable": true,
    "editable": true
   },
   "outputs": [],
   "source": [
    "HighEarners = sf[sf.TotalPay > 300000]\n",
    "LowEarners = sf[sf.TotalPay < 4000]"
   ]
  },
  {
   "cell_type": "code",
   "execution_count": 52,
   "metadata": {
    "collapsed": false,
    "deletable": true,
    "editable": true
   },
   "outputs": [
    {
     "data": {
      "text/html": [
       "<div>\n",
       "<table border=\"1\" class=\"dataframe\">\n",
       "  <thead>\n",
       "    <tr style=\"text-align: right;\">\n",
       "      <th></th>\n",
       "      <th></th>\n",
       "      <th></th>\n",
       "      <th>TotalPay</th>\n",
       "    </tr>\n",
       "    <tr>\n",
       "      <th>JobTitle</th>\n",
       "      <th>EmployeeName</th>\n",
       "      <th>Year</th>\n",
       "      <th></th>\n",
       "    </tr>\n",
       "  </thead>\n",
       "  <tbody>\n",
       "    <tr>\n",
       "      <th rowspan=\"2\" valign=\"top\">ASSISTANT DEPUTY CHIEF 2</th>\n",
       "      <th>MARK KEARNEY</th>\n",
       "      <th>2012</th>\n",
       "      <td>327689.78</td>\n",
       "    </tr>\n",
       "    <tr>\n",
       "      <th>MICHAEL J MORRIS</th>\n",
       "      <th>2013</th>\n",
       "      <td>326376.37</td>\n",
       "    </tr>\n",
       "    <tr>\n",
       "      <th>ASSISTANT DEPUTY CHIEF II</th>\n",
       "      <th>DAVID SULLIVAN</th>\n",
       "      <th>2011</th>\n",
       "      <td>316285.74</td>\n",
       "    </tr>\n",
       "    <tr>\n",
       "      <th rowspan=\"4\" valign=\"top\">ASST CHF OF DEPT (FIRE DEPT)</th>\n",
       "      <th>DAVID FRANKLIN</th>\n",
       "      <th>2012</th>\n",
       "      <td>315728.77</td>\n",
       "    </tr>\n",
       "    <tr>\n",
       "      <th rowspan=\"2\" valign=\"top\">DAVID L FRANKLIN</th>\n",
       "      <th>2013</th>\n",
       "      <td>333888.32</td>\n",
       "    </tr>\n",
       "    <tr>\n",
       "      <th>2014</th>\n",
       "      <td>329390.54</td>\n",
       "    </tr>\n",
       "    <tr>\n",
       "      <th>THOMAS A SIRAGUSA</th>\n",
       "      <th>2013</th>\n",
       "      <td>324820.63</td>\n",
       "    </tr>\n",
       "    <tr>\n",
       "      <th rowspan=\"3\" valign=\"top\">ASST MED EXAMINER</th>\n",
       "      <th>AMY P HART</th>\n",
       "      <th>2014</th>\n",
       "      <td>390111.98</td>\n",
       "    </tr>\n",
       "    <tr>\n",
       "      <th rowspan=\"2\" valign=\"top\">ELLEN G MOFFATT</th>\n",
       "      <th>2013</th>\n",
       "      <td>335537.96</td>\n",
       "    </tr>\n",
       "    <tr>\n",
       "      <th>2014</th>\n",
       "      <td>344187.46</td>\n",
       "    </tr>\n",
       "    <tr>\n",
       "      <th rowspan=\"2\" valign=\"top\">BATTALION CHIEF, (FIRE DEPARTMENT)</th>\n",
       "      <th>ALSON LEE</th>\n",
       "      <th>2011</th>\n",
       "      <td>315981.05</td>\n",
       "    </tr>\n",
       "    <tr>\n",
       "      <th>MICHAEL MORRIS</th>\n",
       "      <th>2011</th>\n",
       "      <td>303427.55</td>\n",
       "    </tr>\n",
       "    <tr>\n",
       "      <th rowspan=\"9\" valign=\"top\">BATTALION CHIEF, FIRE SUPPRESS</th>\n",
       "      <th>BRENDAN A WARD</th>\n",
       "      <th>2013</th>\n",
       "      <td>313142.24</td>\n",
       "    </tr>\n",
       "    <tr>\n",
       "      <th rowspan=\"2\" valign=\"top\">BRYAN W RUBENSTEIN</th>\n",
       "      <th>2013</th>\n",
       "      <td>311000.86</td>\n",
       "    </tr>\n",
       "    <tr>\n",
       "      <th>2014</th>\n",
       "      <td>306117.53</td>\n",
       "    </tr>\n",
       "    <tr>\n",
       "      <th>JOSE L VELO</th>\n",
       "      <th>2014</th>\n",
       "      <td>307099.61</td>\n",
       "    </tr>\n",
       "    <tr>\n",
       "      <th>LORRIE A KALOS</th>\n",
       "      <th>2013</th>\n",
       "      <td>301697.70</td>\n",
       "    </tr>\n",
       "    <tr>\n",
       "      <th>MARK J JOHNSON</th>\n",
       "      <th>2013</th>\n",
       "      <td>311698.29</td>\n",
       "    </tr>\n",
       "    <tr>\n",
       "      <th>MARTY A ROSS</th>\n",
       "      <th>2013</th>\n",
       "      <td>312616.60</td>\n",
       "    </tr>\n",
       "    <tr>\n",
       "      <th>SAMSON  LAI</th>\n",
       "      <th>2013</th>\n",
       "      <td>347102.32</td>\n",
       "    </tr>\n",
       "    <tr>\n",
       "      <th>SAMSON LAI</th>\n",
       "      <th>2014</th>\n",
       "      <td>335484.96</td>\n",
       "    </tr>\n",
       "    <tr>\n",
       "      <th rowspan=\"4\" valign=\"top\">BATTLION CHIEF, FIRE SUPPRESSI</th>\n",
       "      <th>BRENDAN WARD</th>\n",
       "      <th>2012</th>\n",
       "      <td>321883.83</td>\n",
       "    </tr>\n",
       "    <tr>\n",
       "      <th>MARTY ROSS</th>\n",
       "      <th>2012</th>\n",
       "      <td>310968.31</td>\n",
       "    </tr>\n",
       "    <tr>\n",
       "      <th>RUDY CASTELLANOS</th>\n",
       "      <th>2012</th>\n",
       "      <td>316988.26</td>\n",
       "    </tr>\n",
       "    <tr>\n",
       "      <th>SAMSON LAI</th>\n",
       "      <th>2012</th>\n",
       "      <td>316214.00</td>\n",
       "    </tr>\n",
       "    <tr>\n",
       "      <th rowspan=\"4\" valign=\"top\">CAPTAIN 3</th>\n",
       "      <th>CROCE CASCIATO</th>\n",
       "      <th>2012</th>\n",
       "      <td>311646.16</td>\n",
       "    </tr>\n",
       "    <tr>\n",
       "      <th>JOHN EHRLICH</th>\n",
       "      <th>2012</th>\n",
       "      <td>303869.82</td>\n",
       "    </tr>\n",
       "    <tr>\n",
       "      <th>JOHN GOLDBERG</th>\n",
       "      <th>2012</th>\n",
       "      <td>350403.41</td>\n",
       "    </tr>\n",
       "    <tr>\n",
       "      <th>STEPHEN TACCHINI</th>\n",
       "      <th>2012</th>\n",
       "      <td>308694.09</td>\n",
       "    </tr>\n",
       "    <tr>\n",
       "      <th>CAPTAIN III (POLICE DEPARTMENT)</th>\n",
       "      <th>ALBERT PARDINI</th>\n",
       "      <th>2011</th>\n",
       "      <td>335279.91</td>\n",
       "    </tr>\n",
       "    <tr>\n",
       "      <th>...</th>\n",
       "      <th>...</th>\n",
       "      <th>...</th>\n",
       "      <td>...</td>\n",
       "    </tr>\n",
       "    <tr>\n",
       "      <th rowspan=\"2\" valign=\"top\">CAPTAIN, FIRE SUPPRESSION</th>\n",
       "      <th>MICHAEL ROLOVICH</th>\n",
       "      <th>2012</th>\n",
       "      <td>302002.06</td>\n",
       "    </tr>\n",
       "    <tr>\n",
       "      <th>PHILIP STEVENS</th>\n",
       "      <th>2012</th>\n",
       "      <td>308669.82</td>\n",
       "    </tr>\n",
       "    <tr>\n",
       "      <th>CHIEF INVESTMENT OFFICER</th>\n",
       "      <th>WILLIAM J COAKER JR.</th>\n",
       "      <th>2014</th>\n",
       "      <td>339653.70</td>\n",
       "    </tr>\n",
       "    <tr>\n",
       "      <th>CHIEF OF DEPARTMENT, (FIRE DEPARTMENT)</th>\n",
       "      <th>JOANNE HAYES-WHITE</th>\n",
       "      <th>2011</th>\n",
       "      <td>302377.73</td>\n",
       "    </tr>\n",
       "    <tr>\n",
       "      <th rowspan=\"3\" valign=\"top\">CHIEF OF POLICE</th>\n",
       "      <th rowspan=\"2\" valign=\"top\">GREGORY P SUHR</th>\n",
       "      <th>2013</th>\n",
       "      <td>339282.07</td>\n",
       "    </tr>\n",
       "    <tr>\n",
       "      <th>2014</th>\n",
       "      <td>326716.76</td>\n",
       "    </tr>\n",
       "    <tr>\n",
       "      <th>GREGORY SUHR</th>\n",
       "      <th>2012</th>\n",
       "      <td>321552.11</td>\n",
       "    </tr>\n",
       "    <tr>\n",
       "      <th rowspan=\"3\" valign=\"top\">CHIEF, FIRE DEPARTMENT</th>\n",
       "      <th>JOANNE HAYES-WHITE</th>\n",
       "      <th>2012</th>\n",
       "      <td>314759.60</td>\n",
       "    </tr>\n",
       "    <tr>\n",
       "      <th rowspan=\"2\" valign=\"top\">JOANNE M HAYES-WHITE</th>\n",
       "      <th>2013</th>\n",
       "      <td>336922.01</td>\n",
       "    </tr>\n",
       "    <tr>\n",
       "      <th>2014</th>\n",
       "      <td>326233.44</td>\n",
       "    </tr>\n",
       "    <tr>\n",
       "      <th>COMMANDER 3</th>\n",
       "      <th>RICHARD L CORRIEA</th>\n",
       "      <th>2014</th>\n",
       "      <td>322143.10</td>\n",
       "    </tr>\n",
       "    <tr>\n",
       "      <th>DEP DIR FOR INVESTMENTS, RET</th>\n",
       "      <th>ROBERT L SHAW</th>\n",
       "      <th>2013</th>\n",
       "      <td>315572.01</td>\n",
       "    </tr>\n",
       "    <tr>\n",
       "      <th rowspan=\"3\" valign=\"top\">DEPT HEAD V</th>\n",
       "      <th>AMY P HART</th>\n",
       "      <th>2013</th>\n",
       "      <td>303669.15</td>\n",
       "    </tr>\n",
       "    <tr>\n",
       "      <th rowspan=\"2\" valign=\"top\">JOHN L MARTIN</th>\n",
       "      <th>2013</th>\n",
       "      <td>312857.60</td>\n",
       "    </tr>\n",
       "    <tr>\n",
       "      <th>2014</th>\n",
       "      <td>311298.55</td>\n",
       "    </tr>\n",
       "    <tr>\n",
       "      <th>DEPUTY CHIEF 3</th>\n",
       "      <th>DAVID SHINN</th>\n",
       "      <th>2014</th>\n",
       "      <td>471952.64</td>\n",
       "    </tr>\n",
       "    <tr>\n",
       "      <th>DEPUTY CHIEF OF DEPARTMENT,(FIRE DEPARTMENT)</th>\n",
       "      <th>PATRICK GARDNER</th>\n",
       "      <th>2011</th>\n",
       "      <td>326373.19</td>\n",
       "    </tr>\n",
       "    <tr>\n",
       "      <th>DEPUTY DIRECTOR OF INVESTMENTS</th>\n",
       "      <th>DAVID KUSHNER</th>\n",
       "      <th>2011</th>\n",
       "      <td>307899.46</td>\n",
       "    </tr>\n",
       "    <tr>\n",
       "      <th>DEPUTY SHERIFF</th>\n",
       "      <th>WHITNEY P YEE</th>\n",
       "      <th>2013</th>\n",
       "      <td>308434.84</td>\n",
       "    </tr>\n",
       "    <tr>\n",
       "      <th>ELECTRONIC MAINTENANCE TECH</th>\n",
       "      <th>KHOA TRINH</th>\n",
       "      <th>2012</th>\n",
       "      <td>336393.73</td>\n",
       "    </tr>\n",
       "    <tr>\n",
       "      <th>EMT/PARAMEDIC/FIREFIGHTER</th>\n",
       "      <th>FREDERICK BINKLEY</th>\n",
       "      <th>2012</th>\n",
       "      <td>337204.86</td>\n",
       "    </tr>\n",
       "    <tr>\n",
       "      <th rowspan=\"2\" valign=\"top\">EXECUTIVE CONTRACT EMPLOYEE</th>\n",
       "      <th rowspan=\"2\" valign=\"top\">HARLAN L KELLY-JR</th>\n",
       "      <th>2013</th>\n",
       "      <td>313312.52</td>\n",
       "    </tr>\n",
       "    <tr>\n",
       "      <th>2014</th>\n",
       "      <td>310161.02</td>\n",
       "    </tr>\n",
       "    <tr>\n",
       "      <th>GEN MGR, PUBLIC TRNSP DEPT</th>\n",
       "      <th>EDWARD D REISKIN</th>\n",
       "      <th>2013</th>\n",
       "      <td>305307.89</td>\n",
       "    </tr>\n",
       "    <tr>\n",
       "      <th>GENERAL MANAGER-METROPOLITAN TRANSIT AUTHORITY</th>\n",
       "      <th>NATHANIEL FORD</th>\n",
       "      <th>2011</th>\n",
       "      <td>567595.43</td>\n",
       "    </tr>\n",
       "    <tr>\n",
       "      <th rowspan=\"2\" valign=\"top\">LIEUTENANT, FIRE SUPPRESSION</th>\n",
       "      <th>GARY ALTENBERG</th>\n",
       "      <th>2012</th>\n",
       "      <td>362844.66</td>\n",
       "    </tr>\n",
       "    <tr>\n",
       "      <th>GARY L ALTENBERG</th>\n",
       "      <th>2013</th>\n",
       "      <td>320375.79</td>\n",
       "    </tr>\n",
       "    <tr>\n",
       "      <th rowspan=\"2\" valign=\"top\">SENIOR PHYSICIAN SPECIALIST</th>\n",
       "      <th>YIFANG  QIAN</th>\n",
       "      <th>2013</th>\n",
       "      <td>322886.84</td>\n",
       "    </tr>\n",
       "    <tr>\n",
       "      <th>YIFANG QIAN</th>\n",
       "      <th>2014</th>\n",
       "      <td>311650.36</td>\n",
       "    </tr>\n",
       "    <tr>\n",
       "      <th>WIRE ROPE CABLE MAINTENANCE MECHANIC</th>\n",
       "      <th>CHRISTOPHER CHONG</th>\n",
       "      <th>2011</th>\n",
       "      <td>332343.61</td>\n",
       "    </tr>\n",
       "  </tbody>\n",
       "</table>\n",
       "<p>61 rows × 1 columns</p>\n",
       "</div>"
      ],
      "text/plain": [
       "                                                                           TotalPay\n",
       "JobTitle                                       EmployeeName         Year           \n",
       "ASSISTANT DEPUTY CHIEF 2                       MARK KEARNEY         2012  327689.78\n",
       "                                               MICHAEL J MORRIS     2013  326376.37\n",
       "ASSISTANT DEPUTY CHIEF II                      DAVID SULLIVAN       2011  316285.74\n",
       "ASST CHF OF DEPT (FIRE DEPT)                   DAVID FRANKLIN       2012  315728.77\n",
       "                                               DAVID L FRANKLIN     2013  333888.32\n",
       "                                                                    2014  329390.54\n",
       "                                               THOMAS A SIRAGUSA    2013  324820.63\n",
       "ASST MED EXAMINER                              AMY P HART           2014  390111.98\n",
       "                                               ELLEN G MOFFATT      2013  335537.96\n",
       "                                                                    2014  344187.46\n",
       "BATTALION CHIEF, (FIRE DEPARTMENT)             ALSON LEE            2011  315981.05\n",
       "                                               MICHAEL MORRIS       2011  303427.55\n",
       "BATTALION CHIEF, FIRE SUPPRESS                 BRENDAN A WARD       2013  313142.24\n",
       "                                               BRYAN W RUBENSTEIN   2013  311000.86\n",
       "                                                                    2014  306117.53\n",
       "                                               JOSE L VELO          2014  307099.61\n",
       "                                               LORRIE A KALOS       2013  301697.70\n",
       "                                               MARK J JOHNSON       2013  311698.29\n",
       "                                               MARTY A ROSS         2013  312616.60\n",
       "                                               SAMSON  LAI          2013  347102.32\n",
       "                                               SAMSON LAI           2014  335484.96\n",
       "BATTLION CHIEF, FIRE SUPPRESSI                 BRENDAN WARD         2012  321883.83\n",
       "                                               MARTY ROSS           2012  310968.31\n",
       "                                               RUDY CASTELLANOS     2012  316988.26\n",
       "                                               SAMSON LAI           2012  316214.00\n",
       "CAPTAIN 3                                      CROCE CASCIATO       2012  311646.16\n",
       "                                               JOHN EHRLICH         2012  303869.82\n",
       "                                               JOHN GOLDBERG        2012  350403.41\n",
       "                                               STEPHEN TACCHINI     2012  308694.09\n",
       "CAPTAIN III (POLICE DEPARTMENT)                ALBERT PARDINI       2011  335279.91\n",
       "...                                                                             ...\n",
       "CAPTAIN, FIRE SUPPRESSION                      MICHAEL ROLOVICH     2012  302002.06\n",
       "                                               PHILIP STEVENS       2012  308669.82\n",
       "CHIEF INVESTMENT OFFICER                       WILLIAM J COAKER JR. 2014  339653.70\n",
       "CHIEF OF DEPARTMENT, (FIRE DEPARTMENT)         JOANNE HAYES-WHITE   2011  302377.73\n",
       "CHIEF OF POLICE                                GREGORY P SUHR       2013  339282.07\n",
       "                                                                    2014  326716.76\n",
       "                                               GREGORY SUHR         2012  321552.11\n",
       "CHIEF, FIRE DEPARTMENT                         JOANNE HAYES-WHITE   2012  314759.60\n",
       "                                               JOANNE M HAYES-WHITE 2013  336922.01\n",
       "                                                                    2014  326233.44\n",
       "COMMANDER 3                                    RICHARD L CORRIEA    2014  322143.10\n",
       "DEP DIR FOR INVESTMENTS, RET                   ROBERT L SHAW        2013  315572.01\n",
       "DEPT HEAD V                                    AMY P HART           2013  303669.15\n",
       "                                               JOHN L MARTIN        2013  312857.60\n",
       "                                                                    2014  311298.55\n",
       "DEPUTY CHIEF 3                                 DAVID SHINN          2014  471952.64\n",
       "DEPUTY CHIEF OF DEPARTMENT,(FIRE DEPARTMENT)   PATRICK GARDNER      2011  326373.19\n",
       "DEPUTY DIRECTOR OF INVESTMENTS                 DAVID KUSHNER        2011  307899.46\n",
       "DEPUTY SHERIFF                                 WHITNEY P YEE        2013  308434.84\n",
       "ELECTRONIC MAINTENANCE TECH                    KHOA TRINH           2012  336393.73\n",
       "EMT/PARAMEDIC/FIREFIGHTER                      FREDERICK BINKLEY    2012  337204.86\n",
       "EXECUTIVE CONTRACT EMPLOYEE                    HARLAN L KELLY-JR    2013  313312.52\n",
       "                                                                    2014  310161.02\n",
       "GEN MGR, PUBLIC TRNSP DEPT                     EDWARD D REISKIN     2013  305307.89\n",
       "GENERAL MANAGER-METROPOLITAN TRANSIT AUTHORITY NATHANIEL FORD       2011  567595.43\n",
       "LIEUTENANT, FIRE SUPPRESSION                   GARY ALTENBERG       2012  362844.66\n",
       "                                               GARY L ALTENBERG     2013  320375.79\n",
       "SENIOR PHYSICIAN SPECIALIST                    YIFANG  QIAN         2013  322886.84\n",
       "                                               YIFANG QIAN          2014  311650.36\n",
       "WIRE ROPE CABLE MAINTENANCE MECHANIC           CHRISTOPHER CHONG    2011  332343.61\n",
       "\n",
       "[61 rows x 1 columns]"
      ]
     },
     "execution_count": 52,
     "metadata": {},
     "output_type": "execute_result"
    }
   ],
   "source": [
    "pd.pivot_table(HighEarners, index=['JobTitle', 'EmployeeName', 'Year'], values=[\"TotalPay\"])"
   ]
  },
  {
   "cell_type": "markdown",
   "metadata": {
    "deletable": true,
    "editable": true
   },
   "source": [
    "Above we see the 'JobTitles' and 'EmployeeNames' of the \"High Earners\", we additionally learn that many of them hold the position for more than one year.\n",
    "\n",
    "We also see that JobTitles were changed between years, and as a result the same job could appear is distinct, lets create a new field called 'Department' later to hone in and compare departments.\n",
    "\n",
    "There is also the addition of a middle name initial which is creating duplication in data."
   ]
  },
  {
   "cell_type": "code",
   "execution_count": 53,
   "metadata": {
    "collapsed": false,
    "deletable": true,
    "editable": true
   },
   "outputs": [
    {
     "data": {
      "text/html": [
       "<div>\n",
       "<table border=\"1\" class=\"dataframe\">\n",
       "  <thead>\n",
       "    <tr style=\"text-align: right;\">\n",
       "      <th></th>\n",
       "      <th></th>\n",
       "      <th></th>\n",
       "      <th>TotalPay</th>\n",
       "    </tr>\n",
       "    <tr>\n",
       "      <th>JobTitle</th>\n",
       "      <th>EmployeeName</th>\n",
       "      <th>Year</th>\n",
       "      <th></th>\n",
       "    </tr>\n",
       "  </thead>\n",
       "  <tbody>\n",
       "    <tr>\n",
       "      <th rowspan=\"14\" valign=\"top\">ACCOUNT CLERK</th>\n",
       "      <th>BILING  JIANG</th>\n",
       "      <th>2013</th>\n",
       "      <td>2509.12</td>\n",
       "    </tr>\n",
       "    <tr>\n",
       "      <th>JOAB MUCHIRI</th>\n",
       "      <th>2014</th>\n",
       "      <td>3468.60</td>\n",
       "    </tr>\n",
       "    <tr>\n",
       "      <th>KENNETH UCHIDA</th>\n",
       "      <th>2014</th>\n",
       "      <td>237.50</td>\n",
       "    </tr>\n",
       "    <tr>\n",
       "      <th>LIEN LUM</th>\n",
       "      <th>2011</th>\n",
       "      <td>1630.00</td>\n",
       "    </tr>\n",
       "    <tr>\n",
       "      <th>MARGARITA E MEN</th>\n",
       "      <th>2013</th>\n",
       "      <td>1871.50</td>\n",
       "    </tr>\n",
       "    <tr>\n",
       "      <th>NENITA D CELIS</th>\n",
       "      <th>2013</th>\n",
       "      <td>3542.92</td>\n",
       "    </tr>\n",
       "    <tr>\n",
       "      <th>PAUL M HUNT</th>\n",
       "      <th>2014</th>\n",
       "      <td>949.50</td>\n",
       "    </tr>\n",
       "    <tr>\n",
       "      <th>PAULET  GAINES</th>\n",
       "      <th>2013</th>\n",
       "      <td>0.00</td>\n",
       "    </tr>\n",
       "    <tr>\n",
       "      <th>PAULET GAINES</th>\n",
       "      <th>2014</th>\n",
       "      <td>0.00</td>\n",
       "    </tr>\n",
       "    <tr>\n",
       "      <th>RACHEL LAU</th>\n",
       "      <th>2011</th>\n",
       "      <td>1630.00</td>\n",
       "    </tr>\n",
       "    <tr>\n",
       "      <th>RICHARD WONG</th>\n",
       "      <th>2012</th>\n",
       "      <td>2848.50</td>\n",
       "    </tr>\n",
       "    <tr>\n",
       "      <th>TRACY WALKER</th>\n",
       "      <th>2012</th>\n",
       "      <td>2023.00</td>\n",
       "    </tr>\n",
       "    <tr>\n",
       "      <th>TSE SHIH LENG</th>\n",
       "      <th>2011</th>\n",
       "      <td>614.00</td>\n",
       "    </tr>\n",
       "    <tr>\n",
       "      <th>ZENON A LOPEZ</th>\n",
       "      <th>2013</th>\n",
       "      <td>1723.00</td>\n",
       "    </tr>\n",
       "    <tr>\n",
       "      <th>ACCOUNTANT</th>\n",
       "      <th>CESAR PALARCA</th>\n",
       "      <th>2011</th>\n",
       "      <td>1148.40</td>\n",
       "    </tr>\n",
       "    <tr>\n",
       "      <th>ACCOUNTANT II</th>\n",
       "      <th>FELINO LOMBOY JR</th>\n",
       "      <th>2012</th>\n",
       "      <td>1667.40</td>\n",
       "    </tr>\n",
       "    <tr>\n",
       "      <th rowspan=\"6\" valign=\"top\">ACCOUNTANT III</th>\n",
       "      <th>ADAM J VELEZ</th>\n",
       "      <th>2013</th>\n",
       "      <td>2946.98</td>\n",
       "    </tr>\n",
       "    <tr>\n",
       "      <th>DEE P NGO</th>\n",
       "      <th>2014</th>\n",
       "      <td>3087.00</td>\n",
       "    </tr>\n",
       "    <tr>\n",
       "      <th>EDITH HORNER</th>\n",
       "      <th>2012</th>\n",
       "      <td>3537.00</td>\n",
       "    </tr>\n",
       "    <tr>\n",
       "      <th>EVAN J CHAN</th>\n",
       "      <th>2014</th>\n",
       "      <td>510.00</td>\n",
       "    </tr>\n",
       "    <tr>\n",
       "      <th>VIVIAN LIOU</th>\n",
       "      <th>2012</th>\n",
       "      <td>198.07</td>\n",
       "    </tr>\n",
       "    <tr>\n",
       "      <th>WILSON H LEE</th>\n",
       "      <th>2013</th>\n",
       "      <td>3491.48</td>\n",
       "    </tr>\n",
       "    <tr>\n",
       "      <th rowspan=\"2\" valign=\"top\">ACCOUNTANT INTERN</th>\n",
       "      <th>JUSTYNA WROBEL</th>\n",
       "      <th>2012</th>\n",
       "      <td>1639.34</td>\n",
       "    </tr>\n",
       "    <tr>\n",
       "      <th>MANISHA MURJANI</th>\n",
       "      <th>2011</th>\n",
       "      <td>2981.53</td>\n",
       "    </tr>\n",
       "    <tr>\n",
       "      <th>ADMIN HEARING EXAMINER</th>\n",
       "      <th>MURIEL L PARENTEAU</th>\n",
       "      <th>2014</th>\n",
       "      <td>3430.91</td>\n",
       "    </tr>\n",
       "    <tr>\n",
       "      <th rowspan=\"5\" valign=\"top\">ADMINISTRATIVE ANALYST</th>\n",
       "      <th>GIZELDA PABROS</th>\n",
       "      <th>2011</th>\n",
       "      <td>2388.24</td>\n",
       "    </tr>\n",
       "    <tr>\n",
       "      <th>JENNIFER H YEH</th>\n",
       "      <th>2013</th>\n",
       "      <td>2855.60</td>\n",
       "    </tr>\n",
       "    <tr>\n",
       "      <th>MANISHA  LAL</th>\n",
       "      <th>2013</th>\n",
       "      <td>778.80</td>\n",
       "    </tr>\n",
       "    <tr>\n",
       "      <th>MARY F KENNY</th>\n",
       "      <th>2013</th>\n",
       "      <td>3780.43</td>\n",
       "    </tr>\n",
       "    <tr>\n",
       "      <th>MATTHEW M BOYLE</th>\n",
       "      <th>2013</th>\n",
       "      <td>1298.00</td>\n",
       "    </tr>\n",
       "    <tr>\n",
       "      <th>...</th>\n",
       "      <th>...</th>\n",
       "      <th>...</th>\n",
       "      <td>...</td>\n",
       "    </tr>\n",
       "    <tr>\n",
       "      <th rowspan=\"4\" valign=\"top\">VENDOR</th>\n",
       "      <th>DIANA EDWARDS</th>\n",
       "      <th>2011</th>\n",
       "      <td>1233.19</td>\n",
       "    </tr>\n",
       "    <tr>\n",
       "      <th>MEAGHAN MORRISON</th>\n",
       "      <th>2011</th>\n",
       "      <td>2495.11</td>\n",
       "    </tr>\n",
       "    <tr>\n",
       "      <th>MICHAEL KELLY</th>\n",
       "      <th>2011</th>\n",
       "      <td>2239.24</td>\n",
       "    </tr>\n",
       "    <tr>\n",
       "      <th>RUTH MARTIN</th>\n",
       "      <th>2011</th>\n",
       "      <td>3087.95</td>\n",
       "    </tr>\n",
       "    <tr>\n",
       "      <th rowspan=\"4\" valign=\"top\">VICTIM/WITNESS INVESTIGATOR 1</th>\n",
       "      <th>ALICIA N WILEY POWELL</th>\n",
       "      <th>2014</th>\n",
       "      <td>108.71</td>\n",
       "    </tr>\n",
       "    <tr>\n",
       "      <th>ERIC E RUPP</th>\n",
       "      <th>2013</th>\n",
       "      <td>2472.00</td>\n",
       "    </tr>\n",
       "    <tr>\n",
       "      <th>LESLIE L LONERGAN</th>\n",
       "      <th>2013</th>\n",
       "      <td>2472.00</td>\n",
       "    </tr>\n",
       "    <tr>\n",
       "      <th>ROMMEL C CASTELO</th>\n",
       "      <th>2013</th>\n",
       "      <td>2135.00</td>\n",
       "    </tr>\n",
       "    <tr>\n",
       "      <th>VOLUNTEER/OUTREACH COORD</th>\n",
       "      <th>ZOE BURTON</th>\n",
       "      <th>2012</th>\n",
       "      <td>2737.20</td>\n",
       "    </tr>\n",
       "    <tr>\n",
       "      <th>WAREHOUSE WORKER</th>\n",
       "      <th>THOMAS KYRIMIS</th>\n",
       "      <th>2011</th>\n",
       "      <td>3369.71</td>\n",
       "    </tr>\n",
       "    <tr>\n",
       "      <th rowspan=\"3\" valign=\"top\">WASTEWATER CONTROL INSPECTOR</th>\n",
       "      <th>SONJA RADY</th>\n",
       "      <th>2012</th>\n",
       "      <td>1981.51</td>\n",
       "    </tr>\n",
       "    <tr>\n",
       "      <th rowspan=\"2\" valign=\"top\">VICTOR PON</th>\n",
       "      <th>2012</th>\n",
       "      <td>0.00</td>\n",
       "    </tr>\n",
       "    <tr>\n",
       "      <th>2014</th>\n",
       "      <td>1059.28</td>\n",
       "    </tr>\n",
       "    <tr>\n",
       "      <th>WATER OPERATIONS ANALYST</th>\n",
       "      <th>STEPHEN APPERSON</th>\n",
       "      <th>2012</th>\n",
       "      <td>3343.45</td>\n",
       "    </tr>\n",
       "    <tr>\n",
       "      <th>WATER QUALITY TECH III</th>\n",
       "      <th>GAIL  BARROW</th>\n",
       "      <th>2013</th>\n",
       "      <td>3240.19</td>\n",
       "    </tr>\n",
       "    <tr>\n",
       "      <th>WATER QUALITY TECHNICIAN III</th>\n",
       "      <th>SHEK GONG</th>\n",
       "      <th>2011</th>\n",
       "      <td>1060.00</td>\n",
       "    </tr>\n",
       "    <tr>\n",
       "      <th rowspan=\"4\" valign=\"top\">WATER QUALITYTECH I/II</th>\n",
       "      <th>EMILY W WAKEMAN</th>\n",
       "      <th>2013</th>\n",
       "      <td>7.60</td>\n",
       "    </tr>\n",
       "    <tr>\n",
       "      <th rowspan=\"2\" valign=\"top\">JOANNE L SHAW</th>\n",
       "      <th>2013</th>\n",
       "      <td>0.00</td>\n",
       "    </tr>\n",
       "    <tr>\n",
       "      <th>2014</th>\n",
       "      <td>54.36</td>\n",
       "    </tr>\n",
       "    <tr>\n",
       "      <th>LAVERNE  LOCKETT</th>\n",
       "      <th>2013</th>\n",
       "      <td>0.00</td>\n",
       "    </tr>\n",
       "    <tr>\n",
       "      <th>WATER SERVICE INSPECTOR</th>\n",
       "      <th>LORENZO ARCE</th>\n",
       "      <th>2011</th>\n",
       "      <td>1810.80</td>\n",
       "    </tr>\n",
       "    <tr>\n",
       "      <th rowspan=\"3\" valign=\"top\">WATERSHED WORKER (SEASONAL)</th>\n",
       "      <th>BRADLEY KILLGORE</th>\n",
       "      <th>2011</th>\n",
       "      <td>1380.00</td>\n",
       "    </tr>\n",
       "    <tr>\n",
       "      <th>MICHAEL HUMPHREY</th>\n",
       "      <th>2012</th>\n",
       "      <td>293.40</td>\n",
       "    </tr>\n",
       "    <tr>\n",
       "      <th>VICTOR RIVERS</th>\n",
       "      <th>2011</th>\n",
       "      <td>1380.00</td>\n",
       "    </tr>\n",
       "    <tr>\n",
       "      <th>WELDER</th>\n",
       "      <th>FRANK HODGES</th>\n",
       "      <th>2012</th>\n",
       "      <td>584.41</td>\n",
       "    </tr>\n",
       "    <tr>\n",
       "      <th>WELFARE FRAUD INVESTIGATOR</th>\n",
       "      <th>AMANDA GORMLEY</th>\n",
       "      <th>2011</th>\n",
       "      <td>308.70</td>\n",
       "    </tr>\n",
       "    <tr>\n",
       "      <th>WIRE ROPE CABLE MAINT MECHANIC</th>\n",
       "      <th>RAY  MANAMEA</th>\n",
       "      <th>2013</th>\n",
       "      <td>0.00</td>\n",
       "    </tr>\n",
       "    <tr>\n",
       "      <th>WORKER'S COMP SUPERVISOR 1</th>\n",
       "      <th>TIMOTHY P O'BRIEN</th>\n",
       "      <th>2014</th>\n",
       "      <td>56.64</td>\n",
       "    </tr>\n",
       "    <tr>\n",
       "      <th>WORKER'S COMPENSATION ADJUSTER</th>\n",
       "      <th>AURORA GARCIA</th>\n",
       "      <th>2014</th>\n",
       "      <td>1837.39</td>\n",
       "    </tr>\n",
       "    <tr>\n",
       "      <th>X-RAY LABORATORY AIDE</th>\n",
       "      <th>WILLIAM G HESTER</th>\n",
       "      <th>2013</th>\n",
       "      <td>1007.00</td>\n",
       "    </tr>\n",
       "  </tbody>\n",
       "</table>\n",
       "<p>10149 rows × 1 columns</p>\n",
       "</div>"
      ],
      "text/plain": [
       "                                                           TotalPay\n",
       "JobTitle                       EmployeeName          Year          \n",
       "ACCOUNT CLERK                  BILING  JIANG         2013   2509.12\n",
       "                               JOAB MUCHIRI          2014   3468.60\n",
       "                               KENNETH UCHIDA        2014    237.50\n",
       "                               LIEN LUM              2011   1630.00\n",
       "                               MARGARITA E MEN       2013   1871.50\n",
       "                               NENITA D CELIS        2013   3542.92\n",
       "                               PAUL M HUNT           2014    949.50\n",
       "                               PAULET  GAINES        2013      0.00\n",
       "                               PAULET GAINES         2014      0.00\n",
       "                               RACHEL LAU            2011   1630.00\n",
       "                               RICHARD WONG          2012   2848.50\n",
       "                               TRACY WALKER          2012   2023.00\n",
       "                               TSE SHIH LENG         2011    614.00\n",
       "                               ZENON A LOPEZ         2013   1723.00\n",
       "ACCOUNTANT                     CESAR PALARCA         2011   1148.40\n",
       "ACCOUNTANT II                  FELINO LOMBOY JR      2012   1667.40\n",
       "ACCOUNTANT III                 ADAM J VELEZ          2013   2946.98\n",
       "                               DEE P NGO             2014   3087.00\n",
       "                               EDITH HORNER          2012   3537.00\n",
       "                               EVAN J CHAN           2014    510.00\n",
       "                               VIVIAN LIOU           2012    198.07\n",
       "                               WILSON H LEE          2013   3491.48\n",
       "ACCOUNTANT INTERN              JUSTYNA WROBEL        2012   1639.34\n",
       "                               MANISHA MURJANI       2011   2981.53\n",
       "ADMIN HEARING EXAMINER         MURIEL L PARENTEAU    2014   3430.91\n",
       "ADMINISTRATIVE ANALYST         GIZELDA PABROS        2011   2388.24\n",
       "                               JENNIFER H YEH        2013   2855.60\n",
       "                               MANISHA  LAL          2013    778.80\n",
       "                               MARY F KENNY          2013   3780.43\n",
       "                               MATTHEW M BOYLE       2013   1298.00\n",
       "...                                                             ...\n",
       "VENDOR                         DIANA EDWARDS         2011   1233.19\n",
       "                               MEAGHAN MORRISON      2011   2495.11\n",
       "                               MICHAEL KELLY         2011   2239.24\n",
       "                               RUTH MARTIN           2011   3087.95\n",
       "VICTIM/WITNESS INVESTIGATOR 1  ALICIA N WILEY POWELL 2014    108.71\n",
       "                               ERIC E RUPP           2013   2472.00\n",
       "                               LESLIE L LONERGAN     2013   2472.00\n",
       "                               ROMMEL C CASTELO      2013   2135.00\n",
       "VOLUNTEER/OUTREACH COORD       ZOE BURTON            2012   2737.20\n",
       "WAREHOUSE WORKER               THOMAS KYRIMIS        2011   3369.71\n",
       "WASTEWATER CONTROL INSPECTOR   SONJA RADY            2012   1981.51\n",
       "                               VICTOR PON            2012      0.00\n",
       "                                                     2014   1059.28\n",
       "WATER OPERATIONS ANALYST       STEPHEN APPERSON      2012   3343.45\n",
       "WATER QUALITY TECH III         GAIL  BARROW          2013   3240.19\n",
       "WATER QUALITY TECHNICIAN III   SHEK GONG             2011   1060.00\n",
       "WATER QUALITYTECH I/II         EMILY W WAKEMAN       2013      7.60\n",
       "                               JOANNE L SHAW         2013      0.00\n",
       "                                                     2014     54.36\n",
       "                               LAVERNE  LOCKETT      2013      0.00\n",
       "WATER SERVICE INSPECTOR        LORENZO ARCE          2011   1810.80\n",
       "WATERSHED WORKER (SEASONAL)    BRADLEY KILLGORE      2011   1380.00\n",
       "                               MICHAEL HUMPHREY      2012    293.40\n",
       "                               VICTOR RIVERS         2011   1380.00\n",
       "WELDER                         FRANK HODGES          2012    584.41\n",
       "WELFARE FRAUD INVESTIGATOR     AMANDA GORMLEY        2011    308.70\n",
       "WIRE ROPE CABLE MAINT MECHANIC RAY  MANAMEA          2013      0.00\n",
       "WORKER'S COMP SUPERVISOR 1     TIMOTHY P O'BRIEN     2014     56.64\n",
       "WORKER'S COMPENSATION ADJUSTER AURORA GARCIA         2014   1837.39\n",
       "X-RAY LABORATORY AIDE          WILLIAM G HESTER      2013   1007.00\n",
       "\n",
       "[10149 rows x 1 columns]"
      ]
     },
     "execution_count": 53,
     "metadata": {},
     "output_type": "execute_result"
    }
   ],
   "source": [
    "pd.pivot_table(LowEarners, index=['JobTitle', 'EmployeeName', 'Year'], values=[\"TotalPay\"])"
   ]
  },
  {
   "cell_type": "code",
   "execution_count": 54,
   "metadata": {
    "collapsed": false,
    "deletable": true,
    "editable": true
   },
   "outputs": [],
   "source": [
    "# Create a new column called 'Department'\n",
    "sf['Department'] = ''"
   ]
  },
  {
   "cell_type": "markdown",
   "metadata": {
    "deletable": true,
    "editable": true
   },
   "source": [
    "When looking at the 'JobTitles' it is clear that employees can be grouped easily into certain departments such as below:"
   ]
  },
  {
   "cell_type": "code",
   "execution_count": 55,
   "metadata": {
    "collapsed": false,
    "deletable": true,
    "editable": true
   },
   "outputs": [],
   "source": [
    "sf.loc[sf.JobTitle.str.contains('POLICE'), 'Department'] = \"POLICE\"\n",
    "sf.loc[sf.JobTitle.str.contains(\"FIRE\"), 'Department'] = \"FIRE\"\n",
    "sf.loc[sf.JobTitle.str.contains(\"MEDICAL\"), 'Department'] = \"MEDICAL\"\n",
    "sf.loc[sf.JobTitle.str.contains(\"NURSE\"), 'Department'] = \"MEDICAL\"\n",
    "sf.loc[sf.JobTitle.str.contains(\"TRANSIT\"), 'Department'] = \"TRANSIT\""
   ]
  },
  {
   "cell_type": "code",
   "execution_count": 56,
   "metadata": {
    "collapsed": false,
    "deletable": true,
    "editable": true
   },
   "outputs": [
    {
     "data": {
      "text/html": [
       "<div>\n",
       "<table border=\"1\" class=\"dataframe\">\n",
       "  <thead>\n",
       "    <tr>\n",
       "      <th></th>\n",
       "      <th>sum</th>\n",
       "      <th>mean</th>\n",
       "      <th>len</th>\n",
       "    </tr>\n",
       "    <tr>\n",
       "      <th></th>\n",
       "      <th>TotalPay</th>\n",
       "      <th>TotalPay</th>\n",
       "      <th>TotalPay</th>\n",
       "    </tr>\n",
       "    <tr>\n",
       "      <th>Department</th>\n",
       "      <th></th>\n",
       "      <th></th>\n",
       "      <th></th>\n",
       "    </tr>\n",
       "  </thead>\n",
       "  <tbody>\n",
       "    <tr>\n",
       "      <th></th>\n",
       "      <td>$7,271.11 MM</td>\n",
       "      <td>$67,718.00</td>\n",
       "      <td>107373</td>\n",
       "    </tr>\n",
       "    <tr>\n",
       "      <th>FIRE</th>\n",
       "      <td>$891.76 MM</td>\n",
       "      <td>$151,686.00</td>\n",
       "      <td>5879</td>\n",
       "    </tr>\n",
       "    <tr>\n",
       "      <th>MEDICAL</th>\n",
       "      <td>$1,093.42 MM</td>\n",
       "      <td>$72,585.00</td>\n",
       "      <td>15064</td>\n",
       "    </tr>\n",
       "    <tr>\n",
       "      <th>POLICE</th>\n",
       "      <td>$992.40 MM</td>\n",
       "      <td>$121,009.00</td>\n",
       "      <td>8201</td>\n",
       "    </tr>\n",
       "    <tr>\n",
       "      <th>TRANSIT</th>\n",
       "      <td>$865.92 MM</td>\n",
       "      <td>$71,369.00</td>\n",
       "      <td>12133</td>\n",
       "    </tr>\n",
       "  </tbody>\n",
       "</table>\n",
       "</div>"
      ],
      "text/plain": [
       "                     sum         mean      len\n",
       "                TotalPay     TotalPay TotalPay\n",
       "Department                                    \n",
       "            $7,271.11 MM   $67,718.00   107373\n",
       "FIRE          $891.76 MM  $151,686.00     5879\n",
       "MEDICAL     $1,093.42 MM   $72,585.00    15064\n",
       "POLICE        $992.40 MM  $121,009.00     8201\n",
       "TRANSIT       $865.92 MM   $71,369.00    12133"
      ]
     },
     "execution_count": 56,
     "metadata": {},
     "output_type": "execute_result"
    }
   ],
   "source": [
    "# Applying $ (currency) for formatting and attractive presentation\n",
    "\n",
    "ByDepartment = pd.pivot_table(sf, index=['Department'], values=[\"TotalPay\"], aggfunc=[np.sum, np.mean, len], fill_value=0)\n",
    "ByDepartment.ix[:,0] = ['${:,.2f} MM'.format(x) for x in ByDepartment.ix[:,0]/1000000]\n",
    "ByDepartment.ix[:,1] = ['${:,.2f}'.format(x) for x in ByDepartment.ix[:,1]]\n",
    "ByDepartment"
   ]
  },
  {
   "cell_type": "markdown",
   "metadata": {
    "deletable": true,
    "editable": true
   },
   "source": [
    "In the above table we can see the total, mean and count of Total Paid per Department"
   ]
  },
  {
   "cell_type": "code",
   "execution_count": null,
   "metadata": {
    "collapsed": false,
    "deletable": true,
    "editable": true
   },
   "outputs": [],
   "source": []
  },
  {
   "cell_type": "code",
   "execution_count": 57,
   "metadata": {
    "collapsed": true,
    "deletable": true,
    "editable": true
   },
   "outputs": [],
   "source": [
    "# https://www.kaggle.com/dmitriy19/d/kaggle/sf-salaries/explore-sf-salary-data-quick-eda"
   ]
  },
  {
   "cell_type": "code",
   "execution_count": null,
   "metadata": {
    "collapsed": true,
    "deletable": true,
    "editable": true
   },
   "outputs": [],
   "source": []
  },
  {
   "cell_type": "code",
   "execution_count": 33,
   "metadata": {
    "collapsed": true,
    "deletable": true,
    "editable": true
   },
   "outputs": [],
   "source": [
    "# Are there any duplicate names in the dataset?"
   ]
  },
  {
   "cell_type": "code",
   "execution_count": null,
   "metadata": {
    "collapsed": true,
    "deletable": true,
    "editable": true
   },
   "outputs": [],
   "source": []
  },
  {
   "cell_type": "code",
   "execution_count": 34,
   "metadata": {
    "collapsed": true,
    "deletable": true,
    "editable": true
   },
   "outputs": [],
   "source": [
    "# Which employee has been employed three years?"
   ]
  },
  {
   "cell_type": "code",
   "execution_count": null,
   "metadata": {
    "collapsed": true,
    "deletable": true,
    "editable": true
   },
   "outputs": [],
   "source": []
  },
  {
   "cell_type": "code",
   "execution_count": 35,
   "metadata": {
    "collapsed": true,
    "deletable": true,
    "editable": true
   },
   "outputs": [],
   "source": [
    "# What is the correlation between titles and salaries?"
   ]
  },
  {
   "cell_type": "code",
   "execution_count": null,
   "metadata": {
    "collapsed": true,
    "deletable": true,
    "editable": true
   },
   "outputs": [],
   "source": []
  },
  {
   "cell_type": "markdown",
   "metadata": {
    "deletable": true,
    "editable": true
   },
   "source": [
    "## THIS IS WHERE I STOPPED"
   ]
  },
  {
   "cell_type": "code",
   "execution_count": null,
   "metadata": {
    "collapsed": true,
    "deletable": true,
    "editable": true
   },
   "outputs": [],
   "source": []
  },
  {
   "cell_type": "code",
   "execution_count": 37,
   "metadata": {
    "collapsed": true,
    "deletable": true,
    "editable": true
   },
   "outputs": [],
   "source": [
    "# How have salaries changed between the years?"
   ]
  },
  {
   "cell_type": "code",
   "execution_count": null,
   "metadata": {
    "collapsed": false,
    "deletable": true,
    "editable": true
   },
   "outputs": [],
   "source": []
  },
  {
   "cell_type": "code",
   "execution_count": 38,
   "metadata": {
    "collapsed": true,
    "deletable": true,
    "editable": true
   },
   "outputs": [],
   "source": [
    "# Can you make a bar plot or a histogram?"
   ]
  },
  {
   "cell_type": "code",
   "execution_count": null,
   "metadata": {
    "collapsed": true,
    "deletable": true,
    "editable": true
   },
   "outputs": [],
   "source": []
  },
  {
   "cell_type": "code",
   "execution_count": 39,
   "metadata": {
    "collapsed": true,
    "deletable": true,
    "editable": true
   },
   "outputs": [],
   "source": [
    "# Can you compare two related quantities?"
   ]
  },
  {
   "cell_type": "code",
   "execution_count": 59,
   "metadata": {
    "collapsed": false,
    "deletable": true,
    "editable": true
   },
   "outputs": [],
   "source": [
    "sf_dept = sf"
   ]
  },
  {
   "cell_type": "code",
   "execution_count": 62,
   "metadata": {
    "collapsed": false,
    "deletable": true,
    "editable": true
   },
   "outputs": [
    {
     "data": {
      "text/html": [
       "<div>\n",
       "<table border=\"1\" class=\"dataframe\">\n",
       "  <thead>\n",
       "    <tr style=\"text-align: right;\">\n",
       "      <th></th>\n",
       "      <th>Id</th>\n",
       "      <th>EmployeeName</th>\n",
       "      <th>JobTitle</th>\n",
       "      <th>BasePay</th>\n",
       "      <th>OvertimePay</th>\n",
       "      <th>OtherPay</th>\n",
       "      <th>Benefits</th>\n",
       "      <th>TotalPay</th>\n",
       "      <th>Year</th>\n",
       "      <th>Status</th>\n",
       "      <th>Department</th>\n",
       "    </tr>\n",
       "  </thead>\n",
       "  <tbody>\n",
       "  </tbody>\n",
       "</table>\n",
       "</div>"
      ],
      "text/plain": [
       "Empty DataFrame\n",
       "Columns: [Id, EmployeeName, JobTitle, BasePay, OvertimePay, OtherPay, Benefits, TotalPay, Year, Status, Department]\n",
       "Index: []"
      ]
     },
     "execution_count": 62,
     "metadata": {},
     "output_type": "execute_result"
    }
   ],
   "source": [
    "sf_dept = sf[sf.Department.isnull()]\n",
    "sf_dept"
   ]
  },
  {
   "cell_type": "code",
   "execution_count": 66,
   "metadata": {
    "collapsed": false,
    "deletable": true,
    "editable": true
   },
   "outputs": [
    {
     "data": {
      "text/html": [
       "<div>\n",
       "<table border=\"1\" class=\"dataframe\">\n",
       "  <thead>\n",
       "    <tr>\n",
       "      <th></th>\n",
       "      <th>sum</th>\n",
       "    </tr>\n",
       "    <tr>\n",
       "      <th></th>\n",
       "      <th>TotalPay</th>\n",
       "    </tr>\n",
       "    <tr>\n",
       "      <th>Department</th>\n",
       "      <th></th>\n",
       "    </tr>\n",
       "  </thead>\n",
       "  <tbody>\n",
       "    <tr>\n",
       "      <th></th>\n",
       "      <td>7.271112e+09</td>\n",
       "    </tr>\n",
       "    <tr>\n",
       "      <th>FIRE</th>\n",
       "      <td>8.917609e+08</td>\n",
       "    </tr>\n",
       "    <tr>\n",
       "      <th>MEDICAL</th>\n",
       "      <td>1.093419e+09</td>\n",
       "    </tr>\n",
       "    <tr>\n",
       "      <th>POLICE</th>\n",
       "      <td>9.923962e+08</td>\n",
       "    </tr>\n",
       "    <tr>\n",
       "      <th>TRANSIT</th>\n",
       "      <td>8.659222e+08</td>\n",
       "    </tr>\n",
       "  </tbody>\n",
       "</table>\n",
       "</div>"
      ],
      "text/plain": [
       "                     sum\n",
       "                TotalPay\n",
       "Department              \n",
       "            7.271112e+09\n",
       "FIRE        8.917609e+08\n",
       "MEDICAL     1.093419e+09\n",
       "POLICE      9.923962e+08\n",
       "TRANSIT     8.659222e+08"
      ]
     },
     "execution_count": 66,
     "metadata": {},
     "output_type": "execute_result"
    }
   ],
   "source": [
    "pd.pivot_table(sf, index=['Department'], values=['TotalPay'], aggfunc=[np.sum])"
   ]
  },
  {
   "cell_type": "code",
   "execution_count": 67,
   "metadata": {
    "collapsed": false
   },
   "outputs": [
    {
     "data": {
      "text/html": [
       "<div>\n",
       "<table border=\"1\" class=\"dataframe\">\n",
       "  <thead>\n",
       "    <tr>\n",
       "      <th></th>\n",
       "      <th>sum</th>\n",
       "    </tr>\n",
       "    <tr>\n",
       "      <th></th>\n",
       "      <th>TotalPay</th>\n",
       "    </tr>\n",
       "    <tr>\n",
       "      <th>JobTitle</th>\n",
       "      <th></th>\n",
       "    </tr>\n",
       "  </thead>\n",
       "  <tbody>\n",
       "    <tr>\n",
       "      <th>ACCOUNT CLERK</th>\n",
       "      <td>15096297.75</td>\n",
       "    </tr>\n",
       "    <tr>\n",
       "      <th>ACCOUNTANT</th>\n",
       "      <td>237146.34</td>\n",
       "    </tr>\n",
       "    <tr>\n",
       "      <th>ACCOUNTANT I</th>\n",
       "      <td>496288.81</td>\n",
       "    </tr>\n",
       "    <tr>\n",
       "      <th>ACCOUNTANT II</th>\n",
       "      <td>15222275.81</td>\n",
       "    </tr>\n",
       "    <tr>\n",
       "      <th>ACCOUNTANT III</th>\n",
       "      <td>21962297.89</td>\n",
       "    </tr>\n",
       "    <tr>\n",
       "      <th>ACCOUNTANT INTERN</th>\n",
       "      <td>4027522.41</td>\n",
       "    </tr>\n",
       "    <tr>\n",
       "      <th>ACCOUNTANT IV</th>\n",
       "      <td>15940242.29</td>\n",
       "    </tr>\n",
       "    <tr>\n",
       "      <th>ACPO,JUVP, JUV PROB (SFERS)</th>\n",
       "      <td>62290.78</td>\n",
       "    </tr>\n",
       "    <tr>\n",
       "      <th>ACUPUNCTURIST</th>\n",
       "      <td>295688.90</td>\n",
       "    </tr>\n",
       "    <tr>\n",
       "      <th>ADM, SFGH MEDICAL CENTER</th>\n",
       "      <td>810142.34</td>\n",
       "    </tr>\n",
       "    <tr>\n",
       "      <th>ADMIN ANALYST 3</th>\n",
       "      <td>420106.51</td>\n",
       "    </tr>\n",
       "    <tr>\n",
       "      <th>ADMIN HEARING EXAMINER</th>\n",
       "      <td>1604353.12</td>\n",
       "    </tr>\n",
       "    <tr>\n",
       "      <th>ADMINISTRATIVE ANALYST</th>\n",
       "      <td>31492941.87</td>\n",
       "    </tr>\n",
       "    <tr>\n",
       "      <th>ADMINISTRATIVE ANALYST I</th>\n",
       "      <td>61062.31</td>\n",
       "    </tr>\n",
       "    <tr>\n",
       "      <th>ADMINISTRATIVE ANALYST II</th>\n",
       "      <td>238578.56</td>\n",
       "    </tr>\n",
       "    <tr>\n",
       "      <th>ADMINISTRATIVE ANALYST III</th>\n",
       "      <td>185397.03</td>\n",
       "    </tr>\n",
       "    <tr>\n",
       "      <th>ADMINISTRATIVE ENGINEER</th>\n",
       "      <td>4883500.56</td>\n",
       "    </tr>\n",
       "    <tr>\n",
       "      <th>ADMINISTRATIVE HEARING SUP</th>\n",
       "      <td>96803.51</td>\n",
       "    </tr>\n",
       "    <tr>\n",
       "      <th>ADMINISTRATIVE SERVICES MANAGER</th>\n",
       "      <td>231046.74</td>\n",
       "    </tr>\n",
       "    <tr>\n",
       "      <th>ADMINISTRATIVE SERVICES MGR</th>\n",
       "      <td>1014145.46</td>\n",
       "    </tr>\n",
       "    <tr>\n",
       "      <th>ADMINISTRATOR, DPH</th>\n",
       "      <td>513500.92</td>\n",
       "    </tr>\n",
       "    <tr>\n",
       "      <th>ADMINISTRATOR, SFGH MEDICAL CENTER</th>\n",
       "      <td>257124.44</td>\n",
       "    </tr>\n",
       "    <tr>\n",
       "      <th>ADMISSION ATTENDANT</th>\n",
       "      <td>3665339.81</td>\n",
       "    </tr>\n",
       "    <tr>\n",
       "      <th>AFFIRMATIVE ACTION SPECIALIST</th>\n",
       "      <td>409283.90</td>\n",
       "    </tr>\n",
       "    <tr>\n",
       "      <th>AGRICULTURAL INSPECTOR</th>\n",
       "      <td>484675.38</td>\n",
       "    </tr>\n",
       "    <tr>\n",
       "      <th>AIRPORT ASSISTANT DEPUTY DIRECTOR, BUSINESS ADMINI</th>\n",
       "      <td>1927.50</td>\n",
       "    </tr>\n",
       "    <tr>\n",
       "      <th>AIRPORT ASSISTANT DEPUTY DIRECTOR, OPERATIONS</th>\n",
       "      <td>15420.00</td>\n",
       "    </tr>\n",
       "    <tr>\n",
       "      <th>AIRPORT COMMUNICATIONS DISP</th>\n",
       "      <td>6975962.90</td>\n",
       "    </tr>\n",
       "    <tr>\n",
       "      <th>AIRPORT COMMUNICATIONS OFFICER</th>\n",
       "      <td>167627.40</td>\n",
       "    </tr>\n",
       "    <tr>\n",
       "      <th>AIRPORT COMMUNICATIONS OPERATOR</th>\n",
       "      <td>2192799.86</td>\n",
       "    </tr>\n",
       "    <tr>\n",
       "      <th>...</th>\n",
       "      <td>...</td>\n",
       "    </tr>\n",
       "    <tr>\n",
       "      <th>WATER QUALITY TECH III</th>\n",
       "      <td>1705425.38</td>\n",
       "    </tr>\n",
       "    <tr>\n",
       "      <th>WATER QUALITY TECHNICIAN</th>\n",
       "      <td>2204316.83</td>\n",
       "    </tr>\n",
       "    <tr>\n",
       "      <th>WATER QUALITY TECHNICIAN I/II</th>\n",
       "      <td>1989035.95</td>\n",
       "    </tr>\n",
       "    <tr>\n",
       "      <th>WATER QUALITY TECHNICIAN III</th>\n",
       "      <td>503719.15</td>\n",
       "    </tr>\n",
       "    <tr>\n",
       "      <th>WATER QUALITYTECH I/II</th>\n",
       "      <td>4525201.54</td>\n",
       "    </tr>\n",
       "    <tr>\n",
       "      <th>WATER SERVICE INSPECTOR</th>\n",
       "      <td>9883990.11</td>\n",
       "    </tr>\n",
       "    <tr>\n",
       "      <th>WATERSHED FORESTER</th>\n",
       "      <td>600479.03</td>\n",
       "    </tr>\n",
       "    <tr>\n",
       "      <th>WATERSHED FORESTER MANAGER</th>\n",
       "      <td>185755.09</td>\n",
       "    </tr>\n",
       "    <tr>\n",
       "      <th>WATERSHED KEEPER</th>\n",
       "      <td>6537381.07</td>\n",
       "    </tr>\n",
       "    <tr>\n",
       "      <th>WATERSHED KEEPER SUPERVISOR</th>\n",
       "      <td>886295.72</td>\n",
       "    </tr>\n",
       "    <tr>\n",
       "      <th>WATERSHED WORKER (SEASONAL)</th>\n",
       "      <td>1088386.69</td>\n",
       "    </tr>\n",
       "    <tr>\n",
       "      <th>WELDER</th>\n",
       "      <td>4273283.83</td>\n",
       "    </tr>\n",
       "    <tr>\n",
       "      <th>WELFARE FRAUD INVESTIGATOR</th>\n",
       "      <td>1775501.79</td>\n",
       "    </tr>\n",
       "    <tr>\n",
       "      <th>WHARFINGER 1</th>\n",
       "      <td>159092.33</td>\n",
       "    </tr>\n",
       "    <tr>\n",
       "      <th>WHARFINGER 2</th>\n",
       "      <td>751056.02</td>\n",
       "    </tr>\n",
       "    <tr>\n",
       "      <th>WHARFINGER I</th>\n",
       "      <td>65259.48</td>\n",
       "    </tr>\n",
       "    <tr>\n",
       "      <th>WHARFINGER II</th>\n",
       "      <td>173513.56</td>\n",
       "    </tr>\n",
       "    <tr>\n",
       "      <th>WINDOW CLEANER</th>\n",
       "      <td>4395928.46</td>\n",
       "    </tr>\n",
       "    <tr>\n",
       "      <th>WINDOW CLEANER SUPERVISOR</th>\n",
       "      <td>300698.28</td>\n",
       "    </tr>\n",
       "    <tr>\n",
       "      <th>WIRE ROPE CABLE MAINT MECHANIC</th>\n",
       "      <td>3366345.78</td>\n",
       "    </tr>\n",
       "    <tr>\n",
       "      <th>WIRE ROPE CABLE MAINT SPRV</th>\n",
       "      <td>609101.16</td>\n",
       "    </tr>\n",
       "    <tr>\n",
       "      <th>WIRE ROPE CABLE MAINTENANCE MECHANIC</th>\n",
       "      <td>1160587.94</td>\n",
       "    </tr>\n",
       "    <tr>\n",
       "      <th>WIRE ROPE CABLE MAINTENANCE SUPERVISOR</th>\n",
       "      <td>199628.97</td>\n",
       "    </tr>\n",
       "    <tr>\n",
       "      <th>WORKER'S COMP SUPERVISOR 1</th>\n",
       "      <td>985450.16</td>\n",
       "    </tr>\n",
       "    <tr>\n",
       "      <th>WORKER'S COMPENSATION ADJUSTER</th>\n",
       "      <td>6973269.09</td>\n",
       "    </tr>\n",
       "    <tr>\n",
       "      <th>WORKER'S COMPENSATION SUPERVISOR I</th>\n",
       "      <td>455103.63</td>\n",
       "    </tr>\n",
       "    <tr>\n",
       "      <th>X-RAY LABORATORY AIDE</th>\n",
       "      <td>6452747.16</td>\n",
       "    </tr>\n",
       "    <tr>\n",
       "      <th>YOUTH COMM ADVISOR</th>\n",
       "      <td>165657.23</td>\n",
       "    </tr>\n",
       "    <tr>\n",
       "      <th>YOUTH COMMISSION ADVISOR, BOARD OF SUPERVISORS</th>\n",
       "      <td>53632.87</td>\n",
       "    </tr>\n",
       "    <tr>\n",
       "      <th>ZOO CURATOR</th>\n",
       "      <td>66686.56</td>\n",
       "    </tr>\n",
       "  </tbody>\n",
       "</table>\n",
       "<p>1636 rows × 1 columns</p>\n",
       "</div>"
      ],
      "text/plain": [
       "                                                            sum\n",
       "                                                       TotalPay\n",
       "JobTitle                                                       \n",
       "ACCOUNT CLERK                                       15096297.75\n",
       "ACCOUNTANT                                            237146.34\n",
       "ACCOUNTANT I                                          496288.81\n",
       "ACCOUNTANT II                                       15222275.81\n",
       "ACCOUNTANT III                                      21962297.89\n",
       "ACCOUNTANT INTERN                                    4027522.41\n",
       "ACCOUNTANT IV                                       15940242.29\n",
       "ACPO,JUVP, JUV PROB (SFERS)                            62290.78\n",
       "ACUPUNCTURIST                                         295688.90\n",
       "ADM, SFGH MEDICAL CENTER                              810142.34\n",
       "ADMIN ANALYST 3                                       420106.51\n",
       "ADMIN HEARING EXAMINER                               1604353.12\n",
       "ADMINISTRATIVE ANALYST                              31492941.87\n",
       "ADMINISTRATIVE ANALYST I                               61062.31\n",
       "ADMINISTRATIVE ANALYST II                             238578.56\n",
       "ADMINISTRATIVE ANALYST III                            185397.03\n",
       "ADMINISTRATIVE ENGINEER                              4883500.56\n",
       "ADMINISTRATIVE HEARING SUP                             96803.51\n",
       "ADMINISTRATIVE SERVICES MANAGER                       231046.74\n",
       "ADMINISTRATIVE SERVICES MGR                          1014145.46\n",
       "ADMINISTRATOR, DPH                                    513500.92\n",
       "ADMINISTRATOR, SFGH MEDICAL CENTER                    257124.44\n",
       "ADMISSION ATTENDANT                                  3665339.81\n",
       "AFFIRMATIVE ACTION SPECIALIST                         409283.90\n",
       "AGRICULTURAL INSPECTOR                                484675.38\n",
       "AIRPORT ASSISTANT DEPUTY DIRECTOR, BUSINESS ADMINI      1927.50\n",
       "AIRPORT ASSISTANT DEPUTY DIRECTOR, OPERATIONS          15420.00\n",
       "AIRPORT COMMUNICATIONS DISP                          6975962.90\n",
       "AIRPORT COMMUNICATIONS OFFICER                        167627.40\n",
       "AIRPORT COMMUNICATIONS OPERATOR                      2192799.86\n",
       "...                                                         ...\n",
       "WATER QUALITY TECH III                               1705425.38\n",
       "WATER QUALITY TECHNICIAN                             2204316.83\n",
       "WATER QUALITY TECHNICIAN I/II                        1989035.95\n",
       "WATER QUALITY TECHNICIAN III                          503719.15\n",
       "WATER QUALITYTECH I/II                               4525201.54\n",
       "WATER SERVICE INSPECTOR                              9883990.11\n",
       "WATERSHED FORESTER                                    600479.03\n",
       "WATERSHED FORESTER MANAGER                            185755.09\n",
       "WATERSHED KEEPER                                     6537381.07\n",
       "WATERSHED KEEPER SUPERVISOR                           886295.72\n",
       "WATERSHED WORKER (SEASONAL)                          1088386.69\n",
       "WELDER                                               4273283.83\n",
       "WELFARE FRAUD INVESTIGATOR                           1775501.79\n",
       "WHARFINGER 1                                          159092.33\n",
       "WHARFINGER 2                                          751056.02\n",
       "WHARFINGER I                                           65259.48\n",
       "WHARFINGER II                                         173513.56\n",
       "WINDOW CLEANER                                       4395928.46\n",
       "WINDOW CLEANER SUPERVISOR                             300698.28\n",
       "WIRE ROPE CABLE MAINT MECHANIC                       3366345.78\n",
       "WIRE ROPE CABLE MAINT SPRV                            609101.16\n",
       "WIRE ROPE CABLE MAINTENANCE MECHANIC                 1160587.94\n",
       "WIRE ROPE CABLE MAINTENANCE SUPERVISOR                199628.97\n",
       "WORKER'S COMP SUPERVISOR 1                            985450.16\n",
       "WORKER'S COMPENSATION ADJUSTER                       6973269.09\n",
       "WORKER'S COMPENSATION SUPERVISOR I                    455103.63\n",
       "X-RAY LABORATORY AIDE                                6452747.16\n",
       "YOUTH COMM ADVISOR                                    165657.23\n",
       "YOUTH COMMISSION ADVISOR, BOARD OF SUPERVISORS         53632.87\n",
       "ZOO CURATOR                                            66686.56\n",
       "\n",
       "[1636 rows x 1 columns]"
      ]
     },
     "execution_count": 67,
     "metadata": {},
     "output_type": "execute_result"
    }
   ],
   "source": [
    "pd.pivot_table(sf, index=['JobTitle'], values=[\"TotalPay\"], aggfunc=[np.sum])"
   ]
  },
  {
   "cell_type": "code",
   "execution_count": 43,
   "metadata": {
    "collapsed": true,
    "deletable": true,
    "editable": true
   },
   "outputs": [],
   "source": [
    "# Can you make a scatterplot?"
   ]
  },
  {
   "cell_type": "code",
   "execution_count": null,
   "metadata": {
    "collapsed": true,
    "deletable": true,
    "editable": true
   },
   "outputs": [],
   "source": []
  },
  {
   "cell_type": "code",
   "execution_count": 44,
   "metadata": {
    "collapsed": true,
    "deletable": true,
    "editable": true
   },
   "outputs": [],
   "source": [
    "# Can you make a time-series plot?"
   ]
  },
  {
   "cell_type": "code",
   "execution_count": null,
   "metadata": {
    "collapsed": true,
    "deletable": true,
    "editable": true
   },
   "outputs": [],
   "source": []
  },
  {
   "cell_type": "code",
   "execution_count": 45,
   "metadata": {
    "collapsed": true,
    "deletable": true,
    "editable": true
   },
   "outputs": [],
   "source": [
    "# How have salaries changed over time between different groups of people?"
   ]
  },
  {
   "cell_type": "code",
   "execution_count": null,
   "metadata": {
    "collapsed": true,
    "deletable": true,
    "editable": true
   },
   "outputs": [],
   "source": []
  },
  {
   "cell_type": "code",
   "execution_count": 46,
   "metadata": {
    "collapsed": true,
    "deletable": true,
    "editable": true
   },
   "outputs": [],
   "source": [
    "# How are base pay, overtime pay and benefits allocated between different groups?"
   ]
  },
  {
   "cell_type": "code",
   "execution_count": null,
   "metadata": {
    "collapsed": true,
    "deletable": true,
    "editable": true
   },
   "outputs": [],
   "source": []
  },
  {
   "cell_type": "code",
   "execution_count": 47,
   "metadata": {
    "collapsed": true,
    "deletable": true,
    "editable": true
   },
   "outputs": [],
   "source": [
    "# Can we split the dataset between males and females?"
   ]
  },
  {
   "cell_type": "code",
   "execution_count": null,
   "metadata": {
    "collapsed": true,
    "deletable": true,
    "editable": true
   },
   "outputs": [],
   "source": []
  },
  {
   "cell_type": "code",
   "execution_count": 48,
   "metadata": {
    "collapsed": true,
    "deletable": true,
    "editable": true
   },
   "outputs": [],
   "source": [
    "# Is there any evidene of pay discrimination based on gender in this dataset?"
   ]
  },
  {
   "cell_type": "code",
   "execution_count": null,
   "metadata": {
    "collapsed": true,
    "deletable": true,
    "editable": true
   },
   "outputs": [],
   "source": []
  },
  {
   "cell_type": "code",
   "execution_count": 49,
   "metadata": {
    "collapsed": true,
    "deletable": true,
    "editable": true
   },
   "outputs": [],
   "source": [
    "# How is budget allocated based on different groups and responsibilities?"
   ]
  },
  {
   "cell_type": "code",
   "execution_count": null,
   "metadata": {
    "collapsed": true,
    "deletable": true,
    "editable": true
   },
   "outputs": [],
   "source": []
  },
  {
   "cell_type": "code",
   "execution_count": 50,
   "metadata": {
    "collapsed": true,
    "deletable": true,
    "editable": true
   },
   "outputs": [],
   "source": [
    "# Any 80/20 principals I can identify?"
   ]
  },
  {
   "cell_type": "code",
   "execution_count": null,
   "metadata": {
    "collapsed": true,
    "deletable": true,
    "editable": true
   },
   "outputs": [],
   "source": []
  },
  {
   "cell_type": "code",
   "execution_count": 51,
   "metadata": {
    "collapsed": false,
    "deletable": true,
    "editable": true
   },
   "outputs": [],
   "source": [
    "# Integrate ideas from here:\n",
    "# https://public.tableau.com/profile/lawrence.chernin#!/vizhome/SanFranciscoSalaries/CountsbyTitle"
   ]
  },
  {
   "cell_type": "markdown",
   "metadata": {
    "collapsed": true,
    "deletable": true,
    "editable": true
   },
   "source": [
    "## Probably will not be used:"
   ]
  },
  {
   "cell_type": "code",
   "execution_count": 52,
   "metadata": {
    "collapsed": false,
    "deletable": true,
    "editable": true
   },
   "outputs": [
    {
     "data": {
      "image/png": "[encoded data removed]",
      "text/plain": [
       "<matplotlib.figure.Figure at 0x21984deb828>"
      ]
     },
     "metadata": {},
     "output_type": "display_data"
    }
   ],
   "source": [
    "# Probably should delete this\n",
    "TotalPay = sns.FacetGrid(sf, col=\"Year\", col_wrap=2, size=5, dropna=True)\n",
    "sns.set_style(\"whitegrid\")\n",
    "TotalPay.map(sns.kdeplot, 'TotalPay', shade=True, cut=0);"
   ]
  },
  {
   "cell_type": "code",
   "execution_count": null,
   "metadata": {
    "collapsed": true,
    "deletable": true,
    "editable": true
   },
   "outputs": [],
   "source": []
  },
  {
   "cell_type": "code",
   "execution_count": null,
   "metadata": {
    "collapsed": true,
    "deletable": true,
    "editable": true
   },
   "outputs": [],
   "source": []
  },
  {
   "cell_type": "code",
   "execution_count": null,
   "metadata": {
    "collapsed": true,
    "deletable": true,
    "editable": true
   },
   "outputs": [],
   "source": []
  },
  {
   "cell_type": "code",
   "execution_count": null,
   "metadata": {
    "collapsed": true,
    "deletable": true,
    "editable": true
   },
   "outputs": [],
   "source": []
  },
  {
   "cell_type": "code",
   "execution_count": null,
   "metadata": {
    "collapsed": true,
    "deletable": true,
    "editable": true
   },
   "outputs": [],
   "source": []
  },
  {
   "cell_type": "code",
   "execution_count": null,
   "metadata": {
    "collapsed": true,
    "deletable": true,
    "editable": true
   },
   "outputs": [],
   "source": []
  },
  {
   "cell_type": "code",
   "execution_count": null,
   "metadata": {
    "collapsed": true,
    "deletable": true,
    "editable": true
   },
   "outputs": [],
   "source": []
  },
  {
   "cell_type": "code",
   "execution_count": null,
   "metadata": {
    "collapsed": true,
    "deletable": true,
    "editable": true
   },
   "outputs": [],
   "source": []
  },
  {
   "cell_type": "code",
   "execution_count": null,
   "metadata": {
    "collapsed": true,
    "deletable": true,
    "editable": true
   },
   "outputs": [],
   "source": []
  },
  {
   "cell_type": "code",
   "execution_count": null,
   "metadata": {
    "collapsed": true,
    "deletable": true,
    "editable": true
   },
   "outputs": [],
   "source": []
  },
  {
   "cell_type": "code",
   "execution_count": null,
   "metadata": {
    "collapsed": true,
    "deletable": true,
    "editable": true
   },
   "outputs": [],
   "source": []
  },
  {
   "cell_type": "code",
   "execution_count": null,
   "metadata": {
    "collapsed": true,
    "deletable": true,
    "editable": true
   },
   "outputs": [],
   "source": []
  },
  {
   "cell_type": "code",
   "execution_count": null,
   "metadata": {
    "collapsed": true,
    "deletable": true,
    "editable": true
   },
   "outputs": [],
   "source": []
  },
  {
   "cell_type": "code",
   "execution_count": null,
   "metadata": {
    "collapsed": true,
    "deletable": true,
    "editable": true
   },
   "outputs": [],
   "source": []
  },
  {
   "cell_type": "code",
   "execution_count": null,
   "metadata": {
    "collapsed": true,
    "deletable": true,
    "editable": true
   },
   "outputs": [],
   "source": []
  },
  {
   "cell_type": "code",
   "execution_count": null,
   "metadata": {
    "collapsed": true,
    "deletable": true,
    "editable": true
   },
   "outputs": [],
   "source": []
  },
  {
   "cell_type": "code",
   "execution_count": null,
   "metadata": {
    "collapsed": true,
    "deletable": true,
    "editable": true
   },
   "outputs": [],
   "source": []
  },
  {
   "cell_type": "code",
   "execution_count": null,
   "metadata": {
    "collapsed": true,
    "deletable": true,
    "editable": true
   },
   "outputs": [],
   "source": []
  },
  {
   "cell_type": "code",
   "execution_count": null,
   "metadata": {
    "collapsed": true,
    "deletable": true,
    "editable": true
   },
   "outputs": [],
   "source": []
  },
  {
   "cell_type": "code",
   "execution_count": null,
   "metadata": {
    "collapsed": true,
    "deletable": true,
    "editable": true
   },
   "outputs": [],
   "source": []
  },
  {
   "cell_type": "code",
   "execution_count": null,
   "metadata": {
    "collapsed": true,
    "deletable": true,
    "editable": true
   },
   "outputs": [],
   "source": []
  },
  {
   "cell_type": "code",
   "execution_count": null,
   "metadata": {
    "collapsed": true,
    "deletable": true,
    "editable": true
   },
   "outputs": [],
   "source": []
  },
  {
   "cell_type": "code",
   "execution_count": null,
   "metadata": {
    "collapsed": true,
    "deletable": true,
    "editable": true
   },
   "outputs": [],
   "source": []
  },
  {
   "cell_type": "code",
   "execution_count": null,
   "metadata": {
    "collapsed": true,
    "deletable": true,
    "editable": true
   },
   "outputs": [],
   "source": []
  },
  {
   "cell_type": "code",
   "execution_count": null,
   "metadata": {
    "collapsed": true,
    "deletable": true,
    "editable": true
   },
   "outputs": [],
   "source": []
  },
  {
   "cell_type": "code",
   "execution_count": null,
   "metadata": {
    "collapsed": true,
    "deletable": true,
    "editable": true
   },
   "outputs": [],
   "source": []
  },
  {
   "cell_type": "code",
   "execution_count": null,
   "metadata": {
    "collapsed": true,
    "deletable": true,
    "editable": true
   },
   "outputs": [],
   "source": []
  }
 ],
 "metadata": {
  "kernelspec": {
   "display_name": "Python 3",
   "language": "python",
   "name": "python3"
  },
  "language_info": {
   "codemirror_mode": {
    "name": "ipython",
    "version": 3
   },
   "file_extension": ".py",
   "mimetype": "text/x-python",
   "name": "python",
   "nbconvert_exporter": "python",
   "pygments_lexer": "ipython3",
   "version": "3.6.0"
  }
 },
 "nbformat": 4,
 "nbformat_minor": 2
}
