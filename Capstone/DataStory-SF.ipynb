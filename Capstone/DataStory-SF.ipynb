{
 "cells": [
  {
   "cell_type": "code",
   "execution_count": 85,
   "metadata": {
    "collapsed": true
   },
   "outputs": [],
   "source": [
    "import pandas as pd\n",
    "import numpy as np"
   ]
  },
  {
   "cell_type": "code",
   "execution_count": 86,
   "metadata": {},
   "outputs": [],
   "source": [
    "import locale\n",
    "import gender_guesser.detector as gender\n",
    "\n",
    "# pd.set_option('precision',2)\n",
    "# locale.setlocale( locale.LC_ALL, 'English_United States.1252')\n",
    "# locale._override_localeconv = {'n_sign_posn':1}"
   ]
  },
  {
   "cell_type": "code",
   "execution_count": 87,
   "metadata": {
    "collapsed": true
   },
   "outputs": [],
   "source": [
    "# %matplotlib inline"
   ]
  },
  {
   "cell_type": "code",
   "execution_count": 88,
   "metadata": {},
   "outputs": [],
   "source": [
    "get_ipython().magic('matplotlib inline')\n",
    "import matplotlib.pylab as plt\n",
    "import seaborn as sns\n",
    "import bokeh as bkh\n",
    "from bokeh.layouts import row\n",
    "from bokeh.plotting import figure, show, output_file"
   ]
  },
  {
   "cell_type": "code",
   "execution_count": 89,
   "metadata": {
    "collapsed": true
   },
   "outputs": [],
   "source": [
    "# dataset from https://www.kaggle.com/kaggle/sf-salaries\n",
    "\n",
    "sf = pd.read_csv('data/sf-salaries/Salaries.csv', usecols=[0,1,2,3,4,5,6,7,9,11,12], dtype={3: object, 4: object, 5: object, 6: object, 12: object}, na_values=['Not Provided', 'Not provided', 'not provided'])"
   ]
  },
  {
   "cell_type": "markdown",
   "metadata": {},
<<<<<<< Updated upstream
   "source": [
    "Submission Requirements: \n",
    "    \n",
    "Submit links to a Github repository containing a Jupyter notebook. The notebook should contain:\n",
    "\n",
    "* The questions you asked\n",
    "* The trends you investigated\n",
    "* The resulting visualizations and conclusions."
   ]
  },
  {
   "cell_type": "markdown",
   "metadata": {
    "deletable": true,
    "editable": true
   },
=======
>>>>>>> Stashed changes
   "source": [
    "\n",
    "## Defination of the columns:\n",
    "\n",
    "### Numeric (needs conversion to numeric):\n",
    "##### 1. BasePay, OvertimePay, OtherPay, Benefits, TotalPay\n",
    "\n",
    "### Categorical:\n",
    "##### 1. Id, EmployeeName, JobTitle, Agency, Status\n"
   ]
  },
  {
   "cell_type": "markdown",
   "metadata": {},
   "source": [
    "## Starting Analysis"
   ]
  },
  {
   "cell_type": "markdown",
   "metadata": {},
   "source": [
    "* Agency - Represents a region in the larger datasets.\n",
    "* BasePay - The base rate of pay for a job or activity, excluding additional payments such as overtime or bonuses.\n",
    "* Benefits - Employees pension plan, free health insurance, and other benefits.\n",
    "* EmployeeName - Full Name (we can try to use this to analyze gender discrimination)\n",
    "* Id - Original order of employees from sf2014 dataset, field does not exist in sf 2015\n",
    "* JobTitle - Employee position held. (There seem to be differences in naming between datasets.)\n",
    "* Notes - Empty\n",
    "* OtherPay - Not sure but I would imagine Bonuses or other 'special' benefits. Could include personal flights on public aircrafts.\n",
    "* OvertimePay - Time paid at California's's 1.5x base pay for over time.\n",
    "* Status - Classification as FT (Full Time) or PT (Part Time) employee. Only tracked after 2013.\n",
    "* TotalPay - BasePay + OvertimePay + OtherPay\n",
    "* Year - Payroll year"
   ]
  },
  {
   "cell_type": "code",
   "execution_count": 90,
   "metadata": {},
   "outputs": [
    {
     "data": {
      "text/html": [
       "<div>\n",
       "<style>\n",
       "    .dataframe thead tr:only-child th {\n",
       "        text-align: right;\n",
       "    }\n",
       "\n",
       "    .dataframe thead th {\n",
       "        text-align: left;\n",
       "    }\n",
       "\n",
       "    .dataframe tbody tr th {\n",
       "        vertical-align: top;\n",
       "    }\n",
       "</style>\n",
       "<table border=\"1\" class=\"dataframe\">\n",
       "  <thead>\n",
       "    <tr style=\"text-align: right;\">\n",
       "      <th></th>\n",
       "      <th>Id</th>\n",
       "      <th>EmployeeName</th>\n",
       "      <th>JobTitle</th>\n",
       "      <th>BasePay</th>\n",
       "      <th>OvertimePay</th>\n",
       "      <th>OtherPay</th>\n",
       "      <th>Benefits</th>\n",
       "      <th>TotalPay</th>\n",
       "      <th>Year</th>\n",
       "      <th>Agency</th>\n",
       "      <th>Status</th>\n",
       "    </tr>\n",
       "  </thead>\n",
       "  <tbody>\n",
       "    <tr>\n",
       "      <th>0</th>\n",
       "      <td>1</td>\n",
       "      <td>NATHANIEL FORD</td>\n",
       "      <td>GENERAL MANAGER-METROPOLITAN TRANSIT AUTHORITY</td>\n",
       "      <td>167411.18</td>\n",
       "      <td>0.0</td>\n",
       "      <td>400184.25</td>\n",
       "      <td>NaN</td>\n",
       "      <td>567595.43</td>\n",
       "      <td>2011</td>\n",
       "      <td>San Francisco</td>\n",
       "      <td>NaN</td>\n",
       "    </tr>\n",
       "    <tr>\n",
       "      <th>1</th>\n",
       "      <td>2</td>\n",
       "      <td>GARY JIMENEZ</td>\n",
       "      <td>CAPTAIN III (POLICE DEPARTMENT)</td>\n",
       "      <td>155966.02</td>\n",
       "      <td>245131.88</td>\n",
       "      <td>137811.38</td>\n",
       "      <td>NaN</td>\n",
       "      <td>538909.28</td>\n",
       "      <td>2011</td>\n",
       "      <td>San Francisco</td>\n",
       "      <td>NaN</td>\n",
       "    </tr>\n",
       "    <tr>\n",
       "      <th>2</th>\n",
       "      <td>3</td>\n",
       "      <td>ALBERT PARDINI</td>\n",
       "      <td>CAPTAIN III (POLICE DEPARTMENT)</td>\n",
       "      <td>212739.13</td>\n",
       "      <td>106088.18</td>\n",
       "      <td>16452.6</td>\n",
       "      <td>NaN</td>\n",
       "      <td>335279.91</td>\n",
       "      <td>2011</td>\n",
       "      <td>San Francisco</td>\n",
       "      <td>NaN</td>\n",
       "    </tr>\n",
       "    <tr>\n",
       "      <th>3</th>\n",
       "      <td>4</td>\n",
       "      <td>CHRISTOPHER CHONG</td>\n",
       "      <td>WIRE ROPE CABLE MAINTENANCE MECHANIC</td>\n",
       "      <td>77916.0</td>\n",
       "      <td>56120.71</td>\n",
       "      <td>198306.9</td>\n",
       "      <td>NaN</td>\n",
       "      <td>332343.61</td>\n",
       "      <td>2011</td>\n",
       "      <td>San Francisco</td>\n",
       "      <td>NaN</td>\n",
       "    </tr>\n",
       "    <tr>\n",
       "      <th>4</th>\n",
       "      <td>5</td>\n",
       "      <td>PATRICK GARDNER</td>\n",
       "      <td>DEPUTY CHIEF OF DEPARTMENT,(FIRE DEPARTMENT)</td>\n",
       "      <td>134401.6</td>\n",
       "      <td>9737.0</td>\n",
       "      <td>182234.59</td>\n",
       "      <td>NaN</td>\n",
       "      <td>326373.19</td>\n",
       "      <td>2011</td>\n",
       "      <td>San Francisco</td>\n",
       "      <td>NaN</td>\n",
       "    </tr>\n",
       "  </tbody>\n",
       "</table>\n",
       "</div>"
      ],
      "text/plain": [
       "   Id       EmployeeName                                        JobTitle  \\\n",
       "0   1     NATHANIEL FORD  GENERAL MANAGER-METROPOLITAN TRANSIT AUTHORITY   \n",
       "1   2       GARY JIMENEZ                 CAPTAIN III (POLICE DEPARTMENT)   \n",
       "2   3     ALBERT PARDINI                 CAPTAIN III (POLICE DEPARTMENT)   \n",
       "3   4  CHRISTOPHER CHONG            WIRE ROPE CABLE MAINTENANCE MECHANIC   \n",
       "4   5    PATRICK GARDNER    DEPUTY CHIEF OF DEPARTMENT,(FIRE DEPARTMENT)   \n",
       "\n",
       "     BasePay OvertimePay   OtherPay Benefits   TotalPay  Year         Agency  \\\n",
       "0  167411.18         0.0  400184.25      NaN  567595.43  2011  San Francisco   \n",
       "1  155966.02   245131.88  137811.38      NaN  538909.28  2011  San Francisco   \n",
       "2  212739.13   106088.18    16452.6      NaN  335279.91  2011  San Francisco   \n",
       "3    77916.0    56120.71   198306.9      NaN  332343.61  2011  San Francisco   \n",
       "4   134401.6      9737.0  182234.59      NaN  326373.19  2011  San Francisco   \n",
       "\n",
       "  Status  \n",
       "0    NaN  \n",
       "1    NaN  \n",
       "2    NaN  \n",
       "3    NaN  \n",
       "4    NaN  "
      ]
     },
     "execution_count": 90,
     "metadata": {},
     "output_type": "execute_result"
    }
   ],
   "source": [
    "sf.head()"
   ]
  },
  {
   "cell_type": "markdown",
   "metadata": {},
   "source": [
    "# Questions\n",
    "\n",
    "* How many employees does San Francisco employ?\n",
    "* What are the job titles of these employees?\n",
    "* How much on average does SF pay?\n",
    "* San Francisco payroll, as well as California, in general have a much higher payroll than other cities of similar size, is there a reason why?"
   ]
  },
  {
   "cell_type": "code",
   "execution_count": 91,
   "metadata": {},
   "outputs": [
    {
     "data": {
      "text/plain": [
       "Id                   0\n",
       "EmployeeName         6\n",
       "JobTitle             4\n",
       "BasePay            609\n",
       "OvertimePay          4\n",
       "OtherPay             4\n",
       "Benefits         36163\n",
       "TotalPay             0\n",
       "Year                 0\n",
       "Agency               0\n",
       "Status          110535\n",
       "dtype: int64"
      ]
     },
     "execution_count": 91,
     "metadata": {},
     "output_type": "execute_result"
    }
   ],
   "source": [
    "sf.isnull().sum()"
   ]
  },
  {
   "cell_type": "code",
   "execution_count": 92,
   "metadata": {},
   "outputs": [
    {
     "data": {
      "text/plain": [
       "array(['San Francisco'], dtype=object)"
      ]
     },
     "execution_count": 92,
     "metadata": {},
     "output_type": "execute_result"
    }
   ],
   "source": [
    "sf.Agency.unique()"
   ]
  },
  {
   "cell_type": "markdown",
   "metadata": {},
   "source": [
    "Since the Agency field only contains one unique value, I will remove the field. Notices field is null."
   ]
  },
  {
   "cell_type": "code",
   "execution_count": 93,
   "metadata": {
    "collapsed": true
   },
   "outputs": [],
   "source": [
    "# del sf['Notes']\n",
    "\n",
    "# Here is another way of dropping a field.\n",
    "\n",
    "sf.drop(['Agency'], axis=1, inplace=True)"
   ]
  },
  {
   "cell_type": "markdown",
   "metadata": {},
   "source": [
    "Here I am going to do basic data standardization and cleaning so that it is easier to work with this dataset."
   ]
  },
  {
   "cell_type": "code",
   "execution_count": 94,
   "metadata": {
    "collapsed": true
   },
   "outputs": [],
   "source": [
    "# I am also going to delete any observation where JobTitle is 'Not provided' so that the field can be indexed\n",
    "sf = sf[sf.JobTitle.notnull()]\n",
    "\n",
    "# Filling in 'Benefits' if NaN, fill with 0\n",
    "sf['Benefits'].fillna(0, inplace=True)\n",
    "\n",
    "# Replace NaN status with \"Unknown\", since we don't know if its FT or PT work, easier categorization later.\n",
    "# sf['Status'].fillna(\"Unknown\", inplace=True)\n",
    "\n",
    "# Convert all JobTitle to upper-case character so there is no differentiation in data.\n",
    "sf['JobTitle'] = sf.JobTitle.str.upper()\n",
    "\n",
    "# Convert all EmployeeName to upper-case character so there is no differentiation in data. \n",
    "# Note: I noticed in pivots duplicate entries if the letter is not standardized.\n",
    "sf['EmployeeName'] = sf.EmployeeName.str.upper()"
   ]
  },
  {
   "cell_type": "code",
   "execution_count": 95,
   "metadata": {},
   "outputs": [
    {
     "data": {
      "text/plain": [
       "Id                   0\n",
       "EmployeeName         2\n",
       "JobTitle             0\n",
       "BasePay            605\n",
       "OvertimePay          0\n",
       "OtherPay             0\n",
       "Benefits             0\n",
       "TotalPay             0\n",
       "Year                 0\n",
       "Status          110531\n",
       "dtype: int64"
      ]
     },
     "execution_count": 95,
     "metadata": {},
     "output_type": "execute_result"
    }
   ],
   "source": [
    "# Much cleaner now\n",
    "sf.isnull().sum()"
   ]
  },
  {
   "cell_type": "markdown",
   "metadata": {},
   "source": [
    "NOTE: From reading on the website (where I pulled the dataset) I already saw that there records with zero BasePay, but instead amounts appear in OtherPay and TotalPay, thus 605 null BasePay records does not suprise me."
   ]
  },
  {
   "cell_type": "code",
   "execution_count": null,
   "metadata": {
    "collapsed": true
   },
   "outputs": [],
   "source": []
  },
  {
   "cell_type": "code",
   "execution_count": 96,
   "metadata": {},
   "outputs": [
    {
     "data": {
      "text/plain": [
       "Id                int64\n",
       "EmployeeName     object\n",
       "JobTitle         object\n",
       "BasePay          object\n",
       "OvertimePay      object\n",
       "OtherPay         object\n",
       "Benefits         object\n",
       "TotalPay        float64\n",
       "Year              int64\n",
       "Status           object\n",
       "dtype: object"
      ]
     },
     "execution_count": 96,
     "metadata": {},
     "output_type": "execute_result"
    }
   ],
   "source": [
    "sf.dtypes"
   ]
  },
  {
   "cell_type": "markdown",
   "metadata": {
    "deletable": true,
    "editable": true
   },
   "source": [
    "Now we need to convert BasePay, OvertimePay, OtherPay, Benefits to a numeric field."
   ]
  },
  {
   "cell_type": "code",
   "execution_count": 97,
   "metadata": {
    "collapsed": true
   },
   "outputs": [],
   "source": [
    "sf.BasePay = sf.BasePay.str.lstrip('$')\n",
    "sf.OtherPay = sf.OtherPay.str.lstrip('$')\n",
    "sf.OvertimePay = sf.OvertimePay.str.lstrip('$')\n",
    "# sf.TotalPay = sf.TotalPay.str.lstrip('$')\n",
    "sf.Benefits = sf.Benefits.str.lstrip('$')"
   ]
  },
  {
   "cell_type": "code",
   "execution_count": 98,
   "metadata": {
    "collapsed": true
   },
   "outputs": [],
   "source": [
    "sf.BasePay = sf.BasePay.str.replace(',','')\n",
    "sf.OtherPay = sf.OtherPay.str.replace(',','')\n",
    "sf.OvertimePay = sf.OvertimePay.str.replace(',','')\n",
    "# sf.TotalPay = sf.TotalPay.str.replace(',','')\n",
    "sf.Benefits = sf.Benefits.str.replace(',','')"
   ]
  },
  {
   "cell_type": "code",
   "execution_count": 99,
   "metadata": {
    "collapsed": true
   },
   "outputs": [],
   "source": [
    "sf.BasePay = pd.to_numeric(sf.BasePay)\n",
    "sf.OvertimePay = pd.to_numeric(sf['OvertimePay'])\n",
    "sf.OtherPay = pd.to_numeric(sf['OtherPay'])\n",
    "sf.Benefits = pd.to_numeric(sf['Benefits'])\n",
    "sf.TotalPay = pd.to_numeric(sf['TotalPay'])"
   ]
  },
  {
   "cell_type": "code",
   "execution_count": 100,
   "metadata": {},
   "outputs": [
    {
     "data": {
      "text/plain": [
       "Id                int64\n",
       "EmployeeName     object\n",
       "JobTitle         object\n",
       "BasePay         float64\n",
       "OvertimePay     float64\n",
       "OtherPay        float64\n",
       "Benefits        float64\n",
       "TotalPay        float64\n",
       "Year              int64\n",
       "Status           object\n",
       "dtype: object"
      ]
     },
     "execution_count": 100,
     "metadata": {},
     "output_type": "execute_result"
    }
   ],
   "source": [
    "sf.dtypes"
   ]
  },
  {
   "cell_type": "markdown",
   "metadata": {
    "deletable": true,
    "editable": true
   },
   "source": [
    "Above we can see that the we properly converted the fields to numeric. Now we can do calculations on numeric fields."
   ]
  },
  {
   "cell_type": "code",
   "execution_count": 101,
   "metadata": {},
   "outputs": [
    {
     "data": {
      "text/html": [
       "<div>\n",
       "<style>\n",
       "    .dataframe thead tr:only-child th {\n",
       "        text-align: right;\n",
       "    }\n",
       "\n",
       "    .dataframe thead th {\n",
       "        text-align: left;\n",
       "    }\n",
       "\n",
       "    .dataframe tbody tr th {\n",
       "        vertical-align: top;\n",
       "    }\n",
       "</style>\n",
       "<table border=\"1\" class=\"dataframe\">\n",
       "  <thead>\n",
       "    <tr style=\"text-align: right;\">\n",
       "      <th></th>\n",
       "      <th>Id</th>\n",
       "      <th>BasePay</th>\n",
       "      <th>OvertimePay</th>\n",
       "      <th>OtherPay</th>\n",
       "      <th>Benefits</th>\n",
       "      <th>TotalPay</th>\n",
       "      <th>Year</th>\n",
       "    </tr>\n",
       "  </thead>\n",
       "  <tbody>\n",
       "    <tr>\n",
       "      <th>count</th>\n",
       "      <td>148650.000000</td>\n",
       "      <td>148045.000000</td>\n",
       "      <td>148650.000000</td>\n",
       "      <td>148650.000000</td>\n",
       "      <td>112491.000000</td>\n",
       "      <td>148650.000000</td>\n",
       "      <td>148650.000000</td>\n",
       "    </tr>\n",
       "    <tr>\n",
       "      <th>mean</th>\n",
       "      <td>74325.500047</td>\n",
       "      <td>66325.448841</td>\n",
       "      <td>5066.059886</td>\n",
       "      <td>3648.767297</td>\n",
       "      <td>25007.893151</td>\n",
       "      <td>74770.333901</td>\n",
       "      <td>2012.522603</td>\n",
       "    </tr>\n",
       "    <tr>\n",
       "      <th>std</th>\n",
       "      <td>42911.703176</td>\n",
       "      <td>42764.635495</td>\n",
       "      <td>11454.380559</td>\n",
       "      <td>8056.601866</td>\n",
       "      <td>15402.215858</td>\n",
       "      <td>50516.196009</td>\n",
       "      <td>1.117526</td>\n",
       "    </tr>\n",
       "    <tr>\n",
       "      <th>min</th>\n",
       "      <td>1.000000</td>\n",
       "      <td>-166.010000</td>\n",
       "      <td>-0.010000</td>\n",
       "      <td>-7058.590000</td>\n",
       "      <td>-33.890000</td>\n",
       "      <td>-618.130000</td>\n",
       "      <td>2011.000000</td>\n",
       "    </tr>\n",
       "    <tr>\n",
       "      <th>25%</th>\n",
       "      <td>37163.250000</td>\n",
       "      <td>33588.200000</td>\n",
       "      <td>0.000000</td>\n",
       "      <td>0.000000</td>\n",
       "      <td>11535.395000</td>\n",
       "      <td>36169.955000</td>\n",
       "      <td>2012.000000</td>\n",
       "    </tr>\n",
       "    <tr>\n",
       "      <th>50%</th>\n",
       "      <td>74325.500000</td>\n",
       "      <td>65007.450000</td>\n",
       "      <td>0.000000</td>\n",
       "      <td>811.270000</td>\n",
       "      <td>28628.620000</td>\n",
       "      <td>71427.240000</td>\n",
       "      <td>2013.000000</td>\n",
       "    </tr>\n",
       "    <tr>\n",
       "      <th>75%</th>\n",
       "      <td>111487.750000</td>\n",
       "      <td>94691.050000</td>\n",
       "      <td>4658.175000</td>\n",
       "      <td>4236.065000</td>\n",
       "      <td>35566.855000</td>\n",
       "      <td>105842.960000</td>\n",
       "      <td>2014.000000</td>\n",
       "    </tr>\n",
       "    <tr>\n",
       "      <th>max</th>\n",
       "      <td>148654.000000</td>\n",
       "      <td>319275.010000</td>\n",
       "      <td>245131.880000</td>\n",
       "      <td>400184.250000</td>\n",
       "      <td>96570.660000</td>\n",
       "      <td>567595.430000</td>\n",
       "      <td>2014.000000</td>\n",
       "    </tr>\n",
       "  </tbody>\n",
       "</table>\n",
       "</div>"
      ],
      "text/plain": [
       "                  Id        BasePay    OvertimePay       OtherPay  \\\n",
       "count  148650.000000  148045.000000  148650.000000  148650.000000   \n",
       "mean    74325.500047   66325.448841    5066.059886    3648.767297   \n",
       "std     42911.703176   42764.635495   11454.380559    8056.601866   \n",
       "min         1.000000    -166.010000      -0.010000   -7058.590000   \n",
       "25%     37163.250000   33588.200000       0.000000       0.000000   \n",
       "50%     74325.500000   65007.450000       0.000000     811.270000   \n",
       "75%    111487.750000   94691.050000    4658.175000    4236.065000   \n",
       "max    148654.000000  319275.010000  245131.880000  400184.250000   \n",
       "\n",
       "            Benefits       TotalPay           Year  \n",
       "count  112491.000000  148650.000000  148650.000000  \n",
       "mean    25007.893151   74770.333901    2012.522603  \n",
       "std     15402.215858   50516.196009       1.117526  \n",
       "min       -33.890000    -618.130000    2011.000000  \n",
       "25%     11535.395000   36169.955000    2012.000000  \n",
       "50%     28628.620000   71427.240000    2013.000000  \n",
       "75%     35566.855000  105842.960000    2014.000000  \n",
       "max     96570.660000  567595.430000    2014.000000  "
      ]
     },
     "execution_count": 101,
     "metadata": {},
     "output_type": "execute_result"
    }
   ],
   "source": [
    "sf.describe()"
   ]
  },
  {
   "cell_type": "markdown",
   "metadata": {},
   "source": [
    "We see that there is some cleaning to do:\n",
    "1. Remove negative salaries\n",
    "2. There is some data with null values based on count values"
   ]
  },
  {
   "cell_type": "code",
   "execution_count": 102,
   "metadata": {
<<<<<<< Updated upstream
    "collapsed": false,
    "deletable": true,
    "editable": true
=======
    "collapsed": true
>>>>>>> Stashed changes
   },
   "outputs": [],
   "source": [
    "sf = sf[sf.BasePay > 0]\n",
    "sf = sf[sf.OvertimePay > 0]\n",
    "sf = sf[sf.OtherPay > 0]\n",
    "sf = sf[sf.TotalPay > 0]"
   ]
  },
  {
   "cell_type": "code",
<<<<<<< Updated upstream
   "execution_count": 27,
   "metadata": {
    "collapsed": false,
    "deletable": true,
    "editable": true
   },
=======
   "execution_count": 103,
   "metadata": {},
>>>>>>> Stashed changes
   "outputs": [
    {
     "data": {
      "text/html": [
       "<div>\n",
       "<style>\n",
       "    .dataframe thead tr:only-child th {\n",
       "        text-align: right;\n",
       "    }\n",
       "\n",
       "    .dataframe thead th {\n",
       "        text-align: left;\n",
       "    }\n",
       "\n",
       "    .dataframe tbody tr th {\n",
       "        vertical-align: top;\n",
       "    }\n",
       "</style>\n",
       "<table border=\"1\" class=\"dataframe\">\n",
       "  <thead>\n",
       "    <tr style=\"text-align: right;\">\n",
       "      <th></th>\n",
       "      <th>Id</th>\n",
       "      <th>BasePay</th>\n",
       "      <th>OvertimePay</th>\n",
       "      <th>OtherPay</th>\n",
       "      <th>Benefits</th>\n",
       "      <th>TotalPay</th>\n",
       "      <th>Year</th>\n",
       "    </tr>\n",
       "  </thead>\n",
       "  <tbody>\n",
       "    <tr>\n",
       "      <th>count</th>\n",
       "      <td>64311.000000</td>\n",
       "      <td>64311.000000</td>\n",
       "      <td>64311.000000</td>\n",
       "      <td>64311.000000</td>\n",
       "      <td>48581.000000</td>\n",
       "      <td>64311.000000</td>\n",
       "      <td>64311.000000</td>\n",
       "    </tr>\n",
       "    <tr>\n",
       "      <th>mean</th>\n",
       "      <td>69921.234625</td>\n",
       "      <td>77011.308739</td>\n",
       "      <td>11376.903410</td>\n",
       "      <td>6446.812667</td>\n",
       "      <td>30224.939495</td>\n",
       "      <td>94835.024816</td>\n",
       "      <td>2012.520098</td>\n",
       "    </tr>\n",
       "    <tr>\n",
       "      <th>std</th>\n",
       "      <td>42529.354846</td>\n",
       "      <td>33783.047127</td>\n",
       "      <td>15095.864216</td>\n",
       "      <td>9325.977115</td>\n",
       "      <td>10671.875772</td>\n",
       "      <td>46127.006918</td>\n",
       "      <td>1.120009</td>\n",
       "    </tr>\n",
       "    <tr>\n",
       "      <th>min</th>\n",
       "      <td>2.000000</td>\n",
       "      <td>31.360000</td>\n",
       "      <td>0.020000</td>\n",
       "      <td>0.590000</td>\n",
       "      <td>0.000000</td>\n",
       "      <td>192.430000</td>\n",
       "      <td>2011.000000</td>\n",
       "    </tr>\n",
       "    <tr>\n",
       "      <th>25%</th>\n",
       "      <td>36791.000000</td>\n",
       "      <td>55026.010000</td>\n",
       "      <td>2002.895000</td>\n",
       "      <td>1170.135000</td>\n",
       "      <td>26272.140000</td>\n",
       "      <td>62242.995000</td>\n",
       "      <td>2012.000000</td>\n",
       "    </tr>\n",
       "    <tr>\n",
       "      <th>50%</th>\n",
       "      <td>73703.000000</td>\n",
       "      <td>70547.000000</td>\n",
       "      <td>5798.180000</td>\n",
       "      <td>3739.980000</td>\n",
       "      <td>32154.360000</td>\n",
       "      <td>87419.480000</td>\n",
       "      <td>2013.000000</td>\n",
       "    </tr>\n",
       "    <tr>\n",
       "      <th>75%</th>\n",
       "      <td>111568.500000</td>\n",
       "      <td>104050.425000</td>\n",
       "      <td>14660.640000</td>\n",
       "      <td>8636.530000</td>\n",
       "      <td>37040.200000</td>\n",
       "      <td>125704.520000</td>\n",
       "      <td>2014.000000</td>\n",
       "    </tr>\n",
       "    <tr>\n",
       "      <th>max</th>\n",
       "      <td>147690.000000</td>\n",
       "      <td>318835.490000</td>\n",
       "      <td>245131.880000</td>\n",
       "      <td>203735.920000</td>\n",
       "      <td>89540.230000</td>\n",
       "      <td>538909.280000</td>\n",
       "      <td>2014.000000</td>\n",
       "    </tr>\n",
       "  </tbody>\n",
       "</table>\n",
       "</div>"
      ],
      "text/plain": [
       "                  Id        BasePay    OvertimePay       OtherPay  \\\n",
       "count   64311.000000   64311.000000   64311.000000   64311.000000   \n",
       "mean    69921.234625   77011.308739   11376.903410    6446.812667   \n",
       "std     42529.354846   33783.047127   15095.864216    9325.977115   \n",
       "min         2.000000      31.360000       0.020000       0.590000   \n",
       "25%     36791.000000   55026.010000    2002.895000    1170.135000   \n",
       "50%     73703.000000   70547.000000    5798.180000    3739.980000   \n",
       "75%    111568.500000  104050.425000   14660.640000    8636.530000   \n",
       "max    147690.000000  318835.490000  245131.880000  203735.920000   \n",
       "\n",
       "           Benefits       TotalPay          Year  \n",
       "count  48581.000000   64311.000000  64311.000000  \n",
       "mean   30224.939495   94835.024816   2012.520098  \n",
       "std    10671.875772   46127.006918      1.120009  \n",
       "min        0.000000     192.430000   2011.000000  \n",
       "25%    26272.140000   62242.995000   2012.000000  \n",
       "50%    32154.360000   87419.480000   2013.000000  \n",
       "75%    37040.200000  125704.520000   2014.000000  \n",
       "max    89540.230000  538909.280000   2014.000000  "
      ]
     },
     "execution_count": 103,
     "metadata": {},
     "output_type": "execute_result"
    }
   ],
   "source": [
    "sf.describe()"
   ]
  },
  {
   "cell_type": "code",
   "execution_count": 104,
   "metadata": {},
   "outputs": [
    {
     "name": "stdout",
     "output_type": "stream",
     "text": [
      "Min: 2011\n",
      "Max: 2014\n"
     ]
    }
   ],
   "source": [
    "# Min and max in the dataset\n",
    "print('Min:', sf.Year.min())\n",
    "print('Max:', sf.Year.max())"
   ]
  },
  {
   "cell_type": "markdown",
   "metadata": {},
   "source": [
    "It looks like we only have Status for year 2014"
   ]
  },
  {
   "cell_type": "code",
   "execution_count": 105,
   "metadata": {},
   "outputs": [
    {
     "data": {
      "text/plain": [
       "Year  Status\n",
       "2014  FT        12166\n",
       "      PT         4414\n",
       "dtype: int64"
      ]
     },
     "execution_count": 105,
     "metadata": {},
     "output_type": "execute_result"
    }
   ],
   "source": [
    "sf.groupby(['Year', 'Status']).size()"
   ]
  },
  {
   "cell_type": "markdown",
   "metadata": {},
   "source": [
    "It looks like we only have the Status column for year 2014"
   ]
  },
  {
   "cell_type": "code",
   "execution_count": 106,
   "metadata": {},
   "outputs": [
    {
     "name": "stdout",
     "output_type": "stream",
     "text": [
      "2011 15730\n",
      "2012 15983\n",
      "2013 16018\n",
      "2014 16580\n"
     ]
    }
   ],
   "source": [
    "# Count records per year with a loop\n",
    "for y in range(min(sf.Year), max(sf.Year)+1):\n",
    "    print(y, (sf.Year == y).sum())"
   ]
  },
  {
   "cell_type": "code",
   "execution_count": 107,
   "metadata": {},
   "outputs": [
    {
     "data": {
      "text/html": [
       "<div>\n",
       "<style>\n",
       "    .dataframe thead tr:only-child th {\n",
       "        text-align: right;\n",
       "    }\n",
       "\n",
       "    .dataframe thead th {\n",
       "        text-align: left;\n",
       "    }\n",
       "\n",
       "    .dataframe tbody tr th {\n",
       "        vertical-align: top;\n",
       "    }\n",
       "</style>\n",
       "<table border=\"1\" class=\"dataframe\">\n",
       "  <thead>\n",
       "    <tr style=\"text-align: right;\">\n",
       "      <th></th>\n",
       "      <th>TotalPay</th>\n",
       "    </tr>\n",
       "    <tr>\n",
       "      <th>Year</th>\n",
       "      <th></th>\n",
       "    </tr>\n",
       "  </thead>\n",
       "  <tbody>\n",
       "    <tr>\n",
       "      <th>2011</th>\n",
       "      <td>90232.496779</td>\n",
       "    </tr>\n",
       "    <tr>\n",
       "      <th>2012</th>\n",
       "      <td>93837.444956</td>\n",
       "    </tr>\n",
       "    <tr>\n",
       "      <th>2013</th>\n",
       "      <td>99555.432217</td>\n",
       "    </tr>\n",
       "    <tr>\n",
       "      <th>2014</th>\n",
       "      <td>95602.853478</td>\n",
       "    </tr>\n",
       "  </tbody>\n",
       "</table>\n",
       "</div>"
      ],
      "text/plain": [
       "          TotalPay\n",
       "Year              \n",
       "2011  90232.496779\n",
       "2012  93837.444956\n",
       "2013  99555.432217\n",
       "2014  95602.853478"
      ]
     },
     "execution_count": 107,
     "metadata": {},
     "output_type": "execute_result"
    }
   ],
   "source": [
    "# Average Paid by year\n",
    "sf[['Year', 'TotalPay']].groupby('Year').mean()"
   ]
  },
  {
   "cell_type": "code",
   "execution_count": 108,
   "metadata": {},
   "outputs": [
    {
     "name": "stdout",
     "output_type": "stream",
     "text": [
      "          TotalPay\n",
      "Year              \n",
      "2011  1.419357e+09\n",
      "2012  1.499804e+09\n",
      "2013  1.594679e+09\n",
      "2014  1.585095e+09\n",
      "(This is in billions)\n"
     ]
    }
   ],
   "source": [
    "print(sf[['Year', 'TotalPay']].groupby('Year').sum())\n",
    "print('(This is in billions)')"
   ]
  },
  {
   "cell_type": "code",
   "execution_count": 109,
   "metadata": {},
   "outputs": [
    {
     "name": "stdout",
     "output_type": "stream",
     "text": [
      "Total Paid in four years:\n"
     ]
    },
    {
     "data": {
      "text/plain": [
       "6098935280.970019"
      ]
     },
     "execution_count": 109,
     "metadata": {},
     "output_type": "execute_result"
    }
   ],
   "source": [
    "#Total paid to San Francisco city employees in years 2011 - 2014\n",
    "\n",
    "print('Total Paid in four years:')\n",
    "\n",
    "sf['TotalPay'].sum()"
   ]
  },
  {
   "cell_type": "code",
   "execution_count": 110,
   "metadata": {},
   "outputs": [
    {
     "data": {
      "text/plain": [
       "<matplotlib.axes._subplots.AxesSubplot at 0x11f964240>"
      ]
     },
     "execution_count": 110,
     "metadata": {},
     "output_type": "execute_result"
    },
    {
     "data": {
      "image/png": "iVBORw0KGgoAAAANSUhEUgAAAYEAAAGACAYAAABLBd6BAAAABHNCSVQICAgIfAhkiAAAAAlwSFlz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\n",
      "text/plain": [
       "<matplotlib.figure.Figure at 0x127dfad30>"
      ]
     },
     "metadata": {},
     "output_type": "display_data"
    }
   ],
   "source": [
    "JobTitleCount = sf['JobTitle'].value_counts().head(10)\n",
    "JobTitleCount.plot(title = \"Top 10 Jobs by # of People Employed\", kind = 'bar')"
   ]
  },
  {
   "cell_type": "code",
   "execution_count": null,
   "metadata": {
    "collapsed": true
   },
   "outputs": [],
   "source": []
  },
  {
   "cell_type": "markdown",
   "metadata": {},
   "source": [
    "We can clearly see that there are some extreme outliers in this dataset.\n",
    "\n",
    "Lets seperate the \"High\" and \"Low\" earners to look at them in greater detail."
   ]
  },
  {
   "cell_type": "code",
   "execution_count": 111,
   "metadata": {
    "collapsed": true
   },
   "outputs": [],
   "source": [
    "HighEarners = sf[sf.TotalPay > 300000]\n",
    "LowEarners = sf[sf.TotalPay < 4000]"
   ]
  },
  {
   "cell_type": "code",
   "execution_count": 112,
   "metadata": {},
   "outputs": [
    {
     "data": {
      "text/html": [
       "<div>\n",
       "<style>\n",
       "    .dataframe thead tr:only-child th {\n",
       "        text-align: right;\n",
       "    }\n",
       "\n",
       "    .dataframe thead th {\n",
       "        text-align: left;\n",
       "    }\n",
       "\n",
       "    .dataframe tbody tr th {\n",
       "        vertical-align: top;\n",
       "    }\n",
       "</style>\n",
       "<table border=\"1\" class=\"dataframe\">\n",
       "  <thead>\n",
       "    <tr style=\"text-align: right;\">\n",
       "      <th></th>\n",
       "      <th></th>\n",
       "      <th></th>\n",
       "      <th>TotalPay</th>\n",
       "    </tr>\n",
       "    <tr>\n",
       "      <th>JobTitle</th>\n",
       "      <th>EmployeeName</th>\n",
       "      <th>Year</th>\n",
       "      <th></th>\n",
       "    </tr>\n",
       "  </thead>\n",
       "  <tbody>\n",
       "    <tr>\n",
       "      <th>ASSISTANT DEPUTY CHIEF 2</th>\n",
       "      <th>MARK KEARNEY</th>\n",
       "      <th>2012</th>\n",
       "      <td>327689.78</td>\n",
       "    </tr>\n",
       "    <tr>\n",
       "      <th>ASSISTANT DEPUTY CHIEF II</th>\n",
       "      <th>DAVID SULLIVAN</th>\n",
       "      <th>2011</th>\n",
       "      <td>316285.74</td>\n",
       "    </tr>\n",
       "    <tr>\n",
       "      <th rowspan=\"4\" valign=\"top\">ASST CHF OF DEPT (FIRE DEPT)</th>\n",
       "      <th>DAVID FRANKLIN</th>\n",
       "      <th>2012</th>\n",
       "      <td>315728.77</td>\n",
       "    </tr>\n",
       "    <tr>\n",
       "      <th rowspan=\"2\" valign=\"top\">DAVID L FRANKLIN</th>\n",
       "      <th>2013</th>\n",
       "      <td>333888.32</td>\n",
       "    </tr>\n",
       "    <tr>\n",
       "      <th>2014</th>\n",
       "      <td>329390.54</td>\n",
       "    </tr>\n",
       "    <tr>\n",
       "      <th>THOMAS A SIRAGUSA</th>\n",
       "      <th>2013</th>\n",
       "      <td>324820.63</td>\n",
       "    </tr>\n",
       "    <tr>\n",
       "      <th rowspan=\"3\" valign=\"top\">ASST MED EXAMINER</th>\n",
       "      <th>AMY P HART</th>\n",
       "      <th>2014</th>\n",
       "      <td>390111.98</td>\n",
       "    </tr>\n",
       "    <tr>\n",
       "      <th rowspan=\"2\" valign=\"top\">ELLEN G MOFFATT</th>\n",
       "      <th>2013</th>\n",
       "      <td>335537.96</td>\n",
       "    </tr>\n",
       "    <tr>\n",
       "      <th>2014</th>\n",
       "      <td>344187.46</td>\n",
       "    </tr>\n",
       "    <tr>\n",
       "      <th rowspan=\"2\" valign=\"top\">BATTALION CHIEF, (FIRE DEPARTMENT)</th>\n",
       "      <th>ALSON LEE</th>\n",
       "      <th>2011</th>\n",
       "      <td>315981.05</td>\n",
       "    </tr>\n",
       "    <tr>\n",
       "      <th>MICHAEL MORRIS</th>\n",
       "      <th>2011</th>\n",
       "      <td>303427.55</td>\n",
       "    </tr>\n",
       "    <tr>\n",
       "      <th rowspan=\"9\" valign=\"top\">BATTALION CHIEF, FIRE SUPPRESS</th>\n",
       "      <th>BRENDAN A WARD</th>\n",
       "      <th>2013</th>\n",
       "      <td>313142.24</td>\n",
       "    </tr>\n",
       "    <tr>\n",
       "      <th rowspan=\"2\" valign=\"top\">BRYAN W RUBENSTEIN</th>\n",
       "      <th>2013</th>\n",
       "      <td>311000.86</td>\n",
       "    </tr>\n",
       "    <tr>\n",
       "      <th>2014</th>\n",
       "      <td>306117.53</td>\n",
       "    </tr>\n",
       "    <tr>\n",
       "      <th>JOSE L VELO</th>\n",
       "      <th>2014</th>\n",
       "      <td>307099.61</td>\n",
       "    </tr>\n",
       "    <tr>\n",
       "      <th>LORRIE A KALOS</th>\n",
       "      <th>2013</th>\n",
       "      <td>301697.70</td>\n",
       "    </tr>\n",
       "    <tr>\n",
       "      <th>MARK J JOHNSON</th>\n",
       "      <th>2013</th>\n",
       "      <td>311698.29</td>\n",
       "    </tr>\n",
       "    <tr>\n",
       "      <th>MARTY A ROSS</th>\n",
       "      <th>2013</th>\n",
       "      <td>312616.60</td>\n",
       "    </tr>\n",
       "    <tr>\n",
       "      <th>SAMSON  LAI</th>\n",
       "      <th>2013</th>\n",
       "      <td>347102.32</td>\n",
       "    </tr>\n",
       "    <tr>\n",
       "      <th>SAMSON LAI</th>\n",
       "      <th>2014</th>\n",
       "      <td>335484.96</td>\n",
       "    </tr>\n",
       "    <tr>\n",
       "      <th rowspan=\"4\" valign=\"top\">BATTLION CHIEF, FIRE SUPPRESSI</th>\n",
       "      <th>BRENDAN WARD</th>\n",
       "      <th>2012</th>\n",
       "      <td>321883.83</td>\n",
       "    </tr>\n",
       "    <tr>\n",
       "      <th>MARTY ROSS</th>\n",
       "      <th>2012</th>\n",
       "      <td>310968.31</td>\n",
       "    </tr>\n",
       "    <tr>\n",
       "      <th>RUDY CASTELLANOS</th>\n",
       "      <th>2012</th>\n",
       "      <td>316988.26</td>\n",
       "    </tr>\n",
       "    <tr>\n",
       "      <th>SAMSON LAI</th>\n",
       "      <th>2012</th>\n",
       "      <td>316214.00</td>\n",
       "    </tr>\n",
       "    <tr>\n",
       "      <th>CAPTAIN 3</th>\n",
       "      <th>JOHN EHRLICH</th>\n",
       "      <th>2012</th>\n",
       "      <td>303869.82</td>\n",
       "    </tr>\n",
       "    <tr>\n",
       "      <th rowspan=\"2\" valign=\"top\">CAPTAIN III (POLICE DEPARTMENT)</th>\n",
       "      <th>ALBERT PARDINI</th>\n",
       "      <th>2011</th>\n",
       "      <td>335279.91</td>\n",
       "    </tr>\n",
       "    <tr>\n",
       "      <th>GARY JIMENEZ</th>\n",
       "      <th>2011</th>\n",
       "      <td>538909.28</td>\n",
       "    </tr>\n",
       "    <tr>\n",
       "      <th rowspan=\"2\" valign=\"top\">CAPTAIN, FIRE SUPPRESSION</th>\n",
       "      <th>MICHAEL ROLOVICH</th>\n",
       "      <th>2012</th>\n",
       "      <td>302002.06</td>\n",
       "    </tr>\n",
       "    <tr>\n",
       "      <th>PHILIP STEVENS</th>\n",
       "      <th>2012</th>\n",
       "      <td>308669.82</td>\n",
       "    </tr>\n",
       "    <tr>\n",
       "      <th>DEPUTY CHIEF OF DEPARTMENT,(FIRE DEPARTMENT)</th>\n",
       "      <th>PATRICK GARDNER</th>\n",
       "      <th>2011</th>\n",
       "      <td>326373.19</td>\n",
       "    </tr>\n",
       "    <tr>\n",
       "      <th>DEPUTY SHERIFF</th>\n",
       "      <th>WHITNEY P YEE</th>\n",
       "      <th>2013</th>\n",
       "      <td>308434.84</td>\n",
       "    </tr>\n",
       "    <tr>\n",
       "      <th>ELECTRONIC MAINTENANCE TECH</th>\n",
       "      <th>KHOA TRINH</th>\n",
       "      <th>2012</th>\n",
       "      <td>336393.73</td>\n",
       "    </tr>\n",
       "    <tr>\n",
       "      <th>EMT/PARAMEDIC/FIREFIGHTER</th>\n",
       "      <th>FREDERICK BINKLEY</th>\n",
       "      <th>2012</th>\n",
       "      <td>337204.86</td>\n",
       "    </tr>\n",
       "    <tr>\n",
       "      <th rowspan=\"2\" valign=\"top\">LIEUTENANT, FIRE SUPPRESSION</th>\n",
       "      <th>GARY ALTENBERG</th>\n",
       "      <th>2012</th>\n",
       "      <td>362844.66</td>\n",
       "    </tr>\n",
       "    <tr>\n",
       "      <th>GARY L ALTENBERG</th>\n",
       "      <th>2013</th>\n",
       "      <td>320375.79</td>\n",
       "    </tr>\n",
       "    <tr>\n",
       "      <th>WIRE ROPE CABLE MAINTENANCE MECHANIC</th>\n",
       "      <th>CHRISTOPHER CHONG</th>\n",
       "      <th>2011</th>\n",
       "      <td>332343.61</td>\n",
       "    </tr>\n",
       "  </tbody>\n",
       "</table>\n",
       "</div>"
      ],
      "text/plain": [
       "                                                                       TotalPay\n",
       "JobTitle                                     EmployeeName       Year           \n",
       "ASSISTANT DEPUTY CHIEF 2                     MARK KEARNEY       2012  327689.78\n",
       "ASSISTANT DEPUTY CHIEF II                    DAVID SULLIVAN     2011  316285.74\n",
       "ASST CHF OF DEPT (FIRE DEPT)                 DAVID FRANKLIN     2012  315728.77\n",
       "                                             DAVID L FRANKLIN   2013  333888.32\n",
       "                                                                2014  329390.54\n",
       "                                             THOMAS A SIRAGUSA  2013  324820.63\n",
       "ASST MED EXAMINER                            AMY P HART         2014  390111.98\n",
       "                                             ELLEN G MOFFATT    2013  335537.96\n",
       "                                                                2014  344187.46\n",
       "BATTALION CHIEF, (FIRE DEPARTMENT)           ALSON LEE          2011  315981.05\n",
       "                                             MICHAEL MORRIS     2011  303427.55\n",
       "BATTALION CHIEF, FIRE SUPPRESS               BRENDAN A WARD     2013  313142.24\n",
       "                                             BRYAN W RUBENSTEIN 2013  311000.86\n",
       "                                                                2014  306117.53\n",
       "                                             JOSE L VELO        2014  307099.61\n",
       "                                             LORRIE A KALOS     2013  301697.70\n",
       "                                             MARK J JOHNSON     2013  311698.29\n",
       "                                             MARTY A ROSS       2013  312616.60\n",
       "                                             SAMSON  LAI        2013  347102.32\n",
       "                                             SAMSON LAI         2014  335484.96\n",
       "BATTLION CHIEF, FIRE SUPPRESSI               BRENDAN WARD       2012  321883.83\n",
       "                                             MARTY ROSS         2012  310968.31\n",
       "                                             RUDY CASTELLANOS   2012  316988.26\n",
       "                                             SAMSON LAI         2012  316214.00\n",
       "CAPTAIN 3                                    JOHN EHRLICH       2012  303869.82\n",
       "CAPTAIN III (POLICE DEPARTMENT)              ALBERT PARDINI     2011  335279.91\n",
       "                                             GARY JIMENEZ       2011  538909.28\n",
       "CAPTAIN, FIRE SUPPRESSION                    MICHAEL ROLOVICH   2012  302002.06\n",
       "                                             PHILIP STEVENS     2012  308669.82\n",
       "DEPUTY CHIEF OF DEPARTMENT,(FIRE DEPARTMENT) PATRICK GARDNER    2011  326373.19\n",
       "DEPUTY SHERIFF                               WHITNEY P YEE      2013  308434.84\n",
       "ELECTRONIC MAINTENANCE TECH                  KHOA TRINH         2012  336393.73\n",
       "EMT/PARAMEDIC/FIREFIGHTER                    FREDERICK BINKLEY  2012  337204.86\n",
       "LIEUTENANT, FIRE SUPPRESSION                 GARY ALTENBERG     2012  362844.66\n",
       "                                             GARY L ALTENBERG   2013  320375.79\n",
       "WIRE ROPE CABLE MAINTENANCE MECHANIC         CHRISTOPHER CHONG  2011  332343.61"
      ]
     },
     "execution_count": 112,
     "metadata": {},
     "output_type": "execute_result"
    }
   ],
   "source": [
    "pd.pivot_table(HighEarners, index=['JobTitle', 'EmployeeName', 'Year'], values=[\"TotalPay\"])"
   ]
  },
  {
   "cell_type": "markdown",
   "metadata": {},
   "source": [
    "Above we see the 'JobTitles' and 'EmployeeNames' of the \"High Earners\", we additionally learn that many of them hold the position for more than one year.\n",
    "\n",
    "We also see that JobTitles were slightly changed between years, and as a result the same jobs appear seperately, lets create a new field called 'Department' later to hone in and compare departments.\n",
    "\n",
    "There is also the addition of a middle name initial which is creating duplication in data."
   ]
  },
  {
   "cell_type": "code",
   "execution_count": 113,
   "metadata": {
    "collapsed": true
   },
   "outputs": [],
   "source": [
    "# Create a new column called 'Department'\n",
    "sf['Department'] = ''"
   ]
  },
  {
   "cell_type": "markdown",
   "metadata": {},
   "source": [
    "When looking at the 'JobTitles' it is clear that employees can be grouped easily into certain departments such as below:"
   ]
  },
  {
   "cell_type": "code",
   "execution_count": 114,
   "metadata": {},
   "outputs": [],
   "source": [
    "sf.loc[sf.JobTitle.str.contains('POLICE'), 'Department'] = \"POLICE\"\n",
    "sf.loc[sf.JobTitle.str.contains(\"FIRE\"), 'Department'] = \"FIRE\"\n",
    "sf.loc[sf.JobTitle.str.contains(\"MEDICAL\"), 'Department'] = \"MEDICAL\"\n",
    "sf.loc[sf.JobTitle.str.contains(\"NURSE\"), 'Department'] = \"MEDICAL\"\n",
    "sf.loc[sf.JobTitle.str.contains(\"TRANSIT\"), 'Department'] = \"TRANSIT\""
   ]
  },
  {
   "cell_type": "code",
   "execution_count": 118,
   "metadata": {},
   "outputs": [
    {
     "name": "stderr",
     "output_type": "stream",
     "text": [
      "/Users/ababen/anaconda/lib/python3.6/site-packages/ipykernel_launcher.py:4: DeprecationWarning: \n",
      ".ix is deprecated. Please use\n",
      ".loc for label based indexing or\n",
      ".iloc for positional indexing\n",
      "\n",
      "See the documentation here:\n",
      "http://pandas.pydata.org/pandas-docs/stable/indexing.html#deprecate_ix\n",
      "  after removing the cwd from sys.path.\n"
     ]
    },
    {
     "data": {
      "text/html": [
       "<div>\n",
       "<style>\n",
       "    .dataframe thead tr:only-child th {\n",
       "        text-align: right;\n",
       "    }\n",
       "\n",
       "    .dataframe thead th {\n",
       "        text-align: left;\n",
       "    }\n",
       "\n",
       "    .dataframe tbody tr th {\n",
       "        vertical-align: top;\n",
       "    }\n",
       "</style>\n",
       "<table border=\"1\" class=\"dataframe\">\n",
       "  <thead>\n",
       "    <tr>\n",
       "      <th></th>\n",
       "      <th>sum</th>\n",
       "      <th>mean</th>\n",
       "      <th>len</th>\n",
       "    </tr>\n",
       "    <tr>\n",
       "      <th></th>\n",
       "      <th>TotalPay</th>\n",
       "      <th>TotalPay</th>\n",
       "      <th>TotalPay</th>\n",
       "    </tr>\n",
       "    <tr>\n",
       "      <th>Department</th>\n",
       "      <th></th>\n",
       "      <th></th>\n",
       "      <th></th>\n",
       "    </tr>\n",
       "  </thead>\n",
       "  <tbody>\n",
       "    <tr>\n",
       "      <th></th>\n",
       "      <td>$2,799.85 MM</td>\n",
       "      <td>$83,010.20</td>\n",
       "      <td>33729</td>\n",
       "    </tr>\n",
       "    <tr>\n",
       "      <th>FIRE</th>\n",
       "      <td>$845.95 MM</td>\n",
       "      <td>$158,270.02</td>\n",
       "      <td>5345</td>\n",
       "    </tr>\n",
       "    <tr>\n",
       "      <th>MEDICAL</th>\n",
       "      <td>$681.67 MM</td>\n",
       "      <td>$98,407.36</td>\n",
       "      <td>6927</td>\n",
       "    </tr>\n",
       "    <tr>\n",
       "      <th>POLICE</th>\n",
       "      <td>$942.44 MM</td>\n",
       "      <td>$128,766.14</td>\n",
       "      <td>7319</td>\n",
       "    </tr>\n",
       "    <tr>\n",
       "      <th>TRANSIT</th>\n",
       "      <td>$829.02 MM</td>\n",
       "      <td>$75,427.52</td>\n",
       "      <td>10991</td>\n",
       "    </tr>\n",
       "  </tbody>\n",
       "</table>\n",
       "</div>"
      ],
      "text/plain": [
       "                     sum         mean      len\n",
       "                TotalPay     TotalPay TotalPay\n",
       "Department                                    \n",
       "            $2,799.85 MM   $83,010.20    33729\n",
       "FIRE          $845.95 MM  $158,270.02     5345\n",
       "MEDICAL       $681.67 MM   $98,407.36     6927\n",
       "POLICE        $942.44 MM  $128,766.14     7319\n",
       "TRANSIT       $829.02 MM   $75,427.52    10991"
      ]
     },
     "execution_count": 118,
     "metadata": {},
     "output_type": "execute_result"
    }
   ],
   "source": [
    "# Applying $ (currency) for formatting and attractive presentation\n",
    "\n",
    "ByDepartment = pd.pivot_table(sf, index=['Department'], values=[\"TotalPay\"], aggfunc=[np.sum, np.mean, len], fill_value=0)\n",
    "ByDepartment.ix[:,0] = ['${:,.2f} MM'.format(x) for x in ByDepartment.ix[:,0]/1000000]\n",
    "ByDepartment.ix[:,1] = ['${:,.2f}'.format(x) for x in ByDepartment.ix[:,1]]\n",
    "ByDepartment"
   ]
  },
  {
   "cell_type": "markdown",
   "metadata": {},
   "source": [
    "In the above table we can see the total, mean and count of Total Paid per Department"
   ]
  },
  {
   "cell_type": "code",
   "execution_count": 35,
   "metadata": {},
   "outputs": [
    {
     "data": {
      "image/png": "iVBORw0KGgoAAAANSUhEUgAAA8AAAAJ8CAYAAAAxqcghAAAABHNCSVQICAgIfAhkiAAAAAlwSFlz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\n",
      "text/plain": [
       "<matplotlib.figure.Figure at 0x117b7f588>"
      ]
     },
     "metadata": {},
     "output_type": "display_data"
    }
   ],
   "source": [
    "plot_jg = sns.FacetGrid(sf, col=\"Department\", col_wrap=3, size=4.5, dropna=True)\n",
    "plot_jg = plot_jg.map(sns.kdeplot, 'TotalPay', shade=True)"
   ]
  },
  {
   "cell_type": "markdown",
   "metadata": {
    "deletable": true,
    "editable": true
   },
   "source": [
    "In the above grapth we can see that the Police Department employees earn the most money."
   ]
  },
  {
   "cell_type": "code",
<<<<<<< Updated upstream
   "execution_count": 77,
   "metadata": {
    "collapsed": false,
    "deletable": true,
    "editable": true
   },
=======
   "execution_count": 36,
   "metadata": {},
>>>>>>> Stashed changes
   "outputs": [
    {
     "data": {
      "text/plain": [
       "<matplotlib.axes._subplots.AxesSubplot at 0x11d8f1160>"
      ]
     },
     "execution_count": 36,
     "metadata": {},
     "output_type": "execute_result"
    },
    {
     "data": {
      "image/png": "iVBORw0KGgoAAAANSUhEUgAAAgMAAAFXCAYAAAA/LE0rAAAABHNCSVQICAgIfAhkiAAAAAlwSFlz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\nYQAAAMMRBgAAMBxhAAAAw/0/+UD+g+4YAfkAAAAASUVORK5CYII=\n",
      "text/plain": [
       "<matplotlib.figure.Figure at 0x1222f5f28>"
      ]
     },
     "metadata": {},
     "output_type": "display_data"
    }
   ],
   "source": [
    "sns.boxplot(x=\"Year\", y=\"TotalPay\", data=sf)"
   ]
  },
  {
   "cell_type": "markdown",
   "metadata": {
    "deletable": true,
    "editable": true
   },
   "source": [
    "Above we see that the salaries have not changed between the years."
   ]
  },
  {
   "cell_type": "code",
   "execution_count": 37,
   "metadata": {},
   "outputs": [
    {
     "data": {
      "text/plain": [
       "<matplotlib.axes._subplots.AxesSubplot at 0x122c18198>"
      ]
     },
     "execution_count": 37,
     "metadata": {},
     "output_type": "execute_result"
    },
    {
     "data": {
      "image/png": "iVBORw0KGgoAAAANSUhEUgAAAgMAAAFXCAYAAAA/LE0rAAAABHNCSVQICAgIfAhkiAAAAAlwSFlz\nAAALEgAACxIB0t1+/AAAIABJREFUeJzt3X98U+Xd//FXmqalNqnARCfaCohVkLv8aAV5EOpgbDgU\nRQalySwwFR8iltFZVkSgcAsiw1aF3uhkeKPFFlthwkS3KTq6WkBXVzpB3IbD8qMwhDKTQn+Q5PuH\nXzM6WIm3TUJ73s+/eq5cOedzHUr7znWdnmPy+Xw+RERExLAiwl2AiIiIhJfCgIiIiMEpDIiIiBic\nwoCIiIjBKQyIiIgYnMKAiIiIwUWGu4BwOXbMFe4SREREQqZbN9t/fE0zAyIiIganMCAiImJwCgMi\nIiIGpzAgIiJicAoDIiIiBqcwICIiYnAKAyIiIganMCAiImJwCgMiIiIGF9QwsGvXLjIyMgA4fvw4\n06dP50c/+hHp6enU1NQAUFJSwvjx40lLS+Pdd98FoKGhgczMTJxOJ9OmTePEiRMAVFVVMXHiRNLT\n0ykoKPAfp6CggAkTJpCenk51dXUwhyQiItLhBO12xKtXr2bz5s3ExMQAsHz5csaOHcuYMWPYsWMH\nn376KTExMRQWFrJhwwYaGxtxOp0MGzaM4uJiEhMTyczMZMuWLaxatYp58+aRm5vLypUriY+P5/77\n72fPnj34fD7ef/99SktLqa2tJTMzkw0bNgRrWCIiIh1O0GYGEhISWLlypX/7ww8/5OjRo0ydOpVf\n//rXDB48mOrqagYOHEhUVBQ2m42EhAT27t1LZWUlw4cPByA1NZXt27fjdrtpamoiISEBk8mE3W6n\noqKCyspK7HY7JpOJ7t274/F4/DMJIiIicmFBmxkYPXo0Bw8e9G8fOnSIuLg41q5dS0FBAatXr6ZH\njx7YbP96cEJsbCxutxu32+1vj42NxeVy4Xa7sVqtLfoeOHCA6OhoOnfu3KLd5XLRtWvXVuvr0uUS\nIiPNbTVcEQnAihUr2LRpE3feeSczZ84Mdzki8v+F7KmFnTt3ZuTIkQCMHDmSp556in79+lFfX+/v\nU19fj81mw2q1+tvr6+uJi4tr0XZ2u8ViOe8+LqSu7lRbDU1EAtDQcJrNmzcDsHnzr7nrrnQ6dYoJ\nc1UixnFRPLUwOTmZbdu2AfDBBx/Qu3dvkpKSqKyspLGxEZfLxb59+0hMTGTQoEH+vmVlZSQnJ2O1\nWrFYLNTU1ODz+SgvLyclJYVBgwZRXl6O1+vl8OHDeL3eC84KiEjoNTc34/P5APD5vDQ3N4e5IhH5\nSshmBnJycpg3bx7r16/HarWSl5fHpZdeSkZGBk6nE5/PR1ZWFtHR0TgcDnJycnA4HFgsFvLy8gBY\ntGgR2dnZeDwe7HY7/fv3ByAlJYVJkybh9XpZsGBBqIYk0i588PDFMR1/2uNpsf2n+Y8QYw7/Ut1N\neSvCXYJI2Jl8X0V1gzl2zBXuEkRC4mIKA6uOHPJvP/jtqxQGRELoolgmEBFjM5tM/q9N/7YtIuGl\nMCAiIREVEcGA2C//Iqh/rJWoCP34EblYhOyaARGR73buync76wJfkYuNormIiIjBKQyIiIgYnMKA\niIiIwSkMiIiIGJzCgIiIiMEpDIiIiBicwoCIiIjBKQyIiIgYnMKAiIiIwSkMiIiIGJzCgIiIiMEp\nDIiIiBicwoCIiIjBKQyIiIgYnMKAiIiIwSkMiIiIGJzCgIiIiMEpDIiIiBicwoCIiIjBKQyIiIgY\nnMKAiIiIwSkMiIiIGJzCgIiIiMEpDIiIiBicwoCIiIjBBTUM7Nq1i4yMjBZtv/71r5k0aZJ/u6Sk\nhPHjx5OWlsa7774LQENDA5mZmTidTqZNm8aJEycAqKqqYuLEiaSnp1NQUODfR0FBARMmTCA9PZ3q\n6upgDklERKTDiQzWjlevXs3mzZuJiYnxt+3Zs4dXX30Vn88HwLFjxygsLGTDhg00NjbidDoZNmwY\nxcXFJCYmkpmZyZYtW1i1ahXz5s0jNzeXlStXEh8fz/3338+ePXvw+Xy8//77lJaWUltbS2ZmJhs2\nbAjWsERERDqcoM0MJCQksHLlSv92XV0d+fn5zJ07199WXV3NwIEDiYqKwmazkZCQwN69e6msrGT4\n8OEApKamsn37dtxuN01NTSQkJGAymbDb7VRUVFBZWYndbsdkMtG9e3c8Ho9/JkFEREQuLGgzA6NH\nj+bgwYMAeDweHn30UR555BGio6P9fdxuNzabzb8dGxuL2+1u0R4bG4vL5cLtdmO1Wlv0PXDgANHR\n0XTu3LlFu8vlomvXrq3W16XLJURGmttkrCLSfnXrZrtwJ5EOLmhh4Gy7d+/ms88+Y+HChTQ2NvK3\nv/2NJUuWcPPNN1NfX+/vV19fj81mw2q1+tvr6+uJi4tr0XZ2u8ViOe8+LqSu7lQbjlBE2qtjx1zh\nLkEkJFoLviH5a4KkpCS2bNlCYWEh+fn59O7dm0cffZSkpCQqKytpbGzE5XKxb98+EhMTGTRoENu2\nbQOgrKyM5ORkrFYrFouFmpoafD4f5eXlpKSkMGjQIMrLy/F6vRw+fBiv13vBWQERERH5l5DMDPwn\n3bp1IyMjA6fTic/nIysri+joaBwOBzk5OTgcDiwWC3l5eQAsWrSI7OxsPB4Pdrud/v37A5CSksKk\nSZPwer0sWLAgnEMSERFpd0y+ry7tNxhNDYpRfPDwzHCXcFG7KW9FuEsQCYmwLxOIiIjIxUthQERE\nxOAUBkRERAxOYUBERMTgFAZEREQMTmFARETE4BQGREREDE5hQERExOAUBkRERAxOYUBERMTgFAZE\nREQMTmFARETE4BQGREREDE5hoJ144YXnSU8fxwsvPB/uUkREpINRGGgHGhpO89ZbbwLw1lu/oaHh\ndJgrEhGRjiQy3AVczH6yfHO4SwDAe6YBn88HgM/nZfZTvyYislNYa3pm9h1hPb6IiLQdzQy0Bybz\n2Rv/ti0iIvLNKAy0AxFmCzHd+gAQ0+0GIsyWMFckIiIdiZYJ2om4hKHEJQwNdxkiItIBaWZARETE\n4BQGREREDE5hQERExOAUBkRERAxOYUBERMTgFAZEREQMTmFARETE4BQGREREDC6oYWDXrl1kZGQA\n8PHHH+N0OsnIyODee+/l888/B6CkpITx48eTlpbGu+++C0BDQwOZmZk4nU6mTZvGiRMnAKiqqmLi\nxImkp6dTUFDgP05BQQETJkwgPT2d6urqYA5JRESkwwnaHQhXr17N5s2biYmJAWDJkiXMnz+fPn36\nsH79elavXs19991HYWEhGzZsoLGxEafTybBhwyguLiYxMZHMzEy2bNnCqlWrmDdvHrm5uaxcuZL4\n+Hjuv/9+9uzZg8/n4/3336e0tJTa2loyMzPZsGFDsIYlIiLS4QRtZiAhIYGVK1f6t/Pz8+nT58v7\n63s8HqKjo6murmbgwIFERUVhs9lISEhg7969VFZWMnz4cABSU1PZvn07brebpqYmEhISMJlM2O12\nKioqqKysxG63YzKZ6N69Ox6Pxz+TICIiIhcWtDAwevRoIiP/NfFw+eWXA/Dhhx+ybt06pk6ditvt\nxmaz+fvExsbidrtbtMfGxuJyuXC73Vit1hZ9W2sXERGRwIT0QUVvvPEGzz77LM8//zxdu3bFarVS\nX1/vf72+vh6bzdaivb6+nri4uPP2jYuLw2KxnHcfF9KlyyVERupRwP9X3bpd+ByLtAf6XhYJYRjY\ntGkTr7zyCoWFhXTu3BmApKQknn76aRobG2lqamLfvn0kJiYyaNAgtm3bRlJSEmVlZSQnJ2O1WrFY\nLNTU1BAfH095eTkPPfQQZrOZ5cuXc++993LkyBG8Xi9du3a9YD11daeCPeQO7dgxzb5Ix6DvZTGK\n1oJvSMKAx+NhyZIlXHnllWRmZgJw0003MXPmTDIyMnA6nfh8PrKysoiOjsbhcJCTk4PD4cBisZCX\nlwfAokWLyM7OxuPxYLfb6d+/PwApKSlMmjQJr9fLggULQjEkERGRDsPk8/l84S4iHAL5NPCT5ZtD\nUEn79MzsO8JdggTog4dnhruEi9pNeSvCXYJISLQ2M6CbDomIiBicwoCIiIjBKQyIiIgYnMKAiIiI\nwSkMiIiIGJzCgIiIiMEpDIiIiBicwoCIiIjBKQyIiIgYnMKAiIiIwSkMiIiIGJzCgIiIiMEpDIiI\niBicwoCIiIjBKQyIiIgYnMKAiIiIwSkMiIiIGJzCgIiIiMEpDIiIiBicwoCIiIjBKQyIiIgYnMKA\niIiIwSkMiIiIGNzXCgNut5v6+vpg1SIiIiJhEHmhDvv27eOFF17gnXfeoampicjISCwWCyNHjmTK\nlClce+21oahTREREgqTVMJCfn09NTQ233347P/vZz7j00ksBcLlc7Ny5k7y8PHr27Mns2bNDUqyI\niIi0vVbDwKhRo0hKSjqn3WazMWrUKEaNGsWuXbuCVpyIiIgEX6vXDHwVBBYvXsyePXvO26d///5t\nX5WIiIiETEAXEN5www08/vjjjBs3jrVr13LixImAdr5r1y4yMjIA+Oyzz3A4HDidTnJzc/F6vQCU\nlJQwfvx40tLSePfddwFoaGggMzMTp9PJtGnT/Merqqpi4sSJpKenU1BQ4D9OQUEBEyZMID09nerq\n6sBHLyIiIoGFgQkTJrBu3ToKCgpoaGggLS2NBx980P/L+3xWr17NvHnzaGxsBGDp0qXMmjWLoqIi\nfD4fW7du5dixYxQWFrJ+/XrWrFlDfn4+TU1NFBcXk5iYSFFREePGjWPVqlUA5ObmkpeXR3FxMbt2\n7WLPnj3s3r2b999/n9LSUvLz81m0aFEbnBYRERHjCPhPC2tra9myZQtbtmzhqquuIjU1lddee41H\nHnnkvP0TEhJYuXKlf3v37t0MHjwYgNTUVCoqKqiurmbgwIFERUVhs9lISEhg7969VFZWMnz4cH/f\n7du343a7aWpqIiEhAZPJhN1up6KigsrKSux2OyaTie7du+PxeAKeuRAREZEA/rQQ4O677+bw4cP+\nT+nx8fHAlzMGdrv9vO8ZPXo0Bw8e9G/7fD5MJhMAsbGxuFwu3G43NpvN3yc2Nha3292i/ey+Vqu1\nRd8DBw4QHR1N586dW7S7XC66du3a6pi6dLmEyEhzIMOX8+jWzXbhTiLtQEf7Xl6xYgWbNm3izjvv\nZObMmeEuR9qJgMLAAw88wLBhw/y/zP1vjoykoqIioANFRPxrEqK+vp64uDisVmuLmxjV19djs9la\ntLfWNy4uDovFct59XEhd3amA6pbzO3bMFe4SRNpER/pebmg4zebNmwHYvPnX3HVXOp06xYS5KrlY\ntBZ8A1omuPrqq1m2bBkLFixg/vz5zJ07l8mTJ3+5g4jAVhr69u3Lzp07ASgrKyMlJYWkpCQqKytp\nbGzE5XKxb98+EhMTGTRoENu2bfP3TU5Oxmq1YrFYqKmpwefzUV5eTkpKCoMGDaK8vByv18vhw4fx\ner0XnBUQEemImpub8fl8APh8Xpqbm8NckbQXAc0MzJo1i1tuuYUdO3Ywbtw4tm3bRo8ePb7WgXJy\ncpg/fz75+fn06tWL0aNHYzabycjIwOl04vP5yMrKIjo6GofDQU5ODg6HA4vFQl5eHgCLFi0iOzsb\nj8eD3W73/1ljSkoKkyZNwuv1smDBgq93BkRE2sDqp38T7hJobm5osV343DtYLJ3CVM2/TJt1a7hL\nkAsIKAx4PB6ysrLwer3069cPh8OBw+G44PuuvvpqSkpKAOjZsyfr1q07p09aWhppaWkt2mJiYlix\nYsU5fQcMGODf39kyMzPJzMwMZCgiIiLybwKa44+JiaGpqYkePXqwZ88eoqOjaWpqCnZtIiLyNZgi\nzr4o2vRv2yL/WUBh4LbbbmP69OnccsstFBYW8sADD3DZZZcFuzYREfkaIs0Wrr7iRgCuvqIvkWZL\nmCuS9iKgZYIpU6Ywfvx4bDYba9eupbq6mtTU1GDXJiIiX9P1PYdzfc/h4S5D2plWw8Dp06cpKChg\n//79JCcnk5GRwVVXXcVVV10VqvpEREQkyFpdJpg7dy6HDh1i6NChlJWV8eSTT4aqLhEREQmRVmcG\nPvnkE9544w0A7rrrLtLT00NSlIiIiIROqzMD0dHR/q9jY2Mxm3VlqoiISEcT8IOKgHNuRywiIiLt\nX6vLBJ999hn33HPPf9x+4YUXgleZiIiIhESrYeB//ud/QlWHiIiIhEmrYaBXr16hqkNERETCpNUw\nkJaWhslk8j8F62wmk4nf//73wapLREREQqTVMPDVY4RFRESk4wrodsT79+9n/fr1nDp1Cp/Ph8fj\n4eDBg7z00kvBrk9ERESCLKA/LZw1axbR0dFUV1dz7bXXUltbS48ePYJcmoiIiIRCQDMDHo+HrKws\nvF4v/fr1w+Fw4HA4gl2biIiIhEBAMwMxMTE0NTXRo0cP9uzZQ3R0NE1NTcGuTUREREIgoDBw2223\nMX36dG655RYKCwt54IEHuOyyy4Jdm4iIiIRAQMsEU6ZMYfz48dhsNv73f/+XP//5zwwfrudli4iI\ndAQBzQw4HA5sNhsAV199NbfeequuGRAREekgWp0ZmDp1Kh988AEej4cbb7yxxWu33HJLUAsTERGR\n0Gg1DKxdu5YzZ86wZMkS5s2b52/Xo4xFREQ6jgteMxAZGcmCBQsoLS1l+/bteDwehgwZgsPhICLi\naz0BWURERC5CAV1A+OSTT7Jv3z7Gjx+Pz+dj48aN1NTU8MgjjwS7PhEREQmygMLAH/7wB1577TX/\nTMB3v/tdxo4dqzAgHcoLLzzP7373Bt///hjuuef+cJcjIhIyAc3zezwePB6Pf9vr9RIZGVCOEGkX\nGhpO89ZbbwLw1lu/oaHhdJgrEhEJnYB+o48ZM4YpU6Zw++23A/D6669z6623BrUwMYbZr8+7cKcQ\n8DZ7/I/q9uHl0Tf/mwhL+C+UXX774nCXICIGEFAYmDFjBn369GHHjh14vV7uueceRo0aFezaREIm\nwmLGmtgV919OYL2u60URBEREQqXVMPDYY48xf/58AEaOHMnIkSO/0cGam5uZM2cOhw4dIiIigsce\ne4zIyEjmzJmDyWTiuuuuIzc3l4iICEpKSli/fj2RkZFMnz6dESNG0NDQwOzZszl+/DixsbEsW7aM\nrl27UlVVxZIlSzCbzdjtdh566KFvVKcYU5fB3ekyuHu4yxARCblWrxn48MMP2/Rg27Zt48yZM6xf\nv54ZM2bw9NNPs3TpUmbNmkVRURE+n4+tW7dy7NgxCgsLWb9+PWvWrCE/P5+mpiaKi4tJTEykqKiI\ncePGsWrVKgByc3PJy8ujuLiYXbt2sWfPnjatW0REpCNrdWagubmZ2tpa/1rqv+ve/et9iurZsyce\njwev14vb7SYyMpKqqioGDx4MQGpqKu+99x4REREMHDiQqKgooqKiSEhIYO/evVRWVnLffff5+65a\ntQq3201TUxMJCQkA2O12Kioq6Nu379eqTURExKhaDQP79+/n7rvvPm8YMJlMbN269Wsd7JJLLuHQ\noUP84Ac/oK6ujueee44PPvgAk8kEQGxsLC6XC7fb7X8Wwlftbre7RfvZfa1Wa4u+Bw4cuGAtXbpc\nQmSk1oX/r7p1s124k3xjOs/Bp3McfDrHF79Ww0Dv3r157bXX2uxga9euxW638/DDD1NbW8uUKVNo\nbm72v15fX09cXBxWq5X6+voW7TabrUV7a33j4uIuWEtd3ak2G5cRHTvmCncJhqDzHHw6x8Gnc3xx\naC2UhfR+wnFxcf5P9pdeeilnzpyhb9++7Ny5E4CysjJSUlJISkqisrKSxsZGXC4X+/btIzExkUGD\nBrFt2zZ/3+TkZKxWKxaLhZqaGnw+H+Xl5aSkpIRyWCIiIu1aqzMDkydPbtODTZ06lblz5+J0Omlu\nbiYrK4t+/foxf/588vPz6dWrF6NHj8ZsNpORkYHT6cTn85GVlUV0dDQOh4OcnBwcDgcWi4W8vDwA\nFi1aRHZ2Nh6PB7vdTv/+/du0bhERkY6s1TDw6aef8sUXX/zHafeTJ0+yevVqZs+eHdDBYmNjeeaZ\nZ85pX7du3TltaWlppKWltWiLiYlhxYoV5/QdMGAAJSUlAdUgIiIiLbUaBsaMGcOMGTO4/PLLSUlJ\n4dvf/jZms5nDhw+zY8cO/vGPfzB37txQ1SoiIiJB0GoY6Nu3L4WFhezYsYN33nmH3//+95hMJhIS\nEpg0aRJDhw4NVZ0iIiIXjY72YLOAbkd88803c/PNNwe7FhERkYvevz/YzOnMoFOnmDBX9c0E/Ajj\np59+mn/+858t7jnwde8zICIi8n/18c68cJcAwKnTzf96sJnPy+4dz3BJjCWsNfUZ8vA3en9AYWDx\n4sXMmTOH6667zn+DIBERESOKNP/rr/JNppbb7VVAYaBLly6MGDEi2LWIiIhc9KKizNzU/0o+2FVL\nStKVREW1/7vZBhQGkpOTWbp0KcOHDyc6OtrfftNNNwWtMBERkYvVmJG9GTOyd7jLaDMBhYHq6mqA\nFk8DNJlMvPTSS8GpSkREREImoDBQWFgY7DpEREQkTAIKA3/84x9Zs2YNp06dwufz4fV6OXz4MO+8\n806w6xMREZEgC+gSyHnz5jFq1Cg8Hg8/+tGPuOaaaxg1alSwaxMREZEQCCgMdOrUiR/+8IcMHjyY\nuLg4Fi9ezAcffBDs2kRERCQEAgoD0dHRnDx5kp49e7Jr1y5MJhOnTp0Kdm0iIiISAgGFgalTp5KV\nlcWIESN47bXXuO222+jXr1+waxMREZEQCOgCwh/84AfceuutmEwmNm7cyP79+7nhhhuCXZuIiIiE\nQEAzA//85z+ZP38+kydPprGxkcLCQlwuV7BrExERkRAIKAzMnz+f//qv/+LkyZPExsZy+eWXM3v2\n7GDXJiIiIiEQUBg4ePAgkyZNIiIigqioKLKysjhy5EiwaxMREZEQCCgMmM1mXC6X/4mF+/fvJyKi\n/T+lSURERAK8gDAzM5OMjAxqa2t58MEHqaqq4vHHHw92bSIiIhICAX2879evH6NGjeLqq6+mtraW\n733ve3z00UfBrk1ERERCIKCZgWnTpnH99dczYsSIYNcjIiIiIRZQGAC0LCAiItJBBRQGRo0aRWlp\nKTfffDNms9nf3r1796AVJiIiIqERUBhwuVw8//zzdOnSxd9mMpnYunVr0AoTERGR0AgoDPzud79j\n+/btdOrUKdj1iIiISIgF9NcE8fHx/POf/wx2LSIiIhIGAc0MmEwmbrvtNq677josFou//aWXXgpa\nYSIiIhIaAYWBBx54oM0O+Itf/IJ33nmH5uZmHA4HgwcPZs6cOZhMJq677jpyc3OJiIigpKSE9evX\nExkZyfTp0xkxYgQNDQ3Mnj2b48ePExsby7Jly+jatStVVVUsWbIEs9mM3W7noYcearN6RUREOrqA\nwsDgwYPb5GA7d+7kT3/6E8XFxZw+fZoXXniBpUuXMmvWLIYMGcKCBQvYunUrAwYMoLCwkA0bNtDY\n2IjT6WTYsGEUFxeTmJhIZmYmW7ZsYdWqVcybN4/c3FxWrlxJfHw8999/P3v27KFv375tUrOIiEhH\nF9IHDJSXl5OYmMiMGTN44IEH+M53vsPu3bv9YSM1NZWKigqqq6sZOHAgUVFR2Gw2EhIS2Lt3L5WV\nlQwfPtzfd/v27bjdbpqamkhISMBkMmG326moqAjlsERERNq1gG861Bbq6uo4fPgwzz33HAcPHmT6\n9On4fD7/A5BiY2NxuVy43W5sNpv/fbGxsbjd7hbtZ/e1Wq0t+h44cOCCtXTpcgmRkeYL9pPz69bN\nduFO8o3pPAefznHwtdU5/rhN9tIxfdNzHNIw0LlzZ3r16kVUVBS9evUiOjq6xaOQ6+vriYuLw2q1\nUl9f36LdZrO1aG+tb1xc3AVrqas71YYjM55jx1zhLsEQdJ6DT+c4+HSOgy+Qc9xaYAjpMkFycjJ/\n+MMf8Pl8HD16lNOnTzN06FB27twJQFlZGSkpKSQlJVFZWUljYyMul4t9+/aRmJjIoEGD2LZtm79v\ncnIyVqsVi8VCTU0NPp+P8vJyUlJSQjksERGRdi2kMwMjRozggw8+YMKECfh8PhYsWMDVV1/N/Pnz\nyc/Pp1evXowePRqz2UxGRgZOpxOfz0dWVhbR0dE4HA5ycnJwOBxYLBby8vIAWLRoEdnZ2Xg8Hux2\nO/379w/lsERERNq1kIYBgJ/97GfntK1bt+6ctrS0NNLS0lq0xcTEsGLFinP6DhgwgJKSkrYrUkRE\nxEBCukwgIiIiFx+FAREREYNTGBARETE4hQERERGDUxgQERExOIUBERERg1MYEBERMTiFAREREYNT\nGBARETE4hQERERGDUxgQERExOIUBERERg1MYEBERMTiFAREREYNTGBARETE4hQERERGDUxgQEREx\nOIUBERERg1MYEBERMTiFAREREYNTGBARETE4hQERERGDUxgQERExOIUBERERg1MYEBERMTiFARER\nEYNTGBARETG4sISB48ePc8stt7Bv3z4+++wzHA4HTqeT3NxcvF4vACUlJYwfP560tDTeffddABoa\nGsjMzMTpdDJt2jROnDgBQFVVFRMnTiQ9PZ2CgoJwDElERKTdCnkYaG5uZsGCBXTq1AmApUuXMmvW\nLIqKivD5fGzdupVjx45RWFjI+vXrWbNmDfn5+TQ1NVFcXExiYiJFRUWMGzeOVatWAZCbm0teXh7F\nxcXs2rWLPXv2hHpYIiIi7VbIw8CyZctIT0/n8ssvB2D37t0MHjwYgNTUVCoqKqiurmbgwIFERUVh\ns9lISEhg7969VFZWMnz4cH/f7du343a7aWpqIiEhAZPJhN1up6KiItTDEhERabciQ3mwjRs30rVr\nV4YPH87zzz8PgM/nw2QyARAbG4vL5cLtdmOz2fzvi42Nxe12t2g/u6/Vam3R98CBAxespUuXS4iM\nNLfl8AylWzfbhTvJN6bzHHw6x8HXVuf44zbZS8f0Tc9xSMPAhg0bMJlMbN++nY8//picnBz/uj9A\nfX09cXG46okEAAASOklEQVRxWK1W6uvrW7TbbLYW7a31jYuLu2AtdXWn2nBkxnPsmCvcJRiCznPw\n6RwHn85x8AVyjlsLDCFdJnj55ZdZt24dhYWF9OnTh2XLlpGamsrOnTsBKCsrIyUlhaSkJCorK2ls\nbMTlcrFv3z4SExMZNGgQ27Zt8/dNTk7GarVisVioqanB5/NRXl5OSkpKKIclIiLSroV0ZuB8cnJy\nmD9/Pvn5+fTq1YvRo0djNpvJyMjA6XTi8/nIysoiOjoah8NBTk4ODocDi8VCXl4eAIsWLSI7OxuP\nx4Pdbqd///5hHpWIiEj7EbYwUFhY6P963bp157yelpZGWlpai7aYmBhWrFhxTt8BAwZQUlLS9kWK\niIgYgG46JCIiYnAKAyIiIganMCAiImJwCgMiIiIGpzAgIiJicAoDIiIiBqcwICIiYnAKAyIiIgan\nMCAiImJwCgMiIiIGpzAgIiJicAoDIiIiBqcwICIiYnAKAyIiIganMCAiImJwCgMiIiIGpzAgIiJi\ncAoDIiIiBqcwICIiYnAKAyIiIganMCAiImJwCgMiIiIGpzAgIiJicAoDIiIiBqcwICIiYnAKAyIi\nIganMCAiImJwCgMiIiIGFxnKgzU3NzN37lwOHTpEU1MT06dPp3fv3syZMweTycR1111Hbm4uERER\nlJSUsH79eiIjI5k+fTojRoygoaGB2bNnc/z4cWJjY1m2bBldu3alqqqKJUuWYDabsdvtPPTQQ6Ec\nloiISLsW0pmBzZs307lzZ4qKivjlL3/JY489xtKlS5k1axZFRUX4fD62bt3KsWPHKCwsZP369axZ\ns4b8/HyampooLi4mMTGRoqIixo0bx6pVqwDIzc0lLy+P4uJidu3axZ49e0I5LBERkXYtpGHg1ltv\n5Sc/+QkAPp8Ps9nM7t27GTx4MACpqalUVFRQXV3NwIEDiYqKwmazkZCQwN69e6msrGT48OH+vtu3\nb8ftdtPU1ERCQgImkwm73U5FRUUohyUiItKuhXSZIDY2FgC3283MmTOZNWsWy5Ytw2Qy+V93uVy4\n3W5sNluL97nd7hbtZ/e1Wq0t+h44cOCCtXTpcgmRkea2HJ6hdOtmu3An+cZ0noNP5zj42uocf9wm\ne+mYvuk5DmkYAKitrWXGjBk4nU7Gjh3L8uXL/a/V19cTFxeH1Wqlvr6+RbvNZmvR3lrfuLi4C9ZR\nV3eqDUdlPMeOucJdgiHoPAefznHw6RwHXyDnuLXAENJlgs8//5x77rmH2bNnM2HCBAD69u3Lzp07\nASgrKyMlJYWkpCQqKytpbGzE5XKxb98+EhMTGTRoENu2bfP3TU5Oxmq1YrFYqKmpwefzUV5eTkpK\nSiiHJSIi0q6FdGbgueee44svvmDVqlX+i/8effRRFi9eTH5+Pr169WL06NGYzWYyMjJwOp34fD6y\nsrKIjo7G4XCQk5ODw+HAYrGQl5cHwKJFi8jOzsbj8WC32+nfv38ohyUiItKuhTQMzJs3j3nz5p3T\nvm7dunPa0tLSSEtLa9EWExPDihUrzuk7YMAASkpK2q5QERERA9FNh0RERAxOYUBERMTgFAZEREQM\nTmFARETE4BQGREREDE5hQERExOAUBkRERAxOYUBERMTgFAZEREQMTmFARETE4BQGREREDE5hQERE\nxOAUBkRERAxOYUBERMTgFAZEREQMTmFARETE4BQGREREDE5hQERExOAUBkRERAxOYUBERMTgFAZE\nREQMTmFARETE4BQGREREDE5hQERExOAUBkRERAxOYUBERMTgFAZEREQMTmFARETE4CLDXUBb8Xq9\nLFy4kE8++YSoqCgWL17MNddcE+6yRERELnodZmbg7bffpqmpiVdeeYWHH36YJ554ItwliYiItAsd\nJgxUVlYyfPhwAAYMGMBHH30U5opERETaB5PP5/OFu4i28Oijj/L973+fW265BYDvfOc7vP3220RG\ndpiVEBERkaDoMDMDVquV+vp6/7bX61UQEBERCUCHCQODBg2irKwMgKqqKhITE8NckYiISPvQYZYJ\nvvprgr/85S/4fD4ef/xxrr322nCXJSIictHrMGFARERE/m86zDKBiIiI/N8oDIiIiBicLrcPgZ07\ndzJr1ix69+4NQGNjI2PHjiUjI4M333yTdevWERERwZkzZ5g0aRLjxo0DYOTIkbz55ptER0e32Nf6\n9et56qmn8Hq9PP/885SVlWE2mwGYN28e119/PXPmzGH37t107tzZ/9477riDiRMnhnDkYiQHDx7k\njjvu4MYbb/S3DRkyhOLiYt577z1WrlzJ66+/zuWXXw7AyZMnGTNmDNOnT2fjxo2sWLGC+Ph4/3sT\nExOZP39+yMcRajt37mTy5Mnk5+dz2223+dvHjh3LjTfeyPvvv8+VV15JRMS/Prvl5ORQX1/v/7ni\n8/k4c+YMkydPZsyYMQAMGzaM9957D/jypmwvvvgiAA0NDdx7773ceuut/v0tXLiQqqoqXnvtNX9b\nRkYGCxcu7DDXXj3xxBPs3r2bY8eO0dDQQHx8PF26dKG8vNz/PdvY2Mgll1zCM888w6WXXgpAdXU1\nTqeToqIikpKSANi4cSMFBQVs3rwZq9UKQFZWFunp6QwZMoRf/epX/OpXv8Ln89Hc3MxDDz2E3W5n\n48aNfPrppwwdOpTnnnsOgD/96U8MHDgQ+PLftV+/fqE+NYDCQMjcfPPNPPXUUwA0NTVx66238q1v\nfYtXXnmF5557DpvNRkNDAzNnziQ6Opof/OAHF9znL3/5S+rq6vxhorq6mgcffJDf/OY3AMyePZvU\n1NSgjkvkbL1796awsLBFW3Fxsf/rqVOn4nA4gC//H4wZM4a0tDQAbr/9drKzs0NX7EWkV69ebNmy\nxR8GPvnkE06fPu1//YUXXmjxoQC+DBFn/1ypr68nIyODnj170qdPH3+/Dz/8kLVr1/KLX/yC2NhY\n6urqmDRpEr1796Z3796cPn2ayspKEhMT2blzJ0OGDAnBiENvzpw5AP5fyNnZ2Rw8eJAjR460+J7N\ny8vj1Vdf5d577wWgpKSEH//4xy3CAMDp06d5/PHHefzxx1scx+VysWrVKrZs2UJUVBRHjx5l4sSJ\n/P73v/f3GTZsGMOGDfN//e//Z8JBywRh4Ha7iYiIoKSkhOzsbGw2GwCdOnUiJyeHl19+OaD9vPLK\nKzz44IP+TwxJSUm8+uqrWCyWoNUu0lbq6uo4c+bMOb/kjOiGG27g8OHDuFwuADZv3szYsWO/1j5i\nY2OZNGmS/8PAV0pLS5kyZQqxsbEAdOnShdLSUv8n/jfffJOhQ4dy1113Bfyzp6Py+XzU1tYSFxcH\nfBmwduzYwUMPPcSHH37IiRMn/H3HjRvHp59+yrvvvttiH1FRUTQ3N1NcXExNTQ1XXHEFb7/9douZ\nnYuRZgZCZMeOHWRkZGAymbBYLMyfP59ly5aRkJDQol98fDyHDx8OaJ8NDQ3+qayvdOnSxf/18uXL\nWb16tX/7qyUEkWD529/+RkZGhn/7ySefbPH62rVr2bJlC7W1tVxxxRUsXrzYP836+uuvs2vXLn/f\nH/7wh/4lMyP4/ve/z+9+9zvGjx9PdXU106ZNo7a2FoB77rnH/8skIiLCP+X/7771rW+xe/fuFm3/\n+Mc/Wiy/AC1+bpSWlvLf//3fXHvttSxcuJCjR49yxRVXtOXQLmpffc+ePHnSv4R71113AfDGG2/w\nve99zz9b++qrr3L//fcDYDabeeKJJ5g2bRoDBgzw7y86OpoXX3yRF198kfvuu4/m5mamTZuG0+kM\ny/gCpTAQImdP531l7dq1HDp0qMV/zP3793PllVcGtM+4uDjcbrf/hynAW2+9xdChQwEtE0jonW+Z\n4GxfLRN89NFH/PSnP6VHjx7+14y8TABfXiOwcOFC4uPjSUlJafHa+ZYJzufw4cN8+9vfbtHWvXt3\namtrueGGG/xtlZWVXHbZZZw5c4a//vWv/ge7mUwmiouLmTVrVhuMqH346nu2oaGBBx54gG9961v+\nu9eWlpZiNpu59957aWho4MiRI9x3333+9/bo0YPJkyezaNEiTCYTAEePHqWhoYEFCxYA8Pe//537\n7ruP5OTk0A/ua7i45y06uIyMDH7+85/jdruBL6ekfv7zn/OjH/0ooPffddddFBQU8NWtIj788EOW\nLl1KVFRU0GoWaQv9+vVj2rRp/PSnP8Xr9Ya7nItCfHw8p06dorCwkDvuuONrv9/tdlNaWtriwkCA\n8ePHs2bNGk6dOgXA8ePHmTt3LqdPn6a0tJSsrCzWrFnDmjVrePHFF9mwYQNNTU1tMqb2pFOnTjz5\n5JOsWrWKvXv38sknn+DxeCguLmbNmjW8/PLLJCQknLMscPfdd1NXV8eOHTsA+Pzzz5k9e7b/5/pV\nV11Fly5dLvrlW80MhNHIkSNxu93cd999mEwmvF4vEyZM8F8NDPgvtoIvPzn07dvXv33vvffyzDPP\nMGnSJCIjI4mMjOTZZ5/1h4F/Xya46aabmDlzZghGJnJhEydO5M0336S4uJiYmJhzlgmsVivPPvts\nGCsMvTFjxrBp0yZ69uzJgQMH/O1nLxMATJ48mbi4OP/yY0REBB6Ph8zMTHr16tVinwMHDiQtLY17\n7rmHyMhIGhoa+OlPf0qvXr14/fXX2bx5s79v9+7dueGGG/jtb38LwE9+8hP/z5MhQ4aQk5MTzOGH\n3WWXXcbPfvYzFixYQFJSEnfeeWeL1ydOnMjLL7/M7bff7m8zmUwsXbrUf43HjTfeSEZGBnfffTed\nOnXC4/EwceJEevXqRVVVVUjH83XoDoQiIiIGp2UCERERg1MYEBERMTiFAREREYNTGBARETE4hQER\nERGDUxgQMbiDBw/Sr18/7rzzTu68805Gjx7NzJkz+fzzz4N63LPvVBgM1dXVLF++PKjHEOkoFAZE\nhMsvv5xNmzaxadMmfvOb33DNNdcE/Z4U77//flD3/7e//Y3jx48H9RgiHYVuOiQiLZhMJjIzMxk2\nbBh79+6lrKyMN998E4/Hg91uZ/bs2Rw6dIjp06cTHx/PZ599Rvfu3Vm+fDmdO3dm3bp1bNq0idOn\nT2MymXj66ae59tprGTlyJElJSXz88cf+W2ZPnDiR0tJShg0bxogRI/jjH/9It27dcDqdFBYWcuTI\nEZ544gkGDx7MZ599xsKFCzl58iSdOnVi/vz59O3blzlz5mC1Wtm9ezdHjx5lxowZfO9732PFihWc\nOnWKZ599lunTp4f5rIpc3DQzICLniIqK4pprrmHv3r189NFHvPrqq7z22mscPXrUf8e6v/zlL0yZ\nMoUtW7Zw7bXXUlBQgNvt5u2336awsJDXX3+dUaNGUVRU5N9vamoqv/3tb1m4cCHw5b3f4ctbuH7n\nO9/xP3Hv7bffpqioiMzMTP9DeXJycpg9eza/+tWveOyxx8jKyvLv98iRIxQVFfHss8/y85//nLi4\nOGbOnMnIkSMVBEQCoJkBETkvk8nESy+9xIkTJxg/fjzw5ZMyu3fvTnJyMj169GDIkCHAl49zzc7O\nxmq1kpeXx5YtW9i/fz9/+MMf6NOnj3+f/fv3/4/H++qhWldddZX/oS7du3fniy++oL6+no8++ohH\nHnnE3//UqVPU1dUBXz4T3mQykZiYyMmTJ9v2RIgYgMKAiJyjqamJv//97wwZMoSxY8fy4x//GIAv\nvvgCs9lMXV2d/8lu8OVz4M1mM7W1tf77sqempnLZZZfx8ccf+/u19uS9sx+wZTabW7zm9XqJiopi\n06ZN/rYjR47QuXPnFvv96slxIvL1aJlARFrwer2sXLmS/v3788Mf/pBNmzZRX1/PmTNnmDFjhv8h\nNn//+9/9v+g3bNhAamoqf/7zn7nmmmuYOnUq/fv3p6ysDI/Hc97jmM1mzpw5E1BNNpuNHj16+MPA\ne++9d8Gne36d/YsYnWYGRIR//OMf/ie0eb1e+vTpQ15eHp07d2bv3r2kpaXh8XgYPnw4d911F4cO\nHeLSSy9lxYoV1NTUcP3117N48WJ8Ph/FxcWMGTOGqKgokpKS+Otf/3reY373u9/lzjvvZOPGjQHV\nuHz5chYuXMgvf/lLLBYLTz31VKszAUlJSRQUFPDkk0+SnZ399U+KiIHoqYUi8rUdPHiQyZMn8847\n74S7FBFpA1omEBERMTjNDIiIiBicZgZEREQMTmFARETE4BQGREREDE5hQERExOAUBkRERAxOYUBE\nRMTg/h+pSS7Cyw03tgAAAABJRU5ErkJggg==\n",
      "text/plain": [
       "<matplotlib.figure.Figure at 0x118778390>"
      ]
     },
     "metadata": {},
     "output_type": "display_data"
    }
   ],
   "source": [
    "sns.barplot(x=\"Department\", y=\"TotalPay\", data=sf)"
   ]
  },
  {
   "cell_type": "markdown",
   "metadata": {
    "deletable": true,
    "editable": true
   },
   "source": [
    "### ---------------------------- WORK ZONE --------------------------------"
   ]
  },
  {
   "cell_type": "code",
   "execution_count": 38,
   "metadata": {
    "collapsed": true
   },
   "outputs": [],
   "source": [
    "sf['FirstName'] = sf.EmployeeName.str.split(' ').str.get(0)"
   ]
  },
  {
   "cell_type": "code",
<<<<<<< Updated upstream
   "execution_count": 145,
   "metadata": {
    "collapsed": false,
    "deletable": true,
    "editable": true
   },
=======
   "execution_count": 39,
   "metadata": {},
>>>>>>> Stashed changes
   "outputs": [
    {
     "data": {
      "text/plain": [
       "5188"
      ]
     },
     "execution_count": 39,
     "metadata": {},
     "output_type": "execute_result"
    }
   ],
   "source": [
    "# There are 5188 unique names\n",
    "\n",
    "len(sf.FirstName.unique())"
   ]
  },
  {
   "cell_type": "code",
<<<<<<< Updated upstream
   "execution_count": 177,
   "metadata": {
    "collapsed": true,
    "deletable": true,
    "editable": true
   },
=======
   "execution_count": 40,
   "metadata": {},
>>>>>>> Stashed changes
   "outputs": [
    {
     "data": {
      "text/plain": [
       "['GARY',\n",
       " 'ALBERT',\n",
       " 'CHRISTOPHER',\n",
       " 'PATRICK',\n",
       " 'DAVID',\n",
       " 'ALSON',\n",
       " 'MICHAEL',\n",
       " 'ARTHUR',\n",
       " 'PATRICIA',\n",
       " 'RICHARD',\n",
       " 'SEBASTIAN',\n",
       " 'MARTY',\n",
       " 'ELLEN',\n",
       " 'JUDY',\n",
       " 'GEORGE',\n",
       " 'VICTOR',\n",
       " 'JOSEPH',\n",
       " 'JOHN',\n",
       " 'RAYMOND',\n",
       " 'JOSE',\n",
       " 'KHOA',\n",
       " 'JAMES',\n",
       " 'JONES',\n",
       " 'BRENDAN',\n",
       " 'THOMAS',\n",
       " 'BRYAN',\n",
       " 'KEN',\n",
       " 'KIRK',\n",
       " 'DARRYL',\n",
       " 'RAY',\n",
       " 'DOUGLAS',\n",
       " 'AI-KYUNG',\n",
       " 'KENNETH',\n",
       " 'ANNA',\n",
       " 'CHARLES',\n",
       " 'GREGORY',\n",
       " 'ROBERT',\n",
       " 'EDWARD',\n",
       " 'WING',\n",
       " 'LAWRENCE',\n",
       " 'ANTONIO',\n",
       " 'MARK',\n",
       " 'KEVIN',\n",
       " 'BERT',\n",
       " 'EDUARDO',\n",
       " 'LORRIE',\n",
       " 'JONATHAN',\n",
       " 'EVETTE',\n",
       " 'MARY',\n",
       " 'DONNA',\n",
       " 'PETE',\n",
       " 'REX',\n",
       " 'SARAH',\n",
       " 'ERIKA',\n",
       " 'LAUIFI',\n",
       " 'PATRIC',\n",
       " 'SAMSON',\n",
       " 'SCOTT',\n",
       " 'C',\n",
       " 'LISETTE',\n",
       " 'KHAIRUL',\n",
       " 'SHELLEY',\n",
       " 'SEAN',\n",
       " 'TYRONNE',\n",
       " 'SHARON',\n",
       " 'SHANNON',\n",
       " 'GLEN',\n",
       " 'EDMUND',\n",
       " 'WILLIAM',\n",
       " 'ZACHARY',\n",
       " 'LUIS',\n",
       " 'GERALD',\n",
       " 'DONNIE',\n",
       " 'ANTHONY',\n",
       " 'TIM',\n",
       " 'RASMI',\n",
       " 'MATTHEW',\n",
       " 'WHITNEY',\n",
       " 'STEVEN',\n",
       " 'EDGAR',\n",
       " 'L',\n",
       " 'HAROLD',\n",
       " 'KARL',\n",
       " 'OSCAR',\n",
       " 'MARTIEN',\n",
       " 'CARL',\n",
       " 'AMPARO',\n",
       " 'HARRY',\n",
       " 'ALBERTO',\n",
       " 'DWAYNE',\n",
       " 'LEON',\n",
       " 'DONALD',\n",
       " 'NATHAN',\n",
       " 'KIRSTEN',\n",
       " 'DENNIS',\n",
       " 'MARTIN',\n",
       " 'DARCY',\n",
       " 'SAMUEL',\n",
       " 'OLLIE',\n",
       " 'LORI',\n",
       " 'PIERRE',\n",
       " 'ROSELYN',\n",
       " 'TROY',\n",
       " 'EUGENE',\n",
       " 'BRIAN',\n",
       " 'PHILIP',\n",
       " 'TIMOTHY',\n",
       " 'CANTREZ',\n",
       " 'GERARDO',\n",
       " 'NOEL',\n",
       " 'ALAN',\n",
       " 'BARBARA',\n",
       " 'STEPHEN',\n",
       " 'SAM',\n",
       " 'BARRY',\n",
       " 'CLEMENTINO',\n",
       " 'RYAN',\n",
       " 'ARNOLD',\n",
       " 'MIKE',\n",
       " 'ANDREW',\n",
       " 'GLENN',\n",
       " 'TYRONE',\n",
       " 'BROOK',\n",
       " 'CHAD',\n",
       " 'KEITH',\n",
       " 'JESUS',\n",
       " 'FERNANDO',\n",
       " 'NELSON',\n",
       " 'ARNIE',\n",
       " 'MITCHELL',\n",
       " 'FERDINAND',\n",
       " 'NEREE',\n",
       " 'PERRY',\n",
       " 'MELISSA',\n",
       " 'FREDERICK',\n",
       " 'GUY',\n",
       " 'BERGLIOTH',\n",
       " 'GARRET',\n",
       " 'PAUL',\n",
       " 'PABLO',\n",
       " 'DANIEL',\n",
       " 'JIMMIE',\n",
       " 'JOSEPHINE',\n",
       " 'MORGAN',\n",
       " 'JOHNSON',\n",
       " 'BRODERICK',\n",
       " 'CLYDE',\n",
       " 'ALVIN',\n",
       " 'RUDY',\n",
       " 'JEFF',\n",
       " 'JENNIFER',\n",
       " 'ALEC',\n",
       " 'PETER',\n",
       " 'RONALD',\n",
       " 'RICKY',\n",
       " 'AMEN',\n",
       " 'RANDY',\n",
       " 'ERNEST',\n",
       " 'TERENCE',\n",
       " 'VALERIE',\n",
       " 'LAURENCE',\n",
       " 'JASON',\n",
       " 'MIKAIL',\n",
       " 'NICOLETTE',\n",
       " 'JIM',\n",
       " 'DUSTIN',\n",
       " 'KATHLEEN',\n",
       " 'CHARLIE',\n",
       " 'HANS',\n",
       " 'MAMI',\n",
       " 'JALAL',\n",
       " 'ANDY',\n",
       " 'ERIC',\n",
       " 'VINCENT',\n",
       " 'ALEXIS',\n",
       " 'ATTICA',\n",
       " 'EHRHARDT',\n",
       " 'DALE',\n",
       " 'LEONARD',\n",
       " 'SAHIR',\n",
       " 'DENISE',\n",
       " 'ANNETTE',\n",
       " 'CHUTEH',\n",
       " 'RAEMONA',\n",
       " 'JEFFREY',\n",
       " 'ERIBERTO',\n",
       " 'VERNONICA',\n",
       " 'LARRY',\n",
       " 'CARLOS',\n",
       " 'JOSHUA',\n",
       " 'MANUEL',\n",
       " 'DAMON',\n",
       " 'HERBERT',\n",
       " 'DEREK',\n",
       " 'TONEY',\n",
       " 'RUDOLPH',\n",
       " 'GAVIN',\n",
       " 'ANDRE',\n",
       " 'FLOYD',\n",
       " 'NICHOLAS',\n",
       " 'DONALDSON',\n",
       " 'LYN',\n",
       " 'ROSE',\n",
       " 'RAUL',\n",
       " 'NICOL',\n",
       " 'MAGALY',\n",
       " 'JACK',\n",
       " 'JULIO',\n",
       " 'FRANK',\n",
       " 'DERIO',\n",
       " 'ALEXANDER',\n",
       " 'NEIL',\n",
       " 'DENIS',\n",
       " 'DARREN',\n",
       " 'LENETTE',\n",
       " 'MELANY',\n",
       " 'LOURDES',\n",
       " 'DERRICK',\n",
       " 'DWIGHT',\n",
       " 'VERNON',\n",
       " 'ABDUL',\n",
       " 'RAFAEL',\n",
       " 'RUBEN',\n",
       " 'RAYCARDO',\n",
       " 'CHERISH',\n",
       " 'LARS',\n",
       " 'VITANI',\n",
       " 'JORGE',\n",
       " 'RAMON',\n",
       " 'ANESTO',\n",
       " 'JON',\n",
       " 'JANET',\n",
       " 'JULIANO',\n",
       " 'MALCOLM',\n",
       " 'ORLANDO',\n",
       " 'ALEXANDRA',\n",
       " 'STEWART',\n",
       " 'ROHAN',\n",
       " 'GIN',\n",
       " 'HENRY',\n",
       " 'JULIAN',\n",
       " 'ROMELIA',\n",
       " 'MILTON',\n",
       " 'AARON',\n",
       " 'PEI',\n",
       " 'BIENVENIDO',\n",
       " 'CALVIN',\n",
       " 'JESSE',\n",
       " 'WALTER',\n",
       " 'AUGUSTINE',\n",
       " 'SARA',\n",
       " 'CHRISTINE',\n",
       " 'NORMAN',\n",
       " 'LORENZO',\n",
       " 'WAYMEN',\n",
       " 'ERICK',\n",
       " 'ELISABETH',\n",
       " 'GIANRICO',\n",
       " 'EDDY',\n",
       " 'GARRETT',\n",
       " 'JOEL',\n",
       " 'TODD',\n",
       " 'TERRY',\n",
       " 'BRUCE',\n",
       " 'MEIR',\n",
       " 'NIELS',\n",
       " 'ANTENOR',\n",
       " 'DAVEY',\n",
       " 'MARC',\n",
       " 'TWYILA',\n",
       " 'CLIFFORD',\n",
       " 'MARIO',\n",
       " 'SIMON',\n",
       " 'FRANCO',\n",
       " 'KURT',\n",
       " 'ROMEO',\n",
       " 'LISA',\n",
       " 'SANDRA',\n",
       " 'HEINZ',\n",
       " 'CLAUDIA',\n",
       " 'PAMELA',\n",
       " 'MAXWELL',\n",
       " 'SPENCER',\n",
       " 'THERESE',\n",
       " 'ELLIZA',\n",
       " 'MICHELE',\n",
       " 'MANJIT',\n",
       " 'HUE',\n",
       " 'DIEN',\n",
       " 'JERRY',\n",
       " 'JOYCE',\n",
       " 'VAGN',\n",
       " 'MOISA',\n",
       " 'STANLEY',\n",
       " 'ANNE',\n",
       " 'ETHAN',\n",
       " 'CHRISTIAN',\n",
       " 'DEAN',\n",
       " 'BOAZ',\n",
       " 'PREM',\n",
       " 'CLINTON',\n",
       " 'KAEO',\n",
       " 'JEANINE',\n",
       " 'JAMIE',\n",
       " 'TRACY',\n",
       " 'ART',\n",
       " 'ALFREDO',\n",
       " 'GABRIEL',\n",
       " 'PEIYUE',\n",
       " 'CAROL',\n",
       " 'LOUIS',\n",
       " 'DAMEN',\n",
       " 'YUSUFU',\n",
       " 'RANDALL',\n",
       " 'CONRAD',\n",
       " 'BRIEN',\n",
       " 'JESSICA',\n",
       " 'LLOYD',\n",
       " 'YOUNG',\n",
       " 'ROLAND',\n",
       " 'ELYSE',\n",
       " 'AISHA',\n",
       " 'RICARDO',\n",
       " 'BERNARD',\n",
       " 'BRIDGET',\n",
       " 'HOWARD',\n",
       " 'G',\n",
       " 'ANA',\n",
       " 'PING',\n",
       " 'JIA',\n",
       " 'PHYLLIS',\n",
       " 'JAY',\n",
       " 'DESMOND',\n",
       " 'CHASE',\n",
       " 'TYSON',\n",
       " 'NANCY',\n",
       " 'SABRINA',\n",
       " 'VIVIAN',\n",
       " 'ALLEN',\n",
       " 'HOYT',\n",
       " 'DIANE',\n",
       " 'JEAN',\n",
       " 'SOLA',\n",
       " 'LIZA',\n",
       " 'DUANE',\n",
       " 'IP',\n",
       " 'ROGER',\n",
       " 'ERIK',\n",
       " 'LIAM',\n",
       " 'KENWADE',\n",
       " 'JA',\n",
       " 'K',\n",
       " 'MAURA',\n",
       " 'STEPHANIE',\n",
       " 'EILEEN',\n",
       " 'JANEEN',\n",
       " 'KELLY',\n",
       " 'WARREN',\n",
       " 'TOM',\n",
       " 'SHELIA',\n",
       " 'CHEUNG',\n",
       " 'VICENTE',\n",
       " 'SHAYNE',\n",
       " 'SAMMY',\n",
       " 'JOO-HAN',\n",
       " 'ANITA',\n",
       " 'ROWLAND',\n",
       " 'BRIGID',\n",
       " 'NASH',\n",
       " 'BROCK',\n",
       " 'RODRIGO',\n",
       " 'BRANDON',\n",
       " 'HECTOR',\n",
       " 'GRACE',\n",
       " 'MIGUEL',\n",
       " 'VIOLETA',\n",
       " 'NIKKI',\n",
       " 'JODY',\n",
       " 'KAREN',\n",
       " 'DION',\n",
       " 'MARIA',\n",
       " 'TRENIA',\n",
       " 'FRANCIS',\n",
       " 'MICHELLE',\n",
       " 'NELIA',\n",
       " 'EVELYN',\n",
       " 'FRANKLIN',\n",
       " 'CLAUDIO',\n",
       " 'ALEX',\n",
       " 'SUSAN',\n",
       " 'GAIL',\n",
       " 'MARYANNE',\n",
       " 'JULIE',\n",
       " 'DOMINIC',\n",
       " 'DARIUS',\n",
       " 'GAETANO',\n",
       " 'HSINMEI',\n",
       " 'CORNELIUS',\n",
       " 'NEAL',\n",
       " 'BETH',\n",
       " 'SHON',\n",
       " 'RICCI',\n",
       " 'ANTRON',\n",
       " 'DANTE',\n",
       " 'REY',\n",
       " 'YOLANDA',\n",
       " 'THERESA',\n",
       " 'SIULAGI',\n",
       " 'MEGHAN',\n",
       " 'RUTH',\n",
       " 'ARMANDO',\n",
       " 'JIRO',\n",
       " 'LOPE',\n",
       " 'TONII',\n",
       " 'MELCHOR',\n",
       " 'COLLEEN',\n",
       " 'CHRIS',\n",
       " 'RAVINDER',\n",
       " 'STEVE',\n",
       " 'ADRIENNE',\n",
       " 'JEREMY',\n",
       " 'KYLE',\n",
       " 'ARLIN',\n",
       " 'LORGE',\n",
       " 'NARDA',\n",
       " 'J',\n",
       " 'CHANH',\n",
       " 'MARSHELL',\n",
       " 'LEONARDO',\n",
       " 'SALVATORE',\n",
       " 'TINA',\n",
       " 'EDDIE',\n",
       " 'CLIFF',\n",
       " 'ALLYN',\n",
       " 'MARTHA',\n",
       " 'CATHERINE',\n",
       " 'REGINA',\n",
       " 'ANGELA',\n",
       " 'MARGARITA',\n",
       " 'SUK',\n",
       " 'BRETT',\n",
       " 'JOE',\n",
       " 'LUCRETIA',\n",
       " 'LUKE',\n",
       " 'ALEJANDRO',\n",
       " 'MARINA',\n",
       " 'GLORIA',\n",
       " 'RENE',\n",
       " 'CELERINA',\n",
       " 'DORETHA',\n",
       " 'CARMELO',\n",
       " 'MAURICE',\n",
       " 'DINO',\n",
       " 'STEVIE',\n",
       " 'AL',\n",
       " 'HARALD',\n",
       " 'MAUNG',\n",
       " 'JOELLE',\n",
       " 'HUGH',\n",
       " 'JULIA',\n",
       " 'TERESITA',\n",
       " 'PHAT',\n",
       " 'VIEN',\n",
       " 'MIKAEL',\n",
       " 'LANAIR',\n",
       " 'CRISTEO',\n",
       " 'REUBEN',\n",
       " 'SYLVIA',\n",
       " 'RICK',\n",
       " 'ELAINE',\n",
       " 'JORDAN',\n",
       " 'DANIELLE',\n",
       " 'KATHRYN',\n",
       " 'JARED',\n",
       " 'MILANDA',\n",
       " 'ERLINDA',\n",
       " 'BELINDA',\n",
       " 'MARCO',\n",
       " 'NAM',\n",
       " 'DOMENICO',\n",
       " 'MARCUS',\n",
       " 'GREG',\n",
       " 'HENDRYCK',\n",
       " 'JOAN',\n",
       " 'WAYMAN',\n",
       " 'JESSIE',\n",
       " 'MIRIAM',\n",
       " 'CRAIG',\n",
       " 'CLIFTON',\n",
       " 'LAURA',\n",
       " 'PAULINE',\n",
       " 'TAMI',\n",
       " 'HEATH',\n",
       " 'MARIBETH',\n",
       " 'LUISITO',\n",
       " 'TERESA',\n",
       " 'RAJ',\n",
       " 'DAISY',\n",
       " 'STUART',\n",
       " 'KJELL',\n",
       " 'MARISSA',\n",
       " 'SETH',\n",
       " 'SHAWN',\n",
       " 'MATHEW',\n",
       " 'BENSON',\n",
       " 'MINERVA',\n",
       " 'CAROLINE',\n",
       " 'ESTHER',\n",
       " 'CARLEY',\n",
       " 'ROSEMARIE',\n",
       " 'NATASHA',\n",
       " 'CINTIA',\n",
       " 'KERVIN',\n",
       " 'EDGARDO',\n",
       " 'GIDEON',\n",
       " 'PIUS',\n",
       " 'GEOFFREY',\n",
       " 'BRUNO',\n",
       " 'GILLIAN',\n",
       " 'RICARDA',\n",
       " 'KENDRICK',\n",
       " 'NOAH',\n",
       " 'RENOTA',\n",
       " 'MAURO',\n",
       " 'HOLLY',\n",
       " 'MAY',\n",
       " 'PILAR',\n",
       " 'SIDNEY',\n",
       " 'ROBERTO',\n",
       " 'STEPHAN',\n",
       " 'OFELIA',\n",
       " 'VICTORIA',\n",
       " 'LAM',\n",
       " 'ZENAIDA',\n",
       " 'EDWIN',\n",
       " 'ALANNA',\n",
       " 'GENELL',\n",
       " 'BRICE',\n",
       " 'SHOU',\n",
       " 'AMY',\n",
       " 'DAWN',\n",
       " 'ROSIE',\n",
       " 'GEORGIA',\n",
       " 'HEATHER',\n",
       " 'EDDIEBERTO',\n",
       " 'BARRETT',\n",
       " 'CHEE',\n",
       " 'FELIX',\n",
       " 'MOLLY',\n",
       " 'RACHEL',\n",
       " 'SHIRLEY',\n",
       " 'ANGELO',\n",
       " 'KATHERINE',\n",
       " 'ROLLY',\n",
       " 'BRENT',\n",
       " 'AVA',\n",
       " 'VERE',\n",
       " 'JIMMY',\n",
       " 'KIMBERLY',\n",
       " 'KIM',\n",
       " 'CYNTHIA',\n",
       " 'HEIDI',\n",
       " 'WAYNE',\n",
       " 'BRADFORD',\n",
       " 'FELICIA',\n",
       " 'MEGAN',\n",
       " 'HANSJUERG',\n",
       " 'YOON',\n",
       " 'KYRA',\n",
       " 'MARILOU',\n",
       " 'JEFFERY',\n",
       " 'JUSTIN',\n",
       " 'BENNY',\n",
       " 'LOK',\n",
       " 'BRITT',\n",
       " 'GIL',\n",
       " 'SHAUGHN',\n",
       " 'BILL',\n",
       " 'LEWIS',\n",
       " 'FABIAN',\n",
       " 'GLICERIA',\n",
       " 'JOCELYN',\n",
       " 'JESUSA',\n",
       " 'ANSON',\n",
       " 'FLORENCE',\n",
       " 'MARTA',\n",
       " 'RAQUEL',\n",
       " 'LAMAR',\n",
       " 'BLESILDA',\n",
       " 'DEBORAH',\n",
       " 'JOSEY',\n",
       " 'NHON-TUAN',\n",
       " 'TAKAFUMI',\n",
       " 'LAVERNE',\n",
       " 'HONG',\n",
       " 'MERCEDITAS',\n",
       " 'DERMOT',\n",
       " 'GORDON',\n",
       " 'ANKA-YUEN',\n",
       " 'KINNIE',\n",
       " 'NICOLE',\n",
       " 'MAGDALENA',\n",
       " 'DONYALE',\n",
       " 'GARRETH',\n",
       " 'KENNICE',\n",
       " 'WALLACE',\n",
       " 'MARRIALEE',\n",
       " 'ARLINE',\n",
       " 'THACH',\n",
       " 'ELSA',\n",
       " 'CHUCK',\n",
       " 'CRISTINA',\n",
       " 'MARCIAL',\n",
       " 'EMMANUEL',\n",
       " 'IVAN',\n",
       " 'ERICA',\n",
       " 'JAMESON',\n",
       " 'JOSELITO',\n",
       " 'CESAR',\n",
       " 'TADAO',\n",
       " 'RIGOBERTO',\n",
       " 'VILLAMOR',\n",
       " 'MARICELA',\n",
       " 'JUAN',\n",
       " 'ANTON',\n",
       " 'PHILLIP',\n",
       " 'DARRIN',\n",
       " 'OMAR',\n",
       " 'MELVIN',\n",
       " 'LEAH',\n",
       " 'DARRELL',\n",
       " 'BARTHOLOMEW',\n",
       " 'MARIONETTE',\n",
       " 'BENG',\n",
       " 'ELISHA',\n",
       " 'LUCIO',\n",
       " 'TAMMY',\n",
       " 'ROSEMARY',\n",
       " 'KATHY',\n",
       " 'BELEN',\n",
       " 'ADAM',\n",
       " 'KHAE',\n",
       " 'YVONNE',\n",
       " 'LYNN',\n",
       " 'BOBBY',\n",
       " 'LESLIE',\n",
       " 'ALICIA',\n",
       " 'CURTIS',\n",
       " 'EIGIL',\n",
       " 'ALVARO',\n",
       " 'DEBBIE',\n",
       " 'BEN',\n",
       " 'DARYL',\n",
       " 'LEE',\n",
       " 'RONAN',\n",
       " 'SALLY',\n",
       " 'CHUWEI',\n",
       " 'UWEM',\n",
       " 'FITZGERALD',\n",
       " 'JUSTINA',\n",
       " 'EMMON',\n",
       " 'JULIUS',\n",
       " 'KOK',\n",
       " 'NELLY',\n",
       " 'WILFREDO',\n",
       " 'REESE',\n",
       " 'JIHYEON',\n",
       " 'CELSA',\n",
       " 'IAN',\n",
       " 'SHANON',\n",
       " 'ANGEL',\n",
       " 'EVANGELINE',\n",
       " 'ANADELIA',\n",
       " 'LYLE',\n",
       " 'VICENTA',\n",
       " 'ANN',\n",
       " 'ROSARIO',\n",
       " 'RALPH',\n",
       " 'FELICIDAD',\n",
       " 'PASCAL',\n",
       " 'BENJAMIN',\n",
       " 'SOCRATES',\n",
       " 'KRISTIN',\n",
       " 'MERCEDES',\n",
       " 'ROWENA',\n",
       " 'ROSHAWN',\n",
       " 'GODFREY',\n",
       " 'DAMIEN',\n",
       " 'DONNY',\n",
       " 'MONICA',\n",
       " 'MYUNG',\n",
       " 'WAI',\n",
       " 'EDITA',\n",
       " 'MARILYN',\n",
       " 'PUREZA',\n",
       " 'EDEN',\n",
       " 'RUSSELL',\n",
       " 'LENIN',\n",
       " 'CHADWICK',\n",
       " 'CECILIA',\n",
       " 'ANGELINA',\n",
       " 'KRYSTLE',\n",
       " 'ROSELO',\n",
       " 'THEODORE',\n",
       " 'MARCIEL',\n",
       " 'SHANE',\n",
       " 'MARILA',\n",
       " 'BOB',\n",
       " 'TOMIE',\n",
       " 'CHESTER',\n",
       " 'KERBY',\n",
       " 'BENITO',\n",
       " 'RENATO',\n",
       " 'CECILIO',\n",
       " 'BASSEY',\n",
       " 'MILEN',\n",
       " 'JUDITH',\n",
       " 'SERGIO',\n",
       " 'CLINT',\n",
       " 'SHERMAN',\n",
       " 'SALVADOR',\n",
       " 'GRANVILLE',\n",
       " 'CHERISSE',\n",
       " 'ALBERN',\n",
       " 'SONIA',\n",
       " 'RUSSEL',\n",
       " 'MICHIE',\n",
       " 'REXIE',\n",
       " 'NATHANIEL',\n",
       " 'UNA',\n",
       " 'KATHRINE',\n",
       " 'EUGENIO',\n",
       " 'WENDY',\n",
       " 'REBECCA',\n",
       " 'JEREMIAH',\n",
       " 'THORIN',\n",
       " 'JAKE',\n",
       " 'NATALIE',\n",
       " 'JANETTE',\n",
       " 'SOPHAL',\n",
       " 'HERMAN',\n",
       " 'TONY',\n",
       " 'FREEMAN',\n",
       " 'ERMELINA',\n",
       " 'ROD',\n",
       " 'R',\n",
       " 'BEVERLY',\n",
       " 'PARIS',\n",
       " 'ANGUS',\n",
       " 'RUFINA',\n",
       " 'ZHEN',\n",
       " 'GIUSEPPE',\n",
       " 'BELENA',\n",
       " 'H',\n",
       " 'GERARD',\n",
       " 'MARIBEL',\n",
       " 'WILFRED',\n",
       " 'IHEOMA',\n",
       " 'ADRIANO',\n",
       " 'EDBERT',\n",
       " 'MARIFE',\n",
       " 'PURIFICACION',\n",
       " 'EVAN',\n",
       " 'LINDA',\n",
       " 'OCTAVIO-JAME',\n",
       " 'SHUI',\n",
       " 'CONNIE',\n",
       " 'ANDI',\n",
       " 'GIAN',\n",
       " 'YONG',\n",
       " 'FELISA',\n",
       " 'MONTGOMERY',\n",
       " 'SOLITA',\n",
       " 'VIRGINIA',\n",
       " 'ROBYN',\n",
       " 'QIAOLAN',\n",
       " 'HUCKLEBERRY',\n",
       " 'KWAI',\n",
       " 'KRISTA',\n",
       " 'ALLAN',\n",
       " 'BABE',\n",
       " 'ROBIN',\n",
       " 'ALFRED',\n",
       " 'BESILDA',\n",
       " 'SOPHIA',\n",
       " 'ALI',\n",
       " 'AUDREY',\n",
       " 'LIN',\n",
       " 'SAL',\n",
       " 'KENG',\n",
       " 'ALEXA',\n",
       " 'KELVIN',\n",
       " 'FRANCES',\n",
       " 'MARTI',\n",
       " 'GUILLERMO',\n",
       " 'LAVANTE',\n",
       " 'HAEJU',\n",
       " 'MELONEE',\n",
       " 'ELIZABETH',\n",
       " 'ELMEN',\n",
       " 'AILEEN',\n",
       " 'WILLA',\n",
       " 'LEO',\n",
       " 'MAUREEN',\n",
       " 'JACOB',\n",
       " 'JAIME',\n",
       " 'HUBERT',\n",
       " 'EMIL',\n",
       " 'OSMUNDO',\n",
       " 'MARINO',\n",
       " 'COLM',\n",
       " 'IMELDA',\n",
       " 'LONG',\n",
       " 'ANNIE',\n",
       " 'MARCIA',\n",
       " 'ARRAN',\n",
       " 'NOREEN',\n",
       " 'MYRNA',\n",
       " 'KAM',\n",
       " 'DAT',\n",
       " 'NORA',\n",
       " 'HUONG',\n",
       " 'VICKI',\n",
       " 'ARCELI',\n",
       " 'MARIFI',\n",
       " 'ROEL',\n",
       " 'YVETTE',\n",
       " 'ROMULO',\n",
       " 'RONIE',\n",
       " 'CONSUELO',\n",
       " 'CHRISTINA',\n",
       " 'JAYME',\n",
       " 'ESTELA',\n",
       " 'COREY',\n",
       " 'MILAGROS',\n",
       " 'LIZELLE',\n",
       " 'MARIANO',\n",
       " 'DENISHA',\n",
       " 'ALISON',\n",
       " 'MURRAY',\n",
       " 'SOCORRO',\n",
       " 'LANCE',\n",
       " 'HUAN',\n",
       " 'LEONEL',\n",
       " 'DANNY',\n",
       " 'NANCIE',\n",
       " 'FRANCISCO',\n",
       " 'ARIEH',\n",
       " 'ARTURO',\n",
       " 'SABINE',\n",
       " 'DELOS',\n",
       " 'LEROY',\n",
       " 'CAROLINO',\n",
       " 'DARLA',\n",
       " 'IGNATIUS',\n",
       " 'KAY',\n",
       " 'LIANE',\n",
       " 'TAIRA',\n",
       " 'PEDRO',\n",
       " 'LAIN',\n",
       " 'KUNTHEA',\n",
       " 'PRIVADO',\n",
       " 'CULLEN',\n",
       " 'RON',\n",
       " 'MATILDE',\n",
       " 'ERIN',\n",
       " 'CLARENCE',\n",
       " 'ARAM',\n",
       " 'PAGET',\n",
       " 'ELSIE',\n",
       " 'MEE-LOI',\n",
       " 'CAN',\n",
       " 'AMADOR',\n",
       " 'JANICE',\n",
       " 'SEERANEE',\n",
       " 'ARLISA',\n",
       " 'LAUREN',\n",
       " 'BIRHANU',\n",
       " 'KAN',\n",
       " 'MANNY',\n",
       " 'RICA',\n",
       " 'EMELITA',\n",
       " 'CLEOTILDE',\n",
       " 'MA',\n",
       " 'SERAFIN',\n",
       " 'THIP',\n",
       " 'ANTONIETA',\n",
       " 'JASSEN',\n",
       " 'ERNA',\n",
       " 'JAMALA',\n",
       " 'LORRAINE',\n",
       " 'SISINIA',\n",
       " 'WAYLEN',\n",
       " 'KITT',\n",
       " 'FIDELITA',\n",
       " 'PARVEEN',\n",
       " 'TOMMY',\n",
       " 'NELLIE',\n",
       " 'TREVOR',\n",
       " 'SIRINIRUNDOR',\n",
       " 'BELLA',\n",
       " 'NOIME',\n",
       " 'RODNEY',\n",
       " 'REGINALD',\n",
       " 'VAL',\n",
       " 'EDRIC',\n",
       " 'ROLANDO',\n",
       " 'GILBERT',\n",
       " 'DUNCAN',\n",
       " 'HUMBERTO',\n",
       " 'YU-RUO',\n",
       " 'FIDEL',\n",
       " 'SHANTE',\n",
       " 'HONESTO',\n",
       " 'CEZAR',\n",
       " 'TILAFAIGA',\n",
       " 'SHAWNE',\n",
       " 'OSBALDO',\n",
       " 'JEANNE',\n",
       " 'CHIU',\n",
       " 'BRENDA',\n",
       " 'HELEN',\n",
       " 'RUBY',\n",
       " 'SAGIV',\n",
       " 'REYNALDO',\n",
       " 'WINILYN',\n",
       " 'LIE',\n",
       " 'WILMA',\n",
       " 'JOHNATHAN',\n",
       " 'CARMELITA',\n",
       " 'BUD',\n",
       " 'STACY',\n",
       " 'LEONOR',\n",
       " 'SUZANA',\n",
       " 'CHAIGNE',\n",
       " 'YUKIO',\n",
       " 'MOHAMMAD',\n",
       " 'IRENE',\n",
       " 'JENNY',\n",
       " 'KRISTIANE',\n",
       " 'ELMER',\n",
       " 'DAMIAN',\n",
       " 'JANE',\n",
       " 'MARIABENE',\n",
       " 'ROSALYN',\n",
       " 'MARIE',\n",
       " 'KIRT',\n",
       " 'CARLA',\n",
       " 'TRACE',\n",
       " 'GENEVIEVE',\n",
       " 'PRISCILLA',\n",
       " 'CAROLE',\n",
       " 'SANJAY',\n",
       " 'RODERICK',\n",
       " 'FU-KI',\n",
       " 'RONDAA',\n",
       " 'CRISELDA',\n",
       " 'PURITA',\n",
       " 'GAYLORD',\n",
       " 'MACARIA',\n",
       " 'CARY',\n",
       " 'ALARIC',\n",
       " 'RACHAEL',\n",
       " 'KENNY',\n",
       " 'STELLA',\n",
       " 'SANTIAGO',\n",
       " 'DERICK',\n",
       " 'M',\n",
       " 'HING',\n",
       " 'MARIALUZ',\n",
       " 'BEGONIA',\n",
       " 'MOLI',\n",
       " 'WINNETTE',\n",
       " 'TERRENCE',\n",
       " 'ERNESTO',\n",
       " 'HAN',\n",
       " 'NIMFA',\n",
       " 'MYRON',\n",
       " 'WAYLAND',\n",
       " 'CONROY',\n",
       " 'MYRA',\n",
       " 'JEROME',\n",
       " 'OCEAN',\n",
       " 'ANDREA',\n",
       " 'LIANA',\n",
       " 'CHINLI',\n",
       " 'MAHMOOD',\n",
       " 'EDER',\n",
       " 'ALDO',\n",
       " 'MARVIN',\n",
       " 'EDMOND',\n",
       " 'PERCY',\n",
       " 'AVELINO',\n",
       " 'MOSES',\n",
       " 'ELI',\n",
       " 'RENITA',\n",
       " 'FLORA',\n",
       " 'LESTER',\n",
       " 'PANHIA',\n",
       " 'CARMEL',\n",
       " ...]"
      ]
     },
     "execution_count": 40,
     "metadata": {},
     "output_type": "execute_result"
    }
   ],
   "source": [
    "### Learned how to make a list out of a pd.Series\n",
    "\n",
    "sf.FirstName.unique().tolist()"
   ]
  },
  {
   "cell_type": "code",
   "execution_count": 50,
   "metadata": {},
   "outputs": [
    {
     "ename": "AttributeError",
     "evalue": "'str' object has no attribute 'decode'",
     "output_type": "error",
     "traceback": [
      "\u001b[0;31m---------------------------------------------------------------------------\u001b[0m",
      "\u001b[0;31mAttributeError\u001b[0m                            Traceback (most recent call last)",
      "\u001b[0;32m<ipython-input-50-1c9595d62f13>\u001b[0m in \u001b[0;36m<module>\u001b[0;34m()\u001b[0m\n\u001b[0;32m----> 1\u001b[0;31m \u001b[0md\u001b[0m \u001b[0;34m=\u001b[0m \u001b[0mgender\u001b[0m\u001b[0;34m.\u001b[0m\u001b[0mDetector\u001b[0m\u001b[0;34m(\u001b[0m\u001b[0mcase_sensitive\u001b[0m\u001b[0;34m=\u001b[0m\u001b[0;32mFalse\u001b[0m\u001b[0;34m)\u001b[0m\u001b[0;34m\u001b[0m\u001b[0m\n\u001b[0m\u001b[1;32m      2\u001b[0m \u001b[0;31m# gender.Detector.get_gender(u\"Bob\")\u001b[0m\u001b[0;34m\u001b[0m\u001b[0;34m\u001b[0m\u001b[0m\n",
      "\u001b[0;32m/Users/ababen/anaconda/lib/python3.6/site-packages/sexmachine/detector.py\u001b[0m in \u001b[0;36m__init__\u001b[0;34m(self, case_sensitive, unknown_value)\u001b[0m\n\u001b[1;32m     29\u001b[0m         \u001b[0mself\u001b[0m\u001b[0;34m.\u001b[0m\u001b[0mcase_sensitive\u001b[0m \u001b[0;34m=\u001b[0m \u001b[0mcase_sensitive\u001b[0m\u001b[0;34m\u001b[0m\u001b[0m\n\u001b[1;32m     30\u001b[0m         \u001b[0mself\u001b[0m\u001b[0;34m.\u001b[0m\u001b[0munknown_value\u001b[0m \u001b[0;34m=\u001b[0m \u001b[0munknown_value\u001b[0m\u001b[0;34m\u001b[0m\u001b[0m\n\u001b[0;32m---> 31\u001b[0;31m         \u001b[0mself\u001b[0m\u001b[0;34m.\u001b[0m\u001b[0m_parse\u001b[0m\u001b[0;34m(\u001b[0m\u001b[0mos\u001b[0m\u001b[0;34m.\u001b[0m\u001b[0mpath\u001b[0m\u001b[0;34m.\u001b[0m\u001b[0mjoin\u001b[0m\u001b[0;34m(\u001b[0m\u001b[0mos\u001b[0m\u001b[0;34m.\u001b[0m\u001b[0mpath\u001b[0m\u001b[0;34m.\u001b[0m\u001b[0mdirname\u001b[0m\u001b[0;34m(\u001b[0m\u001b[0m__file__\u001b[0m\u001b[0;34m)\u001b[0m\u001b[0;34m,\u001b[0m \u001b[0;34m\"data/nam_dict.txt\"\u001b[0m\u001b[0;34m)\u001b[0m\u001b[0;34m)\u001b[0m\u001b[0;34m\u001b[0m\u001b[0m\n\u001b[0m\u001b[1;32m     32\u001b[0m \u001b[0;34m\u001b[0m\u001b[0m\n\u001b[1;32m     33\u001b[0m     \u001b[0;32mdef\u001b[0m \u001b[0m_parse\u001b[0m\u001b[0;34m(\u001b[0m\u001b[0mself\u001b[0m\u001b[0;34m,\u001b[0m \u001b[0mfilename\u001b[0m\u001b[0;34m)\u001b[0m\u001b[0;34m:\u001b[0m\u001b[0;34m\u001b[0m\u001b[0m\n",
      "\u001b[0;32m/Users/ababen/anaconda/lib/python3.6/site-packages/sexmachine/detector.py\u001b[0m in \u001b[0;36m_parse\u001b[0;34m(self, filename)\u001b[0m\n\u001b[1;32m     38\u001b[0m                 \u001b[0;32mif\u001b[0m \u001b[0many\u001b[0m\u001b[0;34m(\u001b[0m\u001b[0mmap\u001b[0m\u001b[0;34m(\u001b[0m\u001b[0;32mlambda\u001b[0m \u001b[0mc\u001b[0m\u001b[0;34m:\u001b[0m \u001b[0;36m128\u001b[0m \u001b[0;34m<\u001b[0m \u001b[0mord\u001b[0m\u001b[0;34m(\u001b[0m\u001b[0mc\u001b[0m\u001b[0;34m)\u001b[0m \u001b[0;34m<\u001b[0m \u001b[0;36m160\u001b[0m\u001b[0;34m,\u001b[0m \u001b[0mline\u001b[0m\u001b[0;34m)\u001b[0m\u001b[0;34m)\u001b[0m\u001b[0;34m:\u001b[0m\u001b[0;34m\u001b[0m\u001b[0m\n\u001b[1;32m     39\u001b[0m                     \u001b[0mline\u001b[0m \u001b[0;34m=\u001b[0m \u001b[0mline\u001b[0m\u001b[0;34m.\u001b[0m\u001b[0mencode\u001b[0m\u001b[0;34m(\u001b[0m\u001b[0;34m\"iso8859-1\"\u001b[0m\u001b[0;34m)\u001b[0m\u001b[0;34m.\u001b[0m\u001b[0mdecode\u001b[0m\u001b[0;34m(\u001b[0m\u001b[0;34m\"windows-1252\"\u001b[0m\u001b[0;34m)\u001b[0m\u001b[0;34m\u001b[0m\u001b[0m\n\u001b[0;32m---> 40\u001b[0;31m                 \u001b[0mself\u001b[0m\u001b[0;34m.\u001b[0m\u001b[0m_eat_name_line\u001b[0m\u001b[0;34m(\u001b[0m\u001b[0mline\u001b[0m\u001b[0;34m.\u001b[0m\u001b[0mstrip\u001b[0m\u001b[0;34m(\u001b[0m\u001b[0;34m)\u001b[0m\u001b[0;34m)\u001b[0m\u001b[0;34m\u001b[0m\u001b[0m\n\u001b[0m\u001b[1;32m     41\u001b[0m \u001b[0;34m\u001b[0m\u001b[0m\n\u001b[1;32m     42\u001b[0m     \u001b[0;32mdef\u001b[0m \u001b[0m_eat_name_line\u001b[0m\u001b[0;34m(\u001b[0m\u001b[0mself\u001b[0m\u001b[0;34m,\u001b[0m \u001b[0mline\u001b[0m\u001b[0;34m)\u001b[0m\u001b[0;34m:\u001b[0m\u001b[0;34m\u001b[0m\u001b[0m\n",
      "\u001b[0;32m/Users/ababen/anaconda/lib/python3.6/site-packages/sexmachine/detector.py\u001b[0m in \u001b[0;36m_eat_name_line\u001b[0;34m(self, line)\u001b[0m\n\u001b[1;32m     45\u001b[0m             \u001b[0mparts\u001b[0m \u001b[0;34m=\u001b[0m \u001b[0mline\u001b[0m\u001b[0;34m.\u001b[0m\u001b[0msplit\u001b[0m\u001b[0;34m(\u001b[0m\u001b[0;34m)\u001b[0m\u001b[0;34m\u001b[0m\u001b[0m\n\u001b[1;32m     46\u001b[0m             \u001b[0mcountry_values\u001b[0m \u001b[0;34m=\u001b[0m \u001b[0mline\u001b[0m\u001b[0;34m[\u001b[0m\u001b[0;36m30\u001b[0m\u001b[0;34m:\u001b[0m\u001b[0;34m-\u001b[0m\u001b[0;36m1\u001b[0m\u001b[0;34m]\u001b[0m\u001b[0;34m\u001b[0m\u001b[0m\n\u001b[0;32m---> 47\u001b[0;31m             \u001b[0mname\u001b[0m \u001b[0;34m=\u001b[0m \u001b[0mmap_name\u001b[0m\u001b[0;34m(\u001b[0m\u001b[0mparts\u001b[0m\u001b[0;34m[\u001b[0m\u001b[0;36m1\u001b[0m\u001b[0;34m]\u001b[0m\u001b[0;34m)\u001b[0m\u001b[0;34m\u001b[0m\u001b[0m\n\u001b[0m\u001b[1;32m     48\u001b[0m             \u001b[0;32mif\u001b[0m \u001b[0;32mnot\u001b[0m \u001b[0mself\u001b[0m\u001b[0;34m.\u001b[0m\u001b[0mcase_sensitive\u001b[0m\u001b[0;34m:\u001b[0m\u001b[0;34m\u001b[0m\u001b[0m\n\u001b[1;32m     49\u001b[0m                 \u001b[0mname\u001b[0m \u001b[0;34m=\u001b[0m \u001b[0mname\u001b[0m\u001b[0;34m.\u001b[0m\u001b[0mlower\u001b[0m\u001b[0;34m(\u001b[0m\u001b[0;34m)\u001b[0m\u001b[0;34m\u001b[0m\u001b[0m\n",
      "\u001b[0;32m/Users/ababen/anaconda/lib/python3.6/site-packages/sexmachine/mapping.py\u001b[0m in \u001b[0;36mmap_name\u001b[0;34m(u)\u001b[0m\n\u001b[1;32m     73\u001b[0m     \u001b[0;32mfor\u001b[0m \u001b[0mcode\u001b[0m\u001b[0;34m,\u001b[0m \u001b[0mpatterns\u001b[0m \u001b[0;32min\u001b[0m \u001b[0mmappings\u001b[0m\u001b[0;34m:\u001b[0m\u001b[0;34m\u001b[0m\u001b[0m\n\u001b[1;32m     74\u001b[0m         \u001b[0;32mfor\u001b[0m \u001b[0mpattern\u001b[0m \u001b[0;32min\u001b[0m \u001b[0mpatterns\u001b[0m\u001b[0;34m:\u001b[0m\u001b[0;34m\u001b[0m\u001b[0m\n\u001b[0;32m---> 75\u001b[0;31m             \u001b[0mu\u001b[0m \u001b[0;34m=\u001b[0m \u001b[0mu\u001b[0m\u001b[0;34m.\u001b[0m\u001b[0mreplace\u001b[0m\u001b[0;34m(\u001b[0m\u001b[0mpattern\u001b[0m\u001b[0;34m.\u001b[0m\u001b[0mdecode\u001b[0m\u001b[0;34m(\u001b[0m\u001b[0;34m\"utf-8\"\u001b[0m\u001b[0;34m)\u001b[0m\u001b[0;34m,\u001b[0m \u001b[0munichr\u001b[0m\u001b[0;34m(\u001b[0m\u001b[0mcode\u001b[0m\u001b[0;34m)\u001b[0m\u001b[0;34m)\u001b[0m\u001b[0;34m\u001b[0m\u001b[0m\n\u001b[0m\u001b[1;32m     76\u001b[0m     \u001b[0;32mreturn\u001b[0m \u001b[0mu\u001b[0m\u001b[0;34m\u001b[0m\u001b[0m\n",
      "\u001b[0;31mAttributeError\u001b[0m: 'str' object has no attribute 'decode'"
     ]
    }
   ],
   "source": [
    "d = gender.Detector(case_sensitive=False)\n",
    "# gender.Detector.get_gender(u\"Bob\")"
   ]
  },
  {
   "cell_type": "code",
   "execution_count": null,
   "metadata": {
    "collapsed": true
   },
   "outputs": [],
   "source": []
  },
  {
   "cell_type": "code",
   "execution_count": null,
   "metadata": {
    "collapsed": true
   },
   "outputs": [],
   "source": []
  },
  {
   "cell_type": "code",
   "execution_count": null,
   "metadata": {
    "collapsed": true
   },
   "outputs": [],
   "source": []
  },
  {
   "cell_type": "code",
   "execution_count": null,
   "metadata": {
    "collapsed": true
   },
   "outputs": [],
   "source": []
  },
  {
   "cell_type": "code",
   "execution_count": null,
   "metadata": {
    "collapsed": true
   },
   "outputs": [],
   "source": []
  },
  {
   "cell_type": "code",
   "execution_count": null,
   "metadata": {
    "collapsed": true
   },
   "outputs": [],
   "source": []
  },
  {
   "cell_type": "code",
   "execution_count": null,
   "metadata": {
    "collapsed": true
   },
   "outputs": [],
   "source": []
  },
  {
   "cell_type": "code",
   "execution_count": null,
   "metadata": {
    "collapsed": true
   },
   "outputs": [],
   "source": []
  },
  {
   "cell_type": "code",
   "execution_count": null,
   "metadata": {
    "collapsed": true
   },
   "outputs": [],
   "source": []
  },
  {
   "cell_type": "code",
   "execution_count": null,
   "metadata": {
    "collapsed": true
   },
   "outputs": [],
   "source": []
  },
  {
   "cell_type": "code",
   "execution_count": null,
   "metadata": {
    "collapsed": true
   },
   "outputs": [],
   "source": []
  },
  {
   "cell_type": "code",
   "execution_count": null,
   "metadata": {
    "collapsed": true
   },
   "outputs": [],
   "source": []
  },
  {
   "cell_type": "code",
   "execution_count": null,
   "metadata": {
    "collapsed": true
   },
   "outputs": [],
   "source": []
  },
  {
   "cell_type": "code",
   "execution_count": 232,
   "metadata": {
<<<<<<< Updated upstream
    "collapsed": false,
    "deletable": true,
    "editable": true
=======
    "collapsed": true
>>>>>>> Stashed changes
   },
   "outputs": [],
   "source": [
    "### Below I am trying to get unique names into either a single \n",
    "### dataframe to loop into URL or list of names seperated by \";\""
   ]
  },
  {
   "cell_type": "code",
   "execution_count": 233,
   "metadata": {
<<<<<<< Updated upstream
    "collapsed": false,
    "deletable": true,
    "editable": true
=======
    "collapsed": true
>>>>>>> Stashed changes
   },
   "outputs": [],
   "source": [
    "sf_names = sf.groupby('FirstName').size().sort_values(ascending=False)[0:500]\n",
    "sf_names = sf_names.to_frame()\n",
    "### Here I am trying to rename the header so that I can alienate index = 0\n",
    "### sf_names.columns = [\"FirstName\", \"Count\"]"
   ]
  },
  {
   "cell_type": "code",
   "execution_count": 130,
   "metadata": {
    "collapsed": true
   },
   "outputs": [],
   "source": [
    "# Here we will utilize the gender-api.com to obtain the sex from the FirstName column\n",
    "\n",
    "import json\n",
    "from urllib.request import urlopen"
   ]
  },
  {
   "cell_type": "code",
   "execution_count": 110,
   "metadata": {
    "collapsed": true
   },
   "outputs": [],
   "source": [
    "myKey = \"TAwMTNVKfmMTYLWcbU\""
   ]
  },
  {
   "cell_type": "code",
   "execution_count": 147,
   "metadata": {
    "collapsed": true
   },
   "outputs": [],
   "source": [
    "url = \"https://gender-api.com/get?key=\" + myKey + \"&name=SHOU;LOURNA\""
   ]
  },
  {
   "cell_type": "code",
   "execution_count": 148,
   "metadata": {
    "collapsed": true,
    "deletable": true,
    "editable": true
   },
   "outputs": [],
   "source": [
    "response = urlopen(url)"
   ]
  },
  {
   "cell_type": "code",
   "execution_count": 149,
   "metadata": {
<<<<<<< Updated upstream
    "collapsed": false,
    "deletable": true,
    "editable": true
=======
    "collapsed": true
>>>>>>> Stashed changes
   },
   "outputs": [],
   "source": [
    "decoded = response.read().decode('utf-8')"
   ]
  },
  {
   "cell_type": "code",
   "execution_count": 150,
   "metadata": {
<<<<<<< Updated upstream
    "collapsed": false,
    "deletable": true,
    "editable": true
=======
    "collapsed": true
>>>>>>> Stashed changes
   },
   "outputs": [],
   "source": [
    "data = json.loads(decoded)"
   ]
  },
  {
   "cell_type": "code",
   "execution_count": 157,
<<<<<<< Updated upstream
   "metadata": {
    "collapsed": false,
    "deletable": true,
    "editable": true
   },
=======
   "metadata": {},
>>>>>>> Stashed changes
   "outputs": [
    {
     "data": {
      "text/plain": [
       "{'duration': '15ms',\n",
       " 'name': 'shou;lourna',\n",
       " 'result': [{'accuracy': 92,\n",
       "   'gender': 'female',\n",
       "   'name': 'lourna',\n",
       "   'samples': 12},\n",
       "  {'accuracy': 80, 'gender': 'male', 'name': 'shou', 'samples': 203}]}"
      ]
     },
     "execution_count": 157,
     "metadata": {},
     "output_type": "execute_result"
    }
   ],
   "source": [
    "data"
   ]
  },
  {
   "cell_type": "code",
   "execution_count": 153,
   "metadata": {
    "collapsed": true,
    "deletable": true,
    "editable": true
   },
   "outputs": [],
   "source": [
    "import json\n",
    "from pandas.io.json import json_normalize"
   ]
  },
  {
   "cell_type": "code",
   "execution_count": 158,
<<<<<<< Updated upstream
   "metadata": {
    "collapsed": false,
    "deletable": true,
    "editable": true
   },
=======
   "metadata": {},
>>>>>>> Stashed changes
   "outputs": [
    {
     "data": {
      "text/html": [
       "<div>\n",
       "<table border=\"1\" class=\"dataframe\">\n",
       "  <thead>\n",
       "    <tr style=\"text-align: right;\">\n",
       "      <th></th>\n",
       "      <th>accuracy</th>\n",
       "      <th>gender</th>\n",
       "      <th>name</th>\n",
       "      <th>samples</th>\n",
       "    </tr>\n",
       "  </thead>\n",
       "  <tbody>\n",
       "    <tr>\n",
       "      <th>0</th>\n",
       "      <td>92</td>\n",
       "      <td>female</td>\n",
       "      <td>lourna</td>\n",
       "      <td>12</td>\n",
       "    </tr>\n",
       "    <tr>\n",
       "      <th>1</th>\n",
       "      <td>80</td>\n",
       "      <td>male</td>\n",
       "      <td>shou</td>\n",
       "      <td>203</td>\n",
       "    </tr>\n",
       "  </tbody>\n",
       "</table>\n",
       "</div>"
      ],
      "text/plain": [
       "   accuracy  gender    name  samples\n",
       "0        92  female  lourna       12\n",
       "1        80    male    shou      203"
      ]
     },
     "execution_count": 158,
     "metadata": {},
     "output_type": "execute_result"
    }
   ],
   "source": [
    "json_normalize(data, 'result')"
   ]
  },
  {
   "cell_type": "code",
   "execution_count": 123,
<<<<<<< Updated upstream
   "metadata": {
    "collapsed": false,
    "deletable": true,
    "editable": true
   },
=======
   "metadata": {},
>>>>>>> Stashed changes
   "outputs": [
    {
     "name": "stdout",
     "output_type": "stream",
     "text": [
      "Gender: female\n"
     ]
    }
   ],
   "source": [
    "print( \"Gender: \" + data[\"gender\"]); #Gender: male"
   ]
  },
  {
   "cell_type": "markdown",
   "metadata": {
    "deletable": true,
    "editable": true
   },
   "source": [
    "### -----------------------------------------------------------------------------------------------"
   ]
  },
  {
   "cell_type": "code",
   "execution_count": null,
   "metadata": {
    "collapsed": true,
    "deletable": true,
    "editable": true
   },
   "outputs": [],
   "source": []
  },
  {
   "cell_type": "code",
   "execution_count": 39,
   "metadata": {
    "collapsed": true
   },
   "outputs": [],
   "source": [
    "# Can you compare two related quantities?"
   ]
  },
  {
   "cell_type": "code",
   "execution_count": 43,
   "metadata": {
    "collapsed": true
   },
   "outputs": [],
   "source": [
    "# Can you make a scatterplot?"
   ]
  },
  {
   "cell_type": "code",
   "execution_count": 44,
   "metadata": {
    "collapsed": true
   },
   "outputs": [],
   "source": [
    "# Can you make a time-series plot?"
   ]
  },
  {
   "cell_type": "code",
   "execution_count": 45,
   "metadata": {
    "collapsed": true
   },
   "outputs": [],
   "source": [
    "# How have salaries changed over time between different groups of people?"
   ]
  },
  {
   "cell_type": "code",
   "execution_count": 46,
   "metadata": {
    "collapsed": true
   },
   "outputs": [],
   "source": [
    "# How are base pay, overtime pay and benefits allocated between different groups?"
   ]
  },
  {
   "cell_type": "code",
   "execution_count": 47,
   "metadata": {
    "collapsed": true
   },
   "outputs": [],
   "source": [
    "# Can we split the dataset between males and females?"
   ]
  },
  {
   "cell_type": "code",
   "execution_count": 48,
   "metadata": {
    "collapsed": true
   },
   "outputs": [],
   "source": [
    "# Is there any evidene of pay discrimination based on gender in this dataset?"
   ]
  },
  {
   "cell_type": "code",
   "execution_count": 49,
   "metadata": {
    "collapsed": true
   },
   "outputs": [],
   "source": [
    "# How is budget allocated based on different groups and responsibilities?"
   ]
  },
  {
   "cell_type": "code",
   "execution_count": 50,
   "metadata": {
    "collapsed": true
   },
   "outputs": [],
   "source": [
    "# Any 80/20 principals I can identify?"
   ]
  },
  {
   "cell_type": "code",
   "execution_count": 51,
   "metadata": {
    "collapsed": true
   },
   "outputs": [],
   "source": [
    "# Integrate ideas from here:\n",
    "# https://public.tableau.com/profile/lawrence.chernin#!/vizhome/SanFranciscoSalaries/CountsbyTitle"
   ]
  },
  {
   "cell_type": "code",
   "execution_count": null,
   "metadata": {
    "collapsed": true
   },
   "outputs": [],
   "source": []
  },
  {
   "cell_type": "markdown",
   "metadata": {},
   "source": [
    "## Questions to Explore"
   ]
  },
  {
   "cell_type": "code",
   "execution_count": 33,
   "metadata": {
    "collapsed": true
   },
   "outputs": [],
   "source": [
    "# Are there any duplicate names in the dataset?"
   ]
  },
  {
   "cell_type": "code",
   "execution_count": 34,
   "metadata": {
    "collapsed": true
   },
   "outputs": [],
   "source": [
    "# Which employee has been employed three years?"
   ]
  },
  {
   "cell_type": "code",
   "execution_count": 35,
   "metadata": {
    "collapsed": true
   },
   "outputs": [],
   "source": [
    "# What is the correlation between titles and salaries?"
   ]
  }
 ],
 "metadata": {
  "kernelspec": {
   "display_name": "Python 3",
   "language": "python",
   "name": "python3"
  },
  "language_info": {
   "codemirror_mode": {
    "name": "ipython",
    "version": 3
   },
   "file_extension": ".py",
   "mimetype": "text/x-python",
   "name": "python",
   "nbconvert_exporter": "python",
   "pygments_lexer": "ipython3",
   "version": "3.6.1"
  }
 },
 "nbformat": 4,
 "nbformat_minor": 2
}
